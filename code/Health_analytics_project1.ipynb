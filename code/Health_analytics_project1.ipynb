{
 "cells": [
  {
   "cell_type": "code",
   "execution_count": 49,
   "metadata": {},
   "outputs": [],
   "source": [
    "from numpy import linalg as LA\n",
    "import os\n",
    "import pandas as pd\n",
    "import numpy as np\n",
    "from scipy.signal import find_peaks_cwt\n",
    "import pickle\n",
    "from pathlib import Path\n",
    "from scipy.stats import kurtosis, skew\n",
    "from scipy.stats import iqr\n",
    "from pyentrp import entropy as ent\n",
    "from keras.models import Sequential\n",
    "from keras.layers import Dense\n",
    "from keras.layers import LSTM, LSTMCell\n",
    "from keras.layers import Dropout\n",
    "from sklearn import preprocessing\n",
    "from sklearn.model_selection import train_test_split\n",
    "from sklearn.preprocessing import OneHotEncoder\n",
    "from sklearn.metrics import precision_score, recall_score, roc_auc_score\n",
    "from sklearn.linear_model import LogisticRegression\n",
    "from sklearn.metrics import accuracy_score\n",
    "from sklearn.model_selection import KFold\n",
    "from sklearn.preprocessing import normalize\n",
    "import sys\n",
    "from sklearn import metrics\n",
    "from sklearn.tree import DecisionTreeClassifier\n",
    "from sklearn.linear_model import LogisticRegression\n",
    "import matplotlib.pyplot as plt\n",
    "from sklearn.svm import SVC\n",
    "from sklearn.neural_network import MLPClassifier\n",
    "from sklearn.ensemble import RandomForestClassifier\n",
    "from sklearn import preprocessing\n",
    "import matplotlib.pyplot as plt\n",
    "import math\n",
    "from tony_beltramelli_detect_peaks import detect_peaks\n",
    "from keras.models import load_model\n",
    "from keras.callbacks import EarlyStopping\n",
    "import utilities as ut\n",
    "from sklearn.neighbors import KNeighborsClassifier\n",
    "from sklearn import svm\n",
    "\n",
    "%matplotlib inline"
   ]
  },
  {
   "cell_type": "markdown",
   "metadata": {},
   "source": [
    "## Unzip and copy to test folder"
   ]
  },
  {
   "cell_type": "code",
   "execution_count": 39,
   "metadata": {},
   "outputs": [
    {
     "name": "stdout",
     "output_type": "stream",
     "text": [
      "data/Sessions/14442D49F392D1C_Sun_Feb_25_10-51_2018_PST/data/10_android.sensor.linear_acceleration.data.csv.gz\n",
      "data/Sessions/14442D49F392D1C_Sun_Feb_25_10-51_2018_PST/data/10_android.sensor.linear_acceleration.data.csv\n",
      "data/Sessions/14442D49F392D1C_Sun_Feb_25_10-51_2018_PST/data/11_android.sensor.rotation_vector.data.csv.gz\n",
      "data/Sessions/14442D49F392D1C_Sun_Feb_25_10-51_2018_PST/data/11_android.sensor.rotation_vector.data.csv\n",
      "data/Sessions/14442D49F392D1C_Sun_Feb_25_10-51_2018_PST/data/17_android.sensor.significant_motion.data.csv.gz\n",
      "data/Sessions/14442D49F392D1C_Sun_Feb_25_10-51_2018_PST/data/17_android.sensor.significant_motion.data.csv\n",
      "data/Sessions/14442D49F392D1C_Sun_Feb_25_10-51_2018_PST/data/19_android.sensor.step_counter.data.csv.gz\n",
      "data/Sessions/14442D49F392D1C_Sun_Feb_25_10-51_2018_PST/data/19_android.sensor.step_counter.data.csv\n",
      "data/Sessions/14442D49F392D1C_Sun_Feb_25_10-51_2018_PST/data/1_android.sensor.accelerometer.data.csv.gz\n",
      "data/Sessions/14442D49F392D1C_Sun_Feb_25_10-51_2018_PST/data/1_android.sensor.accelerometer.data.csv\n",
      "data/Sessions/14442D49F392D1C_Sun_Feb_25_10-51_2018_PST/data/2_android.sensor.magnetic_field.data.csv.gz\n",
      "data/Sessions/14442D49F392D1C_Sun_Feb_25_10-51_2018_PST/data/2_android.sensor.magnetic_field.data.csv\n",
      "data/Sessions/14442D49F392D1C_Sun_Feb_25_10-51_2018_PST/data/3_android.sensor.orientation.data.csv.gz\n",
      "data/Sessions/14442D49F392D1C_Sun_Feb_25_10-51_2018_PST/data/3_android.sensor.orientation.data.csv\n",
      "data/Sessions/14442D49F392D1C_Sun_Feb_25_10-51_2018_PST/data/4_android.sensor.gyroscope.data.csv.gz\n",
      "data/Sessions/14442D49F392D1C_Sun_Feb_25_10-51_2018_PST/data/4_android.sensor.gyroscope.data.csv\n",
      "data/Sessions/14442D49F392D1C_Sun_Feb_25_10-51_2018_PST/data/5_android.sensor.light.data.csv.gz\n",
      "data/Sessions/14442D49F392D1C_Sun_Feb_25_10-51_2018_PST/data/5_android.sensor.light.data.csv\n",
      "data/Sessions/14442D49F392D1C_Sun_Feb_25_10-51_2018_PST/data/9_android.sensor.gravity.data.csv.gz\n",
      "data/Sessions/14442D49F392D1C_Sun_Feb_25_10-51_2018_PST/data/9_android.sensor.gravity.data.csv\n",
      "data/Sessions/14442D49F392D1C_Sun_Feb_25_11-15_2018_PST/data/10_android.sensor.linear_acceleration.data.csv.gz\n",
      "data/Sessions/14442D49F392D1C_Sun_Feb_25_11-15_2018_PST/data/10_android.sensor.linear_acceleration.data.csv\n",
      "data/Sessions/14442D49F392D1C_Sun_Feb_25_11-15_2018_PST/data/11_android.sensor.rotation_vector.data.csv.gz\n",
      "data/Sessions/14442D49F392D1C_Sun_Feb_25_11-15_2018_PST/data/11_android.sensor.rotation_vector.data.csv\n",
      "data/Sessions/14442D49F392D1C_Sun_Feb_25_11-15_2018_PST/data/19_android.sensor.step_counter.data.csv.gz\n",
      "data/Sessions/14442D49F392D1C_Sun_Feb_25_11-15_2018_PST/data/19_android.sensor.step_counter.data.csv\n",
      "data/Sessions/14442D49F392D1C_Sun_Feb_25_11-15_2018_PST/data/1_android.sensor.accelerometer.data.csv.gz\n",
      "data/Sessions/14442D49F392D1C_Sun_Feb_25_11-15_2018_PST/data/1_android.sensor.accelerometer.data.csv\n",
      "data/Sessions/14442D49F392D1C_Sun_Feb_25_11-15_2018_PST/data/2_android.sensor.magnetic_field.data.csv.gz\n",
      "data/Sessions/14442D49F392D1C_Sun_Feb_25_11-15_2018_PST/data/2_android.sensor.magnetic_field.data.csv\n",
      "data/Sessions/14442D49F392D1C_Sun_Feb_25_11-15_2018_PST/data/3_android.sensor.orientation.data.csv.gz\n",
      "data/Sessions/14442D49F392D1C_Sun_Feb_25_11-15_2018_PST/data/3_android.sensor.orientation.data.csv\n",
      "data/Sessions/14442D49F392D1C_Sun_Feb_25_11-15_2018_PST/data/4_android.sensor.gyroscope.data.csv.gz\n",
      "data/Sessions/14442D49F392D1C_Sun_Feb_25_11-15_2018_PST/data/4_android.sensor.gyroscope.data.csv\n",
      "data/Sessions/14442D49F392D1C_Sun_Feb_25_11-15_2018_PST/data/5_android.sensor.light.data.csv.gz\n",
      "data/Sessions/14442D49F392D1C_Sun_Feb_25_11-15_2018_PST/data/5_android.sensor.light.data.csv\n",
      "data/Sessions/14442D49F392D1C_Sun_Feb_25_11-15_2018_PST/data/9_android.sensor.gravity.data.csv.gz\n",
      "data/Sessions/14442D49F392D1C_Sun_Feb_25_11-15_2018_PST/data/9_android.sensor.gravity.data.csv\n",
      "data/Sessions/14442D49F392D1C_Thu_Feb_15_09-40_2018_PST/data/10_android.sensor.linear_acceleration.data.csv.gz\n",
      "Skipping file, remove  data/Sessions/14442D49F392D1C_Thu_Feb_15_09-40_2018_PST/data/10_android.sensor.linear_acceleration.data.csv.gz\n",
      "data/Sessions/14442D49F392D1C_Thu_Feb_15_09-40_2018_PST/data/11_android.sensor.rotation_vector.data.csv.gz\n",
      "Skipping file, remove  data/Sessions/14442D49F392D1C_Thu_Feb_15_09-40_2018_PST/data/11_android.sensor.rotation_vector.data.csv.gz\n",
      "data/Sessions/14442D49F392D1C_Thu_Feb_15_09-40_2018_PST/data/17_android.sensor.significant_motion.data.csv.gz\n",
      "data/Sessions/14442D49F392D1C_Thu_Feb_15_09-40_2018_PST/data/17_android.sensor.significant_motion.data.csv\n",
      "data/Sessions/14442D49F392D1C_Thu_Feb_15_09-40_2018_PST/data/19_android.sensor.step_counter.data.csv.gz\n",
      "data/Sessions/14442D49F392D1C_Thu_Feb_15_09-40_2018_PST/data/19_android.sensor.step_counter.data.csv\n",
      "data/Sessions/14442D49F392D1C_Thu_Feb_15_09-40_2018_PST/data/1_android.sensor.accelerometer.data.csv.gz\n",
      "Skipping file, remove  data/Sessions/14442D49F392D1C_Thu_Feb_15_09-40_2018_PST/data/1_android.sensor.accelerometer.data.csv.gz\n",
      "data/Sessions/14442D49F392D1C_Thu_Feb_15_09-40_2018_PST/data/2_android.sensor.magnetic_field.data.csv.gz\n",
      "Skipping file, remove  data/Sessions/14442D49F392D1C_Thu_Feb_15_09-40_2018_PST/data/2_android.sensor.magnetic_field.data.csv.gz\n",
      "data/Sessions/14442D49F392D1C_Thu_Feb_15_09-40_2018_PST/data/3_android.sensor.orientation.data.csv.gz\n",
      "Skipping file, remove  data/Sessions/14442D49F392D1C_Thu_Feb_15_09-40_2018_PST/data/3_android.sensor.orientation.data.csv.gz\n",
      "data/Sessions/14442D49F392D1C_Thu_Feb_15_09-40_2018_PST/data/4_android.sensor.gyroscope.data.csv.gz\n",
      "Skipping file, remove  data/Sessions/14442D49F392D1C_Thu_Feb_15_09-40_2018_PST/data/4_android.sensor.gyroscope.data.csv.gz\n",
      "data/Sessions/14442D49F392D1C_Thu_Feb_15_09-40_2018_PST/data/5_android.sensor.light.data.csv.gz\n",
      "Skipping file, remove  data/Sessions/14442D49F392D1C_Thu_Feb_15_09-40_2018_PST/data/5_android.sensor.light.data.csv.gz\n",
      "data/Sessions/14442D49F392D1C_Thu_Feb_15_09-40_2018_PST/data/65539_.data.csv.gz\n",
      "data/Sessions/14442D49F392D1C_Thu_Feb_15_09-40_2018_PST/data/65539_.data.csv\n",
      "data/Sessions/14442D49F392D1C_Thu_Feb_15_09-40_2018_PST/data/9_android.sensor.gravity.data.csv.gz\n",
      "Skipping file, remove  data/Sessions/14442D49F392D1C_Thu_Feb_15_09-40_2018_PST/data/9_android.sensor.gravity.data.csv.gz\n",
      "data/Sessions/14442D49F392D1C_Wed_Feb_14_22-38_2018_PST/data/10_android.sensor.linear_acceleration.data.csv.gz\n",
      "Skipping file, remove  data/Sessions/14442D49F392D1C_Wed_Feb_14_22-38_2018_PST/data/10_android.sensor.linear_acceleration.data.csv.gz\n",
      "data/Sessions/14442D49F392D1C_Wed_Feb_14_22-38_2018_PST/data/11_android.sensor.rotation_vector.data.csv.gz\n",
      "Skipping file, remove  data/Sessions/14442D49F392D1C_Wed_Feb_14_22-38_2018_PST/data/11_android.sensor.rotation_vector.data.csv.gz\n",
      "data/Sessions/14442D49F392D1C_Wed_Feb_14_22-38_2018_PST/data/19_android.sensor.step_counter.data.csv.gz\n",
      "data/Sessions/14442D49F392D1C_Wed_Feb_14_22-38_2018_PST/data/19_android.sensor.step_counter.data.csv\n",
      "data/Sessions/14442D49F392D1C_Wed_Feb_14_22-38_2018_PST/data/1_android.sensor.accelerometer.data.csv.gz\n",
      "Skipping file, remove  data/Sessions/14442D49F392D1C_Wed_Feb_14_22-38_2018_PST/data/1_android.sensor.accelerometer.data.csv.gz\n",
      "data/Sessions/14442D49F392D1C_Wed_Feb_14_22-38_2018_PST/data/2_android.sensor.magnetic_field.data.csv.gz\n",
      "Skipping file, remove  data/Sessions/14442D49F392D1C_Wed_Feb_14_22-38_2018_PST/data/2_android.sensor.magnetic_field.data.csv.gz\n",
      "data/Sessions/14442D49F392D1C_Wed_Feb_14_22-38_2018_PST/data/3_android.sensor.orientation.data.csv.gz\n",
      "Skipping file, remove  data/Sessions/14442D49F392D1C_Wed_Feb_14_22-38_2018_PST/data/3_android.sensor.orientation.data.csv.gz\n",
      "data/Sessions/14442D49F392D1C_Wed_Feb_14_22-38_2018_PST/data/4_android.sensor.gyroscope.data.csv.gz\n",
      "Skipping file, remove  data/Sessions/14442D49F392D1C_Wed_Feb_14_22-38_2018_PST/data/4_android.sensor.gyroscope.data.csv.gz\n",
      "data/Sessions/14442D49F392D1C_Wed_Feb_14_22-38_2018_PST/data/5_android.sensor.light.data.csv.gz\n",
      "data/Sessions/14442D49F392D1C_Wed_Feb_14_22-38_2018_PST/data/5_android.sensor.light.data.csv\n",
      "data/Sessions/14442D49F392D1C_Wed_Feb_14_22-38_2018_PST/data/65539_.data.csv.gz\n",
      "data/Sessions/14442D49F392D1C_Wed_Feb_14_22-38_2018_PST/data/65539_.data.csv\n",
      "data/Sessions/14442D49F392D1C_Wed_Feb_14_22-38_2018_PST/data/9_android.sensor.gravity.data.csv.gz\n",
      "Skipping file, remove  data/Sessions/14442D49F392D1C_Wed_Feb_14_22-38_2018_PST/data/9_android.sensor.gravity.data.csv.gz\n",
      "data/Sessions/14442D49F392D1C_Wed_Feb_14_22-55_2018_PST/data/10_android.sensor.linear_acceleration.data.csv.gz\n",
      "Skipping file, remove  data/Sessions/14442D49F392D1C_Wed_Feb_14_22-55_2018_PST/data/10_android.sensor.linear_acceleration.data.csv.gz\n",
      "data/Sessions/14442D49F392D1C_Wed_Feb_14_22-55_2018_PST/data/11_android.sensor.rotation_vector.data.csv.gz\n"
     ]
    },
    {
     "name": "stdout",
     "output_type": "stream",
     "text": [
      "Skipping file, remove  data/Sessions/14442D49F392D1C_Wed_Feb_14_22-55_2018_PST/data/11_android.sensor.rotation_vector.data.csv.gz\n",
      "data/Sessions/14442D49F392D1C_Wed_Feb_14_22-55_2018_PST/data/17_android.sensor.significant_motion.data.csv.gz\n",
      "data/Sessions/14442D49F392D1C_Wed_Feb_14_22-55_2018_PST/data/17_android.sensor.significant_motion.data.csv\n",
      "data/Sessions/14442D49F392D1C_Wed_Feb_14_22-55_2018_PST/data/19_android.sensor.step_counter.data.csv.gz\n",
      "data/Sessions/14442D49F392D1C_Wed_Feb_14_22-55_2018_PST/data/19_android.sensor.step_counter.data.csv\n",
      "data/Sessions/14442D49F392D1C_Wed_Feb_14_22-55_2018_PST/data/1_android.sensor.accelerometer.data.csv.gz\n",
      "Skipping file, remove  data/Sessions/14442D49F392D1C_Wed_Feb_14_22-55_2018_PST/data/1_android.sensor.accelerometer.data.csv.gz\n",
      "data/Sessions/14442D49F392D1C_Wed_Feb_14_22-55_2018_PST/data/2_android.sensor.magnetic_field.data.csv.gz\n",
      "Skipping file, remove  data/Sessions/14442D49F392D1C_Wed_Feb_14_22-55_2018_PST/data/2_android.sensor.magnetic_field.data.csv.gz\n",
      "data/Sessions/14442D49F392D1C_Wed_Feb_14_22-55_2018_PST/data/3_android.sensor.orientation.data.csv.gz\n",
      "Skipping file, remove  data/Sessions/14442D49F392D1C_Wed_Feb_14_22-55_2018_PST/data/3_android.sensor.orientation.data.csv.gz\n",
      "data/Sessions/14442D49F392D1C_Wed_Feb_14_22-55_2018_PST/data/4_android.sensor.gyroscope.data.csv.gz\n",
      "Skipping file, remove  data/Sessions/14442D49F392D1C_Wed_Feb_14_22-55_2018_PST/data/4_android.sensor.gyroscope.data.csv.gz\n",
      "data/Sessions/14442D49F392D1C_Wed_Feb_14_22-55_2018_PST/data/5_android.sensor.light.data.csv.gz\n",
      "data/Sessions/14442D49F392D1C_Wed_Feb_14_22-55_2018_PST/data/5_android.sensor.light.data.csv\n",
      "data/Sessions/14442D49F392D1C_Wed_Feb_14_22-55_2018_PST/data/65539_.data.csv.gz\n",
      "data/Sessions/14442D49F392D1C_Wed_Feb_14_22-55_2018_PST/data/65539_.data.csv\n",
      "data/Sessions/14442D49F392D1C_Wed_Feb_14_22-55_2018_PST/data/9_android.sensor.gravity.data.csv.gz\n",
      "Skipping file, remove  data/Sessions/14442D49F392D1C_Wed_Feb_14_22-55_2018_PST/data/9_android.sensor.gravity.data.csv.gz\n",
      "data/Sessions/14442D49F392D1C_Wed_Feb_21_10-52_2018_PST/data/10_android.sensor.linear_acceleration.data.csv.gz\n",
      "data/Sessions/14442D49F392D1C_Wed_Feb_21_10-52_2018_PST/data/10_android.sensor.linear_acceleration.data.csv\n",
      "data/Sessions/14442D49F392D1C_Wed_Feb_21_10-52_2018_PST/data/11_android.sensor.rotation_vector.data.csv.gz\n",
      "data/Sessions/14442D49F392D1C_Wed_Feb_21_10-52_2018_PST/data/11_android.sensor.rotation_vector.data.csv\n",
      "data/Sessions/14442D49F392D1C_Wed_Feb_21_10-52_2018_PST/data/19_android.sensor.step_counter.data.csv.gz\n",
      "data/Sessions/14442D49F392D1C_Wed_Feb_21_10-52_2018_PST/data/19_android.sensor.step_counter.data.csv\n",
      "data/Sessions/14442D49F392D1C_Wed_Feb_21_10-52_2018_PST/data/1_android.sensor.accelerometer.data.csv.gz\n",
      "data/Sessions/14442D49F392D1C_Wed_Feb_21_10-52_2018_PST/data/1_android.sensor.accelerometer.data.csv\n",
      "data/Sessions/14442D49F392D1C_Wed_Feb_21_10-52_2018_PST/data/2_android.sensor.magnetic_field.data.csv.gz\n",
      "data/Sessions/14442D49F392D1C_Wed_Feb_21_10-52_2018_PST/data/2_android.sensor.magnetic_field.data.csv\n",
      "data/Sessions/14442D49F392D1C_Wed_Feb_21_10-52_2018_PST/data/3_android.sensor.orientation.data.csv.gz\n",
      "data/Sessions/14442D49F392D1C_Wed_Feb_21_10-52_2018_PST/data/3_android.sensor.orientation.data.csv\n",
      "data/Sessions/14442D49F392D1C_Wed_Feb_21_10-52_2018_PST/data/4_android.sensor.gyroscope.data.csv.gz\n",
      "data/Sessions/14442D49F392D1C_Wed_Feb_21_10-52_2018_PST/data/4_android.sensor.gyroscope.data.csv\n",
      "data/Sessions/14442D49F392D1C_Wed_Feb_21_10-52_2018_PST/data/5_android.sensor.light.data.csv.gz\n",
      "data/Sessions/14442D49F392D1C_Wed_Feb_21_10-52_2018_PST/data/5_android.sensor.light.data.csv\n",
      "data/Sessions/14442D49F392D1C_Wed_Feb_21_10-52_2018_PST/data/65539_.data.csv.gz\n",
      "data/Sessions/14442D49F392D1C_Wed_Feb_21_10-52_2018_PST/data/65539_.data.csv\n",
      "data/Sessions/14442D49F392D1C_Wed_Feb_21_10-52_2018_PST/data/9_android.sensor.gravity.data.csv.gz\n",
      "data/Sessions/14442D49F392D1C_Wed_Feb_21_10-52_2018_PST/data/9_android.sensor.gravity.data.csv\n",
      "data/Sessions/14442D49F392D1C_Wed_Feb_21_15-05_2018_PST/data/10_android.sensor.linear_acceleration.data.csv.gz\n",
      "data/Sessions/14442D49F392D1C_Wed_Feb_21_15-05_2018_PST/data/10_android.sensor.linear_acceleration.data.csv\n",
      "data/Sessions/14442D49F392D1C_Wed_Feb_21_15-05_2018_PST/data/11_android.sensor.rotation_vector.data.csv.gz\n",
      "data/Sessions/14442D49F392D1C_Wed_Feb_21_15-05_2018_PST/data/11_android.sensor.rotation_vector.data.csv\n",
      "data/Sessions/14442D49F392D1C_Wed_Feb_21_15-05_2018_PST/data/19_android.sensor.step_counter.data.csv.gz\n",
      "data/Sessions/14442D49F392D1C_Wed_Feb_21_15-05_2018_PST/data/19_android.sensor.step_counter.data.csv\n",
      "data/Sessions/14442D49F392D1C_Wed_Feb_21_15-05_2018_PST/data/1_android.sensor.accelerometer.data.csv.gz\n",
      "data/Sessions/14442D49F392D1C_Wed_Feb_21_15-05_2018_PST/data/1_android.sensor.accelerometer.data.csv\n",
      "data/Sessions/14442D49F392D1C_Wed_Feb_21_15-05_2018_PST/data/2_android.sensor.magnetic_field.data.csv.gz\n",
      "data/Sessions/14442D49F392D1C_Wed_Feb_21_15-05_2018_PST/data/2_android.sensor.magnetic_field.data.csv\n",
      "data/Sessions/14442D49F392D1C_Wed_Feb_21_15-05_2018_PST/data/3_android.sensor.orientation.data.csv.gz\n",
      "data/Sessions/14442D49F392D1C_Wed_Feb_21_15-05_2018_PST/data/3_android.sensor.orientation.data.csv\n",
      "data/Sessions/14442D49F392D1C_Wed_Feb_21_15-05_2018_PST/data/4_android.sensor.gyroscope.data.csv.gz\n",
      "data/Sessions/14442D49F392D1C_Wed_Feb_21_15-05_2018_PST/data/4_android.sensor.gyroscope.data.csv\n",
      "data/Sessions/14442D49F392D1C_Wed_Feb_21_15-05_2018_PST/data/5_android.sensor.light.data.csv.gz\n",
      "data/Sessions/14442D49F392D1C_Wed_Feb_21_15-05_2018_PST/data/5_android.sensor.light.data.csv\n",
      "data/Sessions/14442D49F392D1C_Wed_Feb_21_15-05_2018_PST/data/65539_.data.csv.gz\n",
      "data/Sessions/14442D49F392D1C_Wed_Feb_21_15-05_2018_PST/data/65539_.data.csv\n",
      "data/Sessions/14442D49F392D1C_Wed_Feb_21_15-05_2018_PST/data/9_android.sensor.gravity.data.csv.gz\n",
      "data/Sessions/14442D49F392D1C_Wed_Feb_21_15-05_2018_PST/data/9_android.sensor.gravity.data.csv\n",
      "data/Sessions/14442D49F392D1C_Wed_Feb_21_18-15_2018_PST/data/10_android.sensor.linear_acceleration.data.csv.gz\n",
      "data/Sessions/14442D49F392D1C_Wed_Feb_21_18-15_2018_PST/data/10_android.sensor.linear_acceleration.data.csv\n",
      "data/Sessions/14442D49F392D1C_Wed_Feb_21_18-15_2018_PST/data/11_android.sensor.rotation_vector.data.csv.gz\n",
      "data/Sessions/14442D49F392D1C_Wed_Feb_21_18-15_2018_PST/data/11_android.sensor.rotation_vector.data.csv\n",
      "data/Sessions/14442D49F392D1C_Wed_Feb_21_18-15_2018_PST/data/19_android.sensor.step_counter.data.csv.gz\n",
      "data/Sessions/14442D49F392D1C_Wed_Feb_21_18-15_2018_PST/data/19_android.sensor.step_counter.data.csv\n",
      "data/Sessions/14442D49F392D1C_Wed_Feb_21_18-15_2018_PST/data/1_android.sensor.accelerometer.data.csv.gz\n",
      "data/Sessions/14442D49F392D1C_Wed_Feb_21_18-15_2018_PST/data/1_android.sensor.accelerometer.data.csv\n",
      "data/Sessions/14442D49F392D1C_Wed_Feb_21_18-15_2018_PST/data/2_android.sensor.magnetic_field.data.csv.gz\n",
      "data/Sessions/14442D49F392D1C_Wed_Feb_21_18-15_2018_PST/data/2_android.sensor.magnetic_field.data.csv\n",
      "data/Sessions/14442D49F392D1C_Wed_Feb_21_18-15_2018_PST/data/3_android.sensor.orientation.data.csv.gz\n",
      "data/Sessions/14442D49F392D1C_Wed_Feb_21_18-15_2018_PST/data/3_android.sensor.orientation.data.csv\n",
      "data/Sessions/14442D49F392D1C_Wed_Feb_21_18-15_2018_PST/data/4_android.sensor.gyroscope.data.csv.gz\n",
      "data/Sessions/14442D49F392D1C_Wed_Feb_21_18-15_2018_PST/data/4_android.sensor.gyroscope.data.csv\n",
      "data/Sessions/14442D49F392D1C_Wed_Feb_21_18-15_2018_PST/data/5_android.sensor.light.data.csv.gz\n",
      "data/Sessions/14442D49F392D1C_Wed_Feb_21_18-15_2018_PST/data/5_android.sensor.light.data.csv\n",
      "data/Sessions/14442D49F392D1C_Wed_Feb_21_18-15_2018_PST/data/65539_.data.csv.gz\n",
      "data/Sessions/14442D49F392D1C_Wed_Feb_21_18-15_2018_PST/data/65539_.data.csv\n",
      "data/Sessions/14442D49F392D1C_Wed_Feb_21_18-15_2018_PST/data/9_android.sensor.gravity.data.csv.gz\n",
      "data/Sessions/14442D49F392D1C_Wed_Feb_21_18-15_2018_PST/data/9_android.sensor.gravity.data.csv\n",
      "data/Sessions/14442D49F392D1C_Wed_Feb_21_21-36_2018_PST/data/10_android.sensor.linear_acceleration.data.csv.gz\n",
      "data/Sessions/14442D49F392D1C_Wed_Feb_21_21-36_2018_PST/data/10_android.sensor.linear_acceleration.data.csv\n",
      "data/Sessions/14442D49F392D1C_Wed_Feb_21_21-36_2018_PST/data/11_android.sensor.rotation_vector.data.csv.gz\n",
      "data/Sessions/14442D49F392D1C_Wed_Feb_21_21-36_2018_PST/data/11_android.sensor.rotation_vector.data.csv\n"
     ]
    },
    {
     "name": "stdout",
     "output_type": "stream",
     "text": [
      "data/Sessions/14442D49F392D1C_Wed_Feb_21_21-36_2018_PST/data/19_android.sensor.step_counter.data.csv.gz\n",
      "data/Sessions/14442D49F392D1C_Wed_Feb_21_21-36_2018_PST/data/19_android.sensor.step_counter.data.csv\n",
      "data/Sessions/14442D49F392D1C_Wed_Feb_21_21-36_2018_PST/data/1_android.sensor.accelerometer.data.csv.gz\n",
      "data/Sessions/14442D49F392D1C_Wed_Feb_21_21-36_2018_PST/data/1_android.sensor.accelerometer.data.csv\n",
      "data/Sessions/14442D49F392D1C_Wed_Feb_21_21-36_2018_PST/data/2_android.sensor.magnetic_field.data.csv.gz\n",
      "data/Sessions/14442D49F392D1C_Wed_Feb_21_21-36_2018_PST/data/2_android.sensor.magnetic_field.data.csv\n",
      "data/Sessions/14442D49F392D1C_Wed_Feb_21_21-36_2018_PST/data/3_android.sensor.orientation.data.csv.gz\n",
      "data/Sessions/14442D49F392D1C_Wed_Feb_21_21-36_2018_PST/data/3_android.sensor.orientation.data.csv\n",
      "data/Sessions/14442D49F392D1C_Wed_Feb_21_21-36_2018_PST/data/4_android.sensor.gyroscope.data.csv.gz\n",
      "data/Sessions/14442D49F392D1C_Wed_Feb_21_21-36_2018_PST/data/4_android.sensor.gyroscope.data.csv\n",
      "data/Sessions/14442D49F392D1C_Wed_Feb_21_21-36_2018_PST/data/5_android.sensor.light.data.csv.gz\n",
      "data/Sessions/14442D49F392D1C_Wed_Feb_21_21-36_2018_PST/data/5_android.sensor.light.data.csv\n",
      "data/Sessions/14442D49F392D1C_Wed_Feb_21_21-36_2018_PST/data/65539_.data.csv.gz\n",
      "data/Sessions/14442D49F392D1C_Wed_Feb_21_21-36_2018_PST/data/65539_.data.csv\n",
      "data/Sessions/14442D49F392D1C_Wed_Feb_21_21-36_2018_PST/data/9_android.sensor.gravity.data.csv.gz\n",
      "data/Sessions/14442D49F392D1C_Wed_Feb_21_21-36_2018_PST/data/9_android.sensor.gravity.data.csv\n",
      "10_android.sensor.linear_acceleration.attr.csv\n",
      "11_android.sensor.rotation_vector.attr.csv\n",
      "17_android.sensor.significant_motion.attr.csv\n",
      "18_android.sensor.step_detector.attr.csv\n",
      "19_android.sensor.step_counter.attr.csv\n",
      "1_android.sensor.accelerometer.attr.csv\n",
      "26_android.sensor.wrist_tilt_gesture.attr.csv\n",
      "2_android.sensor.magnetic_field.attr.csv\n",
      "3_android.sensor.orientation.attr.csv\n",
      "4_android.sensor.gyroscope.attr.csv\n",
      "5_android.sensor.light.attr.csv\n",
      "65539_.attr.csv\n",
      "9_android.sensor.gravity.attr.csv\n",
      "10_android.sensor.linear_acceleration.data.csv\n",
      "11_android.sensor.rotation_vector.data.csv\n",
      "19_android.sensor.step_counter.data.csv\n",
      "1_android.sensor.accelerometer.data.csv\n",
      "data/Sessions/14442D49F392D1C_Sun_Feb_25_10-33_2018_PST/data/1_android.sensor.accelerometer.data.csv\n",
      "test4//0_1_android.sensor.accelerometer.data.csv\n",
      "2_android.sensor.magnetic_field.data.csv\n",
      "3_android.sensor.orientation.data.csv\n",
      "4_android.sensor.gyroscope.data.csv\n",
      "5_android.sensor.light.data.csv\n",
      "65539_.data.csv\n",
      "9_android.sensor.gravity.data.csv\n",
      "10_android.sensor.linear_acceleration.attr.csv\n",
      "11_android.sensor.rotation_vector.attr.csv\n",
      "17_android.sensor.significant_motion.attr.csv\n",
      "18_android.sensor.step_detector.attr.csv\n",
      "19_android.sensor.step_counter.attr.csv\n",
      "1_android.sensor.accelerometer.attr.csv\n",
      "26_android.sensor.wrist_tilt_gesture.attr.csv\n",
      "2_android.sensor.magnetic_field.attr.csv\n",
      "3_android.sensor.orientation.attr.csv\n",
      "4_android.sensor.gyroscope.attr.csv\n",
      "5_android.sensor.light.attr.csv\n",
      "65539_.attr.csv\n",
      "9_android.sensor.gravity.attr.csv\n",
      "10_android.sensor.linear_acceleration.data.csv\n",
      "11_android.sensor.rotation_vector.data.csv\n",
      "17_android.sensor.significant_motion.data.csv\n",
      "19_android.sensor.step_counter.data.csv\n",
      "1_android.sensor.accelerometer.data.csv\n",
      "data/Sessions/14442D49F392D1C_Sun_Feb_25_10-51_2018_PST/data/1_android.sensor.accelerometer.data.csv\n",
      "test4//1_1_android.sensor.accelerometer.data.csv\n",
      "2_android.sensor.magnetic_field.data.csv\n",
      "3_android.sensor.orientation.data.csv\n",
      "4_android.sensor.gyroscope.data.csv\n",
      "5_android.sensor.light.data.csv\n",
      "9_android.sensor.gravity.data.csv\n",
      "10_android.sensor.linear_acceleration.attr.csv\n",
      "11_android.sensor.rotation_vector.attr.csv\n",
      "17_android.sensor.significant_motion.attr.csv\n",
      "18_android.sensor.step_detector.attr.csv\n",
      "19_android.sensor.step_counter.attr.csv\n",
      "1_android.sensor.accelerometer.attr.csv\n",
      "26_android.sensor.wrist_tilt_gesture.attr.csv\n",
      "2_android.sensor.magnetic_field.attr.csv\n",
      "3_android.sensor.orientation.attr.csv\n",
      "4_android.sensor.gyroscope.attr.csv\n",
      "5_android.sensor.light.attr.csv\n",
      "65539_.attr.csv\n",
      "9_android.sensor.gravity.attr.csv\n",
      "10_android.sensor.linear_acceleration.data.csv\n",
      "11_android.sensor.rotation_vector.data.csv\n",
      "19_android.sensor.step_counter.data.csv\n",
      "1_android.sensor.accelerometer.data.csv\n",
      "data/Sessions/14442D49F392D1C_Sun_Feb_25_11-15_2018_PST/data/1_android.sensor.accelerometer.data.csv\n",
      "test4//2_1_android.sensor.accelerometer.data.csv\n",
      "2_android.sensor.magnetic_field.data.csv\n",
      "3_android.sensor.orientation.data.csv\n",
      "4_android.sensor.gyroscope.data.csv\n",
      "5_android.sensor.light.data.csv\n",
      "9_android.sensor.gravity.data.csv\n",
      "10_android.sensor.linear_acceleration.attr.csv\n",
      "11_android.sensor.rotation_vector.attr.csv\n",
      "17_android.sensor.significant_motion.attr.csv\n",
      "18_android.sensor.step_detector.attr.csv\n",
      "19_android.sensor.step_counter.attr.csv\n",
      "1_android.sensor.accelerometer.attr.csv\n",
      "26_android.sensor.wrist_tilt_gesture.attr.csv\n",
      "2_android.sensor.magnetic_field.attr.csv\n",
      "3_android.sensor.orientation.attr.csv\n",
      "4_android.sensor.gyroscope.attr.csv\n",
      "5_android.sensor.light.attr.csv\n",
      "65539_.attr.csv\n",
      "9_android.sensor.gravity.attr.csv\n",
      "10_android.sensor.linear_acceleration.data.csv.gz\n",
      "11_android.sensor.rotation_vector.data.csv.gz\n",
      "17_android.sensor.significant_motion.data.csv\n",
      "19_android.sensor.step_counter.data.csv\n",
      "1_android.sensor.accelerometer.data.csv.gz\n",
      "2_android.sensor.magnetic_field.data.csv.gz\n",
      "3_android.sensor.orientation.data.csv.gz\n",
      "4_android.sensor.gyroscope.data.csv.gz\n",
      "5_android.sensor.light.data.csv.gz\n",
      "65539_.data.csv\n",
      "9_android.sensor.gravity.data.csv.gz\n",
      "10_android.sensor.linear_acceleration.attr.csv\n",
      "11_android.sensor.rotation_vector.attr.csv\n",
      "18_android.sensor.step_detector.attr.csv\n",
      "19_android.sensor.step_counter.attr.csv\n",
      "1_android.sensor.accelerometer.attr.csv\n",
      "26_android.sensor.wrist_tilt_gesture.attr.csv\n",
      "2_android.sensor.magnetic_field.attr.csv\n",
      "3_android.sensor.orientation.attr.csv\n",
      "4_android.sensor.gyroscope.attr.csv\n",
      "5_android.sensor.light.attr.csv\n",
      "65539_.attr.csv\n",
      "9_android.sensor.gravity.attr.csv\n",
      "10_android.sensor.linear_acceleration.data.csv.gz\n",
      "11_android.sensor.rotation_vector.data.csv.gz\n",
      "19_android.sensor.step_counter.data.csv\n",
      "1_android.sensor.accelerometer.data.csv.gz\n",
      "2_android.sensor.magnetic_field.data.csv.gz\n",
      "3_android.sensor.orientation.data.csv.gz\n",
      "4_android.sensor.gyroscope.data.csv.gz\n",
      "5_android.sensor.light.data.csv\n",
      "65539_.data.csv\n",
      "9_android.sensor.gravity.data.csv.gz\n",
      "10_android.sensor.linear_acceleration.attr.csv\n",
      "11_android.sensor.rotation_vector.attr.csv\n",
      "17_android.sensor.significant_motion.attr.csv\n",
      "18_android.sensor.step_detector.attr.csv\n",
      "19_android.sensor.step_counter.attr.csv\n",
      "1_android.sensor.accelerometer.attr.csv\n",
      "26_android.sensor.wrist_tilt_gesture.attr.csv\n",
      "2_android.sensor.magnetic_field.attr.csv\n",
      "3_android.sensor.orientation.attr.csv\n",
      "4_android.sensor.gyroscope.attr.csv\n",
      "5_android.sensor.light.attr.csv\n",
      "65539_.attr.csv\n",
      "9_android.sensor.gravity.attr.csv\n",
      "10_android.sensor.linear_acceleration.data.csv.gz\n",
      "11_android.sensor.rotation_vector.data.csv.gz\n",
      "17_android.sensor.significant_motion.data.csv\n",
      "19_android.sensor.step_counter.data.csv\n",
      "1_android.sensor.accelerometer.data.csv.gz\n",
      "2_android.sensor.magnetic_field.data.csv.gz\n",
      "3_android.sensor.orientation.data.csv.gz\n",
      "4_android.sensor.gyroscope.data.csv.gz\n",
      "5_android.sensor.light.data.csv\n",
      "65539_.data.csv\n",
      "9_android.sensor.gravity.data.csv.gz\n",
      "10_android.sensor.linear_acceleration.attr.csv\n",
      "11_android.sensor.rotation_vector.attr.csv\n",
      "17_android.sensor.significant_motion.attr.csv\n",
      "18_android.sensor.step_detector.attr.csv\n",
      "19_android.sensor.step_counter.attr.csv\n",
      "1_android.sensor.accelerometer.attr.csv\n",
      "26_android.sensor.wrist_tilt_gesture.attr.csv\n",
      "2_android.sensor.magnetic_field.attr.csv\n",
      "3_android.sensor.orientation.attr.csv\n",
      "4_android.sensor.gyroscope.attr.csv\n",
      "5_android.sensor.light.attr.csv\n",
      "65539_.attr.csv\n",
      "9_android.sensor.gravity.attr.csv\n",
      "10_android.sensor.linear_acceleration.data.csv\n",
      "11_android.sensor.rotation_vector.data.csv\n",
      "19_android.sensor.step_counter.data.csv\n",
      "1_android.sensor.accelerometer.data.csv\n",
      "data/Sessions/14442D49F392D1C_Wed_Feb_21_10-52_2018_PST/data/1_android.sensor.accelerometer.data.csv\n",
      "test4//3_1_android.sensor.accelerometer.data.csv\n",
      "2_android.sensor.magnetic_field.data.csv\n",
      "3_android.sensor.orientation.data.csv\n",
      "4_android.sensor.gyroscope.data.csv\n",
      "5_android.sensor.light.data.csv\n",
      "65539_.data.csv\n",
      "9_android.sensor.gravity.data.csv\n",
      "10_android.sensor.linear_acceleration.attr.csv\n",
      "11_android.sensor.rotation_vector.attr.csv\n",
      "17_android.sensor.significant_motion.attr.csv\n",
      "18_android.sensor.step_detector.attr.csv\n",
      "19_android.sensor.step_counter.attr.csv\n",
      "1_android.sensor.accelerometer.attr.csv\n",
      "26_android.sensor.wrist_tilt_gesture.attr.csv\n",
      "2_android.sensor.magnetic_field.attr.csv\n",
      "3_android.sensor.orientation.attr.csv\n",
      "4_android.sensor.gyroscope.attr.csv\n",
      "5_android.sensor.light.attr.csv\n",
      "65539_.attr.csv\n",
      "9_android.sensor.gravity.attr.csv\n",
      "10_android.sensor.linear_acceleration.data.csv\n",
      "11_android.sensor.rotation_vector.data.csv\n",
      "19_android.sensor.step_counter.data.csv\n",
      "1_android.sensor.accelerometer.data.csv\n",
      "data/Sessions/14442D49F392D1C_Wed_Feb_21_15-05_2018_PST/data/1_android.sensor.accelerometer.data.csv\n",
      "test4//4_1_android.sensor.accelerometer.data.csv\n",
      "2_android.sensor.magnetic_field.data.csv\n",
      "3_android.sensor.orientation.data.csv\n",
      "4_android.sensor.gyroscope.data.csv\n",
      "5_android.sensor.light.data.csv\n",
      "65539_.data.csv\n",
      "9_android.sensor.gravity.data.csv\n",
      "10_android.sensor.linear_acceleration.attr.csv\n",
      "11_android.sensor.rotation_vector.attr.csv\n",
      "17_android.sensor.significant_motion.attr.csv\n",
      "18_android.sensor.step_detector.attr.csv\n",
      "19_android.sensor.step_counter.attr.csv\n",
      "1_android.sensor.accelerometer.attr.csv\n",
      "26_android.sensor.wrist_tilt_gesture.attr.csv\n",
      "2_android.sensor.magnetic_field.attr.csv\n",
      "3_android.sensor.orientation.attr.csv\n",
      "4_android.sensor.gyroscope.attr.csv\n",
      "5_android.sensor.light.attr.csv\n",
      "65539_.attr.csv\n",
      "9_android.sensor.gravity.attr.csv\n",
      "10_android.sensor.linear_acceleration.data.csv\n",
      "11_android.sensor.rotation_vector.data.csv\n",
      "19_android.sensor.step_counter.data.csv\n",
      "1_android.sensor.accelerometer.data.csv\n",
      "data/Sessions/14442D49F392D1C_Wed_Feb_21_18-15_2018_PST/data/1_android.sensor.accelerometer.data.csv\n",
      "test4//5_1_android.sensor.accelerometer.data.csv\n",
      "2_android.sensor.magnetic_field.data.csv\n",
      "3_android.sensor.orientation.data.csv\n",
      "4_android.sensor.gyroscope.data.csv\n",
      "5_android.sensor.light.data.csv\n",
      "65539_.data.csv\n",
      "9_android.sensor.gravity.data.csv\n",
      "10_android.sensor.linear_acceleration.attr.csv\n",
      "11_android.sensor.rotation_vector.attr.csv\n",
      "17_android.sensor.significant_motion.attr.csv\n",
      "18_android.sensor.step_detector.attr.csv\n",
      "19_android.sensor.step_counter.attr.csv\n",
      "1_android.sensor.accelerometer.attr.csv\n",
      "26_android.sensor.wrist_tilt_gesture.attr.csv\n",
      "2_android.sensor.magnetic_field.attr.csv\n",
      "3_android.sensor.orientation.attr.csv\n",
      "4_android.sensor.gyroscope.attr.csv\n",
      "5_android.sensor.light.attr.csv\n",
      "65539_.attr.csv\n",
      "9_android.sensor.gravity.attr.csv\n",
      "10_android.sensor.linear_acceleration.data.csv\n",
      "11_android.sensor.rotation_vector.data.csv\n",
      "19_android.sensor.step_counter.data.csv\n",
      "1_android.sensor.accelerometer.data.csv\n",
      "data/Sessions/14442D49F392D1C_Wed_Feb_21_21-36_2018_PST/data/1_android.sensor.accelerometer.data.csv\n",
      "test4//6_1_android.sensor.accelerometer.data.csv\n",
      "2_android.sensor.magnetic_field.data.csv\n",
      "3_android.sensor.orientation.data.csv\n",
      "4_android.sensor.gyroscope.data.csv\n",
      "5_android.sensor.light.data.csv\n",
      "65539_.data.csv\n",
      "9_android.sensor.gravity.data.csv\n",
      "10_android.sensor.linear_acceleration.attr.csv\n",
      "11_android.sensor.rotation_vector.attr.csv\n",
      "17_android.sensor.significant_motion.attr.csv\n",
      "18_android.sensor.step_detector.attr.csv\n",
      "19_android.sensor.step_counter.attr.csv\n",
      "1_android.sensor.accelerometer.attr.csv\n",
      "26_android.sensor.wrist_tilt_gesture.attr.csv\n",
      "2_android.sensor.magnetic_field.attr.csv\n",
      "3_android.sensor.orientation.attr.csv\n",
      "4_android.sensor.gyroscope.attr.csv\n",
      "5_android.sensor.light.attr.csv\n",
      "65539_.attr.csv\n",
      "9_android.sensor.gravity.attr.csv\n",
      "10_android.sensor.linear_acceleration.data.csv\n",
      "11_android.sensor.rotation_vector.data.csv\n",
      "19_android.sensor.step_counter.data.csv\n",
      "1_android.sensor.accelerometer.data.csv\n",
      "2_android.sensor.magnetic_field.data.csv\n",
      "3_android.sensor.orientation.data.csv\n",
      "4_android.sensor.gyroscope.data.csv\n",
      "data/Sessions/14442D49F392D1C_Sun_Feb_25_10-33_2018_PST/data/4_android.sensor.gyroscope.data.csv\n",
      "test4//0_4_android.sensor.gyroscope.data.csv\n"
     ]
    },
    {
     "name": "stdout",
     "output_type": "stream",
     "text": [
      "5_android.sensor.light.data.csv\n",
      "65539_.data.csv\n",
      "9_android.sensor.gravity.data.csv\n",
      "10_android.sensor.linear_acceleration.attr.csv\n",
      "11_android.sensor.rotation_vector.attr.csv\n",
      "17_android.sensor.significant_motion.attr.csv\n",
      "18_android.sensor.step_detector.attr.csv\n",
      "19_android.sensor.step_counter.attr.csv\n",
      "1_android.sensor.accelerometer.attr.csv\n",
      "26_android.sensor.wrist_tilt_gesture.attr.csv\n",
      "2_android.sensor.magnetic_field.attr.csv\n",
      "3_android.sensor.orientation.attr.csv\n",
      "4_android.sensor.gyroscope.attr.csv\n",
      "5_android.sensor.light.attr.csv\n",
      "65539_.attr.csv\n",
      "9_android.sensor.gravity.attr.csv\n",
      "10_android.sensor.linear_acceleration.data.csv\n",
      "11_android.sensor.rotation_vector.data.csv\n",
      "17_android.sensor.significant_motion.data.csv\n",
      "19_android.sensor.step_counter.data.csv\n",
      "1_android.sensor.accelerometer.data.csv\n",
      "2_android.sensor.magnetic_field.data.csv\n",
      "3_android.sensor.orientation.data.csv\n",
      "4_android.sensor.gyroscope.data.csv\n",
      "data/Sessions/14442D49F392D1C_Sun_Feb_25_10-51_2018_PST/data/4_android.sensor.gyroscope.data.csv\n",
      "test4//1_4_android.sensor.gyroscope.data.csv\n",
      "5_android.sensor.light.data.csv\n",
      "9_android.sensor.gravity.data.csv\n",
      "10_android.sensor.linear_acceleration.attr.csv\n",
      "11_android.sensor.rotation_vector.attr.csv\n",
      "17_android.sensor.significant_motion.attr.csv\n",
      "18_android.sensor.step_detector.attr.csv\n",
      "19_android.sensor.step_counter.attr.csv\n",
      "1_android.sensor.accelerometer.attr.csv\n",
      "26_android.sensor.wrist_tilt_gesture.attr.csv\n",
      "2_android.sensor.magnetic_field.attr.csv\n",
      "3_android.sensor.orientation.attr.csv\n",
      "4_android.sensor.gyroscope.attr.csv\n",
      "5_android.sensor.light.attr.csv\n",
      "65539_.attr.csv\n",
      "9_android.sensor.gravity.attr.csv\n",
      "10_android.sensor.linear_acceleration.data.csv\n",
      "11_android.sensor.rotation_vector.data.csv\n",
      "19_android.sensor.step_counter.data.csv\n",
      "1_android.sensor.accelerometer.data.csv\n",
      "2_android.sensor.magnetic_field.data.csv\n",
      "3_android.sensor.orientation.data.csv\n",
      "4_android.sensor.gyroscope.data.csv\n",
      "data/Sessions/14442D49F392D1C_Sun_Feb_25_11-15_2018_PST/data/4_android.sensor.gyroscope.data.csv\n",
      "test4//2_4_android.sensor.gyroscope.data.csv\n",
      "5_android.sensor.light.data.csv\n",
      "9_android.sensor.gravity.data.csv\n",
      "10_android.sensor.linear_acceleration.attr.csv\n",
      "11_android.sensor.rotation_vector.attr.csv\n",
      "17_android.sensor.significant_motion.attr.csv\n",
      "18_android.sensor.step_detector.attr.csv\n",
      "19_android.sensor.step_counter.attr.csv\n",
      "1_android.sensor.accelerometer.attr.csv\n",
      "26_android.sensor.wrist_tilt_gesture.attr.csv\n",
      "2_android.sensor.magnetic_field.attr.csv\n",
      "3_android.sensor.orientation.attr.csv\n",
      "4_android.sensor.gyroscope.attr.csv\n",
      "5_android.sensor.light.attr.csv\n",
      "65539_.attr.csv\n",
      "9_android.sensor.gravity.attr.csv\n",
      "10_android.sensor.linear_acceleration.data.csv.gz\n",
      "11_android.sensor.rotation_vector.data.csv.gz\n",
      "17_android.sensor.significant_motion.data.csv\n",
      "19_android.sensor.step_counter.data.csv\n",
      "1_android.sensor.accelerometer.data.csv.gz\n",
      "2_android.sensor.magnetic_field.data.csv.gz\n",
      "3_android.sensor.orientation.data.csv.gz\n",
      "4_android.sensor.gyroscope.data.csv.gz\n",
      "5_android.sensor.light.data.csv.gz\n",
      "65539_.data.csv\n",
      "9_android.sensor.gravity.data.csv.gz\n",
      "10_android.sensor.linear_acceleration.attr.csv\n",
      "11_android.sensor.rotation_vector.attr.csv\n",
      "18_android.sensor.step_detector.attr.csv\n",
      "19_android.sensor.step_counter.attr.csv\n",
      "1_android.sensor.accelerometer.attr.csv\n",
      "26_android.sensor.wrist_tilt_gesture.attr.csv\n",
      "2_android.sensor.magnetic_field.attr.csv\n",
      "3_android.sensor.orientation.attr.csv\n",
      "4_android.sensor.gyroscope.attr.csv\n",
      "5_android.sensor.light.attr.csv\n",
      "65539_.attr.csv\n",
      "9_android.sensor.gravity.attr.csv\n",
      "10_android.sensor.linear_acceleration.data.csv.gz\n",
      "11_android.sensor.rotation_vector.data.csv.gz\n",
      "19_android.sensor.step_counter.data.csv\n",
      "1_android.sensor.accelerometer.data.csv.gz\n",
      "2_android.sensor.magnetic_field.data.csv.gz\n",
      "3_android.sensor.orientation.data.csv.gz\n",
      "4_android.sensor.gyroscope.data.csv.gz\n",
      "5_android.sensor.light.data.csv\n",
      "65539_.data.csv\n",
      "9_android.sensor.gravity.data.csv.gz\n",
      "10_android.sensor.linear_acceleration.attr.csv\n",
      "11_android.sensor.rotation_vector.attr.csv\n",
      "17_android.sensor.significant_motion.attr.csv\n",
      "18_android.sensor.step_detector.attr.csv\n",
      "19_android.sensor.step_counter.attr.csv\n",
      "1_android.sensor.accelerometer.attr.csv\n",
      "26_android.sensor.wrist_tilt_gesture.attr.csv\n",
      "2_android.sensor.magnetic_field.attr.csv\n",
      "3_android.sensor.orientation.attr.csv\n",
      "4_android.sensor.gyroscope.attr.csv\n",
      "5_android.sensor.light.attr.csv\n",
      "65539_.attr.csv\n",
      "9_android.sensor.gravity.attr.csv\n",
      "10_android.sensor.linear_acceleration.data.csv.gz\n",
      "11_android.sensor.rotation_vector.data.csv.gz\n",
      "17_android.sensor.significant_motion.data.csv\n",
      "19_android.sensor.step_counter.data.csv\n",
      "1_android.sensor.accelerometer.data.csv.gz\n",
      "2_android.sensor.magnetic_field.data.csv.gz\n",
      "3_android.sensor.orientation.data.csv.gz\n",
      "4_android.sensor.gyroscope.data.csv.gz\n",
      "5_android.sensor.light.data.csv\n",
      "65539_.data.csv\n",
      "9_android.sensor.gravity.data.csv.gz\n",
      "10_android.sensor.linear_acceleration.attr.csv\n",
      "11_android.sensor.rotation_vector.attr.csv\n",
      "17_android.sensor.significant_motion.attr.csv\n",
      "18_android.sensor.step_detector.attr.csv\n",
      "19_android.sensor.step_counter.attr.csv\n",
      "1_android.sensor.accelerometer.attr.csv\n",
      "26_android.sensor.wrist_tilt_gesture.attr.csv\n",
      "2_android.sensor.magnetic_field.attr.csv\n",
      "3_android.sensor.orientation.attr.csv\n",
      "4_android.sensor.gyroscope.attr.csv\n",
      "5_android.sensor.light.attr.csv\n",
      "65539_.attr.csv\n",
      "9_android.sensor.gravity.attr.csv\n",
      "10_android.sensor.linear_acceleration.data.csv\n",
      "11_android.sensor.rotation_vector.data.csv\n",
      "19_android.sensor.step_counter.data.csv\n",
      "1_android.sensor.accelerometer.data.csv\n",
      "2_android.sensor.magnetic_field.data.csv\n",
      "3_android.sensor.orientation.data.csv\n",
      "4_android.sensor.gyroscope.data.csv\n",
      "data/Sessions/14442D49F392D1C_Wed_Feb_21_10-52_2018_PST/data/4_android.sensor.gyroscope.data.csv\n",
      "test4//3_4_android.sensor.gyroscope.data.csv\n",
      "5_android.sensor.light.data.csv\n",
      "65539_.data.csv\n",
      "9_android.sensor.gravity.data.csv\n",
      "10_android.sensor.linear_acceleration.attr.csv\n",
      "11_android.sensor.rotation_vector.attr.csv\n",
      "17_android.sensor.significant_motion.attr.csv\n",
      "18_android.sensor.step_detector.attr.csv\n",
      "19_android.sensor.step_counter.attr.csv\n",
      "1_android.sensor.accelerometer.attr.csv\n",
      "26_android.sensor.wrist_tilt_gesture.attr.csv\n",
      "2_android.sensor.magnetic_field.attr.csv\n",
      "3_android.sensor.orientation.attr.csv\n",
      "4_android.sensor.gyroscope.attr.csv\n",
      "5_android.sensor.light.attr.csv\n",
      "65539_.attr.csv\n",
      "9_android.sensor.gravity.attr.csv\n",
      "10_android.sensor.linear_acceleration.data.csv\n",
      "11_android.sensor.rotation_vector.data.csv\n",
      "19_android.sensor.step_counter.data.csv\n",
      "1_android.sensor.accelerometer.data.csv\n",
      "2_android.sensor.magnetic_field.data.csv\n",
      "3_android.sensor.orientation.data.csv\n",
      "4_android.sensor.gyroscope.data.csv\n",
      "data/Sessions/14442D49F392D1C_Wed_Feb_21_15-05_2018_PST/data/4_android.sensor.gyroscope.data.csv\n",
      "test4//4_4_android.sensor.gyroscope.data.csv\n",
      "5_android.sensor.light.data.csv\n",
      "65539_.data.csv\n",
      "9_android.sensor.gravity.data.csv\n",
      "10_android.sensor.linear_acceleration.attr.csv\n",
      "11_android.sensor.rotation_vector.attr.csv\n",
      "17_android.sensor.significant_motion.attr.csv\n",
      "18_android.sensor.step_detector.attr.csv\n",
      "19_android.sensor.step_counter.attr.csv\n",
      "1_android.sensor.accelerometer.attr.csv\n",
      "26_android.sensor.wrist_tilt_gesture.attr.csv\n",
      "2_android.sensor.magnetic_field.attr.csv\n",
      "3_android.sensor.orientation.attr.csv\n",
      "4_android.sensor.gyroscope.attr.csv\n",
      "5_android.sensor.light.attr.csv\n",
      "65539_.attr.csv\n",
      "9_android.sensor.gravity.attr.csv\n",
      "10_android.sensor.linear_acceleration.data.csv\n",
      "11_android.sensor.rotation_vector.data.csv\n",
      "19_android.sensor.step_counter.data.csv\n",
      "1_android.sensor.accelerometer.data.csv\n",
      "2_android.sensor.magnetic_field.data.csv\n",
      "3_android.sensor.orientation.data.csv\n",
      "4_android.sensor.gyroscope.data.csv\n",
      "data/Sessions/14442D49F392D1C_Wed_Feb_21_18-15_2018_PST/data/4_android.sensor.gyroscope.data.csv\n",
      "test4//5_4_android.sensor.gyroscope.data.csv\n",
      "5_android.sensor.light.data.csv\n",
      "65539_.data.csv\n",
      "9_android.sensor.gravity.data.csv\n",
      "10_android.sensor.linear_acceleration.attr.csv\n",
      "11_android.sensor.rotation_vector.attr.csv\n",
      "17_android.sensor.significant_motion.attr.csv\n",
      "18_android.sensor.step_detector.attr.csv\n",
      "19_android.sensor.step_counter.attr.csv\n",
      "1_android.sensor.accelerometer.attr.csv\n",
      "26_android.sensor.wrist_tilt_gesture.attr.csv\n",
      "2_android.sensor.magnetic_field.attr.csv\n",
      "3_android.sensor.orientation.attr.csv\n",
      "4_android.sensor.gyroscope.attr.csv\n",
      "5_android.sensor.light.attr.csv\n",
      "65539_.attr.csv\n",
      "9_android.sensor.gravity.attr.csv\n",
      "10_android.sensor.linear_acceleration.data.csv\n",
      "11_android.sensor.rotation_vector.data.csv\n",
      "19_android.sensor.step_counter.data.csv\n",
      "1_android.sensor.accelerometer.data.csv\n",
      "2_android.sensor.magnetic_field.data.csv\n",
      "3_android.sensor.orientation.data.csv\n",
      "4_android.sensor.gyroscope.data.csv\n",
      "data/Sessions/14442D49F392D1C_Wed_Feb_21_21-36_2018_PST/data/4_android.sensor.gyroscope.data.csv\n",
      "test4//6_4_android.sensor.gyroscope.data.csv\n",
      "5_android.sensor.light.data.csv\n",
      "65539_.data.csv\n",
      "9_android.sensor.gravity.data.csv\n"
     ]
    }
   ],
   "source": [
    "in_dir = \"data/Sessions/\"\n",
    "out_dir = \"test4/\"\n",
    "\n",
    "ut.recursive_unzip(in_dir)\n",
    "ut.recursive_copy(\"accelerometer\", in_dir, out_dir)\n",
    "ut.recursive_copy(\"gyroscope\", in_dir, out_dir)"
   ]
  },
  {
   "cell_type": "markdown",
   "metadata": {},
   "source": [
    "## Utility to compute features for accelerometer only"
   ]
  },
  {
   "cell_type": "code",
   "execution_count": 9,
   "metadata": {},
   "outputs": [],
   "source": [
    "#Helper Functions\n",
    "\n",
    "def Signal_magnitude_area(x,y,z):\n",
    "\n",
    "        sum = 0    \n",
    "        for i in range(len(x)):\n",
    "            sum += (abs(x[i]) + abs(y[i]) + abs(z[i]))\n",
    "\n",
    "        return float(sum)/len(x)\n",
    "\n",
    "\n",
    "def Power(x):\n",
    "\n",
    "    power = (LA.norm(x)**2)/ len(x)\n",
    "    return power\n",
    "\n",
    "\n",
    "def number_of_peaks(window):\n",
    "    indexes = find_peaks_cwt(window, np.arange(1, len(window)))\n",
    "    return len(indexes)\n",
    "\n",
    "\n",
    "def number_of_peaks2(window):\n",
    "\n",
    "    print('Detect peaks with height threshold.')\n",
    "    indexes = detect_peaks(vector, 1.5)\n",
    "    return len(indexes)\n",
    "\n",
    "\n",
    "#this function assumes that records are evenly spaced\n",
    "def trim_first_last_n_seconds(df, n, freq):\n",
    "    if df.shape[0] < 6001:\n",
    "        return None\n",
    "\n",
    "    remove_indexes = list(range(0, int(n*1000/freq)))\n",
    "    df = df.drop(remove_indexes)\n",
    "\n",
    "    remove_indexes = list(range(df.shape[0] - int(n*1000/freq), df.shape[0]-1))\n",
    "    df = df.drop(remove_indexes)\n",
    "\n",
    "    return df\n",
    "\n",
    "\n",
    "def compute_accelerometer_features(in_dir, features, labels, trim_num_seconds=10, acc_freq=4, window_num_seconds=4, window_step=2, jump_window=False, ignore_pickle=False):\n",
    "    \n",
    "    steps_per_sec = int(1000/acc_freq)\n",
    "    window_size = int(window_num_seconds*steps_per_sec)\n",
    "    \n",
    "    window_jump_steps = 0\n",
    "    if jump_window:\n",
    "        window_jump_steps = window_size\n",
    "    else:\n",
    "        window_jump_steps = int(window_step*steps_per_sec)\n",
    "\n",
    "    print(\"\\nWindow_size, Window_jump_steps: \", window_size, window_jump_steps)\n",
    "\n",
    "    dfs_list = []\n",
    "\n",
    "    pickle_folder = \"pickles/\"\n",
    "    if jump_window:\n",
    "        features_pickle_file_name = \"accerlerometer_\" + str(window_num_seconds) + \"s_\" + \"jump\" + \"_\" + \"features.pickle\"\n",
    "        labels_pickle_file_name = \"accerlerometer_\" + str(window_num_seconds) + \"s_\" + \"jump\" + \"_\" + \"labels.pickle\"\n",
    "        dfs_list_pickle_file_name = \"accerlerometer_\" + str(window_num_seconds) + \"s_\" + \"jump\" + \"_\" + \"dfs_list.pickle\"\n",
    "    else:\n",
    "        features_pickle_file_name = \"accerlerometer_\" + str(window_num_seconds) + \"s_\" + str(window_step) + \"s_\" + \"features.pickle\"\n",
    "        labels_pickle_file_name = \"accerlerometer_\" + str(window_num_seconds) + \"s_\" + str(window_step) + \"s_\" + \"labels.pickle\"\n",
    "        dfs_list_pickle_file_name = \"accerlerometer_\" + str(window_num_seconds) + \"s_\" + str(window_step) + \"s_\" + \"dfs_list.pickle\"\n",
    "    \n",
    "    if not ignore_pickle:\n",
    "        print(\"\\nTrying to find \", pickle_folder + features_pickle_file_name)\n",
    "        \n",
    "    pickle_file = Path(pickle_folder + features_pickle_file_name)\n",
    "\n",
    "    if pickle_file.exists() and not ignore_pickle:\n",
    "        print(\"\\n\\nFound pickle files for accelerometer\\n\\n\")\n",
    "\n",
    "        features = pickle.load(open(pickle_folder + features_pickle_file_name, \"rb\"))\n",
    "        labels = pickle.load(open(pickle_folder + labels_pickle_file_name, \"rb\"))\n",
    "        dfs_list = pickle.load(open(pickle_folder + dfs_list_pickle_file_name, \"rb\"))\n",
    "\n",
    "    else:\n",
    "\n",
    "        for root, dirs, files in os.walk(in_dir):\n",
    "            path = root.split(os.sep)\n",
    "\n",
    "            for f in files:\n",
    "                print(\"\\n\")\n",
    "                print(\"/\".join(path) + \"/\" + f)\n",
    "\n",
    "                full_path = \"/\".join(path) + \"/\" + f\n",
    "\n",
    "                if \"gyroscope\" in full_path:\n",
    "                    print(\"Skip \", full_path)\n",
    "                    continue\n",
    "\n",
    "                df = pd.read_csv(full_path, header=None)\n",
    "\n",
    "                print(\"Before trimming: \", df.shape)\n",
    "\n",
    "                df = trim_first_last_n_seconds(df, trim_num_seconds, acc_freq)\n",
    "                if df is None:\n",
    "                    print(\"Continuing\")\n",
    "                    continue\n",
    "\n",
    "                print(\"After trimming: \", df.shape)\n",
    "\n",
    "                #Sample the data according to the size of the window with 50% overlap\n",
    "                for index in range(0, df.shape[0]-window_size, window_jump_steps):\n",
    "                    indexes = list(range(index, index + int(window_size)))\n",
    "\n",
    "                    window = df.iloc[indexes,:]\n",
    "\n",
    "                    X_list = window[1].tolist()\n",
    "                    Y_list = window[2].tolist()\n",
    "                    Z_list = window[3].tolist()\n",
    "\n",
    "\n",
    "                    #Generate the features for this window\n",
    "\n",
    "\n",
    "           # ****************** Time-Domain Features ************************* #\n",
    "\n",
    "                    #Mean of the signals\n",
    "                    mean_x = np.mean(X_list)\n",
    "                    mean_y = np.mean(Y_list)\n",
    "                    mean_z = np.mean(Z_list)\n",
    "\n",
    "                    #Variance of the signals\n",
    "                    var_x = np.var(X_list)\n",
    "                    var_y = np.var(Y_list)\n",
    "                    var_z = np.var(Z_list)\n",
    "\n",
    "                    #Number of peaks in the signals\n",
    "                    #num_peaks_x = number_of_peaks(X_list)\n",
    "                    #num_peaks_y = number_of_peaks(Y_list)\n",
    "                    #num_peaks_z = number_of_peaks(Z_list)            \n",
    "\n",
    "                    #Median of the signals\n",
    "                    median_x = np.ma.median(X_list)\n",
    "                    median_y = np.ma.median(Y_list)\n",
    "                    median_z = np.ma.median(Z_list)\n",
    "\n",
    "                    #Standard Deviation of the signals\n",
    "                    std_x = np.std(X_list)\n",
    "                    std_y = np.std(Y_list)\n",
    "                    std_z = np.std(Z_list)\n",
    "\n",
    "                    #Compute Signal Magnitude Area\n",
    "                    signal_mag_area = Signal_magnitude_area(X_list, Y_list, Z_list)\n",
    "\n",
    "                    #Maximum and Minimum values and their indexes\n",
    "                    max_x = max(X_list)\n",
    "                    #max_index_x = X_list.index(max_x)               \n",
    "                    min_x = min(X_list)\n",
    "                    #min_index_x = X_list.index(min_x)\n",
    "\n",
    "                    max_y = max(Y_list)\n",
    "                   #max_index_y = Y_list.index(max_y)              \n",
    "                    min_y = min(Y_list)\n",
    "                    #min_index_y = Y_list.index(min_y)               \n",
    "\n",
    "                    max_z = max(Z_list)\n",
    "                    #max_index_z = Z_list.index(max_z)             \n",
    "                    min_z = min(Z_list)\n",
    "                    #min_index_z = Z_list.index(min_z)\n",
    "\n",
    "\n",
    "                    #Power of X,Y and Z signals             \n",
    "                    power_x = Power(X_list)\n",
    "                    power_y = Power(Y_list)\n",
    "                    power_z = Power(Z_list)\n",
    "\n",
    "\n",
    "                    #Skewness and Kurtosis\n",
    "                    skew_x = skew(X_list)\n",
    "                    skew_y = skew(Y_list)\n",
    "                    skew_z = skew(Z_list)\n",
    "\n",
    "                    kurtosis_x = kurtosis(X_list)                \n",
    "                    kurtosis_y = kurtosis(Y_list)\n",
    "                    kurtosis_z = kurtosis(Z_list)\n",
    "\n",
    "\n",
    "                    #Entropy of the signals (Can experiment with different types of Entropy)\n",
    "                    entropy_x = ent.shannon_entropy(X_list)\n",
    "                    entropy_y = ent.shannon_entropy(Y_list)\n",
    "                    entropy_z = ent.shannon_entropy(Z_list)\n",
    "\n",
    "\n",
    "                    #Interquartile range of the signals\n",
    "                    iqr_x = iqr(X_list)\n",
    "                    iqr_y = iqr(Y_list)\n",
    "                    iqr_z = iqr(Z_list)\n",
    "\n",
    "\n",
    "                    #Cross Correlation \n",
    "                    corr_x_y = np.correlate(X_list, Y_list)[0]\n",
    "                    corr_y_z = np.correlate(Y_list, Z_list)[0]\n",
    "                    corr_x_z = np.correlate(X_list, Z_list)[0]\n",
    "\n",
    "\n",
    "                    \n",
    "                    #Pitch and Roll Information (for rotation)\n",
    "                    roll = []\n",
    "                    pitch = []\n",
    "                    for index in range(0,len(X_list)):                       \n",
    "                        roll.append(math.atan2(Y_list[index]/9.81, Z_list[index]/9.81) * 57.3)\n",
    "                        pitch.append(math.atan2(X_list[index]/9.81, Z_list[index]/9.81) * 57.3)\n",
    "                    \n",
    "                    #Mean of the roll and pitch\n",
    "                    mean_roll = np.mean(roll)\n",
    "                    mean_pitch = np.mean(pitch)\n",
    "                    \n",
    "                    #RMS of roll and pitch\n",
    "                    #rms_roll = np.sqrt(np.mean(roll**2))\n",
    "                    rms_roll = np.sqrt(np.mean([x**2 for x in roll]))\n",
    "                    rms_pitch = np.sqrt(np.mean([x**2 for x in pitch]))            \n",
    "                    #rms_pitch = np.sqrt(np.mean(pitch**2))\n",
    "                                      \n",
    "                    #Zero Crossing Rate for roll and pitch\n",
    "                    frame = roll\n",
    "                    count = len(frame)\n",
    "                    countZ = np.sum(np.abs(np.diff(np.sign(frame)))) / 2\n",
    "                    zcr_roll = np.float64(countZ) / np.float64(count-1.0)\n",
    "                    \n",
    "                    frame = pitch\n",
    "                    count = len(frame)\n",
    "                    countZ = np.sum(np.abs(np.diff(np.sign(frame)))) / 2\n",
    "                    zcr_pitch = np.float64(countZ) / np.float64(count-1.0)\n",
    "                    \n",
    "\n",
    "        # ****************** Frequency-Domain Features ************************* #\n",
    "\n",
    "\n",
    "                    coeff_X = np.fft.fft(X_list)\n",
    "                    coeff_Y = np.fft.fft(Y_list)\n",
    "                    coeff_Z = np.fft.fft(Z_list)\n",
    "\n",
    "\n",
    "                    #Normalized FFT coefficients\n",
    "                    fft_x = LA.norm(coeff_X)              \n",
    "                    fft_y = LA.norm(coeff_Y)   \n",
    "                    fft_z = LA.norm(coeff_Z)  \n",
    "\n",
    "\n",
    "                    #Energy in the frequency Domain\n",
    "                    Energy_x = sum(abs(coeff_X**2))/len(X_list)\n",
    "                    #sum(abs(coeff_X)**2)/len(x1)\n",
    "                    Energy_y = sum(abs(coeff_Y**2))/len(Y_list)\n",
    "                    Energy_z = sum(abs(coeff_Z**2))/len(Z_list)\n",
    "\n",
    "\n",
    "                    #Store the features\n",
    "                    window_feature = []\n",
    "                    window_feature.append(mean_x)\n",
    "                    window_feature.append(mean_y)\n",
    "                    window_feature.append(mean_z)\n",
    "\n",
    "                    window_feature.append(var_x)\n",
    "                    window_feature.append(var_y)\n",
    "                    window_feature.append(var_z)\n",
    "\n",
    "                    window_feature.append(median_x)\n",
    "                    window_feature.append(median_y)\n",
    "                    window_feature.append(median_z)\n",
    "\n",
    "                    window_feature.append(std_x)\n",
    "                    window_feature.append(std_y)\n",
    "                    window_feature.append(std_z)\n",
    "\n",
    "\n",
    "                    window_feature.append(signal_mag_area)\n",
    "\n",
    "                    window_feature.append(max_x)\n",
    "                    #window_feature.append(max_index_x)\n",
    "                    window_feature.append(min_x)\n",
    "                    #window_feature.append(min_index_x)\n",
    "\n",
    "                    window_feature.append(max_y)\n",
    "                    #window_feature.append(max_index_y)\n",
    "                    window_feature.append(min_y)\n",
    "                    #window_feature.append(min_index_y)\n",
    "\n",
    "                    window_feature.append(max_z)\n",
    "                    #window_feature.append(max_index_z)\n",
    "                    window_feature.append(min_z)\n",
    "                    #window_feature.append(min_index_z)\n",
    "\n",
    "                    window_feature.append(power_x)\n",
    "                    window_feature.append(power_y)\n",
    "                    window_feature.append(power_z)\n",
    "\n",
    "                    window_feature.append(skew_x)\n",
    "                    window_feature.append(kurtosis_x) \n",
    "\n",
    "                    window_feature.append(skew_y)\n",
    "                    window_feature.append(kurtosis_y) \n",
    "\n",
    "                    window_feature.append(skew_z)\n",
    "                    window_feature.append(kurtosis_z) \n",
    "\n",
    "                    window_feature.append(entropy_x)\n",
    "                    window_feature.append(entropy_y)\n",
    "                    window_feature.append(entropy_z)\n",
    "\n",
    "                    window_feature.append(iqr_x)\n",
    "                    window_feature.append(iqr_y)\n",
    "                    window_feature.append(iqr_z)\n",
    "\n",
    "                    window_feature.append(corr_x_y)\n",
    "                    window_feature.append(corr_y_z)\n",
    "                    window_feature.append(corr_x_z)\n",
    "                    \n",
    "                    window_feature.append(mean_roll)\n",
    "                    window_feature.append(mean_pitch)\n",
    "                    window_feature.append(rms_roll)\n",
    "                    window_feature.append(rms_pitch)\n",
    "                    \n",
    "                    window_feature.append(zcr_roll)\n",
    "                    window_feature.append(zcr_pitch)\n",
    "\n",
    "                    window_feature.append(fft_x)\n",
    "                    window_feature.append(fft_y)\n",
    "                    window_feature.append(fft_z)\n",
    "\n",
    "                    window_feature.append(Energy_x)\n",
    "                    window_feature.append(Energy_y)\n",
    "                    window_feature.append(Energy_z)\n",
    "\n",
    "                    #window_feature.append(num_peaks_x)\n",
    "                    #window_feature.append(num_peaks_y)\n",
    "                    #window_feature.append(num_peaks_z)\n",
    "\n",
    "                    #scale = preprocessing.minmax_scale(data, feature_range=(-0.5, 0.5))\n",
    "\n",
    "                    features.append(window_feature)\n",
    "\n",
    "                    #Store the label\n",
    "                    labels.append(df[5].iloc[1])\n",
    "\n",
    "                dfs_list.append(df)\n",
    "\n",
    "        dfs = pd.concat(dfs_list)\n",
    "\n",
    "        if not ignore_pickle:\n",
    "\n",
    "            pickle.dump(features, open(pickle_folder + features_pickle_file_name, \"wb\"), protocol=2)\n",
    "            pickle.dump(labels, open(pickle_folder + labels_pickle_file_name, \"wb\"), protocol=2)\n",
    "            pickle.dump(dfs_list, open(pickle_folder + dfs_list_pickle_file_name, \"wb\"), protocol=2)\n",
    "\n",
    "    features = np.asarray(features)\n",
    "    labels = np.asarray(labels)\n",
    "    \n",
    "    return features, labels"
   ]
  },
  {
   "cell_type": "markdown",
   "metadata": {},
   "source": [
    "## Compute features for accelerometer - train/test, sliding window 50% overlap"
   ]
  },
  {
   "cell_type": "code",
   "execution_count": 48,
   "metadata": {
    "scrolled": true
   },
   "outputs": [
    {
     "name": "stdout",
     "output_type": "stream",
     "text": [
      "\n",
      "Computing train features\n",
      "\n",
      "Window_size, Window_jump_steps:  1000 500\n",
      "\n",
      "Trying to find  pickles/accerlerometer_4s_2s_features.pickle\n",
      "\n",
      "\n",
      "Found pickle files for accelerometer\n",
      "\n",
      "\n",
      "\n",
      "Computing test features\n",
      "\n",
      "Window_size, Window_jump_steps:  1000 500\n",
      "\n",
      "\n",
      "test4/0_1_android.sensor.accelerometer.data.csv\n",
      "Before trimming:  (209320, 6)\n",
      "After trimming:  (204321, 6)\n",
      "\n",
      "\n",
      "test4/0_4_android.sensor.gyroscope.data.csv\n",
      "Skip  test4/0_4_android.sensor.gyroscope.data.csv\n",
      "\n",
      "\n",
      "test4/1_1_android.sensor.accelerometer.data.csv\n",
      "Before trimming:  (243545, 6)\n",
      "After trimming:  (238546, 6)\n",
      "\n",
      "\n",
      "test4/1_4_android.sensor.gyroscope.data.csv\n",
      "Skip  test4/1_4_android.sensor.gyroscope.data.csv\n",
      "\n",
      "\n",
      "test4/2_1_android.sensor.accelerometer.data.csv\n",
      "Before trimming:  (231876, 6)\n",
      "After trimming:  (226877, 6)\n",
      "\n",
      "\n",
      "test4/2_4_android.sensor.gyroscope.data.csv\n",
      "Skip  test4/2_4_android.sensor.gyroscope.data.csv\n",
      "\n",
      "\n",
      "test4/3_1_android.sensor.accelerometer.data.csv\n",
      "Before trimming:  (128881, 6)\n",
      "After trimming:  (123882, 6)\n",
      "\n",
      "\n",
      "test4/3_4_android.sensor.gyroscope.data.csv\n",
      "Skip  test4/3_4_android.sensor.gyroscope.data.csv\n",
      "\n",
      "\n",
      "test4/4_1_android.sensor.accelerometer.data.csv\n",
      "Before trimming:  (69553, 6)\n",
      "After trimming:  (64554, 6)\n",
      "\n",
      "\n",
      "test4/4_4_android.sensor.gyroscope.data.csv\n",
      "Skip  test4/4_4_android.sensor.gyroscope.data.csv\n",
      "\n",
      "\n",
      "test4/5_1_android.sensor.accelerometer.data.csv\n",
      "Before trimming:  (203627, 6)\n",
      "After trimming:  (198628, 6)\n",
      "\n",
      "\n",
      "test4/5_4_android.sensor.gyroscope.data.csv\n",
      "Skip  test4/5_4_android.sensor.gyroscope.data.csv\n",
      "\n",
      "\n",
      "test4/6_1_android.sensor.accelerometer.data.csv\n",
      "Before trimming:  (122760, 6)\n",
      "After trimming:  (117761, 6)\n",
      "\n",
      "\n",
      "test4/6_4_android.sensor.gyroscope.data.csv\n",
      "Skip  test4/6_4_android.sensor.gyroscope.data.csv\n",
      "\n",
      "\n",
      "Shapes of train and test features:\n",
      "(11732, 49)\n",
      "(2339, 49)\n"
     ]
    }
   ],
   "source": [
    "train = True\n",
    "test = True\n",
    "\n",
    "test_dir = 'test4'\n",
    "train_dir = 'data_3_8_2018'\n",
    "\n",
    "\n",
    "if train:\n",
    "    print(\"\\nComputing train features\")\n",
    "    features = []\n",
    "    labels = []\n",
    "    features, labels = compute_accelerometer_features(train_dir, features, labels, trim_num_seconds=10, acc_freq=4, window_num_seconds=4, window_step=2, jump_window=False, ignore_pickle=False)\n",
    "    \n",
    "if test:\n",
    "    print(\"\\nComputing test features\")\n",
    "    test_features = []\n",
    "    test_labels = []\n",
    "    test_features, test_labels = compute_accelerometer_features(test_dir, test_features, test_labels, trim_num_seconds=10, acc_freq=4, window_num_seconds=4, window_step=2, jump_window=False, ignore_pickle=True)\n",
    "\n",
    "print(\"\\n\\nShapes of train and test features:\")\n",
    "print(features.shape)\n",
    "print(test_features.shape)"
   ]
  },
  {
   "cell_type": "markdown",
   "metadata": {},
   "source": [
    "## Compute features for accelerometer - train/test, jumping window"
   ]
  },
  {
   "cell_type": "code",
   "execution_count": 78,
   "metadata": {},
   "outputs": [
    {
     "name": "stdout",
     "output_type": "stream",
     "text": [
      "\n",
      "Computing train features\n",
      "\n",
      "Window_size, Window_jump_steps:  2000 2000\n",
      "\n",
      "Trying to find  pickles/accerlerometer_8s_jump_features.pickle\n",
      "\n",
      "\n",
      "Found pickle files for accelerometer\n",
      "\n",
      "\n",
      "\n",
      "Computing test features\n",
      "\n",
      "Window_size, Window_jump_steps:  2000 2000\n",
      "\n",
      "\n",
      "test4/0_1_android.sensor.accelerometer.data.csv\n",
      "Before trimming:  (209320, 6)\n",
      "After trimming:  (204321, 6)\n",
      "\n",
      "\n",
      "test4/0_4_android.sensor.gyroscope.data.csv\n",
      "Skip  test4/0_4_android.sensor.gyroscope.data.csv\n",
      "\n",
      "\n",
      "test4/1_1_android.sensor.accelerometer.data.csv\n",
      "Before trimming:  (243545, 6)\n",
      "After trimming:  (238546, 6)\n",
      "\n",
      "\n",
      "test4/1_4_android.sensor.gyroscope.data.csv\n",
      "Skip  test4/1_4_android.sensor.gyroscope.data.csv\n",
      "\n",
      "\n",
      "test4/2_1_android.sensor.accelerometer.data.csv\n",
      "Before trimming:  (231876, 6)\n",
      "After trimming:  (226877, 6)\n",
      "\n",
      "\n",
      "test4/2_4_android.sensor.gyroscope.data.csv\n",
      "Skip  test4/2_4_android.sensor.gyroscope.data.csv\n",
      "\n",
      "\n",
      "test4/3_1_android.sensor.accelerometer.data.csv\n",
      "Before trimming:  (128881, 6)\n",
      "After trimming:  (123882, 6)\n",
      "\n",
      "\n",
      "test4/3_4_android.sensor.gyroscope.data.csv\n",
      "Skip  test4/3_4_android.sensor.gyroscope.data.csv\n",
      "\n",
      "\n",
      "test4/4_1_android.sensor.accelerometer.data.csv\n",
      "Before trimming:  (69553, 6)\n",
      "After trimming:  (64554, 6)\n",
      "\n",
      "\n",
      "test4/4_4_android.sensor.gyroscope.data.csv\n",
      "Skip  test4/4_4_android.sensor.gyroscope.data.csv\n",
      "\n",
      "\n",
      "test4/5_1_android.sensor.accelerometer.data.csv\n",
      "Before trimming:  (203627, 6)\n",
      "After trimming:  (198628, 6)\n",
      "\n",
      "\n",
      "test4/5_4_android.sensor.gyroscope.data.csv\n",
      "Skip  test4/5_4_android.sensor.gyroscope.data.csv\n",
      "\n",
      "\n",
      "test4/6_1_android.sensor.accelerometer.data.csv\n",
      "Before trimming:  (122760, 6)\n",
      "After trimming:  (117761, 6)\n",
      "\n",
      "\n",
      "test4/6_4_android.sensor.gyroscope.data.csv\n",
      "Skip  test4/6_4_android.sensor.gyroscope.data.csv\n",
      "\n",
      "\n",
      "Shapes of train and test features:\n",
      "(2926, 49)\n",
      "(584, 49)\n"
     ]
    }
   ],
   "source": [
    "train = True\n",
    "test = True\n",
    "\n",
    "test_dir = 'test4'\n",
    "train_dir = 'data_3_8_2018'\n",
    "\n",
    "if train:\n",
    "    print(\"\\nComputing train features\")\n",
    "    features = []\n",
    "    labels = []\n",
    "    features, labels = compute_accelerometer_features(train_dir, features, labels, trim_num_seconds=10, acc_freq=4, window_num_seconds=8, window_step=4, jump_window=True, ignore_pickle=False)\n",
    "    \n",
    "if test:\n",
    "    print(\"\\nComputing test features\")\n",
    "    test_features = []\n",
    "    test_labels = []\n",
    "    test_features, test_labels = compute_accelerometer_features(test_dir, test_features, test_labels, trim_num_seconds=10, acc_freq=4, window_num_seconds=8, window_step=4, jump_window=True, ignore_pickle=True)\n",
    "\n",
    "print(\"\\n\\nShapes of train and test features:\")\n",
    "print(features.shape)\n",
    "print(test_features.shape)"
   ]
  },
  {
   "cell_type": "markdown",
   "metadata": {},
   "source": [
    "## Plot labels to check distribution of classes"
   ]
  },
  {
   "cell_type": "code",
   "execution_count": 76,
   "metadata": {},
   "outputs": [
    {
     "data": {
      "image/png": "[encoded data removed]",
      "text/plain": [
       "<matplotlib.figure.Figure at 0x19a03ff1c88>"
      ]
     },
     "metadata": {},
     "output_type": "display_data"
    }
   ],
   "source": [
    "le = preprocessing.LabelEncoder()\n",
    "y = le.fit_transform(labels)\n",
    "\n",
    "from collections import Counter\n",
    "\n",
    "d = Counter(labels)\n",
    "plt.bar(d.keys(), d.values(), width=0.5)\n",
    "plt.show()\n"
   ]
  },
  {
   "cell_type": "code",
   "execution_count": null,
   "metadata": {},
   "outputs": [],
   "source": [
    "le = preprocessing.LabelEncoder()\n",
    "y = le.fit_transform(test_labels)\n",
    "\n",
    "from collections import Counter\n",
    "\n",
    "d = Counter(test_labels)\n",
    "plt.bar(d.keys(), d.values(), width=0.5)\n",
    "plt.show()\n"
   ]
  },
  {
   "cell_type": "markdown",
   "metadata": {},
   "source": [
    "# Compute features for accelerometer and gyrometer"
   ]
  },
  {
   "cell_type": "code",
   "execution_count": 16,
   "metadata": {},
   "outputs": [],
   "source": [
    "#this function assumes that records are evenly spaced\n",
    "def trim_first_last_n_seconds(df, n, freq):\n",
    "    if df.shape[0] < 6001:\n",
    "        return None\n",
    "    \n",
    "    remove_indexes = list(range(0, int(n*1000/freq)))\n",
    "    df = df.drop(remove_indexes)\n",
    "\n",
    "    remove_indexes = list(range(df.shape[0] - int(n*1000/freq), df.shape[0]-1))\n",
    "    df = df.drop(remove_indexes)\n",
    "    \n",
    "    return df\n",
    "    \n",
    "def combine_acc_gyro_data(df_acc, df_gyro):\n",
    "    threshold = 10\n",
    "    \n",
    "    acc_index = 0\n",
    "    gyro_index = 0\n",
    "    \n",
    "    acc_matrix = df_acc.as_matrix()\n",
    "    gyro_matrix = df_gyro.as_matrix()\n",
    "    \n",
    "    combined_list = []\n",
    "    \n",
    "    while (acc_index < df_acc.shape[0]) and (gyro_index < df_gyro.shape[0]):\n",
    "        #find next gyro_index within threshold and append the data\n",
    "        \n",
    "        acc_time = df_acc.iloc[acc_index][0]\n",
    "        gyro_time = df_gyro.iloc[gyro_index][0]\n",
    "\n",
    "        if (acc_time < gyro_time):\n",
    "            while (acc_index < df_acc.shape[0]) and (gyro_time - acc_time > threshold):\n",
    "                acc_time = acc_matrix[acc_index][0] #df_acc.iloc[acc_index][0]\n",
    "                acc_index += 1\n",
    "        else:\n",
    "            while (gyro_index < df_gyro.shape[0]) and (acc_time - gyro_time > threshold):\n",
    "                gyro_time = gyro_matrix[gyro_index][0] #df_gyro.iloc[gyro_index][0]\n",
    "                gyro_index += 1\n",
    "        \n",
    "        if (acc_index < df_acc.shape[0]) and (gyro_index < df_gyro.shape[0]):\n",
    "            combined_list.append(np.concatenate((acc_matrix[acc_index][:4], gyro_matrix[gyro_index][1:6]), axis=0))\n",
    "            \n",
    "        acc_index += 1\n",
    "        gyro_index += 1\n",
    "            \n",
    "    return combined_list\n",
    "\n",
    "def compute_acc_gyro_features(in_dir, features, labels, trim_num_seconds=10, acc_freq=4, window_num_seconds=4, window_step=2, jump_window=False, ignore_pickle=False):\n",
    "    \n",
    "    steps_per_sec = int(1000/acc_freq)\n",
    "    window_size = int(window_num_seconds*steps_per_sec)\n",
    "    \n",
    "    window_jump_steps = 0\n",
    "    if jump_window:\n",
    "        window_jump_steps = window_size\n",
    "    else:\n",
    "        window_jump_steps = int(window_step*steps_per_sec)\n",
    "\n",
    "    print(\"\\nWindow_size, Window_jump_steps: \", window_size, window_jump_steps)\n",
    "\n",
    "    dfs_list = []\n",
    "\n",
    "    pickle_folder = \"pickles/\"\n",
    "    if jump_window:\n",
    "        features_pickle_file_name = \"acc_gyro_\" + str(window_num_seconds) + \"s_\" + \"jump\" + \"_\" + \"features.pickle\"\n",
    "        labels_pickle_file_name = \"acc_gyro_\" + str(window_num_seconds) + \"s_\" + \"jump\" + \"_\" + \"labels.pickle\"\n",
    "        dfs_list_pickle_file_name = \"acc_gyro_\" + str(window_num_seconds) + \"s_\" + \"jump\" + \"_\" + \"dfs_list.pickle\"\n",
    "    else:\n",
    "        features_pickle_file_name = \"acc_gyro_\" + str(window_num_seconds) + \"s_\" + str(window_step) + \"s_\" + \"features.pickle\"\n",
    "        labels_pickle_file_name = \"acc_gyro_\" + str(window_num_seconds) + \"s_\" + str(window_step) + \"s_\" + \"labels.pickle\"\n",
    "        dfs_list_pickle_file_name = \"acc_gyro_\" + str(window_num_seconds) + \"s_\" + str(window_step) + \"s_\" + \"dfs_list.pickle\"\n",
    "    \n",
    "    if not ignore_pickle:\n",
    "        print(\"\\nTrying to find \", pickle_folder + features_pickle_file_name)\n",
    "        \n",
    "    pickle_file = Path(pickle_folder + features_pickle_file_name)\n",
    "\n",
    "    if pickle_file.exists() and not ignore_pickle:\n",
    "        print(\"\\n\\nFound pickle files for accelerometer\\n\\n\")\n",
    "\n",
    "        features = pickle.load(open(pickle_folder + features_pickle_file_name, \"rb\"))\n",
    "        labels = pickle.load(open(pickle_folder + labels_pickle_file_name, \"rb\"))\n",
    "        dfs_list = pickle.load(open(pickle_folder + dfs_list_pickle_file_name, \"rb\"))\n",
    "\n",
    "    else:\n",
    "        \n",
    "        dfs_list = []\n",
    "\n",
    "        for root, dirs, files in os.walk(in_dir):\n",
    "            path = root.split(os.sep)\n",
    "\n",
    "            for f in files:\n",
    "\n",
    "                if 'accelerometer' in f:\n",
    "                    accelerometer_path = \"/\".join(path) + \"/\" + f\n",
    "                    print(accelerometer_path)\n",
    "\n",
    "                    first_ = f.find(\"_\")\n",
    "                    g = f[0:first_] + \"_4\" + f[first_+2:]\n",
    "                    gyroscope_path = \"/\".join(path) + \"/\" + g.replace(\"accelerometer\",\"gyroscope\")\n",
    "                    print(gyroscope_path)\n",
    "\n",
    "                    df_acc = pd.read_csv(accelerometer_path, header=None)\n",
    "                    df_gyro = pd.read_csv(gyroscope_path, header=None)\n",
    "\n",
    "                    combined_list = combine_acc_gyro_data(df_acc, df_gyro)\n",
    "                    combined_numpy = np.array(combined_list)\n",
    "\n",
    "                    combined_df = pd.DataFrame(data=combined_numpy)\n",
    "\n",
    "                    print(\"Before trimming: \", combined_df.shape)\n",
    "\n",
    "                    combined_df = trim_first_last_n_seconds(combined_df, trim_num_seconds, acc_freq)\n",
    "                    if combined_df is None:\n",
    "                        print(\"Continuing\")\n",
    "                        continue\n",
    "\n",
    "                    print(\"After trimming: \", combined_df.shape)\n",
    "\n",
    "                    #Sample the data according to the size of the window with 50% overlap\n",
    "                    for index in range(0, combined_df.shape[0]-window_size, window_jump_steps):\n",
    "                        indexes = list(range(index, index + int(window_size)))\n",
    "\n",
    "                        window = combined_df.iloc[indexes,:]\n",
    "                        X_list = window[1].tolist()\n",
    "                        Y_list = window[2].tolist()\n",
    "                        Z_list = window[3].tolist()\n",
    "\n",
    "                        \n",
    "                        window_feature = []\n",
    "                        \n",
    "               # ****************** Time-Domain Features ************************* #\n",
    "\n",
    "                        #Mean of the signals\n",
    "                        mean_x = np.mean(X_list)\n",
    "                        mean_y = np.mean(Y_list)\n",
    "                        mean_z = np.mean(Z_list)\n",
    "\n",
    "                        #Variance of the signals\n",
    "                        var_x = np.var(X_list)\n",
    "                        var_y = np.var(Y_list)\n",
    "                        var_z = np.var(Z_list)\n",
    "\n",
    "                        #Median of the signals\n",
    "                        median_x = np.ma.median(X_list)\n",
    "                        median_y = np.ma.median(Y_list)\n",
    "                        median_z = np.ma.median(Z_list)\n",
    "\n",
    "                        #Standard Deviation of the signals\n",
    "                        std_x = np.std(X_list)\n",
    "                        std_y = np.std(Y_list)\n",
    "                        std_z = np.std(Z_list)\n",
    "\n",
    "                        #Compute Signal Magnitude Area\n",
    "                        signal_mag_area = Signal_magnitude_area(X_list, Y_list, Z_list)\n",
    "\n",
    "                        #Maximum and Minimum values and their indexes\n",
    "                        max_x = max(X_list)\n",
    "                        min_x = min(X_list)\n",
    "\n",
    "                        max_y = max(Y_list)\n",
    "                        min_y = min(Y_list)\n",
    "\n",
    "                        max_z = max(Z_list)\n",
    "                        min_z = min(Z_list)\n",
    "\n",
    "\n",
    "                        #Power of X,Y and Z signals             \n",
    "                        power_x = Power(X_list)\n",
    "                        power_y = Power(Y_list)\n",
    "                        power_z = Power(Z_list)\n",
    "\n",
    "\n",
    "                        #Skewness and Kurtosis\n",
    "                        skew_x = skew(X_list)\n",
    "                        skew_y = skew(Y_list)\n",
    "                        skew_z = skew(Z_list)\n",
    "\n",
    "                        kurtosis_x = kurtosis(X_list)                \n",
    "                        kurtosis_y = kurtosis(Y_list)\n",
    "                        kurtosis_z = kurtosis(Z_list)\n",
    "\n",
    "\n",
    "                        #Entropy of the signals (Can experiment with different types of Entropy)\n",
    "                        entropy_x = ent.shannon_entropy(X_list)\n",
    "                        entropy_y = ent.shannon_entropy(Y_list)\n",
    "                        entropy_z = ent.shannon_entropy(Z_list)\n",
    "\n",
    "\n",
    "                        #Interquartile range of the signals\n",
    "                        iqr_x = iqr(X_list)\n",
    "                        iqr_y = iqr(Y_list)\n",
    "                        iqr_z = iqr(Z_list)\n",
    "\n",
    "\n",
    "                        #Cross Correlation \n",
    "                        corr_x_y = np.correlate(X_list, Y_list)[0]\n",
    "                        corr_y_z = np.correlate(Y_list, Z_list)[0]\n",
    "                        corr_x_z = np.correlate(X_list, Z_list)[0]\n",
    "\n",
    "\n",
    "\n",
    "                        #Pitch and Roll Information (for rotation)\n",
    "                        roll = []\n",
    "                        pitch = []\n",
    "                        for index in range(0,len(X_list)):                       \n",
    "                            roll.append(math.atan2(Y_list[index]/9.81, Z_list[index]/9.81) * 57.3)\n",
    "                            pitch.append(math.atan2(X_list[index]/9.81, Z_list[index]/9.81) * 57.3)\n",
    "\n",
    "                        #Mean of the roll and pitch\n",
    "                        mean_roll = np.mean(roll)\n",
    "                        mean_pitch = np.mean(pitch)\n",
    "\n",
    "                        #RMS of roll and pitch\n",
    "                        rms_roll = np.sqrt(np.mean([x**2 for x in roll]))\n",
    "                        rms_pitch = np.sqrt(np.mean([x**2 for x in pitch]))            \n",
    "\n",
    "                        #Zero Crossing Rate for roll and pitch\n",
    "                        frame = roll\n",
    "                        count = len(frame)\n",
    "                        countZ = np.sum(np.abs(np.diff(np.sign(frame)))) / 2\n",
    "                        zcr_roll = np.float64(countZ) / np.float64(count-1.0)\n",
    "\n",
    "                        frame = pitch\n",
    "                        count = len(frame)\n",
    "                        countZ = np.sum(np.abs(np.diff(np.sign(frame)))) / 2\n",
    "                        zcr_pitch = np.float64(countZ) / np.float64(count-1.0)\n",
    "\n",
    "\n",
    "            # ****************** Frequency-Domain Features ************************* #\n",
    "\n",
    "\n",
    "                        coeff_X = np.fft.fft(X_list)\n",
    "                        coeff_Y = np.fft.fft(Y_list)\n",
    "                        coeff_Z = np.fft.fft(Z_list)\n",
    "\n",
    "\n",
    "                        #Normalized FFT coefficients\n",
    "                        fft_x = LA.norm(coeff_X)              \n",
    "                        fft_y = LA.norm(coeff_Y)   \n",
    "                        fft_z = LA.norm(coeff_Z)  \n",
    "\n",
    "\n",
    "                        #Energy in the frequency Domain\n",
    "                        Energy_x = sum(abs(coeff_X**2))/len(X_list)\n",
    "                        Energy_y = sum(abs(coeff_Y**2))/len(Y_list)\n",
    "                        Energy_z = sum(abs(coeff_Z**2))/len(Z_list)\n",
    "\n",
    "\n",
    "                        #Store the features\n",
    "                        window_feature.append(mean_x)\n",
    "                        window_feature.append(mean_y)\n",
    "                        window_feature.append(mean_z)\n",
    "\n",
    "                        window_feature.append(var_x)\n",
    "                        window_feature.append(var_y)\n",
    "                        window_feature.append(var_z)\n",
    "\n",
    "                        window_feature.append(median_x)\n",
    "                        window_feature.append(median_y)\n",
    "                        window_feature.append(median_z)\n",
    "\n",
    "                        window_feature.append(std_x)\n",
    "                        window_feature.append(std_y)\n",
    "                        window_feature.append(std_z)\n",
    "\n",
    "\n",
    "                        window_feature.append(signal_mag_area)\n",
    "\n",
    "                        window_feature.append(max_x)\n",
    "                        window_feature.append(min_x)\n",
    "\n",
    "                        window_feature.append(max_y)\n",
    "                        window_feature.append(min_y)\n",
    "\n",
    "                        window_feature.append(max_z)\n",
    "                        window_feature.append(min_z)\n",
    "\n",
    "                        window_feature.append(power_x)\n",
    "                        window_feature.append(power_y)\n",
    "                        window_feature.append(power_z)\n",
    "\n",
    "                        window_feature.append(skew_x)\n",
    "                        window_feature.append(kurtosis_x) \n",
    "\n",
    "                        window_feature.append(skew_y)\n",
    "                        window_feature.append(kurtosis_y) \n",
    "\n",
    "                        window_feature.append(skew_z)\n",
    "                        window_feature.append(kurtosis_z) \n",
    "\n",
    "                        window_feature.append(entropy_x)\n",
    "                        window_feature.append(entropy_y)\n",
    "                        window_feature.append(entropy_z)\n",
    "\n",
    "                        window_feature.append(iqr_x)\n",
    "                        window_feature.append(iqr_y)\n",
    "                        window_feature.append(iqr_z)\n",
    "\n",
    "                        window_feature.append(corr_x_y)\n",
    "                        window_feature.append(corr_y_z)\n",
    "                        window_feature.append(corr_x_z)\n",
    "\n",
    "                        window_feature.append(mean_roll)\n",
    "                        window_feature.append(mean_pitch)\n",
    "                        window_feature.append(rms_roll)\n",
    "                        window_feature.append(rms_pitch)\n",
    "\n",
    "                        window_feature.append(zcr_roll)\n",
    "                        window_feature.append(zcr_pitch)\n",
    "\n",
    "                        window_feature.append(fft_x)\n",
    "                        window_feature.append(fft_y)\n",
    "                        window_feature.append(fft_z)\n",
    "\n",
    "                        window_feature.append(Energy_x)\n",
    "                        window_feature.append(Energy_y)\n",
    "                        window_feature.append(Energy_z)\n",
    "\n",
    "\n",
    "            # ****************** Gyroscope Features ************************* #\n",
    "\n",
    "                        X_list = window[4].tolist()\n",
    "                        Y_list = window[5].tolist()\n",
    "                        Z_list = window[6].tolist()\n",
    "\n",
    "                        \n",
    "                        gyro_mean_x = np.mean(X_list)\n",
    "                        gyro_mean_y = np.mean(Y_list)\n",
    "                        gyro_mean_z = np.mean(Z_list)\n",
    "\n",
    "                        gyro_var_x = np.var(X_list)\n",
    "                        gyro_var_y = np.var(Y_list)\n",
    "                        gyro_var_z = np.var(Z_list)\n",
    "\n",
    "                        #Median of the signals\n",
    "                        gyro_median_x = np.ma.median(X_list)\n",
    "                        gyro_median_y = np.ma.median(Y_list)\n",
    "                        gyro_median_z = np.ma.median(Z_list)\n",
    "\n",
    "                        #Standard Deviation of the signals\n",
    "                        gyro_std_x = np.std(X_list)\n",
    "                        gyro_std_y = np.std(Y_list)\n",
    "                        gyro_std_z = np.std(Z_list)\n",
    "\n",
    "                        #Maximum and Minimum values and their indexes\n",
    "                        gyro_max_x = max(X_list)\n",
    "                        gyro_min_x = min(X_list)\n",
    "\n",
    "                        gyro_max_y = max(Y_list)\n",
    "                        gyro_min_y = min(Y_list)\n",
    "\n",
    "                        gyro_max_z = max(Z_list)\n",
    "                        gyro_min_z = min(Z_list)\n",
    "                        \n",
    "                        #Store the features\n",
    "\n",
    "                        window_feature.append(gyro_mean_x)\n",
    "                        window_feature.append(gyro_mean_y)\n",
    "                        window_feature.append(gyro_mean_z)\n",
    "                        window_feature.append(gyro_var_x)\n",
    "                        window_feature.append(gyro_var_y)\n",
    "                        window_feature.append(gyro_var_z)\n",
    "                        window_feature.append(gyro_median_x)\n",
    "                        window_feature.append(gyro_median_y)\n",
    "                        window_feature.append(gyro_median_z)\n",
    "                        window_feature.append(gyro_std_x)\n",
    "                        window_feature.append(gyro_std_y)\n",
    "                        window_feature.append(gyro_std_z)\n",
    "                        window_feature.append(gyro_max_x)\n",
    "                        window_feature.append(gyro_max_y)\n",
    "                        window_feature.append(gyro_max_z)\n",
    "                        window_feature.append(gyro_min_x)\n",
    "                        window_feature.append(gyro_min_y)\n",
    "                        window_feature.append(gyro_min_z)\n",
    "                        \n",
    "\n",
    "                        features.append(window_feature)\n",
    "\n",
    "                        #Store the label\n",
    "                        labels.append(combined_df[8].iloc[0])\n",
    "\n",
    "                    dfs_list.append(combined_df)\n",
    "\n",
    "        dfs = pd.concat(dfs_list)\n",
    "\n",
    "        pickle.dump(features, open(pickle_folder + features_pickle_file_name, \"wb\"), protocol=2)\n",
    "        pickle.dump(labels, open(pickle_folder + labels_pickle_file_name, \"wb\"), protocol=2)\n",
    "        pickle.dump(dfs_list, open(pickle_folder + dfs_list_pickle_file_name, \"wb\"), protocol=2)\n",
    "\n",
    "    features = np.asarray(features)\n",
    "    labels = np.asarray(labels)\n",
    "    \n",
    "    return features, labels"
   ]
  },
  {
   "cell_type": "markdown",
   "metadata": {},
   "source": [
    "## Compute features for accelerometer/gyroscope - train/test, sliding window 50% overlap"
   ]
  },
  {
   "cell_type": "code",
   "execution_count": 17,
   "metadata": {},
   "outputs": [
    {
     "name": "stdout",
     "output_type": "stream",
     "text": [
      "\n",
      "Computing train features\n",
      "\n",
      "Window_size, Window_jump_steps:  1000 500\n",
      "\n",
      "Trying to find  pickles/acc_gyro_4s_2s_features.pickle\n",
      "data_3_8_2018/0_1_android.sensor.accelerometer.data.csv\n",
      "data_3_8_2018/0_4_android.sensor.gyroscope.data.csv\n",
      "Before trimming:  (20562, 9)\n",
      "After trimming:  (15563, 9)\n",
      "data_3_8_2018/10_1_android.sensor.accelerometer.data.csv\n",
      "data_3_8_2018/10_4_android.sensor.gyroscope.data.csv\n",
      "Before trimming:  (104000, 9)\n",
      "After trimming:  (99001, 9)\n",
      "data_3_8_2018/11_1_android.sensor.accelerometer.data.csv\n",
      "data_3_8_2018/11_4_android.sensor.gyroscope.data.csv\n",
      "Before trimming:  (47908, 9)\n",
      "After trimming:  (42909, 9)\n",
      "data_3_8_2018/12_1_android.sensor.accelerometer.data.csv\n",
      "data_3_8_2018/12_4_android.sensor.gyroscope.data.csv\n",
      "Before trimming:  (34142, 9)\n",
      "After trimming:  (29143, 9)\n",
      "data_3_8_2018/13_1_android.sensor.accelerometer.data.csv\n",
      "data_3_8_2018/13_4_android.sensor.gyroscope.data.csv\n",
      "Before trimming:  (50014, 9)\n",
      "After trimming:  (45015, 9)\n",
      "data_3_8_2018/14_1_android.sensor.accelerometer.data.csv\n",
      "data_3_8_2018/14_4_android.sensor.gyroscope.data.csv\n",
      "Before trimming:  (43483, 9)\n",
      "After trimming:  (38484, 9)\n",
      "data_3_8_2018/15_1_android.sensor.accelerometer.data.csv\n",
      "data_3_8_2018/15_4_android.sensor.gyroscope.data.csv\n",
      "Before trimming:  (52322, 9)\n",
      "After trimming:  (47323, 9)\n",
      "data_3_8_2018/16_1_android.sensor.accelerometer.data.csv\n",
      "data_3_8_2018/16_4_android.sensor.gyroscope.data.csv\n",
      "Before trimming:  (43842, 9)\n",
      "After trimming:  (38843, 9)\n",
      "data_3_8_2018/17_1_android.sensor.accelerometer.data.csv\n",
      "data_3_8_2018/17_4_android.sensor.gyroscope.data.csv\n",
      "Before trimming:  (33147, 9)\n",
      "After trimming:  (28148, 9)\n",
      "data_3_8_2018/18_1_android.sensor.accelerometer.data.csv\n",
      "data_3_8_2018/18_4_android.sensor.gyroscope.data.csv\n",
      "Before trimming:  (33669, 9)\n",
      "After trimming:  (28670, 9)\n",
      "data_3_8_2018/19_1_android.sensor.accelerometer.data.csv\n",
      "data_3_8_2018/19_4_android.sensor.gyroscope.data.csv\n",
      "Before trimming:  (29998, 9)\n",
      "After trimming:  (24999, 9)\n",
      "data_3_8_2018/1_1_android.sensor.accelerometer.data.csv\n",
      "data_3_8_2018/1_4_android.sensor.gyroscope.data.csv\n",
      "Before trimming:  (18396, 9)\n",
      "After trimming:  (13397, 9)\n",
      "data_3_8_2018/20_1_android.sensor.accelerometer.data.csv\n",
      "data_3_8_2018/20_4_android.sensor.gyroscope.data.csv\n",
      "Before trimming:  (33824, 9)\n",
      "After trimming:  (28825, 9)\n",
      "data_3_8_2018/21_1_android.sensor.accelerometer.data.csv\n",
      "data_3_8_2018/21_4_android.sensor.gyroscope.data.csv\n",
      "Before trimming:  (48033, 9)\n",
      "After trimming:  (43034, 9)\n",
      "data_3_8_2018/22_1_android.sensor.accelerometer.data.csv\n",
      "data_3_8_2018/22_4_android.sensor.gyroscope.data.csv\n",
      "Before trimming:  (34053, 9)\n",
      "After trimming:  (29054, 9)\n",
      "data_3_8_2018/23_1_android.sensor.accelerometer.data.csv\n",
      "data_3_8_2018/23_4_android.sensor.gyroscope.data.csv\n",
      "Before trimming:  (34366, 9)\n",
      "After trimming:  (29367, 9)\n",
      "data_3_8_2018/24_1_android.sensor.accelerometer.data.csv\n",
      "data_3_8_2018/24_4_android.sensor.gyroscope.data.csv\n",
      "Before trimming:  (31982, 9)\n",
      "After trimming:  (26983, 9)\n",
      "data_3_8_2018/25_1_android.sensor.accelerometer.data.csv\n",
      "data_3_8_2018/25_4_android.sensor.gyroscope.data.csv\n",
      "Before trimming:  (40277, 9)\n",
      "After trimming:  (35278, 9)\n",
      "data_3_8_2018/26_1_android.sensor.accelerometer.data.csv\n",
      "data_3_8_2018/26_4_android.sensor.gyroscope.data.csv\n",
      "Before trimming:  (34135, 9)\n",
      "After trimming:  (29136, 9)\n",
      "data_3_8_2018/27_1_android.sensor.accelerometer.data.csv\n",
      "data_3_8_2018/27_4_android.sensor.gyroscope.data.csv\n",
      "Before trimming:  (32930, 9)\n",
      "After trimming:  (27931, 9)\n",
      "data_3_8_2018/28_1_android.sensor.accelerometer.data.csv\n",
      "data_3_8_2018/28_4_android.sensor.gyroscope.data.csv\n",
      "Before trimming:  (43705, 9)\n",
      "After trimming:  (38706, 9)\n",
      "data_3_8_2018/29_1_android.sensor.accelerometer.data.csv\n",
      "data_3_8_2018/29_4_android.sensor.gyroscope.data.csv\n",
      "Before trimming:  (44011, 9)\n",
      "After trimming:  (39012, 9)\n",
      "data_3_8_2018/2_1_android.sensor.accelerometer.data.csv\n",
      "data_3_8_2018/2_4_android.sensor.gyroscope.data.csv\n",
      "Before trimming:  (48802, 9)\n",
      "After trimming:  (43803, 9)\n",
      "data_3_8_2018/30_1_android.sensor.accelerometer.data.csv\n",
      "data_3_8_2018/30_4_android.sensor.gyroscope.data.csv\n",
      "Before trimming:  (45456, 9)\n",
      "After trimming:  (40457, 9)\n",
      "data_3_8_2018/31_1_android.sensor.accelerometer.data.csv\n",
      "data_3_8_2018/31_4_android.sensor.gyroscope.data.csv\n",
      "Before trimming:  (53069, 9)\n",
      "After trimming:  (48070, 9)\n",
      "data_3_8_2018/32_1_android.sensor.accelerometer.data.csv\n",
      "data_3_8_2018/32_4_android.sensor.gyroscope.data.csv\n",
      "Before trimming:  (45572, 9)\n",
      "After trimming:  (40573, 9)\n",
      "data_3_8_2018/33_1_android.sensor.accelerometer.data.csv\n",
      "data_3_8_2018/33_4_android.sensor.gyroscope.data.csv\n",
      "Before trimming:  (34246, 9)\n",
      "After trimming:  (29247, 9)\n",
      "data_3_8_2018/34_1_android.sensor.accelerometer.data.csv\n",
      "data_3_8_2018/34_4_android.sensor.gyroscope.data.csv\n",
      "Before trimming:  (37615, 9)\n",
      "After trimming:  (32616, 9)\n",
      "data_3_8_2018/35_1_android.sensor.accelerometer.data.csv\n",
      "data_3_8_2018/35_4_android.sensor.gyroscope.data.csv\n",
      "Before trimming:  (15743, 9)\n",
      "After trimming:  (10744, 9)\n",
      "data_3_8_2018/36_1_android.sensor.accelerometer.data.csv\n",
      "data_3_8_2018/36_4_android.sensor.gyroscope.data.csv\n",
      "Before trimming:  (13667, 9)\n",
      "After trimming:  (8668, 9)\n",
      "data_3_8_2018/37_1_android.sensor.accelerometer.data.csv\n",
      "data_3_8_2018/37_4_android.sensor.gyroscope.data.csv\n",
      "Before trimming:  (34897, 9)\n",
      "After trimming:  (29898, 9)\n",
      "data_3_8_2018/38_1_android.sensor.accelerometer.data.csv\n",
      "data_3_8_2018/38_4_android.sensor.gyroscope.data.csv\n",
      "Before trimming:  (35308, 9)\n",
      "After trimming:  (30309, 9)\n",
      "data_3_8_2018/39_1_android.sensor.accelerometer.data.csv\n",
      "data_3_8_2018/39_4_android.sensor.gyroscope.data.csv\n",
      "Before trimming:  (36736, 9)\n",
      "After trimming:  (31737, 9)\n",
      "data_3_8_2018/3_1_android.sensor.accelerometer.data.csv\n",
      "data_3_8_2018/3_4_android.sensor.gyroscope.data.csv\n",
      "Before trimming:  (16745, 9)\n",
      "After trimming:  (11746, 9)\n",
      "data_3_8_2018/40_1_android.sensor.accelerometer.data.csv\n",
      "data_3_8_2018/40_4_android.sensor.gyroscope.data.csv\n",
      "Before trimming:  (35512, 9)\n",
      "After trimming:  (30513, 9)\n",
      "data_3_8_2018/41_1_android.sensor.accelerometer.data.csv\n",
      "data_3_8_2018/41_4_android.sensor.gyroscope.data.csv\n",
      "Before trimming:  (52246, 9)\n",
      "After trimming:  (47247, 9)\n",
      "data_3_8_2018/42_1_android.sensor.accelerometer.data.csv\n",
      "data_3_8_2018/42_4_android.sensor.gyroscope.data.csv\n",
      "Before trimming:  (21106, 9)\n",
      "After trimming:  (16107, 9)\n",
      "data_3_8_2018/43_1_android.sensor.accelerometer.data.csv\n",
      "data_3_8_2018/43_4_android.sensor.gyroscope.data.csv\n",
      "Before trimming:  (62681, 9)\n",
      "After trimming:  (57682, 9)\n",
      "data_3_8_2018/44_1_android.sensor.accelerometer.data.csv\n",
      "data_3_8_2018/44_4_android.sensor.gyroscope.data.csv\n",
      "Before trimming:  (56415, 9)\n",
      "After trimming:  (51416, 9)\n",
      "data_3_8_2018/45_1_android.sensor.accelerometer.data.csv\n",
      "data_3_8_2018/45_4_android.sensor.gyroscope.data.csv\n",
      "Before trimming:  (51161, 9)\n",
      "After trimming:  (46162, 9)\n",
      "data_3_8_2018/46_1_android.sensor.accelerometer.data.csv\n",
      "data_3_8_2018/46_4_android.sensor.gyroscope.data.csv\n",
      "Before trimming:  (49139, 9)\n",
      "After trimming:  (44140, 9)\n",
      "data_3_8_2018/47_1_android.sensor.accelerometer.data.csv\n",
      "data_3_8_2018/47_4_android.sensor.gyroscope.data.csv\n",
      "Before trimming:  (1330, 9)\n",
      "Continuing\n",
      "data_3_8_2018/48_1_android.sensor.accelerometer.data.csv\n",
      "data_3_8_2018/48_4_android.sensor.gyroscope.data.csv\n",
      "Before trimming:  (20019, 9)\n",
      "After trimming:  (15020, 9)\n",
      "data_3_8_2018/49_1_android.sensor.accelerometer.data.csv\n",
      "data_3_8_2018/49_4_android.sensor.gyroscope.data.csv\n",
      "Before trimming:  (43760, 9)\n",
      "After trimming:  (38761, 9)\n",
      "data_3_8_2018/4_1_android.sensor.accelerometer.data.csv\n",
      "data_3_8_2018/4_4_android.sensor.gyroscope.data.csv\n",
      "Before trimming:  (28195, 9)\n",
      "After trimming:  (23196, 9)\n",
      "data_3_8_2018/50_1_android.sensor.accelerometer.data.csv\n",
      "data_3_8_2018/50_4_android.sensor.gyroscope.data.csv\n",
      "Before trimming:  (34340, 9)\n",
      "After trimming:  (29341, 9)\n",
      "data_3_8_2018/51_1_android.sensor.accelerometer.data.csv\n",
      "data_3_8_2018/51_4_android.sensor.gyroscope.data.csv\n",
      "Before trimming:  (46645, 9)\n",
      "After trimming:  (41646, 9)\n",
      "data_3_8_2018/52_1_android.sensor.accelerometer.data.csv\n",
      "data_3_8_2018/52_4_android.sensor.gyroscope.data.csv\n",
      "Before trimming:  (55682, 9)\n",
      "After trimming:  (50683, 9)\n",
      "data_3_8_2018/53_1_android.sensor.accelerometer.data.csv\n",
      "data_3_8_2018/53_4_android.sensor.gyroscope.data.csv\n"
     ]
    },
    {
     "name": "stdout",
     "output_type": "stream",
     "text": [
      "Before trimming:  (41480, 9)\n",
      "After trimming:  (36481, 9)\n",
      "data_3_8_2018/54_1_android.sensor.accelerometer.data.csv\n",
      "data_3_8_2018/54_4_android.sensor.gyroscope.data.csv\n",
      "Before trimming:  (24216, 9)\n",
      "After trimming:  (19217, 9)\n",
      "data_3_8_2018/55_1_android.sensor.accelerometer.data.csv\n",
      "data_3_8_2018/55_4_android.sensor.gyroscope.data.csv\n",
      "Before trimming:  (28194, 9)\n",
      "After trimming:  (23195, 9)\n",
      "data_3_8_2018/56_1_android.sensor.accelerometer.data.csv\n",
      "data_3_8_2018/56_4_android.sensor.gyroscope.data.csv\n",
      "Before trimming:  (65843, 9)\n",
      "After trimming:  (60844, 9)\n",
      "data_3_8_2018/57_1_android.sensor.accelerometer.data.csv\n",
      "data_3_8_2018/57_4_android.sensor.gyroscope.data.csv\n",
      "Before trimming:  (52503, 9)\n",
      "After trimming:  (47504, 9)\n",
      "data_3_8_2018/58_1_android.sensor.accelerometer.data.csv\n",
      "data_3_8_2018/58_4_android.sensor.gyroscope.data.csv\n",
      "Before trimming:  (3949, 9)\n",
      "Continuing\n",
      "data_3_8_2018/59_1_android.sensor.accelerometer.data.csv\n",
      "data_3_8_2018/59_4_android.sensor.gyroscope.data.csv\n",
      "Before trimming:  (34729, 9)\n",
      "After trimming:  (29730, 9)\n",
      "data_3_8_2018/5_1_android.sensor.accelerometer.data.csv\n",
      "data_3_8_2018/5_4_android.sensor.gyroscope.data.csv\n",
      "Before trimming:  (26745, 9)\n",
      "After trimming:  (21746, 9)\n",
      "data_3_8_2018/60_1_android.sensor.accelerometer.data.csv\n",
      "data_3_8_2018/60_4_android.sensor.gyroscope.data.csv\n",
      "Before trimming:  (169085, 9)\n",
      "After trimming:  (164086, 9)\n",
      "data_3_8_2018/61_1_android.sensor.accelerometer.data.csv\n",
      "data_3_8_2018/61_4_android.sensor.gyroscope.data.csv\n",
      "Before trimming:  (162035, 9)\n",
      "After trimming:  (157036, 9)\n",
      "data_3_8_2018/62_1_android.sensor.accelerometer.data.csv\n",
      "data_3_8_2018/62_4_android.sensor.gyroscope.data.csv\n",
      "Before trimming:  (347637, 9)\n",
      "After trimming:  (342638, 9)\n",
      "data_3_8_2018/63_1_android.sensor.accelerometer.data.csv\n",
      "data_3_8_2018/63_4_android.sensor.gyroscope.data.csv\n",
      "Before trimming:  (94568, 9)\n",
      "After trimming:  (89569, 9)\n",
      "data_3_8_2018/64_1_android.sensor.accelerometer.data.csv\n",
      "data_3_8_2018/64_4_android.sensor.gyroscope.data.csv\n",
      "Before trimming:  (134375, 9)\n",
      "After trimming:  (129376, 9)\n",
      "data_3_8_2018/65_1_android.sensor.accelerometer.data.csv\n",
      "data_3_8_2018/65_4_android.sensor.gyroscope.data.csv\n",
      "Before trimming:  (90194, 9)\n",
      "After trimming:  (85195, 9)\n",
      "data_3_8_2018/66_1_android.sensor.accelerometer.data.csv\n",
      "data_3_8_2018/66_4_android.sensor.gyroscope.data.csv\n",
      "Before trimming:  (147740, 9)\n",
      "After trimming:  (142741, 9)\n",
      "data_3_8_2018/67_1_android.sensor.accelerometer.data.csv\n",
      "data_3_8_2018/67_4_android.sensor.gyroscope.data.csv\n",
      "Before trimming:  (104537, 9)\n",
      "After trimming:  (99538, 9)\n",
      "data_3_8_2018/68_1_android.sensor.accelerometer.data.csv\n",
      "data_3_8_2018/68_4_android.sensor.gyroscope.data.csv\n",
      "Before trimming:  (298819, 9)\n",
      "After trimming:  (293820, 9)\n",
      "data_3_8_2018/69_1_android.sensor.accelerometer.data.csv\n",
      "data_3_8_2018/69_4_android.sensor.gyroscope.data.csv\n",
      "Before trimming:  (152126, 9)\n",
      "After trimming:  (147127, 9)\n",
      "data_3_8_2018/6_1_android.sensor.accelerometer.data.csv\n",
      "data_3_8_2018/6_4_android.sensor.gyroscope.data.csv\n",
      "Before trimming:  (16111, 9)\n",
      "After trimming:  (11112, 9)\n",
      "data_3_8_2018/70_1_android.sensor.accelerometer.data.csv\n",
      "data_3_8_2018/70_4_android.sensor.gyroscope.data.csv\n",
      "Before trimming:  (387232, 9)\n",
      "After trimming:  (382233, 9)\n",
      "data_3_8_2018/7_1_android.sensor.accelerometer.data.csv\n",
      "data_3_8_2018/7_4_android.sensor.gyroscope.data.csv\n",
      "Before trimming:  (12051, 9)\n",
      "After trimming:  (7052, 9)\n",
      "data_3_8_2018/8_1_android.sensor.accelerometer.data.csv\n",
      "data_3_8_2018/8_4_android.sensor.gyroscope.data.csv\n",
      "Before trimming:  (35448, 9)\n",
      "After trimming:  (30449, 9)\n",
      "data_3_8_2018/9_1_android.sensor.accelerometer.data.csv\n",
      "data_3_8_2018/9_4_android.sensor.gyroscope.data.csv\n",
      "Before trimming:  (16228, 9)\n",
      "After trimming:  (11229, 9)\n",
      "\n",
      "Computing test features\n",
      "\n",
      "Window_size, Window_jump_steps:  1000 500\n",
      "test3/0_1_android.sensor.accelerometer.data.csv\n",
      "test3/0_4_android.sensor.gyroscope.data.csv\n",
      "Before trimming:  (49983, 9)\n",
      "After trimming:  (44984, 9)\n",
      "test3/10_1_android.sensor.accelerometer.data.csv\n",
      "test3/10_4_android.sensor.gyroscope.data.csv\n",
      "Before trimming:  (34108, 9)\n",
      "After trimming:  (29109, 9)\n",
      "test3/11_1_android.sensor.accelerometer.data.csv\n",
      "test3/11_4_android.sensor.gyroscope.data.csv\n",
      "Before trimming:  (41759, 9)\n",
      "After trimming:  (36760, 9)\n",
      "test3/12_1_android.sensor.accelerometer.data.csv\n",
      "test3/12_4_android.sensor.gyroscope.data.csv\n",
      "Before trimming:  (33919, 9)\n",
      "After trimming:  (28920, 9)\n",
      "test3/13_1_android.sensor.accelerometer.data.csv\n",
      "test3/13_4_android.sensor.gyroscope.data.csv\n",
      "Before trimming:  (36129, 9)\n",
      "After trimming:  (31130, 9)\n",
      "test3/14_1_android.sensor.accelerometer.data.csv\n",
      "test3/14_4_android.sensor.gyroscope.data.csv\n",
      "Before trimming:  (34649, 9)\n",
      "After trimming:  (29650, 9)\n",
      "test3/15_1_android.sensor.accelerometer.data.csv\n",
      "test3/15_4_android.sensor.gyroscope.data.csv\n",
      "Before trimming:  (40676, 9)\n",
      "After trimming:  (35677, 9)\n",
      "test3/16_1_android.sensor.accelerometer.data.csv\n",
      "test3/16_4_android.sensor.gyroscope.data.csv\n",
      "Before trimming:  (30362, 9)\n",
      "After trimming:  (25363, 9)\n",
      "test3/17_1_android.sensor.accelerometer.data.csv\n",
      "test3/17_4_android.sensor.gyroscope.data.csv\n",
      "Before trimming:  (125944, 9)\n",
      "After trimming:  (120945, 9)\n",
      "test3/18_1_android.sensor.accelerometer.data.csv\n",
      "test3/18_4_android.sensor.gyroscope.data.csv\n",
      "Before trimming:  (65362, 9)\n",
      "After trimming:  (60363, 9)\n",
      "test3/19_1_android.sensor.accelerometer.data.csv\n",
      "test3/19_4_android.sensor.gyroscope.data.csv\n",
      "Before trimming:  (34516, 9)\n",
      "After trimming:  (29517, 9)\n",
      "test3/1_1_android.sensor.accelerometer.data.csv\n",
      "test3/1_4_android.sensor.gyroscope.data.csv\n",
      "Before trimming:  (40329, 9)\n",
      "After trimming:  (35330, 9)\n",
      "test3/20_1_android.sensor.accelerometer.data.csv\n",
      "test3/20_4_android.sensor.gyroscope.data.csv\n",
      "Before trimming:  (39986, 9)\n",
      "After trimming:  (34987, 9)\n",
      "test3/21_1_android.sensor.accelerometer.data.csv\n",
      "test3/21_4_android.sensor.gyroscope.data.csv\n",
      "Before trimming:  (37883, 9)\n",
      "After trimming:  (32884, 9)\n",
      "test3/2_1_android.sensor.accelerometer.data.csv\n",
      "test3/2_4_android.sensor.gyroscope.data.csv\n",
      "Before trimming:  (44602, 9)\n",
      "After trimming:  (39603, 9)\n",
      "test3/3_1_android.sensor.accelerometer.data.csv\n",
      "test3/3_4_android.sensor.gyroscope.data.csv\n",
      "Before trimming:  (43603, 9)\n",
      "After trimming:  (38604, 9)\n",
      "test3/4_1_android.sensor.accelerometer.data.csv\n",
      "test3/4_4_android.sensor.gyroscope.data.csv\n",
      "Before trimming:  (3467, 9)\n",
      "Continuing\n",
      "test3/5_1_android.sensor.accelerometer.data.csv\n",
      "test3/5_4_android.sensor.gyroscope.data.csv\n",
      "Before trimming:  (33833, 9)\n",
      "After trimming:  (28834, 9)\n",
      "test3/6_1_android.sensor.accelerometer.data.csv\n",
      "test3/6_4_android.sensor.gyroscope.data.csv\n",
      "Before trimming:  (33153, 9)\n",
      "After trimming:  (28154, 9)\n",
      "test3/7_1_android.sensor.accelerometer.data.csv\n",
      "test3/7_4_android.sensor.gyroscope.data.csv\n",
      "Before trimming:  (33084, 9)\n",
      "After trimming:  (28085, 9)\n",
      "test3/8_1_android.sensor.accelerometer.data.csv\n",
      "test3/8_4_android.sensor.gyroscope.data.csv\n",
      "Before trimming:  (33954, 9)\n",
      "After trimming:  (28955, 9)\n",
      "test3/9_1_android.sensor.accelerometer.data.csv\n",
      "test3/9_4_android.sensor.gyroscope.data.csv\n",
      "Before trimming:  (34232, 9)\n",
      "After trimming:  (29233, 9)\n",
      "\n",
      "\n",
      "Shapes of train and test features:\n",
      "(7822, 67)\n",
      "(1562, 67)\n"
     ]
    }
   ],
   "source": [
    "train = True\n",
    "test = True\n",
    "\n",
    "test_dir = 'test4'\n",
    "train_dir = 'data_3_8_2018'\n",
    "\n",
    "\n",
    "if train:\n",
    "    print(\"\\nComputing train features\")\n",
    "    features = []\n",
    "    labels = []\n",
    "    features, labels = compute_acc_gyro_features(train_dir, features, labels, trim_num_seconds=10, acc_freq=4, window_num_seconds=4, window_step=2, jump_window=False, ignore_pickle=False)\n",
    "    \n",
    "if test:\n",
    "    print(\"\\nComputing test features\")\n",
    "    test_features = []\n",
    "    test_labels = []\n",
    "    test_features, test_labels = compute_acc_gyro_features(test_dir, test_features, test_labels, trim_num_seconds=10, acc_freq=4, window_num_seconds=4, window_step=2, jump_window=False, ignore_pickle=True)\n",
    "\n",
    "print(\"\\n\\nShapes of train and test features:\")\n",
    "print(features.shape)\n",
    "print(test_features.shape)"
   ]
  },
  {
   "cell_type": "markdown",
   "metadata": {},
   "source": [
    "## Compute features for accelerometer/gyroscope - train/test, jumping window"
   ]
  },
  {
   "cell_type": "code",
   "execution_count": 18,
   "metadata": {},
   "outputs": [
    {
     "name": "stdout",
     "output_type": "stream",
     "text": [
      "\n",
      "Computing train features\n",
      "\n",
      "Window_size, Window_jump_steps:  1000 1000\n",
      "\n",
      "Trying to find  pickles/acc_gyro_4s_jump_features.pickle\n",
      "data_3_8_2018/0_1_android.sensor.accelerometer.data.csv\n",
      "data_3_8_2018/0_4_android.sensor.gyroscope.data.csv\n",
      "Before trimming:  (20562, 9)\n",
      "After trimming:  (15563, 9)\n",
      "data_3_8_2018/10_1_android.sensor.accelerometer.data.csv\n",
      "data_3_8_2018/10_4_android.sensor.gyroscope.data.csv\n",
      "Before trimming:  (104000, 9)\n",
      "After trimming:  (99001, 9)\n",
      "data_3_8_2018/11_1_android.sensor.accelerometer.data.csv\n",
      "data_3_8_2018/11_4_android.sensor.gyroscope.data.csv\n",
      "Before trimming:  (47908, 9)\n",
      "After trimming:  (42909, 9)\n",
      "data_3_8_2018/12_1_android.sensor.accelerometer.data.csv\n",
      "data_3_8_2018/12_4_android.sensor.gyroscope.data.csv\n",
      "Before trimming:  (34142, 9)\n",
      "After trimming:  (29143, 9)\n",
      "data_3_8_2018/13_1_android.sensor.accelerometer.data.csv\n",
      "data_3_8_2018/13_4_android.sensor.gyroscope.data.csv\n",
      "Before trimming:  (50014, 9)\n",
      "After trimming:  (45015, 9)\n",
      "data_3_8_2018/14_1_android.sensor.accelerometer.data.csv\n",
      "data_3_8_2018/14_4_android.sensor.gyroscope.data.csv\n",
      "Before trimming:  (43483, 9)\n",
      "After trimming:  (38484, 9)\n",
      "data_3_8_2018/15_1_android.sensor.accelerometer.data.csv\n",
      "data_3_8_2018/15_4_android.sensor.gyroscope.data.csv\n",
      "Before trimming:  (52322, 9)\n",
      "After trimming:  (47323, 9)\n",
      "data_3_8_2018/16_1_android.sensor.accelerometer.data.csv\n",
      "data_3_8_2018/16_4_android.sensor.gyroscope.data.csv\n",
      "Before trimming:  (43842, 9)\n",
      "After trimming:  (38843, 9)\n",
      "data_3_8_2018/17_1_android.sensor.accelerometer.data.csv\n",
      "data_3_8_2018/17_4_android.sensor.gyroscope.data.csv\n",
      "Before trimming:  (33147, 9)\n",
      "After trimming:  (28148, 9)\n",
      "data_3_8_2018/18_1_android.sensor.accelerometer.data.csv\n",
      "data_3_8_2018/18_4_android.sensor.gyroscope.data.csv\n",
      "Before trimming:  (33669, 9)\n",
      "After trimming:  (28670, 9)\n",
      "data_3_8_2018/19_1_android.sensor.accelerometer.data.csv\n",
      "data_3_8_2018/19_4_android.sensor.gyroscope.data.csv\n",
      "Before trimming:  (29998, 9)\n",
      "After trimming:  (24999, 9)\n",
      "data_3_8_2018/1_1_android.sensor.accelerometer.data.csv\n",
      "data_3_8_2018/1_4_android.sensor.gyroscope.data.csv\n",
      "Before trimming:  (18396, 9)\n",
      "After trimming:  (13397, 9)\n",
      "data_3_8_2018/20_1_android.sensor.accelerometer.data.csv\n",
      "data_3_8_2018/20_4_android.sensor.gyroscope.data.csv\n",
      "Before trimming:  (33824, 9)\n",
      "After trimming:  (28825, 9)\n",
      "data_3_8_2018/21_1_android.sensor.accelerometer.data.csv\n",
      "data_3_8_2018/21_4_android.sensor.gyroscope.data.csv\n",
      "Before trimming:  (48033, 9)\n",
      "After trimming:  (43034, 9)\n",
      "data_3_8_2018/22_1_android.sensor.accelerometer.data.csv\n",
      "data_3_8_2018/22_4_android.sensor.gyroscope.data.csv\n",
      "Before trimming:  (34053, 9)\n",
      "After trimming:  (29054, 9)\n",
      "data_3_8_2018/23_1_android.sensor.accelerometer.data.csv\n",
      "data_3_8_2018/23_4_android.sensor.gyroscope.data.csv\n",
      "Before trimming:  (34366, 9)\n",
      "After trimming:  (29367, 9)\n",
      "data_3_8_2018/24_1_android.sensor.accelerometer.data.csv\n",
      "data_3_8_2018/24_4_android.sensor.gyroscope.data.csv\n",
      "Before trimming:  (31982, 9)\n",
      "After trimming:  (26983, 9)\n",
      "data_3_8_2018/25_1_android.sensor.accelerometer.data.csv\n",
      "data_3_8_2018/25_4_android.sensor.gyroscope.data.csv\n",
      "Before trimming:  (40277, 9)\n",
      "After trimming:  (35278, 9)\n",
      "data_3_8_2018/26_1_android.sensor.accelerometer.data.csv\n",
      "data_3_8_2018/26_4_android.sensor.gyroscope.data.csv\n",
      "Before trimming:  (34135, 9)\n",
      "After trimming:  (29136, 9)\n",
      "data_3_8_2018/27_1_android.sensor.accelerometer.data.csv\n",
      "data_3_8_2018/27_4_android.sensor.gyroscope.data.csv\n",
      "Before trimming:  (32930, 9)\n",
      "After trimming:  (27931, 9)\n",
      "data_3_8_2018/28_1_android.sensor.accelerometer.data.csv\n",
      "data_3_8_2018/28_4_android.sensor.gyroscope.data.csv\n",
      "Before trimming:  (43705, 9)\n",
      "After trimming:  (38706, 9)\n",
      "data_3_8_2018/29_1_android.sensor.accelerometer.data.csv\n",
      "data_3_8_2018/29_4_android.sensor.gyroscope.data.csv\n",
      "Before trimming:  (44011, 9)\n",
      "After trimming:  (39012, 9)\n",
      "data_3_8_2018/2_1_android.sensor.accelerometer.data.csv\n",
      "data_3_8_2018/2_4_android.sensor.gyroscope.data.csv\n",
      "Before trimming:  (48802, 9)\n",
      "After trimming:  (43803, 9)\n",
      "data_3_8_2018/30_1_android.sensor.accelerometer.data.csv\n",
      "data_3_8_2018/30_4_android.sensor.gyroscope.data.csv\n",
      "Before trimming:  (45456, 9)\n",
      "After trimming:  (40457, 9)\n",
      "data_3_8_2018/31_1_android.sensor.accelerometer.data.csv\n",
      "data_3_8_2018/31_4_android.sensor.gyroscope.data.csv\n",
      "Before trimming:  (53069, 9)\n",
      "After trimming:  (48070, 9)\n",
      "data_3_8_2018/32_1_android.sensor.accelerometer.data.csv\n",
      "data_3_8_2018/32_4_android.sensor.gyroscope.data.csv\n",
      "Before trimming:  (45572, 9)\n",
      "After trimming:  (40573, 9)\n",
      "data_3_8_2018/33_1_android.sensor.accelerometer.data.csv\n",
      "data_3_8_2018/33_4_android.sensor.gyroscope.data.csv\n",
      "Before trimming:  (34246, 9)\n",
      "After trimming:  (29247, 9)\n",
      "data_3_8_2018/34_1_android.sensor.accelerometer.data.csv\n",
      "data_3_8_2018/34_4_android.sensor.gyroscope.data.csv\n",
      "Before trimming:  (37615, 9)\n",
      "After trimming:  (32616, 9)\n",
      "data_3_8_2018/35_1_android.sensor.accelerometer.data.csv\n",
      "data_3_8_2018/35_4_android.sensor.gyroscope.data.csv\n",
      "Before trimming:  (15743, 9)\n",
      "After trimming:  (10744, 9)\n",
      "data_3_8_2018/36_1_android.sensor.accelerometer.data.csv\n",
      "data_3_8_2018/36_4_android.sensor.gyroscope.data.csv\n",
      "Before trimming:  (13667, 9)\n",
      "After trimming:  (8668, 9)\n",
      "data_3_8_2018/37_1_android.sensor.accelerometer.data.csv\n",
      "data_3_8_2018/37_4_android.sensor.gyroscope.data.csv\n",
      "Before trimming:  (34897, 9)\n",
      "After trimming:  (29898, 9)\n",
      "data_3_8_2018/38_1_android.sensor.accelerometer.data.csv\n",
      "data_3_8_2018/38_4_android.sensor.gyroscope.data.csv\n",
      "Before trimming:  (35308, 9)\n",
      "After trimming:  (30309, 9)\n",
      "data_3_8_2018/39_1_android.sensor.accelerometer.data.csv\n",
      "data_3_8_2018/39_4_android.sensor.gyroscope.data.csv\n",
      "Before trimming:  (36736, 9)\n",
      "After trimming:  (31737, 9)\n",
      "data_3_8_2018/3_1_android.sensor.accelerometer.data.csv\n",
      "data_3_8_2018/3_4_android.sensor.gyroscope.data.csv\n",
      "Before trimming:  (16745, 9)\n",
      "After trimming:  (11746, 9)\n",
      "data_3_8_2018/40_1_android.sensor.accelerometer.data.csv\n",
      "data_3_8_2018/40_4_android.sensor.gyroscope.data.csv\n",
      "Before trimming:  (35512, 9)\n",
      "After trimming:  (30513, 9)\n",
      "data_3_8_2018/41_1_android.sensor.accelerometer.data.csv\n",
      "data_3_8_2018/41_4_android.sensor.gyroscope.data.csv\n",
      "Before trimming:  (52246, 9)\n",
      "After trimming:  (47247, 9)\n",
      "data_3_8_2018/42_1_android.sensor.accelerometer.data.csv\n",
      "data_3_8_2018/42_4_android.sensor.gyroscope.data.csv\n",
      "Before trimming:  (21106, 9)\n",
      "After trimming:  (16107, 9)\n",
      "data_3_8_2018/43_1_android.sensor.accelerometer.data.csv\n",
      "data_3_8_2018/43_4_android.sensor.gyroscope.data.csv\n",
      "Before trimming:  (62681, 9)\n",
      "After trimming:  (57682, 9)\n",
      "data_3_8_2018/44_1_android.sensor.accelerometer.data.csv\n",
      "data_3_8_2018/44_4_android.sensor.gyroscope.data.csv\n",
      "Before trimming:  (56415, 9)\n",
      "After trimming:  (51416, 9)\n",
      "data_3_8_2018/45_1_android.sensor.accelerometer.data.csv\n",
      "data_3_8_2018/45_4_android.sensor.gyroscope.data.csv\n",
      "Before trimming:  (51161, 9)\n",
      "After trimming:  (46162, 9)\n",
      "data_3_8_2018/46_1_android.sensor.accelerometer.data.csv\n",
      "data_3_8_2018/46_4_android.sensor.gyroscope.data.csv\n",
      "Before trimming:  (49139, 9)\n",
      "After trimming:  (44140, 9)\n",
      "data_3_8_2018/47_1_android.sensor.accelerometer.data.csv\n",
      "data_3_8_2018/47_4_android.sensor.gyroscope.data.csv\n",
      "Before trimming:  (1330, 9)\n",
      "Continuing\n",
      "data_3_8_2018/48_1_android.sensor.accelerometer.data.csv\n",
      "data_3_8_2018/48_4_android.sensor.gyroscope.data.csv\n",
      "Before trimming:  (20019, 9)\n",
      "After trimming:  (15020, 9)\n",
      "data_3_8_2018/49_1_android.sensor.accelerometer.data.csv\n",
      "data_3_8_2018/49_4_android.sensor.gyroscope.data.csv\n",
      "Before trimming:  (43760, 9)\n",
      "After trimming:  (38761, 9)\n",
      "data_3_8_2018/4_1_android.sensor.accelerometer.data.csv\n",
      "data_3_8_2018/4_4_android.sensor.gyroscope.data.csv\n",
      "Before trimming:  (28195, 9)\n",
      "After trimming:  (23196, 9)\n",
      "data_3_8_2018/50_1_android.sensor.accelerometer.data.csv\n",
      "data_3_8_2018/50_4_android.sensor.gyroscope.data.csv\n",
      "Before trimming:  (34340, 9)\n",
      "After trimming:  (29341, 9)\n",
      "data_3_8_2018/51_1_android.sensor.accelerometer.data.csv\n",
      "data_3_8_2018/51_4_android.sensor.gyroscope.data.csv\n",
      "Before trimming:  (46645, 9)\n",
      "After trimming:  (41646, 9)\n",
      "data_3_8_2018/52_1_android.sensor.accelerometer.data.csv\n",
      "data_3_8_2018/52_4_android.sensor.gyroscope.data.csv\n",
      "Before trimming:  (55682, 9)\n",
      "After trimming:  (50683, 9)\n",
      "data_3_8_2018/53_1_android.sensor.accelerometer.data.csv\n",
      "data_3_8_2018/53_4_android.sensor.gyroscope.data.csv\n"
     ]
    },
    {
     "name": "stdout",
     "output_type": "stream",
     "text": [
      "Before trimming:  (41480, 9)\n",
      "After trimming:  (36481, 9)\n",
      "data_3_8_2018/54_1_android.sensor.accelerometer.data.csv\n",
      "data_3_8_2018/54_4_android.sensor.gyroscope.data.csv\n",
      "Before trimming:  (24216, 9)\n",
      "After trimming:  (19217, 9)\n",
      "data_3_8_2018/55_1_android.sensor.accelerometer.data.csv\n",
      "data_3_8_2018/55_4_android.sensor.gyroscope.data.csv\n",
      "Before trimming:  (28194, 9)\n",
      "After trimming:  (23195, 9)\n",
      "data_3_8_2018/56_1_android.sensor.accelerometer.data.csv\n",
      "data_3_8_2018/56_4_android.sensor.gyroscope.data.csv\n",
      "Before trimming:  (65843, 9)\n",
      "After trimming:  (60844, 9)\n",
      "data_3_8_2018/57_1_android.sensor.accelerometer.data.csv\n",
      "data_3_8_2018/57_4_android.sensor.gyroscope.data.csv\n",
      "Before trimming:  (52503, 9)\n",
      "After trimming:  (47504, 9)\n",
      "data_3_8_2018/58_1_android.sensor.accelerometer.data.csv\n",
      "data_3_8_2018/58_4_android.sensor.gyroscope.data.csv\n",
      "Before trimming:  (3949, 9)\n",
      "Continuing\n",
      "data_3_8_2018/59_1_android.sensor.accelerometer.data.csv\n",
      "data_3_8_2018/59_4_android.sensor.gyroscope.data.csv\n",
      "Before trimming:  (34729, 9)\n",
      "After trimming:  (29730, 9)\n",
      "data_3_8_2018/5_1_android.sensor.accelerometer.data.csv\n",
      "data_3_8_2018/5_4_android.sensor.gyroscope.data.csv\n",
      "Before trimming:  (26745, 9)\n",
      "After trimming:  (21746, 9)\n",
      "data_3_8_2018/60_1_android.sensor.accelerometer.data.csv\n",
      "data_3_8_2018/60_4_android.sensor.gyroscope.data.csv\n",
      "Before trimming:  (169085, 9)\n",
      "After trimming:  (164086, 9)\n",
      "data_3_8_2018/61_1_android.sensor.accelerometer.data.csv\n",
      "data_3_8_2018/61_4_android.sensor.gyroscope.data.csv\n",
      "Before trimming:  (162035, 9)\n",
      "After trimming:  (157036, 9)\n",
      "data_3_8_2018/62_1_android.sensor.accelerometer.data.csv\n",
      "data_3_8_2018/62_4_android.sensor.gyroscope.data.csv\n",
      "Before trimming:  (347637, 9)\n",
      "After trimming:  (342638, 9)\n",
      "data_3_8_2018/63_1_android.sensor.accelerometer.data.csv\n",
      "data_3_8_2018/63_4_android.sensor.gyroscope.data.csv\n",
      "Before trimming:  (94568, 9)\n",
      "After trimming:  (89569, 9)\n",
      "data_3_8_2018/64_1_android.sensor.accelerometer.data.csv\n",
      "data_3_8_2018/64_4_android.sensor.gyroscope.data.csv\n",
      "Before trimming:  (134375, 9)\n",
      "After trimming:  (129376, 9)\n",
      "data_3_8_2018/65_1_android.sensor.accelerometer.data.csv\n",
      "data_3_8_2018/65_4_android.sensor.gyroscope.data.csv\n",
      "Before trimming:  (90194, 9)\n",
      "After trimming:  (85195, 9)\n",
      "data_3_8_2018/66_1_android.sensor.accelerometer.data.csv\n",
      "data_3_8_2018/66_4_android.sensor.gyroscope.data.csv\n",
      "Before trimming:  (147740, 9)\n",
      "After trimming:  (142741, 9)\n",
      "data_3_8_2018/67_1_android.sensor.accelerometer.data.csv\n",
      "data_3_8_2018/67_4_android.sensor.gyroscope.data.csv\n",
      "Before trimming:  (104537, 9)\n",
      "After trimming:  (99538, 9)\n",
      "data_3_8_2018/68_1_android.sensor.accelerometer.data.csv\n",
      "data_3_8_2018/68_4_android.sensor.gyroscope.data.csv\n",
      "Before trimming:  (298819, 9)\n",
      "After trimming:  (293820, 9)\n",
      "data_3_8_2018/69_1_android.sensor.accelerometer.data.csv\n",
      "data_3_8_2018/69_4_android.sensor.gyroscope.data.csv\n",
      "Before trimming:  (152126, 9)\n",
      "After trimming:  (147127, 9)\n",
      "data_3_8_2018/6_1_android.sensor.accelerometer.data.csv\n",
      "data_3_8_2018/6_4_android.sensor.gyroscope.data.csv\n",
      "Before trimming:  (16111, 9)\n",
      "After trimming:  (11112, 9)\n",
      "data_3_8_2018/70_1_android.sensor.accelerometer.data.csv\n",
      "data_3_8_2018/70_4_android.sensor.gyroscope.data.csv\n",
      "Before trimming:  (387232, 9)\n",
      "After trimming:  (382233, 9)\n",
      "data_3_8_2018/7_1_android.sensor.accelerometer.data.csv\n",
      "data_3_8_2018/7_4_android.sensor.gyroscope.data.csv\n",
      "Before trimming:  (12051, 9)\n",
      "After trimming:  (7052, 9)\n",
      "data_3_8_2018/8_1_android.sensor.accelerometer.data.csv\n",
      "data_3_8_2018/8_4_android.sensor.gyroscope.data.csv\n",
      "Before trimming:  (35448, 9)\n",
      "After trimming:  (30449, 9)\n",
      "data_3_8_2018/9_1_android.sensor.accelerometer.data.csv\n",
      "data_3_8_2018/9_4_android.sensor.gyroscope.data.csv\n",
      "Before trimming:  (16228, 9)\n",
      "After trimming:  (11229, 9)\n",
      "\n",
      "Computing test features\n",
      "\n",
      "Window_size, Window_jump_steps:  1000 1000\n",
      "test3/0_1_android.sensor.accelerometer.data.csv\n",
      "test3/0_4_android.sensor.gyroscope.data.csv\n",
      "Before trimming:  (49983, 9)\n",
      "After trimming:  (44984, 9)\n",
      "test3/10_1_android.sensor.accelerometer.data.csv\n",
      "test3/10_4_android.sensor.gyroscope.data.csv\n",
      "Before trimming:  (34108, 9)\n",
      "After trimming:  (29109, 9)\n",
      "test3/11_1_android.sensor.accelerometer.data.csv\n",
      "test3/11_4_android.sensor.gyroscope.data.csv\n",
      "Before trimming:  (41759, 9)\n",
      "After trimming:  (36760, 9)\n",
      "test3/12_1_android.sensor.accelerometer.data.csv\n",
      "test3/12_4_android.sensor.gyroscope.data.csv\n",
      "Before trimming:  (33919, 9)\n",
      "After trimming:  (28920, 9)\n",
      "test3/13_1_android.sensor.accelerometer.data.csv\n",
      "test3/13_4_android.sensor.gyroscope.data.csv\n",
      "Before trimming:  (36129, 9)\n",
      "After trimming:  (31130, 9)\n",
      "test3/14_1_android.sensor.accelerometer.data.csv\n",
      "test3/14_4_android.sensor.gyroscope.data.csv\n",
      "Before trimming:  (34649, 9)\n",
      "After trimming:  (29650, 9)\n",
      "test3/15_1_android.sensor.accelerometer.data.csv\n",
      "test3/15_4_android.sensor.gyroscope.data.csv\n",
      "Before trimming:  (40676, 9)\n",
      "After trimming:  (35677, 9)\n",
      "test3/16_1_android.sensor.accelerometer.data.csv\n",
      "test3/16_4_android.sensor.gyroscope.data.csv\n",
      "Before trimming:  (30362, 9)\n",
      "After trimming:  (25363, 9)\n",
      "test3/17_1_android.sensor.accelerometer.data.csv\n",
      "test3/17_4_android.sensor.gyroscope.data.csv\n",
      "Before trimming:  (125944, 9)\n",
      "After trimming:  (120945, 9)\n",
      "test3/18_1_android.sensor.accelerometer.data.csv\n",
      "test3/18_4_android.sensor.gyroscope.data.csv\n",
      "Before trimming:  (65362, 9)\n",
      "After trimming:  (60363, 9)\n",
      "test3/19_1_android.sensor.accelerometer.data.csv\n",
      "test3/19_4_android.sensor.gyroscope.data.csv\n",
      "Before trimming:  (34516, 9)\n",
      "After trimming:  (29517, 9)\n",
      "test3/1_1_android.sensor.accelerometer.data.csv\n",
      "test3/1_4_android.sensor.gyroscope.data.csv\n",
      "Before trimming:  (40329, 9)\n",
      "After trimming:  (35330, 9)\n",
      "test3/20_1_android.sensor.accelerometer.data.csv\n",
      "test3/20_4_android.sensor.gyroscope.data.csv\n",
      "Before trimming:  (39986, 9)\n",
      "After trimming:  (34987, 9)\n",
      "test3/21_1_android.sensor.accelerometer.data.csv\n",
      "test3/21_4_android.sensor.gyroscope.data.csv\n",
      "Before trimming:  (37883, 9)\n",
      "After trimming:  (32884, 9)\n",
      "test3/2_1_android.sensor.accelerometer.data.csv\n",
      "test3/2_4_android.sensor.gyroscope.data.csv\n",
      "Before trimming:  (44602, 9)\n",
      "After trimming:  (39603, 9)\n",
      "test3/3_1_android.sensor.accelerometer.data.csv\n",
      "test3/3_4_android.sensor.gyroscope.data.csv\n",
      "Before trimming:  (43603, 9)\n",
      "After trimming:  (38604, 9)\n",
      "test3/4_1_android.sensor.accelerometer.data.csv\n",
      "test3/4_4_android.sensor.gyroscope.data.csv\n",
      "Before trimming:  (3467, 9)\n",
      "Continuing\n",
      "test3/5_1_android.sensor.accelerometer.data.csv\n",
      "test3/5_4_android.sensor.gyroscope.data.csv\n",
      "Before trimming:  (33833, 9)\n",
      "After trimming:  (28834, 9)\n",
      "test3/6_1_android.sensor.accelerometer.data.csv\n",
      "test3/6_4_android.sensor.gyroscope.data.csv\n",
      "Before trimming:  (33153, 9)\n",
      "After trimming:  (28154, 9)\n",
      "test3/7_1_android.sensor.accelerometer.data.csv\n",
      "test3/7_4_android.sensor.gyroscope.data.csv\n",
      "Before trimming:  (33084, 9)\n",
      "After trimming:  (28085, 9)\n",
      "test3/8_1_android.sensor.accelerometer.data.csv\n",
      "test3/8_4_android.sensor.gyroscope.data.csv\n",
      "Before trimming:  (33954, 9)\n",
      "After trimming:  (28955, 9)\n",
      "test3/9_1_android.sensor.accelerometer.data.csv\n",
      "test3/9_4_android.sensor.gyroscope.data.csv\n",
      "Before trimming:  (34232, 9)\n",
      "After trimming:  (29233, 9)\n",
      "\n",
      "\n",
      "Shapes of train and test features:\n",
      "(3930, 67)\n",
      "(785, 67)\n"
     ]
    }
   ],
   "source": [
    "train = True\n",
    "test = True\n",
    "\n",
    "test_dir = 'test4'\n",
    "train_dir = 'data_3_8_2018'\n",
    "\n",
    "if train:\n",
    "    print(\"\\nComputing train features\")\n",
    "    features = []\n",
    "    labels = []\n",
    "    features, labels = compute_acc_gyro_features(train_dir, features, labels, trim_num_seconds=10, acc_freq=4, window_num_seconds=4, window_step=2, jump_window=True, ignore_pickle=False)\n",
    "    \n",
    "if test:\n",
    "    print(\"\\nComputing test features\")\n",
    "    test_features = []\n",
    "    test_labels = []\n",
    "    test_features, test_labels = compute_acc_gyro_features(test_dir, test_features, test_labels, trim_num_seconds=10, acc_freq=4, window_num_seconds=4, window_step=2, jump_window=True, ignore_pickle=True)\n",
    "\n",
    "print(\"\\n\\nShapes of train and test features:\")\n",
    "print(features.shape)\n",
    "print(test_features.shape)"
   ]
  },
  {
   "cell_type": "markdown",
   "metadata": {},
   "source": [
    "## Utility to compute LSTM features for accelerometer"
   ]
  },
  {
   "cell_type": "code",
   "execution_count": 40,
   "metadata": {},
   "outputs": [],
   "source": [
    "#this function assumes that records are evenly spaced\n",
    "def trim_first_last_n_seconds(df, n, freq):\n",
    "    if df.shape[0] < 6001:\n",
    "        return None\n",
    "    \n",
    "    remove_indexes = list(range(0, int(n*1000/freq)))\n",
    "    df = df.drop(remove_indexes)\n",
    "\n",
    "    remove_indexes = list(range(df.shape[0] - int(n*1000/freq), df.shape[0]-1))\n",
    "    df = df.drop(remove_indexes)\n",
    "    \n",
    "    return df\n",
    "\n",
    "\n",
    "def compute_lstm_accelerometer_features(in_dir, features, labels, trim_num_seconds=10, acc_freq=4, window_num_seconds=4, window_step=2, jump_window=False, ignore_pickle=False):\n",
    "    \n",
    "    steps_per_sec = int(1000/acc_freq)\n",
    "    window_size = int(window_num_seconds*steps_per_sec)\n",
    "    \n",
    "    window_jump_steps = 0\n",
    "    if jump_window:\n",
    "        window_jump_steps = window_size\n",
    "    else:\n",
    "        window_jump_steps = int(window_step*steps_per_sec)\n",
    "\n",
    "    print(\"\\nWindow_size, Window_jump_steps: \", window_size, window_jump_steps)\n",
    "    \n",
    "\n",
    "    dfs_list = []\n",
    "\n",
    "\n",
    "    pickle_folder = \"pickles/\"\n",
    "    if jump_window:\n",
    "        features_pickle_file_name = \"lstm_accerlerometer_\" + str(window_num_seconds) + \"s_\" + \"jump\" + \"_\" + \"features.pickle\"\n",
    "        labels_pickle_file_name = \"lstm_accerlerometer_\" + str(window_num_seconds) + \"s_\" + \"jump\" + \"_\" + \"labels.pickle\"\n",
    "        dfs_list_pickle_file_name = \"lstm_accerlerometer_\" + str(window_num_seconds) + \"s_\" + \"jump\" + \"_\" + \"dfs_list.pickle\"\n",
    "    else:\n",
    "        features_pickle_file_name = \"lstm_accerlerometer_\" + str(window_num_seconds) + \"s_\" + str(window_step) + \"s_\" + \"features.pickle\"\n",
    "        labels_pickle_file_name = \"lstm_accerlerometer_\" + str(window_num_seconds) + \"s_\" + str(window_step) + \"s_\" + \"labels.pickle\"\n",
    "        dfs_list_pickle_file_name = \"lstm_accerlerometer_\" + str(window_num_seconds) + \"s_\" + str(window_step) + \"s_\" + \"dfs_list.pickle\"\n",
    "    \n",
    "    if not ignore_pickle:\n",
    "        print(\"\\nTrying to find \", pickle_folder + features_pickle_file_name)\n",
    "        \n",
    "    pickle_file = Path(pickle_folder + features_pickle_file_name)\n",
    "\n",
    "    if pickle_file.exists() and not ignore_pickle:\n",
    "        print(\"\\n\\nFound pickle files for accelerometer\\n\\n\")\n",
    "\n",
    "        features = pickle.load(open(pickle_folder + features_pickle_file_name, \"rb\"))\n",
    "        labels = pickle.load(open(pickle_folder + labels_pickle_file_name, \"rb\"))\n",
    "        dfs_list = pickle.load(open(pickle_folder + dfs_list_pickle_file_name, \"rb\"))    \n",
    "    else:\n",
    "\n",
    "        for root, dirs, files in os.walk(in_dir):\n",
    "            path = root.split(os.sep)\n",
    "\n",
    "            for f in files:\n",
    "\n",
    "                accelerometer_path = \"/\".join(path) + \"/\" + f\n",
    "                print(accelerometer_path)\n",
    "\n",
    "\n",
    "                df = pd.read_csv(accelerometer_path, header=None)\n",
    "\n",
    "                print(\"Before trimming: \", df.shape)\n",
    "\n",
    "                df = trim_first_last_n_seconds(df, trim_num_seconds, acc_freq)\n",
    "                if df is None:\n",
    "                    print(\"Continuing\")\n",
    "                    continue\n",
    "\n",
    "                print(\"After trimming: \", df.shape)\n",
    "\n",
    "                #Sample the data according to the size of the window with 50% overlap\n",
    "                for index in range(0, df.shape[0]-window_size, window_jump_steps):\n",
    "                    indexes = list(range(index, index + int(window_size)))\n",
    "\n",
    "                    window = df.iloc[indexes, 1:df.shape[1]-2]\n",
    "\n",
    "                    #Generate the features for this window            \n",
    "                    features.append(np.asarray(window))\n",
    "\n",
    "                    #Store the label\n",
    "                    labels.append(df[5].iloc[0])\n",
    "\n",
    "                dfs_list.append(df)\n",
    "\n",
    "        dfs = pd.concat(dfs_list)\n",
    "\n",
    "        if not ignore_pickle:\n",
    "\n",
    "            pickle.dump(features, open(pickle_folder + features_pickle_file_name, \"wb\"), protocol=2)\n",
    "            pickle.dump(labels, open(pickle_folder + labels_pickle_file_name, \"wb\"), protocol=2)\n",
    "            pickle.dump(dfs_list, open(pickle_folder + dfs_list_pickle_file_name, \"wb\"), protocol=2)\n",
    "\n",
    "    features = np.asarray(features)\n",
    "    labels = np.asarray(labels)\n",
    "    \n",
    "    return features, labels"
   ]
  },
  {
   "cell_type": "markdown",
   "metadata": {},
   "source": [
    "## Compute features for LSTM accerlerometer, train/test sliding window 50% overlap"
   ]
  },
  {
   "cell_type": "code",
   "execution_count": 41,
   "metadata": {
    "scrolled": true
   },
   "outputs": [
    {
     "name": "stdout",
     "output_type": "stream",
     "text": [
      "\n",
      "Computing train features\n",
      "\n",
      "Window_size, Window_jump_steps:  1000 500\n",
      "\n",
      "Trying to find  pickles/lstm_accerlerometer_4s_2s_features.pickle\n",
      "\n",
      "\n",
      "Found pickle files for accelerometer\n",
      "\n",
      "\n",
      "\n",
      "Computing test features\n",
      "\n",
      "Window_size, Window_jump_steps:  1000 500\n",
      "test3/0_1_android.sensor.accelerometer.data.csv\n",
      "Before trimming:  (50530, 6)\n",
      "After trimming:  (45531, 6)\n",
      "test3/0_4_android.sensor.gyroscope.data.csv\n",
      "Before trimming:  (52923, 6)\n",
      "After trimming:  (47924, 6)\n",
      "test3/10_1_android.sensor.accelerometer.data.csv\n",
      "Before trimming:  (60055, 6)\n",
      "After trimming:  (55056, 6)\n",
      "test3/10_4_android.sensor.gyroscope.data.csv\n",
      "Before trimming:  (34127, 6)\n",
      "After trimming:  (29128, 6)\n",
      "test3/11_1_android.sensor.accelerometer.data.csv\n",
      "Before trimming:  (49816, 6)\n",
      "After trimming:  (44817, 6)\n",
      "test3/11_4_android.sensor.gyroscope.data.csv\n",
      "Before trimming:  (43534, 6)\n",
      "After trimming:  (38535, 6)\n",
      "test3/12_1_android.sensor.accelerometer.data.csv\n",
      "Before trimming:  (60027, 6)\n",
      "After trimming:  (55028, 6)\n",
      "test3/12_4_android.sensor.gyroscope.data.csv\n",
      "Before trimming:  (33937, 6)\n",
      "After trimming:  (28938, 6)\n",
      "test3/13_1_android.sensor.accelerometer.data.csv\n",
      "Before trimming:  (56395, 6)\n",
      "After trimming:  (51396, 6)\n",
      "test3/13_4_android.sensor.gyroscope.data.csv\n",
      "Before trimming:  (36632, 6)\n",
      "After trimming:  (31633, 6)\n",
      "test3/14_1_android.sensor.accelerometer.data.csv\n",
      "Before trimming:  (60088, 6)\n",
      "After trimming:  (55089, 6)\n",
      "test3/14_4_android.sensor.gyroscope.data.csv\n",
      "Before trimming:  (34686, 6)\n",
      "After trimming:  (29687, 6)\n",
      "test3/15_1_android.sensor.accelerometer.data.csv\n",
      "Before trimming:  (44307, 6)\n",
      "After trimming:  (39308, 6)\n",
      "test3/15_4_android.sensor.gyroscope.data.csv\n",
      "Before trimming:  (42939, 6)\n",
      "After trimming:  (37940, 6)\n",
      "test3/16_1_android.sensor.accelerometer.data.csv\n",
      "Before trimming:  (59987, 6)\n",
      "After trimming:  (54988, 6)\n",
      "test3/16_4_android.sensor.gyroscope.data.csv\n",
      "Before trimming:  (30382, 6)\n",
      "After trimming:  (25383, 6)\n",
      "test3/17_1_android.sensor.accelerometer.data.csv\n",
      "Before trimming:  (182419, 6)\n",
      "After trimming:  (177420, 6)\n",
      "test3/17_4_android.sensor.gyroscope.data.csv\n",
      "Before trimming:  (129050, 6)\n",
      "After trimming:  (124051, 6)\n",
      "test3/18_1_android.sensor.accelerometer.data.csv\n",
      "Before trimming:  (84054, 6)\n",
      "After trimming:  (79055, 6)\n",
      "test3/18_4_android.sensor.gyroscope.data.csv\n",
      "Before trimming:  (67586, 6)\n",
      "After trimming:  (62587, 6)\n",
      "test3/19_1_android.sensor.accelerometer.data.csv\n",
      "Before trimming:  (67482, 6)\n",
      "After trimming:  (62483, 6)\n",
      "test3/19_4_android.sensor.gyroscope.data.csv\n",
      "Before trimming:  (34532, 6)\n",
      "After trimming:  (29533, 6)\n",
      "test3/1_1_android.sensor.accelerometer.data.csv\n",
      "Before trimming:  (73952, 6)\n",
      "After trimming:  (68953, 6)\n",
      "test3/1_4_android.sensor.gyroscope.data.csv\n",
      "Before trimming:  (40346, 6)\n",
      "After trimming:  (35347, 6)\n",
      "test3/20_1_android.sensor.accelerometer.data.csv\n",
      "Before trimming:  (77573, 6)\n",
      "After trimming:  (72574, 6)\n",
      "test3/20_4_android.sensor.gyroscope.data.csv\n",
      "Before trimming:  (40403, 6)\n",
      "After trimming:  (35404, 6)\n",
      "test3/21_1_android.sensor.accelerometer.data.csv\n",
      "Before trimming:  (72875, 6)\n",
      "After trimming:  (67876, 6)\n",
      "test3/21_4_android.sensor.gyroscope.data.csv\n",
      "Before trimming:  (37899, 6)\n",
      "After trimming:  (32900, 6)\n",
      "test3/2_1_android.sensor.accelerometer.data.csv\n",
      "Before trimming:  (49689, 6)\n",
      "After trimming:  (44690, 6)\n",
      "test3/2_4_android.sensor.gyroscope.data.csv\n",
      "Before trimming:  (46832, 6)\n",
      "After trimming:  (41833, 6)\n",
      "test3/3_1_android.sensor.accelerometer.data.csv\n",
      "Before trimming:  (46894, 6)\n",
      "After trimming:  (41895, 6)\n",
      "test3/3_4_android.sensor.gyroscope.data.csv\n",
      "Before trimming:  (45928, 6)\n",
      "After trimming:  (40929, 6)\n",
      "test3/4_1_android.sensor.accelerometer.data.csv\n",
      "Before trimming:  (5861, 6)\n",
      "Continuing\n",
      "test3/4_4_android.sensor.gyroscope.data.csv\n",
      "Before trimming:  (3483, 6)\n",
      "Continuing\n",
      "test3/5_1_android.sensor.accelerometer.data.csv\n",
      "Before trimming:  (59648, 6)\n",
      "After trimming:  (54649, 6)\n",
      "test3/5_4_android.sensor.gyroscope.data.csv\n",
      "Before trimming:  (33848, 6)\n",
      "After trimming:  (28849, 6)\n",
      "test3/6_1_android.sensor.accelerometer.data.csv\n",
      "Before trimming:  (59888, 6)\n",
      "After trimming:  (54889, 6)\n",
      "test3/6_4_android.sensor.gyroscope.data.csv\n",
      "Before trimming:  (33491, 6)\n",
      "After trimming:  (28492, 6)\n",
      "test3/7_1_android.sensor.accelerometer.data.csv\n",
      "Before trimming:  (59688, 6)\n",
      "After trimming:  (54689, 6)\n",
      "test3/7_4_android.sensor.gyroscope.data.csv\n",
      "Before trimming:  (33403, 6)\n",
      "After trimming:  (28404, 6)\n",
      "test3/8_1_android.sensor.accelerometer.data.csv\n",
      "Before trimming:  (60167, 6)\n",
      "After trimming:  (55168, 6)\n",
      "test3/8_4_android.sensor.gyroscope.data.csv\n",
      "Before trimming:  (34294, 6)\n",
      "After trimming:  (29295, 6)\n",
      "test3/9_1_android.sensor.accelerometer.data.csv\n",
      "Before trimming:  (59888, 6)\n",
      "After trimming:  (54889, 6)\n",
      "test3/9_4_android.sensor.gyroscope.data.csv\n",
      "Before trimming:  (34249, 6)\n",
      "After trimming:  (29250, 6)\n",
      "\n",
      "\n",
      "Shapes of train and test features:\n",
      "(19789, 1000, 3)\n",
      "(4148, 1000, 3)\n"
     ]
    }
   ],
   "source": [
    "train = True\n",
    "test = True\n",
    "\n",
    "test_dir = 'test3'\n",
    "train_dir = 'data_3_8_2018'\n",
    "\n",
    "\n",
    "if train:\n",
    "    print(\"\\nComputing train features\")\n",
    "    features = []\n",
    "    labels = []\n",
    "    features, labels = compute_lstm_accelerometer_features(train_dir, features, labels, trim_num_seconds=10, acc_freq=4, window_num_seconds=4, window_step=2, jump_window=False, ignore_pickle=False)\n",
    "    \n",
    "if test:\n",
    "    print(\"\\nComputing test features\")\n",
    "    test_features = []\n",
    "    test_labels = []\n",
    "    test_features, test_labels = compute_lstm_accelerometer_features(test_dir, test_features, test_labels, trim_num_seconds=10, acc_freq=4, window_num_seconds=4, window_step=2, jump_window=False, ignore_pickle=True)\n",
    "\n",
    "print(\"\\n\\nShapes of train and test features:\")\n",
    "print(features.shape)\n",
    "print(test_features.shape)"
   ]
  },
  {
   "cell_type": "markdown",
   "metadata": {},
   "source": [
    "## Compute features for LSTM accerlerometer, train/test jumping window"
   ]
  },
  {
   "cell_type": "code",
   "execution_count": 74,
   "metadata": {},
   "outputs": [
    {
     "name": "stdout",
     "output_type": "stream",
     "text": [
      "\n",
      "Computing train features\n",
      "\n",
      "Window_size, Window_jump_steps:  1000 1000\n",
      "\n",
      "Trying to find  pickles/lstm_accerlerometer_4s_jump_features.pickle\n",
      "\n",
      "\n",
      "Found pickle files for accelerometer\n",
      "\n",
      "\n",
      "\n",
      "Computing test features\n",
      "\n",
      "Window_size, Window_jump_steps:  1000 1000\n",
      "test3/0_1_android.sensor.accelerometer.data.csv\n",
      "Before trimming:  (50530, 6)\n",
      "After trimming:  (45531, 6)\n",
      "test3/0_4_android.sensor.gyroscope.data.csv\n",
      "Before trimming:  (52923, 6)\n",
      "After trimming:  (47924, 6)\n",
      "test3/10_1_android.sensor.accelerometer.data.csv\n",
      "Before trimming:  (60055, 6)\n",
      "After trimming:  (55056, 6)\n",
      "test3/10_4_android.sensor.gyroscope.data.csv\n",
      "Before trimming:  (34127, 6)\n",
      "After trimming:  (29128, 6)\n",
      "test3/11_1_android.sensor.accelerometer.data.csv\n",
      "Before trimming:  (49816, 6)\n",
      "After trimming:  (44817, 6)\n",
      "test3/11_4_android.sensor.gyroscope.data.csv\n",
      "Before trimming:  (43534, 6)\n",
      "After trimming:  (38535, 6)\n",
      "test3/12_1_android.sensor.accelerometer.data.csv\n",
      "Before trimming:  (60027, 6)\n",
      "After trimming:  (55028, 6)\n",
      "test3/12_4_android.sensor.gyroscope.data.csv\n",
      "Before trimming:  (33937, 6)\n",
      "After trimming:  (28938, 6)\n",
      "test3/13_1_android.sensor.accelerometer.data.csv\n",
      "Before trimming:  (56395, 6)\n",
      "After trimming:  (51396, 6)\n",
      "test3/13_4_android.sensor.gyroscope.data.csv\n",
      "Before trimming:  (36632, 6)\n",
      "After trimming:  (31633, 6)\n",
      "test3/14_1_android.sensor.accelerometer.data.csv\n",
      "Before trimming:  (60088, 6)\n",
      "After trimming:  (55089, 6)\n",
      "test3/14_4_android.sensor.gyroscope.data.csv\n",
      "Before trimming:  (34686, 6)\n",
      "After trimming:  (29687, 6)\n",
      "test3/15_1_android.sensor.accelerometer.data.csv\n",
      "Before trimming:  (44307, 6)\n",
      "After trimming:  (39308, 6)\n",
      "test3/15_4_android.sensor.gyroscope.data.csv\n",
      "Before trimming:  (42939, 6)\n",
      "After trimming:  (37940, 6)\n",
      "test3/16_1_android.sensor.accelerometer.data.csv\n",
      "Before trimming:  (59987, 6)\n",
      "After trimming:  (54988, 6)\n",
      "test3/16_4_android.sensor.gyroscope.data.csv\n",
      "Before trimming:  (30382, 6)\n",
      "After trimming:  (25383, 6)\n",
      "test3/1_1_android.sensor.accelerometer.data.csv\n",
      "Before trimming:  (73952, 6)\n",
      "After trimming:  (68953, 6)\n",
      "test3/1_4_android.sensor.gyroscope.data.csv\n",
      "Before trimming:  (40346, 6)\n",
      "After trimming:  (35347, 6)\n",
      "test3/2_1_android.sensor.accelerometer.data.csv\n",
      "Before trimming:  (49689, 6)\n",
      "After trimming:  (44690, 6)\n",
      "test3/2_4_android.sensor.gyroscope.data.csv\n",
      "Before trimming:  (46832, 6)\n",
      "After trimming:  (41833, 6)\n",
      "test3/3_1_android.sensor.accelerometer.data.csv\n",
      "Before trimming:  (46894, 6)\n",
      "After trimming:  (41895, 6)\n",
      "test3/3_4_android.sensor.gyroscope.data.csv\n",
      "Before trimming:  (45928, 6)\n",
      "After trimming:  (40929, 6)\n",
      "test3/4_1_android.sensor.accelerometer.data.csv\n",
      "Before trimming:  (5861, 6)\n",
      "Continuing\n",
      "test3/4_4_android.sensor.gyroscope.data.csv\n",
      "Before trimming:  (3483, 6)\n",
      "Continuing\n",
      "test3/5_1_android.sensor.accelerometer.data.csv\n",
      "Before trimming:  (59648, 6)\n",
      "After trimming:  (54649, 6)\n",
      "test3/5_4_android.sensor.gyroscope.data.csv\n",
      "Before trimming:  (33848, 6)\n",
      "After trimming:  (28849, 6)\n",
      "test3/6_1_android.sensor.accelerometer.data.csv\n",
      "Before trimming:  (59888, 6)\n",
      "After trimming:  (54889, 6)\n",
      "test3/6_4_android.sensor.gyroscope.data.csv\n",
      "Before trimming:  (33491, 6)\n",
      "After trimming:  (28492, 6)\n",
      "test3/7_1_android.sensor.accelerometer.data.csv\n",
      "Before trimming:  (59688, 6)\n",
      "After trimming:  (54689, 6)\n",
      "test3/7_4_android.sensor.gyroscope.data.csv\n",
      "Before trimming:  (33403, 6)\n",
      "After trimming:  (28404, 6)\n",
      "test3/8_1_android.sensor.accelerometer.data.csv\n",
      "Before trimming:  (60167, 6)\n",
      "After trimming:  (55168, 6)\n",
      "test3/8_4_android.sensor.gyroscope.data.csv\n",
      "Before trimming:  (34294, 6)\n",
      "After trimming:  (29295, 6)\n",
      "test3/9_1_android.sensor.accelerometer.data.csv\n",
      "Before trimming:  (59888, 6)\n",
      "After trimming:  (54889, 6)\n",
      "test3/9_4_android.sensor.gyroscope.data.csv\n",
      "Before trimming:  (34249, 6)\n",
      "After trimming:  (29250, 6)\n",
      "\n",
      "\n",
      "Shapes of train and test features:\n",
      "(9928, 1000, 3)\n",
      "(1344, 1000, 3)\n"
     ]
    }
   ],
   "source": [
    "train = True\n",
    "test = True\n",
    "\n",
    "test_dir = 'test3'\n",
    "train_dir = 'data_3_8_2018'\n",
    "\n",
    "\n",
    "if train:\n",
    "    print(\"\\nComputing train features\")\n",
    "    features = []\n",
    "    labels = []\n",
    "    features, labels = compute_lstm_accelerometer_features(train_dir, features, labels, trim_num_seconds=10, acc_freq=4, window_num_seconds=4, window_step=2, jump_window=True, ignore_pickle=False)\n",
    "    \n",
    "if test:\n",
    "    print(\"\\nComputing test features\")\n",
    "    test_features = []\n",
    "    test_labels = []\n",
    "    test_features, test_labels = compute_lstm_accelerometer_features(test_dir, test_features, test_labels, trim_num_seconds=10, acc_freq=4, window_num_seconds=4, window_step=2, jump_window=True, ignore_pickle=True)\n",
    "\n",
    "print(\"\\n\\nShapes of train and test features:\")\n",
    "print(features.shape)\n",
    "print(test_features.shape)"
   ]
  },
  {
   "cell_type": "markdown",
   "metadata": {},
   "source": [
    "## Utility functions"
   ]
  },
  {
   "cell_type": "code",
   "execution_count": 50,
   "metadata": {},
   "outputs": [],
   "source": [
    "def getModel(modelName, args):\n",
    "    \n",
    "    if modelName == 'LogisticRegression':\n",
    "        model = LogisticRegression(random_state=42)\n",
    "        \n",
    "    if modelName == 'SVC':\n",
    "        model = SVC(random_state=42, kernel=args[0], C=args[1], decision_function_shape=args[2])\n",
    "        \n",
    "    if modelName == 'DecisionTreeClassifier':\n",
    "        model = DecisionTreeClassifier(random_state=42, max_features=args[0], criterion=args[1])\n",
    "        \n",
    "    if modelName == 'RandomForestClassifier':\n",
    "        model = RandomForestClassifier(n_estimators=args[0], criterion=args[1], max_features=args[2], max_depth=args[3], oob_score=True, random_state=42)\n",
    "        \n",
    "    if modelName == 'MLPClassifier':\n",
    "        model = MLPClassifier(hidden_layer_sizes=args[0], activation=args[1], solver=args[2], random_state=42, max_iter=500)\n",
    "        \n",
    "    if modelName == \"KNeighborsClassifier\":\n",
    "        model = KNeighborsClassifier(n_neighbors=args[0])\n",
    "        \n",
    "    if modelName == \"SVC\":\n",
    "        model = svm.SVC()\n",
    "        \n",
    "    return model"
   ]
  },
  {
   "cell_type": "code",
   "execution_count": 5,
   "metadata": {},
   "outputs": [],
   "source": [
    "\n",
    "def run_kfold(features, labels, num_splits, modelName, args=None, verbose=False):\n",
    "    \n",
    "    X = np.array(normalize(features))\n",
    "    y = np.array(labels)\n",
    "\n",
    "    kf = KFold(n_splits=num_splits, random_state=None, shuffle=True)\n",
    "    kf.get_n_splits(X)\n",
    "\n",
    "    foldAccuracy = list()\n",
    "    foldPrecision = list()\n",
    "    foldRecall = list()\n",
    "    bestModel = None\n",
    "    bestAccuracy = float(sys.maxsize) * (-1)\n",
    "\n",
    "    for train_index, test_index in kf.split(X):\n",
    "        X_train, X_test = X[train_index], X[test_index]\n",
    "        y_train, y_test = y[train_index], y[test_index]\n",
    "\n",
    "        model = getModel(modelName, args)\n",
    "\n",
    "        model.fit(X_train, y_train)\n",
    "\n",
    "        prediction = model.predict(X_test)\n",
    "\n",
    "        if verbose:\n",
    "            print(\"\\nFold: \", fold)\n",
    "            print(\"Confusion Matrix:\")\n",
    "            cm = metrics.confusion_matrix(yTest, prediction)\n",
    "            print(cm)\n",
    "            plt.matshow(cm, cmap = plt.cm.Oranges)\n",
    "            plt.title('Confusion matrix')\n",
    "            plt.colorbar()\n",
    "            plt.ylabel('True label')\n",
    "            plt.xlabel('Predicted label')\n",
    "            plt.show()\n",
    "\n",
    "        accuracy = metrics.accuracy_score(y_test, prediction)\n",
    "        precision = metrics.precision_score(y_test, prediction, average = None)\n",
    "        recall = metrics.recall_score(y_test, prediction, average = None)\n",
    "\n",
    "        foldAccuracy.append(accuracy)\n",
    "        foldPrecision.append(precision)\n",
    "        foldRecall.append(recall)\n",
    "        \n",
    "        if accuracy > bestAccuracy:\n",
    "            bestAccuracy = accuracy\n",
    "            bestModel = model\n",
    "                \n",
    "    print(\"\\nBest Accuracy: \", bestAccuracy)\n",
    "    \n",
    "    return bestModel, foldAccuracy, foldPrecision, foldRecall        "
   ]
  },
  {
   "cell_type": "markdown",
   "metadata": {},
   "source": [
    "## K-fold models:"
   ]
  },
  {
   "cell_type": "markdown",
   "metadata": {},
   "source": [
    "## Logistic Regression"
   ]
  },
  {
   "cell_type": "code",
   "execution_count": 53,
   "metadata": {},
   "outputs": [
    {
     "name": "stdout",
     "output_type": "stream",
     "text": [
      "('\\nBest Accuracy: ', 0.7593360995850622)\n"
     ]
    }
   ],
   "source": [
    "num_splits = 5\n",
    "\n",
    "lrModel, lrAccuracy, lrPrecision, lrRecall = run_kfold(features_new, labels, num_splits, 'LogisticRegression')"
   ]
  },
  {
   "cell_type": "markdown",
   "metadata": {},
   "source": [
    "## SVM"
   ]
  },
  {
   "cell_type": "code",
   "execution_count": 55,
   "metadata": {},
   "outputs": [
    {
     "name": "stdout",
     "output_type": "stream",
     "text": [
      "('\\nBest Accuracy: ', 0.9130434782608695)\n"
     ]
    }
   ],
   "source": [
    "#hard margin SVM 1\n",
    "\n",
    "#kernel = 'rbf'\n",
    "#C = 1000\n",
    "#decision_function_shape = 'ovo'\n",
    "\n",
    "num_splits = 5\n",
    "args = ['rbf', 1000, 'ovo']\n",
    "\n",
    "hmSVC1Model, hmSVC1Accuracy, hmSVC1Precision, hmSVC1Recall = run_kfold(features_new, labels, num_splits, 'SVC', args)"
   ]
  },
  {
   "cell_type": "markdown",
   "metadata": {},
   "source": [
    "## Decision Tree"
   ]
  },
  {
   "cell_type": "code",
   "execution_count": 54,
   "metadata": {},
   "outputs": [
    {
     "name": "stdout",
     "output_type": "stream",
     "text": [
      "('\\nBest Accuracy: ', 0.966804979253112)\n"
     ]
    }
   ],
   "source": [
    "#decision Tree 1\n",
    "\n",
    "#max_features = 6\n",
    "#criterion = 'gini'\n",
    "\n",
    "num_splits = 5\n",
    "args = [6, 'gini']\n",
    "\n",
    "dt1Model, dt1Accuracy, dt1Precision, dt1Recall = run_kfold(features_new, labels, num_splits, 'DecisionTreeClassifier', args)"
   ]
  },
  {
   "cell_type": "markdown",
   "metadata": {},
   "source": [
    "## Random Forest"
   ]
  },
  {
   "cell_type": "code",
   "execution_count": 56,
   "metadata": {},
   "outputs": [
    {
     "name": "stderr",
     "output_type": "stream",
     "text": [
      "/anaconda/lib/python2.7/site-packages/sklearn/ensemble/forest.py:439: UserWarning: Some inputs do not have OOB scores. This probably means too few trees were used to compute any reliable oob estimates.\n",
      "  warn(\"Some inputs do not have OOB scores. \"\n",
      "/anaconda/lib/python2.7/site-packages/sklearn/ensemble/forest.py:444: RuntimeWarning: invalid value encountered in true_divide\n",
      "  predictions[k].sum(axis=1)[:, np.newaxis])\n"
     ]
    },
    {
     "name": "stdout",
     "output_type": "stream",
     "text": [
      "('\\nBest Accuracy: ', 0.9751552795031055)\n"
     ]
    }
   ],
   "source": [
    "#random Forest Classification 1\n",
    "\n",
    "#n_estimators = 20\n",
    "#criterion = gini\n",
    "#max_features = 6\n",
    "#max_depth = 5\n",
    "\n",
    "num_splits = 5\n",
    "args = [20, 'gini', 6, 8]\n",
    "\n",
    "rf1Model, rf1Accuracy, rf1Precision, rf1Recall = run_kfold(features_new, labels, num_splits, 'RandomForestClassifier', args)"
   ]
  },
  {
   "cell_type": "markdown",
   "metadata": {},
   "source": [
    "## MLP classifier"
   ]
  },
  {
   "cell_type": "code",
   "execution_count": 57,
   "metadata": {},
   "outputs": [
    {
     "name": "stdout",
     "output_type": "stream",
     "text": [
      "('\\nBest Accuracy: ', 0.9626556016597511)\n"
     ]
    }
   ],
   "source": [
    "#Multi Layer Perceptron Classification \n",
    "\n",
    "#hidden_layer_sizes = 50\n",
    "#activation = tanh\n",
    "#solver = lbfgs\n",
    "\n",
    "num_splits = 5\n",
    "args = [(50,100), 'tanh', 'lbfgs']\n",
    "\n",
    "mlp2Model, mlp2Accuracy, mlp2Precision, mlp2Recall = run_kfold(features_new, labels, num_splits, 'MLPClassifier', args)"
   ]
  },
  {
   "cell_type": "markdown",
   "metadata": {},
   "source": []
  },
  {
   "cell_type": "markdown",
   "metadata": {},
   "source": [
    "## LSTM"
   ]
  },
  {
   "cell_type": "code",
   "execution_count": 44,
   "metadata": {},
   "outputs": [],
   "source": [
    "def get_hot_value(my_list):\n",
    "    max_val = max(my_list)\n",
    "    return [int(item == max_val) for item in my_list]\n",
    "\n",
    "def fit_lstm(features, labels, batch_size, epochs, pickle_name):\n",
    "\n",
    "    X = features\n",
    "\n",
    "    y = np.array(labels)\n",
    "    le = preprocessing.LabelEncoder()\n",
    "    y = le.fit_transform(y)\n",
    "\n",
    "    y = y.reshape(-1,1)\n",
    "    ohe = OneHotEncoder(sparse=False)\n",
    "    y = ohe.fit_transform(y)\n",
    "\n",
    "    model = Sequential()\n",
    "    model.add(LSTM(100, input_shape=(X[0].shape[0], X[0].shape[1]), return_sequences=True))\n",
    "    model.add(LSTM(100))\n",
    "    model.add(Dense(4, activation='softmax'))\n",
    "    model.compile(loss='categorical_crossentropy', optimizer='adam', metrics=['accuracy'])\n",
    "\n",
    "    model.summary()\n",
    "\n",
    "    es = EarlyStopping(monitor='loss', mode='auto', verbose=0)\n",
    "    model.fit(X, y, batch_size=batch_size, epochs=epochs, callbacks=[es])\n",
    "    \n",
    "    ##pickle the model    \n",
    "    pickle_folder = \"pickles/\"\n",
    "\n",
    "    model.save(pickle_folder + pickle_name)  # creates a HDF5 file 'my_model.h5'\n",
    "    \n",
    "    return\n",
    "\n",
    "def test_lstm(test_features, test_labels, pickle_name):\n",
    "    pickle_folder = \"pickles/\"\n",
    "    pickle_file = Path(pickle_folder + pickle_name)\n",
    "\n",
    "    if pickle_file.exists():\n",
    "        print(\"\\n\\nFound pickled LSTM model for accelerometer\\n\\n\")\n",
    "        # returns a compiled model\n",
    "        # identical to the previous one\n",
    "        model = load_model(pickle_folder + pickle_name)\n",
    "    else:\n",
    "        print(\"\\n\\nDid not find pickled LSTM model for accelerometer, return\\n\\n\")\n",
    "        return\n",
    "    \n",
    "    X = test_features\n",
    "    y = np.array(test_labels)\n",
    "    le = preprocessing.LabelEncoder()\n",
    "    y = le.fit_transform(y)\n",
    "\n",
    "    y = y.reshape(-1,1)\n",
    "    ohe = OneHotEncoder(sparse=False)\n",
    "    y = ohe.fit_transform(y)\n",
    "    \n",
    "    #Evaluate the model\n",
    "    scores = model.evaluate(X, y, verbose=0)\n",
    "    predicted_labels = model.predict(X)\n",
    "\n",
    "    print(\"Accuracy: \", scores[1]*100)\n",
    "\n",
    "    hot_list = [get_hot_value(sublist) for sublist in predicted_labels]\n",
    "\n",
    "    t  = np.array(y)\n",
    "    p  = np.array(hot_list)\n",
    "    t = np.argmax(t, axis=1)\n",
    "    p = np.argmax(p, axis=1)\n",
    "\n",
    "    print(\"Precision: \", precision_score(t, p, average=None))\n",
    "    \n",
    "    return\n",
    "    "
   ]
  },
  {
   "cell_type": "markdown",
   "metadata": {},
   "source": [
    "## Run LSTM and save model pickle"
   ]
  },
  {
   "cell_type": "code",
   "execution_count": 45,
   "metadata": {},
   "outputs": [
    {
     "name": "stdout",
     "output_type": "stream",
     "text": [
      "_________________________________________________________________\n",
      "Layer (type)                 Output Shape              Param #   \n",
      "=================================================================\n",
      "lstm_7 (LSTM)                (None, 1000, 100)         41600     \n",
      "_________________________________________________________________\n",
      "lstm_8 (LSTM)                (None, 100)               80400     \n",
      "_________________________________________________________________\n",
      "dense_4 (Dense)              (None, 4)                 404       \n",
      "=================================================================\n",
      "Total params: 122,404\n",
      "Trainable params: 122,404\n",
      "Non-trainable params: 0\n",
      "_________________________________________________________________\n",
      "Epoch 1/50\n",
      "19789/19789 [==============================] - 562s 28ms/step - loss: 0.9257 - acc: 0.6095\n",
      "Epoch 2/50\n",
      "19789/19789 [==============================] - 577s 29ms/step - loss: 0.7745 - acc: 0.6701\n",
      "Epoch 3/50\n",
      "19789/19789 [==============================] - 614s 31ms/step - loss: 0.7581 - acc: 0.6715\n",
      "Epoch 4/50\n",
      "19789/19789 [==============================] - 586s 30ms/step - loss: 0.7637 - acc: 0.6708\n"
     ]
    }
   ],
   "source": [
    "batch_size = 300\n",
    "epochs = 50\n",
    "\n",
    "fit_lstm(features, labels, batch_size, epochs, \"lstm_model_accelerometer.h5\")"
   ]
  },
  {
   "cell_type": "markdown",
   "metadata": {},
   "source": [
    "## Test LSTM"
   ]
  },
  {
   "cell_type": "code",
   "execution_count": 47,
   "metadata": {},
   "outputs": [
    {
     "name": "stdout",
     "output_type": "stream",
     "text": [
      "\n",
      "\n",
      "Found pickled LSTM model for accelerometer\n",
      "\n",
      "\n",
      "Accuracy:  51.15718417940167\n",
      "Precision:  [0.5293501  0.60443996 0.2899729  0.46136364]\n"
     ]
    }
   ],
   "source": [
    "test_lstm(test_features, test_labels, \"lstm_model_accelerometer.h5\")"
   ]
  },
  {
   "cell_type": "markdown",
   "metadata": {},
   "source": [
    "## Utilities to run test and show results:"
   ]
  },
  {
   "cell_type": "code",
   "execution_count": 28,
   "metadata": {},
   "outputs": [],
   "source": [
    "def plot_confusion_matrix(cm, classes,\n",
    "                          normalize=False,\n",
    "                          title='Confusion matrix',\n",
    "                          cmap=plt.cm.Blues):\n",
    "    \"\"\"\n",
    "    This function prints and plots the confusion matrix.\n",
    "    Normalization can be applied by setting `normalize=True`.\n",
    "    \"\"\"\n",
    "    if normalize:\n",
    "        cm = cm.astype('float') / cm.sum(axis=1)[:, np.newaxis]\n",
    "        print(\"Normalized confusion matrix\")\n",
    "    else:\n",
    "        print('Confusion matrix, without normalization')\n",
    "\n",
    "    print(cm)\n",
    "\n",
    "    plt.imshow(cm, interpolation='nearest', cmap=cmap)\n",
    "    plt.title(title)\n",
    "    plt.colorbar()\n",
    "    tick_marks = np.arange(len(classes))\n",
    "    plt.xticks(tick_marks, classes, rotation=45)\n",
    "    plt.yticks(tick_marks, classes)\n",
    "\n",
    "    fmt = '.2f' if normalize else 'd'\n",
    "    thresh = cm.max() / 2.\n",
    "    for i, j in itertools.product(range(cm.shape[0]), range(cm.shape[1])):\n",
    "        plt.text(j, i, format(cm[i, j], fmt),\n",
    "                 horizontalalignment=\"center\",\n",
    "                 color=\"white\" if cm[i, j] > thresh else \"black\")\n",
    "\n",
    "    plt.tight_layout()\n",
    "    plt.ylabel('True label')\n",
    "    plt.xlabel('Predicted label')\n",
    "    \n",
    "    plt.show()"
   ]
  },
  {
   "cell_type": "code",
   "execution_count": 29,
   "metadata": {},
   "outputs": [],
   "source": [
    "from sklearn.metrics import confusion_matrix\n",
    "import itertools\n",
    "\n",
    "def fit_model_and_run_test(modelName, args, features, labels, test_features, test_labels, verbose=True):\n",
    "    \n",
    "    le = preprocessing.LabelEncoder()\n",
    "\n",
    "    scaler = preprocessing.StandardScaler()\n",
    "    X = scaler.fit_transform(features)\n",
    "\n",
    "    X = np.array(preprocessing.scale(features))\n",
    "    y = le.fit_transform(labels)\n",
    "\n",
    "    model = getModel(modelName, args)\n",
    "    model.fit(X, y)\n",
    "\n",
    "\n",
    "    X = scaler.transform(test_features)\n",
    "    y = le.transform(test_labels)\n",
    "\n",
    "    prediction = model.predict(X)\n",
    "\n",
    "    accuracy = metrics.accuracy_score(y, prediction)\n",
    "    precision = metrics.precision_score(y, prediction, average = None)\n",
    "\n",
    "    if verbose:\n",
    "        print(\"Overall accuracy: \", accuracy)\n",
    "        print(\"Precision per class: \", precision)\n",
    "        print(\"\\n\\n\")\n",
    "\n",
    "        cnf_matrix = confusion_matrix(y,prediction)\n",
    "\n",
    "        plot_confusion_matrix(cnf_matrix, classes=le.classes_,\n",
    "                              title='Confusion matrix, without normalization')\n",
    "\n",
    "    return accuracy"
   ]
  },
  {
   "cell_type": "markdown",
   "metadata": {},
   "source": [
    "## Hyperparameter tuning"
   ]
  },
  {
   "cell_type": "markdown",
   "metadata": {},
   "source": [
    "## Run test for MLPClassifier for hyperparameter tuning"
   ]
  },
  {
   "cell_type": "code",
   "execution_count": 92,
   "metadata": {
    "scrolled": true
   },
   "outputs": [
    {
     "name": "stdout",
     "output_type": "stream",
     "text": [
      "Running:  [(50, 50), 'logistic', 'lbfgs']\n",
      "Best Accuracy till now:  0.5272655943507257\n",
      "Best Args till now:  [(50, 50), 'logistic', 'lbfgs']\n",
      "Running:  [(50, 60), 'logistic', 'lbfgs']\n",
      "Best Accuracy till now:  0.5319733228717144\n",
      "Best Args till now:  [(50, 60), 'logistic', 'lbfgs']\n",
      "Running:  [(50, 70), 'logistic', 'lbfgs']\n",
      "Best Accuracy till now:  0.5472734405649274\n",
      "Best Args till now:  [(50, 70), 'logistic', 'lbfgs']\n",
      "Running:  [(50, 80), 'logistic', 'lbfgs']\n",
      "Best Accuracy till now:  0.5543350333464103\n",
      "Best Args till now:  [(50, 80), 'logistic', 'lbfgs']\n",
      "Running:  [(50, 90), 'logistic', 'lbfgs']\n",
      "Running:  [(50, 100), 'logistic', 'lbfgs']\n",
      "Best Accuracy till now:  0.5566888976069047\n",
      "Best Args till now:  [(50, 100), 'logistic', 'lbfgs']\n",
      "Running:  [(60, 50), 'logistic', 'lbfgs']\n",
      "Running:  [(60, 60), 'logistic', 'lbfgs']\n",
      "Running:  [(60, 70), 'logistic', 'lbfgs']\n",
      "Running:  [(60, 80), 'logistic', 'lbfgs']\n",
      "Best Accuracy till now:  0.5653197332287171\n",
      "Best Args till now:  [(60, 80), 'logistic', 'lbfgs']\n",
      "Running:  [(60, 90), 'logistic', 'lbfgs']\n",
      "Running:  [(60, 100), 'logistic', 'lbfgs']\n",
      "Running:  [(70, 50), 'logistic', 'lbfgs']\n",
      "Running:  [(70, 60), 'logistic', 'lbfgs']\n",
      "Running:  [(70, 70), 'logistic', 'lbfgs']\n",
      "Running:  [(70, 80), 'logistic', 'lbfgs']\n",
      "Running:  [(70, 90), 'logistic', 'lbfgs']\n",
      "Running:  [(70, 100), 'logistic', 'lbfgs']\n",
      "Running:  [(80, 50), 'logistic', 'lbfgs']\n",
      "Running:  [(80, 60), 'logistic', 'lbfgs']\n",
      "Running:  [(80, 70), 'logistic', 'lbfgs']\n",
      "Running:  [(80, 80), 'logistic', 'lbfgs']\n",
      "Running:  [(80, 90), 'logistic', 'lbfgs']\n",
      "Running:  [(80, 100), 'logistic', 'lbfgs']\n",
      "Running:  [(90, 50), 'logistic', 'lbfgs']\n",
      "Running:  [(90, 60), 'logistic', 'lbfgs']\n",
      "Running:  [(90, 70), 'logistic', 'lbfgs']\n",
      "Running:  [(90, 80), 'logistic', 'lbfgs']\n",
      "Running:  [(90, 90), 'logistic', 'lbfgs']\n",
      "Running:  [(90, 100), 'logistic', 'lbfgs']\n",
      "Running:  [(100, 50), 'logistic', 'lbfgs']\n",
      "Running:  [(100, 60), 'logistic', 'lbfgs']\n",
      "Running:  [(100, 70), 'logistic', 'lbfgs']\n",
      "Running:  [(100, 80), 'logistic', 'lbfgs']\n",
      "Running:  [(100, 90), 'logistic', 'lbfgs']\n",
      "Running:  [(100, 100), 'logistic', 'lbfgs']\n",
      "Running:  [(50, 50), 'tanh', 'lbfgs']\n",
      "Running:  [(50, 60), 'tanh', 'lbfgs']\n",
      "Running:  [(50, 70), 'tanh', 'lbfgs']\n",
      "Running:  [(50, 80), 'tanh', 'lbfgs']\n",
      "Running:  [(50, 90), 'tanh', 'lbfgs']\n",
      "Running:  [(50, 100), 'tanh', 'lbfgs']\n",
      "Running:  [(60, 50), 'tanh', 'lbfgs']\n",
      "Running:  [(60, 60), 'tanh', 'lbfgs']\n",
      "Running:  [(60, 70), 'tanh', 'lbfgs']\n",
      "Running:  [(60, 80), 'tanh', 'lbfgs']\n",
      "Running:  [(60, 90), 'tanh', 'lbfgs']\n",
      "Running:  [(60, 100), 'tanh', 'lbfgs']\n",
      "Running:  [(70, 50), 'tanh', 'lbfgs']\n",
      "Running:  [(70, 60), 'tanh', 'lbfgs']\n",
      "Running:  [(70, 70), 'tanh', 'lbfgs']\n",
      "Running:  [(70, 80), 'tanh', 'lbfgs']\n",
      "Running:  [(70, 90), 'tanh', 'lbfgs']\n",
      "Running:  [(70, 100), 'tanh', 'lbfgs']\n",
      "Running:  [(80, 50), 'tanh', 'lbfgs']\n",
      "Running:  [(80, 60), 'tanh', 'lbfgs']\n",
      "Running:  [(80, 70), 'tanh', 'lbfgs']\n",
      "Running:  [(80, 80), 'tanh', 'lbfgs']\n",
      "Running:  [(80, 90), 'tanh', 'lbfgs']\n",
      "Running:  [(80, 100), 'tanh', 'lbfgs']\n",
      "Running:  [(90, 50), 'tanh', 'lbfgs']\n",
      "Running:  [(90, 60), 'tanh', 'lbfgs']\n",
      "Running:  [(90, 70), 'tanh', 'lbfgs']\n",
      "Running:  [(90, 80), 'tanh', 'lbfgs']\n",
      "Running:  [(90, 90), 'tanh', 'lbfgs']\n",
      "Running:  [(90, 100), 'tanh', 'lbfgs']\n",
      "Running:  [(100, 50), 'tanh', 'lbfgs']\n",
      "Running:  [(100, 60), 'tanh', 'lbfgs']\n",
      "Running:  [(100, 70), 'tanh', 'lbfgs']\n",
      "Running:  [(100, 80), 'tanh', 'lbfgs']\n",
      "Running:  [(100, 90), 'tanh', 'lbfgs']\n",
      "Running:  [(100, 100), 'tanh', 'lbfgs']\n",
      "Running:  [(50, 50), 'relu', 'lbfgs']\n",
      "Running:  [(50, 60), 'relu', 'lbfgs']\n",
      "Running:  [(50, 70), 'relu', 'lbfgs']\n",
      "Running:  [(50, 80), 'relu', 'lbfgs']\n",
      "Running:  [(50, 90), 'relu', 'lbfgs']\n",
      "Running:  [(50, 100), 'relu', 'lbfgs']\n",
      "Running:  [(60, 50), 'relu', 'lbfgs']\n",
      "Running:  [(60, 60), 'relu', 'lbfgs']\n",
      "Running:  [(60, 70), 'relu', 'lbfgs']\n",
      "Running:  [(60, 80), 'relu', 'lbfgs']\n",
      "Running:  [(60, 90), 'relu', 'lbfgs']\n",
      "Running:  [(60, 100), 'relu', 'lbfgs']\n",
      "Running:  [(70, 50), 'relu', 'lbfgs']\n",
      "Running:  [(70, 60), 'relu', 'lbfgs']\n",
      "Running:  [(70, 70), 'relu', 'lbfgs']\n",
      "Running:  [(70, 80), 'relu', 'lbfgs']\n",
      "Running:  [(70, 90), 'relu', 'lbfgs']\n",
      "Running:  [(70, 100), 'relu', 'lbfgs']\n",
      "Running:  [(80, 50), 'relu', 'lbfgs']\n",
      "Running:  [(80, 60), 'relu', 'lbfgs']\n",
      "Running:  [(80, 70), 'relu', 'lbfgs']\n",
      "Running:  [(80, 80), 'relu', 'lbfgs']\n",
      "Running:  [(80, 90), 'relu', 'lbfgs']\n",
      "Running:  [(80, 100), 'relu', 'lbfgs']\n",
      "Running:  [(90, 50), 'relu', 'lbfgs']\n",
      "Running:  [(90, 60), 'relu', 'lbfgs']\n",
      "Running:  [(90, 70), 'relu', 'lbfgs']\n",
      "Running:  [(90, 80), 'relu', 'lbfgs']\n",
      "Running:  [(90, 90), 'relu', 'lbfgs']\n",
      "Running:  [(90, 100), 'relu', 'lbfgs']\n",
      "Running:  [(100, 50), 'relu', 'lbfgs']\n",
      "Running:  [(100, 60), 'relu', 'lbfgs']\n",
      "Running:  [(100, 70), 'relu', 'lbfgs']\n",
      "Running:  [(100, 80), 'relu', 'lbfgs']\n",
      "Running:  [(100, 90), 'relu', 'lbfgs']\n",
      "Running:  [(100, 100), 'relu', 'lbfgs']\n",
      "Best Accuracy:  0.5653197332287171\n",
      "Best Args:  [(60, 80), 'logistic', 'lbfgs']\n"
     ]
    }
   ],
   "source": [
    "solver = 'lbfgs'\n",
    "activations = ['logistic', 'tanh', 'relu']\n",
    "n_hidden_units_1 = list(range(50,110,10))\n",
    "n_hidden_units_2 = list(range(50,110,10))\n",
    "# activations = ['relu']\n",
    "# n_hidden_units_1 = [2,5]\n",
    "# n_hidden_units_2 = [2,5]\n",
    "\n",
    "best_accuracy = 0\n",
    "best_args = []\n",
    "best_args.append((0,0))\n",
    "best_args.append('')\n",
    "best_args.append('')\n",
    "\n",
    "for act in activations:\n",
    "    for nhu1 in n_hidden_units_1:\n",
    "        for nhu2 in n_hidden_units_2:\n",
    "            args = [(nhu1,nhu2), act, solver]\n",
    "            print(\"Running: \", args)\n",
    "\n",
    "            current_accuracy = fit_model_and_run_test('MLPClassifier', args, features, labels, test_features, test_labels, verbose=False)\n",
    "            if current_accuracy > best_accuracy:\n",
    "                best_accuracy = current_accuracy\n",
    "                best_args[0] = (nhu1,nhu2)\n",
    "                best_args[1] = act\n",
    "                best_args[2] = solver\n",
    "                print(\"Best Accuracy till now: \", best_accuracy)\n",
    "                print(\"Best Args till now: \", best_args)\n",
    "\n",
    "\n",
    "print(\"Best Accuracy: \", best_accuracy)\n",
    "print(\"Best Args: \", best_args)"
   ]
  },
  {
   "cell_type": "markdown",
   "metadata": {},
   "source": [
    "## Run test for Decision Tree for hyperparameter tuning"
   ]
  },
  {
   "cell_type": "code",
   "execution_count": 87,
   "metadata": {
    "scrolled": true
   },
   "outputs": [
    {
     "name": "stdout",
     "output_type": "stream",
     "text": [
      "Running:  [1, 'gini']\n",
      "Best Accuracy till now:  0.5017123287671232\n",
      "Best Args till now:  [1, 'gini']\n",
      "Running:  [2, 'gini']\n",
      "Best Accuracy till now:  0.6078767123287672\n",
      "Best Args till now:  [2, 'gini']\n",
      "Running:  [3, 'gini']\n",
      "Running:  [4, 'gini']\n",
      "Running:  [5, 'gini']\n",
      "Running:  [6, 'gini']\n",
      "Running:  [7, 'gini']\n",
      "Running:  [8, 'gini']\n",
      "Best Accuracy till now:  0.6284246575342466\n",
      "Best Args till now:  [8, 'gini']\n",
      "Running:  [9, 'gini']\n",
      "Best Accuracy till now:  0.6746575342465754\n",
      "Best Args till now:  [9, 'gini']\n",
      "Running:  [10, 'gini']\n",
      "Running:  [11, 'gini']\n",
      "Running:  [12, 'gini']\n",
      "Running:  [13, 'gini']\n",
      "Running:  [14, 'gini']\n",
      "Running:  [15, 'gini']\n",
      "Running:  [16, 'gini']\n",
      "Running:  [17, 'gini']\n",
      "Running:  [18, 'gini']\n",
      "Running:  [19, 'gini']\n",
      "Running:  [20, 'gini']\n",
      "Running:  [21, 'gini']\n",
      "Running:  [22, 'gini']\n",
      "Running:  [23, 'gini']\n",
      "Running:  [24, 'gini']\n",
      "Running:  [25, 'gini']\n",
      "Running:  [26, 'gini']\n",
      "Running:  [27, 'gini']\n",
      "Running:  [28, 'gini']\n",
      "Running:  [29, 'gini']\n",
      "Running:  [30, 'gini']\n",
      "Running:  [31, 'gini']\n",
      "Running:  [32, 'gini']\n",
      "Running:  [33, 'gini']\n",
      "Running:  [34, 'gini']\n",
      "Running:  [35, 'gini']\n",
      "Running:  [36, 'gini']\n",
      "Running:  [37, 'gini']\n",
      "Running:  [38, 'gini']\n",
      "Running:  [39, 'gini']\n",
      "Running:  [40, 'gini']\n",
      "Running:  [41, 'gini']\n",
      "Running:  [42, 'gini']\n",
      "Running:  [43, 'gini']\n",
      "Running:  [44, 'gini']\n",
      "Running:  [45, 'gini']\n",
      "Running:  [46, 'gini']\n",
      "Running:  [47, 'gini']\n",
      "Running:  [48, 'gini']\n",
      "Running:  [49, 'gini']\n",
      "Best Accuracy:  0.6746575342465754\n",
      "Best Args:  [9, 'gini']\n"
     ]
    }
   ],
   "source": [
    "criterion='gini'\n",
    "max_features = list(range(1,50,1))\n",
    "\n",
    "best_accuracy = 0\n",
    "best_args = []\n",
    "best_args.append(0)\n",
    "best_args.append(criterion)\n",
    "\n",
    "for nfeat in max_features:\n",
    "    args = [nfeat, criterion]\n",
    "    print(\"Running: \", args)\n",
    "\n",
    "    current_accuracy = fit_model_and_run_test('DecisionTreeClassifier', args, features, labels, test_features, test_labels, verbose=False) \n",
    "    if current_accuracy > best_accuracy:\n",
    "        best_accuracy = current_accuracy\n",
    "        best_args[0] = nfeat\n",
    "        best_args[1] = criterion\n",
    "        print(\"Best Accuracy till now: \", best_accuracy)\n",
    "        print(\"Best Args till now: \", best_args)\n",
    "\n",
    "\n",
    "print(\"Best Accuracy: \", best_accuracy)\n",
    "print(\"Best Args: \", best_args)"
   ]
  },
  {
   "cell_type": "markdown",
   "metadata": {},
   "source": [
    "## Run test for Random Forest for hyperparameter tuning"
   ]
  },
  {
   "cell_type": "code",
   "execution_count": 95,
   "metadata": {},
   "outputs": [
    {
     "name": "stdout",
     "output_type": "stream",
     "text": [
      "Running:  [10, 'gini', 12, 5]\n"
     ]
    },
    {
     "name": "stderr",
     "output_type": "stream",
     "text": [
      "c:\\users\\sharm\\appdata\\local\\programs\\python\\python36\\lib\\site-packages\\sklearn\\ensemble\\forest.py:451: UserWarning: Some inputs do not have OOB scores. This probably means too few trees were used to compute any reliable oob estimates.\n",
      "  warn(\"Some inputs do not have OOB scores. \"\n",
      "c:\\users\\sharm\\appdata\\local\\programs\\python\\python36\\lib\\site-packages\\sklearn\\ensemble\\forest.py:456: RuntimeWarning: invalid value encountered in true_divide\n",
      "  predictions[k].sum(axis=1)[:, np.newaxis])\n"
     ]
    },
    {
     "name": "stdout",
     "output_type": "stream",
     "text": [
      "Best Accuracy till now:  0.6371125931737937\n",
      "Best Args till now:  [10, 'gini', 12, 5]\n",
      "Running:  [10, 'gini', 12, 7]\n"
     ]
    },
    {
     "name": "stderr",
     "output_type": "stream",
     "text": [
      "c:\\users\\sharm\\appdata\\local\\programs\\python\\python36\\lib\\site-packages\\sklearn\\ensemble\\forest.py:451: UserWarning: Some inputs do not have OOB scores. This probably means too few trees were used to compute any reliable oob estimates.\n",
      "  warn(\"Some inputs do not have OOB scores. \"\n",
      "c:\\users\\sharm\\appdata\\local\\programs\\python\\python36\\lib\\site-packages\\sklearn\\ensemble\\forest.py:456: RuntimeWarning: invalid value encountered in true_divide\n",
      "  predictions[k].sum(axis=1)[:, np.newaxis])\n"
     ]
    },
    {
     "name": "stdout",
     "output_type": "stream",
     "text": [
      "Best Accuracy till now:  0.6465280502157709\n",
      "Best Args till now:  [10, 'gini', 12, 7]\n",
      "Running:  [10, 'gini', 12, 9]\n"
     ]
    },
    {
     "name": "stderr",
     "output_type": "stream",
     "text": [
      "c:\\users\\sharm\\appdata\\local\\programs\\python\\python36\\lib\\site-packages\\sklearn\\ensemble\\forest.py:451: UserWarning: Some inputs do not have OOB scores. This probably means too few trees were used to compute any reliable oob estimates.\n",
      "  warn(\"Some inputs do not have OOB scores. \"\n",
      "c:\\users\\sharm\\appdata\\local\\programs\\python\\python36\\lib\\site-packages\\sklearn\\ensemble\\forest.py:456: RuntimeWarning: invalid value encountered in true_divide\n",
      "  predictions[k].sum(axis=1)[:, np.newaxis])\n"
     ]
    },
    {
     "name": "stdout",
     "output_type": "stream",
     "text": [
      "Running:  [10, 'gini', 12, 11]\n"
     ]
    },
    {
     "name": "stderr",
     "output_type": "stream",
     "text": [
      "c:\\users\\sharm\\appdata\\local\\programs\\python\\python36\\lib\\site-packages\\sklearn\\ensemble\\forest.py:451: UserWarning: Some inputs do not have OOB scores. This probably means too few trees were used to compute any reliable oob estimates.\n",
      "  warn(\"Some inputs do not have OOB scores. \"\n",
      "c:\\users\\sharm\\appdata\\local\\programs\\python\\python36\\lib\\site-packages\\sklearn\\ensemble\\forest.py:456: RuntimeWarning: invalid value encountered in true_divide\n",
      "  predictions[k].sum(axis=1)[:, np.newaxis])\n"
     ]
    },
    {
     "name": "stdout",
     "output_type": "stream",
     "text": [
      "Running:  [10, 'gini', 12, 13]\n"
     ]
    },
    {
     "name": "stderr",
     "output_type": "stream",
     "text": [
      "c:\\users\\sharm\\appdata\\local\\programs\\python\\python36\\lib\\site-packages\\sklearn\\ensemble\\forest.py:451: UserWarning: Some inputs do not have OOB scores. This probably means too few trees were used to compute any reliable oob estimates.\n",
      "  warn(\"Some inputs do not have OOB scores. \"\n",
      "c:\\users\\sharm\\appdata\\local\\programs\\python\\python36\\lib\\site-packages\\sklearn\\ensemble\\forest.py:456: RuntimeWarning: invalid value encountered in true_divide\n",
      "  predictions[k].sum(axis=1)[:, np.newaxis])\n"
     ]
    },
    {
     "name": "stdout",
     "output_type": "stream",
     "text": [
      "Running:  [10, 'gini', 12, 15]\n"
     ]
    },
    {
     "name": "stderr",
     "output_type": "stream",
     "text": [
      "c:\\users\\sharm\\appdata\\local\\programs\\python\\python36\\lib\\site-packages\\sklearn\\ensemble\\forest.py:451: UserWarning: Some inputs do not have OOB scores. This probably means too few trees were used to compute any reliable oob estimates.\n",
      "  warn(\"Some inputs do not have OOB scores. \"\n",
      "c:\\users\\sharm\\appdata\\local\\programs\\python\\python36\\lib\\site-packages\\sklearn\\ensemble\\forest.py:456: RuntimeWarning: invalid value encountered in true_divide\n",
      "  predictions[k].sum(axis=1)[:, np.newaxis])\n"
     ]
    },
    {
     "name": "stdout",
     "output_type": "stream",
     "text": [
      "Running:  [10, 'gini', 12, 17]\n"
     ]
    },
    {
     "name": "stderr",
     "output_type": "stream",
     "text": [
      "c:\\users\\sharm\\appdata\\local\\programs\\python\\python36\\lib\\site-packages\\sklearn\\ensemble\\forest.py:451: UserWarning: Some inputs do not have OOB scores. This probably means too few trees were used to compute any reliable oob estimates.\n",
      "  warn(\"Some inputs do not have OOB scores. \"\n",
      "c:\\users\\sharm\\appdata\\local\\programs\\python\\python36\\lib\\site-packages\\sklearn\\ensemble\\forest.py:456: RuntimeWarning: invalid value encountered in true_divide\n",
      "  predictions[k].sum(axis=1)[:, np.newaxis])\n"
     ]
    },
    {
     "name": "stdout",
     "output_type": "stream",
     "text": [
      "Running:  [10, 'gini', 12, 19]\n"
     ]
    },
    {
     "name": "stderr",
     "output_type": "stream",
     "text": [
      "c:\\users\\sharm\\appdata\\local\\programs\\python\\python36\\lib\\site-packages\\sklearn\\ensemble\\forest.py:451: UserWarning: Some inputs do not have OOB scores. This probably means too few trees were used to compute any reliable oob estimates.\n",
      "  warn(\"Some inputs do not have OOB scores. \"\n",
      "c:\\users\\sharm\\appdata\\local\\programs\\python\\python36\\lib\\site-packages\\sklearn\\ensemble\\forest.py:456: RuntimeWarning: invalid value encountered in true_divide\n",
      "  predictions[k].sum(axis=1)[:, np.newaxis])\n"
     ]
    },
    {
     "name": "stdout",
     "output_type": "stream",
     "text": [
      "Running:  [10, 'gini', 12, 21]\n"
     ]
    },
    {
     "name": "stderr",
     "output_type": "stream",
     "text": [
      "c:\\users\\sharm\\appdata\\local\\programs\\python\\python36\\lib\\site-packages\\sklearn\\ensemble\\forest.py:451: UserWarning: Some inputs do not have OOB scores. This probably means too few trees were used to compute any reliable oob estimates.\n",
      "  warn(\"Some inputs do not have OOB scores. \"\n",
      "c:\\users\\sharm\\appdata\\local\\programs\\python\\python36\\lib\\site-packages\\sklearn\\ensemble\\forest.py:456: RuntimeWarning: invalid value encountered in true_divide\n",
      "  predictions[k].sum(axis=1)[:, np.newaxis])\n"
     ]
    },
    {
     "name": "stdout",
     "output_type": "stream",
     "text": [
      "Running:  [10, 'gini', 12, 23]\n"
     ]
    },
    {
     "name": "stderr",
     "output_type": "stream",
     "text": [
      "c:\\users\\sharm\\appdata\\local\\programs\\python\\python36\\lib\\site-packages\\sklearn\\ensemble\\forest.py:451: UserWarning: Some inputs do not have OOB scores. This probably means too few trees were used to compute any reliable oob estimates.\n",
      "  warn(\"Some inputs do not have OOB scores. \"\n",
      "c:\\users\\sharm\\appdata\\local\\programs\\python\\python36\\lib\\site-packages\\sklearn\\ensemble\\forest.py:456: RuntimeWarning: invalid value encountered in true_divide\n",
      "  predictions[k].sum(axis=1)[:, np.newaxis])\n"
     ]
    },
    {
     "name": "stdout",
     "output_type": "stream",
     "text": [
      "Running:  [10, 'gini', 12, 25]\n"
     ]
    },
    {
     "name": "stderr",
     "output_type": "stream",
     "text": [
      "c:\\users\\sharm\\appdata\\local\\programs\\python\\python36\\lib\\site-packages\\sklearn\\ensemble\\forest.py:451: UserWarning: Some inputs do not have OOB scores. This probably means too few trees were used to compute any reliable oob estimates.\n",
      "  warn(\"Some inputs do not have OOB scores. \"\n",
      "c:\\users\\sharm\\appdata\\local\\programs\\python\\python36\\lib\\site-packages\\sklearn\\ensemble\\forest.py:456: RuntimeWarning: invalid value encountered in true_divide\n",
      "  predictions[k].sum(axis=1)[:, np.newaxis])\n"
     ]
    },
    {
     "name": "stdout",
     "output_type": "stream",
     "text": [
      "Running:  [10, 'gini', 12, 27]\n"
     ]
    },
    {
     "name": "stderr",
     "output_type": "stream",
     "text": [
      "c:\\users\\sharm\\appdata\\local\\programs\\python\\python36\\lib\\site-packages\\sklearn\\ensemble\\forest.py:451: UserWarning: Some inputs do not have OOB scores. This probably means too few trees were used to compute any reliable oob estimates.\n",
      "  warn(\"Some inputs do not have OOB scores. \"\n",
      "c:\\users\\sharm\\appdata\\local\\programs\\python\\python36\\lib\\site-packages\\sklearn\\ensemble\\forest.py:456: RuntimeWarning: invalid value encountered in true_divide\n",
      "  predictions[k].sum(axis=1)[:, np.newaxis])\n"
     ]
    },
    {
     "name": "stdout",
     "output_type": "stream",
     "text": [
      "Running:  [10, 'gini', 12, 29]\n"
     ]
    },
    {
     "name": "stderr",
     "output_type": "stream",
     "text": [
      "c:\\users\\sharm\\appdata\\local\\programs\\python\\python36\\lib\\site-packages\\sklearn\\ensemble\\forest.py:451: UserWarning: Some inputs do not have OOB scores. This probably means too few trees were used to compute any reliable oob estimates.\n",
      "  warn(\"Some inputs do not have OOB scores. \"\n",
      "c:\\users\\sharm\\appdata\\local\\programs\\python\\python36\\lib\\site-packages\\sklearn\\ensemble\\forest.py:456: RuntimeWarning: invalid value encountered in true_divide\n",
      "  predictions[k].sum(axis=1)[:, np.newaxis])\n"
     ]
    },
    {
     "name": "stdout",
     "output_type": "stream",
     "text": [
      "Running:  [10, 'gini', 14, 5]\n"
     ]
    },
    {
     "name": "stderr",
     "output_type": "stream",
     "text": [
      "c:\\users\\sharm\\appdata\\local\\programs\\python\\python36\\lib\\site-packages\\sklearn\\ensemble\\forest.py:451: UserWarning: Some inputs do not have OOB scores. This probably means too few trees were used to compute any reliable oob estimates.\n",
      "  warn(\"Some inputs do not have OOB scores. \"\n",
      "c:\\users\\sharm\\appdata\\local\\programs\\python\\python36\\lib\\site-packages\\sklearn\\ensemble\\forest.py:456: RuntimeWarning: invalid value encountered in true_divide\n",
      "  predictions[k].sum(axis=1)[:, np.newaxis])\n"
     ]
    },
    {
     "name": "stdout",
     "output_type": "stream",
     "text": [
      "Running:  [10, 'gini', 14, 7]\n"
     ]
    },
    {
     "name": "stderr",
     "output_type": "stream",
     "text": [
      "c:\\users\\sharm\\appdata\\local\\programs\\python\\python36\\lib\\site-packages\\sklearn\\ensemble\\forest.py:451: UserWarning: Some inputs do not have OOB scores. This probably means too few trees were used to compute any reliable oob estimates.\n",
      "  warn(\"Some inputs do not have OOB scores. \"\n",
      "c:\\users\\sharm\\appdata\\local\\programs\\python\\python36\\lib\\site-packages\\sklearn\\ensemble\\forest.py:456: RuntimeWarning: invalid value encountered in true_divide\n",
      "  predictions[k].sum(axis=1)[:, np.newaxis])\n"
     ]
    },
    {
     "name": "stdout",
     "output_type": "stream",
     "text": [
      "Running:  [10, 'gini', 14, 9]\n"
     ]
    },
    {
     "name": "stderr",
     "output_type": "stream",
     "text": [
      "c:\\users\\sharm\\appdata\\local\\programs\\python\\python36\\lib\\site-packages\\sklearn\\ensemble\\forest.py:451: UserWarning: Some inputs do not have OOB scores. This probably means too few trees were used to compute any reliable oob estimates.\n",
      "  warn(\"Some inputs do not have OOB scores. \"\n",
      "c:\\users\\sharm\\appdata\\local\\programs\\python\\python36\\lib\\site-packages\\sklearn\\ensemble\\forest.py:456: RuntimeWarning: invalid value encountered in true_divide\n",
      "  predictions[k].sum(axis=1)[:, np.newaxis])\n"
     ]
    },
    {
     "name": "stdout",
     "output_type": "stream",
     "text": [
      "Running:  [10, 'gini', 14, 11]\n"
     ]
    },
    {
     "name": "stderr",
     "output_type": "stream",
     "text": [
      "c:\\users\\sharm\\appdata\\local\\programs\\python\\python36\\lib\\site-packages\\sklearn\\ensemble\\forest.py:451: UserWarning: Some inputs do not have OOB scores. This probably means too few trees were used to compute any reliable oob estimates.\n",
      "  warn(\"Some inputs do not have OOB scores. \"\n",
      "c:\\users\\sharm\\appdata\\local\\programs\\python\\python36\\lib\\site-packages\\sklearn\\ensemble\\forest.py:456: RuntimeWarning: invalid value encountered in true_divide\n",
      "  predictions[k].sum(axis=1)[:, np.newaxis])\n"
     ]
    },
    {
     "name": "stdout",
     "output_type": "stream",
     "text": [
      "Running:  [10, 'gini', 14, 13]\n"
     ]
    },
    {
     "name": "stderr",
     "output_type": "stream",
     "text": [
      "c:\\users\\sharm\\appdata\\local\\programs\\python\\python36\\lib\\site-packages\\sklearn\\ensemble\\forest.py:451: UserWarning: Some inputs do not have OOB scores. This probably means too few trees were used to compute any reliable oob estimates.\n",
      "  warn(\"Some inputs do not have OOB scores. \"\n",
      "c:\\users\\sharm\\appdata\\local\\programs\\python\\python36\\lib\\site-packages\\sklearn\\ensemble\\forest.py:456: RuntimeWarning: invalid value encountered in true_divide\n",
      "  predictions[k].sum(axis=1)[:, np.newaxis])\n"
     ]
    },
    {
     "name": "stdout",
     "output_type": "stream",
     "text": [
      "Running:  [10, 'gini', 14, 15]\n"
     ]
    },
    {
     "name": "stderr",
     "output_type": "stream",
     "text": [
      "c:\\users\\sharm\\appdata\\local\\programs\\python\\python36\\lib\\site-packages\\sklearn\\ensemble\\forest.py:451: UserWarning: Some inputs do not have OOB scores. This probably means too few trees were used to compute any reliable oob estimates.\n",
      "  warn(\"Some inputs do not have OOB scores. \"\n",
      "c:\\users\\sharm\\appdata\\local\\programs\\python\\python36\\lib\\site-packages\\sklearn\\ensemble\\forest.py:456: RuntimeWarning: invalid value encountered in true_divide\n",
      "  predictions[k].sum(axis=1)[:, np.newaxis])\n"
     ]
    },
    {
     "name": "stdout",
     "output_type": "stream",
     "text": [
      "Running:  [10, 'gini', 14, 17]\n"
     ]
    },
    {
     "name": "stderr",
     "output_type": "stream",
     "text": [
      "c:\\users\\sharm\\appdata\\local\\programs\\python\\python36\\lib\\site-packages\\sklearn\\ensemble\\forest.py:451: UserWarning: Some inputs do not have OOB scores. This probably means too few trees were used to compute any reliable oob estimates.\n",
      "  warn(\"Some inputs do not have OOB scores. \"\n",
      "c:\\users\\sharm\\appdata\\local\\programs\\python\\python36\\lib\\site-packages\\sklearn\\ensemble\\forest.py:456: RuntimeWarning: invalid value encountered in true_divide\n",
      "  predictions[k].sum(axis=1)[:, np.newaxis])\n"
     ]
    },
    {
     "name": "stdout",
     "output_type": "stream",
     "text": [
      "Running:  [10, 'gini', 14, 19]\n"
     ]
    },
    {
     "name": "stderr",
     "output_type": "stream",
     "text": [
      "c:\\users\\sharm\\appdata\\local\\programs\\python\\python36\\lib\\site-packages\\sklearn\\ensemble\\forest.py:451: UserWarning: Some inputs do not have OOB scores. This probably means too few trees were used to compute any reliable oob estimates.\n",
      "  warn(\"Some inputs do not have OOB scores. \"\n",
      "c:\\users\\sharm\\appdata\\local\\programs\\python\\python36\\lib\\site-packages\\sklearn\\ensemble\\forest.py:456: RuntimeWarning: invalid value encountered in true_divide\n",
      "  predictions[k].sum(axis=1)[:, np.newaxis])\n"
     ]
    },
    {
     "name": "stdout",
     "output_type": "stream",
     "text": [
      "Running:  [10, 'gini', 14, 21]\n"
     ]
    },
    {
     "name": "stderr",
     "output_type": "stream",
     "text": [
      "c:\\users\\sharm\\appdata\\local\\programs\\python\\python36\\lib\\site-packages\\sklearn\\ensemble\\forest.py:451: UserWarning: Some inputs do not have OOB scores. This probably means too few trees were used to compute any reliable oob estimates.\n",
      "  warn(\"Some inputs do not have OOB scores. \"\n",
      "c:\\users\\sharm\\appdata\\local\\programs\\python\\python36\\lib\\site-packages\\sklearn\\ensemble\\forest.py:456: RuntimeWarning: invalid value encountered in true_divide\n",
      "  predictions[k].sum(axis=1)[:, np.newaxis])\n"
     ]
    },
    {
     "name": "stdout",
     "output_type": "stream",
     "text": [
      "Running:  [10, 'gini', 14, 23]\n"
     ]
    },
    {
     "name": "stderr",
     "output_type": "stream",
     "text": [
      "c:\\users\\sharm\\appdata\\local\\programs\\python\\python36\\lib\\site-packages\\sklearn\\ensemble\\forest.py:451: UserWarning: Some inputs do not have OOB scores. This probably means too few trees were used to compute any reliable oob estimates.\n",
      "  warn(\"Some inputs do not have OOB scores. \"\n",
      "c:\\users\\sharm\\appdata\\local\\programs\\python\\python36\\lib\\site-packages\\sklearn\\ensemble\\forest.py:456: RuntimeWarning: invalid value encountered in true_divide\n",
      "  predictions[k].sum(axis=1)[:, np.newaxis])\n"
     ]
    },
    {
     "name": "stdout",
     "output_type": "stream",
     "text": [
      "Running:  [10, 'gini', 14, 25]\n"
     ]
    },
    {
     "name": "stderr",
     "output_type": "stream",
     "text": [
      "c:\\users\\sharm\\appdata\\local\\programs\\python\\python36\\lib\\site-packages\\sklearn\\ensemble\\forest.py:451: UserWarning: Some inputs do not have OOB scores. This probably means too few trees were used to compute any reliable oob estimates.\n",
      "  warn(\"Some inputs do not have OOB scores. \"\n",
      "c:\\users\\sharm\\appdata\\local\\programs\\python\\python36\\lib\\site-packages\\sklearn\\ensemble\\forest.py:456: RuntimeWarning: invalid value encountered in true_divide\n",
      "  predictions[k].sum(axis=1)[:, np.newaxis])\n"
     ]
    },
    {
     "name": "stdout",
     "output_type": "stream",
     "text": [
      "Running:  [10, 'gini', 14, 27]\n"
     ]
    },
    {
     "name": "stderr",
     "output_type": "stream",
     "text": [
      "c:\\users\\sharm\\appdata\\local\\programs\\python\\python36\\lib\\site-packages\\sklearn\\ensemble\\forest.py:451: UserWarning: Some inputs do not have OOB scores. This probably means too few trees were used to compute any reliable oob estimates.\n",
      "  warn(\"Some inputs do not have OOB scores. \"\n",
      "c:\\users\\sharm\\appdata\\local\\programs\\python\\python36\\lib\\site-packages\\sklearn\\ensemble\\forest.py:456: RuntimeWarning: invalid value encountered in true_divide\n",
      "  predictions[k].sum(axis=1)[:, np.newaxis])\n"
     ]
    },
    {
     "name": "stdout",
     "output_type": "stream",
     "text": [
      "Running:  [10, 'gini', 14, 29]\n"
     ]
    },
    {
     "name": "stderr",
     "output_type": "stream",
     "text": [
      "c:\\users\\sharm\\appdata\\local\\programs\\python\\python36\\lib\\site-packages\\sklearn\\ensemble\\forest.py:451: UserWarning: Some inputs do not have OOB scores. This probably means too few trees were used to compute any reliable oob estimates.\n",
      "  warn(\"Some inputs do not have OOB scores. \"\n",
      "c:\\users\\sharm\\appdata\\local\\programs\\python\\python36\\lib\\site-packages\\sklearn\\ensemble\\forest.py:456: RuntimeWarning: invalid value encountered in true_divide\n",
      "  predictions[k].sum(axis=1)[:, np.newaxis])\n"
     ]
    },
    {
     "name": "stdout",
     "output_type": "stream",
     "text": [
      "Running:  [10, 'gini', 16, 5]\n"
     ]
    },
    {
     "name": "stderr",
     "output_type": "stream",
     "text": [
      "c:\\users\\sharm\\appdata\\local\\programs\\python\\python36\\lib\\site-packages\\sklearn\\ensemble\\forest.py:451: UserWarning: Some inputs do not have OOB scores. This probably means too few trees were used to compute any reliable oob estimates.\n",
      "  warn(\"Some inputs do not have OOB scores. \"\n",
      "c:\\users\\sharm\\appdata\\local\\programs\\python\\python36\\lib\\site-packages\\sklearn\\ensemble\\forest.py:456: RuntimeWarning: invalid value encountered in true_divide\n",
      "  predictions[k].sum(axis=1)[:, np.newaxis])\n"
     ]
    },
    {
     "name": "stdout",
     "output_type": "stream",
     "text": [
      "Running:  [10, 'gini', 16, 7]\n"
     ]
    },
    {
     "name": "stderr",
     "output_type": "stream",
     "text": [
      "c:\\users\\sharm\\appdata\\local\\programs\\python\\python36\\lib\\site-packages\\sklearn\\ensemble\\forest.py:451: UserWarning: Some inputs do not have OOB scores. This probably means too few trees were used to compute any reliable oob estimates.\n",
      "  warn(\"Some inputs do not have OOB scores. \"\n",
      "c:\\users\\sharm\\appdata\\local\\programs\\python\\python36\\lib\\site-packages\\sklearn\\ensemble\\forest.py:456: RuntimeWarning: invalid value encountered in true_divide\n",
      "  predictions[k].sum(axis=1)[:, np.newaxis])\n"
     ]
    },
    {
     "name": "stdout",
     "output_type": "stream",
     "text": [
      "Running:  [10, 'gini', 16, 9]\n"
     ]
    },
    {
     "name": "stderr",
     "output_type": "stream",
     "text": [
      "c:\\users\\sharm\\appdata\\local\\programs\\python\\python36\\lib\\site-packages\\sklearn\\ensemble\\forest.py:451: UserWarning: Some inputs do not have OOB scores. This probably means too few trees were used to compute any reliable oob estimates.\n",
      "  warn(\"Some inputs do not have OOB scores. \"\n",
      "c:\\users\\sharm\\appdata\\local\\programs\\python\\python36\\lib\\site-packages\\sklearn\\ensemble\\forest.py:456: RuntimeWarning: invalid value encountered in true_divide\n",
      "  predictions[k].sum(axis=1)[:, np.newaxis])\n"
     ]
    },
    {
     "name": "stdout",
     "output_type": "stream",
     "text": [
      "Running:  [10, 'gini', 16, 11]\n"
     ]
    },
    {
     "name": "stderr",
     "output_type": "stream",
     "text": [
      "c:\\users\\sharm\\appdata\\local\\programs\\python\\python36\\lib\\site-packages\\sklearn\\ensemble\\forest.py:451: UserWarning: Some inputs do not have OOB scores. This probably means too few trees were used to compute any reliable oob estimates.\n",
      "  warn(\"Some inputs do not have OOB scores. \"\n",
      "c:\\users\\sharm\\appdata\\local\\programs\\python\\python36\\lib\\site-packages\\sklearn\\ensemble\\forest.py:456: RuntimeWarning: invalid value encountered in true_divide\n",
      "  predictions[k].sum(axis=1)[:, np.newaxis])\n"
     ]
    },
    {
     "name": "stdout",
     "output_type": "stream",
     "text": [
      "Running:  [10, 'gini', 16, 13]\n"
     ]
    },
    {
     "name": "stderr",
     "output_type": "stream",
     "text": [
      "c:\\users\\sharm\\appdata\\local\\programs\\python\\python36\\lib\\site-packages\\sklearn\\ensemble\\forest.py:451: UserWarning: Some inputs do not have OOB scores. This probably means too few trees were used to compute any reliable oob estimates.\n",
      "  warn(\"Some inputs do not have OOB scores. \"\n",
      "c:\\users\\sharm\\appdata\\local\\programs\\python\\python36\\lib\\site-packages\\sklearn\\ensemble\\forest.py:456: RuntimeWarning: invalid value encountered in true_divide\n",
      "  predictions[k].sum(axis=1)[:, np.newaxis])\n"
     ]
    },
    {
     "name": "stdout",
     "output_type": "stream",
     "text": [
      "Running:  [10, 'gini', 16, 15]\n"
     ]
    },
    {
     "name": "stderr",
     "output_type": "stream",
     "text": [
      "c:\\users\\sharm\\appdata\\local\\programs\\python\\python36\\lib\\site-packages\\sklearn\\ensemble\\forest.py:451: UserWarning: Some inputs do not have OOB scores. This probably means too few trees were used to compute any reliable oob estimates.\n",
      "  warn(\"Some inputs do not have OOB scores. \"\n",
      "c:\\users\\sharm\\appdata\\local\\programs\\python\\python36\\lib\\site-packages\\sklearn\\ensemble\\forest.py:456: RuntimeWarning: invalid value encountered in true_divide\n",
      "  predictions[k].sum(axis=1)[:, np.newaxis])\n"
     ]
    },
    {
     "name": "stdout",
     "output_type": "stream",
     "text": [
      "Running:  [10, 'gini', 16, 17]\n"
     ]
    },
    {
     "name": "stderr",
     "output_type": "stream",
     "text": [
      "c:\\users\\sharm\\appdata\\local\\programs\\python\\python36\\lib\\site-packages\\sklearn\\ensemble\\forest.py:451: UserWarning: Some inputs do not have OOB scores. This probably means too few trees were used to compute any reliable oob estimates.\n",
      "  warn(\"Some inputs do not have OOB scores. \"\n",
      "c:\\users\\sharm\\appdata\\local\\programs\\python\\python36\\lib\\site-packages\\sklearn\\ensemble\\forest.py:456: RuntimeWarning: invalid value encountered in true_divide\n",
      "  predictions[k].sum(axis=1)[:, np.newaxis])\n"
     ]
    },
    {
     "name": "stdout",
     "output_type": "stream",
     "text": [
      "Running:  [10, 'gini', 16, 19]\n"
     ]
    },
    {
     "name": "stderr",
     "output_type": "stream",
     "text": [
      "c:\\users\\sharm\\appdata\\local\\programs\\python\\python36\\lib\\site-packages\\sklearn\\ensemble\\forest.py:451: UserWarning: Some inputs do not have OOB scores. This probably means too few trees were used to compute any reliable oob estimates.\n",
      "  warn(\"Some inputs do not have OOB scores. \"\n",
      "c:\\users\\sharm\\appdata\\local\\programs\\python\\python36\\lib\\site-packages\\sklearn\\ensemble\\forest.py:456: RuntimeWarning: invalid value encountered in true_divide\n",
      "  predictions[k].sum(axis=1)[:, np.newaxis])\n"
     ]
    },
    {
     "name": "stdout",
     "output_type": "stream",
     "text": [
      "Running:  [10, 'gini', 16, 21]\n"
     ]
    },
    {
     "name": "stderr",
     "output_type": "stream",
     "text": [
      "c:\\users\\sharm\\appdata\\local\\programs\\python\\python36\\lib\\site-packages\\sklearn\\ensemble\\forest.py:451: UserWarning: Some inputs do not have OOB scores. This probably means too few trees were used to compute any reliable oob estimates.\n",
      "  warn(\"Some inputs do not have OOB scores. \"\n",
      "c:\\users\\sharm\\appdata\\local\\programs\\python\\python36\\lib\\site-packages\\sklearn\\ensemble\\forest.py:456: RuntimeWarning: invalid value encountered in true_divide\n",
      "  predictions[k].sum(axis=1)[:, np.newaxis])\n"
     ]
    },
    {
     "name": "stdout",
     "output_type": "stream",
     "text": [
      "Running:  [10, 'gini', 16, 23]\n"
     ]
    },
    {
     "name": "stderr",
     "output_type": "stream",
     "text": [
      "c:\\users\\sharm\\appdata\\local\\programs\\python\\python36\\lib\\site-packages\\sklearn\\ensemble\\forest.py:451: UserWarning: Some inputs do not have OOB scores. This probably means too few trees were used to compute any reliable oob estimates.\n",
      "  warn(\"Some inputs do not have OOB scores. \"\n",
      "c:\\users\\sharm\\appdata\\local\\programs\\python\\python36\\lib\\site-packages\\sklearn\\ensemble\\forest.py:456: RuntimeWarning: invalid value encountered in true_divide\n",
      "  predictions[k].sum(axis=1)[:, np.newaxis])\n"
     ]
    },
    {
     "name": "stdout",
     "output_type": "stream",
     "text": [
      "Running:  [10, 'gini', 16, 25]\n"
     ]
    },
    {
     "name": "stderr",
     "output_type": "stream",
     "text": [
      "c:\\users\\sharm\\appdata\\local\\programs\\python\\python36\\lib\\site-packages\\sklearn\\ensemble\\forest.py:451: UserWarning: Some inputs do not have OOB scores. This probably means too few trees were used to compute any reliable oob estimates.\n",
      "  warn(\"Some inputs do not have OOB scores. \"\n",
      "c:\\users\\sharm\\appdata\\local\\programs\\python\\python36\\lib\\site-packages\\sklearn\\ensemble\\forest.py:456: RuntimeWarning: invalid value encountered in true_divide\n",
      "  predictions[k].sum(axis=1)[:, np.newaxis])\n"
     ]
    },
    {
     "name": "stdout",
     "output_type": "stream",
     "text": [
      "Running:  [10, 'gini', 16, 27]\n"
     ]
    },
    {
     "name": "stderr",
     "output_type": "stream",
     "text": [
      "c:\\users\\sharm\\appdata\\local\\programs\\python\\python36\\lib\\site-packages\\sklearn\\ensemble\\forest.py:451: UserWarning: Some inputs do not have OOB scores. This probably means too few trees were used to compute any reliable oob estimates.\n",
      "  warn(\"Some inputs do not have OOB scores. \"\n",
      "c:\\users\\sharm\\appdata\\local\\programs\\python\\python36\\lib\\site-packages\\sklearn\\ensemble\\forest.py:456: RuntimeWarning: invalid value encountered in true_divide\n",
      "  predictions[k].sum(axis=1)[:, np.newaxis])\n"
     ]
    },
    {
     "name": "stdout",
     "output_type": "stream",
     "text": [
      "Running:  [10, 'gini', 16, 29]\n"
     ]
    },
    {
     "name": "stderr",
     "output_type": "stream",
     "text": [
      "c:\\users\\sharm\\appdata\\local\\programs\\python\\python36\\lib\\site-packages\\sklearn\\ensemble\\forest.py:451: UserWarning: Some inputs do not have OOB scores. This probably means too few trees were used to compute any reliable oob estimates.\n",
      "  warn(\"Some inputs do not have OOB scores. \"\n",
      "c:\\users\\sharm\\appdata\\local\\programs\\python\\python36\\lib\\site-packages\\sklearn\\ensemble\\forest.py:456: RuntimeWarning: invalid value encountered in true_divide\n",
      "  predictions[k].sum(axis=1)[:, np.newaxis])\n"
     ]
    },
    {
     "name": "stdout",
     "output_type": "stream",
     "text": [
      "Running:  [10, 'gini', 18, 5]\n"
     ]
    },
    {
     "name": "stderr",
     "output_type": "stream",
     "text": [
      "c:\\users\\sharm\\appdata\\local\\programs\\python\\python36\\lib\\site-packages\\sklearn\\ensemble\\forest.py:451: UserWarning: Some inputs do not have OOB scores. This probably means too few trees were used to compute any reliable oob estimates.\n",
      "  warn(\"Some inputs do not have OOB scores. \"\n",
      "c:\\users\\sharm\\appdata\\local\\programs\\python\\python36\\lib\\site-packages\\sklearn\\ensemble\\forest.py:456: RuntimeWarning: invalid value encountered in true_divide\n",
      "  predictions[k].sum(axis=1)[:, np.newaxis])\n"
     ]
    },
    {
     "name": "stdout",
     "output_type": "stream",
     "text": [
      "Best Accuracy till now:  0.6594743036484896\n",
      "Best Args till now:  [10, 'gini', 18, 5]\n",
      "Running:  [10, 'gini', 18, 7]\n"
     ]
    },
    {
     "name": "stderr",
     "output_type": "stream",
     "text": [
      "c:\\users\\sharm\\appdata\\local\\programs\\python\\python36\\lib\\site-packages\\sklearn\\ensemble\\forest.py:451: UserWarning: Some inputs do not have OOB scores. This probably means too few trees were used to compute any reliable oob estimates.\n",
      "  warn(\"Some inputs do not have OOB scores. \"\n",
      "c:\\users\\sharm\\appdata\\local\\programs\\python\\python36\\lib\\site-packages\\sklearn\\ensemble\\forest.py:456: RuntimeWarning: invalid value encountered in true_divide\n",
      "  predictions[k].sum(axis=1)[:, np.newaxis])\n"
     ]
    },
    {
     "name": "stdout",
     "output_type": "stream",
     "text": [
      "Running:  [10, 'gini', 18, 9]\n"
     ]
    },
    {
     "name": "stderr",
     "output_type": "stream",
     "text": [
      "c:\\users\\sharm\\appdata\\local\\programs\\python\\python36\\lib\\site-packages\\sklearn\\ensemble\\forest.py:451: UserWarning: Some inputs do not have OOB scores. This probably means too few trees were used to compute any reliable oob estimates.\n",
      "  warn(\"Some inputs do not have OOB scores. \"\n",
      "c:\\users\\sharm\\appdata\\local\\programs\\python\\python36\\lib\\site-packages\\sklearn\\ensemble\\forest.py:456: RuntimeWarning: invalid value encountered in true_divide\n",
      "  predictions[k].sum(axis=1)[:, np.newaxis])\n"
     ]
    },
    {
     "name": "stdout",
     "output_type": "stream",
     "text": [
      "Running:  [10, 'gini', 18, 11]\n"
     ]
    },
    {
     "name": "stderr",
     "output_type": "stream",
     "text": [
      "c:\\users\\sharm\\appdata\\local\\programs\\python\\python36\\lib\\site-packages\\sklearn\\ensemble\\forest.py:451: UserWarning: Some inputs do not have OOB scores. This probably means too few trees were used to compute any reliable oob estimates.\n",
      "  warn(\"Some inputs do not have OOB scores. \"\n",
      "c:\\users\\sharm\\appdata\\local\\programs\\python\\python36\\lib\\site-packages\\sklearn\\ensemble\\forest.py:456: RuntimeWarning: invalid value encountered in true_divide\n",
      "  predictions[k].sum(axis=1)[:, np.newaxis])\n"
     ]
    },
    {
     "name": "stdout",
     "output_type": "stream",
     "text": [
      "Running:  [10, 'gini', 18, 13]\n"
     ]
    },
    {
     "name": "stderr",
     "output_type": "stream",
     "text": [
      "c:\\users\\sharm\\appdata\\local\\programs\\python\\python36\\lib\\site-packages\\sklearn\\ensemble\\forest.py:451: UserWarning: Some inputs do not have OOB scores. This probably means too few trees were used to compute any reliable oob estimates.\n",
      "  warn(\"Some inputs do not have OOB scores. \"\n",
      "c:\\users\\sharm\\appdata\\local\\programs\\python\\python36\\lib\\site-packages\\sklearn\\ensemble\\forest.py:456: RuntimeWarning: invalid value encountered in true_divide\n",
      "  predictions[k].sum(axis=1)[:, np.newaxis])\n"
     ]
    },
    {
     "name": "stdout",
     "output_type": "stream",
     "text": [
      "Running:  [10, 'gini', 18, 15]\n"
     ]
    },
    {
     "name": "stderr",
     "output_type": "stream",
     "text": [
      "c:\\users\\sharm\\appdata\\local\\programs\\python\\python36\\lib\\site-packages\\sklearn\\ensemble\\forest.py:451: UserWarning: Some inputs do not have OOB scores. This probably means too few trees were used to compute any reliable oob estimates.\n",
      "  warn(\"Some inputs do not have OOB scores. \"\n",
      "c:\\users\\sharm\\appdata\\local\\programs\\python\\python36\\lib\\site-packages\\sklearn\\ensemble\\forest.py:456: RuntimeWarning: invalid value encountered in true_divide\n",
      "  predictions[k].sum(axis=1)[:, np.newaxis])\n"
     ]
    },
    {
     "name": "stdout",
     "output_type": "stream",
     "text": [
      "Running:  [10, 'gini', 18, 17]\n"
     ]
    },
    {
     "name": "stderr",
     "output_type": "stream",
     "text": [
      "c:\\users\\sharm\\appdata\\local\\programs\\python\\python36\\lib\\site-packages\\sklearn\\ensemble\\forest.py:451: UserWarning: Some inputs do not have OOB scores. This probably means too few trees were used to compute any reliable oob estimates.\n",
      "  warn(\"Some inputs do not have OOB scores. \"\n",
      "c:\\users\\sharm\\appdata\\local\\programs\\python\\python36\\lib\\site-packages\\sklearn\\ensemble\\forest.py:456: RuntimeWarning: invalid value encountered in true_divide\n",
      "  predictions[k].sum(axis=1)[:, np.newaxis])\n"
     ]
    },
    {
     "name": "stdout",
     "output_type": "stream",
     "text": [
      "Running:  [10, 'gini', 18, 19]\n"
     ]
    },
    {
     "name": "stderr",
     "output_type": "stream",
     "text": [
      "c:\\users\\sharm\\appdata\\local\\programs\\python\\python36\\lib\\site-packages\\sklearn\\ensemble\\forest.py:451: UserWarning: Some inputs do not have OOB scores. This probably means too few trees were used to compute any reliable oob estimates.\n",
      "  warn(\"Some inputs do not have OOB scores. \"\n",
      "c:\\users\\sharm\\appdata\\local\\programs\\python\\python36\\lib\\site-packages\\sklearn\\ensemble\\forest.py:456: RuntimeWarning: invalid value encountered in true_divide\n",
      "  predictions[k].sum(axis=1)[:, np.newaxis])\n"
     ]
    },
    {
     "name": "stdout",
     "output_type": "stream",
     "text": [
      "Running:  [10, 'gini', 18, 21]\n"
     ]
    },
    {
     "name": "stderr",
     "output_type": "stream",
     "text": [
      "c:\\users\\sharm\\appdata\\local\\programs\\python\\python36\\lib\\site-packages\\sklearn\\ensemble\\forest.py:451: UserWarning: Some inputs do not have OOB scores. This probably means too few trees were used to compute any reliable oob estimates.\n",
      "  warn(\"Some inputs do not have OOB scores. \"\n",
      "c:\\users\\sharm\\appdata\\local\\programs\\python\\python36\\lib\\site-packages\\sklearn\\ensemble\\forest.py:456: RuntimeWarning: invalid value encountered in true_divide\n",
      "  predictions[k].sum(axis=1)[:, np.newaxis])\n"
     ]
    },
    {
     "name": "stdout",
     "output_type": "stream",
     "text": [
      "Running:  [10, 'gini', 18, 23]\n"
     ]
    },
    {
     "name": "stderr",
     "output_type": "stream",
     "text": [
      "c:\\users\\sharm\\appdata\\local\\programs\\python\\python36\\lib\\site-packages\\sklearn\\ensemble\\forest.py:451: UserWarning: Some inputs do not have OOB scores. This probably means too few trees were used to compute any reliable oob estimates.\n",
      "  warn(\"Some inputs do not have OOB scores. \"\n",
      "c:\\users\\sharm\\appdata\\local\\programs\\python\\python36\\lib\\site-packages\\sklearn\\ensemble\\forest.py:456: RuntimeWarning: invalid value encountered in true_divide\n",
      "  predictions[k].sum(axis=1)[:, np.newaxis])\n"
     ]
    },
    {
     "name": "stdout",
     "output_type": "stream",
     "text": [
      "Running:  [10, 'gini', 18, 25]\n"
     ]
    },
    {
     "name": "stderr",
     "output_type": "stream",
     "text": [
      "c:\\users\\sharm\\appdata\\local\\programs\\python\\python36\\lib\\site-packages\\sklearn\\ensemble\\forest.py:451: UserWarning: Some inputs do not have OOB scores. This probably means too few trees were used to compute any reliable oob estimates.\n",
      "  warn(\"Some inputs do not have OOB scores. \"\n",
      "c:\\users\\sharm\\appdata\\local\\programs\\python\\python36\\lib\\site-packages\\sklearn\\ensemble\\forest.py:456: RuntimeWarning: invalid value encountered in true_divide\n",
      "  predictions[k].sum(axis=1)[:, np.newaxis])\n"
     ]
    },
    {
     "name": "stdout",
     "output_type": "stream",
     "text": [
      "Running:  [10, 'gini', 18, 27]\n"
     ]
    },
    {
     "name": "stderr",
     "output_type": "stream",
     "text": [
      "c:\\users\\sharm\\appdata\\local\\programs\\python\\python36\\lib\\site-packages\\sklearn\\ensemble\\forest.py:451: UserWarning: Some inputs do not have OOB scores. This probably means too few trees were used to compute any reliable oob estimates.\n",
      "  warn(\"Some inputs do not have OOB scores. \"\n",
      "c:\\users\\sharm\\appdata\\local\\programs\\python\\python36\\lib\\site-packages\\sklearn\\ensemble\\forest.py:456: RuntimeWarning: invalid value encountered in true_divide\n",
      "  predictions[k].sum(axis=1)[:, np.newaxis])\n"
     ]
    },
    {
     "name": "stdout",
     "output_type": "stream",
     "text": [
      "Running:  [10, 'gini', 18, 29]\n"
     ]
    },
    {
     "name": "stderr",
     "output_type": "stream",
     "text": [
      "c:\\users\\sharm\\appdata\\local\\programs\\python\\python36\\lib\\site-packages\\sklearn\\ensemble\\forest.py:451: UserWarning: Some inputs do not have OOB scores. This probably means too few trees were used to compute any reliable oob estimates.\n",
      "  warn(\"Some inputs do not have OOB scores. \"\n",
      "c:\\users\\sharm\\appdata\\local\\programs\\python\\python36\\lib\\site-packages\\sklearn\\ensemble\\forest.py:456: RuntimeWarning: invalid value encountered in true_divide\n",
      "  predictions[k].sum(axis=1)[:, np.newaxis])\n"
     ]
    },
    {
     "name": "stdout",
     "output_type": "stream",
     "text": [
      "Running:  [10, 'gini', 20, 5]\n"
     ]
    },
    {
     "name": "stderr",
     "output_type": "stream",
     "text": [
      "c:\\users\\sharm\\appdata\\local\\programs\\python\\python36\\lib\\site-packages\\sklearn\\ensemble\\forest.py:451: UserWarning: Some inputs do not have OOB scores. This probably means too few trees were used to compute any reliable oob estimates.\n",
      "  warn(\"Some inputs do not have OOB scores. \"\n",
      "c:\\users\\sharm\\appdata\\local\\programs\\python\\python36\\lib\\site-packages\\sklearn\\ensemble\\forest.py:456: RuntimeWarning: invalid value encountered in true_divide\n",
      "  predictions[k].sum(axis=1)[:, np.newaxis])\n"
     ]
    },
    {
     "name": "stdout",
     "output_type": "stream",
     "text": [
      "Running:  [10, 'gini', 20, 7]\n"
     ]
    },
    {
     "name": "stderr",
     "output_type": "stream",
     "text": [
      "c:\\users\\sharm\\appdata\\local\\programs\\python\\python36\\lib\\site-packages\\sklearn\\ensemble\\forest.py:451: UserWarning: Some inputs do not have OOB scores. This probably means too few trees were used to compute any reliable oob estimates.\n",
      "  warn(\"Some inputs do not have OOB scores. \"\n",
      "c:\\users\\sharm\\appdata\\local\\programs\\python\\python36\\lib\\site-packages\\sklearn\\ensemble\\forest.py:456: RuntimeWarning: invalid value encountered in true_divide\n",
      "  predictions[k].sum(axis=1)[:, np.newaxis])\n"
     ]
    },
    {
     "name": "stdout",
     "output_type": "stream",
     "text": [
      "Running:  [10, 'gini', 20, 9]\n"
     ]
    },
    {
     "name": "stderr",
     "output_type": "stream",
     "text": [
      "c:\\users\\sharm\\appdata\\local\\programs\\python\\python36\\lib\\site-packages\\sklearn\\ensemble\\forest.py:451: UserWarning: Some inputs do not have OOB scores. This probably means too few trees were used to compute any reliable oob estimates.\n",
      "  warn(\"Some inputs do not have OOB scores. \"\n",
      "c:\\users\\sharm\\appdata\\local\\programs\\python\\python36\\lib\\site-packages\\sklearn\\ensemble\\forest.py:456: RuntimeWarning: invalid value encountered in true_divide\n",
      "  predictions[k].sum(axis=1)[:, np.newaxis])\n"
     ]
    },
    {
     "name": "stdout",
     "output_type": "stream",
     "text": [
      "Running:  [10, 'gini', 20, 11]\n"
     ]
    },
    {
     "name": "stderr",
     "output_type": "stream",
     "text": [
      "c:\\users\\sharm\\appdata\\local\\programs\\python\\python36\\lib\\site-packages\\sklearn\\ensemble\\forest.py:451: UserWarning: Some inputs do not have OOB scores. This probably means too few trees were used to compute any reliable oob estimates.\n",
      "  warn(\"Some inputs do not have OOB scores. \"\n",
      "c:\\users\\sharm\\appdata\\local\\programs\\python\\python36\\lib\\site-packages\\sklearn\\ensemble\\forest.py:456: RuntimeWarning: invalid value encountered in true_divide\n",
      "  predictions[k].sum(axis=1)[:, np.newaxis])\n"
     ]
    },
    {
     "name": "stdout",
     "output_type": "stream",
     "text": [
      "Running:  [10, 'gini', 20, 13]\n"
     ]
    },
    {
     "name": "stderr",
     "output_type": "stream",
     "text": [
      "c:\\users\\sharm\\appdata\\local\\programs\\python\\python36\\lib\\site-packages\\sklearn\\ensemble\\forest.py:451: UserWarning: Some inputs do not have OOB scores. This probably means too few trees were used to compute any reliable oob estimates.\n",
      "  warn(\"Some inputs do not have OOB scores. \"\n",
      "c:\\users\\sharm\\appdata\\local\\programs\\python\\python36\\lib\\site-packages\\sklearn\\ensemble\\forest.py:456: RuntimeWarning: invalid value encountered in true_divide\n",
      "  predictions[k].sum(axis=1)[:, np.newaxis])\n"
     ]
    },
    {
     "name": "stdout",
     "output_type": "stream",
     "text": [
      "Running:  [10, 'gini', 20, 15]\n"
     ]
    },
    {
     "name": "stderr",
     "output_type": "stream",
     "text": [
      "c:\\users\\sharm\\appdata\\local\\programs\\python\\python36\\lib\\site-packages\\sklearn\\ensemble\\forest.py:451: UserWarning: Some inputs do not have OOB scores. This probably means too few trees were used to compute any reliable oob estimates.\n",
      "  warn(\"Some inputs do not have OOB scores. \"\n",
      "c:\\users\\sharm\\appdata\\local\\programs\\python\\python36\\lib\\site-packages\\sklearn\\ensemble\\forest.py:456: RuntimeWarning: invalid value encountered in true_divide\n",
      "  predictions[k].sum(axis=1)[:, np.newaxis])\n"
     ]
    },
    {
     "name": "stdout",
     "output_type": "stream",
     "text": [
      "Running:  [10, 'gini', 20, 17]\n"
     ]
    },
    {
     "name": "stderr",
     "output_type": "stream",
     "text": [
      "c:\\users\\sharm\\appdata\\local\\programs\\python\\python36\\lib\\site-packages\\sklearn\\ensemble\\forest.py:451: UserWarning: Some inputs do not have OOB scores. This probably means too few trees were used to compute any reliable oob estimates.\n",
      "  warn(\"Some inputs do not have OOB scores. \"\n",
      "c:\\users\\sharm\\appdata\\local\\programs\\python\\python36\\lib\\site-packages\\sklearn\\ensemble\\forest.py:456: RuntimeWarning: invalid value encountered in true_divide\n",
      "  predictions[k].sum(axis=1)[:, np.newaxis])\n"
     ]
    },
    {
     "name": "stdout",
     "output_type": "stream",
     "text": [
      "Running:  [10, 'gini', 20, 19]\n"
     ]
    },
    {
     "name": "stderr",
     "output_type": "stream",
     "text": [
      "c:\\users\\sharm\\appdata\\local\\programs\\python\\python36\\lib\\site-packages\\sklearn\\ensemble\\forest.py:451: UserWarning: Some inputs do not have OOB scores. This probably means too few trees were used to compute any reliable oob estimates.\n",
      "  warn(\"Some inputs do not have OOB scores. \"\n",
      "c:\\users\\sharm\\appdata\\local\\programs\\python\\python36\\lib\\site-packages\\sklearn\\ensemble\\forest.py:456: RuntimeWarning: invalid value encountered in true_divide\n",
      "  predictions[k].sum(axis=1)[:, np.newaxis])\n"
     ]
    },
    {
     "name": "stdout",
     "output_type": "stream",
     "text": [
      "Running:  [10, 'gini', 20, 21]\n"
     ]
    },
    {
     "name": "stderr",
     "output_type": "stream",
     "text": [
      "c:\\users\\sharm\\appdata\\local\\programs\\python\\python36\\lib\\site-packages\\sklearn\\ensemble\\forest.py:451: UserWarning: Some inputs do not have OOB scores. This probably means too few trees were used to compute any reliable oob estimates.\n",
      "  warn(\"Some inputs do not have OOB scores. \"\n",
      "c:\\users\\sharm\\appdata\\local\\programs\\python\\python36\\lib\\site-packages\\sklearn\\ensemble\\forest.py:456: RuntimeWarning: invalid value encountered in true_divide\n",
      "  predictions[k].sum(axis=1)[:, np.newaxis])\n"
     ]
    },
    {
     "name": "stdout",
     "output_type": "stream",
     "text": [
      "Running:  [10, 'gini', 20, 23]\n"
     ]
    },
    {
     "name": "stderr",
     "output_type": "stream",
     "text": [
      "c:\\users\\sharm\\appdata\\local\\programs\\python\\python36\\lib\\site-packages\\sklearn\\ensemble\\forest.py:451: UserWarning: Some inputs do not have OOB scores. This probably means too few trees were used to compute any reliable oob estimates.\n",
      "  warn(\"Some inputs do not have OOB scores. \"\n",
      "c:\\users\\sharm\\appdata\\local\\programs\\python\\python36\\lib\\site-packages\\sklearn\\ensemble\\forest.py:456: RuntimeWarning: invalid value encountered in true_divide\n",
      "  predictions[k].sum(axis=1)[:, np.newaxis])\n"
     ]
    },
    {
     "name": "stdout",
     "output_type": "stream",
     "text": [
      "Running:  [10, 'gini', 20, 25]\n"
     ]
    },
    {
     "name": "stderr",
     "output_type": "stream",
     "text": [
      "c:\\users\\sharm\\appdata\\local\\programs\\python\\python36\\lib\\site-packages\\sklearn\\ensemble\\forest.py:451: UserWarning: Some inputs do not have OOB scores. This probably means too few trees were used to compute any reliable oob estimates.\n",
      "  warn(\"Some inputs do not have OOB scores. \"\n",
      "c:\\users\\sharm\\appdata\\local\\programs\\python\\python36\\lib\\site-packages\\sklearn\\ensemble\\forest.py:456: RuntimeWarning: invalid value encountered in true_divide\n",
      "  predictions[k].sum(axis=1)[:, np.newaxis])\n"
     ]
    },
    {
     "name": "stdout",
     "output_type": "stream",
     "text": [
      "Running:  [10, 'gini', 20, 27]\n"
     ]
    },
    {
     "name": "stderr",
     "output_type": "stream",
     "text": [
      "c:\\users\\sharm\\appdata\\local\\programs\\python\\python36\\lib\\site-packages\\sklearn\\ensemble\\forest.py:451: UserWarning: Some inputs do not have OOB scores. This probably means too few trees were used to compute any reliable oob estimates.\n",
      "  warn(\"Some inputs do not have OOB scores. \"\n",
      "c:\\users\\sharm\\appdata\\local\\programs\\python\\python36\\lib\\site-packages\\sklearn\\ensemble\\forest.py:456: RuntimeWarning: invalid value encountered in true_divide\n",
      "  predictions[k].sum(axis=1)[:, np.newaxis])\n"
     ]
    },
    {
     "name": "stdout",
     "output_type": "stream",
     "text": [
      "Running:  [10, 'gini', 20, 29]\n"
     ]
    },
    {
     "name": "stderr",
     "output_type": "stream",
     "text": [
      "c:\\users\\sharm\\appdata\\local\\programs\\python\\python36\\lib\\site-packages\\sklearn\\ensemble\\forest.py:451: UserWarning: Some inputs do not have OOB scores. This probably means too few trees were used to compute any reliable oob estimates.\n",
      "  warn(\"Some inputs do not have OOB scores. \"\n",
      "c:\\users\\sharm\\appdata\\local\\programs\\python\\python36\\lib\\site-packages\\sklearn\\ensemble\\forest.py:456: RuntimeWarning: invalid value encountered in true_divide\n",
      "  predictions[k].sum(axis=1)[:, np.newaxis])\n"
     ]
    },
    {
     "name": "stdout",
     "output_type": "stream",
     "text": [
      "Running:  [10, 'gini', 22, 5]\n"
     ]
    },
    {
     "name": "stderr",
     "output_type": "stream",
     "text": [
      "c:\\users\\sharm\\appdata\\local\\programs\\python\\python36\\lib\\site-packages\\sklearn\\ensemble\\forest.py:451: UserWarning: Some inputs do not have OOB scores. This probably means too few trees were used to compute any reliable oob estimates.\n",
      "  warn(\"Some inputs do not have OOB scores. \"\n",
      "c:\\users\\sharm\\appdata\\local\\programs\\python\\python36\\lib\\site-packages\\sklearn\\ensemble\\forest.py:456: RuntimeWarning: invalid value encountered in true_divide\n",
      "  predictions[k].sum(axis=1)[:, np.newaxis])\n"
     ]
    },
    {
     "name": "stdout",
     "output_type": "stream",
     "text": [
      "Running:  [10, 'gini', 22, 7]\n"
     ]
    },
    {
     "name": "stderr",
     "output_type": "stream",
     "text": [
      "c:\\users\\sharm\\appdata\\local\\programs\\python\\python36\\lib\\site-packages\\sklearn\\ensemble\\forest.py:451: UserWarning: Some inputs do not have OOB scores. This probably means too few trees were used to compute any reliable oob estimates.\n",
      "  warn(\"Some inputs do not have OOB scores. \"\n",
      "c:\\users\\sharm\\appdata\\local\\programs\\python\\python36\\lib\\site-packages\\sklearn\\ensemble\\forest.py:456: RuntimeWarning: invalid value encountered in true_divide\n",
      "  predictions[k].sum(axis=1)[:, np.newaxis])\n"
     ]
    },
    {
     "name": "stdout",
     "output_type": "stream",
     "text": [
      "Running:  [10, 'gini', 22, 9]\n"
     ]
    },
    {
     "name": "stderr",
     "output_type": "stream",
     "text": [
      "c:\\users\\sharm\\appdata\\local\\programs\\python\\python36\\lib\\site-packages\\sklearn\\ensemble\\forest.py:451: UserWarning: Some inputs do not have OOB scores. This probably means too few trees were used to compute any reliable oob estimates.\n",
      "  warn(\"Some inputs do not have OOB scores. \"\n",
      "c:\\users\\sharm\\appdata\\local\\programs\\python\\python36\\lib\\site-packages\\sklearn\\ensemble\\forest.py:456: RuntimeWarning: invalid value encountered in true_divide\n",
      "  predictions[k].sum(axis=1)[:, np.newaxis])\n"
     ]
    },
    {
     "name": "stdout",
     "output_type": "stream",
     "text": [
      "Running:  [10, 'gini', 22, 11]\n"
     ]
    },
    {
     "name": "stderr",
     "output_type": "stream",
     "text": [
      "c:\\users\\sharm\\appdata\\local\\programs\\python\\python36\\lib\\site-packages\\sklearn\\ensemble\\forest.py:451: UserWarning: Some inputs do not have OOB scores. This probably means too few trees were used to compute any reliable oob estimates.\n",
      "  warn(\"Some inputs do not have OOB scores. \"\n",
      "c:\\users\\sharm\\appdata\\local\\programs\\python\\python36\\lib\\site-packages\\sklearn\\ensemble\\forest.py:456: RuntimeWarning: invalid value encountered in true_divide\n",
      "  predictions[k].sum(axis=1)[:, np.newaxis])\n"
     ]
    },
    {
     "name": "stdout",
     "output_type": "stream",
     "text": [
      "Running:  [10, 'gini', 22, 13]\n"
     ]
    },
    {
     "name": "stderr",
     "output_type": "stream",
     "text": [
      "c:\\users\\sharm\\appdata\\local\\programs\\python\\python36\\lib\\site-packages\\sklearn\\ensemble\\forest.py:451: UserWarning: Some inputs do not have OOB scores. This probably means too few trees were used to compute any reliable oob estimates.\n",
      "  warn(\"Some inputs do not have OOB scores. \"\n",
      "c:\\users\\sharm\\appdata\\local\\programs\\python\\python36\\lib\\site-packages\\sklearn\\ensemble\\forest.py:456: RuntimeWarning: invalid value encountered in true_divide\n",
      "  predictions[k].sum(axis=1)[:, np.newaxis])\n"
     ]
    },
    {
     "name": "stdout",
     "output_type": "stream",
     "text": [
      "Running:  [10, 'gini', 22, 15]\n"
     ]
    },
    {
     "name": "stderr",
     "output_type": "stream",
     "text": [
      "c:\\users\\sharm\\appdata\\local\\programs\\python\\python36\\lib\\site-packages\\sklearn\\ensemble\\forest.py:451: UserWarning: Some inputs do not have OOB scores. This probably means too few trees were used to compute any reliable oob estimates.\n",
      "  warn(\"Some inputs do not have OOB scores. \"\n",
      "c:\\users\\sharm\\appdata\\local\\programs\\python\\python36\\lib\\site-packages\\sklearn\\ensemble\\forest.py:456: RuntimeWarning: invalid value encountered in true_divide\n",
      "  predictions[k].sum(axis=1)[:, np.newaxis])\n"
     ]
    },
    {
     "name": "stdout",
     "output_type": "stream",
     "text": [
      "Running:  [10, 'gini', 22, 17]\n"
     ]
    },
    {
     "name": "stderr",
     "output_type": "stream",
     "text": [
      "c:\\users\\sharm\\appdata\\local\\programs\\python\\python36\\lib\\site-packages\\sklearn\\ensemble\\forest.py:451: UserWarning: Some inputs do not have OOB scores. This probably means too few trees were used to compute any reliable oob estimates.\n",
      "  warn(\"Some inputs do not have OOB scores. \"\n",
      "c:\\users\\sharm\\appdata\\local\\programs\\python\\python36\\lib\\site-packages\\sklearn\\ensemble\\forest.py:456: RuntimeWarning: invalid value encountered in true_divide\n",
      "  predictions[k].sum(axis=1)[:, np.newaxis])\n"
     ]
    },
    {
     "name": "stdout",
     "output_type": "stream",
     "text": [
      "Running:  [10, 'gini', 22, 19]\n"
     ]
    },
    {
     "name": "stderr",
     "output_type": "stream",
     "text": [
      "c:\\users\\sharm\\appdata\\local\\programs\\python\\python36\\lib\\site-packages\\sklearn\\ensemble\\forest.py:451: UserWarning: Some inputs do not have OOB scores. This probably means too few trees were used to compute any reliable oob estimates.\n",
      "  warn(\"Some inputs do not have OOB scores. \"\n",
      "c:\\users\\sharm\\appdata\\local\\programs\\python\\python36\\lib\\site-packages\\sklearn\\ensemble\\forest.py:456: RuntimeWarning: invalid value encountered in true_divide\n",
      "  predictions[k].sum(axis=1)[:, np.newaxis])\n"
     ]
    },
    {
     "name": "stdout",
     "output_type": "stream",
     "text": [
      "Running:  [10, 'gini', 22, 21]\n"
     ]
    },
    {
     "name": "stderr",
     "output_type": "stream",
     "text": [
      "c:\\users\\sharm\\appdata\\local\\programs\\python\\python36\\lib\\site-packages\\sklearn\\ensemble\\forest.py:451: UserWarning: Some inputs do not have OOB scores. This probably means too few trees were used to compute any reliable oob estimates.\n",
      "  warn(\"Some inputs do not have OOB scores. \"\n",
      "c:\\users\\sharm\\appdata\\local\\programs\\python\\python36\\lib\\site-packages\\sklearn\\ensemble\\forest.py:456: RuntimeWarning: invalid value encountered in true_divide\n",
      "  predictions[k].sum(axis=1)[:, np.newaxis])\n"
     ]
    },
    {
     "name": "stdout",
     "output_type": "stream",
     "text": [
      "Running:  [10, 'gini', 22, 23]\n"
     ]
    },
    {
     "name": "stderr",
     "output_type": "stream",
     "text": [
      "c:\\users\\sharm\\appdata\\local\\programs\\python\\python36\\lib\\site-packages\\sklearn\\ensemble\\forest.py:451: UserWarning: Some inputs do not have OOB scores. This probably means too few trees were used to compute any reliable oob estimates.\n",
      "  warn(\"Some inputs do not have OOB scores. \"\n",
      "c:\\users\\sharm\\appdata\\local\\programs\\python\\python36\\lib\\site-packages\\sklearn\\ensemble\\forest.py:456: RuntimeWarning: invalid value encountered in true_divide\n",
      "  predictions[k].sum(axis=1)[:, np.newaxis])\n"
     ]
    },
    {
     "name": "stdout",
     "output_type": "stream",
     "text": [
      "Running:  [10, 'gini', 22, 25]\n"
     ]
    },
    {
     "name": "stderr",
     "output_type": "stream",
     "text": [
      "c:\\users\\sharm\\appdata\\local\\programs\\python\\python36\\lib\\site-packages\\sklearn\\ensemble\\forest.py:451: UserWarning: Some inputs do not have OOB scores. This probably means too few trees were used to compute any reliable oob estimates.\n",
      "  warn(\"Some inputs do not have OOB scores. \"\n",
      "c:\\users\\sharm\\appdata\\local\\programs\\python\\python36\\lib\\site-packages\\sklearn\\ensemble\\forest.py:456: RuntimeWarning: invalid value encountered in true_divide\n",
      "  predictions[k].sum(axis=1)[:, np.newaxis])\n"
     ]
    },
    {
     "name": "stdout",
     "output_type": "stream",
     "text": [
      "Running:  [10, 'gini', 22, 27]\n"
     ]
    },
    {
     "name": "stderr",
     "output_type": "stream",
     "text": [
      "c:\\users\\sharm\\appdata\\local\\programs\\python\\python36\\lib\\site-packages\\sklearn\\ensemble\\forest.py:451: UserWarning: Some inputs do not have OOB scores. This probably means too few trees were used to compute any reliable oob estimates.\n",
      "  warn(\"Some inputs do not have OOB scores. \"\n",
      "c:\\users\\sharm\\appdata\\local\\programs\\python\\python36\\lib\\site-packages\\sklearn\\ensemble\\forest.py:456: RuntimeWarning: invalid value encountered in true_divide\n",
      "  predictions[k].sum(axis=1)[:, np.newaxis])\n"
     ]
    },
    {
     "name": "stdout",
     "output_type": "stream",
     "text": [
      "Running:  [10, 'gini', 22, 29]\n"
     ]
    },
    {
     "name": "stderr",
     "output_type": "stream",
     "text": [
      "c:\\users\\sharm\\appdata\\local\\programs\\python\\python36\\lib\\site-packages\\sklearn\\ensemble\\forest.py:451: UserWarning: Some inputs do not have OOB scores. This probably means too few trees were used to compute any reliable oob estimates.\n",
      "  warn(\"Some inputs do not have OOB scores. \"\n",
      "c:\\users\\sharm\\appdata\\local\\programs\\python\\python36\\lib\\site-packages\\sklearn\\ensemble\\forest.py:456: RuntimeWarning: invalid value encountered in true_divide\n",
      "  predictions[k].sum(axis=1)[:, np.newaxis])\n"
     ]
    },
    {
     "name": "stdout",
     "output_type": "stream",
     "text": [
      "Running:  [10, 'gini', 24, 5]\n"
     ]
    },
    {
     "name": "stderr",
     "output_type": "stream",
     "text": [
      "c:\\users\\sharm\\appdata\\local\\programs\\python\\python36\\lib\\site-packages\\sklearn\\ensemble\\forest.py:451: UserWarning: Some inputs do not have OOB scores. This probably means too few trees were used to compute any reliable oob estimates.\n",
      "  warn(\"Some inputs do not have OOB scores. \"\n",
      "c:\\users\\sharm\\appdata\\local\\programs\\python\\python36\\lib\\site-packages\\sklearn\\ensemble\\forest.py:456: RuntimeWarning: invalid value encountered in true_divide\n",
      "  predictions[k].sum(axis=1)[:, np.newaxis])\n"
     ]
    },
    {
     "name": "stdout",
     "output_type": "stream",
     "text": [
      "Running:  [10, 'gini', 24, 7]\n"
     ]
    },
    {
     "name": "stderr",
     "output_type": "stream",
     "text": [
      "c:\\users\\sharm\\appdata\\local\\programs\\python\\python36\\lib\\site-packages\\sklearn\\ensemble\\forest.py:451: UserWarning: Some inputs do not have OOB scores. This probably means too few trees were used to compute any reliable oob estimates.\n",
      "  warn(\"Some inputs do not have OOB scores. \"\n",
      "c:\\users\\sharm\\appdata\\local\\programs\\python\\python36\\lib\\site-packages\\sklearn\\ensemble\\forest.py:456: RuntimeWarning: invalid value encountered in true_divide\n",
      "  predictions[k].sum(axis=1)[:, np.newaxis])\n"
     ]
    },
    {
     "name": "stdout",
     "output_type": "stream",
     "text": [
      "Running:  [10, 'gini', 24, 9]\n"
     ]
    },
    {
     "name": "stderr",
     "output_type": "stream",
     "text": [
      "c:\\users\\sharm\\appdata\\local\\programs\\python\\python36\\lib\\site-packages\\sklearn\\ensemble\\forest.py:451: UserWarning: Some inputs do not have OOB scores. This probably means too few trees were used to compute any reliable oob estimates.\n",
      "  warn(\"Some inputs do not have OOB scores. \"\n",
      "c:\\users\\sharm\\appdata\\local\\programs\\python\\python36\\lib\\site-packages\\sklearn\\ensemble\\forest.py:456: RuntimeWarning: invalid value encountered in true_divide\n",
      "  predictions[k].sum(axis=1)[:, np.newaxis])\n"
     ]
    },
    {
     "name": "stdout",
     "output_type": "stream",
     "text": [
      "Running:  [10, 'gini', 24, 11]\n"
     ]
    },
    {
     "name": "stderr",
     "output_type": "stream",
     "text": [
      "c:\\users\\sharm\\appdata\\local\\programs\\python\\python36\\lib\\site-packages\\sklearn\\ensemble\\forest.py:451: UserWarning: Some inputs do not have OOB scores. This probably means too few trees were used to compute any reliable oob estimates.\n",
      "  warn(\"Some inputs do not have OOB scores. \"\n",
      "c:\\users\\sharm\\appdata\\local\\programs\\python\\python36\\lib\\site-packages\\sklearn\\ensemble\\forest.py:456: RuntimeWarning: invalid value encountered in true_divide\n",
      "  predictions[k].sum(axis=1)[:, np.newaxis])\n"
     ]
    },
    {
     "name": "stdout",
     "output_type": "stream",
     "text": [
      "Running:  [10, 'gini', 24, 13]\n"
     ]
    },
    {
     "name": "stderr",
     "output_type": "stream",
     "text": [
      "c:\\users\\sharm\\appdata\\local\\programs\\python\\python36\\lib\\site-packages\\sklearn\\ensemble\\forest.py:451: UserWarning: Some inputs do not have OOB scores. This probably means too few trees were used to compute any reliable oob estimates.\n",
      "  warn(\"Some inputs do not have OOB scores. \"\n",
      "c:\\users\\sharm\\appdata\\local\\programs\\python\\python36\\lib\\site-packages\\sklearn\\ensemble\\forest.py:456: RuntimeWarning: invalid value encountered in true_divide\n",
      "  predictions[k].sum(axis=1)[:, np.newaxis])\n"
     ]
    },
    {
     "name": "stdout",
     "output_type": "stream",
     "text": [
      "Running:  [10, 'gini', 24, 15]\n"
     ]
    },
    {
     "name": "stderr",
     "output_type": "stream",
     "text": [
      "c:\\users\\sharm\\appdata\\local\\programs\\python\\python36\\lib\\site-packages\\sklearn\\ensemble\\forest.py:451: UserWarning: Some inputs do not have OOB scores. This probably means too few trees were used to compute any reliable oob estimates.\n",
      "  warn(\"Some inputs do not have OOB scores. \"\n",
      "c:\\users\\sharm\\appdata\\local\\programs\\python\\python36\\lib\\site-packages\\sklearn\\ensemble\\forest.py:456: RuntimeWarning: invalid value encountered in true_divide\n",
      "  predictions[k].sum(axis=1)[:, np.newaxis])\n"
     ]
    },
    {
     "name": "stdout",
     "output_type": "stream",
     "text": [
      "Running:  [10, 'gini', 24, 17]\n"
     ]
    },
    {
     "name": "stderr",
     "output_type": "stream",
     "text": [
      "c:\\users\\sharm\\appdata\\local\\programs\\python\\python36\\lib\\site-packages\\sklearn\\ensemble\\forest.py:451: UserWarning: Some inputs do not have OOB scores. This probably means too few trees were used to compute any reliable oob estimates.\n",
      "  warn(\"Some inputs do not have OOB scores. \"\n",
      "c:\\users\\sharm\\appdata\\local\\programs\\python\\python36\\lib\\site-packages\\sklearn\\ensemble\\forest.py:456: RuntimeWarning: invalid value encountered in true_divide\n",
      "  predictions[k].sum(axis=1)[:, np.newaxis])\n"
     ]
    },
    {
     "name": "stdout",
     "output_type": "stream",
     "text": [
      "Running:  [10, 'gini', 24, 19]\n"
     ]
    },
    {
     "name": "stderr",
     "output_type": "stream",
     "text": [
      "c:\\users\\sharm\\appdata\\local\\programs\\python\\python36\\lib\\site-packages\\sklearn\\ensemble\\forest.py:451: UserWarning: Some inputs do not have OOB scores. This probably means too few trees were used to compute any reliable oob estimates.\n",
      "  warn(\"Some inputs do not have OOB scores. \"\n",
      "c:\\users\\sharm\\appdata\\local\\programs\\python\\python36\\lib\\site-packages\\sklearn\\ensemble\\forest.py:456: RuntimeWarning: invalid value encountered in true_divide\n",
      "  predictions[k].sum(axis=1)[:, np.newaxis])\n"
     ]
    },
    {
     "name": "stdout",
     "output_type": "stream",
     "text": [
      "Running:  [10, 'gini', 24, 21]\n"
     ]
    },
    {
     "name": "stderr",
     "output_type": "stream",
     "text": [
      "c:\\users\\sharm\\appdata\\local\\programs\\python\\python36\\lib\\site-packages\\sklearn\\ensemble\\forest.py:451: UserWarning: Some inputs do not have OOB scores. This probably means too few trees were used to compute any reliable oob estimates.\n",
      "  warn(\"Some inputs do not have OOB scores. \"\n",
      "c:\\users\\sharm\\appdata\\local\\programs\\python\\python36\\lib\\site-packages\\sklearn\\ensemble\\forest.py:456: RuntimeWarning: invalid value encountered in true_divide\n",
      "  predictions[k].sum(axis=1)[:, np.newaxis])\n"
     ]
    },
    {
     "name": "stdout",
     "output_type": "stream",
     "text": [
      "Running:  [10, 'gini', 24, 23]\n"
     ]
    },
    {
     "name": "stderr",
     "output_type": "stream",
     "text": [
      "c:\\users\\sharm\\appdata\\local\\programs\\python\\python36\\lib\\site-packages\\sklearn\\ensemble\\forest.py:451: UserWarning: Some inputs do not have OOB scores. This probably means too few trees were used to compute any reliable oob estimates.\n",
      "  warn(\"Some inputs do not have OOB scores. \"\n",
      "c:\\users\\sharm\\appdata\\local\\programs\\python\\python36\\lib\\site-packages\\sklearn\\ensemble\\forest.py:456: RuntimeWarning: invalid value encountered in true_divide\n",
      "  predictions[k].sum(axis=1)[:, np.newaxis])\n"
     ]
    },
    {
     "name": "stdout",
     "output_type": "stream",
     "text": [
      "Running:  [10, 'gini', 24, 25]\n"
     ]
    },
    {
     "name": "stderr",
     "output_type": "stream",
     "text": [
      "c:\\users\\sharm\\appdata\\local\\programs\\python\\python36\\lib\\site-packages\\sklearn\\ensemble\\forest.py:451: UserWarning: Some inputs do not have OOB scores. This probably means too few trees were used to compute any reliable oob estimates.\n",
      "  warn(\"Some inputs do not have OOB scores. \"\n",
      "c:\\users\\sharm\\appdata\\local\\programs\\python\\python36\\lib\\site-packages\\sklearn\\ensemble\\forest.py:456: RuntimeWarning: invalid value encountered in true_divide\n",
      "  predictions[k].sum(axis=1)[:, np.newaxis])\n"
     ]
    },
    {
     "name": "stdout",
     "output_type": "stream",
     "text": [
      "Running:  [10, 'gini', 24, 27]\n"
     ]
    },
    {
     "name": "stderr",
     "output_type": "stream",
     "text": [
      "c:\\users\\sharm\\appdata\\local\\programs\\python\\python36\\lib\\site-packages\\sklearn\\ensemble\\forest.py:451: UserWarning: Some inputs do not have OOB scores. This probably means too few trees were used to compute any reliable oob estimates.\n",
      "  warn(\"Some inputs do not have OOB scores. \"\n",
      "c:\\users\\sharm\\appdata\\local\\programs\\python\\python36\\lib\\site-packages\\sklearn\\ensemble\\forest.py:456: RuntimeWarning: invalid value encountered in true_divide\n",
      "  predictions[k].sum(axis=1)[:, np.newaxis])\n"
     ]
    },
    {
     "name": "stdout",
     "output_type": "stream",
     "text": [
      "Running:  [10, 'gini', 24, 29]\n"
     ]
    },
    {
     "name": "stderr",
     "output_type": "stream",
     "text": [
      "c:\\users\\sharm\\appdata\\local\\programs\\python\\python36\\lib\\site-packages\\sklearn\\ensemble\\forest.py:451: UserWarning: Some inputs do not have OOB scores. This probably means too few trees were used to compute any reliable oob estimates.\n",
      "  warn(\"Some inputs do not have OOB scores. \"\n",
      "c:\\users\\sharm\\appdata\\local\\programs\\python\\python36\\lib\\site-packages\\sklearn\\ensemble\\forest.py:456: RuntimeWarning: invalid value encountered in true_divide\n",
      "  predictions[k].sum(axis=1)[:, np.newaxis])\n"
     ]
    },
    {
     "name": "stdout",
     "output_type": "stream",
     "text": [
      "Running:  [10, 'gini', 26, 5]\n"
     ]
    },
    {
     "name": "stderr",
     "output_type": "stream",
     "text": [
      "c:\\users\\sharm\\appdata\\local\\programs\\python\\python36\\lib\\site-packages\\sklearn\\ensemble\\forest.py:451: UserWarning: Some inputs do not have OOB scores. This probably means too few trees were used to compute any reliable oob estimates.\n",
      "  warn(\"Some inputs do not have OOB scores. \"\n",
      "c:\\users\\sharm\\appdata\\local\\programs\\python\\python36\\lib\\site-packages\\sklearn\\ensemble\\forest.py:456: RuntimeWarning: invalid value encountered in true_divide\n",
      "  predictions[k].sum(axis=1)[:, np.newaxis])\n"
     ]
    },
    {
     "name": "stdout",
     "output_type": "stream",
     "text": [
      "Running:  [10, 'gini', 26, 7]\n"
     ]
    },
    {
     "name": "stderr",
     "output_type": "stream",
     "text": [
      "c:\\users\\sharm\\appdata\\local\\programs\\python\\python36\\lib\\site-packages\\sklearn\\ensemble\\forest.py:451: UserWarning: Some inputs do not have OOB scores. This probably means too few trees were used to compute any reliable oob estimates.\n",
      "  warn(\"Some inputs do not have OOB scores. \"\n",
      "c:\\users\\sharm\\appdata\\local\\programs\\python\\python36\\lib\\site-packages\\sklearn\\ensemble\\forest.py:456: RuntimeWarning: invalid value encountered in true_divide\n",
      "  predictions[k].sum(axis=1)[:, np.newaxis])\n"
     ]
    },
    {
     "name": "stdout",
     "output_type": "stream",
     "text": [
      "Running:  [10, 'gini', 26, 9]\n"
     ]
    },
    {
     "name": "stderr",
     "output_type": "stream",
     "text": [
      "c:\\users\\sharm\\appdata\\local\\programs\\python\\python36\\lib\\site-packages\\sklearn\\ensemble\\forest.py:451: UserWarning: Some inputs do not have OOB scores. This probably means too few trees were used to compute any reliable oob estimates.\n",
      "  warn(\"Some inputs do not have OOB scores. \"\n",
      "c:\\users\\sharm\\appdata\\local\\programs\\python\\python36\\lib\\site-packages\\sklearn\\ensemble\\forest.py:456: RuntimeWarning: invalid value encountered in true_divide\n",
      "  predictions[k].sum(axis=1)[:, np.newaxis])\n"
     ]
    },
    {
     "name": "stdout",
     "output_type": "stream",
     "text": [
      "Running:  [10, 'gini', 26, 11]\n"
     ]
    },
    {
     "name": "stderr",
     "output_type": "stream",
     "text": [
      "c:\\users\\sharm\\appdata\\local\\programs\\python\\python36\\lib\\site-packages\\sklearn\\ensemble\\forest.py:451: UserWarning: Some inputs do not have OOB scores. This probably means too few trees were used to compute any reliable oob estimates.\n",
      "  warn(\"Some inputs do not have OOB scores. \"\n",
      "c:\\users\\sharm\\appdata\\local\\programs\\python\\python36\\lib\\site-packages\\sklearn\\ensemble\\forest.py:456: RuntimeWarning: invalid value encountered in true_divide\n",
      "  predictions[k].sum(axis=1)[:, np.newaxis])\n"
     ]
    },
    {
     "name": "stdout",
     "output_type": "stream",
     "text": [
      "Running:  [10, 'gini', 26, 13]\n"
     ]
    },
    {
     "name": "stderr",
     "output_type": "stream",
     "text": [
      "c:\\users\\sharm\\appdata\\local\\programs\\python\\python36\\lib\\site-packages\\sklearn\\ensemble\\forest.py:451: UserWarning: Some inputs do not have OOB scores. This probably means too few trees were used to compute any reliable oob estimates.\n",
      "  warn(\"Some inputs do not have OOB scores. \"\n",
      "c:\\users\\sharm\\appdata\\local\\programs\\python\\python36\\lib\\site-packages\\sklearn\\ensemble\\forest.py:456: RuntimeWarning: invalid value encountered in true_divide\n",
      "  predictions[k].sum(axis=1)[:, np.newaxis])\n"
     ]
    },
    {
     "name": "stdout",
     "output_type": "stream",
     "text": [
      "Running:  [10, 'gini', 26, 15]\n"
     ]
    },
    {
     "name": "stderr",
     "output_type": "stream",
     "text": [
      "c:\\users\\sharm\\appdata\\local\\programs\\python\\python36\\lib\\site-packages\\sklearn\\ensemble\\forest.py:451: UserWarning: Some inputs do not have OOB scores. This probably means too few trees were used to compute any reliable oob estimates.\n",
      "  warn(\"Some inputs do not have OOB scores. \"\n",
      "c:\\users\\sharm\\appdata\\local\\programs\\python\\python36\\lib\\site-packages\\sklearn\\ensemble\\forest.py:456: RuntimeWarning: invalid value encountered in true_divide\n",
      "  predictions[k].sum(axis=1)[:, np.newaxis])\n"
     ]
    },
    {
     "name": "stdout",
     "output_type": "stream",
     "text": [
      "Running:  [10, 'gini', 26, 17]\n"
     ]
    },
    {
     "name": "stderr",
     "output_type": "stream",
     "text": [
      "c:\\users\\sharm\\appdata\\local\\programs\\python\\python36\\lib\\site-packages\\sklearn\\ensemble\\forest.py:451: UserWarning: Some inputs do not have OOB scores. This probably means too few trees were used to compute any reliable oob estimates.\n",
      "  warn(\"Some inputs do not have OOB scores. \"\n",
      "c:\\users\\sharm\\appdata\\local\\programs\\python\\python36\\lib\\site-packages\\sklearn\\ensemble\\forest.py:456: RuntimeWarning: invalid value encountered in true_divide\n",
      "  predictions[k].sum(axis=1)[:, np.newaxis])\n"
     ]
    },
    {
     "name": "stdout",
     "output_type": "stream",
     "text": [
      "Running:  [10, 'gini', 26, 19]\n"
     ]
    },
    {
     "name": "stderr",
     "output_type": "stream",
     "text": [
      "c:\\users\\sharm\\appdata\\local\\programs\\python\\python36\\lib\\site-packages\\sklearn\\ensemble\\forest.py:451: UserWarning: Some inputs do not have OOB scores. This probably means too few trees were used to compute any reliable oob estimates.\n",
      "  warn(\"Some inputs do not have OOB scores. \"\n",
      "c:\\users\\sharm\\appdata\\local\\programs\\python\\python36\\lib\\site-packages\\sklearn\\ensemble\\forest.py:456: RuntimeWarning: invalid value encountered in true_divide\n",
      "  predictions[k].sum(axis=1)[:, np.newaxis])\n"
     ]
    },
    {
     "name": "stdout",
     "output_type": "stream",
     "text": [
      "Running:  [10, 'gini', 26, 21]\n"
     ]
    },
    {
     "name": "stderr",
     "output_type": "stream",
     "text": [
      "c:\\users\\sharm\\appdata\\local\\programs\\python\\python36\\lib\\site-packages\\sklearn\\ensemble\\forest.py:451: UserWarning: Some inputs do not have OOB scores. This probably means too few trees were used to compute any reliable oob estimates.\n",
      "  warn(\"Some inputs do not have OOB scores. \"\n",
      "c:\\users\\sharm\\appdata\\local\\programs\\python\\python36\\lib\\site-packages\\sklearn\\ensemble\\forest.py:456: RuntimeWarning: invalid value encountered in true_divide\n",
      "  predictions[k].sum(axis=1)[:, np.newaxis])\n"
     ]
    },
    {
     "name": "stdout",
     "output_type": "stream",
     "text": [
      "Running:  [10, 'gini', 26, 23]\n"
     ]
    },
    {
     "name": "stderr",
     "output_type": "stream",
     "text": [
      "c:\\users\\sharm\\appdata\\local\\programs\\python\\python36\\lib\\site-packages\\sklearn\\ensemble\\forest.py:451: UserWarning: Some inputs do not have OOB scores. This probably means too few trees were used to compute any reliable oob estimates.\n",
      "  warn(\"Some inputs do not have OOB scores. \"\n",
      "c:\\users\\sharm\\appdata\\local\\programs\\python\\python36\\lib\\site-packages\\sklearn\\ensemble\\forest.py:456: RuntimeWarning: invalid value encountered in true_divide\n",
      "  predictions[k].sum(axis=1)[:, np.newaxis])\n"
     ]
    },
    {
     "name": "stdout",
     "output_type": "stream",
     "text": [
      "Running:  [10, 'gini', 26, 25]\n"
     ]
    },
    {
     "name": "stderr",
     "output_type": "stream",
     "text": [
      "c:\\users\\sharm\\appdata\\local\\programs\\python\\python36\\lib\\site-packages\\sklearn\\ensemble\\forest.py:451: UserWarning: Some inputs do not have OOB scores. This probably means too few trees were used to compute any reliable oob estimates.\n",
      "  warn(\"Some inputs do not have OOB scores. \"\n",
      "c:\\users\\sharm\\appdata\\local\\programs\\python\\python36\\lib\\site-packages\\sklearn\\ensemble\\forest.py:456: RuntimeWarning: invalid value encountered in true_divide\n",
      "  predictions[k].sum(axis=1)[:, np.newaxis])\n"
     ]
    },
    {
     "name": "stdout",
     "output_type": "stream",
     "text": [
      "Running:  [10, 'gini', 26, 27]\n"
     ]
    },
    {
     "name": "stderr",
     "output_type": "stream",
     "text": [
      "c:\\users\\sharm\\appdata\\local\\programs\\python\\python36\\lib\\site-packages\\sklearn\\ensemble\\forest.py:451: UserWarning: Some inputs do not have OOB scores. This probably means too few trees were used to compute any reliable oob estimates.\n",
      "  warn(\"Some inputs do not have OOB scores. \"\n",
      "c:\\users\\sharm\\appdata\\local\\programs\\python\\python36\\lib\\site-packages\\sklearn\\ensemble\\forest.py:456: RuntimeWarning: invalid value encountered in true_divide\n",
      "  predictions[k].sum(axis=1)[:, np.newaxis])\n"
     ]
    },
    {
     "name": "stdout",
     "output_type": "stream",
     "text": [
      "Running:  [10, 'gini', 26, 29]\n"
     ]
    },
    {
     "name": "stderr",
     "output_type": "stream",
     "text": [
      "c:\\users\\sharm\\appdata\\local\\programs\\python\\python36\\lib\\site-packages\\sklearn\\ensemble\\forest.py:451: UserWarning: Some inputs do not have OOB scores. This probably means too few trees were used to compute any reliable oob estimates.\n",
      "  warn(\"Some inputs do not have OOB scores. \"\n",
      "c:\\users\\sharm\\appdata\\local\\programs\\python\\python36\\lib\\site-packages\\sklearn\\ensemble\\forest.py:456: RuntimeWarning: invalid value encountered in true_divide\n",
      "  predictions[k].sum(axis=1)[:, np.newaxis])\n"
     ]
    },
    {
     "name": "stdout",
     "output_type": "stream",
     "text": [
      "Running:  [10, 'gini', 28, 5]\n"
     ]
    },
    {
     "name": "stderr",
     "output_type": "stream",
     "text": [
      "c:\\users\\sharm\\appdata\\local\\programs\\python\\python36\\lib\\site-packages\\sklearn\\ensemble\\forest.py:451: UserWarning: Some inputs do not have OOB scores. This probably means too few trees were used to compute any reliable oob estimates.\n",
      "  warn(\"Some inputs do not have OOB scores. \"\n",
      "c:\\users\\sharm\\appdata\\local\\programs\\python\\python36\\lib\\site-packages\\sklearn\\ensemble\\forest.py:456: RuntimeWarning: invalid value encountered in true_divide\n",
      "  predictions[k].sum(axis=1)[:, np.newaxis])\n"
     ]
    },
    {
     "name": "stdout",
     "output_type": "stream",
     "text": [
      "Running:  [10, 'gini', 28, 7]\n"
     ]
    },
    {
     "name": "stderr",
     "output_type": "stream",
     "text": [
      "c:\\users\\sharm\\appdata\\local\\programs\\python\\python36\\lib\\site-packages\\sklearn\\ensemble\\forest.py:451: UserWarning: Some inputs do not have OOB scores. This probably means too few trees were used to compute any reliable oob estimates.\n",
      "  warn(\"Some inputs do not have OOB scores. \"\n",
      "c:\\users\\sharm\\appdata\\local\\programs\\python\\python36\\lib\\site-packages\\sklearn\\ensemble\\forest.py:456: RuntimeWarning: invalid value encountered in true_divide\n",
      "  predictions[k].sum(axis=1)[:, np.newaxis])\n"
     ]
    },
    {
     "name": "stdout",
     "output_type": "stream",
     "text": [
      "Running:  [10, 'gini', 28, 9]\n"
     ]
    },
    {
     "name": "stderr",
     "output_type": "stream",
     "text": [
      "c:\\users\\sharm\\appdata\\local\\programs\\python\\python36\\lib\\site-packages\\sklearn\\ensemble\\forest.py:451: UserWarning: Some inputs do not have OOB scores. This probably means too few trees were used to compute any reliable oob estimates.\n",
      "  warn(\"Some inputs do not have OOB scores. \"\n",
      "c:\\users\\sharm\\appdata\\local\\programs\\python\\python36\\lib\\site-packages\\sklearn\\ensemble\\forest.py:456: RuntimeWarning: invalid value encountered in true_divide\n",
      "  predictions[k].sum(axis=1)[:, np.newaxis])\n"
     ]
    },
    {
     "name": "stdout",
     "output_type": "stream",
     "text": [
      "Running:  [10, 'gini', 28, 11]\n"
     ]
    },
    {
     "name": "stderr",
     "output_type": "stream",
     "text": [
      "c:\\users\\sharm\\appdata\\local\\programs\\python\\python36\\lib\\site-packages\\sklearn\\ensemble\\forest.py:451: UserWarning: Some inputs do not have OOB scores. This probably means too few trees were used to compute any reliable oob estimates.\n",
      "  warn(\"Some inputs do not have OOB scores. \"\n",
      "c:\\users\\sharm\\appdata\\local\\programs\\python\\python36\\lib\\site-packages\\sklearn\\ensemble\\forest.py:456: RuntimeWarning: invalid value encountered in true_divide\n",
      "  predictions[k].sum(axis=1)[:, np.newaxis])\n"
     ]
    },
    {
     "name": "stdout",
     "output_type": "stream",
     "text": [
      "Running:  [10, 'gini', 28, 13]\n"
     ]
    },
    {
     "name": "stderr",
     "output_type": "stream",
     "text": [
      "c:\\users\\sharm\\appdata\\local\\programs\\python\\python36\\lib\\site-packages\\sklearn\\ensemble\\forest.py:451: UserWarning: Some inputs do not have OOB scores. This probably means too few trees were used to compute any reliable oob estimates.\n",
      "  warn(\"Some inputs do not have OOB scores. \"\n",
      "c:\\users\\sharm\\appdata\\local\\programs\\python\\python36\\lib\\site-packages\\sklearn\\ensemble\\forest.py:456: RuntimeWarning: invalid value encountered in true_divide\n",
      "  predictions[k].sum(axis=1)[:, np.newaxis])\n"
     ]
    },
    {
     "name": "stdout",
     "output_type": "stream",
     "text": [
      "Running:  [10, 'gini', 28, 15]\n"
     ]
    },
    {
     "name": "stderr",
     "output_type": "stream",
     "text": [
      "c:\\users\\sharm\\appdata\\local\\programs\\python\\python36\\lib\\site-packages\\sklearn\\ensemble\\forest.py:451: UserWarning: Some inputs do not have OOB scores. This probably means too few trees were used to compute any reliable oob estimates.\n",
      "  warn(\"Some inputs do not have OOB scores. \"\n",
      "c:\\users\\sharm\\appdata\\local\\programs\\python\\python36\\lib\\site-packages\\sklearn\\ensemble\\forest.py:456: RuntimeWarning: invalid value encountered in true_divide\n",
      "  predictions[k].sum(axis=1)[:, np.newaxis])\n"
     ]
    },
    {
     "name": "stdout",
     "output_type": "stream",
     "text": [
      "Running:  [10, 'gini', 28, 17]\n"
     ]
    },
    {
     "name": "stderr",
     "output_type": "stream",
     "text": [
      "c:\\users\\sharm\\appdata\\local\\programs\\python\\python36\\lib\\site-packages\\sklearn\\ensemble\\forest.py:451: UserWarning: Some inputs do not have OOB scores. This probably means too few trees were used to compute any reliable oob estimates.\n",
      "  warn(\"Some inputs do not have OOB scores. \"\n",
      "c:\\users\\sharm\\appdata\\local\\programs\\python\\python36\\lib\\site-packages\\sklearn\\ensemble\\forest.py:456: RuntimeWarning: invalid value encountered in true_divide\n",
      "  predictions[k].sum(axis=1)[:, np.newaxis])\n"
     ]
    },
    {
     "name": "stdout",
     "output_type": "stream",
     "text": [
      "Running:  [10, 'gini', 28, 19]\n"
     ]
    },
    {
     "name": "stderr",
     "output_type": "stream",
     "text": [
      "c:\\users\\sharm\\appdata\\local\\programs\\python\\python36\\lib\\site-packages\\sklearn\\ensemble\\forest.py:451: UserWarning: Some inputs do not have OOB scores. This probably means too few trees were used to compute any reliable oob estimates.\n",
      "  warn(\"Some inputs do not have OOB scores. \"\n",
      "c:\\users\\sharm\\appdata\\local\\programs\\python\\python36\\lib\\site-packages\\sklearn\\ensemble\\forest.py:456: RuntimeWarning: invalid value encountered in true_divide\n",
      "  predictions[k].sum(axis=1)[:, np.newaxis])\n"
     ]
    },
    {
     "name": "stdout",
     "output_type": "stream",
     "text": [
      "Running:  [10, 'gini', 28, 21]\n"
     ]
    },
    {
     "name": "stderr",
     "output_type": "stream",
     "text": [
      "c:\\users\\sharm\\appdata\\local\\programs\\python\\python36\\lib\\site-packages\\sklearn\\ensemble\\forest.py:451: UserWarning: Some inputs do not have OOB scores. This probably means too few trees were used to compute any reliable oob estimates.\n",
      "  warn(\"Some inputs do not have OOB scores. \"\n",
      "c:\\users\\sharm\\appdata\\local\\programs\\python\\python36\\lib\\site-packages\\sklearn\\ensemble\\forest.py:456: RuntimeWarning: invalid value encountered in true_divide\n",
      "  predictions[k].sum(axis=1)[:, np.newaxis])\n"
     ]
    },
    {
     "name": "stdout",
     "output_type": "stream",
     "text": [
      "Running:  [10, 'gini', 28, 23]\n"
     ]
    },
    {
     "name": "stderr",
     "output_type": "stream",
     "text": [
      "c:\\users\\sharm\\appdata\\local\\programs\\python\\python36\\lib\\site-packages\\sklearn\\ensemble\\forest.py:451: UserWarning: Some inputs do not have OOB scores. This probably means too few trees were used to compute any reliable oob estimates.\n",
      "  warn(\"Some inputs do not have OOB scores. \"\n",
      "c:\\users\\sharm\\appdata\\local\\programs\\python\\python36\\lib\\site-packages\\sklearn\\ensemble\\forest.py:456: RuntimeWarning: invalid value encountered in true_divide\n",
      "  predictions[k].sum(axis=1)[:, np.newaxis])\n"
     ]
    },
    {
     "name": "stdout",
     "output_type": "stream",
     "text": [
      "Running:  [10, 'gini', 28, 25]\n"
     ]
    },
    {
     "name": "stderr",
     "output_type": "stream",
     "text": [
      "c:\\users\\sharm\\appdata\\local\\programs\\python\\python36\\lib\\site-packages\\sklearn\\ensemble\\forest.py:451: UserWarning: Some inputs do not have OOB scores. This probably means too few trees were used to compute any reliable oob estimates.\n",
      "  warn(\"Some inputs do not have OOB scores. \"\n",
      "c:\\users\\sharm\\appdata\\local\\programs\\python\\python36\\lib\\site-packages\\sklearn\\ensemble\\forest.py:456: RuntimeWarning: invalid value encountered in true_divide\n",
      "  predictions[k].sum(axis=1)[:, np.newaxis])\n"
     ]
    },
    {
     "name": "stdout",
     "output_type": "stream",
     "text": [
      "Running:  [10, 'gini', 28, 27]\n"
     ]
    },
    {
     "name": "stderr",
     "output_type": "stream",
     "text": [
      "c:\\users\\sharm\\appdata\\local\\programs\\python\\python36\\lib\\site-packages\\sklearn\\ensemble\\forest.py:451: UserWarning: Some inputs do not have OOB scores. This probably means too few trees were used to compute any reliable oob estimates.\n",
      "  warn(\"Some inputs do not have OOB scores. \"\n",
      "c:\\users\\sharm\\appdata\\local\\programs\\python\\python36\\lib\\site-packages\\sklearn\\ensemble\\forest.py:456: RuntimeWarning: invalid value encountered in true_divide\n",
      "  predictions[k].sum(axis=1)[:, np.newaxis])\n"
     ]
    },
    {
     "name": "stdout",
     "output_type": "stream",
     "text": [
      "Running:  [10, 'gini', 28, 29]\n"
     ]
    },
    {
     "name": "stderr",
     "output_type": "stream",
     "text": [
      "c:\\users\\sharm\\appdata\\local\\programs\\python\\python36\\lib\\site-packages\\sklearn\\ensemble\\forest.py:451: UserWarning: Some inputs do not have OOB scores. This probably means too few trees were used to compute any reliable oob estimates.\n",
      "  warn(\"Some inputs do not have OOB scores. \"\n",
      "c:\\users\\sharm\\appdata\\local\\programs\\python\\python36\\lib\\site-packages\\sklearn\\ensemble\\forest.py:456: RuntimeWarning: invalid value encountered in true_divide\n",
      "  predictions[k].sum(axis=1)[:, np.newaxis])\n"
     ]
    },
    {
     "name": "stdout",
     "output_type": "stream",
     "text": [
      "Running:  [10, 'gini', 30, 5]\n"
     ]
    },
    {
     "name": "stderr",
     "output_type": "stream",
     "text": [
      "c:\\users\\sharm\\appdata\\local\\programs\\python\\python36\\lib\\site-packages\\sklearn\\ensemble\\forest.py:451: UserWarning: Some inputs do not have OOB scores. This probably means too few trees were used to compute any reliable oob estimates.\n",
      "  warn(\"Some inputs do not have OOB scores. \"\n",
      "c:\\users\\sharm\\appdata\\local\\programs\\python\\python36\\lib\\site-packages\\sklearn\\ensemble\\forest.py:456: RuntimeWarning: invalid value encountered in true_divide\n",
      "  predictions[k].sum(axis=1)[:, np.newaxis])\n"
     ]
    },
    {
     "name": "stdout",
     "output_type": "stream",
     "text": [
      "Running:  [10, 'gini', 30, 7]\n"
     ]
    },
    {
     "name": "stderr",
     "output_type": "stream",
     "text": [
      "c:\\users\\sharm\\appdata\\local\\programs\\python\\python36\\lib\\site-packages\\sklearn\\ensemble\\forest.py:451: UserWarning: Some inputs do not have OOB scores. This probably means too few trees were used to compute any reliable oob estimates.\n",
      "  warn(\"Some inputs do not have OOB scores. \"\n",
      "c:\\users\\sharm\\appdata\\local\\programs\\python\\python36\\lib\\site-packages\\sklearn\\ensemble\\forest.py:456: RuntimeWarning: invalid value encountered in true_divide\n",
      "  predictions[k].sum(axis=1)[:, np.newaxis])\n"
     ]
    },
    {
     "name": "stdout",
     "output_type": "stream",
     "text": [
      "Running:  [10, 'gini', 30, 9]\n"
     ]
    },
    {
     "name": "stderr",
     "output_type": "stream",
     "text": [
      "c:\\users\\sharm\\appdata\\local\\programs\\python\\python36\\lib\\site-packages\\sklearn\\ensemble\\forest.py:451: UserWarning: Some inputs do not have OOB scores. This probably means too few trees were used to compute any reliable oob estimates.\n",
      "  warn(\"Some inputs do not have OOB scores. \"\n",
      "c:\\users\\sharm\\appdata\\local\\programs\\python\\python36\\lib\\site-packages\\sklearn\\ensemble\\forest.py:456: RuntimeWarning: invalid value encountered in true_divide\n",
      "  predictions[k].sum(axis=1)[:, np.newaxis])\n"
     ]
    },
    {
     "name": "stdout",
     "output_type": "stream",
     "text": [
      "Running:  [10, 'gini', 30, 11]\n"
     ]
    },
    {
     "name": "stderr",
     "output_type": "stream",
     "text": [
      "c:\\users\\sharm\\appdata\\local\\programs\\python\\python36\\lib\\site-packages\\sklearn\\ensemble\\forest.py:451: UserWarning: Some inputs do not have OOB scores. This probably means too few trees were used to compute any reliable oob estimates.\n",
      "  warn(\"Some inputs do not have OOB scores. \"\n",
      "c:\\users\\sharm\\appdata\\local\\programs\\python\\python36\\lib\\site-packages\\sklearn\\ensemble\\forest.py:456: RuntimeWarning: invalid value encountered in true_divide\n",
      "  predictions[k].sum(axis=1)[:, np.newaxis])\n"
     ]
    },
    {
     "name": "stdout",
     "output_type": "stream",
     "text": [
      "Running:  [10, 'gini', 30, 13]\n"
     ]
    },
    {
     "name": "stderr",
     "output_type": "stream",
     "text": [
      "c:\\users\\sharm\\appdata\\local\\programs\\python\\python36\\lib\\site-packages\\sklearn\\ensemble\\forest.py:451: UserWarning: Some inputs do not have OOB scores. This probably means too few trees were used to compute any reliable oob estimates.\n",
      "  warn(\"Some inputs do not have OOB scores. \"\n",
      "c:\\users\\sharm\\appdata\\local\\programs\\python\\python36\\lib\\site-packages\\sklearn\\ensemble\\forest.py:456: RuntimeWarning: invalid value encountered in true_divide\n",
      "  predictions[k].sum(axis=1)[:, np.newaxis])\n"
     ]
    },
    {
     "name": "stdout",
     "output_type": "stream",
     "text": [
      "Running:  [10, 'gini', 30, 15]\n"
     ]
    },
    {
     "name": "stderr",
     "output_type": "stream",
     "text": [
      "c:\\users\\sharm\\appdata\\local\\programs\\python\\python36\\lib\\site-packages\\sklearn\\ensemble\\forest.py:451: UserWarning: Some inputs do not have OOB scores. This probably means too few trees were used to compute any reliable oob estimates.\n",
      "  warn(\"Some inputs do not have OOB scores. \"\n",
      "c:\\users\\sharm\\appdata\\local\\programs\\python\\python36\\lib\\site-packages\\sklearn\\ensemble\\forest.py:456: RuntimeWarning: invalid value encountered in true_divide\n",
      "  predictions[k].sum(axis=1)[:, np.newaxis])\n"
     ]
    },
    {
     "name": "stdout",
     "output_type": "stream",
     "text": [
      "Running:  [10, 'gini', 30, 17]\n"
     ]
    },
    {
     "name": "stderr",
     "output_type": "stream",
     "text": [
      "c:\\users\\sharm\\appdata\\local\\programs\\python\\python36\\lib\\site-packages\\sklearn\\ensemble\\forest.py:451: UserWarning: Some inputs do not have OOB scores. This probably means too few trees were used to compute any reliable oob estimates.\n",
      "  warn(\"Some inputs do not have OOB scores. \"\n",
      "c:\\users\\sharm\\appdata\\local\\programs\\python\\python36\\lib\\site-packages\\sklearn\\ensemble\\forest.py:456: RuntimeWarning: invalid value encountered in true_divide\n",
      "  predictions[k].sum(axis=1)[:, np.newaxis])\n"
     ]
    },
    {
     "name": "stdout",
     "output_type": "stream",
     "text": [
      "Running:  [10, 'gini', 30, 19]\n"
     ]
    },
    {
     "name": "stderr",
     "output_type": "stream",
     "text": [
      "c:\\users\\sharm\\appdata\\local\\programs\\python\\python36\\lib\\site-packages\\sklearn\\ensemble\\forest.py:451: UserWarning: Some inputs do not have OOB scores. This probably means too few trees were used to compute any reliable oob estimates.\n",
      "  warn(\"Some inputs do not have OOB scores. \"\n",
      "c:\\users\\sharm\\appdata\\local\\programs\\python\\python36\\lib\\site-packages\\sklearn\\ensemble\\forest.py:456: RuntimeWarning: invalid value encountered in true_divide\n",
      "  predictions[k].sum(axis=1)[:, np.newaxis])\n"
     ]
    },
    {
     "name": "stdout",
     "output_type": "stream",
     "text": [
      "Running:  [10, 'gini', 30, 21]\n"
     ]
    },
    {
     "name": "stderr",
     "output_type": "stream",
     "text": [
      "c:\\users\\sharm\\appdata\\local\\programs\\python\\python36\\lib\\site-packages\\sklearn\\ensemble\\forest.py:451: UserWarning: Some inputs do not have OOB scores. This probably means too few trees were used to compute any reliable oob estimates.\n",
      "  warn(\"Some inputs do not have OOB scores. \"\n",
      "c:\\users\\sharm\\appdata\\local\\programs\\python\\python36\\lib\\site-packages\\sklearn\\ensemble\\forest.py:456: RuntimeWarning: invalid value encountered in true_divide\n",
      "  predictions[k].sum(axis=1)[:, np.newaxis])\n"
     ]
    },
    {
     "name": "stdout",
     "output_type": "stream",
     "text": [
      "Running:  [10, 'gini', 30, 23]\n"
     ]
    },
    {
     "name": "stderr",
     "output_type": "stream",
     "text": [
      "c:\\users\\sharm\\appdata\\local\\programs\\python\\python36\\lib\\site-packages\\sklearn\\ensemble\\forest.py:451: UserWarning: Some inputs do not have OOB scores. This probably means too few trees were used to compute any reliable oob estimates.\n",
      "  warn(\"Some inputs do not have OOB scores. \"\n",
      "c:\\users\\sharm\\appdata\\local\\programs\\python\\python36\\lib\\site-packages\\sklearn\\ensemble\\forest.py:456: RuntimeWarning: invalid value encountered in true_divide\n",
      "  predictions[k].sum(axis=1)[:, np.newaxis])\n"
     ]
    },
    {
     "name": "stdout",
     "output_type": "stream",
     "text": [
      "Running:  [10, 'gini', 30, 25]\n"
     ]
    },
    {
     "name": "stderr",
     "output_type": "stream",
     "text": [
      "c:\\users\\sharm\\appdata\\local\\programs\\python\\python36\\lib\\site-packages\\sklearn\\ensemble\\forest.py:451: UserWarning: Some inputs do not have OOB scores. This probably means too few trees were used to compute any reliable oob estimates.\n",
      "  warn(\"Some inputs do not have OOB scores. \"\n",
      "c:\\users\\sharm\\appdata\\local\\programs\\python\\python36\\lib\\site-packages\\sklearn\\ensemble\\forest.py:456: RuntimeWarning: invalid value encountered in true_divide\n",
      "  predictions[k].sum(axis=1)[:, np.newaxis])\n"
     ]
    },
    {
     "name": "stdout",
     "output_type": "stream",
     "text": [
      "Running:  [10, 'gini', 30, 27]\n"
     ]
    },
    {
     "name": "stderr",
     "output_type": "stream",
     "text": [
      "c:\\users\\sharm\\appdata\\local\\programs\\python\\python36\\lib\\site-packages\\sklearn\\ensemble\\forest.py:451: UserWarning: Some inputs do not have OOB scores. This probably means too few trees were used to compute any reliable oob estimates.\n",
      "  warn(\"Some inputs do not have OOB scores. \"\n",
      "c:\\users\\sharm\\appdata\\local\\programs\\python\\python36\\lib\\site-packages\\sklearn\\ensemble\\forest.py:456: RuntimeWarning: invalid value encountered in true_divide\n",
      "  predictions[k].sum(axis=1)[:, np.newaxis])\n"
     ]
    },
    {
     "name": "stdout",
     "output_type": "stream",
     "text": [
      "Running:  [10, 'gini', 30, 29]\n"
     ]
    },
    {
     "name": "stderr",
     "output_type": "stream",
     "text": [
      "c:\\users\\sharm\\appdata\\local\\programs\\python\\python36\\lib\\site-packages\\sklearn\\ensemble\\forest.py:451: UserWarning: Some inputs do not have OOB scores. This probably means too few trees were used to compute any reliable oob estimates.\n",
      "  warn(\"Some inputs do not have OOB scores. \"\n",
      "c:\\users\\sharm\\appdata\\local\\programs\\python\\python36\\lib\\site-packages\\sklearn\\ensemble\\forest.py:456: RuntimeWarning: invalid value encountered in true_divide\n",
      "  predictions[k].sum(axis=1)[:, np.newaxis])\n"
     ]
    },
    {
     "name": "stdout",
     "output_type": "stream",
     "text": [
      "Running:  [10, 'gini', 32, 5]\n"
     ]
    },
    {
     "name": "stderr",
     "output_type": "stream",
     "text": [
      "c:\\users\\sharm\\appdata\\local\\programs\\python\\python36\\lib\\site-packages\\sklearn\\ensemble\\forest.py:451: UserWarning: Some inputs do not have OOB scores. This probably means too few trees were used to compute any reliable oob estimates.\n",
      "  warn(\"Some inputs do not have OOB scores. \"\n",
      "c:\\users\\sharm\\appdata\\local\\programs\\python\\python36\\lib\\site-packages\\sklearn\\ensemble\\forest.py:456: RuntimeWarning: invalid value encountered in true_divide\n",
      "  predictions[k].sum(axis=1)[:, np.newaxis])\n"
     ]
    },
    {
     "name": "stdout",
     "output_type": "stream",
     "text": [
      "Running:  [10, 'gini', 32, 7]\n"
     ]
    },
    {
     "name": "stderr",
     "output_type": "stream",
     "text": [
      "c:\\users\\sharm\\appdata\\local\\programs\\python\\python36\\lib\\site-packages\\sklearn\\ensemble\\forest.py:451: UserWarning: Some inputs do not have OOB scores. This probably means too few trees were used to compute any reliable oob estimates.\n",
      "  warn(\"Some inputs do not have OOB scores. \"\n",
      "c:\\users\\sharm\\appdata\\local\\programs\\python\\python36\\lib\\site-packages\\sklearn\\ensemble\\forest.py:456: RuntimeWarning: invalid value encountered in true_divide\n",
      "  predictions[k].sum(axis=1)[:, np.newaxis])\n"
     ]
    },
    {
     "name": "stdout",
     "output_type": "stream",
     "text": [
      "Running:  [10, 'gini', 32, 9]\n"
     ]
    },
    {
     "name": "stderr",
     "output_type": "stream",
     "text": [
      "c:\\users\\sharm\\appdata\\local\\programs\\python\\python36\\lib\\site-packages\\sklearn\\ensemble\\forest.py:451: UserWarning: Some inputs do not have OOB scores. This probably means too few trees were used to compute any reliable oob estimates.\n",
      "  warn(\"Some inputs do not have OOB scores. \"\n",
      "c:\\users\\sharm\\appdata\\local\\programs\\python\\python36\\lib\\site-packages\\sklearn\\ensemble\\forest.py:456: RuntimeWarning: invalid value encountered in true_divide\n",
      "  predictions[k].sum(axis=1)[:, np.newaxis])\n"
     ]
    },
    {
     "name": "stdout",
     "output_type": "stream",
     "text": [
      "Running:  [10, 'gini', 32, 11]\n"
     ]
    },
    {
     "name": "stderr",
     "output_type": "stream",
     "text": [
      "c:\\users\\sharm\\appdata\\local\\programs\\python\\python36\\lib\\site-packages\\sklearn\\ensemble\\forest.py:451: UserWarning: Some inputs do not have OOB scores. This probably means too few trees were used to compute any reliable oob estimates.\n",
      "  warn(\"Some inputs do not have OOB scores. \"\n",
      "c:\\users\\sharm\\appdata\\local\\programs\\python\\python36\\lib\\site-packages\\sklearn\\ensemble\\forest.py:456: RuntimeWarning: invalid value encountered in true_divide\n",
      "  predictions[k].sum(axis=1)[:, np.newaxis])\n"
     ]
    },
    {
     "name": "stdout",
     "output_type": "stream",
     "text": [
      "Running:  [10, 'gini', 32, 13]\n"
     ]
    },
    {
     "name": "stderr",
     "output_type": "stream",
     "text": [
      "c:\\users\\sharm\\appdata\\local\\programs\\python\\python36\\lib\\site-packages\\sklearn\\ensemble\\forest.py:451: UserWarning: Some inputs do not have OOB scores. This probably means too few trees were used to compute any reliable oob estimates.\n",
      "  warn(\"Some inputs do not have OOB scores. \"\n",
      "c:\\users\\sharm\\appdata\\local\\programs\\python\\python36\\lib\\site-packages\\sklearn\\ensemble\\forest.py:456: RuntimeWarning: invalid value encountered in true_divide\n",
      "  predictions[k].sum(axis=1)[:, np.newaxis])\n"
     ]
    },
    {
     "name": "stdout",
     "output_type": "stream",
     "text": [
      "Running:  [10, 'gini', 32, 15]\n"
     ]
    },
    {
     "name": "stderr",
     "output_type": "stream",
     "text": [
      "c:\\users\\sharm\\appdata\\local\\programs\\python\\python36\\lib\\site-packages\\sklearn\\ensemble\\forest.py:451: UserWarning: Some inputs do not have OOB scores. This probably means too few trees were used to compute any reliable oob estimates.\n",
      "  warn(\"Some inputs do not have OOB scores. \"\n",
      "c:\\users\\sharm\\appdata\\local\\programs\\python\\python36\\lib\\site-packages\\sklearn\\ensemble\\forest.py:456: RuntimeWarning: invalid value encountered in true_divide\n",
      "  predictions[k].sum(axis=1)[:, np.newaxis])\n"
     ]
    },
    {
     "name": "stdout",
     "output_type": "stream",
     "text": [
      "Running:  [10, 'gini', 32, 17]\n"
     ]
    },
    {
     "name": "stderr",
     "output_type": "stream",
     "text": [
      "c:\\users\\sharm\\appdata\\local\\programs\\python\\python36\\lib\\site-packages\\sklearn\\ensemble\\forest.py:451: UserWarning: Some inputs do not have OOB scores. This probably means too few trees were used to compute any reliable oob estimates.\n",
      "  warn(\"Some inputs do not have OOB scores. \"\n",
      "c:\\users\\sharm\\appdata\\local\\programs\\python\\python36\\lib\\site-packages\\sklearn\\ensemble\\forest.py:456: RuntimeWarning: invalid value encountered in true_divide\n",
      "  predictions[k].sum(axis=1)[:, np.newaxis])\n"
     ]
    },
    {
     "name": "stdout",
     "output_type": "stream",
     "text": [
      "Running:  [10, 'gini', 32, 19]\n"
     ]
    },
    {
     "name": "stderr",
     "output_type": "stream",
     "text": [
      "c:\\users\\sharm\\appdata\\local\\programs\\python\\python36\\lib\\site-packages\\sklearn\\ensemble\\forest.py:451: UserWarning: Some inputs do not have OOB scores. This probably means too few trees were used to compute any reliable oob estimates.\n",
      "  warn(\"Some inputs do not have OOB scores. \"\n",
      "c:\\users\\sharm\\appdata\\local\\programs\\python\\python36\\lib\\site-packages\\sklearn\\ensemble\\forest.py:456: RuntimeWarning: invalid value encountered in true_divide\n",
      "  predictions[k].sum(axis=1)[:, np.newaxis])\n"
     ]
    },
    {
     "name": "stdout",
     "output_type": "stream",
     "text": [
      "Running:  [10, 'gini', 32, 21]\n"
     ]
    },
    {
     "name": "stderr",
     "output_type": "stream",
     "text": [
      "c:\\users\\sharm\\appdata\\local\\programs\\python\\python36\\lib\\site-packages\\sklearn\\ensemble\\forest.py:451: UserWarning: Some inputs do not have OOB scores. This probably means too few trees were used to compute any reliable oob estimates.\n",
      "  warn(\"Some inputs do not have OOB scores. \"\n",
      "c:\\users\\sharm\\appdata\\local\\programs\\python\\python36\\lib\\site-packages\\sklearn\\ensemble\\forest.py:456: RuntimeWarning: invalid value encountered in true_divide\n",
      "  predictions[k].sum(axis=1)[:, np.newaxis])\n"
     ]
    },
    {
     "name": "stdout",
     "output_type": "stream",
     "text": [
      "Running:  [10, 'gini', 32, 23]\n"
     ]
    },
    {
     "name": "stderr",
     "output_type": "stream",
     "text": [
      "c:\\users\\sharm\\appdata\\local\\programs\\python\\python36\\lib\\site-packages\\sklearn\\ensemble\\forest.py:451: UserWarning: Some inputs do not have OOB scores. This probably means too few trees were used to compute any reliable oob estimates.\n",
      "  warn(\"Some inputs do not have OOB scores. \"\n",
      "c:\\users\\sharm\\appdata\\local\\programs\\python\\python36\\lib\\site-packages\\sklearn\\ensemble\\forest.py:456: RuntimeWarning: invalid value encountered in true_divide\n",
      "  predictions[k].sum(axis=1)[:, np.newaxis])\n"
     ]
    },
    {
     "name": "stdout",
     "output_type": "stream",
     "text": [
      "Running:  [10, 'gini', 32, 25]\n"
     ]
    },
    {
     "name": "stderr",
     "output_type": "stream",
     "text": [
      "c:\\users\\sharm\\appdata\\local\\programs\\python\\python36\\lib\\site-packages\\sklearn\\ensemble\\forest.py:451: UserWarning: Some inputs do not have OOB scores. This probably means too few trees were used to compute any reliable oob estimates.\n",
      "  warn(\"Some inputs do not have OOB scores. \"\n",
      "c:\\users\\sharm\\appdata\\local\\programs\\python\\python36\\lib\\site-packages\\sklearn\\ensemble\\forest.py:456: RuntimeWarning: invalid value encountered in true_divide\n",
      "  predictions[k].sum(axis=1)[:, np.newaxis])\n"
     ]
    },
    {
     "name": "stdout",
     "output_type": "stream",
     "text": [
      "Running:  [10, 'gini', 32, 27]\n"
     ]
    },
    {
     "name": "stderr",
     "output_type": "stream",
     "text": [
      "c:\\users\\sharm\\appdata\\local\\programs\\python\\python36\\lib\\site-packages\\sklearn\\ensemble\\forest.py:451: UserWarning: Some inputs do not have OOB scores. This probably means too few trees were used to compute any reliable oob estimates.\n",
      "  warn(\"Some inputs do not have OOB scores. \"\n",
      "c:\\users\\sharm\\appdata\\local\\programs\\python\\python36\\lib\\site-packages\\sklearn\\ensemble\\forest.py:456: RuntimeWarning: invalid value encountered in true_divide\n",
      "  predictions[k].sum(axis=1)[:, np.newaxis])\n"
     ]
    },
    {
     "name": "stdout",
     "output_type": "stream",
     "text": [
      "Running:  [10, 'gini', 32, 29]\n"
     ]
    },
    {
     "name": "stderr",
     "output_type": "stream",
     "text": [
      "c:\\users\\sharm\\appdata\\local\\programs\\python\\python36\\lib\\site-packages\\sklearn\\ensemble\\forest.py:451: UserWarning: Some inputs do not have OOB scores. This probably means too few trees were used to compute any reliable oob estimates.\n",
      "  warn(\"Some inputs do not have OOB scores. \"\n",
      "c:\\users\\sharm\\appdata\\local\\programs\\python\\python36\\lib\\site-packages\\sklearn\\ensemble\\forest.py:456: RuntimeWarning: invalid value encountered in true_divide\n",
      "  predictions[k].sum(axis=1)[:, np.newaxis])\n"
     ]
    },
    {
     "name": "stdout",
     "output_type": "stream",
     "text": [
      "Running:  [10, 'gini', 34, 5]\n"
     ]
    },
    {
     "name": "stderr",
     "output_type": "stream",
     "text": [
      "c:\\users\\sharm\\appdata\\local\\programs\\python\\python36\\lib\\site-packages\\sklearn\\ensemble\\forest.py:451: UserWarning: Some inputs do not have OOB scores. This probably means too few trees were used to compute any reliable oob estimates.\n",
      "  warn(\"Some inputs do not have OOB scores. \"\n",
      "c:\\users\\sharm\\appdata\\local\\programs\\python\\python36\\lib\\site-packages\\sklearn\\ensemble\\forest.py:456: RuntimeWarning: invalid value encountered in true_divide\n",
      "  predictions[k].sum(axis=1)[:, np.newaxis])\n"
     ]
    },
    {
     "name": "stdout",
     "output_type": "stream",
     "text": [
      "Running:  [10, 'gini', 34, 7]\n"
     ]
    },
    {
     "name": "stderr",
     "output_type": "stream",
     "text": [
      "c:\\users\\sharm\\appdata\\local\\programs\\python\\python36\\lib\\site-packages\\sklearn\\ensemble\\forest.py:451: UserWarning: Some inputs do not have OOB scores. This probably means too few trees were used to compute any reliable oob estimates.\n",
      "  warn(\"Some inputs do not have OOB scores. \"\n",
      "c:\\users\\sharm\\appdata\\local\\programs\\python\\python36\\lib\\site-packages\\sklearn\\ensemble\\forest.py:456: RuntimeWarning: invalid value encountered in true_divide\n",
      "  predictions[k].sum(axis=1)[:, np.newaxis])\n"
     ]
    },
    {
     "name": "stdout",
     "output_type": "stream",
     "text": [
      "Running:  [10, 'gini', 34, 9]\n"
     ]
    },
    {
     "name": "stderr",
     "output_type": "stream",
     "text": [
      "c:\\users\\sharm\\appdata\\local\\programs\\python\\python36\\lib\\site-packages\\sklearn\\ensemble\\forest.py:451: UserWarning: Some inputs do not have OOB scores. This probably means too few trees were used to compute any reliable oob estimates.\n",
      "  warn(\"Some inputs do not have OOB scores. \"\n",
      "c:\\users\\sharm\\appdata\\local\\programs\\python\\python36\\lib\\site-packages\\sklearn\\ensemble\\forest.py:456: RuntimeWarning: invalid value encountered in true_divide\n",
      "  predictions[k].sum(axis=1)[:, np.newaxis])\n"
     ]
    },
    {
     "name": "stdout",
     "output_type": "stream",
     "text": [
      "Running:  [10, 'gini', 34, 11]\n"
     ]
    },
    {
     "name": "stderr",
     "output_type": "stream",
     "text": [
      "c:\\users\\sharm\\appdata\\local\\programs\\python\\python36\\lib\\site-packages\\sklearn\\ensemble\\forest.py:451: UserWarning: Some inputs do not have OOB scores. This probably means too few trees were used to compute any reliable oob estimates.\n",
      "  warn(\"Some inputs do not have OOB scores. \"\n",
      "c:\\users\\sharm\\appdata\\local\\programs\\python\\python36\\lib\\site-packages\\sklearn\\ensemble\\forest.py:456: RuntimeWarning: invalid value encountered in true_divide\n",
      "  predictions[k].sum(axis=1)[:, np.newaxis])\n"
     ]
    },
    {
     "name": "stdout",
     "output_type": "stream",
     "text": [
      "Running:  [10, 'gini', 34, 13]\n"
     ]
    },
    {
     "name": "stderr",
     "output_type": "stream",
     "text": [
      "c:\\users\\sharm\\appdata\\local\\programs\\python\\python36\\lib\\site-packages\\sklearn\\ensemble\\forest.py:451: UserWarning: Some inputs do not have OOB scores. This probably means too few trees were used to compute any reliable oob estimates.\n",
      "  warn(\"Some inputs do not have OOB scores. \"\n",
      "c:\\users\\sharm\\appdata\\local\\programs\\python\\python36\\lib\\site-packages\\sklearn\\ensemble\\forest.py:456: RuntimeWarning: invalid value encountered in true_divide\n",
      "  predictions[k].sum(axis=1)[:, np.newaxis])\n"
     ]
    },
    {
     "name": "stdout",
     "output_type": "stream",
     "text": [
      "Running:  [10, 'gini', 34, 15]\n"
     ]
    },
    {
     "name": "stderr",
     "output_type": "stream",
     "text": [
      "c:\\users\\sharm\\appdata\\local\\programs\\python\\python36\\lib\\site-packages\\sklearn\\ensemble\\forest.py:451: UserWarning: Some inputs do not have OOB scores. This probably means too few trees were used to compute any reliable oob estimates.\n",
      "  warn(\"Some inputs do not have OOB scores. \"\n",
      "c:\\users\\sharm\\appdata\\local\\programs\\python\\python36\\lib\\site-packages\\sklearn\\ensemble\\forest.py:456: RuntimeWarning: invalid value encountered in true_divide\n",
      "  predictions[k].sum(axis=1)[:, np.newaxis])\n"
     ]
    },
    {
     "name": "stdout",
     "output_type": "stream",
     "text": [
      "Running:  [10, 'gini', 34, 17]\n"
     ]
    },
    {
     "name": "stderr",
     "output_type": "stream",
     "text": [
      "c:\\users\\sharm\\appdata\\local\\programs\\python\\python36\\lib\\site-packages\\sklearn\\ensemble\\forest.py:451: UserWarning: Some inputs do not have OOB scores. This probably means too few trees were used to compute any reliable oob estimates.\n",
      "  warn(\"Some inputs do not have OOB scores. \"\n",
      "c:\\users\\sharm\\appdata\\local\\programs\\python\\python36\\lib\\site-packages\\sklearn\\ensemble\\forest.py:456: RuntimeWarning: invalid value encountered in true_divide\n",
      "  predictions[k].sum(axis=1)[:, np.newaxis])\n"
     ]
    },
    {
     "name": "stdout",
     "output_type": "stream",
     "text": [
      "Running:  [10, 'gini', 34, 19]\n"
     ]
    },
    {
     "name": "stderr",
     "output_type": "stream",
     "text": [
      "c:\\users\\sharm\\appdata\\local\\programs\\python\\python36\\lib\\site-packages\\sklearn\\ensemble\\forest.py:451: UserWarning: Some inputs do not have OOB scores. This probably means too few trees were used to compute any reliable oob estimates.\n",
      "  warn(\"Some inputs do not have OOB scores. \"\n",
      "c:\\users\\sharm\\appdata\\local\\programs\\python\\python36\\lib\\site-packages\\sklearn\\ensemble\\forest.py:456: RuntimeWarning: invalid value encountered in true_divide\n",
      "  predictions[k].sum(axis=1)[:, np.newaxis])\n"
     ]
    },
    {
     "name": "stdout",
     "output_type": "stream",
     "text": [
      "Running:  [10, 'gini', 34, 21]\n"
     ]
    },
    {
     "name": "stderr",
     "output_type": "stream",
     "text": [
      "c:\\users\\sharm\\appdata\\local\\programs\\python\\python36\\lib\\site-packages\\sklearn\\ensemble\\forest.py:451: UserWarning: Some inputs do not have OOB scores. This probably means too few trees were used to compute any reliable oob estimates.\n",
      "  warn(\"Some inputs do not have OOB scores. \"\n",
      "c:\\users\\sharm\\appdata\\local\\programs\\python\\python36\\lib\\site-packages\\sklearn\\ensemble\\forest.py:456: RuntimeWarning: invalid value encountered in true_divide\n",
      "  predictions[k].sum(axis=1)[:, np.newaxis])\n"
     ]
    },
    {
     "name": "stdout",
     "output_type": "stream",
     "text": [
      "Running:  [10, 'gini', 34, 23]\n"
     ]
    },
    {
     "name": "stderr",
     "output_type": "stream",
     "text": [
      "c:\\users\\sharm\\appdata\\local\\programs\\python\\python36\\lib\\site-packages\\sklearn\\ensemble\\forest.py:451: UserWarning: Some inputs do not have OOB scores. This probably means too few trees were used to compute any reliable oob estimates.\n",
      "  warn(\"Some inputs do not have OOB scores. \"\n",
      "c:\\users\\sharm\\appdata\\local\\programs\\python\\python36\\lib\\site-packages\\sklearn\\ensemble\\forest.py:456: RuntimeWarning: invalid value encountered in true_divide\n",
      "  predictions[k].sum(axis=1)[:, np.newaxis])\n"
     ]
    },
    {
     "name": "stdout",
     "output_type": "stream",
     "text": [
      "Running:  [10, 'gini', 34, 25]\n"
     ]
    },
    {
     "name": "stderr",
     "output_type": "stream",
     "text": [
      "c:\\users\\sharm\\appdata\\local\\programs\\python\\python36\\lib\\site-packages\\sklearn\\ensemble\\forest.py:451: UserWarning: Some inputs do not have OOB scores. This probably means too few trees were used to compute any reliable oob estimates.\n",
      "  warn(\"Some inputs do not have OOB scores. \"\n",
      "c:\\users\\sharm\\appdata\\local\\programs\\python\\python36\\lib\\site-packages\\sklearn\\ensemble\\forest.py:456: RuntimeWarning: invalid value encountered in true_divide\n",
      "  predictions[k].sum(axis=1)[:, np.newaxis])\n"
     ]
    },
    {
     "name": "stdout",
     "output_type": "stream",
     "text": [
      "Running:  [10, 'gini', 34, 27]\n"
     ]
    },
    {
     "name": "stderr",
     "output_type": "stream",
     "text": [
      "c:\\users\\sharm\\appdata\\local\\programs\\python\\python36\\lib\\site-packages\\sklearn\\ensemble\\forest.py:451: UserWarning: Some inputs do not have OOB scores. This probably means too few trees were used to compute any reliable oob estimates.\n",
      "  warn(\"Some inputs do not have OOB scores. \"\n",
      "c:\\users\\sharm\\appdata\\local\\programs\\python\\python36\\lib\\site-packages\\sklearn\\ensemble\\forest.py:456: RuntimeWarning: invalid value encountered in true_divide\n",
      "  predictions[k].sum(axis=1)[:, np.newaxis])\n"
     ]
    },
    {
     "name": "stdout",
     "output_type": "stream",
     "text": [
      "Running:  [10, 'gini', 34, 29]\n"
     ]
    },
    {
     "name": "stderr",
     "output_type": "stream",
     "text": [
      "c:\\users\\sharm\\appdata\\local\\programs\\python\\python36\\lib\\site-packages\\sklearn\\ensemble\\forest.py:451: UserWarning: Some inputs do not have OOB scores. This probably means too few trees were used to compute any reliable oob estimates.\n",
      "  warn(\"Some inputs do not have OOB scores. \"\n",
      "c:\\users\\sharm\\appdata\\local\\programs\\python\\python36\\lib\\site-packages\\sklearn\\ensemble\\forest.py:456: RuntimeWarning: invalid value encountered in true_divide\n",
      "  predictions[k].sum(axis=1)[:, np.newaxis])\n"
     ]
    },
    {
     "name": "stdout",
     "output_type": "stream",
     "text": [
      "Running:  [10, 'gini', 36, 5]\n"
     ]
    },
    {
     "name": "stderr",
     "output_type": "stream",
     "text": [
      "c:\\users\\sharm\\appdata\\local\\programs\\python\\python36\\lib\\site-packages\\sklearn\\ensemble\\forest.py:451: UserWarning: Some inputs do not have OOB scores. This probably means too few trees were used to compute any reliable oob estimates.\n",
      "  warn(\"Some inputs do not have OOB scores. \"\n",
      "c:\\users\\sharm\\appdata\\local\\programs\\python\\python36\\lib\\site-packages\\sklearn\\ensemble\\forest.py:456: RuntimeWarning: invalid value encountered in true_divide\n",
      "  predictions[k].sum(axis=1)[:, np.newaxis])\n"
     ]
    },
    {
     "name": "stdout",
     "output_type": "stream",
     "text": [
      "Running:  [10, 'gini', 36, 7]\n"
     ]
    },
    {
     "name": "stderr",
     "output_type": "stream",
     "text": [
      "c:\\users\\sharm\\appdata\\local\\programs\\python\\python36\\lib\\site-packages\\sklearn\\ensemble\\forest.py:451: UserWarning: Some inputs do not have OOB scores. This probably means too few trees were used to compute any reliable oob estimates.\n",
      "  warn(\"Some inputs do not have OOB scores. \"\n",
      "c:\\users\\sharm\\appdata\\local\\programs\\python\\python36\\lib\\site-packages\\sklearn\\ensemble\\forest.py:456: RuntimeWarning: invalid value encountered in true_divide\n",
      "  predictions[k].sum(axis=1)[:, np.newaxis])\n"
     ]
    },
    {
     "name": "stdout",
     "output_type": "stream",
     "text": [
      "Running:  [10, 'gini', 36, 9]\n"
     ]
    },
    {
     "name": "stderr",
     "output_type": "stream",
     "text": [
      "c:\\users\\sharm\\appdata\\local\\programs\\python\\python36\\lib\\site-packages\\sklearn\\ensemble\\forest.py:451: UserWarning: Some inputs do not have OOB scores. This probably means too few trees were used to compute any reliable oob estimates.\n",
      "  warn(\"Some inputs do not have OOB scores. \"\n",
      "c:\\users\\sharm\\appdata\\local\\programs\\python\\python36\\lib\\site-packages\\sklearn\\ensemble\\forest.py:456: RuntimeWarning: invalid value encountered in true_divide\n",
      "  predictions[k].sum(axis=1)[:, np.newaxis])\n"
     ]
    },
    {
     "name": "stdout",
     "output_type": "stream",
     "text": [
      "Running:  [10, 'gini', 36, 11]\n"
     ]
    },
    {
     "name": "stderr",
     "output_type": "stream",
     "text": [
      "c:\\users\\sharm\\appdata\\local\\programs\\python\\python36\\lib\\site-packages\\sklearn\\ensemble\\forest.py:451: UserWarning: Some inputs do not have OOB scores. This probably means too few trees were used to compute any reliable oob estimates.\n",
      "  warn(\"Some inputs do not have OOB scores. \"\n",
      "c:\\users\\sharm\\appdata\\local\\programs\\python\\python36\\lib\\site-packages\\sklearn\\ensemble\\forest.py:456: RuntimeWarning: invalid value encountered in true_divide\n",
      "  predictions[k].sum(axis=1)[:, np.newaxis])\n"
     ]
    },
    {
     "name": "stdout",
     "output_type": "stream",
     "text": [
      "Running:  [10, 'gini', 36, 13]\n"
     ]
    },
    {
     "name": "stderr",
     "output_type": "stream",
     "text": [
      "c:\\users\\sharm\\appdata\\local\\programs\\python\\python36\\lib\\site-packages\\sklearn\\ensemble\\forest.py:451: UserWarning: Some inputs do not have OOB scores. This probably means too few trees were used to compute any reliable oob estimates.\n",
      "  warn(\"Some inputs do not have OOB scores. \"\n",
      "c:\\users\\sharm\\appdata\\local\\programs\\python\\python36\\lib\\site-packages\\sklearn\\ensemble\\forest.py:456: RuntimeWarning: invalid value encountered in true_divide\n",
      "  predictions[k].sum(axis=1)[:, np.newaxis])\n"
     ]
    },
    {
     "name": "stdout",
     "output_type": "stream",
     "text": [
      "Running:  [10, 'gini', 36, 15]\n"
     ]
    },
    {
     "name": "stderr",
     "output_type": "stream",
     "text": [
      "c:\\users\\sharm\\appdata\\local\\programs\\python\\python36\\lib\\site-packages\\sklearn\\ensemble\\forest.py:451: UserWarning: Some inputs do not have OOB scores. This probably means too few trees were used to compute any reliable oob estimates.\n",
      "  warn(\"Some inputs do not have OOB scores. \"\n",
      "c:\\users\\sharm\\appdata\\local\\programs\\python\\python36\\lib\\site-packages\\sklearn\\ensemble\\forest.py:456: RuntimeWarning: invalid value encountered in true_divide\n",
      "  predictions[k].sum(axis=1)[:, np.newaxis])\n"
     ]
    },
    {
     "name": "stdout",
     "output_type": "stream",
     "text": [
      "Running:  [10, 'gini', 36, 17]\n"
     ]
    },
    {
     "name": "stderr",
     "output_type": "stream",
     "text": [
      "c:\\users\\sharm\\appdata\\local\\programs\\python\\python36\\lib\\site-packages\\sklearn\\ensemble\\forest.py:451: UserWarning: Some inputs do not have OOB scores. This probably means too few trees were used to compute any reliable oob estimates.\n",
      "  warn(\"Some inputs do not have OOB scores. \"\n",
      "c:\\users\\sharm\\appdata\\local\\programs\\python\\python36\\lib\\site-packages\\sklearn\\ensemble\\forest.py:456: RuntimeWarning: invalid value encountered in true_divide\n",
      "  predictions[k].sum(axis=1)[:, np.newaxis])\n"
     ]
    },
    {
     "name": "stdout",
     "output_type": "stream",
     "text": [
      "Running:  [10, 'gini', 36, 19]\n"
     ]
    },
    {
     "name": "stderr",
     "output_type": "stream",
     "text": [
      "c:\\users\\sharm\\appdata\\local\\programs\\python\\python36\\lib\\site-packages\\sklearn\\ensemble\\forest.py:451: UserWarning: Some inputs do not have OOB scores. This probably means too few trees were used to compute any reliable oob estimates.\n",
      "  warn(\"Some inputs do not have OOB scores. \"\n",
      "c:\\users\\sharm\\appdata\\local\\programs\\python\\python36\\lib\\site-packages\\sklearn\\ensemble\\forest.py:456: RuntimeWarning: invalid value encountered in true_divide\n",
      "  predictions[k].sum(axis=1)[:, np.newaxis])\n"
     ]
    },
    {
     "name": "stdout",
     "output_type": "stream",
     "text": [
      "Running:  [10, 'gini', 36, 21]\n"
     ]
    },
    {
     "name": "stderr",
     "output_type": "stream",
     "text": [
      "c:\\users\\sharm\\appdata\\local\\programs\\python\\python36\\lib\\site-packages\\sklearn\\ensemble\\forest.py:451: UserWarning: Some inputs do not have OOB scores. This probably means too few trees were used to compute any reliable oob estimates.\n",
      "  warn(\"Some inputs do not have OOB scores. \"\n",
      "c:\\users\\sharm\\appdata\\local\\programs\\python\\python36\\lib\\site-packages\\sklearn\\ensemble\\forest.py:456: RuntimeWarning: invalid value encountered in true_divide\n",
      "  predictions[k].sum(axis=1)[:, np.newaxis])\n"
     ]
    },
    {
     "name": "stdout",
     "output_type": "stream",
     "text": [
      "Running:  [10, 'gini', 36, 23]\n"
     ]
    },
    {
     "name": "stderr",
     "output_type": "stream",
     "text": [
      "c:\\users\\sharm\\appdata\\local\\programs\\python\\python36\\lib\\site-packages\\sklearn\\ensemble\\forest.py:451: UserWarning: Some inputs do not have OOB scores. This probably means too few trees were used to compute any reliable oob estimates.\n",
      "  warn(\"Some inputs do not have OOB scores. \"\n",
      "c:\\users\\sharm\\appdata\\local\\programs\\python\\python36\\lib\\site-packages\\sklearn\\ensemble\\forest.py:456: RuntimeWarning: invalid value encountered in true_divide\n",
      "  predictions[k].sum(axis=1)[:, np.newaxis])\n"
     ]
    },
    {
     "name": "stdout",
     "output_type": "stream",
     "text": [
      "Running:  [10, 'gini', 36, 25]\n"
     ]
    },
    {
     "name": "stderr",
     "output_type": "stream",
     "text": [
      "c:\\users\\sharm\\appdata\\local\\programs\\python\\python36\\lib\\site-packages\\sklearn\\ensemble\\forest.py:451: UserWarning: Some inputs do not have OOB scores. This probably means too few trees were used to compute any reliable oob estimates.\n",
      "  warn(\"Some inputs do not have OOB scores. \"\n",
      "c:\\users\\sharm\\appdata\\local\\programs\\python\\python36\\lib\\site-packages\\sklearn\\ensemble\\forest.py:456: RuntimeWarning: invalid value encountered in true_divide\n",
      "  predictions[k].sum(axis=1)[:, np.newaxis])\n"
     ]
    },
    {
     "name": "stdout",
     "output_type": "stream",
     "text": [
      "Running:  [10, 'gini', 36, 27]\n"
     ]
    },
    {
     "name": "stderr",
     "output_type": "stream",
     "text": [
      "c:\\users\\sharm\\appdata\\local\\programs\\python\\python36\\lib\\site-packages\\sklearn\\ensemble\\forest.py:451: UserWarning: Some inputs do not have OOB scores. This probably means too few trees were used to compute any reliable oob estimates.\n",
      "  warn(\"Some inputs do not have OOB scores. \"\n",
      "c:\\users\\sharm\\appdata\\local\\programs\\python\\python36\\lib\\site-packages\\sklearn\\ensemble\\forest.py:456: RuntimeWarning: invalid value encountered in true_divide\n",
      "  predictions[k].sum(axis=1)[:, np.newaxis])\n"
     ]
    },
    {
     "name": "stdout",
     "output_type": "stream",
     "text": [
      "Running:  [10, 'gini', 36, 29]\n"
     ]
    },
    {
     "name": "stderr",
     "output_type": "stream",
     "text": [
      "c:\\users\\sharm\\appdata\\local\\programs\\python\\python36\\lib\\site-packages\\sklearn\\ensemble\\forest.py:451: UserWarning: Some inputs do not have OOB scores. This probably means too few trees were used to compute any reliable oob estimates.\n",
      "  warn(\"Some inputs do not have OOB scores. \"\n",
      "c:\\users\\sharm\\appdata\\local\\programs\\python\\python36\\lib\\site-packages\\sklearn\\ensemble\\forest.py:456: RuntimeWarning: invalid value encountered in true_divide\n",
      "  predictions[k].sum(axis=1)[:, np.newaxis])\n"
     ]
    },
    {
     "name": "stdout",
     "output_type": "stream",
     "text": [
      "Running:  [10, 'gini', 38, 5]\n"
     ]
    },
    {
     "name": "stderr",
     "output_type": "stream",
     "text": [
      "c:\\users\\sharm\\appdata\\local\\programs\\python\\python36\\lib\\site-packages\\sklearn\\ensemble\\forest.py:451: UserWarning: Some inputs do not have OOB scores. This probably means too few trees were used to compute any reliable oob estimates.\n",
      "  warn(\"Some inputs do not have OOB scores. \"\n",
      "c:\\users\\sharm\\appdata\\local\\programs\\python\\python36\\lib\\site-packages\\sklearn\\ensemble\\forest.py:456: RuntimeWarning: invalid value encountered in true_divide\n",
      "  predictions[k].sum(axis=1)[:, np.newaxis])\n"
     ]
    },
    {
     "name": "stdout",
     "output_type": "stream",
     "text": [
      "Running:  [10, 'gini', 38, 7]\n"
     ]
    },
    {
     "name": "stderr",
     "output_type": "stream",
     "text": [
      "c:\\users\\sharm\\appdata\\local\\programs\\python\\python36\\lib\\site-packages\\sklearn\\ensemble\\forest.py:451: UserWarning: Some inputs do not have OOB scores. This probably means too few trees were used to compute any reliable oob estimates.\n",
      "  warn(\"Some inputs do not have OOB scores. \"\n",
      "c:\\users\\sharm\\appdata\\local\\programs\\python\\python36\\lib\\site-packages\\sklearn\\ensemble\\forest.py:456: RuntimeWarning: invalid value encountered in true_divide\n",
      "  predictions[k].sum(axis=1)[:, np.newaxis])\n"
     ]
    },
    {
     "name": "stdout",
     "output_type": "stream",
     "text": [
      "Running:  [10, 'gini', 38, 9]\n"
     ]
    },
    {
     "name": "stderr",
     "output_type": "stream",
     "text": [
      "c:\\users\\sharm\\appdata\\local\\programs\\python\\python36\\lib\\site-packages\\sklearn\\ensemble\\forest.py:451: UserWarning: Some inputs do not have OOB scores. This probably means too few trees were used to compute any reliable oob estimates.\n",
      "  warn(\"Some inputs do not have OOB scores. \"\n",
      "c:\\users\\sharm\\appdata\\local\\programs\\python\\python36\\lib\\site-packages\\sklearn\\ensemble\\forest.py:456: RuntimeWarning: invalid value encountered in true_divide\n",
      "  predictions[k].sum(axis=1)[:, np.newaxis])\n"
     ]
    },
    {
     "name": "stdout",
     "output_type": "stream",
     "text": [
      "Running:  [10, 'gini', 38, 11]\n"
     ]
    },
    {
     "name": "stderr",
     "output_type": "stream",
     "text": [
      "c:\\users\\sharm\\appdata\\local\\programs\\python\\python36\\lib\\site-packages\\sklearn\\ensemble\\forest.py:451: UserWarning: Some inputs do not have OOB scores. This probably means too few trees were used to compute any reliable oob estimates.\n",
      "  warn(\"Some inputs do not have OOB scores. \"\n",
      "c:\\users\\sharm\\appdata\\local\\programs\\python\\python36\\lib\\site-packages\\sklearn\\ensemble\\forest.py:456: RuntimeWarning: invalid value encountered in true_divide\n",
      "  predictions[k].sum(axis=1)[:, np.newaxis])\n"
     ]
    },
    {
     "name": "stdout",
     "output_type": "stream",
     "text": [
      "Running:  [10, 'gini', 38, 13]\n"
     ]
    },
    {
     "name": "stderr",
     "output_type": "stream",
     "text": [
      "c:\\users\\sharm\\appdata\\local\\programs\\python\\python36\\lib\\site-packages\\sklearn\\ensemble\\forest.py:451: UserWarning: Some inputs do not have OOB scores. This probably means too few trees were used to compute any reliable oob estimates.\n",
      "  warn(\"Some inputs do not have OOB scores. \"\n",
      "c:\\users\\sharm\\appdata\\local\\programs\\python\\python36\\lib\\site-packages\\sklearn\\ensemble\\forest.py:456: RuntimeWarning: invalid value encountered in true_divide\n",
      "  predictions[k].sum(axis=1)[:, np.newaxis])\n"
     ]
    },
    {
     "name": "stdout",
     "output_type": "stream",
     "text": [
      "Running:  [10, 'gini', 38, 15]\n"
     ]
    },
    {
     "name": "stderr",
     "output_type": "stream",
     "text": [
      "c:\\users\\sharm\\appdata\\local\\programs\\python\\python36\\lib\\site-packages\\sklearn\\ensemble\\forest.py:451: UserWarning: Some inputs do not have OOB scores. This probably means too few trees were used to compute any reliable oob estimates.\n",
      "  warn(\"Some inputs do not have OOB scores. \"\n",
      "c:\\users\\sharm\\appdata\\local\\programs\\python\\python36\\lib\\site-packages\\sklearn\\ensemble\\forest.py:456: RuntimeWarning: invalid value encountered in true_divide\n",
      "  predictions[k].sum(axis=1)[:, np.newaxis])\n"
     ]
    },
    {
     "name": "stdout",
     "output_type": "stream",
     "text": [
      "Running:  [10, 'gini', 38, 17]\n"
     ]
    },
    {
     "name": "stderr",
     "output_type": "stream",
     "text": [
      "c:\\users\\sharm\\appdata\\local\\programs\\python\\python36\\lib\\site-packages\\sklearn\\ensemble\\forest.py:451: UserWarning: Some inputs do not have OOB scores. This probably means too few trees were used to compute any reliable oob estimates.\n",
      "  warn(\"Some inputs do not have OOB scores. \"\n",
      "c:\\users\\sharm\\appdata\\local\\programs\\python\\python36\\lib\\site-packages\\sklearn\\ensemble\\forest.py:456: RuntimeWarning: invalid value encountered in true_divide\n",
      "  predictions[k].sum(axis=1)[:, np.newaxis])\n"
     ]
    },
    {
     "name": "stdout",
     "output_type": "stream",
     "text": [
      "Running:  [10, 'gini', 38, 19]\n"
     ]
    },
    {
     "name": "stderr",
     "output_type": "stream",
     "text": [
      "c:\\users\\sharm\\appdata\\local\\programs\\python\\python36\\lib\\site-packages\\sklearn\\ensemble\\forest.py:451: UserWarning: Some inputs do not have OOB scores. This probably means too few trees were used to compute any reliable oob estimates.\n",
      "  warn(\"Some inputs do not have OOB scores. \"\n",
      "c:\\users\\sharm\\appdata\\local\\programs\\python\\python36\\lib\\site-packages\\sklearn\\ensemble\\forest.py:456: RuntimeWarning: invalid value encountered in true_divide\n",
      "  predictions[k].sum(axis=1)[:, np.newaxis])\n"
     ]
    },
    {
     "name": "stdout",
     "output_type": "stream",
     "text": [
      "Running:  [10, 'gini', 38, 21]\n"
     ]
    },
    {
     "name": "stderr",
     "output_type": "stream",
     "text": [
      "c:\\users\\sharm\\appdata\\local\\programs\\python\\python36\\lib\\site-packages\\sklearn\\ensemble\\forest.py:451: UserWarning: Some inputs do not have OOB scores. This probably means too few trees were used to compute any reliable oob estimates.\n",
      "  warn(\"Some inputs do not have OOB scores. \"\n",
      "c:\\users\\sharm\\appdata\\local\\programs\\python\\python36\\lib\\site-packages\\sklearn\\ensemble\\forest.py:456: RuntimeWarning: invalid value encountered in true_divide\n",
      "  predictions[k].sum(axis=1)[:, np.newaxis])\n"
     ]
    },
    {
     "name": "stdout",
     "output_type": "stream",
     "text": [
      "Running:  [10, 'gini', 38, 23]\n"
     ]
    },
    {
     "name": "stderr",
     "output_type": "stream",
     "text": [
      "c:\\users\\sharm\\appdata\\local\\programs\\python\\python36\\lib\\site-packages\\sklearn\\ensemble\\forest.py:451: UserWarning: Some inputs do not have OOB scores. This probably means too few trees were used to compute any reliable oob estimates.\n",
      "  warn(\"Some inputs do not have OOB scores. \"\n",
      "c:\\users\\sharm\\appdata\\local\\programs\\python\\python36\\lib\\site-packages\\sklearn\\ensemble\\forest.py:456: RuntimeWarning: invalid value encountered in true_divide\n",
      "  predictions[k].sum(axis=1)[:, np.newaxis])\n"
     ]
    },
    {
     "name": "stdout",
     "output_type": "stream",
     "text": [
      "Running:  [10, 'gini', 38, 25]\n"
     ]
    },
    {
     "name": "stderr",
     "output_type": "stream",
     "text": [
      "c:\\users\\sharm\\appdata\\local\\programs\\python\\python36\\lib\\site-packages\\sklearn\\ensemble\\forest.py:451: UserWarning: Some inputs do not have OOB scores. This probably means too few trees were used to compute any reliable oob estimates.\n",
      "  warn(\"Some inputs do not have OOB scores. \"\n",
      "c:\\users\\sharm\\appdata\\local\\programs\\python\\python36\\lib\\site-packages\\sklearn\\ensemble\\forest.py:456: RuntimeWarning: invalid value encountered in true_divide\n",
      "  predictions[k].sum(axis=1)[:, np.newaxis])\n"
     ]
    },
    {
     "name": "stdout",
     "output_type": "stream",
     "text": [
      "Running:  [10, 'gini', 38, 27]\n"
     ]
    },
    {
     "name": "stderr",
     "output_type": "stream",
     "text": [
      "c:\\users\\sharm\\appdata\\local\\programs\\python\\python36\\lib\\site-packages\\sklearn\\ensemble\\forest.py:451: UserWarning: Some inputs do not have OOB scores. This probably means too few trees were used to compute any reliable oob estimates.\n",
      "  warn(\"Some inputs do not have OOB scores. \"\n",
      "c:\\users\\sharm\\appdata\\local\\programs\\python\\python36\\lib\\site-packages\\sklearn\\ensemble\\forest.py:456: RuntimeWarning: invalid value encountered in true_divide\n",
      "  predictions[k].sum(axis=1)[:, np.newaxis])\n"
     ]
    },
    {
     "name": "stdout",
     "output_type": "stream",
     "text": [
      "Running:  [10, 'gini', 38, 29]\n"
     ]
    },
    {
     "name": "stderr",
     "output_type": "stream",
     "text": [
      "c:\\users\\sharm\\appdata\\local\\programs\\python\\python36\\lib\\site-packages\\sklearn\\ensemble\\forest.py:451: UserWarning: Some inputs do not have OOB scores. This probably means too few trees were used to compute any reliable oob estimates.\n",
      "  warn(\"Some inputs do not have OOB scores. \"\n",
      "c:\\users\\sharm\\appdata\\local\\programs\\python\\python36\\lib\\site-packages\\sklearn\\ensemble\\forest.py:456: RuntimeWarning: invalid value encountered in true_divide\n",
      "  predictions[k].sum(axis=1)[:, np.newaxis])\n"
     ]
    },
    {
     "name": "stdout",
     "output_type": "stream",
     "text": [
      "Running:  [10, 'gini', 40, 5]\n"
     ]
    },
    {
     "name": "stderr",
     "output_type": "stream",
     "text": [
      "c:\\users\\sharm\\appdata\\local\\programs\\python\\python36\\lib\\site-packages\\sklearn\\ensemble\\forest.py:451: UserWarning: Some inputs do not have OOB scores. This probably means too few trees were used to compute any reliable oob estimates.\n",
      "  warn(\"Some inputs do not have OOB scores. \"\n",
      "c:\\users\\sharm\\appdata\\local\\programs\\python\\python36\\lib\\site-packages\\sklearn\\ensemble\\forest.py:456: RuntimeWarning: invalid value encountered in true_divide\n",
      "  predictions[k].sum(axis=1)[:, np.newaxis])\n"
     ]
    },
    {
     "name": "stdout",
     "output_type": "stream",
     "text": [
      "Running:  [10, 'gini', 40, 7]\n"
     ]
    },
    {
     "name": "stderr",
     "output_type": "stream",
     "text": [
      "c:\\users\\sharm\\appdata\\local\\programs\\python\\python36\\lib\\site-packages\\sklearn\\ensemble\\forest.py:451: UserWarning: Some inputs do not have OOB scores. This probably means too few trees were used to compute any reliable oob estimates.\n",
      "  warn(\"Some inputs do not have OOB scores. \"\n",
      "c:\\users\\sharm\\appdata\\local\\programs\\python\\python36\\lib\\site-packages\\sklearn\\ensemble\\forest.py:456: RuntimeWarning: invalid value encountered in true_divide\n",
      "  predictions[k].sum(axis=1)[:, np.newaxis])\n"
     ]
    },
    {
     "name": "stdout",
     "output_type": "stream",
     "text": [
      "Running:  [10, 'gini', 40, 9]\n"
     ]
    },
    {
     "name": "stderr",
     "output_type": "stream",
     "text": [
      "c:\\users\\sharm\\appdata\\local\\programs\\python\\python36\\lib\\site-packages\\sklearn\\ensemble\\forest.py:451: UserWarning: Some inputs do not have OOB scores. This probably means too few trees were used to compute any reliable oob estimates.\n",
      "  warn(\"Some inputs do not have OOB scores. \"\n",
      "c:\\users\\sharm\\appdata\\local\\programs\\python\\python36\\lib\\site-packages\\sklearn\\ensemble\\forest.py:456: RuntimeWarning: invalid value encountered in true_divide\n",
      "  predictions[k].sum(axis=1)[:, np.newaxis])\n"
     ]
    },
    {
     "name": "stdout",
     "output_type": "stream",
     "text": [
      "Running:  [10, 'gini', 40, 11]\n"
     ]
    },
    {
     "name": "stderr",
     "output_type": "stream",
     "text": [
      "c:\\users\\sharm\\appdata\\local\\programs\\python\\python36\\lib\\site-packages\\sklearn\\ensemble\\forest.py:451: UserWarning: Some inputs do not have OOB scores. This probably means too few trees were used to compute any reliable oob estimates.\n",
      "  warn(\"Some inputs do not have OOB scores. \"\n",
      "c:\\users\\sharm\\appdata\\local\\programs\\python\\python36\\lib\\site-packages\\sklearn\\ensemble\\forest.py:456: RuntimeWarning: invalid value encountered in true_divide\n",
      "  predictions[k].sum(axis=1)[:, np.newaxis])\n"
     ]
    },
    {
     "name": "stdout",
     "output_type": "stream",
     "text": [
      "Running:  [10, 'gini', 40, 13]\n"
     ]
    },
    {
     "name": "stderr",
     "output_type": "stream",
     "text": [
      "c:\\users\\sharm\\appdata\\local\\programs\\python\\python36\\lib\\site-packages\\sklearn\\ensemble\\forest.py:451: UserWarning: Some inputs do not have OOB scores. This probably means too few trees were used to compute any reliable oob estimates.\n",
      "  warn(\"Some inputs do not have OOB scores. \"\n",
      "c:\\users\\sharm\\appdata\\local\\programs\\python\\python36\\lib\\site-packages\\sklearn\\ensemble\\forest.py:456: RuntimeWarning: invalid value encountered in true_divide\n",
      "  predictions[k].sum(axis=1)[:, np.newaxis])\n"
     ]
    },
    {
     "name": "stdout",
     "output_type": "stream",
     "text": [
      "Running:  [10, 'gini', 40, 15]\n"
     ]
    },
    {
     "name": "stderr",
     "output_type": "stream",
     "text": [
      "c:\\users\\sharm\\appdata\\local\\programs\\python\\python36\\lib\\site-packages\\sklearn\\ensemble\\forest.py:451: UserWarning: Some inputs do not have OOB scores. This probably means too few trees were used to compute any reliable oob estimates.\n",
      "  warn(\"Some inputs do not have OOB scores. \"\n",
      "c:\\users\\sharm\\appdata\\local\\programs\\python\\python36\\lib\\site-packages\\sklearn\\ensemble\\forest.py:456: RuntimeWarning: invalid value encountered in true_divide\n",
      "  predictions[k].sum(axis=1)[:, np.newaxis])\n"
     ]
    },
    {
     "name": "stdout",
     "output_type": "stream",
     "text": [
      "Running:  [10, 'gini', 40, 17]\n"
     ]
    },
    {
     "name": "stderr",
     "output_type": "stream",
     "text": [
      "c:\\users\\sharm\\appdata\\local\\programs\\python\\python36\\lib\\site-packages\\sklearn\\ensemble\\forest.py:451: UserWarning: Some inputs do not have OOB scores. This probably means too few trees were used to compute any reliable oob estimates.\n",
      "  warn(\"Some inputs do not have OOB scores. \"\n",
      "c:\\users\\sharm\\appdata\\local\\programs\\python\\python36\\lib\\site-packages\\sklearn\\ensemble\\forest.py:456: RuntimeWarning: invalid value encountered in true_divide\n",
      "  predictions[k].sum(axis=1)[:, np.newaxis])\n"
     ]
    },
    {
     "name": "stdout",
     "output_type": "stream",
     "text": [
      "Running:  [10, 'gini', 40, 19]\n"
     ]
    },
    {
     "name": "stderr",
     "output_type": "stream",
     "text": [
      "c:\\users\\sharm\\appdata\\local\\programs\\python\\python36\\lib\\site-packages\\sklearn\\ensemble\\forest.py:451: UserWarning: Some inputs do not have OOB scores. This probably means too few trees were used to compute any reliable oob estimates.\n",
      "  warn(\"Some inputs do not have OOB scores. \"\n",
      "c:\\users\\sharm\\appdata\\local\\programs\\python\\python36\\lib\\site-packages\\sklearn\\ensemble\\forest.py:456: RuntimeWarning: invalid value encountered in true_divide\n",
      "  predictions[k].sum(axis=1)[:, np.newaxis])\n"
     ]
    },
    {
     "name": "stdout",
     "output_type": "stream",
     "text": [
      "Running:  [10, 'gini', 40, 21]\n"
     ]
    },
    {
     "name": "stderr",
     "output_type": "stream",
     "text": [
      "c:\\users\\sharm\\appdata\\local\\programs\\python\\python36\\lib\\site-packages\\sklearn\\ensemble\\forest.py:451: UserWarning: Some inputs do not have OOB scores. This probably means too few trees were used to compute any reliable oob estimates.\n",
      "  warn(\"Some inputs do not have OOB scores. \"\n",
      "c:\\users\\sharm\\appdata\\local\\programs\\python\\python36\\lib\\site-packages\\sklearn\\ensemble\\forest.py:456: RuntimeWarning: invalid value encountered in true_divide\n",
      "  predictions[k].sum(axis=1)[:, np.newaxis])\n"
     ]
    },
    {
     "name": "stdout",
     "output_type": "stream",
     "text": [
      "Running:  [10, 'gini', 40, 23]\n"
     ]
    },
    {
     "name": "stderr",
     "output_type": "stream",
     "text": [
      "c:\\users\\sharm\\appdata\\local\\programs\\python\\python36\\lib\\site-packages\\sklearn\\ensemble\\forest.py:451: UserWarning: Some inputs do not have OOB scores. This probably means too few trees were used to compute any reliable oob estimates.\n",
      "  warn(\"Some inputs do not have OOB scores. \"\n",
      "c:\\users\\sharm\\appdata\\local\\programs\\python\\python36\\lib\\site-packages\\sklearn\\ensemble\\forest.py:456: RuntimeWarning: invalid value encountered in true_divide\n",
      "  predictions[k].sum(axis=1)[:, np.newaxis])\n"
     ]
    },
    {
     "name": "stdout",
     "output_type": "stream",
     "text": [
      "Running:  [10, 'gini', 40, 25]\n"
     ]
    },
    {
     "name": "stderr",
     "output_type": "stream",
     "text": [
      "c:\\users\\sharm\\appdata\\local\\programs\\python\\python36\\lib\\site-packages\\sklearn\\ensemble\\forest.py:451: UserWarning: Some inputs do not have OOB scores. This probably means too few trees were used to compute any reliable oob estimates.\n",
      "  warn(\"Some inputs do not have OOB scores. \"\n",
      "c:\\users\\sharm\\appdata\\local\\programs\\python\\python36\\lib\\site-packages\\sklearn\\ensemble\\forest.py:456: RuntimeWarning: invalid value encountered in true_divide\n",
      "  predictions[k].sum(axis=1)[:, np.newaxis])\n"
     ]
    },
    {
     "name": "stdout",
     "output_type": "stream",
     "text": [
      "Running:  [10, 'gini', 40, 27]\n"
     ]
    },
    {
     "name": "stderr",
     "output_type": "stream",
     "text": [
      "c:\\users\\sharm\\appdata\\local\\programs\\python\\python36\\lib\\site-packages\\sklearn\\ensemble\\forest.py:451: UserWarning: Some inputs do not have OOB scores. This probably means too few trees were used to compute any reliable oob estimates.\n",
      "  warn(\"Some inputs do not have OOB scores. \"\n",
      "c:\\users\\sharm\\appdata\\local\\programs\\python\\python36\\lib\\site-packages\\sklearn\\ensemble\\forest.py:456: RuntimeWarning: invalid value encountered in true_divide\n",
      "  predictions[k].sum(axis=1)[:, np.newaxis])\n"
     ]
    },
    {
     "name": "stdout",
     "output_type": "stream",
     "text": [
      "Running:  [10, 'gini', 40, 29]\n"
     ]
    },
    {
     "name": "stderr",
     "output_type": "stream",
     "text": [
      "c:\\users\\sharm\\appdata\\local\\programs\\python\\python36\\lib\\site-packages\\sklearn\\ensemble\\forest.py:451: UserWarning: Some inputs do not have OOB scores. This probably means too few trees were used to compute any reliable oob estimates.\n",
      "  warn(\"Some inputs do not have OOB scores. \"\n",
      "c:\\users\\sharm\\appdata\\local\\programs\\python\\python36\\lib\\site-packages\\sklearn\\ensemble\\forest.py:456: RuntimeWarning: invalid value encountered in true_divide\n",
      "  predictions[k].sum(axis=1)[:, np.newaxis])\n"
     ]
    },
    {
     "name": "stdout",
     "output_type": "stream",
     "text": [
      "Running:  [10, 'gini', 42, 5]\n"
     ]
    },
    {
     "name": "stderr",
     "output_type": "stream",
     "text": [
      "c:\\users\\sharm\\appdata\\local\\programs\\python\\python36\\lib\\site-packages\\sklearn\\ensemble\\forest.py:451: UserWarning: Some inputs do not have OOB scores. This probably means too few trees were used to compute any reliable oob estimates.\n",
      "  warn(\"Some inputs do not have OOB scores. \"\n",
      "c:\\users\\sharm\\appdata\\local\\programs\\python\\python36\\lib\\site-packages\\sklearn\\ensemble\\forest.py:456: RuntimeWarning: invalid value encountered in true_divide\n",
      "  predictions[k].sum(axis=1)[:, np.newaxis])\n"
     ]
    },
    {
     "name": "stdout",
     "output_type": "stream",
     "text": [
      "Running:  [10, 'gini', 42, 7]\n"
     ]
    },
    {
     "name": "stderr",
     "output_type": "stream",
     "text": [
      "c:\\users\\sharm\\appdata\\local\\programs\\python\\python36\\lib\\site-packages\\sklearn\\ensemble\\forest.py:451: UserWarning: Some inputs do not have OOB scores. This probably means too few trees were used to compute any reliable oob estimates.\n",
      "  warn(\"Some inputs do not have OOB scores. \"\n",
      "c:\\users\\sharm\\appdata\\local\\programs\\python\\python36\\lib\\site-packages\\sklearn\\ensemble\\forest.py:456: RuntimeWarning: invalid value encountered in true_divide\n",
      "  predictions[k].sum(axis=1)[:, np.newaxis])\n"
     ]
    },
    {
     "name": "stdout",
     "output_type": "stream",
     "text": [
      "Running:  [10, 'gini', 42, 9]\n"
     ]
    },
    {
     "name": "stderr",
     "output_type": "stream",
     "text": [
      "c:\\users\\sharm\\appdata\\local\\programs\\python\\python36\\lib\\site-packages\\sklearn\\ensemble\\forest.py:451: UserWarning: Some inputs do not have OOB scores. This probably means too few trees were used to compute any reliable oob estimates.\n",
      "  warn(\"Some inputs do not have OOB scores. \"\n",
      "c:\\users\\sharm\\appdata\\local\\programs\\python\\python36\\lib\\site-packages\\sklearn\\ensemble\\forest.py:456: RuntimeWarning: invalid value encountered in true_divide\n",
      "  predictions[k].sum(axis=1)[:, np.newaxis])\n"
     ]
    },
    {
     "name": "stdout",
     "output_type": "stream",
     "text": [
      "Running:  [10, 'gini', 42, 11]\n"
     ]
    },
    {
     "name": "stderr",
     "output_type": "stream",
     "text": [
      "c:\\users\\sharm\\appdata\\local\\programs\\python\\python36\\lib\\site-packages\\sklearn\\ensemble\\forest.py:451: UserWarning: Some inputs do not have OOB scores. This probably means too few trees were used to compute any reliable oob estimates.\n",
      "  warn(\"Some inputs do not have OOB scores. \"\n",
      "c:\\users\\sharm\\appdata\\local\\programs\\python\\python36\\lib\\site-packages\\sklearn\\ensemble\\forest.py:456: RuntimeWarning: invalid value encountered in true_divide\n",
      "  predictions[k].sum(axis=1)[:, np.newaxis])\n"
     ]
    },
    {
     "name": "stdout",
     "output_type": "stream",
     "text": [
      "Running:  [10, 'gini', 42, 13]\n"
     ]
    },
    {
     "name": "stderr",
     "output_type": "stream",
     "text": [
      "c:\\users\\sharm\\appdata\\local\\programs\\python\\python36\\lib\\site-packages\\sklearn\\ensemble\\forest.py:451: UserWarning: Some inputs do not have OOB scores. This probably means too few trees were used to compute any reliable oob estimates.\n",
      "  warn(\"Some inputs do not have OOB scores. \"\n",
      "c:\\users\\sharm\\appdata\\local\\programs\\python\\python36\\lib\\site-packages\\sklearn\\ensemble\\forest.py:456: RuntimeWarning: invalid value encountered in true_divide\n",
      "  predictions[k].sum(axis=1)[:, np.newaxis])\n"
     ]
    },
    {
     "name": "stdout",
     "output_type": "stream",
     "text": [
      "Running:  [10, 'gini', 42, 15]\n"
     ]
    },
    {
     "name": "stderr",
     "output_type": "stream",
     "text": [
      "c:\\users\\sharm\\appdata\\local\\programs\\python\\python36\\lib\\site-packages\\sklearn\\ensemble\\forest.py:451: UserWarning: Some inputs do not have OOB scores. This probably means too few trees were used to compute any reliable oob estimates.\n",
      "  warn(\"Some inputs do not have OOB scores. \"\n",
      "c:\\users\\sharm\\appdata\\local\\programs\\python\\python36\\lib\\site-packages\\sklearn\\ensemble\\forest.py:456: RuntimeWarning: invalid value encountered in true_divide\n",
      "  predictions[k].sum(axis=1)[:, np.newaxis])\n"
     ]
    },
    {
     "name": "stdout",
     "output_type": "stream",
     "text": [
      "Running:  [10, 'gini', 42, 17]\n"
     ]
    },
    {
     "name": "stderr",
     "output_type": "stream",
     "text": [
      "c:\\users\\sharm\\appdata\\local\\programs\\python\\python36\\lib\\site-packages\\sklearn\\ensemble\\forest.py:451: UserWarning: Some inputs do not have OOB scores. This probably means too few trees were used to compute any reliable oob estimates.\n",
      "  warn(\"Some inputs do not have OOB scores. \"\n",
      "c:\\users\\sharm\\appdata\\local\\programs\\python\\python36\\lib\\site-packages\\sklearn\\ensemble\\forest.py:456: RuntimeWarning: invalid value encountered in true_divide\n",
      "  predictions[k].sum(axis=1)[:, np.newaxis])\n"
     ]
    },
    {
     "name": "stdout",
     "output_type": "stream",
     "text": [
      "Running:  [10, 'gini', 42, 19]\n"
     ]
    },
    {
     "name": "stderr",
     "output_type": "stream",
     "text": [
      "c:\\users\\sharm\\appdata\\local\\programs\\python\\python36\\lib\\site-packages\\sklearn\\ensemble\\forest.py:451: UserWarning: Some inputs do not have OOB scores. This probably means too few trees were used to compute any reliable oob estimates.\n",
      "  warn(\"Some inputs do not have OOB scores. \"\n",
      "c:\\users\\sharm\\appdata\\local\\programs\\python\\python36\\lib\\site-packages\\sklearn\\ensemble\\forest.py:456: RuntimeWarning: invalid value encountered in true_divide\n",
      "  predictions[k].sum(axis=1)[:, np.newaxis])\n"
     ]
    },
    {
     "name": "stdout",
     "output_type": "stream",
     "text": [
      "Running:  [10, 'gini', 42, 21]\n"
     ]
    },
    {
     "name": "stderr",
     "output_type": "stream",
     "text": [
      "c:\\users\\sharm\\appdata\\local\\programs\\python\\python36\\lib\\site-packages\\sklearn\\ensemble\\forest.py:451: UserWarning: Some inputs do not have OOB scores. This probably means too few trees were used to compute any reliable oob estimates.\n",
      "  warn(\"Some inputs do not have OOB scores. \"\n",
      "c:\\users\\sharm\\appdata\\local\\programs\\python\\python36\\lib\\site-packages\\sklearn\\ensemble\\forest.py:456: RuntimeWarning: invalid value encountered in true_divide\n",
      "  predictions[k].sum(axis=1)[:, np.newaxis])\n"
     ]
    },
    {
     "name": "stdout",
     "output_type": "stream",
     "text": [
      "Running:  [10, 'gini', 42, 23]\n"
     ]
    },
    {
     "name": "stderr",
     "output_type": "stream",
     "text": [
      "c:\\users\\sharm\\appdata\\local\\programs\\python\\python36\\lib\\site-packages\\sklearn\\ensemble\\forest.py:451: UserWarning: Some inputs do not have OOB scores. This probably means too few trees were used to compute any reliable oob estimates.\n",
      "  warn(\"Some inputs do not have OOB scores. \"\n",
      "c:\\users\\sharm\\appdata\\local\\programs\\python\\python36\\lib\\site-packages\\sklearn\\ensemble\\forest.py:456: RuntimeWarning: invalid value encountered in true_divide\n",
      "  predictions[k].sum(axis=1)[:, np.newaxis])\n"
     ]
    },
    {
     "name": "stdout",
     "output_type": "stream",
     "text": [
      "Running:  [10, 'gini', 42, 25]\n"
     ]
    },
    {
     "name": "stderr",
     "output_type": "stream",
     "text": [
      "c:\\users\\sharm\\appdata\\local\\programs\\python\\python36\\lib\\site-packages\\sklearn\\ensemble\\forest.py:451: UserWarning: Some inputs do not have OOB scores. This probably means too few trees were used to compute any reliable oob estimates.\n",
      "  warn(\"Some inputs do not have OOB scores. \"\n",
      "c:\\users\\sharm\\appdata\\local\\programs\\python\\python36\\lib\\site-packages\\sklearn\\ensemble\\forest.py:456: RuntimeWarning: invalid value encountered in true_divide\n",
      "  predictions[k].sum(axis=1)[:, np.newaxis])\n"
     ]
    },
    {
     "name": "stdout",
     "output_type": "stream",
     "text": [
      "Running:  [10, 'gini', 42, 27]\n"
     ]
    },
    {
     "name": "stderr",
     "output_type": "stream",
     "text": [
      "c:\\users\\sharm\\appdata\\local\\programs\\python\\python36\\lib\\site-packages\\sklearn\\ensemble\\forest.py:451: UserWarning: Some inputs do not have OOB scores. This probably means too few trees were used to compute any reliable oob estimates.\n",
      "  warn(\"Some inputs do not have OOB scores. \"\n",
      "c:\\users\\sharm\\appdata\\local\\programs\\python\\python36\\lib\\site-packages\\sklearn\\ensemble\\forest.py:456: RuntimeWarning: invalid value encountered in true_divide\n",
      "  predictions[k].sum(axis=1)[:, np.newaxis])\n"
     ]
    },
    {
     "name": "stdout",
     "output_type": "stream",
     "text": [
      "Running:  [10, 'gini', 42, 29]\n"
     ]
    },
    {
     "name": "stderr",
     "output_type": "stream",
     "text": [
      "c:\\users\\sharm\\appdata\\local\\programs\\python\\python36\\lib\\site-packages\\sklearn\\ensemble\\forest.py:451: UserWarning: Some inputs do not have OOB scores. This probably means too few trees were used to compute any reliable oob estimates.\n",
      "  warn(\"Some inputs do not have OOB scores. \"\n",
      "c:\\users\\sharm\\appdata\\local\\programs\\python\\python36\\lib\\site-packages\\sklearn\\ensemble\\forest.py:456: RuntimeWarning: invalid value encountered in true_divide\n",
      "  predictions[k].sum(axis=1)[:, np.newaxis])\n"
     ]
    },
    {
     "name": "stdout",
     "output_type": "stream",
     "text": [
      "Running:  [10, 'gini', 44, 5]\n"
     ]
    },
    {
     "name": "stderr",
     "output_type": "stream",
     "text": [
      "c:\\users\\sharm\\appdata\\local\\programs\\python\\python36\\lib\\site-packages\\sklearn\\ensemble\\forest.py:451: UserWarning: Some inputs do not have OOB scores. This probably means too few trees were used to compute any reliable oob estimates.\n",
      "  warn(\"Some inputs do not have OOB scores. \"\n",
      "c:\\users\\sharm\\appdata\\local\\programs\\python\\python36\\lib\\site-packages\\sklearn\\ensemble\\forest.py:456: RuntimeWarning: invalid value encountered in true_divide\n",
      "  predictions[k].sum(axis=1)[:, np.newaxis])\n"
     ]
    },
    {
     "name": "stdout",
     "output_type": "stream",
     "text": [
      "Running:  [10, 'gini', 44, 7]\n"
     ]
    },
    {
     "name": "stderr",
     "output_type": "stream",
     "text": [
      "c:\\users\\sharm\\appdata\\local\\programs\\python\\python36\\lib\\site-packages\\sklearn\\ensemble\\forest.py:451: UserWarning: Some inputs do not have OOB scores. This probably means too few trees were used to compute any reliable oob estimates.\n",
      "  warn(\"Some inputs do not have OOB scores. \"\n",
      "c:\\users\\sharm\\appdata\\local\\programs\\python\\python36\\lib\\site-packages\\sklearn\\ensemble\\forest.py:456: RuntimeWarning: invalid value encountered in true_divide\n",
      "  predictions[k].sum(axis=1)[:, np.newaxis])\n"
     ]
    },
    {
     "name": "stdout",
     "output_type": "stream",
     "text": [
      "Running:  [10, 'gini', 44, 9]\n"
     ]
    },
    {
     "name": "stderr",
     "output_type": "stream",
     "text": [
      "c:\\users\\sharm\\appdata\\local\\programs\\python\\python36\\lib\\site-packages\\sklearn\\ensemble\\forest.py:451: UserWarning: Some inputs do not have OOB scores. This probably means too few trees were used to compute any reliable oob estimates.\n",
      "  warn(\"Some inputs do not have OOB scores. \"\n",
      "c:\\users\\sharm\\appdata\\local\\programs\\python\\python36\\lib\\site-packages\\sklearn\\ensemble\\forest.py:456: RuntimeWarning: invalid value encountered in true_divide\n",
      "  predictions[k].sum(axis=1)[:, np.newaxis])\n"
     ]
    },
    {
     "name": "stdout",
     "output_type": "stream",
     "text": [
      "Running:  [10, 'gini', 44, 11]\n"
     ]
    },
    {
     "name": "stderr",
     "output_type": "stream",
     "text": [
      "c:\\users\\sharm\\appdata\\local\\programs\\python\\python36\\lib\\site-packages\\sklearn\\ensemble\\forest.py:451: UserWarning: Some inputs do not have OOB scores. This probably means too few trees were used to compute any reliable oob estimates.\n",
      "  warn(\"Some inputs do not have OOB scores. \"\n",
      "c:\\users\\sharm\\appdata\\local\\programs\\python\\python36\\lib\\site-packages\\sklearn\\ensemble\\forest.py:456: RuntimeWarning: invalid value encountered in true_divide\n",
      "  predictions[k].sum(axis=1)[:, np.newaxis])\n"
     ]
    },
    {
     "name": "stdout",
     "output_type": "stream",
     "text": [
      "Running:  [10, 'gini', 44, 13]\n"
     ]
    },
    {
     "name": "stderr",
     "output_type": "stream",
     "text": [
      "c:\\users\\sharm\\appdata\\local\\programs\\python\\python36\\lib\\site-packages\\sklearn\\ensemble\\forest.py:451: UserWarning: Some inputs do not have OOB scores. This probably means too few trees were used to compute any reliable oob estimates.\n",
      "  warn(\"Some inputs do not have OOB scores. \"\n",
      "c:\\users\\sharm\\appdata\\local\\programs\\python\\python36\\lib\\site-packages\\sklearn\\ensemble\\forest.py:456: RuntimeWarning: invalid value encountered in true_divide\n",
      "  predictions[k].sum(axis=1)[:, np.newaxis])\n"
     ]
    },
    {
     "name": "stdout",
     "output_type": "stream",
     "text": [
      "Running:  [10, 'gini', 44, 15]\n"
     ]
    },
    {
     "name": "stderr",
     "output_type": "stream",
     "text": [
      "c:\\users\\sharm\\appdata\\local\\programs\\python\\python36\\lib\\site-packages\\sklearn\\ensemble\\forest.py:451: UserWarning: Some inputs do not have OOB scores. This probably means too few trees were used to compute any reliable oob estimates.\n",
      "  warn(\"Some inputs do not have OOB scores. \"\n",
      "c:\\users\\sharm\\appdata\\local\\programs\\python\\python36\\lib\\site-packages\\sklearn\\ensemble\\forest.py:456: RuntimeWarning: invalid value encountered in true_divide\n",
      "  predictions[k].sum(axis=1)[:, np.newaxis])\n"
     ]
    },
    {
     "name": "stdout",
     "output_type": "stream",
     "text": [
      "Running:  [10, 'gini', 44, 17]\n"
     ]
    },
    {
     "name": "stderr",
     "output_type": "stream",
     "text": [
      "c:\\users\\sharm\\appdata\\local\\programs\\python\\python36\\lib\\site-packages\\sklearn\\ensemble\\forest.py:451: UserWarning: Some inputs do not have OOB scores. This probably means too few trees were used to compute any reliable oob estimates.\n",
      "  warn(\"Some inputs do not have OOB scores. \"\n",
      "c:\\users\\sharm\\appdata\\local\\programs\\python\\python36\\lib\\site-packages\\sklearn\\ensemble\\forest.py:456: RuntimeWarning: invalid value encountered in true_divide\n",
      "  predictions[k].sum(axis=1)[:, np.newaxis])\n"
     ]
    },
    {
     "name": "stdout",
     "output_type": "stream",
     "text": [
      "Running:  [10, 'gini', 44, 19]\n"
     ]
    },
    {
     "name": "stderr",
     "output_type": "stream",
     "text": [
      "c:\\users\\sharm\\appdata\\local\\programs\\python\\python36\\lib\\site-packages\\sklearn\\ensemble\\forest.py:451: UserWarning: Some inputs do not have OOB scores. This probably means too few trees were used to compute any reliable oob estimates.\n",
      "  warn(\"Some inputs do not have OOB scores. \"\n",
      "c:\\users\\sharm\\appdata\\local\\programs\\python\\python36\\lib\\site-packages\\sklearn\\ensemble\\forest.py:456: RuntimeWarning: invalid value encountered in true_divide\n",
      "  predictions[k].sum(axis=1)[:, np.newaxis])\n"
     ]
    },
    {
     "name": "stdout",
     "output_type": "stream",
     "text": [
      "Running:  [10, 'gini', 44, 21]\n"
     ]
    },
    {
     "name": "stderr",
     "output_type": "stream",
     "text": [
      "c:\\users\\sharm\\appdata\\local\\programs\\python\\python36\\lib\\site-packages\\sklearn\\ensemble\\forest.py:451: UserWarning: Some inputs do not have OOB scores. This probably means too few trees were used to compute any reliable oob estimates.\n",
      "  warn(\"Some inputs do not have OOB scores. \"\n",
      "c:\\users\\sharm\\appdata\\local\\programs\\python\\python36\\lib\\site-packages\\sklearn\\ensemble\\forest.py:456: RuntimeWarning: invalid value encountered in true_divide\n",
      "  predictions[k].sum(axis=1)[:, np.newaxis])\n"
     ]
    },
    {
     "name": "stdout",
     "output_type": "stream",
     "text": [
      "Running:  [10, 'gini', 44, 23]\n"
     ]
    },
    {
     "name": "stderr",
     "output_type": "stream",
     "text": [
      "c:\\users\\sharm\\appdata\\local\\programs\\python\\python36\\lib\\site-packages\\sklearn\\ensemble\\forest.py:451: UserWarning: Some inputs do not have OOB scores. This probably means too few trees were used to compute any reliable oob estimates.\n",
      "  warn(\"Some inputs do not have OOB scores. \"\n",
      "c:\\users\\sharm\\appdata\\local\\programs\\python\\python36\\lib\\site-packages\\sklearn\\ensemble\\forest.py:456: RuntimeWarning: invalid value encountered in true_divide\n",
      "  predictions[k].sum(axis=1)[:, np.newaxis])\n"
     ]
    },
    {
     "name": "stdout",
     "output_type": "stream",
     "text": [
      "Running:  [10, 'gini', 44, 25]\n"
     ]
    },
    {
     "name": "stderr",
     "output_type": "stream",
     "text": [
      "c:\\users\\sharm\\appdata\\local\\programs\\python\\python36\\lib\\site-packages\\sklearn\\ensemble\\forest.py:451: UserWarning: Some inputs do not have OOB scores. This probably means too few trees were used to compute any reliable oob estimates.\n",
      "  warn(\"Some inputs do not have OOB scores. \"\n",
      "c:\\users\\sharm\\appdata\\local\\programs\\python\\python36\\lib\\site-packages\\sklearn\\ensemble\\forest.py:456: RuntimeWarning: invalid value encountered in true_divide\n",
      "  predictions[k].sum(axis=1)[:, np.newaxis])\n"
     ]
    },
    {
     "name": "stdout",
     "output_type": "stream",
     "text": [
      "Running:  [10, 'gini', 44, 27]\n"
     ]
    },
    {
     "name": "stderr",
     "output_type": "stream",
     "text": [
      "c:\\users\\sharm\\appdata\\local\\programs\\python\\python36\\lib\\site-packages\\sklearn\\ensemble\\forest.py:451: UserWarning: Some inputs do not have OOB scores. This probably means too few trees were used to compute any reliable oob estimates.\n",
      "  warn(\"Some inputs do not have OOB scores. \"\n",
      "c:\\users\\sharm\\appdata\\local\\programs\\python\\python36\\lib\\site-packages\\sklearn\\ensemble\\forest.py:456: RuntimeWarning: invalid value encountered in true_divide\n",
      "  predictions[k].sum(axis=1)[:, np.newaxis])\n"
     ]
    },
    {
     "name": "stdout",
     "output_type": "stream",
     "text": [
      "Running:  [10, 'gini', 44, 29]\n"
     ]
    },
    {
     "name": "stderr",
     "output_type": "stream",
     "text": [
      "c:\\users\\sharm\\appdata\\local\\programs\\python\\python36\\lib\\site-packages\\sklearn\\ensemble\\forest.py:451: UserWarning: Some inputs do not have OOB scores. This probably means too few trees were used to compute any reliable oob estimates.\n",
      "  warn(\"Some inputs do not have OOB scores. \"\n",
      "c:\\users\\sharm\\appdata\\local\\programs\\python\\python36\\lib\\site-packages\\sklearn\\ensemble\\forest.py:456: RuntimeWarning: invalid value encountered in true_divide\n",
      "  predictions[k].sum(axis=1)[:, np.newaxis])\n"
     ]
    },
    {
     "name": "stdout",
     "output_type": "stream",
     "text": [
      "Running:  [10, 'gini', 46, 5]\n"
     ]
    },
    {
     "name": "stderr",
     "output_type": "stream",
     "text": [
      "c:\\users\\sharm\\appdata\\local\\programs\\python\\python36\\lib\\site-packages\\sklearn\\ensemble\\forest.py:451: UserWarning: Some inputs do not have OOB scores. This probably means too few trees were used to compute any reliable oob estimates.\n",
      "  warn(\"Some inputs do not have OOB scores. \"\n",
      "c:\\users\\sharm\\appdata\\local\\programs\\python\\python36\\lib\\site-packages\\sklearn\\ensemble\\forest.py:456: RuntimeWarning: invalid value encountered in true_divide\n",
      "  predictions[k].sum(axis=1)[:, np.newaxis])\n"
     ]
    },
    {
     "name": "stdout",
     "output_type": "stream",
     "text": [
      "Running:  [10, 'gini', 46, 7]\n"
     ]
    },
    {
     "name": "stderr",
     "output_type": "stream",
     "text": [
      "c:\\users\\sharm\\appdata\\local\\programs\\python\\python36\\lib\\site-packages\\sklearn\\ensemble\\forest.py:451: UserWarning: Some inputs do not have OOB scores. This probably means too few trees were used to compute any reliable oob estimates.\n",
      "  warn(\"Some inputs do not have OOB scores. \"\n",
      "c:\\users\\sharm\\appdata\\local\\programs\\python\\python36\\lib\\site-packages\\sklearn\\ensemble\\forest.py:456: RuntimeWarning: invalid value encountered in true_divide\n",
      "  predictions[k].sum(axis=1)[:, np.newaxis])\n"
     ]
    },
    {
     "name": "stdout",
     "output_type": "stream",
     "text": [
      "Running:  [10, 'gini', 46, 9]\n"
     ]
    },
    {
     "name": "stderr",
     "output_type": "stream",
     "text": [
      "c:\\users\\sharm\\appdata\\local\\programs\\python\\python36\\lib\\site-packages\\sklearn\\ensemble\\forest.py:451: UserWarning: Some inputs do not have OOB scores. This probably means too few trees were used to compute any reliable oob estimates.\n",
      "  warn(\"Some inputs do not have OOB scores. \"\n",
      "c:\\users\\sharm\\appdata\\local\\programs\\python\\python36\\lib\\site-packages\\sklearn\\ensemble\\forest.py:456: RuntimeWarning: invalid value encountered in true_divide\n",
      "  predictions[k].sum(axis=1)[:, np.newaxis])\n"
     ]
    },
    {
     "name": "stdout",
     "output_type": "stream",
     "text": [
      "Running:  [10, 'gini', 46, 11]\n"
     ]
    },
    {
     "name": "stderr",
     "output_type": "stream",
     "text": [
      "c:\\users\\sharm\\appdata\\local\\programs\\python\\python36\\lib\\site-packages\\sklearn\\ensemble\\forest.py:451: UserWarning: Some inputs do not have OOB scores. This probably means too few trees were used to compute any reliable oob estimates.\n",
      "  warn(\"Some inputs do not have OOB scores. \"\n",
      "c:\\users\\sharm\\appdata\\local\\programs\\python\\python36\\lib\\site-packages\\sklearn\\ensemble\\forest.py:456: RuntimeWarning: invalid value encountered in true_divide\n",
      "  predictions[k].sum(axis=1)[:, np.newaxis])\n"
     ]
    },
    {
     "name": "stdout",
     "output_type": "stream",
     "text": [
      "Running:  [10, 'gini', 46, 13]\n"
     ]
    },
    {
     "name": "stderr",
     "output_type": "stream",
     "text": [
      "c:\\users\\sharm\\appdata\\local\\programs\\python\\python36\\lib\\site-packages\\sklearn\\ensemble\\forest.py:451: UserWarning: Some inputs do not have OOB scores. This probably means too few trees were used to compute any reliable oob estimates.\n",
      "  warn(\"Some inputs do not have OOB scores. \"\n",
      "c:\\users\\sharm\\appdata\\local\\programs\\python\\python36\\lib\\site-packages\\sklearn\\ensemble\\forest.py:456: RuntimeWarning: invalid value encountered in true_divide\n",
      "  predictions[k].sum(axis=1)[:, np.newaxis])\n"
     ]
    },
    {
     "name": "stdout",
     "output_type": "stream",
     "text": [
      "Running:  [10, 'gini', 46, 15]\n"
     ]
    },
    {
     "name": "stderr",
     "output_type": "stream",
     "text": [
      "c:\\users\\sharm\\appdata\\local\\programs\\python\\python36\\lib\\site-packages\\sklearn\\ensemble\\forest.py:451: UserWarning: Some inputs do not have OOB scores. This probably means too few trees were used to compute any reliable oob estimates.\n",
      "  warn(\"Some inputs do not have OOB scores. \"\n",
      "c:\\users\\sharm\\appdata\\local\\programs\\python\\python36\\lib\\site-packages\\sklearn\\ensemble\\forest.py:456: RuntimeWarning: invalid value encountered in true_divide\n",
      "  predictions[k].sum(axis=1)[:, np.newaxis])\n"
     ]
    },
    {
     "name": "stdout",
     "output_type": "stream",
     "text": [
      "Running:  [10, 'gini', 46, 17]\n"
     ]
    },
    {
     "name": "stderr",
     "output_type": "stream",
     "text": [
      "c:\\users\\sharm\\appdata\\local\\programs\\python\\python36\\lib\\site-packages\\sklearn\\ensemble\\forest.py:451: UserWarning: Some inputs do not have OOB scores. This probably means too few trees were used to compute any reliable oob estimates.\n",
      "  warn(\"Some inputs do not have OOB scores. \"\n",
      "c:\\users\\sharm\\appdata\\local\\programs\\python\\python36\\lib\\site-packages\\sklearn\\ensemble\\forest.py:456: RuntimeWarning: invalid value encountered in true_divide\n",
      "  predictions[k].sum(axis=1)[:, np.newaxis])\n"
     ]
    },
    {
     "name": "stdout",
     "output_type": "stream",
     "text": [
      "Running:  [10, 'gini', 46, 19]\n"
     ]
    },
    {
     "name": "stderr",
     "output_type": "stream",
     "text": [
      "c:\\users\\sharm\\appdata\\local\\programs\\python\\python36\\lib\\site-packages\\sklearn\\ensemble\\forest.py:451: UserWarning: Some inputs do not have OOB scores. This probably means too few trees were used to compute any reliable oob estimates.\n",
      "  warn(\"Some inputs do not have OOB scores. \"\n",
      "c:\\users\\sharm\\appdata\\local\\programs\\python\\python36\\lib\\site-packages\\sklearn\\ensemble\\forest.py:456: RuntimeWarning: invalid value encountered in true_divide\n",
      "  predictions[k].sum(axis=1)[:, np.newaxis])\n"
     ]
    },
    {
     "name": "stdout",
     "output_type": "stream",
     "text": [
      "Running:  [10, 'gini', 46, 21]\n"
     ]
    },
    {
     "name": "stderr",
     "output_type": "stream",
     "text": [
      "c:\\users\\sharm\\appdata\\local\\programs\\python\\python36\\lib\\site-packages\\sklearn\\ensemble\\forest.py:451: UserWarning: Some inputs do not have OOB scores. This probably means too few trees were used to compute any reliable oob estimates.\n",
      "  warn(\"Some inputs do not have OOB scores. \"\n",
      "c:\\users\\sharm\\appdata\\local\\programs\\python\\python36\\lib\\site-packages\\sklearn\\ensemble\\forest.py:456: RuntimeWarning: invalid value encountered in true_divide\n",
      "  predictions[k].sum(axis=1)[:, np.newaxis])\n"
     ]
    },
    {
     "name": "stdout",
     "output_type": "stream",
     "text": [
      "Running:  [10, 'gini', 46, 23]\n"
     ]
    },
    {
     "name": "stderr",
     "output_type": "stream",
     "text": [
      "c:\\users\\sharm\\appdata\\local\\programs\\python\\python36\\lib\\site-packages\\sklearn\\ensemble\\forest.py:451: UserWarning: Some inputs do not have OOB scores. This probably means too few trees were used to compute any reliable oob estimates.\n",
      "  warn(\"Some inputs do not have OOB scores. \"\n",
      "c:\\users\\sharm\\appdata\\local\\programs\\python\\python36\\lib\\site-packages\\sklearn\\ensemble\\forest.py:456: RuntimeWarning: invalid value encountered in true_divide\n",
      "  predictions[k].sum(axis=1)[:, np.newaxis])\n"
     ]
    },
    {
     "name": "stdout",
     "output_type": "stream",
     "text": [
      "Running:  [10, 'gini', 46, 25]\n"
     ]
    },
    {
     "name": "stderr",
     "output_type": "stream",
     "text": [
      "c:\\users\\sharm\\appdata\\local\\programs\\python\\python36\\lib\\site-packages\\sklearn\\ensemble\\forest.py:451: UserWarning: Some inputs do not have OOB scores. This probably means too few trees were used to compute any reliable oob estimates.\n",
      "  warn(\"Some inputs do not have OOB scores. \"\n",
      "c:\\users\\sharm\\appdata\\local\\programs\\python\\python36\\lib\\site-packages\\sklearn\\ensemble\\forest.py:456: RuntimeWarning: invalid value encountered in true_divide\n",
      "  predictions[k].sum(axis=1)[:, np.newaxis])\n"
     ]
    },
    {
     "name": "stdout",
     "output_type": "stream",
     "text": [
      "Running:  [10, 'gini', 46, 27]\n"
     ]
    },
    {
     "name": "stderr",
     "output_type": "stream",
     "text": [
      "c:\\users\\sharm\\appdata\\local\\programs\\python\\python36\\lib\\site-packages\\sklearn\\ensemble\\forest.py:451: UserWarning: Some inputs do not have OOB scores. This probably means too few trees were used to compute any reliable oob estimates.\n",
      "  warn(\"Some inputs do not have OOB scores. \"\n",
      "c:\\users\\sharm\\appdata\\local\\programs\\python\\python36\\lib\\site-packages\\sklearn\\ensemble\\forest.py:456: RuntimeWarning: invalid value encountered in true_divide\n",
      "  predictions[k].sum(axis=1)[:, np.newaxis])\n"
     ]
    },
    {
     "name": "stdout",
     "output_type": "stream",
     "text": [
      "Running:  [10, 'gini', 46, 29]\n"
     ]
    },
    {
     "name": "stderr",
     "output_type": "stream",
     "text": [
      "c:\\users\\sharm\\appdata\\local\\programs\\python\\python36\\lib\\site-packages\\sklearn\\ensemble\\forest.py:451: UserWarning: Some inputs do not have OOB scores. This probably means too few trees were used to compute any reliable oob estimates.\n",
      "  warn(\"Some inputs do not have OOB scores. \"\n",
      "c:\\users\\sharm\\appdata\\local\\programs\\python\\python36\\lib\\site-packages\\sklearn\\ensemble\\forest.py:456: RuntimeWarning: invalid value encountered in true_divide\n",
      "  predictions[k].sum(axis=1)[:, np.newaxis])\n"
     ]
    },
    {
     "name": "stdout",
     "output_type": "stream",
     "text": [
      "Running:  [10, 'gini', 48, 5]\n"
     ]
    },
    {
     "name": "stderr",
     "output_type": "stream",
     "text": [
      "c:\\users\\sharm\\appdata\\local\\programs\\python\\python36\\lib\\site-packages\\sklearn\\ensemble\\forest.py:451: UserWarning: Some inputs do not have OOB scores. This probably means too few trees were used to compute any reliable oob estimates.\n",
      "  warn(\"Some inputs do not have OOB scores. \"\n",
      "c:\\users\\sharm\\appdata\\local\\programs\\python\\python36\\lib\\site-packages\\sklearn\\ensemble\\forest.py:456: RuntimeWarning: invalid value encountered in true_divide\n",
      "  predictions[k].sum(axis=1)[:, np.newaxis])\n"
     ]
    },
    {
     "name": "stdout",
     "output_type": "stream",
     "text": [
      "Running:  [10, 'gini', 48, 7]\n"
     ]
    },
    {
     "name": "stderr",
     "output_type": "stream",
     "text": [
      "c:\\users\\sharm\\appdata\\local\\programs\\python\\python36\\lib\\site-packages\\sklearn\\ensemble\\forest.py:451: UserWarning: Some inputs do not have OOB scores. This probably means too few trees were used to compute any reliable oob estimates.\n",
      "  warn(\"Some inputs do not have OOB scores. \"\n",
      "c:\\users\\sharm\\appdata\\local\\programs\\python\\python36\\lib\\site-packages\\sklearn\\ensemble\\forest.py:456: RuntimeWarning: invalid value encountered in true_divide\n",
      "  predictions[k].sum(axis=1)[:, np.newaxis])\n"
     ]
    },
    {
     "name": "stdout",
     "output_type": "stream",
     "text": [
      "Running:  [10, 'gini', 48, 9]\n"
     ]
    },
    {
     "name": "stderr",
     "output_type": "stream",
     "text": [
      "c:\\users\\sharm\\appdata\\local\\programs\\python\\python36\\lib\\site-packages\\sklearn\\ensemble\\forest.py:451: UserWarning: Some inputs do not have OOB scores. This probably means too few trees were used to compute any reliable oob estimates.\n",
      "  warn(\"Some inputs do not have OOB scores. \"\n",
      "c:\\users\\sharm\\appdata\\local\\programs\\python\\python36\\lib\\site-packages\\sklearn\\ensemble\\forest.py:456: RuntimeWarning: invalid value encountered in true_divide\n",
      "  predictions[k].sum(axis=1)[:, np.newaxis])\n"
     ]
    },
    {
     "name": "stdout",
     "output_type": "stream",
     "text": [
      "Running:  [10, 'gini', 48, 11]\n"
     ]
    },
    {
     "name": "stderr",
     "output_type": "stream",
     "text": [
      "c:\\users\\sharm\\appdata\\local\\programs\\python\\python36\\lib\\site-packages\\sklearn\\ensemble\\forest.py:451: UserWarning: Some inputs do not have OOB scores. This probably means too few trees were used to compute any reliable oob estimates.\n",
      "  warn(\"Some inputs do not have OOB scores. \"\n",
      "c:\\users\\sharm\\appdata\\local\\programs\\python\\python36\\lib\\site-packages\\sklearn\\ensemble\\forest.py:456: RuntimeWarning: invalid value encountered in true_divide\n",
      "  predictions[k].sum(axis=1)[:, np.newaxis])\n"
     ]
    },
    {
     "name": "stdout",
     "output_type": "stream",
     "text": [
      "Running:  [10, 'gini', 48, 13]\n"
     ]
    },
    {
     "name": "stderr",
     "output_type": "stream",
     "text": [
      "c:\\users\\sharm\\appdata\\local\\programs\\python\\python36\\lib\\site-packages\\sklearn\\ensemble\\forest.py:451: UserWarning: Some inputs do not have OOB scores. This probably means too few trees were used to compute any reliable oob estimates.\n",
      "  warn(\"Some inputs do not have OOB scores. \"\n",
      "c:\\users\\sharm\\appdata\\local\\programs\\python\\python36\\lib\\site-packages\\sklearn\\ensemble\\forest.py:456: RuntimeWarning: invalid value encountered in true_divide\n",
      "  predictions[k].sum(axis=1)[:, np.newaxis])\n"
     ]
    },
    {
     "name": "stdout",
     "output_type": "stream",
     "text": [
      "Running:  [10, 'gini', 48, 15]\n"
     ]
    },
    {
     "name": "stderr",
     "output_type": "stream",
     "text": [
      "c:\\users\\sharm\\appdata\\local\\programs\\python\\python36\\lib\\site-packages\\sklearn\\ensemble\\forest.py:451: UserWarning: Some inputs do not have OOB scores. This probably means too few trees were used to compute any reliable oob estimates.\n",
      "  warn(\"Some inputs do not have OOB scores. \"\n",
      "c:\\users\\sharm\\appdata\\local\\programs\\python\\python36\\lib\\site-packages\\sklearn\\ensemble\\forest.py:456: RuntimeWarning: invalid value encountered in true_divide\n",
      "  predictions[k].sum(axis=1)[:, np.newaxis])\n"
     ]
    },
    {
     "name": "stdout",
     "output_type": "stream",
     "text": [
      "Running:  [10, 'gini', 48, 17]\n"
     ]
    },
    {
     "name": "stderr",
     "output_type": "stream",
     "text": [
      "c:\\users\\sharm\\appdata\\local\\programs\\python\\python36\\lib\\site-packages\\sklearn\\ensemble\\forest.py:451: UserWarning: Some inputs do not have OOB scores. This probably means too few trees were used to compute any reliable oob estimates.\n",
      "  warn(\"Some inputs do not have OOB scores. \"\n",
      "c:\\users\\sharm\\appdata\\local\\programs\\python\\python36\\lib\\site-packages\\sklearn\\ensemble\\forest.py:456: RuntimeWarning: invalid value encountered in true_divide\n",
      "  predictions[k].sum(axis=1)[:, np.newaxis])\n"
     ]
    },
    {
     "name": "stdout",
     "output_type": "stream",
     "text": [
      "Running:  [10, 'gini', 48, 19]\n"
     ]
    },
    {
     "name": "stderr",
     "output_type": "stream",
     "text": [
      "c:\\users\\sharm\\appdata\\local\\programs\\python\\python36\\lib\\site-packages\\sklearn\\ensemble\\forest.py:451: UserWarning: Some inputs do not have OOB scores. This probably means too few trees were used to compute any reliable oob estimates.\n",
      "  warn(\"Some inputs do not have OOB scores. \"\n",
      "c:\\users\\sharm\\appdata\\local\\programs\\python\\python36\\lib\\site-packages\\sklearn\\ensemble\\forest.py:456: RuntimeWarning: invalid value encountered in true_divide\n",
      "  predictions[k].sum(axis=1)[:, np.newaxis])\n"
     ]
    },
    {
     "name": "stdout",
     "output_type": "stream",
     "text": [
      "Running:  [10, 'gini', 48, 21]\n"
     ]
    },
    {
     "name": "stderr",
     "output_type": "stream",
     "text": [
      "c:\\users\\sharm\\appdata\\local\\programs\\python\\python36\\lib\\site-packages\\sklearn\\ensemble\\forest.py:451: UserWarning: Some inputs do not have OOB scores. This probably means too few trees were used to compute any reliable oob estimates.\n",
      "  warn(\"Some inputs do not have OOB scores. \"\n",
      "c:\\users\\sharm\\appdata\\local\\programs\\python\\python36\\lib\\site-packages\\sklearn\\ensemble\\forest.py:456: RuntimeWarning: invalid value encountered in true_divide\n",
      "  predictions[k].sum(axis=1)[:, np.newaxis])\n"
     ]
    },
    {
     "name": "stdout",
     "output_type": "stream",
     "text": [
      "Running:  [10, 'gini', 48, 23]\n"
     ]
    },
    {
     "name": "stderr",
     "output_type": "stream",
     "text": [
      "c:\\users\\sharm\\appdata\\local\\programs\\python\\python36\\lib\\site-packages\\sklearn\\ensemble\\forest.py:451: UserWarning: Some inputs do not have OOB scores. This probably means too few trees were used to compute any reliable oob estimates.\n",
      "  warn(\"Some inputs do not have OOB scores. \"\n",
      "c:\\users\\sharm\\appdata\\local\\programs\\python\\python36\\lib\\site-packages\\sklearn\\ensemble\\forest.py:456: RuntimeWarning: invalid value encountered in true_divide\n",
      "  predictions[k].sum(axis=1)[:, np.newaxis])\n"
     ]
    },
    {
     "name": "stdout",
     "output_type": "stream",
     "text": [
      "Running:  [10, 'gini', 48, 25]\n"
     ]
    },
    {
     "name": "stderr",
     "output_type": "stream",
     "text": [
      "c:\\users\\sharm\\appdata\\local\\programs\\python\\python36\\lib\\site-packages\\sklearn\\ensemble\\forest.py:451: UserWarning: Some inputs do not have OOB scores. This probably means too few trees were used to compute any reliable oob estimates.\n",
      "  warn(\"Some inputs do not have OOB scores. \"\n",
      "c:\\users\\sharm\\appdata\\local\\programs\\python\\python36\\lib\\site-packages\\sklearn\\ensemble\\forest.py:456: RuntimeWarning: invalid value encountered in true_divide\n",
      "  predictions[k].sum(axis=1)[:, np.newaxis])\n"
     ]
    },
    {
     "name": "stdout",
     "output_type": "stream",
     "text": [
      "Running:  [10, 'gini', 48, 27]\n"
     ]
    },
    {
     "name": "stderr",
     "output_type": "stream",
     "text": [
      "c:\\users\\sharm\\appdata\\local\\programs\\python\\python36\\lib\\site-packages\\sklearn\\ensemble\\forest.py:451: UserWarning: Some inputs do not have OOB scores. This probably means too few trees were used to compute any reliable oob estimates.\n",
      "  warn(\"Some inputs do not have OOB scores. \"\n",
      "c:\\users\\sharm\\appdata\\local\\programs\\python\\python36\\lib\\site-packages\\sklearn\\ensemble\\forest.py:456: RuntimeWarning: invalid value encountered in true_divide\n",
      "  predictions[k].sum(axis=1)[:, np.newaxis])\n"
     ]
    },
    {
     "name": "stdout",
     "output_type": "stream",
     "text": [
      "Running:  [10, 'gini', 48, 29]\n"
     ]
    },
    {
     "name": "stderr",
     "output_type": "stream",
     "text": [
      "c:\\users\\sharm\\appdata\\local\\programs\\python\\python36\\lib\\site-packages\\sklearn\\ensemble\\forest.py:451: UserWarning: Some inputs do not have OOB scores. This probably means too few trees were used to compute any reliable oob estimates.\n",
      "  warn(\"Some inputs do not have OOB scores. \"\n",
      "c:\\users\\sharm\\appdata\\local\\programs\\python\\python36\\lib\\site-packages\\sklearn\\ensemble\\forest.py:456: RuntimeWarning: invalid value encountered in true_divide\n",
      "  predictions[k].sum(axis=1)[:, np.newaxis])\n"
     ]
    },
    {
     "name": "stdout",
     "output_type": "stream",
     "text": [
      "Running:  [15, 'gini', 12, 5]\n"
     ]
    },
    {
     "name": "stderr",
     "output_type": "stream",
     "text": [
      "c:\\users\\sharm\\appdata\\local\\programs\\python\\python36\\lib\\site-packages\\sklearn\\ensemble\\forest.py:451: UserWarning: Some inputs do not have OOB scores. This probably means too few trees were used to compute any reliable oob estimates.\n",
      "  warn(\"Some inputs do not have OOB scores. \"\n",
      "c:\\users\\sharm\\appdata\\local\\programs\\python\\python36\\lib\\site-packages\\sklearn\\ensemble\\forest.py:456: RuntimeWarning: invalid value encountered in true_divide\n",
      "  predictions[k].sum(axis=1)[:, np.newaxis])\n"
     ]
    },
    {
     "name": "stdout",
     "output_type": "stream",
     "text": [
      "Running:  [15, 'gini', 12, 7]\n"
     ]
    },
    {
     "name": "stderr",
     "output_type": "stream",
     "text": [
      "c:\\users\\sharm\\appdata\\local\\programs\\python\\python36\\lib\\site-packages\\sklearn\\ensemble\\forest.py:451: UserWarning: Some inputs do not have OOB scores. This probably means too few trees were used to compute any reliable oob estimates.\n",
      "  warn(\"Some inputs do not have OOB scores. \"\n",
      "c:\\users\\sharm\\appdata\\local\\programs\\python\\python36\\lib\\site-packages\\sklearn\\ensemble\\forest.py:456: RuntimeWarning: invalid value encountered in true_divide\n",
      "  predictions[k].sum(axis=1)[:, np.newaxis])\n"
     ]
    },
    {
     "name": "stdout",
     "output_type": "stream",
     "text": [
      "Best Accuracy till now:  0.6626127893291487\n",
      "Best Args till now:  [15, 'gini', 12, 7]\n",
      "Running:  [15, 'gini', 12, 9]\n"
     ]
    },
    {
     "name": "stderr",
     "output_type": "stream",
     "text": [
      "c:\\users\\sharm\\appdata\\local\\programs\\python\\python36\\lib\\site-packages\\sklearn\\ensemble\\forest.py:451: UserWarning: Some inputs do not have OOB scores. This probably means too few trees were used to compute any reliable oob estimates.\n",
      "  warn(\"Some inputs do not have OOB scores. \"\n",
      "c:\\users\\sharm\\appdata\\local\\programs\\python\\python36\\lib\\site-packages\\sklearn\\ensemble\\forest.py:456: RuntimeWarning: invalid value encountered in true_divide\n",
      "  predictions[k].sum(axis=1)[:, np.newaxis])\n"
     ]
    },
    {
     "name": "stdout",
     "output_type": "stream",
     "text": [
      "Running:  [15, 'gini', 12, 11]\n"
     ]
    },
    {
     "name": "stderr",
     "output_type": "stream",
     "text": [
      "c:\\users\\sharm\\appdata\\local\\programs\\python\\python36\\lib\\site-packages\\sklearn\\ensemble\\forest.py:451: UserWarning: Some inputs do not have OOB scores. This probably means too few trees were used to compute any reliable oob estimates.\n",
      "  warn(\"Some inputs do not have OOB scores. \"\n",
      "c:\\users\\sharm\\appdata\\local\\programs\\python\\python36\\lib\\site-packages\\sklearn\\ensemble\\forest.py:456: RuntimeWarning: invalid value encountered in true_divide\n",
      "  predictions[k].sum(axis=1)[:, np.newaxis])\n"
     ]
    },
    {
     "name": "stdout",
     "output_type": "stream",
     "text": [
      "Running:  [15, 'gini', 12, 13]\n"
     ]
    },
    {
     "name": "stderr",
     "output_type": "stream",
     "text": [
      "c:\\users\\sharm\\appdata\\local\\programs\\python\\python36\\lib\\site-packages\\sklearn\\ensemble\\forest.py:451: UserWarning: Some inputs do not have OOB scores. This probably means too few trees were used to compute any reliable oob estimates.\n",
      "  warn(\"Some inputs do not have OOB scores. \"\n",
      "c:\\users\\sharm\\appdata\\local\\programs\\python\\python36\\lib\\site-packages\\sklearn\\ensemble\\forest.py:456: RuntimeWarning: invalid value encountered in true_divide\n",
      "  predictions[k].sum(axis=1)[:, np.newaxis])\n"
     ]
    },
    {
     "name": "stdout",
     "output_type": "stream",
     "text": [
      "Running:  [15, 'gini', 12, 15]\n"
     ]
    },
    {
     "name": "stderr",
     "output_type": "stream",
     "text": [
      "c:\\users\\sharm\\appdata\\local\\programs\\python\\python36\\lib\\site-packages\\sklearn\\ensemble\\forest.py:451: UserWarning: Some inputs do not have OOB scores. This probably means too few trees were used to compute any reliable oob estimates.\n",
      "  warn(\"Some inputs do not have OOB scores. \"\n",
      "c:\\users\\sharm\\appdata\\local\\programs\\python\\python36\\lib\\site-packages\\sklearn\\ensemble\\forest.py:456: RuntimeWarning: invalid value encountered in true_divide\n",
      "  predictions[k].sum(axis=1)[:, np.newaxis])\n"
     ]
    },
    {
     "name": "stdout",
     "output_type": "stream",
     "text": [
      "Running:  [15, 'gini', 12, 17]\n"
     ]
    },
    {
     "name": "stderr",
     "output_type": "stream",
     "text": [
      "c:\\users\\sharm\\appdata\\local\\programs\\python\\python36\\lib\\site-packages\\sklearn\\ensemble\\forest.py:451: UserWarning: Some inputs do not have OOB scores. This probably means too few trees were used to compute any reliable oob estimates.\n",
      "  warn(\"Some inputs do not have OOB scores. \"\n",
      "c:\\users\\sharm\\appdata\\local\\programs\\python\\python36\\lib\\site-packages\\sklearn\\ensemble\\forest.py:456: RuntimeWarning: invalid value encountered in true_divide\n",
      "  predictions[k].sum(axis=1)[:, np.newaxis])\n"
     ]
    },
    {
     "name": "stdout",
     "output_type": "stream",
     "text": [
      "Running:  [15, 'gini', 12, 19]\n"
     ]
    },
    {
     "name": "stderr",
     "output_type": "stream",
     "text": [
      "c:\\users\\sharm\\appdata\\local\\programs\\python\\python36\\lib\\site-packages\\sklearn\\ensemble\\forest.py:451: UserWarning: Some inputs do not have OOB scores. This probably means too few trees were used to compute any reliable oob estimates.\n",
      "  warn(\"Some inputs do not have OOB scores. \"\n",
      "c:\\users\\sharm\\appdata\\local\\programs\\python\\python36\\lib\\site-packages\\sklearn\\ensemble\\forest.py:456: RuntimeWarning: invalid value encountered in true_divide\n",
      "  predictions[k].sum(axis=1)[:, np.newaxis])\n"
     ]
    },
    {
     "name": "stdout",
     "output_type": "stream",
     "text": [
      "Running:  [15, 'gini', 12, 21]\n"
     ]
    },
    {
     "name": "stderr",
     "output_type": "stream",
     "text": [
      "c:\\users\\sharm\\appdata\\local\\programs\\python\\python36\\lib\\site-packages\\sklearn\\ensemble\\forest.py:451: UserWarning: Some inputs do not have OOB scores. This probably means too few trees were used to compute any reliable oob estimates.\n",
      "  warn(\"Some inputs do not have OOB scores. \"\n",
      "c:\\users\\sharm\\appdata\\local\\programs\\python\\python36\\lib\\site-packages\\sklearn\\ensemble\\forest.py:456: RuntimeWarning: invalid value encountered in true_divide\n",
      "  predictions[k].sum(axis=1)[:, np.newaxis])\n"
     ]
    },
    {
     "name": "stdout",
     "output_type": "stream",
     "text": [
      "Running:  [15, 'gini', 12, 23]\n"
     ]
    },
    {
     "name": "stderr",
     "output_type": "stream",
     "text": [
      "c:\\users\\sharm\\appdata\\local\\programs\\python\\python36\\lib\\site-packages\\sklearn\\ensemble\\forest.py:451: UserWarning: Some inputs do not have OOB scores. This probably means too few trees were used to compute any reliable oob estimates.\n",
      "  warn(\"Some inputs do not have OOB scores. \"\n",
      "c:\\users\\sharm\\appdata\\local\\programs\\python\\python36\\lib\\site-packages\\sklearn\\ensemble\\forest.py:456: RuntimeWarning: invalid value encountered in true_divide\n",
      "  predictions[k].sum(axis=1)[:, np.newaxis])\n"
     ]
    },
    {
     "name": "stdout",
     "output_type": "stream",
     "text": [
      "Running:  [15, 'gini', 12, 25]\n"
     ]
    },
    {
     "name": "stderr",
     "output_type": "stream",
     "text": [
      "c:\\users\\sharm\\appdata\\local\\programs\\python\\python36\\lib\\site-packages\\sklearn\\ensemble\\forest.py:451: UserWarning: Some inputs do not have OOB scores. This probably means too few trees were used to compute any reliable oob estimates.\n",
      "  warn(\"Some inputs do not have OOB scores. \"\n",
      "c:\\users\\sharm\\appdata\\local\\programs\\python\\python36\\lib\\site-packages\\sklearn\\ensemble\\forest.py:456: RuntimeWarning: invalid value encountered in true_divide\n",
      "  predictions[k].sum(axis=1)[:, np.newaxis])\n"
     ]
    },
    {
     "name": "stdout",
     "output_type": "stream",
     "text": [
      "Running:  [15, 'gini', 12, 27]\n"
     ]
    },
    {
     "name": "stderr",
     "output_type": "stream",
     "text": [
      "c:\\users\\sharm\\appdata\\local\\programs\\python\\python36\\lib\\site-packages\\sklearn\\ensemble\\forest.py:451: UserWarning: Some inputs do not have OOB scores. This probably means too few trees were used to compute any reliable oob estimates.\n",
      "  warn(\"Some inputs do not have OOB scores. \"\n",
      "c:\\users\\sharm\\appdata\\local\\programs\\python\\python36\\lib\\site-packages\\sklearn\\ensemble\\forest.py:456: RuntimeWarning: invalid value encountered in true_divide\n",
      "  predictions[k].sum(axis=1)[:, np.newaxis])\n"
     ]
    },
    {
     "name": "stdout",
     "output_type": "stream",
     "text": [
      "Running:  [15, 'gini', 12, 29]\n"
     ]
    },
    {
     "name": "stderr",
     "output_type": "stream",
     "text": [
      "c:\\users\\sharm\\appdata\\local\\programs\\python\\python36\\lib\\site-packages\\sklearn\\ensemble\\forest.py:451: UserWarning: Some inputs do not have OOB scores. This probably means too few trees were used to compute any reliable oob estimates.\n",
      "  warn(\"Some inputs do not have OOB scores. \"\n",
      "c:\\users\\sharm\\appdata\\local\\programs\\python\\python36\\lib\\site-packages\\sklearn\\ensemble\\forest.py:456: RuntimeWarning: invalid value encountered in true_divide\n",
      "  predictions[k].sum(axis=1)[:, np.newaxis])\n"
     ]
    },
    {
     "name": "stdout",
     "output_type": "stream",
     "text": [
      "Running:  [15, 'gini', 14, 5]\n"
     ]
    },
    {
     "name": "stderr",
     "output_type": "stream",
     "text": [
      "c:\\users\\sharm\\appdata\\local\\programs\\python\\python36\\lib\\site-packages\\sklearn\\ensemble\\forest.py:451: UserWarning: Some inputs do not have OOB scores. This probably means too few trees were used to compute any reliable oob estimates.\n",
      "  warn(\"Some inputs do not have OOB scores. \"\n",
      "c:\\users\\sharm\\appdata\\local\\programs\\python\\python36\\lib\\site-packages\\sklearn\\ensemble\\forest.py:456: RuntimeWarning: invalid value encountered in true_divide\n",
      "  predictions[k].sum(axis=1)[:, np.newaxis])\n"
     ]
    },
    {
     "name": "stdout",
     "output_type": "stream",
     "text": [
      "Running:  [15, 'gini', 14, 7]\n"
     ]
    },
    {
     "name": "stderr",
     "output_type": "stream",
     "text": [
      "c:\\users\\sharm\\appdata\\local\\programs\\python\\python36\\lib\\site-packages\\sklearn\\ensemble\\forest.py:451: UserWarning: Some inputs do not have OOB scores. This probably means too few trees were used to compute any reliable oob estimates.\n",
      "  warn(\"Some inputs do not have OOB scores. \"\n",
      "c:\\users\\sharm\\appdata\\local\\programs\\python\\python36\\lib\\site-packages\\sklearn\\ensemble\\forest.py:456: RuntimeWarning: invalid value encountered in true_divide\n",
      "  predictions[k].sum(axis=1)[:, np.newaxis])\n"
     ]
    },
    {
     "name": "stdout",
     "output_type": "stream",
     "text": [
      "Running:  [15, 'gini', 14, 9]\n"
     ]
    },
    {
     "name": "stderr",
     "output_type": "stream",
     "text": [
      "c:\\users\\sharm\\appdata\\local\\programs\\python\\python36\\lib\\site-packages\\sklearn\\ensemble\\forest.py:451: UserWarning: Some inputs do not have OOB scores. This probably means too few trees were used to compute any reliable oob estimates.\n",
      "  warn(\"Some inputs do not have OOB scores. \"\n",
      "c:\\users\\sharm\\appdata\\local\\programs\\python\\python36\\lib\\site-packages\\sklearn\\ensemble\\forest.py:456: RuntimeWarning: invalid value encountered in true_divide\n",
      "  predictions[k].sum(axis=1)[:, np.newaxis])\n"
     ]
    },
    {
     "name": "stdout",
     "output_type": "stream",
     "text": [
      "Running:  [15, 'gini', 14, 11]\n"
     ]
    },
    {
     "name": "stderr",
     "output_type": "stream",
     "text": [
      "c:\\users\\sharm\\appdata\\local\\programs\\python\\python36\\lib\\site-packages\\sklearn\\ensemble\\forest.py:451: UserWarning: Some inputs do not have OOB scores. This probably means too few trees were used to compute any reliable oob estimates.\n",
      "  warn(\"Some inputs do not have OOB scores. \"\n",
      "c:\\users\\sharm\\appdata\\local\\programs\\python\\python36\\lib\\site-packages\\sklearn\\ensemble\\forest.py:456: RuntimeWarning: invalid value encountered in true_divide\n",
      "  predictions[k].sum(axis=1)[:, np.newaxis])\n"
     ]
    },
    {
     "name": "stdout",
     "output_type": "stream",
     "text": [
      "Running:  [15, 'gini', 14, 13]\n"
     ]
    },
    {
     "name": "stderr",
     "output_type": "stream",
     "text": [
      "c:\\users\\sharm\\appdata\\local\\programs\\python\\python36\\lib\\site-packages\\sklearn\\ensemble\\forest.py:451: UserWarning: Some inputs do not have OOB scores. This probably means too few trees were used to compute any reliable oob estimates.\n",
      "  warn(\"Some inputs do not have OOB scores. \"\n",
      "c:\\users\\sharm\\appdata\\local\\programs\\python\\python36\\lib\\site-packages\\sklearn\\ensemble\\forest.py:456: RuntimeWarning: invalid value encountered in true_divide\n",
      "  predictions[k].sum(axis=1)[:, np.newaxis])\n"
     ]
    },
    {
     "name": "stdout",
     "output_type": "stream",
     "text": [
      "Running:  [15, 'gini', 14, 15]\n"
     ]
    },
    {
     "name": "stderr",
     "output_type": "stream",
     "text": [
      "c:\\users\\sharm\\appdata\\local\\programs\\python\\python36\\lib\\site-packages\\sklearn\\ensemble\\forest.py:451: UserWarning: Some inputs do not have OOB scores. This probably means too few trees were used to compute any reliable oob estimates.\n",
      "  warn(\"Some inputs do not have OOB scores. \"\n",
      "c:\\users\\sharm\\appdata\\local\\programs\\python\\python36\\lib\\site-packages\\sklearn\\ensemble\\forest.py:456: RuntimeWarning: invalid value encountered in true_divide\n",
      "  predictions[k].sum(axis=1)[:, np.newaxis])\n"
     ]
    },
    {
     "name": "stdout",
     "output_type": "stream",
     "text": [
      "Running:  [15, 'gini', 14, 17]\n"
     ]
    },
    {
     "name": "stderr",
     "output_type": "stream",
     "text": [
      "c:\\users\\sharm\\appdata\\local\\programs\\python\\python36\\lib\\site-packages\\sklearn\\ensemble\\forest.py:451: UserWarning: Some inputs do not have OOB scores. This probably means too few trees were used to compute any reliable oob estimates.\n",
      "  warn(\"Some inputs do not have OOB scores. \"\n",
      "c:\\users\\sharm\\appdata\\local\\programs\\python\\python36\\lib\\site-packages\\sklearn\\ensemble\\forest.py:456: RuntimeWarning: invalid value encountered in true_divide\n",
      "  predictions[k].sum(axis=1)[:, np.newaxis])\n"
     ]
    },
    {
     "name": "stdout",
     "output_type": "stream",
     "text": [
      "Running:  [15, 'gini', 14, 19]\n"
     ]
    },
    {
     "name": "stderr",
     "output_type": "stream",
     "text": [
      "c:\\users\\sharm\\appdata\\local\\programs\\python\\python36\\lib\\site-packages\\sklearn\\ensemble\\forest.py:451: UserWarning: Some inputs do not have OOB scores. This probably means too few trees were used to compute any reliable oob estimates.\n",
      "  warn(\"Some inputs do not have OOB scores. \"\n",
      "c:\\users\\sharm\\appdata\\local\\programs\\python\\python36\\lib\\site-packages\\sklearn\\ensemble\\forest.py:456: RuntimeWarning: invalid value encountered in true_divide\n",
      "  predictions[k].sum(axis=1)[:, np.newaxis])\n"
     ]
    },
    {
     "name": "stdout",
     "output_type": "stream",
     "text": [
      "Running:  [15, 'gini', 14, 21]\n"
     ]
    },
    {
     "name": "stderr",
     "output_type": "stream",
     "text": [
      "c:\\users\\sharm\\appdata\\local\\programs\\python\\python36\\lib\\site-packages\\sklearn\\ensemble\\forest.py:451: UserWarning: Some inputs do not have OOB scores. This probably means too few trees were used to compute any reliable oob estimates.\n",
      "  warn(\"Some inputs do not have OOB scores. \"\n",
      "c:\\users\\sharm\\appdata\\local\\programs\\python\\python36\\lib\\site-packages\\sklearn\\ensemble\\forest.py:456: RuntimeWarning: invalid value encountered in true_divide\n",
      "  predictions[k].sum(axis=1)[:, np.newaxis])\n"
     ]
    },
    {
     "name": "stdout",
     "output_type": "stream",
     "text": [
      "Running:  [15, 'gini', 14, 23]\n"
     ]
    },
    {
     "name": "stderr",
     "output_type": "stream",
     "text": [
      "c:\\users\\sharm\\appdata\\local\\programs\\python\\python36\\lib\\site-packages\\sklearn\\ensemble\\forest.py:451: UserWarning: Some inputs do not have OOB scores. This probably means too few trees were used to compute any reliable oob estimates.\n",
      "  warn(\"Some inputs do not have OOB scores. \"\n",
      "c:\\users\\sharm\\appdata\\local\\programs\\python\\python36\\lib\\site-packages\\sklearn\\ensemble\\forest.py:456: RuntimeWarning: invalid value encountered in true_divide\n",
      "  predictions[k].sum(axis=1)[:, np.newaxis])\n"
     ]
    },
    {
     "name": "stdout",
     "output_type": "stream",
     "text": [
      "Running:  [15, 'gini', 14, 25]\n"
     ]
    },
    {
     "name": "stderr",
     "output_type": "stream",
     "text": [
      "c:\\users\\sharm\\appdata\\local\\programs\\python\\python36\\lib\\site-packages\\sklearn\\ensemble\\forest.py:451: UserWarning: Some inputs do not have OOB scores. This probably means too few trees were used to compute any reliable oob estimates.\n",
      "  warn(\"Some inputs do not have OOB scores. \"\n",
      "c:\\users\\sharm\\appdata\\local\\programs\\python\\python36\\lib\\site-packages\\sklearn\\ensemble\\forest.py:456: RuntimeWarning: invalid value encountered in true_divide\n",
      "  predictions[k].sum(axis=1)[:, np.newaxis])\n"
     ]
    },
    {
     "name": "stdout",
     "output_type": "stream",
     "text": [
      "Running:  [15, 'gini', 14, 27]\n"
     ]
    },
    {
     "name": "stderr",
     "output_type": "stream",
     "text": [
      "c:\\users\\sharm\\appdata\\local\\programs\\python\\python36\\lib\\site-packages\\sklearn\\ensemble\\forest.py:451: UserWarning: Some inputs do not have OOB scores. This probably means too few trees were used to compute any reliable oob estimates.\n",
      "  warn(\"Some inputs do not have OOB scores. \"\n",
      "c:\\users\\sharm\\appdata\\local\\programs\\python\\python36\\lib\\site-packages\\sklearn\\ensemble\\forest.py:456: RuntimeWarning: invalid value encountered in true_divide\n",
      "  predictions[k].sum(axis=1)[:, np.newaxis])\n"
     ]
    },
    {
     "name": "stdout",
     "output_type": "stream",
     "text": [
      "Running:  [15, 'gini', 14, 29]\n"
     ]
    },
    {
     "name": "stderr",
     "output_type": "stream",
     "text": [
      "c:\\users\\sharm\\appdata\\local\\programs\\python\\python36\\lib\\site-packages\\sklearn\\ensemble\\forest.py:451: UserWarning: Some inputs do not have OOB scores. This probably means too few trees were used to compute any reliable oob estimates.\n",
      "  warn(\"Some inputs do not have OOB scores. \"\n",
      "c:\\users\\sharm\\appdata\\local\\programs\\python\\python36\\lib\\site-packages\\sklearn\\ensemble\\forest.py:456: RuntimeWarning: invalid value encountered in true_divide\n",
      "  predictions[k].sum(axis=1)[:, np.newaxis])\n"
     ]
    },
    {
     "name": "stdout",
     "output_type": "stream",
     "text": [
      "Running:  [15, 'gini', 16, 5]\n"
     ]
    },
    {
     "name": "stderr",
     "output_type": "stream",
     "text": [
      "c:\\users\\sharm\\appdata\\local\\programs\\python\\python36\\lib\\site-packages\\sklearn\\ensemble\\forest.py:451: UserWarning: Some inputs do not have OOB scores. This probably means too few trees were used to compute any reliable oob estimates.\n",
      "  warn(\"Some inputs do not have OOB scores. \"\n",
      "c:\\users\\sharm\\appdata\\local\\programs\\python\\python36\\lib\\site-packages\\sklearn\\ensemble\\forest.py:456: RuntimeWarning: invalid value encountered in true_divide\n",
      "  predictions[k].sum(axis=1)[:, np.newaxis])\n"
     ]
    },
    {
     "name": "stdout",
     "output_type": "stream",
     "text": [
      "Running:  [15, 'gini', 16, 7]\n"
     ]
    },
    {
     "name": "stderr",
     "output_type": "stream",
     "text": [
      "c:\\users\\sharm\\appdata\\local\\programs\\python\\python36\\lib\\site-packages\\sklearn\\ensemble\\forest.py:451: UserWarning: Some inputs do not have OOB scores. This probably means too few trees were used to compute any reliable oob estimates.\n",
      "  warn(\"Some inputs do not have OOB scores. \"\n",
      "c:\\users\\sharm\\appdata\\local\\programs\\python\\python36\\lib\\site-packages\\sklearn\\ensemble\\forest.py:456: RuntimeWarning: invalid value encountered in true_divide\n",
      "  predictions[k].sum(axis=1)[:, np.newaxis])\n"
     ]
    },
    {
     "name": "stdout",
     "output_type": "stream",
     "text": [
      "Running:  [15, 'gini', 16, 9]\n"
     ]
    },
    {
     "name": "stderr",
     "output_type": "stream",
     "text": [
      "c:\\users\\sharm\\appdata\\local\\programs\\python\\python36\\lib\\site-packages\\sklearn\\ensemble\\forest.py:451: UserWarning: Some inputs do not have OOB scores. This probably means too few trees were used to compute any reliable oob estimates.\n",
      "  warn(\"Some inputs do not have OOB scores. \"\n",
      "c:\\users\\sharm\\appdata\\local\\programs\\python\\python36\\lib\\site-packages\\sklearn\\ensemble\\forest.py:456: RuntimeWarning: invalid value encountered in true_divide\n",
      "  predictions[k].sum(axis=1)[:, np.newaxis])\n"
     ]
    },
    {
     "name": "stdout",
     "output_type": "stream",
     "text": [
      "Running:  [15, 'gini', 16, 11]\n"
     ]
    },
    {
     "name": "stderr",
     "output_type": "stream",
     "text": [
      "c:\\users\\sharm\\appdata\\local\\programs\\python\\python36\\lib\\site-packages\\sklearn\\ensemble\\forest.py:451: UserWarning: Some inputs do not have OOB scores. This probably means too few trees were used to compute any reliable oob estimates.\n",
      "  warn(\"Some inputs do not have OOB scores. \"\n",
      "c:\\users\\sharm\\appdata\\local\\programs\\python\\python36\\lib\\site-packages\\sklearn\\ensemble\\forest.py:456: RuntimeWarning: invalid value encountered in true_divide\n",
      "  predictions[k].sum(axis=1)[:, np.newaxis])\n"
     ]
    },
    {
     "name": "stdout",
     "output_type": "stream",
     "text": [
      "Running:  [15, 'gini', 16, 13]\n"
     ]
    },
    {
     "name": "stderr",
     "output_type": "stream",
     "text": [
      "c:\\users\\sharm\\appdata\\local\\programs\\python\\python36\\lib\\site-packages\\sklearn\\ensemble\\forest.py:451: UserWarning: Some inputs do not have OOB scores. This probably means too few trees were used to compute any reliable oob estimates.\n",
      "  warn(\"Some inputs do not have OOB scores. \"\n",
      "c:\\users\\sharm\\appdata\\local\\programs\\python\\python36\\lib\\site-packages\\sklearn\\ensemble\\forest.py:456: RuntimeWarning: invalid value encountered in true_divide\n",
      "  predictions[k].sum(axis=1)[:, np.newaxis])\n"
     ]
    },
    {
     "name": "stdout",
     "output_type": "stream",
     "text": [
      "Running:  [15, 'gini', 16, 15]\n"
     ]
    },
    {
     "name": "stderr",
     "output_type": "stream",
     "text": [
      "c:\\users\\sharm\\appdata\\local\\programs\\python\\python36\\lib\\site-packages\\sklearn\\ensemble\\forest.py:451: UserWarning: Some inputs do not have OOB scores. This probably means too few trees were used to compute any reliable oob estimates.\n",
      "  warn(\"Some inputs do not have OOB scores. \"\n",
      "c:\\users\\sharm\\appdata\\local\\programs\\python\\python36\\lib\\site-packages\\sklearn\\ensemble\\forest.py:456: RuntimeWarning: invalid value encountered in true_divide\n",
      "  predictions[k].sum(axis=1)[:, np.newaxis])\n"
     ]
    },
    {
     "name": "stdout",
     "output_type": "stream",
     "text": [
      "Running:  [15, 'gini', 16, 17]\n"
     ]
    },
    {
     "name": "stderr",
     "output_type": "stream",
     "text": [
      "c:\\users\\sharm\\appdata\\local\\programs\\python\\python36\\lib\\site-packages\\sklearn\\ensemble\\forest.py:451: UserWarning: Some inputs do not have OOB scores. This probably means too few trees were used to compute any reliable oob estimates.\n",
      "  warn(\"Some inputs do not have OOB scores. \"\n",
      "c:\\users\\sharm\\appdata\\local\\programs\\python\\python36\\lib\\site-packages\\sklearn\\ensemble\\forest.py:456: RuntimeWarning: invalid value encountered in true_divide\n",
      "  predictions[k].sum(axis=1)[:, np.newaxis])\n"
     ]
    },
    {
     "name": "stdout",
     "output_type": "stream",
     "text": [
      "Running:  [15, 'gini', 16, 19]\n"
     ]
    },
    {
     "name": "stderr",
     "output_type": "stream",
     "text": [
      "c:\\users\\sharm\\appdata\\local\\programs\\python\\python36\\lib\\site-packages\\sklearn\\ensemble\\forest.py:451: UserWarning: Some inputs do not have OOB scores. This probably means too few trees were used to compute any reliable oob estimates.\n",
      "  warn(\"Some inputs do not have OOB scores. \"\n",
      "c:\\users\\sharm\\appdata\\local\\programs\\python\\python36\\lib\\site-packages\\sklearn\\ensemble\\forest.py:456: RuntimeWarning: invalid value encountered in true_divide\n",
      "  predictions[k].sum(axis=1)[:, np.newaxis])\n"
     ]
    },
    {
     "name": "stdout",
     "output_type": "stream",
     "text": [
      "Running:  [15, 'gini', 16, 21]\n"
     ]
    },
    {
     "name": "stderr",
     "output_type": "stream",
     "text": [
      "c:\\users\\sharm\\appdata\\local\\programs\\python\\python36\\lib\\site-packages\\sklearn\\ensemble\\forest.py:451: UserWarning: Some inputs do not have OOB scores. This probably means too few trees were used to compute any reliable oob estimates.\n",
      "  warn(\"Some inputs do not have OOB scores. \"\n",
      "c:\\users\\sharm\\appdata\\local\\programs\\python\\python36\\lib\\site-packages\\sklearn\\ensemble\\forest.py:456: RuntimeWarning: invalid value encountered in true_divide\n",
      "  predictions[k].sum(axis=1)[:, np.newaxis])\n"
     ]
    },
    {
     "name": "stdout",
     "output_type": "stream",
     "text": [
      "Running:  [15, 'gini', 16, 23]\n"
     ]
    },
    {
     "name": "stderr",
     "output_type": "stream",
     "text": [
      "c:\\users\\sharm\\appdata\\local\\programs\\python\\python36\\lib\\site-packages\\sklearn\\ensemble\\forest.py:451: UserWarning: Some inputs do not have OOB scores. This probably means too few trees were used to compute any reliable oob estimates.\n",
      "  warn(\"Some inputs do not have OOB scores. \"\n",
      "c:\\users\\sharm\\appdata\\local\\programs\\python\\python36\\lib\\site-packages\\sklearn\\ensemble\\forest.py:456: RuntimeWarning: invalid value encountered in true_divide\n",
      "  predictions[k].sum(axis=1)[:, np.newaxis])\n"
     ]
    },
    {
     "name": "stdout",
     "output_type": "stream",
     "text": [
      "Running:  [15, 'gini', 16, 25]\n"
     ]
    },
    {
     "name": "stderr",
     "output_type": "stream",
     "text": [
      "c:\\users\\sharm\\appdata\\local\\programs\\python\\python36\\lib\\site-packages\\sklearn\\ensemble\\forest.py:451: UserWarning: Some inputs do not have OOB scores. This probably means too few trees were used to compute any reliable oob estimates.\n",
      "  warn(\"Some inputs do not have OOB scores. \"\n",
      "c:\\users\\sharm\\appdata\\local\\programs\\python\\python36\\lib\\site-packages\\sklearn\\ensemble\\forest.py:456: RuntimeWarning: invalid value encountered in true_divide\n",
      "  predictions[k].sum(axis=1)[:, np.newaxis])\n"
     ]
    },
    {
     "name": "stdout",
     "output_type": "stream",
     "text": [
      "Running:  [15, 'gini', 16, 27]\n"
     ]
    },
    {
     "name": "stderr",
     "output_type": "stream",
     "text": [
      "c:\\users\\sharm\\appdata\\local\\programs\\python\\python36\\lib\\site-packages\\sklearn\\ensemble\\forest.py:451: UserWarning: Some inputs do not have OOB scores. This probably means too few trees were used to compute any reliable oob estimates.\n",
      "  warn(\"Some inputs do not have OOB scores. \"\n",
      "c:\\users\\sharm\\appdata\\local\\programs\\python\\python36\\lib\\site-packages\\sklearn\\ensemble\\forest.py:456: RuntimeWarning: invalid value encountered in true_divide\n",
      "  predictions[k].sum(axis=1)[:, np.newaxis])\n"
     ]
    },
    {
     "name": "stdout",
     "output_type": "stream",
     "text": [
      "Running:  [15, 'gini', 16, 29]\n"
     ]
    },
    {
     "name": "stderr",
     "output_type": "stream",
     "text": [
      "c:\\users\\sharm\\appdata\\local\\programs\\python\\python36\\lib\\site-packages\\sklearn\\ensemble\\forest.py:451: UserWarning: Some inputs do not have OOB scores. This probably means too few trees were used to compute any reliable oob estimates.\n",
      "  warn(\"Some inputs do not have OOB scores. \"\n",
      "c:\\users\\sharm\\appdata\\local\\programs\\python\\python36\\lib\\site-packages\\sklearn\\ensemble\\forest.py:456: RuntimeWarning: invalid value encountered in true_divide\n",
      "  predictions[k].sum(axis=1)[:, np.newaxis])\n"
     ]
    },
    {
     "name": "stdout",
     "output_type": "stream",
     "text": [
      "Running:  [15, 'gini', 18, 5]\n"
     ]
    },
    {
     "name": "stderr",
     "output_type": "stream",
     "text": [
      "c:\\users\\sharm\\appdata\\local\\programs\\python\\python36\\lib\\site-packages\\sklearn\\ensemble\\forest.py:451: UserWarning: Some inputs do not have OOB scores. This probably means too few trees were used to compute any reliable oob estimates.\n",
      "  warn(\"Some inputs do not have OOB scores. \"\n",
      "c:\\users\\sharm\\appdata\\local\\programs\\python\\python36\\lib\\site-packages\\sklearn\\ensemble\\forest.py:456: RuntimeWarning: invalid value encountered in true_divide\n",
      "  predictions[k].sum(axis=1)[:, np.newaxis])\n"
     ]
    },
    {
     "name": "stdout",
     "output_type": "stream",
     "text": [
      "Running:  [15, 'gini', 18, 7]\n"
     ]
    },
    {
     "name": "stderr",
     "output_type": "stream",
     "text": [
      "c:\\users\\sharm\\appdata\\local\\programs\\python\\python36\\lib\\site-packages\\sklearn\\ensemble\\forest.py:451: UserWarning: Some inputs do not have OOB scores. This probably means too few trees were used to compute any reliable oob estimates.\n",
      "  warn(\"Some inputs do not have OOB scores. \"\n",
      "c:\\users\\sharm\\appdata\\local\\programs\\python\\python36\\lib\\site-packages\\sklearn\\ensemble\\forest.py:456: RuntimeWarning: invalid value encountered in true_divide\n",
      "  predictions[k].sum(axis=1)[:, np.newaxis])\n"
     ]
    },
    {
     "name": "stdout",
     "output_type": "stream",
     "text": [
      "Running:  [15, 'gini', 18, 9]\n"
     ]
    },
    {
     "name": "stderr",
     "output_type": "stream",
     "text": [
      "c:\\users\\sharm\\appdata\\local\\programs\\python\\python36\\lib\\site-packages\\sklearn\\ensemble\\forest.py:451: UserWarning: Some inputs do not have OOB scores. This probably means too few trees were used to compute any reliable oob estimates.\n",
      "  warn(\"Some inputs do not have OOB scores. \"\n",
      "c:\\users\\sharm\\appdata\\local\\programs\\python\\python36\\lib\\site-packages\\sklearn\\ensemble\\forest.py:456: RuntimeWarning: invalid value encountered in true_divide\n",
      "  predictions[k].sum(axis=1)[:, np.newaxis])\n"
     ]
    },
    {
     "name": "stdout",
     "output_type": "stream",
     "text": [
      "Running:  [15, 'gini', 18, 11]\n"
     ]
    },
    {
     "name": "stderr",
     "output_type": "stream",
     "text": [
      "c:\\users\\sharm\\appdata\\local\\programs\\python\\python36\\lib\\site-packages\\sklearn\\ensemble\\forest.py:451: UserWarning: Some inputs do not have OOB scores. This probably means too few trees were used to compute any reliable oob estimates.\n",
      "  warn(\"Some inputs do not have OOB scores. \"\n",
      "c:\\users\\sharm\\appdata\\local\\programs\\python\\python36\\lib\\site-packages\\sklearn\\ensemble\\forest.py:456: RuntimeWarning: invalid value encountered in true_divide\n",
      "  predictions[k].sum(axis=1)[:, np.newaxis])\n"
     ]
    },
    {
     "name": "stdout",
     "output_type": "stream",
     "text": [
      "Running:  [15, 'gini', 18, 13]\n"
     ]
    },
    {
     "name": "stderr",
     "output_type": "stream",
     "text": [
      "c:\\users\\sharm\\appdata\\local\\programs\\python\\python36\\lib\\site-packages\\sklearn\\ensemble\\forest.py:451: UserWarning: Some inputs do not have OOB scores. This probably means too few trees were used to compute any reliable oob estimates.\n",
      "  warn(\"Some inputs do not have OOB scores. \"\n",
      "c:\\users\\sharm\\appdata\\local\\programs\\python\\python36\\lib\\site-packages\\sklearn\\ensemble\\forest.py:456: RuntimeWarning: invalid value encountered in true_divide\n",
      "  predictions[k].sum(axis=1)[:, np.newaxis])\n"
     ]
    },
    {
     "name": "stdout",
     "output_type": "stream",
     "text": [
      "Running:  [15, 'gini', 18, 15]\n"
     ]
    },
    {
     "name": "stderr",
     "output_type": "stream",
     "text": [
      "c:\\users\\sharm\\appdata\\local\\programs\\python\\python36\\lib\\site-packages\\sklearn\\ensemble\\forest.py:451: UserWarning: Some inputs do not have OOB scores. This probably means too few trees were used to compute any reliable oob estimates.\n",
      "  warn(\"Some inputs do not have OOB scores. \"\n",
      "c:\\users\\sharm\\appdata\\local\\programs\\python\\python36\\lib\\site-packages\\sklearn\\ensemble\\forest.py:456: RuntimeWarning: invalid value encountered in true_divide\n",
      "  predictions[k].sum(axis=1)[:, np.newaxis])\n"
     ]
    },
    {
     "name": "stdout",
     "output_type": "stream",
     "text": [
      "Running:  [15, 'gini', 18, 17]\n"
     ]
    },
    {
     "name": "stderr",
     "output_type": "stream",
     "text": [
      "c:\\users\\sharm\\appdata\\local\\programs\\python\\python36\\lib\\site-packages\\sklearn\\ensemble\\forest.py:451: UserWarning: Some inputs do not have OOB scores. This probably means too few trees were used to compute any reliable oob estimates.\n",
      "  warn(\"Some inputs do not have OOB scores. \"\n",
      "c:\\users\\sharm\\appdata\\local\\programs\\python\\python36\\lib\\site-packages\\sklearn\\ensemble\\forest.py:456: RuntimeWarning: invalid value encountered in true_divide\n",
      "  predictions[k].sum(axis=1)[:, np.newaxis])\n"
     ]
    },
    {
     "name": "stdout",
     "output_type": "stream",
     "text": [
      "Running:  [15, 'gini', 18, 19]\n"
     ]
    },
    {
     "name": "stderr",
     "output_type": "stream",
     "text": [
      "c:\\users\\sharm\\appdata\\local\\programs\\python\\python36\\lib\\site-packages\\sklearn\\ensemble\\forest.py:451: UserWarning: Some inputs do not have OOB scores. This probably means too few trees were used to compute any reliable oob estimates.\n",
      "  warn(\"Some inputs do not have OOB scores. \"\n",
      "c:\\users\\sharm\\appdata\\local\\programs\\python\\python36\\lib\\site-packages\\sklearn\\ensemble\\forest.py:456: RuntimeWarning: invalid value encountered in true_divide\n",
      "  predictions[k].sum(axis=1)[:, np.newaxis])\n"
     ]
    },
    {
     "name": "stdout",
     "output_type": "stream",
     "text": [
      "Running:  [15, 'gini', 18, 21]\n"
     ]
    },
    {
     "name": "stderr",
     "output_type": "stream",
     "text": [
      "c:\\users\\sharm\\appdata\\local\\programs\\python\\python36\\lib\\site-packages\\sklearn\\ensemble\\forest.py:451: UserWarning: Some inputs do not have OOB scores. This probably means too few trees were used to compute any reliable oob estimates.\n",
      "  warn(\"Some inputs do not have OOB scores. \"\n",
      "c:\\users\\sharm\\appdata\\local\\programs\\python\\python36\\lib\\site-packages\\sklearn\\ensemble\\forest.py:456: RuntimeWarning: invalid value encountered in true_divide\n",
      "  predictions[k].sum(axis=1)[:, np.newaxis])\n"
     ]
    },
    {
     "name": "stdout",
     "output_type": "stream",
     "text": [
      "Running:  [15, 'gini', 18, 23]\n"
     ]
    },
    {
     "name": "stderr",
     "output_type": "stream",
     "text": [
      "c:\\users\\sharm\\appdata\\local\\programs\\python\\python36\\lib\\site-packages\\sklearn\\ensemble\\forest.py:451: UserWarning: Some inputs do not have OOB scores. This probably means too few trees were used to compute any reliable oob estimates.\n",
      "  warn(\"Some inputs do not have OOB scores. \"\n",
      "c:\\users\\sharm\\appdata\\local\\programs\\python\\python36\\lib\\site-packages\\sklearn\\ensemble\\forest.py:456: RuntimeWarning: invalid value encountered in true_divide\n",
      "  predictions[k].sum(axis=1)[:, np.newaxis])\n"
     ]
    },
    {
     "name": "stdout",
     "output_type": "stream",
     "text": [
      "Running:  [15, 'gini', 18, 25]\n"
     ]
    },
    {
     "name": "stderr",
     "output_type": "stream",
     "text": [
      "c:\\users\\sharm\\appdata\\local\\programs\\python\\python36\\lib\\site-packages\\sklearn\\ensemble\\forest.py:451: UserWarning: Some inputs do not have OOB scores. This probably means too few trees were used to compute any reliable oob estimates.\n",
      "  warn(\"Some inputs do not have OOB scores. \"\n",
      "c:\\users\\sharm\\appdata\\local\\programs\\python\\python36\\lib\\site-packages\\sklearn\\ensemble\\forest.py:456: RuntimeWarning: invalid value encountered in true_divide\n",
      "  predictions[k].sum(axis=1)[:, np.newaxis])\n"
     ]
    },
    {
     "name": "stdout",
     "output_type": "stream",
     "text": [
      "Running:  [15, 'gini', 18, 27]\n"
     ]
    },
    {
     "name": "stderr",
     "output_type": "stream",
     "text": [
      "c:\\users\\sharm\\appdata\\local\\programs\\python\\python36\\lib\\site-packages\\sklearn\\ensemble\\forest.py:451: UserWarning: Some inputs do not have OOB scores. This probably means too few trees were used to compute any reliable oob estimates.\n",
      "  warn(\"Some inputs do not have OOB scores. \"\n",
      "c:\\users\\sharm\\appdata\\local\\programs\\python\\python36\\lib\\site-packages\\sklearn\\ensemble\\forest.py:456: RuntimeWarning: invalid value encountered in true_divide\n",
      "  predictions[k].sum(axis=1)[:, np.newaxis])\n"
     ]
    },
    {
     "name": "stdout",
     "output_type": "stream",
     "text": [
      "Running:  [15, 'gini', 18, 29]\n"
     ]
    },
    {
     "name": "stderr",
     "output_type": "stream",
     "text": [
      "c:\\users\\sharm\\appdata\\local\\programs\\python\\python36\\lib\\site-packages\\sklearn\\ensemble\\forest.py:451: UserWarning: Some inputs do not have OOB scores. This probably means too few trees were used to compute any reliable oob estimates.\n",
      "  warn(\"Some inputs do not have OOB scores. \"\n",
      "c:\\users\\sharm\\appdata\\local\\programs\\python\\python36\\lib\\site-packages\\sklearn\\ensemble\\forest.py:456: RuntimeWarning: invalid value encountered in true_divide\n",
      "  predictions[k].sum(axis=1)[:, np.newaxis])\n"
     ]
    },
    {
     "name": "stdout",
     "output_type": "stream",
     "text": [
      "Running:  [15, 'gini', 20, 5]\n"
     ]
    },
    {
     "name": "stderr",
     "output_type": "stream",
     "text": [
      "c:\\users\\sharm\\appdata\\local\\programs\\python\\python36\\lib\\site-packages\\sklearn\\ensemble\\forest.py:451: UserWarning: Some inputs do not have OOB scores. This probably means too few trees were used to compute any reliable oob estimates.\n",
      "  warn(\"Some inputs do not have OOB scores. \"\n",
      "c:\\users\\sharm\\appdata\\local\\programs\\python\\python36\\lib\\site-packages\\sklearn\\ensemble\\forest.py:456: RuntimeWarning: invalid value encountered in true_divide\n",
      "  predictions[k].sum(axis=1)[:, np.newaxis])\n"
     ]
    },
    {
     "name": "stdout",
     "output_type": "stream",
     "text": [
      "Running:  [15, 'gini', 20, 7]\n"
     ]
    },
    {
     "name": "stderr",
     "output_type": "stream",
     "text": [
      "c:\\users\\sharm\\appdata\\local\\programs\\python\\python36\\lib\\site-packages\\sklearn\\ensemble\\forest.py:451: UserWarning: Some inputs do not have OOB scores. This probably means too few trees were used to compute any reliable oob estimates.\n",
      "  warn(\"Some inputs do not have OOB scores. \"\n",
      "c:\\users\\sharm\\appdata\\local\\programs\\python\\python36\\lib\\site-packages\\sklearn\\ensemble\\forest.py:456: RuntimeWarning: invalid value encountered in true_divide\n",
      "  predictions[k].sum(axis=1)[:, np.newaxis])\n"
     ]
    },
    {
     "name": "stdout",
     "output_type": "stream",
     "text": [
      "Running:  [15, 'gini', 20, 9]\n"
     ]
    },
    {
     "name": "stderr",
     "output_type": "stream",
     "text": [
      "c:\\users\\sharm\\appdata\\local\\programs\\python\\python36\\lib\\site-packages\\sklearn\\ensemble\\forest.py:451: UserWarning: Some inputs do not have OOB scores. This probably means too few trees were used to compute any reliable oob estimates.\n",
      "  warn(\"Some inputs do not have OOB scores. \"\n",
      "c:\\users\\sharm\\appdata\\local\\programs\\python\\python36\\lib\\site-packages\\sklearn\\ensemble\\forest.py:456: RuntimeWarning: invalid value encountered in true_divide\n",
      "  predictions[k].sum(axis=1)[:, np.newaxis])\n"
     ]
    },
    {
     "name": "stdout",
     "output_type": "stream",
     "text": [
      "Running:  [15, 'gini', 20, 11]\n"
     ]
    },
    {
     "name": "stderr",
     "output_type": "stream",
     "text": [
      "c:\\users\\sharm\\appdata\\local\\programs\\python\\python36\\lib\\site-packages\\sklearn\\ensemble\\forest.py:451: UserWarning: Some inputs do not have OOB scores. This probably means too few trees were used to compute any reliable oob estimates.\n",
      "  warn(\"Some inputs do not have OOB scores. \"\n",
      "c:\\users\\sharm\\appdata\\local\\programs\\python\\python36\\lib\\site-packages\\sklearn\\ensemble\\forest.py:456: RuntimeWarning: invalid value encountered in true_divide\n",
      "  predictions[k].sum(axis=1)[:, np.newaxis])\n"
     ]
    },
    {
     "name": "stdout",
     "output_type": "stream",
     "text": [
      "Running:  [15, 'gini', 20, 13]\n"
     ]
    },
    {
     "name": "stderr",
     "output_type": "stream",
     "text": [
      "c:\\users\\sharm\\appdata\\local\\programs\\python\\python36\\lib\\site-packages\\sklearn\\ensemble\\forest.py:451: UserWarning: Some inputs do not have OOB scores. This probably means too few trees were used to compute any reliable oob estimates.\n",
      "  warn(\"Some inputs do not have OOB scores. \"\n",
      "c:\\users\\sharm\\appdata\\local\\programs\\python\\python36\\lib\\site-packages\\sklearn\\ensemble\\forest.py:456: RuntimeWarning: invalid value encountered in true_divide\n",
      "  predictions[k].sum(axis=1)[:, np.newaxis])\n"
     ]
    },
    {
     "name": "stdout",
     "output_type": "stream",
     "text": [
      "Running:  [15, 'gini', 20, 15]\n"
     ]
    },
    {
     "name": "stderr",
     "output_type": "stream",
     "text": [
      "c:\\users\\sharm\\appdata\\local\\programs\\python\\python36\\lib\\site-packages\\sklearn\\ensemble\\forest.py:451: UserWarning: Some inputs do not have OOB scores. This probably means too few trees were used to compute any reliable oob estimates.\n",
      "  warn(\"Some inputs do not have OOB scores. \"\n",
      "c:\\users\\sharm\\appdata\\local\\programs\\python\\python36\\lib\\site-packages\\sklearn\\ensemble\\forest.py:456: RuntimeWarning: invalid value encountered in true_divide\n",
      "  predictions[k].sum(axis=1)[:, np.newaxis])\n"
     ]
    },
    {
     "name": "stdout",
     "output_type": "stream",
     "text": [
      "Running:  [15, 'gini', 20, 17]\n"
     ]
    },
    {
     "name": "stderr",
     "output_type": "stream",
     "text": [
      "c:\\users\\sharm\\appdata\\local\\programs\\python\\python36\\lib\\site-packages\\sklearn\\ensemble\\forest.py:451: UserWarning: Some inputs do not have OOB scores. This probably means too few trees were used to compute any reliable oob estimates.\n",
      "  warn(\"Some inputs do not have OOB scores. \"\n",
      "c:\\users\\sharm\\appdata\\local\\programs\\python\\python36\\lib\\site-packages\\sklearn\\ensemble\\forest.py:456: RuntimeWarning: invalid value encountered in true_divide\n",
      "  predictions[k].sum(axis=1)[:, np.newaxis])\n"
     ]
    },
    {
     "name": "stdout",
     "output_type": "stream",
     "text": [
      "Best Accuracy till now:  0.6688897606904668\n",
      "Best Args till now:  [15, 'gini', 20, 17]\n",
      "Running:  [15, 'gini', 20, 19]\n"
     ]
    },
    {
     "name": "stderr",
     "output_type": "stream",
     "text": [
      "c:\\users\\sharm\\appdata\\local\\programs\\python\\python36\\lib\\site-packages\\sklearn\\ensemble\\forest.py:451: UserWarning: Some inputs do not have OOB scores. This probably means too few trees were used to compute any reliable oob estimates.\n",
      "  warn(\"Some inputs do not have OOB scores. \"\n",
      "c:\\users\\sharm\\appdata\\local\\programs\\python\\python36\\lib\\site-packages\\sklearn\\ensemble\\forest.py:456: RuntimeWarning: invalid value encountered in true_divide\n",
      "  predictions[k].sum(axis=1)[:, np.newaxis])\n"
     ]
    },
    {
     "name": "stdout",
     "output_type": "stream",
     "text": [
      "Running:  [15, 'gini', 20, 21]\n"
     ]
    },
    {
     "name": "stderr",
     "output_type": "stream",
     "text": [
      "c:\\users\\sharm\\appdata\\local\\programs\\python\\python36\\lib\\site-packages\\sklearn\\ensemble\\forest.py:451: UserWarning: Some inputs do not have OOB scores. This probably means too few trees were used to compute any reliable oob estimates.\n",
      "  warn(\"Some inputs do not have OOB scores. \"\n",
      "c:\\users\\sharm\\appdata\\local\\programs\\python\\python36\\lib\\site-packages\\sklearn\\ensemble\\forest.py:456: RuntimeWarning: invalid value encountered in true_divide\n",
      "  predictions[k].sum(axis=1)[:, np.newaxis])\n"
     ]
    },
    {
     "name": "stdout",
     "output_type": "stream",
     "text": [
      "Running:  [15, 'gini', 20, 23]\n"
     ]
    },
    {
     "name": "stderr",
     "output_type": "stream",
     "text": [
      "c:\\users\\sharm\\appdata\\local\\programs\\python\\python36\\lib\\site-packages\\sklearn\\ensemble\\forest.py:451: UserWarning: Some inputs do not have OOB scores. This probably means too few trees were used to compute any reliable oob estimates.\n",
      "  warn(\"Some inputs do not have OOB scores. \"\n",
      "c:\\users\\sharm\\appdata\\local\\programs\\python\\python36\\lib\\site-packages\\sklearn\\ensemble\\forest.py:456: RuntimeWarning: invalid value encountered in true_divide\n",
      "  predictions[k].sum(axis=1)[:, np.newaxis])\n"
     ]
    },
    {
     "name": "stdout",
     "output_type": "stream",
     "text": [
      "Running:  [15, 'gini', 20, 25]\n"
     ]
    },
    {
     "name": "stderr",
     "output_type": "stream",
     "text": [
      "c:\\users\\sharm\\appdata\\local\\programs\\python\\python36\\lib\\site-packages\\sklearn\\ensemble\\forest.py:451: UserWarning: Some inputs do not have OOB scores. This probably means too few trees were used to compute any reliable oob estimates.\n",
      "  warn(\"Some inputs do not have OOB scores. \"\n",
      "c:\\users\\sharm\\appdata\\local\\programs\\python\\python36\\lib\\site-packages\\sklearn\\ensemble\\forest.py:456: RuntimeWarning: invalid value encountered in true_divide\n",
      "  predictions[k].sum(axis=1)[:, np.newaxis])\n"
     ]
    },
    {
     "name": "stdout",
     "output_type": "stream",
     "text": [
      "Running:  [15, 'gini', 20, 27]\n"
     ]
    },
    {
     "name": "stderr",
     "output_type": "stream",
     "text": [
      "c:\\users\\sharm\\appdata\\local\\programs\\python\\python36\\lib\\site-packages\\sklearn\\ensemble\\forest.py:451: UserWarning: Some inputs do not have OOB scores. This probably means too few trees were used to compute any reliable oob estimates.\n",
      "  warn(\"Some inputs do not have OOB scores. \"\n",
      "c:\\users\\sharm\\appdata\\local\\programs\\python\\python36\\lib\\site-packages\\sklearn\\ensemble\\forest.py:456: RuntimeWarning: invalid value encountered in true_divide\n",
      "  predictions[k].sum(axis=1)[:, np.newaxis])\n"
     ]
    },
    {
     "name": "stdout",
     "output_type": "stream",
     "text": [
      "Running:  [15, 'gini', 20, 29]\n"
     ]
    },
    {
     "name": "stderr",
     "output_type": "stream",
     "text": [
      "c:\\users\\sharm\\appdata\\local\\programs\\python\\python36\\lib\\site-packages\\sklearn\\ensemble\\forest.py:451: UserWarning: Some inputs do not have OOB scores. This probably means too few trees were used to compute any reliable oob estimates.\n",
      "  warn(\"Some inputs do not have OOB scores. \"\n",
      "c:\\users\\sharm\\appdata\\local\\programs\\python\\python36\\lib\\site-packages\\sklearn\\ensemble\\forest.py:456: RuntimeWarning: invalid value encountered in true_divide\n",
      "  predictions[k].sum(axis=1)[:, np.newaxis])\n"
     ]
    },
    {
     "name": "stdout",
     "output_type": "stream",
     "text": [
      "Running:  [15, 'gini', 22, 5]\n"
     ]
    },
    {
     "name": "stderr",
     "output_type": "stream",
     "text": [
      "c:\\users\\sharm\\appdata\\local\\programs\\python\\python36\\lib\\site-packages\\sklearn\\ensemble\\forest.py:451: UserWarning: Some inputs do not have OOB scores. This probably means too few trees were used to compute any reliable oob estimates.\n",
      "  warn(\"Some inputs do not have OOB scores. \"\n",
      "c:\\users\\sharm\\appdata\\local\\programs\\python\\python36\\lib\\site-packages\\sklearn\\ensemble\\forest.py:456: RuntimeWarning: invalid value encountered in true_divide\n",
      "  predictions[k].sum(axis=1)[:, np.newaxis])\n"
     ]
    },
    {
     "name": "stdout",
     "output_type": "stream",
     "text": [
      "Running:  [15, 'gini', 22, 7]\n"
     ]
    },
    {
     "name": "stderr",
     "output_type": "stream",
     "text": [
      "c:\\users\\sharm\\appdata\\local\\programs\\python\\python36\\lib\\site-packages\\sklearn\\ensemble\\forest.py:451: UserWarning: Some inputs do not have OOB scores. This probably means too few trees were used to compute any reliable oob estimates.\n",
      "  warn(\"Some inputs do not have OOB scores. \"\n",
      "c:\\users\\sharm\\appdata\\local\\programs\\python\\python36\\lib\\site-packages\\sklearn\\ensemble\\forest.py:456: RuntimeWarning: invalid value encountered in true_divide\n",
      "  predictions[k].sum(axis=1)[:, np.newaxis])\n"
     ]
    },
    {
     "name": "stdout",
     "output_type": "stream",
     "text": [
      "Running:  [15, 'gini', 22, 9]\n"
     ]
    },
    {
     "name": "stderr",
     "output_type": "stream",
     "text": [
      "c:\\users\\sharm\\appdata\\local\\programs\\python\\python36\\lib\\site-packages\\sklearn\\ensemble\\forest.py:451: UserWarning: Some inputs do not have OOB scores. This probably means too few trees were used to compute any reliable oob estimates.\n",
      "  warn(\"Some inputs do not have OOB scores. \"\n",
      "c:\\users\\sharm\\appdata\\local\\programs\\python\\python36\\lib\\site-packages\\sklearn\\ensemble\\forest.py:456: RuntimeWarning: invalid value encountered in true_divide\n",
      "  predictions[k].sum(axis=1)[:, np.newaxis])\n"
     ]
    },
    {
     "name": "stdout",
     "output_type": "stream",
     "text": [
      "Running:  [15, 'gini', 22, 11]\n"
     ]
    },
    {
     "name": "stderr",
     "output_type": "stream",
     "text": [
      "c:\\users\\sharm\\appdata\\local\\programs\\python\\python36\\lib\\site-packages\\sklearn\\ensemble\\forest.py:451: UserWarning: Some inputs do not have OOB scores. This probably means too few trees were used to compute any reliable oob estimates.\n",
      "  warn(\"Some inputs do not have OOB scores. \"\n",
      "c:\\users\\sharm\\appdata\\local\\programs\\python\\python36\\lib\\site-packages\\sklearn\\ensemble\\forest.py:456: RuntimeWarning: invalid value encountered in true_divide\n",
      "  predictions[k].sum(axis=1)[:, np.newaxis])\n"
     ]
    },
    {
     "name": "stdout",
     "output_type": "stream",
     "text": [
      "Running:  [15, 'gini', 22, 13]\n"
     ]
    },
    {
     "name": "stderr",
     "output_type": "stream",
     "text": [
      "c:\\users\\sharm\\appdata\\local\\programs\\python\\python36\\lib\\site-packages\\sklearn\\ensemble\\forest.py:451: UserWarning: Some inputs do not have OOB scores. This probably means too few trees were used to compute any reliable oob estimates.\n",
      "  warn(\"Some inputs do not have OOB scores. \"\n",
      "c:\\users\\sharm\\appdata\\local\\programs\\python\\python36\\lib\\site-packages\\sklearn\\ensemble\\forest.py:456: RuntimeWarning: invalid value encountered in true_divide\n",
      "  predictions[k].sum(axis=1)[:, np.newaxis])\n"
     ]
    },
    {
     "name": "stdout",
     "output_type": "stream",
     "text": [
      "Running:  [15, 'gini', 22, 15]\n"
     ]
    },
    {
     "name": "stderr",
     "output_type": "stream",
     "text": [
      "c:\\users\\sharm\\appdata\\local\\programs\\python\\python36\\lib\\site-packages\\sklearn\\ensemble\\forest.py:451: UserWarning: Some inputs do not have OOB scores. This probably means too few trees were used to compute any reliable oob estimates.\n",
      "  warn(\"Some inputs do not have OOB scores. \"\n",
      "c:\\users\\sharm\\appdata\\local\\programs\\python\\python36\\lib\\site-packages\\sklearn\\ensemble\\forest.py:456: RuntimeWarning: invalid value encountered in true_divide\n",
      "  predictions[k].sum(axis=1)[:, np.newaxis])\n"
     ]
    },
    {
     "name": "stdout",
     "output_type": "stream",
     "text": [
      "Running:  [15, 'gini', 22, 17]\n"
     ]
    },
    {
     "name": "stderr",
     "output_type": "stream",
     "text": [
      "c:\\users\\sharm\\appdata\\local\\programs\\python\\python36\\lib\\site-packages\\sklearn\\ensemble\\forest.py:451: UserWarning: Some inputs do not have OOB scores. This probably means too few trees were used to compute any reliable oob estimates.\n",
      "  warn(\"Some inputs do not have OOB scores. \"\n",
      "c:\\users\\sharm\\appdata\\local\\programs\\python\\python36\\lib\\site-packages\\sklearn\\ensemble\\forest.py:456: RuntimeWarning: invalid value encountered in true_divide\n",
      "  predictions[k].sum(axis=1)[:, np.newaxis])\n"
     ]
    },
    {
     "name": "stdout",
     "output_type": "stream",
     "text": [
      "Running:  [15, 'gini', 22, 19]\n"
     ]
    },
    {
     "name": "stderr",
     "output_type": "stream",
     "text": [
      "c:\\users\\sharm\\appdata\\local\\programs\\python\\python36\\lib\\site-packages\\sklearn\\ensemble\\forest.py:451: UserWarning: Some inputs do not have OOB scores. This probably means too few trees were used to compute any reliable oob estimates.\n",
      "  warn(\"Some inputs do not have OOB scores. \"\n",
      "c:\\users\\sharm\\appdata\\local\\programs\\python\\python36\\lib\\site-packages\\sklearn\\ensemble\\forest.py:456: RuntimeWarning: invalid value encountered in true_divide\n",
      "  predictions[k].sum(axis=1)[:, np.newaxis])\n"
     ]
    },
    {
     "name": "stdout",
     "output_type": "stream",
     "text": [
      "Running:  [15, 'gini', 22, 21]\n"
     ]
    },
    {
     "name": "stderr",
     "output_type": "stream",
     "text": [
      "c:\\users\\sharm\\appdata\\local\\programs\\python\\python36\\lib\\site-packages\\sklearn\\ensemble\\forest.py:451: UserWarning: Some inputs do not have OOB scores. This probably means too few trees were used to compute any reliable oob estimates.\n",
      "  warn(\"Some inputs do not have OOB scores. \"\n",
      "c:\\users\\sharm\\appdata\\local\\programs\\python\\python36\\lib\\site-packages\\sklearn\\ensemble\\forest.py:456: RuntimeWarning: invalid value encountered in true_divide\n",
      "  predictions[k].sum(axis=1)[:, np.newaxis])\n"
     ]
    },
    {
     "name": "stdout",
     "output_type": "stream",
     "text": [
      "Running:  [15, 'gini', 22, 23]\n"
     ]
    },
    {
     "name": "stderr",
     "output_type": "stream",
     "text": [
      "c:\\users\\sharm\\appdata\\local\\programs\\python\\python36\\lib\\site-packages\\sklearn\\ensemble\\forest.py:451: UserWarning: Some inputs do not have OOB scores. This probably means too few trees were used to compute any reliable oob estimates.\n",
      "  warn(\"Some inputs do not have OOB scores. \"\n",
      "c:\\users\\sharm\\appdata\\local\\programs\\python\\python36\\lib\\site-packages\\sklearn\\ensemble\\forest.py:456: RuntimeWarning: invalid value encountered in true_divide\n",
      "  predictions[k].sum(axis=1)[:, np.newaxis])\n"
     ]
    },
    {
     "name": "stdout",
     "output_type": "stream",
     "text": [
      "Running:  [15, 'gini', 22, 25]\n"
     ]
    },
    {
     "name": "stderr",
     "output_type": "stream",
     "text": [
      "c:\\users\\sharm\\appdata\\local\\programs\\python\\python36\\lib\\site-packages\\sklearn\\ensemble\\forest.py:451: UserWarning: Some inputs do not have OOB scores. This probably means too few trees were used to compute any reliable oob estimates.\n",
      "  warn(\"Some inputs do not have OOB scores. \"\n",
      "c:\\users\\sharm\\appdata\\local\\programs\\python\\python36\\lib\\site-packages\\sklearn\\ensemble\\forest.py:456: RuntimeWarning: invalid value encountered in true_divide\n",
      "  predictions[k].sum(axis=1)[:, np.newaxis])\n"
     ]
    },
    {
     "name": "stdout",
     "output_type": "stream",
     "text": [
      "Running:  [15, 'gini', 22, 27]\n"
     ]
    },
    {
     "name": "stderr",
     "output_type": "stream",
     "text": [
      "c:\\users\\sharm\\appdata\\local\\programs\\python\\python36\\lib\\site-packages\\sklearn\\ensemble\\forest.py:451: UserWarning: Some inputs do not have OOB scores. This probably means too few trees were used to compute any reliable oob estimates.\n",
      "  warn(\"Some inputs do not have OOB scores. \"\n",
      "c:\\users\\sharm\\appdata\\local\\programs\\python\\python36\\lib\\site-packages\\sklearn\\ensemble\\forest.py:456: RuntimeWarning: invalid value encountered in true_divide\n",
      "  predictions[k].sum(axis=1)[:, np.newaxis])\n"
     ]
    },
    {
     "name": "stdout",
     "output_type": "stream",
     "text": [
      "Running:  [15, 'gini', 22, 29]\n"
     ]
    },
    {
     "name": "stderr",
     "output_type": "stream",
     "text": [
      "c:\\users\\sharm\\appdata\\local\\programs\\python\\python36\\lib\\site-packages\\sklearn\\ensemble\\forest.py:451: UserWarning: Some inputs do not have OOB scores. This probably means too few trees were used to compute any reliable oob estimates.\n",
      "  warn(\"Some inputs do not have OOB scores. \"\n",
      "c:\\users\\sharm\\appdata\\local\\programs\\python\\python36\\lib\\site-packages\\sklearn\\ensemble\\forest.py:456: RuntimeWarning: invalid value encountered in true_divide\n",
      "  predictions[k].sum(axis=1)[:, np.newaxis])\n"
     ]
    },
    {
     "name": "stdout",
     "output_type": "stream",
     "text": [
      "Running:  [15, 'gini', 24, 5]\n"
     ]
    },
    {
     "name": "stderr",
     "output_type": "stream",
     "text": [
      "c:\\users\\sharm\\appdata\\local\\programs\\python\\python36\\lib\\site-packages\\sklearn\\ensemble\\forest.py:451: UserWarning: Some inputs do not have OOB scores. This probably means too few trees were used to compute any reliable oob estimates.\n",
      "  warn(\"Some inputs do not have OOB scores. \"\n",
      "c:\\users\\sharm\\appdata\\local\\programs\\python\\python36\\lib\\site-packages\\sklearn\\ensemble\\forest.py:456: RuntimeWarning: invalid value encountered in true_divide\n",
      "  predictions[k].sum(axis=1)[:, np.newaxis])\n"
     ]
    },
    {
     "name": "stdout",
     "output_type": "stream",
     "text": [
      "Running:  [15, 'gini', 24, 7]\n"
     ]
    },
    {
     "name": "stderr",
     "output_type": "stream",
     "text": [
      "c:\\users\\sharm\\appdata\\local\\programs\\python\\python36\\lib\\site-packages\\sklearn\\ensemble\\forest.py:451: UserWarning: Some inputs do not have OOB scores. This probably means too few trees were used to compute any reliable oob estimates.\n",
      "  warn(\"Some inputs do not have OOB scores. \"\n",
      "c:\\users\\sharm\\appdata\\local\\programs\\python\\python36\\lib\\site-packages\\sklearn\\ensemble\\forest.py:456: RuntimeWarning: invalid value encountered in true_divide\n",
      "  predictions[k].sum(axis=1)[:, np.newaxis])\n"
     ]
    },
    {
     "name": "stdout",
     "output_type": "stream",
     "text": [
      "Running:  [15, 'gini', 24, 9]\n"
     ]
    },
    {
     "name": "stderr",
     "output_type": "stream",
     "text": [
      "c:\\users\\sharm\\appdata\\local\\programs\\python\\python36\\lib\\site-packages\\sklearn\\ensemble\\forest.py:451: UserWarning: Some inputs do not have OOB scores. This probably means too few trees were used to compute any reliable oob estimates.\n",
      "  warn(\"Some inputs do not have OOB scores. \"\n",
      "c:\\users\\sharm\\appdata\\local\\programs\\python\\python36\\lib\\site-packages\\sklearn\\ensemble\\forest.py:456: RuntimeWarning: invalid value encountered in true_divide\n",
      "  predictions[k].sum(axis=1)[:, np.newaxis])\n"
     ]
    },
    {
     "name": "stdout",
     "output_type": "stream",
     "text": [
      "Running:  [15, 'gini', 24, 11]\n"
     ]
    },
    {
     "name": "stderr",
     "output_type": "stream",
     "text": [
      "c:\\users\\sharm\\appdata\\local\\programs\\python\\python36\\lib\\site-packages\\sklearn\\ensemble\\forest.py:451: UserWarning: Some inputs do not have OOB scores. This probably means too few trees were used to compute any reliable oob estimates.\n",
      "  warn(\"Some inputs do not have OOB scores. \"\n",
      "c:\\users\\sharm\\appdata\\local\\programs\\python\\python36\\lib\\site-packages\\sklearn\\ensemble\\forest.py:456: RuntimeWarning: invalid value encountered in true_divide\n",
      "  predictions[k].sum(axis=1)[:, np.newaxis])\n"
     ]
    },
    {
     "name": "stdout",
     "output_type": "stream",
     "text": [
      "Running:  [15, 'gini', 24, 13]\n"
     ]
    },
    {
     "name": "stderr",
     "output_type": "stream",
     "text": [
      "c:\\users\\sharm\\appdata\\local\\programs\\python\\python36\\lib\\site-packages\\sklearn\\ensemble\\forest.py:451: UserWarning: Some inputs do not have OOB scores. This probably means too few trees were used to compute any reliable oob estimates.\n",
      "  warn(\"Some inputs do not have OOB scores. \"\n",
      "c:\\users\\sharm\\appdata\\local\\programs\\python\\python36\\lib\\site-packages\\sklearn\\ensemble\\forest.py:456: RuntimeWarning: invalid value encountered in true_divide\n",
      "  predictions[k].sum(axis=1)[:, np.newaxis])\n"
     ]
    },
    {
     "name": "stdout",
     "output_type": "stream",
     "text": [
      "Running:  [15, 'gini', 24, 15]\n"
     ]
    },
    {
     "name": "stderr",
     "output_type": "stream",
     "text": [
      "c:\\users\\sharm\\appdata\\local\\programs\\python\\python36\\lib\\site-packages\\sklearn\\ensemble\\forest.py:451: UserWarning: Some inputs do not have OOB scores. This probably means too few trees were used to compute any reliable oob estimates.\n",
      "  warn(\"Some inputs do not have OOB scores. \"\n",
      "c:\\users\\sharm\\appdata\\local\\programs\\python\\python36\\lib\\site-packages\\sklearn\\ensemble\\forest.py:456: RuntimeWarning: invalid value encountered in true_divide\n",
      "  predictions[k].sum(axis=1)[:, np.newaxis])\n"
     ]
    },
    {
     "name": "stdout",
     "output_type": "stream",
     "text": [
      "Running:  [15, 'gini', 24, 17]\n"
     ]
    },
    {
     "name": "stderr",
     "output_type": "stream",
     "text": [
      "c:\\users\\sharm\\appdata\\local\\programs\\python\\python36\\lib\\site-packages\\sklearn\\ensemble\\forest.py:451: UserWarning: Some inputs do not have OOB scores. This probably means too few trees were used to compute any reliable oob estimates.\n",
      "  warn(\"Some inputs do not have OOB scores. \"\n",
      "c:\\users\\sharm\\appdata\\local\\programs\\python\\python36\\lib\\site-packages\\sklearn\\ensemble\\forest.py:456: RuntimeWarning: invalid value encountered in true_divide\n",
      "  predictions[k].sum(axis=1)[:, np.newaxis])\n"
     ]
    },
    {
     "name": "stdout",
     "output_type": "stream",
     "text": [
      "Running:  [15, 'gini', 24, 19]\n"
     ]
    },
    {
     "name": "stderr",
     "output_type": "stream",
     "text": [
      "c:\\users\\sharm\\appdata\\local\\programs\\python\\python36\\lib\\site-packages\\sklearn\\ensemble\\forest.py:451: UserWarning: Some inputs do not have OOB scores. This probably means too few trees were used to compute any reliable oob estimates.\n",
      "  warn(\"Some inputs do not have OOB scores. \"\n",
      "c:\\users\\sharm\\appdata\\local\\programs\\python\\python36\\lib\\site-packages\\sklearn\\ensemble\\forest.py:456: RuntimeWarning: invalid value encountered in true_divide\n",
      "  predictions[k].sum(axis=1)[:, np.newaxis])\n"
     ]
    },
    {
     "name": "stdout",
     "output_type": "stream",
     "text": [
      "Running:  [15, 'gini', 24, 21]\n"
     ]
    },
    {
     "name": "stderr",
     "output_type": "stream",
     "text": [
      "c:\\users\\sharm\\appdata\\local\\programs\\python\\python36\\lib\\site-packages\\sklearn\\ensemble\\forest.py:451: UserWarning: Some inputs do not have OOB scores. This probably means too few trees were used to compute any reliable oob estimates.\n",
      "  warn(\"Some inputs do not have OOB scores. \"\n",
      "c:\\users\\sharm\\appdata\\local\\programs\\python\\python36\\lib\\site-packages\\sklearn\\ensemble\\forest.py:456: RuntimeWarning: invalid value encountered in true_divide\n",
      "  predictions[k].sum(axis=1)[:, np.newaxis])\n"
     ]
    },
    {
     "name": "stdout",
     "output_type": "stream",
     "text": [
      "Running:  [15, 'gini', 24, 23]\n"
     ]
    },
    {
     "name": "stderr",
     "output_type": "stream",
     "text": [
      "c:\\users\\sharm\\appdata\\local\\programs\\python\\python36\\lib\\site-packages\\sklearn\\ensemble\\forest.py:451: UserWarning: Some inputs do not have OOB scores. This probably means too few trees were used to compute any reliable oob estimates.\n",
      "  warn(\"Some inputs do not have OOB scores. \"\n",
      "c:\\users\\sharm\\appdata\\local\\programs\\python\\python36\\lib\\site-packages\\sklearn\\ensemble\\forest.py:456: RuntimeWarning: invalid value encountered in true_divide\n",
      "  predictions[k].sum(axis=1)[:, np.newaxis])\n"
     ]
    },
    {
     "name": "stdout",
     "output_type": "stream",
     "text": [
      "Running:  [15, 'gini', 24, 25]\n"
     ]
    },
    {
     "name": "stderr",
     "output_type": "stream",
     "text": [
      "c:\\users\\sharm\\appdata\\local\\programs\\python\\python36\\lib\\site-packages\\sklearn\\ensemble\\forest.py:451: UserWarning: Some inputs do not have OOB scores. This probably means too few trees were used to compute any reliable oob estimates.\n",
      "  warn(\"Some inputs do not have OOB scores. \"\n",
      "c:\\users\\sharm\\appdata\\local\\programs\\python\\python36\\lib\\site-packages\\sklearn\\ensemble\\forest.py:456: RuntimeWarning: invalid value encountered in true_divide\n",
      "  predictions[k].sum(axis=1)[:, np.newaxis])\n"
     ]
    },
    {
     "name": "stdout",
     "output_type": "stream",
     "text": [
      "Running:  [15, 'gini', 24, 27]\n"
     ]
    },
    {
     "name": "stderr",
     "output_type": "stream",
     "text": [
      "c:\\users\\sharm\\appdata\\local\\programs\\python\\python36\\lib\\site-packages\\sklearn\\ensemble\\forest.py:451: UserWarning: Some inputs do not have OOB scores. This probably means too few trees were used to compute any reliable oob estimates.\n",
      "  warn(\"Some inputs do not have OOB scores. \"\n",
      "c:\\users\\sharm\\appdata\\local\\programs\\python\\python36\\lib\\site-packages\\sklearn\\ensemble\\forest.py:456: RuntimeWarning: invalid value encountered in true_divide\n",
      "  predictions[k].sum(axis=1)[:, np.newaxis])\n"
     ]
    },
    {
     "name": "stdout",
     "output_type": "stream",
     "text": [
      "Running:  [15, 'gini', 24, 29]\n"
     ]
    },
    {
     "name": "stderr",
     "output_type": "stream",
     "text": [
      "c:\\users\\sharm\\appdata\\local\\programs\\python\\python36\\lib\\site-packages\\sklearn\\ensemble\\forest.py:451: UserWarning: Some inputs do not have OOB scores. This probably means too few trees were used to compute any reliable oob estimates.\n",
      "  warn(\"Some inputs do not have OOB scores. \"\n",
      "c:\\users\\sharm\\appdata\\local\\programs\\python\\python36\\lib\\site-packages\\sklearn\\ensemble\\forest.py:456: RuntimeWarning: invalid value encountered in true_divide\n",
      "  predictions[k].sum(axis=1)[:, np.newaxis])\n"
     ]
    },
    {
     "name": "stdout",
     "output_type": "stream",
     "text": [
      "Running:  [15, 'gini', 26, 5]\n"
     ]
    },
    {
     "name": "stderr",
     "output_type": "stream",
     "text": [
      "c:\\users\\sharm\\appdata\\local\\programs\\python\\python36\\lib\\site-packages\\sklearn\\ensemble\\forest.py:451: UserWarning: Some inputs do not have OOB scores. This probably means too few trees were used to compute any reliable oob estimates.\n",
      "  warn(\"Some inputs do not have OOB scores. \"\n",
      "c:\\users\\sharm\\appdata\\local\\programs\\python\\python36\\lib\\site-packages\\sklearn\\ensemble\\forest.py:456: RuntimeWarning: invalid value encountered in true_divide\n",
      "  predictions[k].sum(axis=1)[:, np.newaxis])\n"
     ]
    },
    {
     "name": "stdout",
     "output_type": "stream",
     "text": [
      "Running:  [15, 'gini', 26, 7]\n"
     ]
    },
    {
     "name": "stderr",
     "output_type": "stream",
     "text": [
      "c:\\users\\sharm\\appdata\\local\\programs\\python\\python36\\lib\\site-packages\\sklearn\\ensemble\\forest.py:451: UserWarning: Some inputs do not have OOB scores. This probably means too few trees were used to compute any reliable oob estimates.\n",
      "  warn(\"Some inputs do not have OOB scores. \"\n",
      "c:\\users\\sharm\\appdata\\local\\programs\\python\\python36\\lib\\site-packages\\sklearn\\ensemble\\forest.py:456: RuntimeWarning: invalid value encountered in true_divide\n",
      "  predictions[k].sum(axis=1)[:, np.newaxis])\n"
     ]
    },
    {
     "name": "stdout",
     "output_type": "stream",
     "text": [
      "Running:  [15, 'gini', 26, 9]\n"
     ]
    },
    {
     "name": "stderr",
     "output_type": "stream",
     "text": [
      "c:\\users\\sharm\\appdata\\local\\programs\\python\\python36\\lib\\site-packages\\sklearn\\ensemble\\forest.py:451: UserWarning: Some inputs do not have OOB scores. This probably means too few trees were used to compute any reliable oob estimates.\n",
      "  warn(\"Some inputs do not have OOB scores. \"\n",
      "c:\\users\\sharm\\appdata\\local\\programs\\python\\python36\\lib\\site-packages\\sklearn\\ensemble\\forest.py:456: RuntimeWarning: invalid value encountered in true_divide\n",
      "  predictions[k].sum(axis=1)[:, np.newaxis])\n"
     ]
    },
    {
     "name": "stdout",
     "output_type": "stream",
     "text": [
      "Running:  [15, 'gini', 26, 11]\n"
     ]
    },
    {
     "name": "stderr",
     "output_type": "stream",
     "text": [
      "c:\\users\\sharm\\appdata\\local\\programs\\python\\python36\\lib\\site-packages\\sklearn\\ensemble\\forest.py:451: UserWarning: Some inputs do not have OOB scores. This probably means too few trees were used to compute any reliable oob estimates.\n",
      "  warn(\"Some inputs do not have OOB scores. \"\n",
      "c:\\users\\sharm\\appdata\\local\\programs\\python\\python36\\lib\\site-packages\\sklearn\\ensemble\\forest.py:456: RuntimeWarning: invalid value encountered in true_divide\n",
      "  predictions[k].sum(axis=1)[:, np.newaxis])\n"
     ]
    },
    {
     "name": "stdout",
     "output_type": "stream",
     "text": [
      "Running:  [15, 'gini', 26, 13]\n"
     ]
    },
    {
     "name": "stderr",
     "output_type": "stream",
     "text": [
      "c:\\users\\sharm\\appdata\\local\\programs\\python\\python36\\lib\\site-packages\\sklearn\\ensemble\\forest.py:451: UserWarning: Some inputs do not have OOB scores. This probably means too few trees were used to compute any reliable oob estimates.\n",
      "  warn(\"Some inputs do not have OOB scores. \"\n",
      "c:\\users\\sharm\\appdata\\local\\programs\\python\\python36\\lib\\site-packages\\sklearn\\ensemble\\forest.py:456: RuntimeWarning: invalid value encountered in true_divide\n",
      "  predictions[k].sum(axis=1)[:, np.newaxis])\n"
     ]
    },
    {
     "name": "stdout",
     "output_type": "stream",
     "text": [
      "Running:  [15, 'gini', 26, 15]\n"
     ]
    },
    {
     "name": "stderr",
     "output_type": "stream",
     "text": [
      "c:\\users\\sharm\\appdata\\local\\programs\\python\\python36\\lib\\site-packages\\sklearn\\ensemble\\forest.py:451: UserWarning: Some inputs do not have OOB scores. This probably means too few trees were used to compute any reliable oob estimates.\n",
      "  warn(\"Some inputs do not have OOB scores. \"\n",
      "c:\\users\\sharm\\appdata\\local\\programs\\python\\python36\\lib\\site-packages\\sklearn\\ensemble\\forest.py:456: RuntimeWarning: invalid value encountered in true_divide\n",
      "  predictions[k].sum(axis=1)[:, np.newaxis])\n"
     ]
    },
    {
     "name": "stdout",
     "output_type": "stream",
     "text": [
      "Running:  [15, 'gini', 26, 17]\n"
     ]
    },
    {
     "name": "stderr",
     "output_type": "stream",
     "text": [
      "c:\\users\\sharm\\appdata\\local\\programs\\python\\python36\\lib\\site-packages\\sklearn\\ensemble\\forest.py:451: UserWarning: Some inputs do not have OOB scores. This probably means too few trees were used to compute any reliable oob estimates.\n",
      "  warn(\"Some inputs do not have OOB scores. \"\n",
      "c:\\users\\sharm\\appdata\\local\\programs\\python\\python36\\lib\\site-packages\\sklearn\\ensemble\\forest.py:456: RuntimeWarning: invalid value encountered in true_divide\n",
      "  predictions[k].sum(axis=1)[:, np.newaxis])\n"
     ]
    },
    {
     "name": "stdout",
     "output_type": "stream",
     "text": [
      "Running:  [15, 'gini', 26, 19]\n"
     ]
    },
    {
     "name": "stderr",
     "output_type": "stream",
     "text": [
      "c:\\users\\sharm\\appdata\\local\\programs\\python\\python36\\lib\\site-packages\\sklearn\\ensemble\\forest.py:451: UserWarning: Some inputs do not have OOB scores. This probably means too few trees were used to compute any reliable oob estimates.\n",
      "  warn(\"Some inputs do not have OOB scores. \"\n",
      "c:\\users\\sharm\\appdata\\local\\programs\\python\\python36\\lib\\site-packages\\sklearn\\ensemble\\forest.py:456: RuntimeWarning: invalid value encountered in true_divide\n",
      "  predictions[k].sum(axis=1)[:, np.newaxis])\n"
     ]
    },
    {
     "name": "stdout",
     "output_type": "stream",
     "text": [
      "Running:  [15, 'gini', 26, 21]\n"
     ]
    },
    {
     "name": "stderr",
     "output_type": "stream",
     "text": [
      "c:\\users\\sharm\\appdata\\local\\programs\\python\\python36\\lib\\site-packages\\sklearn\\ensemble\\forest.py:451: UserWarning: Some inputs do not have OOB scores. This probably means too few trees were used to compute any reliable oob estimates.\n",
      "  warn(\"Some inputs do not have OOB scores. \"\n",
      "c:\\users\\sharm\\appdata\\local\\programs\\python\\python36\\lib\\site-packages\\sklearn\\ensemble\\forest.py:456: RuntimeWarning: invalid value encountered in true_divide\n",
      "  predictions[k].sum(axis=1)[:, np.newaxis])\n"
     ]
    },
    {
     "name": "stdout",
     "output_type": "stream",
     "text": [
      "Running:  [15, 'gini', 26, 23]\n"
     ]
    },
    {
     "name": "stderr",
     "output_type": "stream",
     "text": [
      "c:\\users\\sharm\\appdata\\local\\programs\\python\\python36\\lib\\site-packages\\sklearn\\ensemble\\forest.py:451: UserWarning: Some inputs do not have OOB scores. This probably means too few trees were used to compute any reliable oob estimates.\n",
      "  warn(\"Some inputs do not have OOB scores. \"\n",
      "c:\\users\\sharm\\appdata\\local\\programs\\python\\python36\\lib\\site-packages\\sklearn\\ensemble\\forest.py:456: RuntimeWarning: invalid value encountered in true_divide\n",
      "  predictions[k].sum(axis=1)[:, np.newaxis])\n"
     ]
    },
    {
     "name": "stdout",
     "output_type": "stream",
     "text": [
      "Running:  [15, 'gini', 26, 25]\n"
     ]
    },
    {
     "name": "stderr",
     "output_type": "stream",
     "text": [
      "c:\\users\\sharm\\appdata\\local\\programs\\python\\python36\\lib\\site-packages\\sklearn\\ensemble\\forest.py:451: UserWarning: Some inputs do not have OOB scores. This probably means too few trees were used to compute any reliable oob estimates.\n",
      "  warn(\"Some inputs do not have OOB scores. \"\n",
      "c:\\users\\sharm\\appdata\\local\\programs\\python\\python36\\lib\\site-packages\\sklearn\\ensemble\\forest.py:456: RuntimeWarning: invalid value encountered in true_divide\n",
      "  predictions[k].sum(axis=1)[:, np.newaxis])\n"
     ]
    },
    {
     "name": "stdout",
     "output_type": "stream",
     "text": [
      "Running:  [15, 'gini', 26, 27]\n"
     ]
    },
    {
     "name": "stderr",
     "output_type": "stream",
     "text": [
      "c:\\users\\sharm\\appdata\\local\\programs\\python\\python36\\lib\\site-packages\\sklearn\\ensemble\\forest.py:451: UserWarning: Some inputs do not have OOB scores. This probably means too few trees were used to compute any reliable oob estimates.\n",
      "  warn(\"Some inputs do not have OOB scores. \"\n",
      "c:\\users\\sharm\\appdata\\local\\programs\\python\\python36\\lib\\site-packages\\sklearn\\ensemble\\forest.py:456: RuntimeWarning: invalid value encountered in true_divide\n",
      "  predictions[k].sum(axis=1)[:, np.newaxis])\n"
     ]
    },
    {
     "name": "stdout",
     "output_type": "stream",
     "text": [
      "Running:  [15, 'gini', 26, 29]\n"
     ]
    },
    {
     "name": "stderr",
     "output_type": "stream",
     "text": [
      "c:\\users\\sharm\\appdata\\local\\programs\\python\\python36\\lib\\site-packages\\sklearn\\ensemble\\forest.py:451: UserWarning: Some inputs do not have OOB scores. This probably means too few trees were used to compute any reliable oob estimates.\n",
      "  warn(\"Some inputs do not have OOB scores. \"\n",
      "c:\\users\\sharm\\appdata\\local\\programs\\python\\python36\\lib\\site-packages\\sklearn\\ensemble\\forest.py:456: RuntimeWarning: invalid value encountered in true_divide\n",
      "  predictions[k].sum(axis=1)[:, np.newaxis])\n"
     ]
    },
    {
     "name": "stdout",
     "output_type": "stream",
     "text": [
      "Running:  [15, 'gini', 28, 5]\n"
     ]
    },
    {
     "name": "stderr",
     "output_type": "stream",
     "text": [
      "c:\\users\\sharm\\appdata\\local\\programs\\python\\python36\\lib\\site-packages\\sklearn\\ensemble\\forest.py:451: UserWarning: Some inputs do not have OOB scores. This probably means too few trees were used to compute any reliable oob estimates.\n",
      "  warn(\"Some inputs do not have OOB scores. \"\n",
      "c:\\users\\sharm\\appdata\\local\\programs\\python\\python36\\lib\\site-packages\\sklearn\\ensemble\\forest.py:456: RuntimeWarning: invalid value encountered in true_divide\n",
      "  predictions[k].sum(axis=1)[:, np.newaxis])\n"
     ]
    },
    {
     "name": "stdout",
     "output_type": "stream",
     "text": [
      "Running:  [15, 'gini', 28, 7]\n"
     ]
    },
    {
     "name": "stderr",
     "output_type": "stream",
     "text": [
      "c:\\users\\sharm\\appdata\\local\\programs\\python\\python36\\lib\\site-packages\\sklearn\\ensemble\\forest.py:451: UserWarning: Some inputs do not have OOB scores. This probably means too few trees were used to compute any reliable oob estimates.\n",
      "  warn(\"Some inputs do not have OOB scores. \"\n",
      "c:\\users\\sharm\\appdata\\local\\programs\\python\\python36\\lib\\site-packages\\sklearn\\ensemble\\forest.py:456: RuntimeWarning: invalid value encountered in true_divide\n",
      "  predictions[k].sum(axis=1)[:, np.newaxis])\n"
     ]
    },
    {
     "name": "stdout",
     "output_type": "stream",
     "text": [
      "Running:  [15, 'gini', 28, 9]\n"
     ]
    },
    {
     "name": "stderr",
     "output_type": "stream",
     "text": [
      "c:\\users\\sharm\\appdata\\local\\programs\\python\\python36\\lib\\site-packages\\sklearn\\ensemble\\forest.py:451: UserWarning: Some inputs do not have OOB scores. This probably means too few trees were used to compute any reliable oob estimates.\n",
      "  warn(\"Some inputs do not have OOB scores. \"\n",
      "c:\\users\\sharm\\appdata\\local\\programs\\python\\python36\\lib\\site-packages\\sklearn\\ensemble\\forest.py:456: RuntimeWarning: invalid value encountered in true_divide\n",
      "  predictions[k].sum(axis=1)[:, np.newaxis])\n"
     ]
    },
    {
     "name": "stdout",
     "output_type": "stream",
     "text": [
      "Running:  [15, 'gini', 28, 11]\n"
     ]
    },
    {
     "name": "stderr",
     "output_type": "stream",
     "text": [
      "c:\\users\\sharm\\appdata\\local\\programs\\python\\python36\\lib\\site-packages\\sklearn\\ensemble\\forest.py:451: UserWarning: Some inputs do not have OOB scores. This probably means too few trees were used to compute any reliable oob estimates.\n",
      "  warn(\"Some inputs do not have OOB scores. \"\n",
      "c:\\users\\sharm\\appdata\\local\\programs\\python\\python36\\lib\\site-packages\\sklearn\\ensemble\\forest.py:456: RuntimeWarning: invalid value encountered in true_divide\n",
      "  predictions[k].sum(axis=1)[:, np.newaxis])\n"
     ]
    },
    {
     "name": "stdout",
     "output_type": "stream",
     "text": [
      "Running:  [15, 'gini', 28, 13]\n"
     ]
    },
    {
     "name": "stderr",
     "output_type": "stream",
     "text": [
      "c:\\users\\sharm\\appdata\\local\\programs\\python\\python36\\lib\\site-packages\\sklearn\\ensemble\\forest.py:451: UserWarning: Some inputs do not have OOB scores. This probably means too few trees were used to compute any reliable oob estimates.\n",
      "  warn(\"Some inputs do not have OOB scores. \"\n",
      "c:\\users\\sharm\\appdata\\local\\programs\\python\\python36\\lib\\site-packages\\sklearn\\ensemble\\forest.py:456: RuntimeWarning: invalid value encountered in true_divide\n",
      "  predictions[k].sum(axis=1)[:, np.newaxis])\n"
     ]
    },
    {
     "name": "stdout",
     "output_type": "stream",
     "text": [
      "Running:  [15, 'gini', 28, 15]\n"
     ]
    },
    {
     "name": "stderr",
     "output_type": "stream",
     "text": [
      "c:\\users\\sharm\\appdata\\local\\programs\\python\\python36\\lib\\site-packages\\sklearn\\ensemble\\forest.py:451: UserWarning: Some inputs do not have OOB scores. This probably means too few trees were used to compute any reliable oob estimates.\n",
      "  warn(\"Some inputs do not have OOB scores. \"\n",
      "c:\\users\\sharm\\appdata\\local\\programs\\python\\python36\\lib\\site-packages\\sklearn\\ensemble\\forest.py:456: RuntimeWarning: invalid value encountered in true_divide\n",
      "  predictions[k].sum(axis=1)[:, np.newaxis])\n"
     ]
    },
    {
     "name": "stdout",
     "output_type": "stream",
     "text": [
      "Running:  [15, 'gini', 28, 17]\n"
     ]
    },
    {
     "name": "stderr",
     "output_type": "stream",
     "text": [
      "c:\\users\\sharm\\appdata\\local\\programs\\python\\python36\\lib\\site-packages\\sklearn\\ensemble\\forest.py:451: UserWarning: Some inputs do not have OOB scores. This probably means too few trees were used to compute any reliable oob estimates.\n",
      "  warn(\"Some inputs do not have OOB scores. \"\n",
      "c:\\users\\sharm\\appdata\\local\\programs\\python\\python36\\lib\\site-packages\\sklearn\\ensemble\\forest.py:456: RuntimeWarning: invalid value encountered in true_divide\n",
      "  predictions[k].sum(axis=1)[:, np.newaxis])\n"
     ]
    },
    {
     "name": "stdout",
     "output_type": "stream",
     "text": [
      "Running:  [15, 'gini', 28, 19]\n"
     ]
    },
    {
     "name": "stderr",
     "output_type": "stream",
     "text": [
      "c:\\users\\sharm\\appdata\\local\\programs\\python\\python36\\lib\\site-packages\\sklearn\\ensemble\\forest.py:451: UserWarning: Some inputs do not have OOB scores. This probably means too few trees were used to compute any reliable oob estimates.\n",
      "  warn(\"Some inputs do not have OOB scores. \"\n",
      "c:\\users\\sharm\\appdata\\local\\programs\\python\\python36\\lib\\site-packages\\sklearn\\ensemble\\forest.py:456: RuntimeWarning: invalid value encountered in true_divide\n",
      "  predictions[k].sum(axis=1)[:, np.newaxis])\n"
     ]
    },
    {
     "name": "stdout",
     "output_type": "stream",
     "text": [
      "Running:  [15, 'gini', 28, 21]\n"
     ]
    },
    {
     "name": "stderr",
     "output_type": "stream",
     "text": [
      "c:\\users\\sharm\\appdata\\local\\programs\\python\\python36\\lib\\site-packages\\sklearn\\ensemble\\forest.py:451: UserWarning: Some inputs do not have OOB scores. This probably means too few trees were used to compute any reliable oob estimates.\n",
      "  warn(\"Some inputs do not have OOB scores. \"\n",
      "c:\\users\\sharm\\appdata\\local\\programs\\python\\python36\\lib\\site-packages\\sklearn\\ensemble\\forest.py:456: RuntimeWarning: invalid value encountered in true_divide\n",
      "  predictions[k].sum(axis=1)[:, np.newaxis])\n"
     ]
    },
    {
     "name": "stdout",
     "output_type": "stream",
     "text": [
      "Running:  [15, 'gini', 28, 23]\n"
     ]
    },
    {
     "name": "stderr",
     "output_type": "stream",
     "text": [
      "c:\\users\\sharm\\appdata\\local\\programs\\python\\python36\\lib\\site-packages\\sklearn\\ensemble\\forest.py:451: UserWarning: Some inputs do not have OOB scores. This probably means too few trees were used to compute any reliable oob estimates.\n",
      "  warn(\"Some inputs do not have OOB scores. \"\n",
      "c:\\users\\sharm\\appdata\\local\\programs\\python\\python36\\lib\\site-packages\\sklearn\\ensemble\\forest.py:456: RuntimeWarning: invalid value encountered in true_divide\n",
      "  predictions[k].sum(axis=1)[:, np.newaxis])\n"
     ]
    },
    {
     "name": "stdout",
     "output_type": "stream",
     "text": [
      "Running:  [15, 'gini', 28, 25]\n"
     ]
    },
    {
     "name": "stderr",
     "output_type": "stream",
     "text": [
      "c:\\users\\sharm\\appdata\\local\\programs\\python\\python36\\lib\\site-packages\\sklearn\\ensemble\\forest.py:451: UserWarning: Some inputs do not have OOB scores. This probably means too few trees were used to compute any reliable oob estimates.\n",
      "  warn(\"Some inputs do not have OOB scores. \"\n",
      "c:\\users\\sharm\\appdata\\local\\programs\\python\\python36\\lib\\site-packages\\sklearn\\ensemble\\forest.py:456: RuntimeWarning: invalid value encountered in true_divide\n",
      "  predictions[k].sum(axis=1)[:, np.newaxis])\n"
     ]
    },
    {
     "name": "stdout",
     "output_type": "stream",
     "text": [
      "Running:  [15, 'gini', 28, 27]\n"
     ]
    },
    {
     "name": "stderr",
     "output_type": "stream",
     "text": [
      "c:\\users\\sharm\\appdata\\local\\programs\\python\\python36\\lib\\site-packages\\sklearn\\ensemble\\forest.py:451: UserWarning: Some inputs do not have OOB scores. This probably means too few trees were used to compute any reliable oob estimates.\n",
      "  warn(\"Some inputs do not have OOB scores. \"\n",
      "c:\\users\\sharm\\appdata\\local\\programs\\python\\python36\\lib\\site-packages\\sklearn\\ensemble\\forest.py:456: RuntimeWarning: invalid value encountered in true_divide\n",
      "  predictions[k].sum(axis=1)[:, np.newaxis])\n"
     ]
    },
    {
     "name": "stdout",
     "output_type": "stream",
     "text": [
      "Running:  [15, 'gini', 28, 29]\n"
     ]
    },
    {
     "name": "stderr",
     "output_type": "stream",
     "text": [
      "c:\\users\\sharm\\appdata\\local\\programs\\python\\python36\\lib\\site-packages\\sklearn\\ensemble\\forest.py:451: UserWarning: Some inputs do not have OOB scores. This probably means too few trees were used to compute any reliable oob estimates.\n",
      "  warn(\"Some inputs do not have OOB scores. \"\n",
      "c:\\users\\sharm\\appdata\\local\\programs\\python\\python36\\lib\\site-packages\\sklearn\\ensemble\\forest.py:456: RuntimeWarning: invalid value encountered in true_divide\n",
      "  predictions[k].sum(axis=1)[:, np.newaxis])\n"
     ]
    },
    {
     "name": "stdout",
     "output_type": "stream",
     "text": [
      "Running:  [15, 'gini', 30, 5]\n"
     ]
    },
    {
     "name": "stderr",
     "output_type": "stream",
     "text": [
      "c:\\users\\sharm\\appdata\\local\\programs\\python\\python36\\lib\\site-packages\\sklearn\\ensemble\\forest.py:451: UserWarning: Some inputs do not have OOB scores. This probably means too few trees were used to compute any reliable oob estimates.\n",
      "  warn(\"Some inputs do not have OOB scores. \"\n",
      "c:\\users\\sharm\\appdata\\local\\programs\\python\\python36\\lib\\site-packages\\sklearn\\ensemble\\forest.py:456: RuntimeWarning: invalid value encountered in true_divide\n",
      "  predictions[k].sum(axis=1)[:, np.newaxis])\n"
     ]
    },
    {
     "name": "stdout",
     "output_type": "stream",
     "text": [
      "Running:  [15, 'gini', 30, 7]\n"
     ]
    },
    {
     "name": "stderr",
     "output_type": "stream",
     "text": [
      "c:\\users\\sharm\\appdata\\local\\programs\\python\\python36\\lib\\site-packages\\sklearn\\ensemble\\forest.py:451: UserWarning: Some inputs do not have OOB scores. This probably means too few trees were used to compute any reliable oob estimates.\n",
      "  warn(\"Some inputs do not have OOB scores. \"\n",
      "c:\\users\\sharm\\appdata\\local\\programs\\python\\python36\\lib\\site-packages\\sklearn\\ensemble\\forest.py:456: RuntimeWarning: invalid value encountered in true_divide\n",
      "  predictions[k].sum(axis=1)[:, np.newaxis])\n"
     ]
    },
    {
     "name": "stdout",
     "output_type": "stream",
     "text": [
      "Running:  [15, 'gini', 30, 9]\n"
     ]
    },
    {
     "name": "stderr",
     "output_type": "stream",
     "text": [
      "c:\\users\\sharm\\appdata\\local\\programs\\python\\python36\\lib\\site-packages\\sklearn\\ensemble\\forest.py:451: UserWarning: Some inputs do not have OOB scores. This probably means too few trees were used to compute any reliable oob estimates.\n",
      "  warn(\"Some inputs do not have OOB scores. \"\n",
      "c:\\users\\sharm\\appdata\\local\\programs\\python\\python36\\lib\\site-packages\\sklearn\\ensemble\\forest.py:456: RuntimeWarning: invalid value encountered in true_divide\n",
      "  predictions[k].sum(axis=1)[:, np.newaxis])\n"
     ]
    },
    {
     "name": "stdout",
     "output_type": "stream",
     "text": [
      "Running:  [15, 'gini', 30, 11]\n"
     ]
    },
    {
     "name": "stderr",
     "output_type": "stream",
     "text": [
      "c:\\users\\sharm\\appdata\\local\\programs\\python\\python36\\lib\\site-packages\\sklearn\\ensemble\\forest.py:451: UserWarning: Some inputs do not have OOB scores. This probably means too few trees were used to compute any reliable oob estimates.\n",
      "  warn(\"Some inputs do not have OOB scores. \"\n",
      "c:\\users\\sharm\\appdata\\local\\programs\\python\\python36\\lib\\site-packages\\sklearn\\ensemble\\forest.py:456: RuntimeWarning: invalid value encountered in true_divide\n",
      "  predictions[k].sum(axis=1)[:, np.newaxis])\n"
     ]
    },
    {
     "name": "stdout",
     "output_type": "stream",
     "text": [
      "Running:  [15, 'gini', 30, 13]\n"
     ]
    },
    {
     "name": "stderr",
     "output_type": "stream",
     "text": [
      "c:\\users\\sharm\\appdata\\local\\programs\\python\\python36\\lib\\site-packages\\sklearn\\ensemble\\forest.py:451: UserWarning: Some inputs do not have OOB scores. This probably means too few trees were used to compute any reliable oob estimates.\n",
      "  warn(\"Some inputs do not have OOB scores. \"\n",
      "c:\\users\\sharm\\appdata\\local\\programs\\python\\python36\\lib\\site-packages\\sklearn\\ensemble\\forest.py:456: RuntimeWarning: invalid value encountered in true_divide\n",
      "  predictions[k].sum(axis=1)[:, np.newaxis])\n"
     ]
    },
    {
     "name": "stdout",
     "output_type": "stream",
     "text": [
      "Running:  [15, 'gini', 30, 15]\n"
     ]
    },
    {
     "name": "stderr",
     "output_type": "stream",
     "text": [
      "c:\\users\\sharm\\appdata\\local\\programs\\python\\python36\\lib\\site-packages\\sklearn\\ensemble\\forest.py:451: UserWarning: Some inputs do not have OOB scores. This probably means too few trees were used to compute any reliable oob estimates.\n",
      "  warn(\"Some inputs do not have OOB scores. \"\n",
      "c:\\users\\sharm\\appdata\\local\\programs\\python\\python36\\lib\\site-packages\\sklearn\\ensemble\\forest.py:456: RuntimeWarning: invalid value encountered in true_divide\n",
      "  predictions[k].sum(axis=1)[:, np.newaxis])\n"
     ]
    },
    {
     "name": "stdout",
     "output_type": "stream",
     "text": [
      "Running:  [15, 'gini', 30, 17]\n"
     ]
    },
    {
     "name": "stderr",
     "output_type": "stream",
     "text": [
      "c:\\users\\sharm\\appdata\\local\\programs\\python\\python36\\lib\\site-packages\\sklearn\\ensemble\\forest.py:451: UserWarning: Some inputs do not have OOB scores. This probably means too few trees were used to compute any reliable oob estimates.\n",
      "  warn(\"Some inputs do not have OOB scores. \"\n",
      "c:\\users\\sharm\\appdata\\local\\programs\\python\\python36\\lib\\site-packages\\sklearn\\ensemble\\forest.py:456: RuntimeWarning: invalid value encountered in true_divide\n",
      "  predictions[k].sum(axis=1)[:, np.newaxis])\n"
     ]
    },
    {
     "name": "stdout",
     "output_type": "stream",
     "text": [
      "Running:  [15, 'gini', 30, 19]\n"
     ]
    },
    {
     "name": "stderr",
     "output_type": "stream",
     "text": [
      "c:\\users\\sharm\\appdata\\local\\programs\\python\\python36\\lib\\site-packages\\sklearn\\ensemble\\forest.py:451: UserWarning: Some inputs do not have OOB scores. This probably means too few trees were used to compute any reliable oob estimates.\n",
      "  warn(\"Some inputs do not have OOB scores. \"\n",
      "c:\\users\\sharm\\appdata\\local\\programs\\python\\python36\\lib\\site-packages\\sklearn\\ensemble\\forest.py:456: RuntimeWarning: invalid value encountered in true_divide\n",
      "  predictions[k].sum(axis=1)[:, np.newaxis])\n"
     ]
    },
    {
     "name": "stdout",
     "output_type": "stream",
     "text": [
      "Running:  [15, 'gini', 30, 21]\n"
     ]
    },
    {
     "name": "stderr",
     "output_type": "stream",
     "text": [
      "c:\\users\\sharm\\appdata\\local\\programs\\python\\python36\\lib\\site-packages\\sklearn\\ensemble\\forest.py:451: UserWarning: Some inputs do not have OOB scores. This probably means too few trees were used to compute any reliable oob estimates.\n",
      "  warn(\"Some inputs do not have OOB scores. \"\n",
      "c:\\users\\sharm\\appdata\\local\\programs\\python\\python36\\lib\\site-packages\\sklearn\\ensemble\\forest.py:456: RuntimeWarning: invalid value encountered in true_divide\n",
      "  predictions[k].sum(axis=1)[:, np.newaxis])\n"
     ]
    },
    {
     "name": "stdout",
     "output_type": "stream",
     "text": [
      "Running:  [15, 'gini', 30, 23]\n"
     ]
    },
    {
     "name": "stderr",
     "output_type": "stream",
     "text": [
      "c:\\users\\sharm\\appdata\\local\\programs\\python\\python36\\lib\\site-packages\\sklearn\\ensemble\\forest.py:451: UserWarning: Some inputs do not have OOB scores. This probably means too few trees were used to compute any reliable oob estimates.\n",
      "  warn(\"Some inputs do not have OOB scores. \"\n",
      "c:\\users\\sharm\\appdata\\local\\programs\\python\\python36\\lib\\site-packages\\sklearn\\ensemble\\forest.py:456: RuntimeWarning: invalid value encountered in true_divide\n",
      "  predictions[k].sum(axis=1)[:, np.newaxis])\n"
     ]
    },
    {
     "name": "stdout",
     "output_type": "stream",
     "text": [
      "Running:  [15, 'gini', 30, 25]\n"
     ]
    },
    {
     "name": "stderr",
     "output_type": "stream",
     "text": [
      "c:\\users\\sharm\\appdata\\local\\programs\\python\\python36\\lib\\site-packages\\sklearn\\ensemble\\forest.py:451: UserWarning: Some inputs do not have OOB scores. This probably means too few trees were used to compute any reliable oob estimates.\n",
      "  warn(\"Some inputs do not have OOB scores. \"\n",
      "c:\\users\\sharm\\appdata\\local\\programs\\python\\python36\\lib\\site-packages\\sklearn\\ensemble\\forest.py:456: RuntimeWarning: invalid value encountered in true_divide\n",
      "  predictions[k].sum(axis=1)[:, np.newaxis])\n"
     ]
    },
    {
     "name": "stdout",
     "output_type": "stream",
     "text": [
      "Running:  [15, 'gini', 30, 27]\n"
     ]
    },
    {
     "name": "stderr",
     "output_type": "stream",
     "text": [
      "c:\\users\\sharm\\appdata\\local\\programs\\python\\python36\\lib\\site-packages\\sklearn\\ensemble\\forest.py:451: UserWarning: Some inputs do not have OOB scores. This probably means too few trees were used to compute any reliable oob estimates.\n",
      "  warn(\"Some inputs do not have OOB scores. \"\n",
      "c:\\users\\sharm\\appdata\\local\\programs\\python\\python36\\lib\\site-packages\\sklearn\\ensemble\\forest.py:456: RuntimeWarning: invalid value encountered in true_divide\n",
      "  predictions[k].sum(axis=1)[:, np.newaxis])\n"
     ]
    },
    {
     "name": "stdout",
     "output_type": "stream",
     "text": [
      "Running:  [15, 'gini', 30, 29]\n"
     ]
    },
    {
     "name": "stderr",
     "output_type": "stream",
     "text": [
      "c:\\users\\sharm\\appdata\\local\\programs\\python\\python36\\lib\\site-packages\\sklearn\\ensemble\\forest.py:451: UserWarning: Some inputs do not have OOB scores. This probably means too few trees were used to compute any reliable oob estimates.\n",
      "  warn(\"Some inputs do not have OOB scores. \"\n",
      "c:\\users\\sharm\\appdata\\local\\programs\\python\\python36\\lib\\site-packages\\sklearn\\ensemble\\forest.py:456: RuntimeWarning: invalid value encountered in true_divide\n",
      "  predictions[k].sum(axis=1)[:, np.newaxis])\n"
     ]
    },
    {
     "name": "stdout",
     "output_type": "stream",
     "text": [
      "Running:  [15, 'gini', 32, 5]\n"
     ]
    },
    {
     "name": "stderr",
     "output_type": "stream",
     "text": [
      "c:\\users\\sharm\\appdata\\local\\programs\\python\\python36\\lib\\site-packages\\sklearn\\ensemble\\forest.py:451: UserWarning: Some inputs do not have OOB scores. This probably means too few trees were used to compute any reliable oob estimates.\n",
      "  warn(\"Some inputs do not have OOB scores. \"\n",
      "c:\\users\\sharm\\appdata\\local\\programs\\python\\python36\\lib\\site-packages\\sklearn\\ensemble\\forest.py:456: RuntimeWarning: invalid value encountered in true_divide\n",
      "  predictions[k].sum(axis=1)[:, np.newaxis])\n"
     ]
    },
    {
     "name": "stdout",
     "output_type": "stream",
     "text": [
      "Running:  [15, 'gini', 32, 7]\n"
     ]
    },
    {
     "name": "stderr",
     "output_type": "stream",
     "text": [
      "c:\\users\\sharm\\appdata\\local\\programs\\python\\python36\\lib\\site-packages\\sklearn\\ensemble\\forest.py:451: UserWarning: Some inputs do not have OOB scores. This probably means too few trees were used to compute any reliable oob estimates.\n",
      "  warn(\"Some inputs do not have OOB scores. \"\n",
      "c:\\users\\sharm\\appdata\\local\\programs\\python\\python36\\lib\\site-packages\\sklearn\\ensemble\\forest.py:456: RuntimeWarning: invalid value encountered in true_divide\n",
      "  predictions[k].sum(axis=1)[:, np.newaxis])\n"
     ]
    },
    {
     "name": "stdout",
     "output_type": "stream",
     "text": [
      "Running:  [15, 'gini', 32, 9]\n"
     ]
    },
    {
     "name": "stderr",
     "output_type": "stream",
     "text": [
      "c:\\users\\sharm\\appdata\\local\\programs\\python\\python36\\lib\\site-packages\\sklearn\\ensemble\\forest.py:451: UserWarning: Some inputs do not have OOB scores. This probably means too few trees were used to compute any reliable oob estimates.\n",
      "  warn(\"Some inputs do not have OOB scores. \"\n",
      "c:\\users\\sharm\\appdata\\local\\programs\\python\\python36\\lib\\site-packages\\sklearn\\ensemble\\forest.py:456: RuntimeWarning: invalid value encountered in true_divide\n",
      "  predictions[k].sum(axis=1)[:, np.newaxis])\n"
     ]
    },
    {
     "name": "stdout",
     "output_type": "stream",
     "text": [
      "Running:  [15, 'gini', 32, 11]\n"
     ]
    },
    {
     "name": "stderr",
     "output_type": "stream",
     "text": [
      "c:\\users\\sharm\\appdata\\local\\programs\\python\\python36\\lib\\site-packages\\sklearn\\ensemble\\forest.py:451: UserWarning: Some inputs do not have OOB scores. This probably means too few trees were used to compute any reliable oob estimates.\n",
      "  warn(\"Some inputs do not have OOB scores. \"\n",
      "c:\\users\\sharm\\appdata\\local\\programs\\python\\python36\\lib\\site-packages\\sklearn\\ensemble\\forest.py:456: RuntimeWarning: invalid value encountered in true_divide\n",
      "  predictions[k].sum(axis=1)[:, np.newaxis])\n"
     ]
    },
    {
     "name": "stdout",
     "output_type": "stream",
     "text": [
      "Running:  [15, 'gini', 32, 13]\n"
     ]
    },
    {
     "name": "stderr",
     "output_type": "stream",
     "text": [
      "c:\\users\\sharm\\appdata\\local\\programs\\python\\python36\\lib\\site-packages\\sklearn\\ensemble\\forest.py:451: UserWarning: Some inputs do not have OOB scores. This probably means too few trees were used to compute any reliable oob estimates.\n",
      "  warn(\"Some inputs do not have OOB scores. \"\n",
      "c:\\users\\sharm\\appdata\\local\\programs\\python\\python36\\lib\\site-packages\\sklearn\\ensemble\\forest.py:456: RuntimeWarning: invalid value encountered in true_divide\n",
      "  predictions[k].sum(axis=1)[:, np.newaxis])\n"
     ]
    },
    {
     "name": "stdout",
     "output_type": "stream",
     "text": [
      "Running:  [15, 'gini', 32, 15]\n"
     ]
    },
    {
     "name": "stderr",
     "output_type": "stream",
     "text": [
      "c:\\users\\sharm\\appdata\\local\\programs\\python\\python36\\lib\\site-packages\\sklearn\\ensemble\\forest.py:451: UserWarning: Some inputs do not have OOB scores. This probably means too few trees were used to compute any reliable oob estimates.\n",
      "  warn(\"Some inputs do not have OOB scores. \"\n",
      "c:\\users\\sharm\\appdata\\local\\programs\\python\\python36\\lib\\site-packages\\sklearn\\ensemble\\forest.py:456: RuntimeWarning: invalid value encountered in true_divide\n",
      "  predictions[k].sum(axis=1)[:, np.newaxis])\n"
     ]
    },
    {
     "name": "stdout",
     "output_type": "stream",
     "text": [
      "Running:  [15, 'gini', 32, 17]\n"
     ]
    },
    {
     "name": "stderr",
     "output_type": "stream",
     "text": [
      "c:\\users\\sharm\\appdata\\local\\programs\\python\\python36\\lib\\site-packages\\sklearn\\ensemble\\forest.py:451: UserWarning: Some inputs do not have OOB scores. This probably means too few trees were used to compute any reliable oob estimates.\n",
      "  warn(\"Some inputs do not have OOB scores. \"\n",
      "c:\\users\\sharm\\appdata\\local\\programs\\python\\python36\\lib\\site-packages\\sklearn\\ensemble\\forest.py:456: RuntimeWarning: invalid value encountered in true_divide\n",
      "  predictions[k].sum(axis=1)[:, np.newaxis])\n"
     ]
    },
    {
     "name": "stdout",
     "output_type": "stream",
     "text": [
      "Running:  [15, 'gini', 32, 19]\n"
     ]
    },
    {
     "name": "stderr",
     "output_type": "stream",
     "text": [
      "c:\\users\\sharm\\appdata\\local\\programs\\python\\python36\\lib\\site-packages\\sklearn\\ensemble\\forest.py:451: UserWarning: Some inputs do not have OOB scores. This probably means too few trees were used to compute any reliable oob estimates.\n",
      "  warn(\"Some inputs do not have OOB scores. \"\n",
      "c:\\users\\sharm\\appdata\\local\\programs\\python\\python36\\lib\\site-packages\\sklearn\\ensemble\\forest.py:456: RuntimeWarning: invalid value encountered in true_divide\n",
      "  predictions[k].sum(axis=1)[:, np.newaxis])\n"
     ]
    },
    {
     "name": "stdout",
     "output_type": "stream",
     "text": [
      "Running:  [15, 'gini', 32, 21]\n"
     ]
    },
    {
     "name": "stderr",
     "output_type": "stream",
     "text": [
      "c:\\users\\sharm\\appdata\\local\\programs\\python\\python36\\lib\\site-packages\\sklearn\\ensemble\\forest.py:451: UserWarning: Some inputs do not have OOB scores. This probably means too few trees were used to compute any reliable oob estimates.\n",
      "  warn(\"Some inputs do not have OOB scores. \"\n",
      "c:\\users\\sharm\\appdata\\local\\programs\\python\\python36\\lib\\site-packages\\sklearn\\ensemble\\forest.py:456: RuntimeWarning: invalid value encountered in true_divide\n",
      "  predictions[k].sum(axis=1)[:, np.newaxis])\n"
     ]
    },
    {
     "name": "stdout",
     "output_type": "stream",
     "text": [
      "Best Accuracy till now:  0.6759513534719498\n",
      "Best Args till now:  [15, 'gini', 32, 21]\n",
      "Running:  [15, 'gini', 32, 23]\n"
     ]
    },
    {
     "name": "stderr",
     "output_type": "stream",
     "text": [
      "c:\\users\\sharm\\appdata\\local\\programs\\python\\python36\\lib\\site-packages\\sklearn\\ensemble\\forest.py:451: UserWarning: Some inputs do not have OOB scores. This probably means too few trees were used to compute any reliable oob estimates.\n",
      "  warn(\"Some inputs do not have OOB scores. \"\n",
      "c:\\users\\sharm\\appdata\\local\\programs\\python\\python36\\lib\\site-packages\\sklearn\\ensemble\\forest.py:456: RuntimeWarning: invalid value encountered in true_divide\n",
      "  predictions[k].sum(axis=1)[:, np.newaxis])\n"
     ]
    },
    {
     "name": "stdout",
     "output_type": "stream",
     "text": [
      "Running:  [15, 'gini', 32, 25]\n"
     ]
    },
    {
     "name": "stderr",
     "output_type": "stream",
     "text": [
      "c:\\users\\sharm\\appdata\\local\\programs\\python\\python36\\lib\\site-packages\\sklearn\\ensemble\\forest.py:451: UserWarning: Some inputs do not have OOB scores. This probably means too few trees were used to compute any reliable oob estimates.\n",
      "  warn(\"Some inputs do not have OOB scores. \"\n",
      "c:\\users\\sharm\\appdata\\local\\programs\\python\\python36\\lib\\site-packages\\sklearn\\ensemble\\forest.py:456: RuntimeWarning: invalid value encountered in true_divide\n",
      "  predictions[k].sum(axis=1)[:, np.newaxis])\n"
     ]
    },
    {
     "name": "stdout",
     "output_type": "stream",
     "text": [
      "Running:  [15, 'gini', 32, 27]\n"
     ]
    },
    {
     "name": "stderr",
     "output_type": "stream",
     "text": [
      "c:\\users\\sharm\\appdata\\local\\programs\\python\\python36\\lib\\site-packages\\sklearn\\ensemble\\forest.py:451: UserWarning: Some inputs do not have OOB scores. This probably means too few trees were used to compute any reliable oob estimates.\n",
      "  warn(\"Some inputs do not have OOB scores. \"\n",
      "c:\\users\\sharm\\appdata\\local\\programs\\python\\python36\\lib\\site-packages\\sklearn\\ensemble\\forest.py:456: RuntimeWarning: invalid value encountered in true_divide\n",
      "  predictions[k].sum(axis=1)[:, np.newaxis])\n"
     ]
    },
    {
     "name": "stdout",
     "output_type": "stream",
     "text": [
      "Running:  [15, 'gini', 32, 29]\n"
     ]
    },
    {
     "name": "stderr",
     "output_type": "stream",
     "text": [
      "c:\\users\\sharm\\appdata\\local\\programs\\python\\python36\\lib\\site-packages\\sklearn\\ensemble\\forest.py:451: UserWarning: Some inputs do not have OOB scores. This probably means too few trees were used to compute any reliable oob estimates.\n",
      "  warn(\"Some inputs do not have OOB scores. \"\n",
      "c:\\users\\sharm\\appdata\\local\\programs\\python\\python36\\lib\\site-packages\\sklearn\\ensemble\\forest.py:456: RuntimeWarning: invalid value encountered in true_divide\n",
      "  predictions[k].sum(axis=1)[:, np.newaxis])\n"
     ]
    },
    {
     "name": "stdout",
     "output_type": "stream",
     "text": [
      "Running:  [15, 'gini', 34, 5]\n"
     ]
    },
    {
     "name": "stderr",
     "output_type": "stream",
     "text": [
      "c:\\users\\sharm\\appdata\\local\\programs\\python\\python36\\lib\\site-packages\\sklearn\\ensemble\\forest.py:451: UserWarning: Some inputs do not have OOB scores. This probably means too few trees were used to compute any reliable oob estimates.\n",
      "  warn(\"Some inputs do not have OOB scores. \"\n",
      "c:\\users\\sharm\\appdata\\local\\programs\\python\\python36\\lib\\site-packages\\sklearn\\ensemble\\forest.py:456: RuntimeWarning: invalid value encountered in true_divide\n",
      "  predictions[k].sum(axis=1)[:, np.newaxis])\n"
     ]
    },
    {
     "name": "stdout",
     "output_type": "stream",
     "text": [
      "Running:  [15, 'gini', 34, 7]\n"
     ]
    },
    {
     "name": "stderr",
     "output_type": "stream",
     "text": [
      "c:\\users\\sharm\\appdata\\local\\programs\\python\\python36\\lib\\site-packages\\sklearn\\ensemble\\forest.py:451: UserWarning: Some inputs do not have OOB scores. This probably means too few trees were used to compute any reliable oob estimates.\n",
      "  warn(\"Some inputs do not have OOB scores. \"\n",
      "c:\\users\\sharm\\appdata\\local\\programs\\python\\python36\\lib\\site-packages\\sklearn\\ensemble\\forest.py:456: RuntimeWarning: invalid value encountered in true_divide\n",
      "  predictions[k].sum(axis=1)[:, np.newaxis])\n"
     ]
    },
    {
     "name": "stdout",
     "output_type": "stream",
     "text": [
      "Running:  [15, 'gini', 34, 9]\n"
     ]
    },
    {
     "name": "stderr",
     "output_type": "stream",
     "text": [
      "c:\\users\\sharm\\appdata\\local\\programs\\python\\python36\\lib\\site-packages\\sklearn\\ensemble\\forest.py:451: UserWarning: Some inputs do not have OOB scores. This probably means too few trees were used to compute any reliable oob estimates.\n",
      "  warn(\"Some inputs do not have OOB scores. \"\n",
      "c:\\users\\sharm\\appdata\\local\\programs\\python\\python36\\lib\\site-packages\\sklearn\\ensemble\\forest.py:456: RuntimeWarning: invalid value encountered in true_divide\n",
      "  predictions[k].sum(axis=1)[:, np.newaxis])\n"
     ]
    },
    {
     "name": "stdout",
     "output_type": "stream",
     "text": [
      "Running:  [15, 'gini', 34, 11]\n"
     ]
    },
    {
     "name": "stderr",
     "output_type": "stream",
     "text": [
      "c:\\users\\sharm\\appdata\\local\\programs\\python\\python36\\lib\\site-packages\\sklearn\\ensemble\\forest.py:451: UserWarning: Some inputs do not have OOB scores. This probably means too few trees were used to compute any reliable oob estimates.\n",
      "  warn(\"Some inputs do not have OOB scores. \"\n",
      "c:\\users\\sharm\\appdata\\local\\programs\\python\\python36\\lib\\site-packages\\sklearn\\ensemble\\forest.py:456: RuntimeWarning: invalid value encountered in true_divide\n",
      "  predictions[k].sum(axis=1)[:, np.newaxis])\n"
     ]
    },
    {
     "name": "stdout",
     "output_type": "stream",
     "text": [
      "Running:  [15, 'gini', 34, 13]\n"
     ]
    },
    {
     "name": "stderr",
     "output_type": "stream",
     "text": [
      "c:\\users\\sharm\\appdata\\local\\programs\\python\\python36\\lib\\site-packages\\sklearn\\ensemble\\forest.py:451: UserWarning: Some inputs do not have OOB scores. This probably means too few trees were used to compute any reliable oob estimates.\n",
      "  warn(\"Some inputs do not have OOB scores. \"\n",
      "c:\\users\\sharm\\appdata\\local\\programs\\python\\python36\\lib\\site-packages\\sklearn\\ensemble\\forest.py:456: RuntimeWarning: invalid value encountered in true_divide\n",
      "  predictions[k].sum(axis=1)[:, np.newaxis])\n"
     ]
    },
    {
     "name": "stdout",
     "output_type": "stream",
     "text": [
      "Running:  [15, 'gini', 34, 15]\n"
     ]
    },
    {
     "name": "stderr",
     "output_type": "stream",
     "text": [
      "c:\\users\\sharm\\appdata\\local\\programs\\python\\python36\\lib\\site-packages\\sklearn\\ensemble\\forest.py:451: UserWarning: Some inputs do not have OOB scores. This probably means too few trees were used to compute any reliable oob estimates.\n",
      "  warn(\"Some inputs do not have OOB scores. \"\n",
      "c:\\users\\sharm\\appdata\\local\\programs\\python\\python36\\lib\\site-packages\\sklearn\\ensemble\\forest.py:456: RuntimeWarning: invalid value encountered in true_divide\n",
      "  predictions[k].sum(axis=1)[:, np.newaxis])\n"
     ]
    },
    {
     "name": "stdout",
     "output_type": "stream",
     "text": [
      "Running:  [15, 'gini', 34, 17]\n"
     ]
    },
    {
     "name": "stderr",
     "output_type": "stream",
     "text": [
      "c:\\users\\sharm\\appdata\\local\\programs\\python\\python36\\lib\\site-packages\\sklearn\\ensemble\\forest.py:451: UserWarning: Some inputs do not have OOB scores. This probably means too few trees were used to compute any reliable oob estimates.\n",
      "  warn(\"Some inputs do not have OOB scores. \"\n",
      "c:\\users\\sharm\\appdata\\local\\programs\\python\\python36\\lib\\site-packages\\sklearn\\ensemble\\forest.py:456: RuntimeWarning: invalid value encountered in true_divide\n",
      "  predictions[k].sum(axis=1)[:, np.newaxis])\n"
     ]
    },
    {
     "name": "stdout",
     "output_type": "stream",
     "text": [
      "Running:  [15, 'gini', 34, 19]\n"
     ]
    },
    {
     "name": "stderr",
     "output_type": "stream",
     "text": [
      "c:\\users\\sharm\\appdata\\local\\programs\\python\\python36\\lib\\site-packages\\sklearn\\ensemble\\forest.py:451: UserWarning: Some inputs do not have OOB scores. This probably means too few trees were used to compute any reliable oob estimates.\n",
      "  warn(\"Some inputs do not have OOB scores. \"\n",
      "c:\\users\\sharm\\appdata\\local\\programs\\python\\python36\\lib\\site-packages\\sklearn\\ensemble\\forest.py:456: RuntimeWarning: invalid value encountered in true_divide\n",
      "  predictions[k].sum(axis=1)[:, np.newaxis])\n"
     ]
    },
    {
     "name": "stdout",
     "output_type": "stream",
     "text": [
      "Running:  [15, 'gini', 34, 21]\n"
     ]
    },
    {
     "name": "stderr",
     "output_type": "stream",
     "text": [
      "c:\\users\\sharm\\appdata\\local\\programs\\python\\python36\\lib\\site-packages\\sklearn\\ensemble\\forest.py:451: UserWarning: Some inputs do not have OOB scores. This probably means too few trees were used to compute any reliable oob estimates.\n",
      "  warn(\"Some inputs do not have OOB scores. \"\n",
      "c:\\users\\sharm\\appdata\\local\\programs\\python\\python36\\lib\\site-packages\\sklearn\\ensemble\\forest.py:456: RuntimeWarning: invalid value encountered in true_divide\n",
      "  predictions[k].sum(axis=1)[:, np.newaxis])\n"
     ]
    },
    {
     "name": "stdout",
     "output_type": "stream",
     "text": [
      "Running:  [15, 'gini', 34, 23]\n"
     ]
    },
    {
     "name": "stderr",
     "output_type": "stream",
     "text": [
      "c:\\users\\sharm\\appdata\\local\\programs\\python\\python36\\lib\\site-packages\\sklearn\\ensemble\\forest.py:451: UserWarning: Some inputs do not have OOB scores. This probably means too few trees were used to compute any reliable oob estimates.\n",
      "  warn(\"Some inputs do not have OOB scores. \"\n",
      "c:\\users\\sharm\\appdata\\local\\programs\\python\\python36\\lib\\site-packages\\sklearn\\ensemble\\forest.py:456: RuntimeWarning: invalid value encountered in true_divide\n",
      "  predictions[k].sum(axis=1)[:, np.newaxis])\n"
     ]
    },
    {
     "name": "stdout",
     "output_type": "stream",
     "text": [
      "Running:  [15, 'gini', 34, 25]\n"
     ]
    },
    {
     "name": "stderr",
     "output_type": "stream",
     "text": [
      "c:\\users\\sharm\\appdata\\local\\programs\\python\\python36\\lib\\site-packages\\sklearn\\ensemble\\forest.py:451: UserWarning: Some inputs do not have OOB scores. This probably means too few trees were used to compute any reliable oob estimates.\n",
      "  warn(\"Some inputs do not have OOB scores. \"\n",
      "c:\\users\\sharm\\appdata\\local\\programs\\python\\python36\\lib\\site-packages\\sklearn\\ensemble\\forest.py:456: RuntimeWarning: invalid value encountered in true_divide\n",
      "  predictions[k].sum(axis=1)[:, np.newaxis])\n"
     ]
    },
    {
     "name": "stdout",
     "output_type": "stream",
     "text": [
      "Running:  [15, 'gini', 34, 27]\n"
     ]
    },
    {
     "name": "stderr",
     "output_type": "stream",
     "text": [
      "c:\\users\\sharm\\appdata\\local\\programs\\python\\python36\\lib\\site-packages\\sklearn\\ensemble\\forest.py:451: UserWarning: Some inputs do not have OOB scores. This probably means too few trees were used to compute any reliable oob estimates.\n",
      "  warn(\"Some inputs do not have OOB scores. \"\n",
      "c:\\users\\sharm\\appdata\\local\\programs\\python\\python36\\lib\\site-packages\\sklearn\\ensemble\\forest.py:456: RuntimeWarning: invalid value encountered in true_divide\n",
      "  predictions[k].sum(axis=1)[:, np.newaxis])\n"
     ]
    },
    {
     "name": "stdout",
     "output_type": "stream",
     "text": [
      "Running:  [15, 'gini', 34, 29]\n"
     ]
    },
    {
     "name": "stderr",
     "output_type": "stream",
     "text": [
      "c:\\users\\sharm\\appdata\\local\\programs\\python\\python36\\lib\\site-packages\\sklearn\\ensemble\\forest.py:451: UserWarning: Some inputs do not have OOB scores. This probably means too few trees were used to compute any reliable oob estimates.\n",
      "  warn(\"Some inputs do not have OOB scores. \"\n",
      "c:\\users\\sharm\\appdata\\local\\programs\\python\\python36\\lib\\site-packages\\sklearn\\ensemble\\forest.py:456: RuntimeWarning: invalid value encountered in true_divide\n",
      "  predictions[k].sum(axis=1)[:, np.newaxis])\n"
     ]
    },
    {
     "name": "stdout",
     "output_type": "stream",
     "text": [
      "Running:  [15, 'gini', 36, 5]\n"
     ]
    },
    {
     "name": "stderr",
     "output_type": "stream",
     "text": [
      "c:\\users\\sharm\\appdata\\local\\programs\\python\\python36\\lib\\site-packages\\sklearn\\ensemble\\forest.py:451: UserWarning: Some inputs do not have OOB scores. This probably means too few trees were used to compute any reliable oob estimates.\n",
      "  warn(\"Some inputs do not have OOB scores. \"\n",
      "c:\\users\\sharm\\appdata\\local\\programs\\python\\python36\\lib\\site-packages\\sklearn\\ensemble\\forest.py:456: RuntimeWarning: invalid value encountered in true_divide\n",
      "  predictions[k].sum(axis=1)[:, np.newaxis])\n"
     ]
    },
    {
     "name": "stdout",
     "output_type": "stream",
     "text": [
      "Running:  [15, 'gini', 36, 7]\n"
     ]
    },
    {
     "name": "stderr",
     "output_type": "stream",
     "text": [
      "c:\\users\\sharm\\appdata\\local\\programs\\python\\python36\\lib\\site-packages\\sklearn\\ensemble\\forest.py:451: UserWarning: Some inputs do not have OOB scores. This probably means too few trees were used to compute any reliable oob estimates.\n",
      "  warn(\"Some inputs do not have OOB scores. \"\n",
      "c:\\users\\sharm\\appdata\\local\\programs\\python\\python36\\lib\\site-packages\\sklearn\\ensemble\\forest.py:456: RuntimeWarning: invalid value encountered in true_divide\n",
      "  predictions[k].sum(axis=1)[:, np.newaxis])\n"
     ]
    },
    {
     "name": "stdout",
     "output_type": "stream",
     "text": [
      "Running:  [15, 'gini', 36, 9]\n"
     ]
    },
    {
     "name": "stderr",
     "output_type": "stream",
     "text": [
      "c:\\users\\sharm\\appdata\\local\\programs\\python\\python36\\lib\\site-packages\\sklearn\\ensemble\\forest.py:451: UserWarning: Some inputs do not have OOB scores. This probably means too few trees were used to compute any reliable oob estimates.\n",
      "  warn(\"Some inputs do not have OOB scores. \"\n",
      "c:\\users\\sharm\\appdata\\local\\programs\\python\\python36\\lib\\site-packages\\sklearn\\ensemble\\forest.py:456: RuntimeWarning: invalid value encountered in true_divide\n",
      "  predictions[k].sum(axis=1)[:, np.newaxis])\n"
     ]
    },
    {
     "name": "stdout",
     "output_type": "stream",
     "text": [
      "Running:  [15, 'gini', 36, 11]\n"
     ]
    },
    {
     "name": "stderr",
     "output_type": "stream",
     "text": [
      "c:\\users\\sharm\\appdata\\local\\programs\\python\\python36\\lib\\site-packages\\sklearn\\ensemble\\forest.py:451: UserWarning: Some inputs do not have OOB scores. This probably means too few trees were used to compute any reliable oob estimates.\n",
      "  warn(\"Some inputs do not have OOB scores. \"\n",
      "c:\\users\\sharm\\appdata\\local\\programs\\python\\python36\\lib\\site-packages\\sklearn\\ensemble\\forest.py:456: RuntimeWarning: invalid value encountered in true_divide\n",
      "  predictions[k].sum(axis=1)[:, np.newaxis])\n"
     ]
    },
    {
     "name": "stdout",
     "output_type": "stream",
     "text": [
      "Running:  [15, 'gini', 36, 13]\n"
     ]
    },
    {
     "name": "stderr",
     "output_type": "stream",
     "text": [
      "c:\\users\\sharm\\appdata\\local\\programs\\python\\python36\\lib\\site-packages\\sklearn\\ensemble\\forest.py:451: UserWarning: Some inputs do not have OOB scores. This probably means too few trees were used to compute any reliable oob estimates.\n",
      "  warn(\"Some inputs do not have OOB scores. \"\n",
      "c:\\users\\sharm\\appdata\\local\\programs\\python\\python36\\lib\\site-packages\\sklearn\\ensemble\\forest.py:456: RuntimeWarning: invalid value encountered in true_divide\n",
      "  predictions[k].sum(axis=1)[:, np.newaxis])\n"
     ]
    },
    {
     "name": "stdout",
     "output_type": "stream",
     "text": [
      "Running:  [15, 'gini', 36, 15]\n"
     ]
    },
    {
     "name": "stderr",
     "output_type": "stream",
     "text": [
      "c:\\users\\sharm\\appdata\\local\\programs\\python\\python36\\lib\\site-packages\\sklearn\\ensemble\\forest.py:451: UserWarning: Some inputs do not have OOB scores. This probably means too few trees were used to compute any reliable oob estimates.\n",
      "  warn(\"Some inputs do not have OOB scores. \"\n",
      "c:\\users\\sharm\\appdata\\local\\programs\\python\\python36\\lib\\site-packages\\sklearn\\ensemble\\forest.py:456: RuntimeWarning: invalid value encountered in true_divide\n",
      "  predictions[k].sum(axis=1)[:, np.newaxis])\n"
     ]
    },
    {
     "name": "stdout",
     "output_type": "stream",
     "text": [
      "Running:  [15, 'gini', 36, 17]\n"
     ]
    },
    {
     "name": "stderr",
     "output_type": "stream",
     "text": [
      "c:\\users\\sharm\\appdata\\local\\programs\\python\\python36\\lib\\site-packages\\sklearn\\ensemble\\forest.py:451: UserWarning: Some inputs do not have OOB scores. This probably means too few trees were used to compute any reliable oob estimates.\n",
      "  warn(\"Some inputs do not have OOB scores. \"\n",
      "c:\\users\\sharm\\appdata\\local\\programs\\python\\python36\\lib\\site-packages\\sklearn\\ensemble\\forest.py:456: RuntimeWarning: invalid value encountered in true_divide\n",
      "  predictions[k].sum(axis=1)[:, np.newaxis])\n"
     ]
    },
    {
     "name": "stdout",
     "output_type": "stream",
     "text": [
      "Running:  [15, 'gini', 36, 19]\n"
     ]
    },
    {
     "name": "stderr",
     "output_type": "stream",
     "text": [
      "c:\\users\\sharm\\appdata\\local\\programs\\python\\python36\\lib\\site-packages\\sklearn\\ensemble\\forest.py:451: UserWarning: Some inputs do not have OOB scores. This probably means too few trees were used to compute any reliable oob estimates.\n",
      "  warn(\"Some inputs do not have OOB scores. \"\n",
      "c:\\users\\sharm\\appdata\\local\\programs\\python\\python36\\lib\\site-packages\\sklearn\\ensemble\\forest.py:456: RuntimeWarning: invalid value encountered in true_divide\n",
      "  predictions[k].sum(axis=1)[:, np.newaxis])\n"
     ]
    },
    {
     "name": "stdout",
     "output_type": "stream",
     "text": [
      "Running:  [15, 'gini', 36, 21]\n"
     ]
    },
    {
     "name": "stderr",
     "output_type": "stream",
     "text": [
      "c:\\users\\sharm\\appdata\\local\\programs\\python\\python36\\lib\\site-packages\\sklearn\\ensemble\\forest.py:451: UserWarning: Some inputs do not have OOB scores. This probably means too few trees were used to compute any reliable oob estimates.\n",
      "  warn(\"Some inputs do not have OOB scores. \"\n",
      "c:\\users\\sharm\\appdata\\local\\programs\\python\\python36\\lib\\site-packages\\sklearn\\ensemble\\forest.py:456: RuntimeWarning: invalid value encountered in true_divide\n",
      "  predictions[k].sum(axis=1)[:, np.newaxis])\n"
     ]
    },
    {
     "name": "stdout",
     "output_type": "stream",
     "text": [
      "Running:  [15, 'gini', 36, 23]\n"
     ]
    },
    {
     "name": "stderr",
     "output_type": "stream",
     "text": [
      "c:\\users\\sharm\\appdata\\local\\programs\\python\\python36\\lib\\site-packages\\sklearn\\ensemble\\forest.py:451: UserWarning: Some inputs do not have OOB scores. This probably means too few trees were used to compute any reliable oob estimates.\n",
      "  warn(\"Some inputs do not have OOB scores. \"\n",
      "c:\\users\\sharm\\appdata\\local\\programs\\python\\python36\\lib\\site-packages\\sklearn\\ensemble\\forest.py:456: RuntimeWarning: invalid value encountered in true_divide\n",
      "  predictions[k].sum(axis=1)[:, np.newaxis])\n"
     ]
    },
    {
     "name": "stdout",
     "output_type": "stream",
     "text": [
      "Running:  [15, 'gini', 36, 25]\n"
     ]
    },
    {
     "name": "stderr",
     "output_type": "stream",
     "text": [
      "c:\\users\\sharm\\appdata\\local\\programs\\python\\python36\\lib\\site-packages\\sklearn\\ensemble\\forest.py:451: UserWarning: Some inputs do not have OOB scores. This probably means too few trees were used to compute any reliable oob estimates.\n",
      "  warn(\"Some inputs do not have OOB scores. \"\n",
      "c:\\users\\sharm\\appdata\\local\\programs\\python\\python36\\lib\\site-packages\\sklearn\\ensemble\\forest.py:456: RuntimeWarning: invalid value encountered in true_divide\n",
      "  predictions[k].sum(axis=1)[:, np.newaxis])\n"
     ]
    },
    {
     "name": "stdout",
     "output_type": "stream",
     "text": [
      "Running:  [15, 'gini', 36, 27]\n"
     ]
    },
    {
     "name": "stderr",
     "output_type": "stream",
     "text": [
      "c:\\users\\sharm\\appdata\\local\\programs\\python\\python36\\lib\\site-packages\\sklearn\\ensemble\\forest.py:451: UserWarning: Some inputs do not have OOB scores. This probably means too few trees were used to compute any reliable oob estimates.\n",
      "  warn(\"Some inputs do not have OOB scores. \"\n",
      "c:\\users\\sharm\\appdata\\local\\programs\\python\\python36\\lib\\site-packages\\sklearn\\ensemble\\forest.py:456: RuntimeWarning: invalid value encountered in true_divide\n",
      "  predictions[k].sum(axis=1)[:, np.newaxis])\n"
     ]
    },
    {
     "name": "stdout",
     "output_type": "stream",
     "text": [
      "Running:  [15, 'gini', 36, 29]\n"
     ]
    },
    {
     "name": "stderr",
     "output_type": "stream",
     "text": [
      "c:\\users\\sharm\\appdata\\local\\programs\\python\\python36\\lib\\site-packages\\sklearn\\ensemble\\forest.py:451: UserWarning: Some inputs do not have OOB scores. This probably means too few trees were used to compute any reliable oob estimates.\n",
      "  warn(\"Some inputs do not have OOB scores. \"\n",
      "c:\\users\\sharm\\appdata\\local\\programs\\python\\python36\\lib\\site-packages\\sklearn\\ensemble\\forest.py:456: RuntimeWarning: invalid value encountered in true_divide\n",
      "  predictions[k].sum(axis=1)[:, np.newaxis])\n"
     ]
    },
    {
     "name": "stdout",
     "output_type": "stream",
     "text": [
      "Running:  [15, 'gini', 38, 5]\n"
     ]
    },
    {
     "name": "stderr",
     "output_type": "stream",
     "text": [
      "c:\\users\\sharm\\appdata\\local\\programs\\python\\python36\\lib\\site-packages\\sklearn\\ensemble\\forest.py:451: UserWarning: Some inputs do not have OOB scores. This probably means too few trees were used to compute any reliable oob estimates.\n",
      "  warn(\"Some inputs do not have OOB scores. \"\n",
      "c:\\users\\sharm\\appdata\\local\\programs\\python\\python36\\lib\\site-packages\\sklearn\\ensemble\\forest.py:456: RuntimeWarning: invalid value encountered in true_divide\n",
      "  predictions[k].sum(axis=1)[:, np.newaxis])\n"
     ]
    },
    {
     "name": "stdout",
     "output_type": "stream",
     "text": [
      "Running:  [15, 'gini', 38, 7]\n"
     ]
    },
    {
     "name": "stderr",
     "output_type": "stream",
     "text": [
      "c:\\users\\sharm\\appdata\\local\\programs\\python\\python36\\lib\\site-packages\\sklearn\\ensemble\\forest.py:451: UserWarning: Some inputs do not have OOB scores. This probably means too few trees were used to compute any reliable oob estimates.\n",
      "  warn(\"Some inputs do not have OOB scores. \"\n",
      "c:\\users\\sharm\\appdata\\local\\programs\\python\\python36\\lib\\site-packages\\sklearn\\ensemble\\forest.py:456: RuntimeWarning: invalid value encountered in true_divide\n",
      "  predictions[k].sum(axis=1)[:, np.newaxis])\n"
     ]
    },
    {
     "name": "stdout",
     "output_type": "stream",
     "text": [
      "Running:  [15, 'gini', 38, 9]\n"
     ]
    },
    {
     "name": "stderr",
     "output_type": "stream",
     "text": [
      "c:\\users\\sharm\\appdata\\local\\programs\\python\\python36\\lib\\site-packages\\sklearn\\ensemble\\forest.py:451: UserWarning: Some inputs do not have OOB scores. This probably means too few trees were used to compute any reliable oob estimates.\n",
      "  warn(\"Some inputs do not have OOB scores. \"\n",
      "c:\\users\\sharm\\appdata\\local\\programs\\python\\python36\\lib\\site-packages\\sklearn\\ensemble\\forest.py:456: RuntimeWarning: invalid value encountered in true_divide\n",
      "  predictions[k].sum(axis=1)[:, np.newaxis])\n"
     ]
    },
    {
     "name": "stdout",
     "output_type": "stream",
     "text": [
      "Running:  [15, 'gini', 38, 11]\n"
     ]
    },
    {
     "name": "stderr",
     "output_type": "stream",
     "text": [
      "c:\\users\\sharm\\appdata\\local\\programs\\python\\python36\\lib\\site-packages\\sklearn\\ensemble\\forest.py:451: UserWarning: Some inputs do not have OOB scores. This probably means too few trees were used to compute any reliable oob estimates.\n",
      "  warn(\"Some inputs do not have OOB scores. \"\n",
      "c:\\users\\sharm\\appdata\\local\\programs\\python\\python36\\lib\\site-packages\\sklearn\\ensemble\\forest.py:456: RuntimeWarning: invalid value encountered in true_divide\n",
      "  predictions[k].sum(axis=1)[:, np.newaxis])\n"
     ]
    },
    {
     "name": "stdout",
     "output_type": "stream",
     "text": [
      "Running:  [15, 'gini', 38, 13]\n"
     ]
    },
    {
     "name": "stderr",
     "output_type": "stream",
     "text": [
      "c:\\users\\sharm\\appdata\\local\\programs\\python\\python36\\lib\\site-packages\\sklearn\\ensemble\\forest.py:451: UserWarning: Some inputs do not have OOB scores. This probably means too few trees were used to compute any reliable oob estimates.\n",
      "  warn(\"Some inputs do not have OOB scores. \"\n",
      "c:\\users\\sharm\\appdata\\local\\programs\\python\\python36\\lib\\site-packages\\sklearn\\ensemble\\forest.py:456: RuntimeWarning: invalid value encountered in true_divide\n",
      "  predictions[k].sum(axis=1)[:, np.newaxis])\n"
     ]
    },
    {
     "name": "stdout",
     "output_type": "stream",
     "text": [
      "Running:  [15, 'gini', 38, 15]\n"
     ]
    },
    {
     "name": "stderr",
     "output_type": "stream",
     "text": [
      "c:\\users\\sharm\\appdata\\local\\programs\\python\\python36\\lib\\site-packages\\sklearn\\ensemble\\forest.py:451: UserWarning: Some inputs do not have OOB scores. This probably means too few trees were used to compute any reliable oob estimates.\n",
      "  warn(\"Some inputs do not have OOB scores. \"\n",
      "c:\\users\\sharm\\appdata\\local\\programs\\python\\python36\\lib\\site-packages\\sklearn\\ensemble\\forest.py:456: RuntimeWarning: invalid value encountered in true_divide\n",
      "  predictions[k].sum(axis=1)[:, np.newaxis])\n"
     ]
    },
    {
     "name": "stdout",
     "output_type": "stream",
     "text": [
      "Running:  [15, 'gini', 38, 17]\n"
     ]
    },
    {
     "name": "stderr",
     "output_type": "stream",
     "text": [
      "c:\\users\\sharm\\appdata\\local\\programs\\python\\python36\\lib\\site-packages\\sklearn\\ensemble\\forest.py:451: UserWarning: Some inputs do not have OOB scores. This probably means too few trees were used to compute any reliable oob estimates.\n",
      "  warn(\"Some inputs do not have OOB scores. \"\n",
      "c:\\users\\sharm\\appdata\\local\\programs\\python\\python36\\lib\\site-packages\\sklearn\\ensemble\\forest.py:456: RuntimeWarning: invalid value encountered in true_divide\n",
      "  predictions[k].sum(axis=1)[:, np.newaxis])\n"
     ]
    },
    {
     "name": "stdout",
     "output_type": "stream",
     "text": [
      "Running:  [15, 'gini', 38, 19]\n"
     ]
    },
    {
     "name": "stderr",
     "output_type": "stream",
     "text": [
      "c:\\users\\sharm\\appdata\\local\\programs\\python\\python36\\lib\\site-packages\\sklearn\\ensemble\\forest.py:451: UserWarning: Some inputs do not have OOB scores. This probably means too few trees were used to compute any reliable oob estimates.\n",
      "  warn(\"Some inputs do not have OOB scores. \"\n",
      "c:\\users\\sharm\\appdata\\local\\programs\\python\\python36\\lib\\site-packages\\sklearn\\ensemble\\forest.py:456: RuntimeWarning: invalid value encountered in true_divide\n",
      "  predictions[k].sum(axis=1)[:, np.newaxis])\n"
     ]
    },
    {
     "name": "stdout",
     "output_type": "stream",
     "text": [
      "Running:  [15, 'gini', 38, 21]\n"
     ]
    },
    {
     "name": "stderr",
     "output_type": "stream",
     "text": [
      "c:\\users\\sharm\\appdata\\local\\programs\\python\\python36\\lib\\site-packages\\sklearn\\ensemble\\forest.py:451: UserWarning: Some inputs do not have OOB scores. This probably means too few trees were used to compute any reliable oob estimates.\n",
      "  warn(\"Some inputs do not have OOB scores. \"\n",
      "c:\\users\\sharm\\appdata\\local\\programs\\python\\python36\\lib\\site-packages\\sklearn\\ensemble\\forest.py:456: RuntimeWarning: invalid value encountered in true_divide\n",
      "  predictions[k].sum(axis=1)[:, np.newaxis])\n"
     ]
    },
    {
     "name": "stdout",
     "output_type": "stream",
     "text": [
      "Running:  [15, 'gini', 38, 23]\n"
     ]
    },
    {
     "name": "stderr",
     "output_type": "stream",
     "text": [
      "c:\\users\\sharm\\appdata\\local\\programs\\python\\python36\\lib\\site-packages\\sklearn\\ensemble\\forest.py:451: UserWarning: Some inputs do not have OOB scores. This probably means too few trees were used to compute any reliable oob estimates.\n",
      "  warn(\"Some inputs do not have OOB scores. \"\n",
      "c:\\users\\sharm\\appdata\\local\\programs\\python\\python36\\lib\\site-packages\\sklearn\\ensemble\\forest.py:456: RuntimeWarning: invalid value encountered in true_divide\n",
      "  predictions[k].sum(axis=1)[:, np.newaxis])\n"
     ]
    },
    {
     "name": "stdout",
     "output_type": "stream",
     "text": [
      "Running:  [15, 'gini', 38, 25]\n"
     ]
    },
    {
     "name": "stderr",
     "output_type": "stream",
     "text": [
      "c:\\users\\sharm\\appdata\\local\\programs\\python\\python36\\lib\\site-packages\\sklearn\\ensemble\\forest.py:451: UserWarning: Some inputs do not have OOB scores. This probably means too few trees were used to compute any reliable oob estimates.\n",
      "  warn(\"Some inputs do not have OOB scores. \"\n",
      "c:\\users\\sharm\\appdata\\local\\programs\\python\\python36\\lib\\site-packages\\sklearn\\ensemble\\forest.py:456: RuntimeWarning: invalid value encountered in true_divide\n",
      "  predictions[k].sum(axis=1)[:, np.newaxis])\n"
     ]
    },
    {
     "name": "stdout",
     "output_type": "stream",
     "text": [
      "Running:  [15, 'gini', 38, 27]\n"
     ]
    },
    {
     "name": "stderr",
     "output_type": "stream",
     "text": [
      "c:\\users\\sharm\\appdata\\local\\programs\\python\\python36\\lib\\site-packages\\sklearn\\ensemble\\forest.py:451: UserWarning: Some inputs do not have OOB scores. This probably means too few trees were used to compute any reliable oob estimates.\n",
      "  warn(\"Some inputs do not have OOB scores. \"\n",
      "c:\\users\\sharm\\appdata\\local\\programs\\python\\python36\\lib\\site-packages\\sklearn\\ensemble\\forest.py:456: RuntimeWarning: invalid value encountered in true_divide\n",
      "  predictions[k].sum(axis=1)[:, np.newaxis])\n"
     ]
    },
    {
     "name": "stdout",
     "output_type": "stream",
     "text": [
      "Running:  [15, 'gini', 38, 29]\n"
     ]
    },
    {
     "name": "stderr",
     "output_type": "stream",
     "text": [
      "c:\\users\\sharm\\appdata\\local\\programs\\python\\python36\\lib\\site-packages\\sklearn\\ensemble\\forest.py:451: UserWarning: Some inputs do not have OOB scores. This probably means too few trees were used to compute any reliable oob estimates.\n",
      "  warn(\"Some inputs do not have OOB scores. \"\n",
      "c:\\users\\sharm\\appdata\\local\\programs\\python\\python36\\lib\\site-packages\\sklearn\\ensemble\\forest.py:456: RuntimeWarning: invalid value encountered in true_divide\n",
      "  predictions[k].sum(axis=1)[:, np.newaxis])\n"
     ]
    },
    {
     "name": "stdout",
     "output_type": "stream",
     "text": [
      "Running:  [15, 'gini', 40, 5]\n"
     ]
    },
    {
     "name": "stderr",
     "output_type": "stream",
     "text": [
      "c:\\users\\sharm\\appdata\\local\\programs\\python\\python36\\lib\\site-packages\\sklearn\\ensemble\\forest.py:451: UserWarning: Some inputs do not have OOB scores. This probably means too few trees were used to compute any reliable oob estimates.\n",
      "  warn(\"Some inputs do not have OOB scores. \"\n",
      "c:\\users\\sharm\\appdata\\local\\programs\\python\\python36\\lib\\site-packages\\sklearn\\ensemble\\forest.py:456: RuntimeWarning: invalid value encountered in true_divide\n",
      "  predictions[k].sum(axis=1)[:, np.newaxis])\n"
     ]
    },
    {
     "name": "stdout",
     "output_type": "stream",
     "text": [
      "Running:  [15, 'gini', 40, 7]\n"
     ]
    },
    {
     "name": "stderr",
     "output_type": "stream",
     "text": [
      "c:\\users\\sharm\\appdata\\local\\programs\\python\\python36\\lib\\site-packages\\sklearn\\ensemble\\forest.py:451: UserWarning: Some inputs do not have OOB scores. This probably means too few trees were used to compute any reliable oob estimates.\n",
      "  warn(\"Some inputs do not have OOB scores. \"\n",
      "c:\\users\\sharm\\appdata\\local\\programs\\python\\python36\\lib\\site-packages\\sklearn\\ensemble\\forest.py:456: RuntimeWarning: invalid value encountered in true_divide\n",
      "  predictions[k].sum(axis=1)[:, np.newaxis])\n"
     ]
    },
    {
     "name": "stdout",
     "output_type": "stream",
     "text": [
      "Running:  [15, 'gini', 40, 9]\n"
     ]
    },
    {
     "name": "stderr",
     "output_type": "stream",
     "text": [
      "c:\\users\\sharm\\appdata\\local\\programs\\python\\python36\\lib\\site-packages\\sklearn\\ensemble\\forest.py:451: UserWarning: Some inputs do not have OOB scores. This probably means too few trees were used to compute any reliable oob estimates.\n",
      "  warn(\"Some inputs do not have OOB scores. \"\n",
      "c:\\users\\sharm\\appdata\\local\\programs\\python\\python36\\lib\\site-packages\\sklearn\\ensemble\\forest.py:456: RuntimeWarning: invalid value encountered in true_divide\n",
      "  predictions[k].sum(axis=1)[:, np.newaxis])\n"
     ]
    },
    {
     "name": "stdout",
     "output_type": "stream",
     "text": [
      "Running:  [15, 'gini', 40, 11]\n"
     ]
    },
    {
     "name": "stderr",
     "output_type": "stream",
     "text": [
      "c:\\users\\sharm\\appdata\\local\\programs\\python\\python36\\lib\\site-packages\\sklearn\\ensemble\\forest.py:451: UserWarning: Some inputs do not have OOB scores. This probably means too few trees were used to compute any reliable oob estimates.\n",
      "  warn(\"Some inputs do not have OOB scores. \"\n",
      "c:\\users\\sharm\\appdata\\local\\programs\\python\\python36\\lib\\site-packages\\sklearn\\ensemble\\forest.py:456: RuntimeWarning: invalid value encountered in true_divide\n",
      "  predictions[k].sum(axis=1)[:, np.newaxis])\n"
     ]
    },
    {
     "name": "stdout",
     "output_type": "stream",
     "text": [
      "Running:  [15, 'gini', 40, 13]\n"
     ]
    },
    {
     "name": "stderr",
     "output_type": "stream",
     "text": [
      "c:\\users\\sharm\\appdata\\local\\programs\\python\\python36\\lib\\site-packages\\sklearn\\ensemble\\forest.py:451: UserWarning: Some inputs do not have OOB scores. This probably means too few trees were used to compute any reliable oob estimates.\n",
      "  warn(\"Some inputs do not have OOB scores. \"\n",
      "c:\\users\\sharm\\appdata\\local\\programs\\python\\python36\\lib\\site-packages\\sklearn\\ensemble\\forest.py:456: RuntimeWarning: invalid value encountered in true_divide\n",
      "  predictions[k].sum(axis=1)[:, np.newaxis])\n"
     ]
    },
    {
     "name": "stdout",
     "output_type": "stream",
     "text": [
      "Running:  [15, 'gini', 40, 15]\n"
     ]
    },
    {
     "name": "stderr",
     "output_type": "stream",
     "text": [
      "c:\\users\\sharm\\appdata\\local\\programs\\python\\python36\\lib\\site-packages\\sklearn\\ensemble\\forest.py:451: UserWarning: Some inputs do not have OOB scores. This probably means too few trees were used to compute any reliable oob estimates.\n",
      "  warn(\"Some inputs do not have OOB scores. \"\n",
      "c:\\users\\sharm\\appdata\\local\\programs\\python\\python36\\lib\\site-packages\\sklearn\\ensemble\\forest.py:456: RuntimeWarning: invalid value encountered in true_divide\n",
      "  predictions[k].sum(axis=1)[:, np.newaxis])\n"
     ]
    },
    {
     "name": "stdout",
     "output_type": "stream",
     "text": [
      "Running:  [15, 'gini', 40, 17]\n"
     ]
    },
    {
     "name": "stderr",
     "output_type": "stream",
     "text": [
      "c:\\users\\sharm\\appdata\\local\\programs\\python\\python36\\lib\\site-packages\\sklearn\\ensemble\\forest.py:451: UserWarning: Some inputs do not have OOB scores. This probably means too few trees were used to compute any reliable oob estimates.\n",
      "  warn(\"Some inputs do not have OOB scores. \"\n",
      "c:\\users\\sharm\\appdata\\local\\programs\\python\\python36\\lib\\site-packages\\sklearn\\ensemble\\forest.py:456: RuntimeWarning: invalid value encountered in true_divide\n",
      "  predictions[k].sum(axis=1)[:, np.newaxis])\n"
     ]
    },
    {
     "name": "stdout",
     "output_type": "stream",
     "text": [
      "Running:  [15, 'gini', 40, 19]\n"
     ]
    },
    {
     "name": "stderr",
     "output_type": "stream",
     "text": [
      "c:\\users\\sharm\\appdata\\local\\programs\\python\\python36\\lib\\site-packages\\sklearn\\ensemble\\forest.py:451: UserWarning: Some inputs do not have OOB scores. This probably means too few trees were used to compute any reliable oob estimates.\n",
      "  warn(\"Some inputs do not have OOB scores. \"\n",
      "c:\\users\\sharm\\appdata\\local\\programs\\python\\python36\\lib\\site-packages\\sklearn\\ensemble\\forest.py:456: RuntimeWarning: invalid value encountered in true_divide\n",
      "  predictions[k].sum(axis=1)[:, np.newaxis])\n"
     ]
    },
    {
     "name": "stdout",
     "output_type": "stream",
     "text": [
      "Running:  [15, 'gini', 40, 21]\n"
     ]
    },
    {
     "name": "stderr",
     "output_type": "stream",
     "text": [
      "c:\\users\\sharm\\appdata\\local\\programs\\python\\python36\\lib\\site-packages\\sklearn\\ensemble\\forest.py:451: UserWarning: Some inputs do not have OOB scores. This probably means too few trees were used to compute any reliable oob estimates.\n",
      "  warn(\"Some inputs do not have OOB scores. \"\n",
      "c:\\users\\sharm\\appdata\\local\\programs\\python\\python36\\lib\\site-packages\\sklearn\\ensemble\\forest.py:456: RuntimeWarning: invalid value encountered in true_divide\n",
      "  predictions[k].sum(axis=1)[:, np.newaxis])\n"
     ]
    },
    {
     "name": "stdout",
     "output_type": "stream",
     "text": [
      "Running:  [15, 'gini', 40, 23]\n"
     ]
    },
    {
     "name": "stderr",
     "output_type": "stream",
     "text": [
      "c:\\users\\sharm\\appdata\\local\\programs\\python\\python36\\lib\\site-packages\\sklearn\\ensemble\\forest.py:451: UserWarning: Some inputs do not have OOB scores. This probably means too few trees were used to compute any reliable oob estimates.\n",
      "  warn(\"Some inputs do not have OOB scores. \"\n",
      "c:\\users\\sharm\\appdata\\local\\programs\\python\\python36\\lib\\site-packages\\sklearn\\ensemble\\forest.py:456: RuntimeWarning: invalid value encountered in true_divide\n",
      "  predictions[k].sum(axis=1)[:, np.newaxis])\n"
     ]
    },
    {
     "name": "stdout",
     "output_type": "stream",
     "text": [
      "Running:  [15, 'gini', 40, 25]\n"
     ]
    },
    {
     "name": "stderr",
     "output_type": "stream",
     "text": [
      "c:\\users\\sharm\\appdata\\local\\programs\\python\\python36\\lib\\site-packages\\sklearn\\ensemble\\forest.py:451: UserWarning: Some inputs do not have OOB scores. This probably means too few trees were used to compute any reliable oob estimates.\n",
      "  warn(\"Some inputs do not have OOB scores. \"\n",
      "c:\\users\\sharm\\appdata\\local\\programs\\python\\python36\\lib\\site-packages\\sklearn\\ensemble\\forest.py:456: RuntimeWarning: invalid value encountered in true_divide\n",
      "  predictions[k].sum(axis=1)[:, np.newaxis])\n"
     ]
    },
    {
     "name": "stdout",
     "output_type": "stream",
     "text": [
      "Running:  [15, 'gini', 40, 27]\n"
     ]
    },
    {
     "name": "stderr",
     "output_type": "stream",
     "text": [
      "c:\\users\\sharm\\appdata\\local\\programs\\python\\python36\\lib\\site-packages\\sklearn\\ensemble\\forest.py:451: UserWarning: Some inputs do not have OOB scores. This probably means too few trees were used to compute any reliable oob estimates.\n",
      "  warn(\"Some inputs do not have OOB scores. \"\n",
      "c:\\users\\sharm\\appdata\\local\\programs\\python\\python36\\lib\\site-packages\\sklearn\\ensemble\\forest.py:456: RuntimeWarning: invalid value encountered in true_divide\n",
      "  predictions[k].sum(axis=1)[:, np.newaxis])\n"
     ]
    },
    {
     "name": "stdout",
     "output_type": "stream",
     "text": [
      "Running:  [15, 'gini', 40, 29]\n"
     ]
    },
    {
     "name": "stderr",
     "output_type": "stream",
     "text": [
      "c:\\users\\sharm\\appdata\\local\\programs\\python\\python36\\lib\\site-packages\\sklearn\\ensemble\\forest.py:451: UserWarning: Some inputs do not have OOB scores. This probably means too few trees were used to compute any reliable oob estimates.\n",
      "  warn(\"Some inputs do not have OOB scores. \"\n",
      "c:\\users\\sharm\\appdata\\local\\programs\\python\\python36\\lib\\site-packages\\sklearn\\ensemble\\forest.py:456: RuntimeWarning: invalid value encountered in true_divide\n",
      "  predictions[k].sum(axis=1)[:, np.newaxis])\n"
     ]
    },
    {
     "name": "stdout",
     "output_type": "stream",
     "text": [
      "Running:  [15, 'gini', 42, 5]\n"
     ]
    },
    {
     "name": "stderr",
     "output_type": "stream",
     "text": [
      "c:\\users\\sharm\\appdata\\local\\programs\\python\\python36\\lib\\site-packages\\sklearn\\ensemble\\forest.py:451: UserWarning: Some inputs do not have OOB scores. This probably means too few trees were used to compute any reliable oob estimates.\n",
      "  warn(\"Some inputs do not have OOB scores. \"\n",
      "c:\\users\\sharm\\appdata\\local\\programs\\python\\python36\\lib\\site-packages\\sklearn\\ensemble\\forest.py:456: RuntimeWarning: invalid value encountered in true_divide\n",
      "  predictions[k].sum(axis=1)[:, np.newaxis])\n"
     ]
    },
    {
     "name": "stdout",
     "output_type": "stream",
     "text": [
      "Running:  [15, 'gini', 42, 7]\n"
     ]
    },
    {
     "name": "stderr",
     "output_type": "stream",
     "text": [
      "c:\\users\\sharm\\appdata\\local\\programs\\python\\python36\\lib\\site-packages\\sklearn\\ensemble\\forest.py:451: UserWarning: Some inputs do not have OOB scores. This probably means too few trees were used to compute any reliable oob estimates.\n",
      "  warn(\"Some inputs do not have OOB scores. \"\n",
      "c:\\users\\sharm\\appdata\\local\\programs\\python\\python36\\lib\\site-packages\\sklearn\\ensemble\\forest.py:456: RuntimeWarning: invalid value encountered in true_divide\n",
      "  predictions[k].sum(axis=1)[:, np.newaxis])\n"
     ]
    },
    {
     "name": "stdout",
     "output_type": "stream",
     "text": [
      "Running:  [15, 'gini', 42, 9]\n"
     ]
    },
    {
     "name": "stderr",
     "output_type": "stream",
     "text": [
      "c:\\users\\sharm\\appdata\\local\\programs\\python\\python36\\lib\\site-packages\\sklearn\\ensemble\\forest.py:451: UserWarning: Some inputs do not have OOB scores. This probably means too few trees were used to compute any reliable oob estimates.\n",
      "  warn(\"Some inputs do not have OOB scores. \"\n",
      "c:\\users\\sharm\\appdata\\local\\programs\\python\\python36\\lib\\site-packages\\sklearn\\ensemble\\forest.py:456: RuntimeWarning: invalid value encountered in true_divide\n",
      "  predictions[k].sum(axis=1)[:, np.newaxis])\n"
     ]
    },
    {
     "name": "stdout",
     "output_type": "stream",
     "text": [
      "Running:  [15, 'gini', 42, 11]\n"
     ]
    },
    {
     "name": "stderr",
     "output_type": "stream",
     "text": [
      "c:\\users\\sharm\\appdata\\local\\programs\\python\\python36\\lib\\site-packages\\sklearn\\ensemble\\forest.py:451: UserWarning: Some inputs do not have OOB scores. This probably means too few trees were used to compute any reliable oob estimates.\n",
      "  warn(\"Some inputs do not have OOB scores. \"\n",
      "c:\\users\\sharm\\appdata\\local\\programs\\python\\python36\\lib\\site-packages\\sklearn\\ensemble\\forest.py:456: RuntimeWarning: invalid value encountered in true_divide\n",
      "  predictions[k].sum(axis=1)[:, np.newaxis])\n"
     ]
    },
    {
     "name": "stdout",
     "output_type": "stream",
     "text": [
      "Running:  [15, 'gini', 42, 13]\n"
     ]
    },
    {
     "name": "stderr",
     "output_type": "stream",
     "text": [
      "c:\\users\\sharm\\appdata\\local\\programs\\python\\python36\\lib\\site-packages\\sklearn\\ensemble\\forest.py:451: UserWarning: Some inputs do not have OOB scores. This probably means too few trees were used to compute any reliable oob estimates.\n",
      "  warn(\"Some inputs do not have OOB scores. \"\n",
      "c:\\users\\sharm\\appdata\\local\\programs\\python\\python36\\lib\\site-packages\\sklearn\\ensemble\\forest.py:456: RuntimeWarning: invalid value encountered in true_divide\n",
      "  predictions[k].sum(axis=1)[:, np.newaxis])\n"
     ]
    },
    {
     "name": "stdout",
     "output_type": "stream",
     "text": [
      "Running:  [15, 'gini', 42, 15]\n"
     ]
    },
    {
     "name": "stderr",
     "output_type": "stream",
     "text": [
      "c:\\users\\sharm\\appdata\\local\\programs\\python\\python36\\lib\\site-packages\\sklearn\\ensemble\\forest.py:451: UserWarning: Some inputs do not have OOB scores. This probably means too few trees were used to compute any reliable oob estimates.\n",
      "  warn(\"Some inputs do not have OOB scores. \"\n",
      "c:\\users\\sharm\\appdata\\local\\programs\\python\\python36\\lib\\site-packages\\sklearn\\ensemble\\forest.py:456: RuntimeWarning: invalid value encountered in true_divide\n",
      "  predictions[k].sum(axis=1)[:, np.newaxis])\n"
     ]
    },
    {
     "name": "stdout",
     "output_type": "stream",
     "text": [
      "Running:  [15, 'gini', 42, 17]\n"
     ]
    },
    {
     "name": "stderr",
     "output_type": "stream",
     "text": [
      "c:\\users\\sharm\\appdata\\local\\programs\\python\\python36\\lib\\site-packages\\sklearn\\ensemble\\forest.py:451: UserWarning: Some inputs do not have OOB scores. This probably means too few trees were used to compute any reliable oob estimates.\n",
      "  warn(\"Some inputs do not have OOB scores. \"\n",
      "c:\\users\\sharm\\appdata\\local\\programs\\python\\python36\\lib\\site-packages\\sklearn\\ensemble\\forest.py:456: RuntimeWarning: invalid value encountered in true_divide\n",
      "  predictions[k].sum(axis=1)[:, np.newaxis])\n"
     ]
    },
    {
     "name": "stdout",
     "output_type": "stream",
     "text": [
      "Running:  [15, 'gini', 42, 19]\n"
     ]
    },
    {
     "name": "stderr",
     "output_type": "stream",
     "text": [
      "c:\\users\\sharm\\appdata\\local\\programs\\python\\python36\\lib\\site-packages\\sklearn\\ensemble\\forest.py:451: UserWarning: Some inputs do not have OOB scores. This probably means too few trees were used to compute any reliable oob estimates.\n",
      "  warn(\"Some inputs do not have OOB scores. \"\n",
      "c:\\users\\sharm\\appdata\\local\\programs\\python\\python36\\lib\\site-packages\\sklearn\\ensemble\\forest.py:456: RuntimeWarning: invalid value encountered in true_divide\n",
      "  predictions[k].sum(axis=1)[:, np.newaxis])\n"
     ]
    },
    {
     "name": "stdout",
     "output_type": "stream",
     "text": [
      "Running:  [15, 'gini', 42, 21]\n"
     ]
    },
    {
     "name": "stderr",
     "output_type": "stream",
     "text": [
      "c:\\users\\sharm\\appdata\\local\\programs\\python\\python36\\lib\\site-packages\\sklearn\\ensemble\\forest.py:451: UserWarning: Some inputs do not have OOB scores. This probably means too few trees were used to compute any reliable oob estimates.\n",
      "  warn(\"Some inputs do not have OOB scores. \"\n",
      "c:\\users\\sharm\\appdata\\local\\programs\\python\\python36\\lib\\site-packages\\sklearn\\ensemble\\forest.py:456: RuntimeWarning: invalid value encountered in true_divide\n",
      "  predictions[k].sum(axis=1)[:, np.newaxis])\n"
     ]
    },
    {
     "name": "stdout",
     "output_type": "stream",
     "text": [
      "Running:  [15, 'gini', 42, 23]\n"
     ]
    },
    {
     "name": "stderr",
     "output_type": "stream",
     "text": [
      "c:\\users\\sharm\\appdata\\local\\programs\\python\\python36\\lib\\site-packages\\sklearn\\ensemble\\forest.py:451: UserWarning: Some inputs do not have OOB scores. This probably means too few trees were used to compute any reliable oob estimates.\n",
      "  warn(\"Some inputs do not have OOB scores. \"\n",
      "c:\\users\\sharm\\appdata\\local\\programs\\python\\python36\\lib\\site-packages\\sklearn\\ensemble\\forest.py:456: RuntimeWarning: invalid value encountered in true_divide\n",
      "  predictions[k].sum(axis=1)[:, np.newaxis])\n"
     ]
    },
    {
     "name": "stdout",
     "output_type": "stream",
     "text": [
      "Running:  [15, 'gini', 42, 25]\n"
     ]
    },
    {
     "name": "stderr",
     "output_type": "stream",
     "text": [
      "c:\\users\\sharm\\appdata\\local\\programs\\python\\python36\\lib\\site-packages\\sklearn\\ensemble\\forest.py:451: UserWarning: Some inputs do not have OOB scores. This probably means too few trees were used to compute any reliable oob estimates.\n",
      "  warn(\"Some inputs do not have OOB scores. \"\n",
      "c:\\users\\sharm\\appdata\\local\\programs\\python\\python36\\lib\\site-packages\\sklearn\\ensemble\\forest.py:456: RuntimeWarning: invalid value encountered in true_divide\n",
      "  predictions[k].sum(axis=1)[:, np.newaxis])\n"
     ]
    },
    {
     "name": "stdout",
     "output_type": "stream",
     "text": [
      "Running:  [15, 'gini', 42, 27]\n"
     ]
    },
    {
     "name": "stderr",
     "output_type": "stream",
     "text": [
      "c:\\users\\sharm\\appdata\\local\\programs\\python\\python36\\lib\\site-packages\\sklearn\\ensemble\\forest.py:451: UserWarning: Some inputs do not have OOB scores. This probably means too few trees were used to compute any reliable oob estimates.\n",
      "  warn(\"Some inputs do not have OOB scores. \"\n",
      "c:\\users\\sharm\\appdata\\local\\programs\\python\\python36\\lib\\site-packages\\sklearn\\ensemble\\forest.py:456: RuntimeWarning: invalid value encountered in true_divide\n",
      "  predictions[k].sum(axis=1)[:, np.newaxis])\n"
     ]
    },
    {
     "name": "stdout",
     "output_type": "stream",
     "text": [
      "Running:  [15, 'gini', 42, 29]\n"
     ]
    },
    {
     "name": "stderr",
     "output_type": "stream",
     "text": [
      "c:\\users\\sharm\\appdata\\local\\programs\\python\\python36\\lib\\site-packages\\sklearn\\ensemble\\forest.py:451: UserWarning: Some inputs do not have OOB scores. This probably means too few trees were used to compute any reliable oob estimates.\n",
      "  warn(\"Some inputs do not have OOB scores. \"\n",
      "c:\\users\\sharm\\appdata\\local\\programs\\python\\python36\\lib\\site-packages\\sklearn\\ensemble\\forest.py:456: RuntimeWarning: invalid value encountered in true_divide\n",
      "  predictions[k].sum(axis=1)[:, np.newaxis])\n"
     ]
    },
    {
     "name": "stdout",
     "output_type": "stream",
     "text": [
      "Running:  [15, 'gini', 44, 5]\n"
     ]
    },
    {
     "name": "stderr",
     "output_type": "stream",
     "text": [
      "c:\\users\\sharm\\appdata\\local\\programs\\python\\python36\\lib\\site-packages\\sklearn\\ensemble\\forest.py:451: UserWarning: Some inputs do not have OOB scores. This probably means too few trees were used to compute any reliable oob estimates.\n",
      "  warn(\"Some inputs do not have OOB scores. \"\n",
      "c:\\users\\sharm\\appdata\\local\\programs\\python\\python36\\lib\\site-packages\\sklearn\\ensemble\\forest.py:456: RuntimeWarning: invalid value encountered in true_divide\n",
      "  predictions[k].sum(axis=1)[:, np.newaxis])\n"
     ]
    },
    {
     "name": "stdout",
     "output_type": "stream",
     "text": [
      "Running:  [15, 'gini', 44, 7]\n"
     ]
    },
    {
     "name": "stderr",
     "output_type": "stream",
     "text": [
      "c:\\users\\sharm\\appdata\\local\\programs\\python\\python36\\lib\\site-packages\\sklearn\\ensemble\\forest.py:451: UserWarning: Some inputs do not have OOB scores. This probably means too few trees were used to compute any reliable oob estimates.\n",
      "  warn(\"Some inputs do not have OOB scores. \"\n",
      "c:\\users\\sharm\\appdata\\local\\programs\\python\\python36\\lib\\site-packages\\sklearn\\ensemble\\forest.py:456: RuntimeWarning: invalid value encountered in true_divide\n",
      "  predictions[k].sum(axis=1)[:, np.newaxis])\n"
     ]
    },
    {
     "name": "stdout",
     "output_type": "stream",
     "text": [
      "Running:  [15, 'gini', 44, 9]\n"
     ]
    },
    {
     "name": "stderr",
     "output_type": "stream",
     "text": [
      "c:\\users\\sharm\\appdata\\local\\programs\\python\\python36\\lib\\site-packages\\sklearn\\ensemble\\forest.py:451: UserWarning: Some inputs do not have OOB scores. This probably means too few trees were used to compute any reliable oob estimates.\n",
      "  warn(\"Some inputs do not have OOB scores. \"\n",
      "c:\\users\\sharm\\appdata\\local\\programs\\python\\python36\\lib\\site-packages\\sklearn\\ensemble\\forest.py:456: RuntimeWarning: invalid value encountered in true_divide\n",
      "  predictions[k].sum(axis=1)[:, np.newaxis])\n"
     ]
    },
    {
     "name": "stdout",
     "output_type": "stream",
     "text": [
      "Running:  [15, 'gini', 44, 11]\n"
     ]
    },
    {
     "name": "stderr",
     "output_type": "stream",
     "text": [
      "c:\\users\\sharm\\appdata\\local\\programs\\python\\python36\\lib\\site-packages\\sklearn\\ensemble\\forest.py:451: UserWarning: Some inputs do not have OOB scores. This probably means too few trees were used to compute any reliable oob estimates.\n",
      "  warn(\"Some inputs do not have OOB scores. \"\n",
      "c:\\users\\sharm\\appdata\\local\\programs\\python\\python36\\lib\\site-packages\\sklearn\\ensemble\\forest.py:456: RuntimeWarning: invalid value encountered in true_divide\n",
      "  predictions[k].sum(axis=1)[:, np.newaxis])\n"
     ]
    },
    {
     "name": "stdout",
     "output_type": "stream",
     "text": [
      "Running:  [15, 'gini', 44, 13]\n"
     ]
    },
    {
     "name": "stderr",
     "output_type": "stream",
     "text": [
      "c:\\users\\sharm\\appdata\\local\\programs\\python\\python36\\lib\\site-packages\\sklearn\\ensemble\\forest.py:451: UserWarning: Some inputs do not have OOB scores. This probably means too few trees were used to compute any reliable oob estimates.\n",
      "  warn(\"Some inputs do not have OOB scores. \"\n",
      "c:\\users\\sharm\\appdata\\local\\programs\\python\\python36\\lib\\site-packages\\sklearn\\ensemble\\forest.py:456: RuntimeWarning: invalid value encountered in true_divide\n",
      "  predictions[k].sum(axis=1)[:, np.newaxis])\n"
     ]
    },
    {
     "name": "stdout",
     "output_type": "stream",
     "text": [
      "Running:  [15, 'gini', 44, 15]\n"
     ]
    },
    {
     "name": "stderr",
     "output_type": "stream",
     "text": [
      "c:\\users\\sharm\\appdata\\local\\programs\\python\\python36\\lib\\site-packages\\sklearn\\ensemble\\forest.py:451: UserWarning: Some inputs do not have OOB scores. This probably means too few trees were used to compute any reliable oob estimates.\n",
      "  warn(\"Some inputs do not have OOB scores. \"\n",
      "c:\\users\\sharm\\appdata\\local\\programs\\python\\python36\\lib\\site-packages\\sklearn\\ensemble\\forest.py:456: RuntimeWarning: invalid value encountered in true_divide\n",
      "  predictions[k].sum(axis=1)[:, np.newaxis])\n"
     ]
    },
    {
     "name": "stdout",
     "output_type": "stream",
     "text": [
      "Running:  [15, 'gini', 44, 17]\n"
     ]
    },
    {
     "name": "stderr",
     "output_type": "stream",
     "text": [
      "c:\\users\\sharm\\appdata\\local\\programs\\python\\python36\\lib\\site-packages\\sklearn\\ensemble\\forest.py:451: UserWarning: Some inputs do not have OOB scores. This probably means too few trees were used to compute any reliable oob estimates.\n",
      "  warn(\"Some inputs do not have OOB scores. \"\n",
      "c:\\users\\sharm\\appdata\\local\\programs\\python\\python36\\lib\\site-packages\\sklearn\\ensemble\\forest.py:456: RuntimeWarning: invalid value encountered in true_divide\n",
      "  predictions[k].sum(axis=1)[:, np.newaxis])\n"
     ]
    },
    {
     "name": "stdout",
     "output_type": "stream",
     "text": [
      "Running:  [15, 'gini', 44, 19]\n"
     ]
    },
    {
     "name": "stderr",
     "output_type": "stream",
     "text": [
      "c:\\users\\sharm\\appdata\\local\\programs\\python\\python36\\lib\\site-packages\\sklearn\\ensemble\\forest.py:451: UserWarning: Some inputs do not have OOB scores. This probably means too few trees were used to compute any reliable oob estimates.\n",
      "  warn(\"Some inputs do not have OOB scores. \"\n",
      "c:\\users\\sharm\\appdata\\local\\programs\\python\\python36\\lib\\site-packages\\sklearn\\ensemble\\forest.py:456: RuntimeWarning: invalid value encountered in true_divide\n",
      "  predictions[k].sum(axis=1)[:, np.newaxis])\n"
     ]
    },
    {
     "name": "stdout",
     "output_type": "stream",
     "text": [
      "Running:  [15, 'gini', 44, 21]\n"
     ]
    },
    {
     "name": "stderr",
     "output_type": "stream",
     "text": [
      "c:\\users\\sharm\\appdata\\local\\programs\\python\\python36\\lib\\site-packages\\sklearn\\ensemble\\forest.py:451: UserWarning: Some inputs do not have OOB scores. This probably means too few trees were used to compute any reliable oob estimates.\n",
      "  warn(\"Some inputs do not have OOB scores. \"\n",
      "c:\\users\\sharm\\appdata\\local\\programs\\python\\python36\\lib\\site-packages\\sklearn\\ensemble\\forest.py:456: RuntimeWarning: invalid value encountered in true_divide\n",
      "  predictions[k].sum(axis=1)[:, np.newaxis])\n"
     ]
    },
    {
     "name": "stdout",
     "output_type": "stream",
     "text": [
      "Running:  [15, 'gini', 44, 23]\n"
     ]
    },
    {
     "name": "stderr",
     "output_type": "stream",
     "text": [
      "c:\\users\\sharm\\appdata\\local\\programs\\python\\python36\\lib\\site-packages\\sklearn\\ensemble\\forest.py:451: UserWarning: Some inputs do not have OOB scores. This probably means too few trees were used to compute any reliable oob estimates.\n",
      "  warn(\"Some inputs do not have OOB scores. \"\n",
      "c:\\users\\sharm\\appdata\\local\\programs\\python\\python36\\lib\\site-packages\\sklearn\\ensemble\\forest.py:456: RuntimeWarning: invalid value encountered in true_divide\n",
      "  predictions[k].sum(axis=1)[:, np.newaxis])\n"
     ]
    },
    {
     "name": "stdout",
     "output_type": "stream",
     "text": [
      "Running:  [15, 'gini', 44, 25]\n"
     ]
    },
    {
     "name": "stderr",
     "output_type": "stream",
     "text": [
      "c:\\users\\sharm\\appdata\\local\\programs\\python\\python36\\lib\\site-packages\\sklearn\\ensemble\\forest.py:451: UserWarning: Some inputs do not have OOB scores. This probably means too few trees were used to compute any reliable oob estimates.\n",
      "  warn(\"Some inputs do not have OOB scores. \"\n",
      "c:\\users\\sharm\\appdata\\local\\programs\\python\\python36\\lib\\site-packages\\sklearn\\ensemble\\forest.py:456: RuntimeWarning: invalid value encountered in true_divide\n",
      "  predictions[k].sum(axis=1)[:, np.newaxis])\n"
     ]
    },
    {
     "name": "stdout",
     "output_type": "stream",
     "text": [
      "Running:  [15, 'gini', 44, 27]\n"
     ]
    },
    {
     "name": "stderr",
     "output_type": "stream",
     "text": [
      "c:\\users\\sharm\\appdata\\local\\programs\\python\\python36\\lib\\site-packages\\sklearn\\ensemble\\forest.py:451: UserWarning: Some inputs do not have OOB scores. This probably means too few trees were used to compute any reliable oob estimates.\n",
      "  warn(\"Some inputs do not have OOB scores. \"\n",
      "c:\\users\\sharm\\appdata\\local\\programs\\python\\python36\\lib\\site-packages\\sklearn\\ensemble\\forest.py:456: RuntimeWarning: invalid value encountered in true_divide\n",
      "  predictions[k].sum(axis=1)[:, np.newaxis])\n"
     ]
    },
    {
     "name": "stdout",
     "output_type": "stream",
     "text": [
      "Running:  [15, 'gini', 44, 29]\n"
     ]
    },
    {
     "name": "stderr",
     "output_type": "stream",
     "text": [
      "c:\\users\\sharm\\appdata\\local\\programs\\python\\python36\\lib\\site-packages\\sklearn\\ensemble\\forest.py:451: UserWarning: Some inputs do not have OOB scores. This probably means too few trees were used to compute any reliable oob estimates.\n",
      "  warn(\"Some inputs do not have OOB scores. \"\n",
      "c:\\users\\sharm\\appdata\\local\\programs\\python\\python36\\lib\\site-packages\\sklearn\\ensemble\\forest.py:456: RuntimeWarning: invalid value encountered in true_divide\n",
      "  predictions[k].sum(axis=1)[:, np.newaxis])\n"
     ]
    },
    {
     "name": "stdout",
     "output_type": "stream",
     "text": [
      "Running:  [15, 'gini', 46, 5]\n"
     ]
    },
    {
     "name": "stderr",
     "output_type": "stream",
     "text": [
      "c:\\users\\sharm\\appdata\\local\\programs\\python\\python36\\lib\\site-packages\\sklearn\\ensemble\\forest.py:451: UserWarning: Some inputs do not have OOB scores. This probably means too few trees were used to compute any reliable oob estimates.\n",
      "  warn(\"Some inputs do not have OOB scores. \"\n",
      "c:\\users\\sharm\\appdata\\local\\programs\\python\\python36\\lib\\site-packages\\sklearn\\ensemble\\forest.py:456: RuntimeWarning: invalid value encountered in true_divide\n",
      "  predictions[k].sum(axis=1)[:, np.newaxis])\n"
     ]
    },
    {
     "name": "stdout",
     "output_type": "stream",
     "text": [
      "Running:  [15, 'gini', 46, 7]\n"
     ]
    },
    {
     "name": "stderr",
     "output_type": "stream",
     "text": [
      "c:\\users\\sharm\\appdata\\local\\programs\\python\\python36\\lib\\site-packages\\sklearn\\ensemble\\forest.py:451: UserWarning: Some inputs do not have OOB scores. This probably means too few trees were used to compute any reliable oob estimates.\n",
      "  warn(\"Some inputs do not have OOB scores. \"\n",
      "c:\\users\\sharm\\appdata\\local\\programs\\python\\python36\\lib\\site-packages\\sklearn\\ensemble\\forest.py:456: RuntimeWarning: invalid value encountered in true_divide\n",
      "  predictions[k].sum(axis=1)[:, np.newaxis])\n"
     ]
    },
    {
     "name": "stdout",
     "output_type": "stream",
     "text": [
      "Running:  [15, 'gini', 46, 9]\n"
     ]
    },
    {
     "name": "stderr",
     "output_type": "stream",
     "text": [
      "c:\\users\\sharm\\appdata\\local\\programs\\python\\python36\\lib\\site-packages\\sklearn\\ensemble\\forest.py:451: UserWarning: Some inputs do not have OOB scores. This probably means too few trees were used to compute any reliable oob estimates.\n",
      "  warn(\"Some inputs do not have OOB scores. \"\n",
      "c:\\users\\sharm\\appdata\\local\\programs\\python\\python36\\lib\\site-packages\\sklearn\\ensemble\\forest.py:456: RuntimeWarning: invalid value encountered in true_divide\n",
      "  predictions[k].sum(axis=1)[:, np.newaxis])\n"
     ]
    },
    {
     "name": "stdout",
     "output_type": "stream",
     "text": [
      "Running:  [15, 'gini', 46, 11]\n"
     ]
    },
    {
     "name": "stderr",
     "output_type": "stream",
     "text": [
      "c:\\users\\sharm\\appdata\\local\\programs\\python\\python36\\lib\\site-packages\\sklearn\\ensemble\\forest.py:451: UserWarning: Some inputs do not have OOB scores. This probably means too few trees were used to compute any reliable oob estimates.\n",
      "  warn(\"Some inputs do not have OOB scores. \"\n",
      "c:\\users\\sharm\\appdata\\local\\programs\\python\\python36\\lib\\site-packages\\sklearn\\ensemble\\forest.py:456: RuntimeWarning: invalid value encountered in true_divide\n",
      "  predictions[k].sum(axis=1)[:, np.newaxis])\n"
     ]
    },
    {
     "name": "stdout",
     "output_type": "stream",
     "text": [
      "Running:  [15, 'gini', 46, 13]\n"
     ]
    },
    {
     "name": "stderr",
     "output_type": "stream",
     "text": [
      "c:\\users\\sharm\\appdata\\local\\programs\\python\\python36\\lib\\site-packages\\sklearn\\ensemble\\forest.py:451: UserWarning: Some inputs do not have OOB scores. This probably means too few trees were used to compute any reliable oob estimates.\n",
      "  warn(\"Some inputs do not have OOB scores. \"\n",
      "c:\\users\\sharm\\appdata\\local\\programs\\python\\python36\\lib\\site-packages\\sklearn\\ensemble\\forest.py:456: RuntimeWarning: invalid value encountered in true_divide\n",
      "  predictions[k].sum(axis=1)[:, np.newaxis])\n"
     ]
    },
    {
     "name": "stdout",
     "output_type": "stream",
     "text": [
      "Running:  [15, 'gini', 46, 15]\n"
     ]
    },
    {
     "name": "stderr",
     "output_type": "stream",
     "text": [
      "c:\\users\\sharm\\appdata\\local\\programs\\python\\python36\\lib\\site-packages\\sklearn\\ensemble\\forest.py:451: UserWarning: Some inputs do not have OOB scores. This probably means too few trees were used to compute any reliable oob estimates.\n",
      "  warn(\"Some inputs do not have OOB scores. \"\n",
      "c:\\users\\sharm\\appdata\\local\\programs\\python\\python36\\lib\\site-packages\\sklearn\\ensemble\\forest.py:456: RuntimeWarning: invalid value encountered in true_divide\n",
      "  predictions[k].sum(axis=1)[:, np.newaxis])\n"
     ]
    },
    {
     "name": "stdout",
     "output_type": "stream",
     "text": [
      "Running:  [15, 'gini', 46, 17]\n"
     ]
    },
    {
     "name": "stderr",
     "output_type": "stream",
     "text": [
      "c:\\users\\sharm\\appdata\\local\\programs\\python\\python36\\lib\\site-packages\\sklearn\\ensemble\\forest.py:451: UserWarning: Some inputs do not have OOB scores. This probably means too few trees were used to compute any reliable oob estimates.\n",
      "  warn(\"Some inputs do not have OOB scores. \"\n",
      "c:\\users\\sharm\\appdata\\local\\programs\\python\\python36\\lib\\site-packages\\sklearn\\ensemble\\forest.py:456: RuntimeWarning: invalid value encountered in true_divide\n",
      "  predictions[k].sum(axis=1)[:, np.newaxis])\n"
     ]
    },
    {
     "name": "stdout",
     "output_type": "stream",
     "text": [
      "Running:  [15, 'gini', 46, 19]\n"
     ]
    },
    {
     "name": "stderr",
     "output_type": "stream",
     "text": [
      "c:\\users\\sharm\\appdata\\local\\programs\\python\\python36\\lib\\site-packages\\sklearn\\ensemble\\forest.py:451: UserWarning: Some inputs do not have OOB scores. This probably means too few trees were used to compute any reliable oob estimates.\n",
      "  warn(\"Some inputs do not have OOB scores. \"\n",
      "c:\\users\\sharm\\appdata\\local\\programs\\python\\python36\\lib\\site-packages\\sklearn\\ensemble\\forest.py:456: RuntimeWarning: invalid value encountered in true_divide\n",
      "  predictions[k].sum(axis=1)[:, np.newaxis])\n"
     ]
    },
    {
     "name": "stdout",
     "output_type": "stream",
     "text": [
      "Running:  [15, 'gini', 46, 21]\n"
     ]
    },
    {
     "name": "stderr",
     "output_type": "stream",
     "text": [
      "c:\\users\\sharm\\appdata\\local\\programs\\python\\python36\\lib\\site-packages\\sklearn\\ensemble\\forest.py:451: UserWarning: Some inputs do not have OOB scores. This probably means too few trees were used to compute any reliable oob estimates.\n",
      "  warn(\"Some inputs do not have OOB scores. \"\n",
      "c:\\users\\sharm\\appdata\\local\\programs\\python\\python36\\lib\\site-packages\\sklearn\\ensemble\\forest.py:456: RuntimeWarning: invalid value encountered in true_divide\n",
      "  predictions[k].sum(axis=1)[:, np.newaxis])\n"
     ]
    },
    {
     "name": "stdout",
     "output_type": "stream",
     "text": [
      "Running:  [15, 'gini', 46, 23]\n"
     ]
    },
    {
     "name": "stderr",
     "output_type": "stream",
     "text": [
      "c:\\users\\sharm\\appdata\\local\\programs\\python\\python36\\lib\\site-packages\\sklearn\\ensemble\\forest.py:451: UserWarning: Some inputs do not have OOB scores. This probably means too few trees were used to compute any reliable oob estimates.\n",
      "  warn(\"Some inputs do not have OOB scores. \"\n",
      "c:\\users\\sharm\\appdata\\local\\programs\\python\\python36\\lib\\site-packages\\sklearn\\ensemble\\forest.py:456: RuntimeWarning: invalid value encountered in true_divide\n",
      "  predictions[k].sum(axis=1)[:, np.newaxis])\n"
     ]
    },
    {
     "name": "stdout",
     "output_type": "stream",
     "text": [
      "Running:  [15, 'gini', 46, 25]\n"
     ]
    },
    {
     "name": "stderr",
     "output_type": "stream",
     "text": [
      "c:\\users\\sharm\\appdata\\local\\programs\\python\\python36\\lib\\site-packages\\sklearn\\ensemble\\forest.py:451: UserWarning: Some inputs do not have OOB scores. This probably means too few trees were used to compute any reliable oob estimates.\n",
      "  warn(\"Some inputs do not have OOB scores. \"\n",
      "c:\\users\\sharm\\appdata\\local\\programs\\python\\python36\\lib\\site-packages\\sklearn\\ensemble\\forest.py:456: RuntimeWarning: invalid value encountered in true_divide\n",
      "  predictions[k].sum(axis=1)[:, np.newaxis])\n"
     ]
    },
    {
     "name": "stdout",
     "output_type": "stream",
     "text": [
      "Running:  [15, 'gini', 46, 27]\n"
     ]
    },
    {
     "name": "stderr",
     "output_type": "stream",
     "text": [
      "c:\\users\\sharm\\appdata\\local\\programs\\python\\python36\\lib\\site-packages\\sklearn\\ensemble\\forest.py:451: UserWarning: Some inputs do not have OOB scores. This probably means too few trees were used to compute any reliable oob estimates.\n",
      "  warn(\"Some inputs do not have OOB scores. \"\n",
      "c:\\users\\sharm\\appdata\\local\\programs\\python\\python36\\lib\\site-packages\\sklearn\\ensemble\\forest.py:456: RuntimeWarning: invalid value encountered in true_divide\n",
      "  predictions[k].sum(axis=1)[:, np.newaxis])\n"
     ]
    },
    {
     "name": "stdout",
     "output_type": "stream",
     "text": [
      "Running:  [15, 'gini', 46, 29]\n"
     ]
    },
    {
     "name": "stderr",
     "output_type": "stream",
     "text": [
      "c:\\users\\sharm\\appdata\\local\\programs\\python\\python36\\lib\\site-packages\\sklearn\\ensemble\\forest.py:451: UserWarning: Some inputs do not have OOB scores. This probably means too few trees were used to compute any reliable oob estimates.\n",
      "  warn(\"Some inputs do not have OOB scores. \"\n",
      "c:\\users\\sharm\\appdata\\local\\programs\\python\\python36\\lib\\site-packages\\sklearn\\ensemble\\forest.py:456: RuntimeWarning: invalid value encountered in true_divide\n",
      "  predictions[k].sum(axis=1)[:, np.newaxis])\n"
     ]
    },
    {
     "name": "stdout",
     "output_type": "stream",
     "text": [
      "Running:  [15, 'gini', 48, 5]\n"
     ]
    },
    {
     "name": "stderr",
     "output_type": "stream",
     "text": [
      "c:\\users\\sharm\\appdata\\local\\programs\\python\\python36\\lib\\site-packages\\sklearn\\ensemble\\forest.py:451: UserWarning: Some inputs do not have OOB scores. This probably means too few trees were used to compute any reliable oob estimates.\n",
      "  warn(\"Some inputs do not have OOB scores. \"\n",
      "c:\\users\\sharm\\appdata\\local\\programs\\python\\python36\\lib\\site-packages\\sklearn\\ensemble\\forest.py:456: RuntimeWarning: invalid value encountered in true_divide\n",
      "  predictions[k].sum(axis=1)[:, np.newaxis])\n"
     ]
    },
    {
     "name": "stdout",
     "output_type": "stream",
     "text": [
      "Running:  [15, 'gini', 48, 7]\n"
     ]
    },
    {
     "name": "stderr",
     "output_type": "stream",
     "text": [
      "c:\\users\\sharm\\appdata\\local\\programs\\python\\python36\\lib\\site-packages\\sklearn\\ensemble\\forest.py:451: UserWarning: Some inputs do not have OOB scores. This probably means too few trees were used to compute any reliable oob estimates.\n",
      "  warn(\"Some inputs do not have OOB scores. \"\n",
      "c:\\users\\sharm\\appdata\\local\\programs\\python\\python36\\lib\\site-packages\\sklearn\\ensemble\\forest.py:456: RuntimeWarning: invalid value encountered in true_divide\n",
      "  predictions[k].sum(axis=1)[:, np.newaxis])\n"
     ]
    },
    {
     "name": "stdout",
     "output_type": "stream",
     "text": [
      "Running:  [15, 'gini', 48, 9]\n"
     ]
    },
    {
     "name": "stderr",
     "output_type": "stream",
     "text": [
      "c:\\users\\sharm\\appdata\\local\\programs\\python\\python36\\lib\\site-packages\\sklearn\\ensemble\\forest.py:451: UserWarning: Some inputs do not have OOB scores. This probably means too few trees were used to compute any reliable oob estimates.\n",
      "  warn(\"Some inputs do not have OOB scores. \"\n",
      "c:\\users\\sharm\\appdata\\local\\programs\\python\\python36\\lib\\site-packages\\sklearn\\ensemble\\forest.py:456: RuntimeWarning: invalid value encountered in true_divide\n",
      "  predictions[k].sum(axis=1)[:, np.newaxis])\n"
     ]
    },
    {
     "name": "stdout",
     "output_type": "stream",
     "text": [
      "Running:  [15, 'gini', 48, 11]\n"
     ]
    },
    {
     "name": "stderr",
     "output_type": "stream",
     "text": [
      "c:\\users\\sharm\\appdata\\local\\programs\\python\\python36\\lib\\site-packages\\sklearn\\ensemble\\forest.py:451: UserWarning: Some inputs do not have OOB scores. This probably means too few trees were used to compute any reliable oob estimates.\n",
      "  warn(\"Some inputs do not have OOB scores. \"\n",
      "c:\\users\\sharm\\appdata\\local\\programs\\python\\python36\\lib\\site-packages\\sklearn\\ensemble\\forest.py:456: RuntimeWarning: invalid value encountered in true_divide\n",
      "  predictions[k].sum(axis=1)[:, np.newaxis])\n"
     ]
    },
    {
     "name": "stdout",
     "output_type": "stream",
     "text": [
      "Running:  [15, 'gini', 48, 13]\n"
     ]
    },
    {
     "name": "stderr",
     "output_type": "stream",
     "text": [
      "c:\\users\\sharm\\appdata\\local\\programs\\python\\python36\\lib\\site-packages\\sklearn\\ensemble\\forest.py:451: UserWarning: Some inputs do not have OOB scores. This probably means too few trees were used to compute any reliable oob estimates.\n",
      "  warn(\"Some inputs do not have OOB scores. \"\n",
      "c:\\users\\sharm\\appdata\\local\\programs\\python\\python36\\lib\\site-packages\\sklearn\\ensemble\\forest.py:456: RuntimeWarning: invalid value encountered in true_divide\n",
      "  predictions[k].sum(axis=1)[:, np.newaxis])\n"
     ]
    },
    {
     "name": "stdout",
     "output_type": "stream",
     "text": [
      "Running:  [15, 'gini', 48, 15]\n"
     ]
    },
    {
     "name": "stderr",
     "output_type": "stream",
     "text": [
      "c:\\users\\sharm\\appdata\\local\\programs\\python\\python36\\lib\\site-packages\\sklearn\\ensemble\\forest.py:451: UserWarning: Some inputs do not have OOB scores. This probably means too few trees were used to compute any reliable oob estimates.\n",
      "  warn(\"Some inputs do not have OOB scores. \"\n",
      "c:\\users\\sharm\\appdata\\local\\programs\\python\\python36\\lib\\site-packages\\sklearn\\ensemble\\forest.py:456: RuntimeWarning: invalid value encountered in true_divide\n",
      "  predictions[k].sum(axis=1)[:, np.newaxis])\n"
     ]
    },
    {
     "name": "stdout",
     "output_type": "stream",
     "text": [
      "Running:  [15, 'gini', 48, 17]\n"
     ]
    },
    {
     "name": "stderr",
     "output_type": "stream",
     "text": [
      "c:\\users\\sharm\\appdata\\local\\programs\\python\\python36\\lib\\site-packages\\sklearn\\ensemble\\forest.py:451: UserWarning: Some inputs do not have OOB scores. This probably means too few trees were used to compute any reliable oob estimates.\n",
      "  warn(\"Some inputs do not have OOB scores. \"\n",
      "c:\\users\\sharm\\appdata\\local\\programs\\python\\python36\\lib\\site-packages\\sklearn\\ensemble\\forest.py:456: RuntimeWarning: invalid value encountered in true_divide\n",
      "  predictions[k].sum(axis=1)[:, np.newaxis])\n"
     ]
    },
    {
     "name": "stdout",
     "output_type": "stream",
     "text": [
      "Running:  [15, 'gini', 48, 19]\n"
     ]
    },
    {
     "name": "stderr",
     "output_type": "stream",
     "text": [
      "c:\\users\\sharm\\appdata\\local\\programs\\python\\python36\\lib\\site-packages\\sklearn\\ensemble\\forest.py:451: UserWarning: Some inputs do not have OOB scores. This probably means too few trees were used to compute any reliable oob estimates.\n",
      "  warn(\"Some inputs do not have OOB scores. \"\n",
      "c:\\users\\sharm\\appdata\\local\\programs\\python\\python36\\lib\\site-packages\\sklearn\\ensemble\\forest.py:456: RuntimeWarning: invalid value encountered in true_divide\n",
      "  predictions[k].sum(axis=1)[:, np.newaxis])\n"
     ]
    },
    {
     "name": "stdout",
     "output_type": "stream",
     "text": [
      "Running:  [15, 'gini', 48, 21]\n"
     ]
    },
    {
     "name": "stderr",
     "output_type": "stream",
     "text": [
      "c:\\users\\sharm\\appdata\\local\\programs\\python\\python36\\lib\\site-packages\\sklearn\\ensemble\\forest.py:451: UserWarning: Some inputs do not have OOB scores. This probably means too few trees were used to compute any reliable oob estimates.\n",
      "  warn(\"Some inputs do not have OOB scores. \"\n",
      "c:\\users\\sharm\\appdata\\local\\programs\\python\\python36\\lib\\site-packages\\sklearn\\ensemble\\forest.py:456: RuntimeWarning: invalid value encountered in true_divide\n",
      "  predictions[k].sum(axis=1)[:, np.newaxis])\n"
     ]
    },
    {
     "name": "stdout",
     "output_type": "stream",
     "text": [
      "Running:  [15, 'gini', 48, 23]\n"
     ]
    },
    {
     "name": "stderr",
     "output_type": "stream",
     "text": [
      "c:\\users\\sharm\\appdata\\local\\programs\\python\\python36\\lib\\site-packages\\sklearn\\ensemble\\forest.py:451: UserWarning: Some inputs do not have OOB scores. This probably means too few trees were used to compute any reliable oob estimates.\n",
      "  warn(\"Some inputs do not have OOB scores. \"\n",
      "c:\\users\\sharm\\appdata\\local\\programs\\python\\python36\\lib\\site-packages\\sklearn\\ensemble\\forest.py:456: RuntimeWarning: invalid value encountered in true_divide\n",
      "  predictions[k].sum(axis=1)[:, np.newaxis])\n"
     ]
    },
    {
     "name": "stdout",
     "output_type": "stream",
     "text": [
      "Running:  [15, 'gini', 48, 25]\n"
     ]
    },
    {
     "name": "stderr",
     "output_type": "stream",
     "text": [
      "c:\\users\\sharm\\appdata\\local\\programs\\python\\python36\\lib\\site-packages\\sklearn\\ensemble\\forest.py:451: UserWarning: Some inputs do not have OOB scores. This probably means too few trees were used to compute any reliable oob estimates.\n",
      "  warn(\"Some inputs do not have OOB scores. \"\n",
      "c:\\users\\sharm\\appdata\\local\\programs\\python\\python36\\lib\\site-packages\\sklearn\\ensemble\\forest.py:456: RuntimeWarning: invalid value encountered in true_divide\n",
      "  predictions[k].sum(axis=1)[:, np.newaxis])\n"
     ]
    },
    {
     "name": "stdout",
     "output_type": "stream",
     "text": [
      "Running:  [15, 'gini', 48, 27]\n"
     ]
    },
    {
     "name": "stderr",
     "output_type": "stream",
     "text": [
      "c:\\users\\sharm\\appdata\\local\\programs\\python\\python36\\lib\\site-packages\\sklearn\\ensemble\\forest.py:451: UserWarning: Some inputs do not have OOB scores. This probably means too few trees were used to compute any reliable oob estimates.\n",
      "  warn(\"Some inputs do not have OOB scores. \"\n",
      "c:\\users\\sharm\\appdata\\local\\programs\\python\\python36\\lib\\site-packages\\sklearn\\ensemble\\forest.py:456: RuntimeWarning: invalid value encountered in true_divide\n",
      "  predictions[k].sum(axis=1)[:, np.newaxis])\n"
     ]
    },
    {
     "name": "stdout",
     "output_type": "stream",
     "text": [
      "Running:  [15, 'gini', 48, 29]\n"
     ]
    },
    {
     "name": "stderr",
     "output_type": "stream",
     "text": [
      "c:\\users\\sharm\\appdata\\local\\programs\\python\\python36\\lib\\site-packages\\sklearn\\ensemble\\forest.py:451: UserWarning: Some inputs do not have OOB scores. This probably means too few trees were used to compute any reliable oob estimates.\n",
      "  warn(\"Some inputs do not have OOB scores. \"\n",
      "c:\\users\\sharm\\appdata\\local\\programs\\python\\python36\\lib\\site-packages\\sklearn\\ensemble\\forest.py:456: RuntimeWarning: invalid value encountered in true_divide\n",
      "  predictions[k].sum(axis=1)[:, np.newaxis])\n"
     ]
    },
    {
     "name": "stdout",
     "output_type": "stream",
     "text": [
      "Running:  [20, 'gini', 12, 5]\n"
     ]
    },
    {
     "name": "stderr",
     "output_type": "stream",
     "text": [
      "c:\\users\\sharm\\appdata\\local\\programs\\python\\python36\\lib\\site-packages\\sklearn\\ensemble\\forest.py:451: UserWarning: Some inputs do not have OOB scores. This probably means too few trees were used to compute any reliable oob estimates.\n",
      "  warn(\"Some inputs do not have OOB scores. \"\n",
      "c:\\users\\sharm\\appdata\\local\\programs\\python\\python36\\lib\\site-packages\\sklearn\\ensemble\\forest.py:456: RuntimeWarning: invalid value encountered in true_divide\n",
      "  predictions[k].sum(axis=1)[:, np.newaxis])\n"
     ]
    },
    {
     "name": "stdout",
     "output_type": "stream",
     "text": [
      "Running:  [20, 'gini', 12, 7]\n"
     ]
    },
    {
     "name": "stderr",
     "output_type": "stream",
     "text": [
      "c:\\users\\sharm\\appdata\\local\\programs\\python\\python36\\lib\\site-packages\\sklearn\\ensemble\\forest.py:451: UserWarning: Some inputs do not have OOB scores. This probably means too few trees were used to compute any reliable oob estimates.\n",
      "  warn(\"Some inputs do not have OOB scores. \"\n",
      "c:\\users\\sharm\\appdata\\local\\programs\\python\\python36\\lib\\site-packages\\sklearn\\ensemble\\forest.py:456: RuntimeWarning: invalid value encountered in true_divide\n",
      "  predictions[k].sum(axis=1)[:, np.newaxis])\n"
     ]
    },
    {
     "name": "stdout",
     "output_type": "stream",
     "text": [
      "Running:  [20, 'gini', 12, 9]\n"
     ]
    },
    {
     "name": "stderr",
     "output_type": "stream",
     "text": [
      "c:\\users\\sharm\\appdata\\local\\programs\\python\\python36\\lib\\site-packages\\sklearn\\ensemble\\forest.py:451: UserWarning: Some inputs do not have OOB scores. This probably means too few trees were used to compute any reliable oob estimates.\n",
      "  warn(\"Some inputs do not have OOB scores. \"\n",
      "c:\\users\\sharm\\appdata\\local\\programs\\python\\python36\\lib\\site-packages\\sklearn\\ensemble\\forest.py:456: RuntimeWarning: invalid value encountered in true_divide\n",
      "  predictions[k].sum(axis=1)[:, np.newaxis])\n"
     ]
    },
    {
     "name": "stdout",
     "output_type": "stream",
     "text": [
      "Running:  [20, 'gini', 12, 11]\n"
     ]
    },
    {
     "name": "stderr",
     "output_type": "stream",
     "text": [
      "c:\\users\\sharm\\appdata\\local\\programs\\python\\python36\\lib\\site-packages\\sklearn\\ensemble\\forest.py:451: UserWarning: Some inputs do not have OOB scores. This probably means too few trees were used to compute any reliable oob estimates.\n",
      "  warn(\"Some inputs do not have OOB scores. \"\n",
      "c:\\users\\sharm\\appdata\\local\\programs\\python\\python36\\lib\\site-packages\\sklearn\\ensemble\\forest.py:456: RuntimeWarning: invalid value encountered in true_divide\n",
      "  predictions[k].sum(axis=1)[:, np.newaxis])\n"
     ]
    },
    {
     "name": "stdout",
     "output_type": "stream",
     "text": [
      "Running:  [20, 'gini', 12, 13]\n"
     ]
    },
    {
     "name": "stderr",
     "output_type": "stream",
     "text": [
      "c:\\users\\sharm\\appdata\\local\\programs\\python\\python36\\lib\\site-packages\\sklearn\\ensemble\\forest.py:451: UserWarning: Some inputs do not have OOB scores. This probably means too few trees were used to compute any reliable oob estimates.\n",
      "  warn(\"Some inputs do not have OOB scores. \"\n",
      "c:\\users\\sharm\\appdata\\local\\programs\\python\\python36\\lib\\site-packages\\sklearn\\ensemble\\forest.py:456: RuntimeWarning: invalid value encountered in true_divide\n",
      "  predictions[k].sum(axis=1)[:, np.newaxis])\n"
     ]
    },
    {
     "name": "stdout",
     "output_type": "stream",
     "text": [
      "Running:  [20, 'gini', 12, 15]\n"
     ]
    },
    {
     "name": "stderr",
     "output_type": "stream",
     "text": [
      "c:\\users\\sharm\\appdata\\local\\programs\\python\\python36\\lib\\site-packages\\sklearn\\ensemble\\forest.py:451: UserWarning: Some inputs do not have OOB scores. This probably means too few trees were used to compute any reliable oob estimates.\n",
      "  warn(\"Some inputs do not have OOB scores. \"\n",
      "c:\\users\\sharm\\appdata\\local\\programs\\python\\python36\\lib\\site-packages\\sklearn\\ensemble\\forest.py:456: RuntimeWarning: invalid value encountered in true_divide\n",
      "  predictions[k].sum(axis=1)[:, np.newaxis])\n"
     ]
    },
    {
     "name": "stdout",
     "output_type": "stream",
     "text": [
      "Running:  [20, 'gini', 12, 17]\n"
     ]
    },
    {
     "name": "stderr",
     "output_type": "stream",
     "text": [
      "c:\\users\\sharm\\appdata\\local\\programs\\python\\python36\\lib\\site-packages\\sklearn\\ensemble\\forest.py:451: UserWarning: Some inputs do not have OOB scores. This probably means too few trees were used to compute any reliable oob estimates.\n",
      "  warn(\"Some inputs do not have OOB scores. \"\n",
      "c:\\users\\sharm\\appdata\\local\\programs\\python\\python36\\lib\\site-packages\\sklearn\\ensemble\\forest.py:456: RuntimeWarning: invalid value encountered in true_divide\n",
      "  predictions[k].sum(axis=1)[:, np.newaxis])\n"
     ]
    },
    {
     "name": "stdout",
     "output_type": "stream",
     "text": [
      "Running:  [20, 'gini', 12, 19]\n"
     ]
    },
    {
     "name": "stderr",
     "output_type": "stream",
     "text": [
      "c:\\users\\sharm\\appdata\\local\\programs\\python\\python36\\lib\\site-packages\\sklearn\\ensemble\\forest.py:451: UserWarning: Some inputs do not have OOB scores. This probably means too few trees were used to compute any reliable oob estimates.\n",
      "  warn(\"Some inputs do not have OOB scores. \"\n",
      "c:\\users\\sharm\\appdata\\local\\programs\\python\\python36\\lib\\site-packages\\sklearn\\ensemble\\forest.py:456: RuntimeWarning: invalid value encountered in true_divide\n",
      "  predictions[k].sum(axis=1)[:, np.newaxis])\n"
     ]
    },
    {
     "name": "stdout",
     "output_type": "stream",
     "text": [
      "Running:  [20, 'gini', 12, 21]\n"
     ]
    },
    {
     "name": "stderr",
     "output_type": "stream",
     "text": [
      "c:\\users\\sharm\\appdata\\local\\programs\\python\\python36\\lib\\site-packages\\sklearn\\ensemble\\forest.py:451: UserWarning: Some inputs do not have OOB scores. This probably means too few trees were used to compute any reliable oob estimates.\n",
      "  warn(\"Some inputs do not have OOB scores. \"\n",
      "c:\\users\\sharm\\appdata\\local\\programs\\python\\python36\\lib\\site-packages\\sklearn\\ensemble\\forest.py:456: RuntimeWarning: invalid value encountered in true_divide\n",
      "  predictions[k].sum(axis=1)[:, np.newaxis])\n"
     ]
    },
    {
     "name": "stdout",
     "output_type": "stream",
     "text": [
      "Running:  [20, 'gini', 12, 23]\n"
     ]
    },
    {
     "name": "stderr",
     "output_type": "stream",
     "text": [
      "c:\\users\\sharm\\appdata\\local\\programs\\python\\python36\\lib\\site-packages\\sklearn\\ensemble\\forest.py:451: UserWarning: Some inputs do not have OOB scores. This probably means too few trees were used to compute any reliable oob estimates.\n",
      "  warn(\"Some inputs do not have OOB scores. \"\n",
      "c:\\users\\sharm\\appdata\\local\\programs\\python\\python36\\lib\\site-packages\\sklearn\\ensemble\\forest.py:456: RuntimeWarning: invalid value encountered in true_divide\n",
      "  predictions[k].sum(axis=1)[:, np.newaxis])\n"
     ]
    },
    {
     "name": "stdout",
     "output_type": "stream",
     "text": [
      "Running:  [20, 'gini', 12, 25]\n"
     ]
    },
    {
     "name": "stderr",
     "output_type": "stream",
     "text": [
      "c:\\users\\sharm\\appdata\\local\\programs\\python\\python36\\lib\\site-packages\\sklearn\\ensemble\\forest.py:451: UserWarning: Some inputs do not have OOB scores. This probably means too few trees were used to compute any reliable oob estimates.\n",
      "  warn(\"Some inputs do not have OOB scores. \"\n",
      "c:\\users\\sharm\\appdata\\local\\programs\\python\\python36\\lib\\site-packages\\sklearn\\ensemble\\forest.py:456: RuntimeWarning: invalid value encountered in true_divide\n",
      "  predictions[k].sum(axis=1)[:, np.newaxis])\n"
     ]
    },
    {
     "name": "stdout",
     "output_type": "stream",
     "text": [
      "Running:  [20, 'gini', 12, 27]\n"
     ]
    },
    {
     "name": "stderr",
     "output_type": "stream",
     "text": [
      "c:\\users\\sharm\\appdata\\local\\programs\\python\\python36\\lib\\site-packages\\sklearn\\ensemble\\forest.py:451: UserWarning: Some inputs do not have OOB scores. This probably means too few trees were used to compute any reliable oob estimates.\n",
      "  warn(\"Some inputs do not have OOB scores. \"\n",
      "c:\\users\\sharm\\appdata\\local\\programs\\python\\python36\\lib\\site-packages\\sklearn\\ensemble\\forest.py:456: RuntimeWarning: invalid value encountered in true_divide\n",
      "  predictions[k].sum(axis=1)[:, np.newaxis])\n"
     ]
    },
    {
     "name": "stdout",
     "output_type": "stream",
     "text": [
      "Running:  [20, 'gini', 12, 29]\n"
     ]
    },
    {
     "name": "stderr",
     "output_type": "stream",
     "text": [
      "c:\\users\\sharm\\appdata\\local\\programs\\python\\python36\\lib\\site-packages\\sklearn\\ensemble\\forest.py:451: UserWarning: Some inputs do not have OOB scores. This probably means too few trees were used to compute any reliable oob estimates.\n",
      "  warn(\"Some inputs do not have OOB scores. \"\n",
      "c:\\users\\sharm\\appdata\\local\\programs\\python\\python36\\lib\\site-packages\\sklearn\\ensemble\\forest.py:456: RuntimeWarning: invalid value encountered in true_divide\n",
      "  predictions[k].sum(axis=1)[:, np.newaxis])\n"
     ]
    },
    {
     "name": "stdout",
     "output_type": "stream",
     "text": [
      "Running:  [20, 'gini', 14, 5]\n"
     ]
    },
    {
     "name": "stderr",
     "output_type": "stream",
     "text": [
      "c:\\users\\sharm\\appdata\\local\\programs\\python\\python36\\lib\\site-packages\\sklearn\\ensemble\\forest.py:451: UserWarning: Some inputs do not have OOB scores. This probably means too few trees were used to compute any reliable oob estimates.\n",
      "  warn(\"Some inputs do not have OOB scores. \"\n",
      "c:\\users\\sharm\\appdata\\local\\programs\\python\\python36\\lib\\site-packages\\sklearn\\ensemble\\forest.py:456: RuntimeWarning: invalid value encountered in true_divide\n",
      "  predictions[k].sum(axis=1)[:, np.newaxis])\n"
     ]
    },
    {
     "name": "stdout",
     "output_type": "stream",
     "text": [
      "Running:  [20, 'gini', 14, 7]\n"
     ]
    },
    {
     "name": "stderr",
     "output_type": "stream",
     "text": [
      "c:\\users\\sharm\\appdata\\local\\programs\\python\\python36\\lib\\site-packages\\sklearn\\ensemble\\forest.py:451: UserWarning: Some inputs do not have OOB scores. This probably means too few trees were used to compute any reliable oob estimates.\n",
      "  warn(\"Some inputs do not have OOB scores. \"\n",
      "c:\\users\\sharm\\appdata\\local\\programs\\python\\python36\\lib\\site-packages\\sklearn\\ensemble\\forest.py:456: RuntimeWarning: invalid value encountered in true_divide\n",
      "  predictions[k].sum(axis=1)[:, np.newaxis])\n"
     ]
    },
    {
     "name": "stdout",
     "output_type": "stream",
     "text": [
      "Running:  [20, 'gini', 14, 9]\n"
     ]
    },
    {
     "name": "stderr",
     "output_type": "stream",
     "text": [
      "c:\\users\\sharm\\appdata\\local\\programs\\python\\python36\\lib\\site-packages\\sklearn\\ensemble\\forest.py:451: UserWarning: Some inputs do not have OOB scores. This probably means too few trees were used to compute any reliable oob estimates.\n",
      "  warn(\"Some inputs do not have OOB scores. \"\n",
      "c:\\users\\sharm\\appdata\\local\\programs\\python\\python36\\lib\\site-packages\\sklearn\\ensemble\\forest.py:456: RuntimeWarning: invalid value encountered in true_divide\n",
      "  predictions[k].sum(axis=1)[:, np.newaxis])\n"
     ]
    },
    {
     "name": "stdout",
     "output_type": "stream",
     "text": [
      "Running:  [20, 'gini', 14, 11]\n"
     ]
    },
    {
     "name": "stderr",
     "output_type": "stream",
     "text": [
      "c:\\users\\sharm\\appdata\\local\\programs\\python\\python36\\lib\\site-packages\\sklearn\\ensemble\\forest.py:451: UserWarning: Some inputs do not have OOB scores. This probably means too few trees were used to compute any reliable oob estimates.\n",
      "  warn(\"Some inputs do not have OOB scores. \"\n",
      "c:\\users\\sharm\\appdata\\local\\programs\\python\\python36\\lib\\site-packages\\sklearn\\ensemble\\forest.py:456: RuntimeWarning: invalid value encountered in true_divide\n",
      "  predictions[k].sum(axis=1)[:, np.newaxis])\n"
     ]
    },
    {
     "name": "stdout",
     "output_type": "stream",
     "text": [
      "Running:  [20, 'gini', 14, 13]\n"
     ]
    },
    {
     "name": "stderr",
     "output_type": "stream",
     "text": [
      "c:\\users\\sharm\\appdata\\local\\programs\\python\\python36\\lib\\site-packages\\sklearn\\ensemble\\forest.py:451: UserWarning: Some inputs do not have OOB scores. This probably means too few trees were used to compute any reliable oob estimates.\n",
      "  warn(\"Some inputs do not have OOB scores. \"\n",
      "c:\\users\\sharm\\appdata\\local\\programs\\python\\python36\\lib\\site-packages\\sklearn\\ensemble\\forest.py:456: RuntimeWarning: invalid value encountered in true_divide\n",
      "  predictions[k].sum(axis=1)[:, np.newaxis])\n"
     ]
    },
    {
     "name": "stdout",
     "output_type": "stream",
     "text": [
      "Running:  [20, 'gini', 14, 15]\n"
     ]
    },
    {
     "name": "stderr",
     "output_type": "stream",
     "text": [
      "c:\\users\\sharm\\appdata\\local\\programs\\python\\python36\\lib\\site-packages\\sklearn\\ensemble\\forest.py:451: UserWarning: Some inputs do not have OOB scores. This probably means too few trees were used to compute any reliable oob estimates.\n",
      "  warn(\"Some inputs do not have OOB scores. \"\n",
      "c:\\users\\sharm\\appdata\\local\\programs\\python\\python36\\lib\\site-packages\\sklearn\\ensemble\\forest.py:456: RuntimeWarning: invalid value encountered in true_divide\n",
      "  predictions[k].sum(axis=1)[:, np.newaxis])\n"
     ]
    },
    {
     "name": "stdout",
     "output_type": "stream",
     "text": [
      "Running:  [20, 'gini', 14, 17]\n"
     ]
    },
    {
     "name": "stderr",
     "output_type": "stream",
     "text": [
      "c:\\users\\sharm\\appdata\\local\\programs\\python\\python36\\lib\\site-packages\\sklearn\\ensemble\\forest.py:451: UserWarning: Some inputs do not have OOB scores. This probably means too few trees were used to compute any reliable oob estimates.\n",
      "  warn(\"Some inputs do not have OOB scores. \"\n",
      "c:\\users\\sharm\\appdata\\local\\programs\\python\\python36\\lib\\site-packages\\sklearn\\ensemble\\forest.py:456: RuntimeWarning: invalid value encountered in true_divide\n",
      "  predictions[k].sum(axis=1)[:, np.newaxis])\n"
     ]
    },
    {
     "name": "stdout",
     "output_type": "stream",
     "text": [
      "Running:  [20, 'gini', 14, 19]\n"
     ]
    },
    {
     "name": "stderr",
     "output_type": "stream",
     "text": [
      "c:\\users\\sharm\\appdata\\local\\programs\\python\\python36\\lib\\site-packages\\sklearn\\ensemble\\forest.py:451: UserWarning: Some inputs do not have OOB scores. This probably means too few trees were used to compute any reliable oob estimates.\n",
      "  warn(\"Some inputs do not have OOB scores. \"\n",
      "c:\\users\\sharm\\appdata\\local\\programs\\python\\python36\\lib\\site-packages\\sklearn\\ensemble\\forest.py:456: RuntimeWarning: invalid value encountered in true_divide\n",
      "  predictions[k].sum(axis=1)[:, np.newaxis])\n"
     ]
    },
    {
     "name": "stdout",
     "output_type": "stream",
     "text": [
      "Running:  [20, 'gini', 14, 21]\n"
     ]
    },
    {
     "name": "stderr",
     "output_type": "stream",
     "text": [
      "c:\\users\\sharm\\appdata\\local\\programs\\python\\python36\\lib\\site-packages\\sklearn\\ensemble\\forest.py:451: UserWarning: Some inputs do not have OOB scores. This probably means too few trees were used to compute any reliable oob estimates.\n",
      "  warn(\"Some inputs do not have OOB scores. \"\n",
      "c:\\users\\sharm\\appdata\\local\\programs\\python\\python36\\lib\\site-packages\\sklearn\\ensemble\\forest.py:456: RuntimeWarning: invalid value encountered in true_divide\n",
      "  predictions[k].sum(axis=1)[:, np.newaxis])\n"
     ]
    },
    {
     "name": "stdout",
     "output_type": "stream",
     "text": [
      "Running:  [20, 'gini', 14, 23]\n"
     ]
    },
    {
     "name": "stderr",
     "output_type": "stream",
     "text": [
      "c:\\users\\sharm\\appdata\\local\\programs\\python\\python36\\lib\\site-packages\\sklearn\\ensemble\\forest.py:451: UserWarning: Some inputs do not have OOB scores. This probably means too few trees were used to compute any reliable oob estimates.\n",
      "  warn(\"Some inputs do not have OOB scores. \"\n",
      "c:\\users\\sharm\\appdata\\local\\programs\\python\\python36\\lib\\site-packages\\sklearn\\ensemble\\forest.py:456: RuntimeWarning: invalid value encountered in true_divide\n",
      "  predictions[k].sum(axis=1)[:, np.newaxis])\n"
     ]
    },
    {
     "name": "stdout",
     "output_type": "stream",
     "text": [
      "Running:  [20, 'gini', 14, 25]\n"
     ]
    },
    {
     "name": "stderr",
     "output_type": "stream",
     "text": [
      "c:\\users\\sharm\\appdata\\local\\programs\\python\\python36\\lib\\site-packages\\sklearn\\ensemble\\forest.py:451: UserWarning: Some inputs do not have OOB scores. This probably means too few trees were used to compute any reliable oob estimates.\n",
      "  warn(\"Some inputs do not have OOB scores. \"\n",
      "c:\\users\\sharm\\appdata\\local\\programs\\python\\python36\\lib\\site-packages\\sklearn\\ensemble\\forest.py:456: RuntimeWarning: invalid value encountered in true_divide\n",
      "  predictions[k].sum(axis=1)[:, np.newaxis])\n"
     ]
    },
    {
     "name": "stdout",
     "output_type": "stream",
     "text": [
      "Running:  [20, 'gini', 14, 27]\n"
     ]
    },
    {
     "name": "stderr",
     "output_type": "stream",
     "text": [
      "c:\\users\\sharm\\appdata\\local\\programs\\python\\python36\\lib\\site-packages\\sklearn\\ensemble\\forest.py:451: UserWarning: Some inputs do not have OOB scores. This probably means too few trees were used to compute any reliable oob estimates.\n",
      "  warn(\"Some inputs do not have OOB scores. \"\n",
      "c:\\users\\sharm\\appdata\\local\\programs\\python\\python36\\lib\\site-packages\\sklearn\\ensemble\\forest.py:456: RuntimeWarning: invalid value encountered in true_divide\n",
      "  predictions[k].sum(axis=1)[:, np.newaxis])\n"
     ]
    },
    {
     "name": "stdout",
     "output_type": "stream",
     "text": [
      "Running:  [20, 'gini', 14, 29]\n"
     ]
    },
    {
     "name": "stderr",
     "output_type": "stream",
     "text": [
      "c:\\users\\sharm\\appdata\\local\\programs\\python\\python36\\lib\\site-packages\\sklearn\\ensemble\\forest.py:451: UserWarning: Some inputs do not have OOB scores. This probably means too few trees were used to compute any reliable oob estimates.\n",
      "  warn(\"Some inputs do not have OOB scores. \"\n",
      "c:\\users\\sharm\\appdata\\local\\programs\\python\\python36\\lib\\site-packages\\sklearn\\ensemble\\forest.py:456: RuntimeWarning: invalid value encountered in true_divide\n",
      "  predictions[k].sum(axis=1)[:, np.newaxis])\n"
     ]
    },
    {
     "name": "stdout",
     "output_type": "stream",
     "text": [
      "Running:  [20, 'gini', 16, 5]\n"
     ]
    },
    {
     "name": "stderr",
     "output_type": "stream",
     "text": [
      "c:\\users\\sharm\\appdata\\local\\programs\\python\\python36\\lib\\site-packages\\sklearn\\ensemble\\forest.py:451: UserWarning: Some inputs do not have OOB scores. This probably means too few trees were used to compute any reliable oob estimates.\n",
      "  warn(\"Some inputs do not have OOB scores. \"\n",
      "c:\\users\\sharm\\appdata\\local\\programs\\python\\python36\\lib\\site-packages\\sklearn\\ensemble\\forest.py:456: RuntimeWarning: invalid value encountered in true_divide\n",
      "  predictions[k].sum(axis=1)[:, np.newaxis])\n"
     ]
    },
    {
     "name": "stdout",
     "output_type": "stream",
     "text": [
      "Running:  [20, 'gini', 16, 7]\n"
     ]
    },
    {
     "name": "stderr",
     "output_type": "stream",
     "text": [
      "c:\\users\\sharm\\appdata\\local\\programs\\python\\python36\\lib\\site-packages\\sklearn\\ensemble\\forest.py:451: UserWarning: Some inputs do not have OOB scores. This probably means too few trees were used to compute any reliable oob estimates.\n",
      "  warn(\"Some inputs do not have OOB scores. \"\n",
      "c:\\users\\sharm\\appdata\\local\\programs\\python\\python36\\lib\\site-packages\\sklearn\\ensemble\\forest.py:456: RuntimeWarning: invalid value encountered in true_divide\n",
      "  predictions[k].sum(axis=1)[:, np.newaxis])\n"
     ]
    },
    {
     "name": "stdout",
     "output_type": "stream",
     "text": [
      "Running:  [20, 'gini', 16, 9]\n"
     ]
    },
    {
     "name": "stderr",
     "output_type": "stream",
     "text": [
      "c:\\users\\sharm\\appdata\\local\\programs\\python\\python36\\lib\\site-packages\\sklearn\\ensemble\\forest.py:451: UserWarning: Some inputs do not have OOB scores. This probably means too few trees were used to compute any reliable oob estimates.\n",
      "  warn(\"Some inputs do not have OOB scores. \"\n",
      "c:\\users\\sharm\\appdata\\local\\programs\\python\\python36\\lib\\site-packages\\sklearn\\ensemble\\forest.py:456: RuntimeWarning: invalid value encountered in true_divide\n",
      "  predictions[k].sum(axis=1)[:, np.newaxis])\n"
     ]
    },
    {
     "name": "stdout",
     "output_type": "stream",
     "text": [
      "Running:  [20, 'gini', 16, 11]\n"
     ]
    },
    {
     "name": "stderr",
     "output_type": "stream",
     "text": [
      "c:\\users\\sharm\\appdata\\local\\programs\\python\\python36\\lib\\site-packages\\sklearn\\ensemble\\forest.py:451: UserWarning: Some inputs do not have OOB scores. This probably means too few trees were used to compute any reliable oob estimates.\n",
      "  warn(\"Some inputs do not have OOB scores. \"\n",
      "c:\\users\\sharm\\appdata\\local\\programs\\python\\python36\\lib\\site-packages\\sklearn\\ensemble\\forest.py:456: RuntimeWarning: invalid value encountered in true_divide\n",
      "  predictions[k].sum(axis=1)[:, np.newaxis])\n"
     ]
    },
    {
     "name": "stdout",
     "output_type": "stream",
     "text": [
      "Running:  [20, 'gini', 16, 13]\n"
     ]
    },
    {
     "name": "stderr",
     "output_type": "stream",
     "text": [
      "c:\\users\\sharm\\appdata\\local\\programs\\python\\python36\\lib\\site-packages\\sklearn\\ensemble\\forest.py:451: UserWarning: Some inputs do not have OOB scores. This probably means too few trees were used to compute any reliable oob estimates.\n",
      "  warn(\"Some inputs do not have OOB scores. \"\n",
      "c:\\users\\sharm\\appdata\\local\\programs\\python\\python36\\lib\\site-packages\\sklearn\\ensemble\\forest.py:456: RuntimeWarning: invalid value encountered in true_divide\n",
      "  predictions[k].sum(axis=1)[:, np.newaxis])\n"
     ]
    },
    {
     "name": "stdout",
     "output_type": "stream",
     "text": [
      "Running:  [20, 'gini', 16, 15]\n"
     ]
    },
    {
     "name": "stderr",
     "output_type": "stream",
     "text": [
      "c:\\users\\sharm\\appdata\\local\\programs\\python\\python36\\lib\\site-packages\\sklearn\\ensemble\\forest.py:451: UserWarning: Some inputs do not have OOB scores. This probably means too few trees were used to compute any reliable oob estimates.\n",
      "  warn(\"Some inputs do not have OOB scores. \"\n",
      "c:\\users\\sharm\\appdata\\local\\programs\\python\\python36\\lib\\site-packages\\sklearn\\ensemble\\forest.py:456: RuntimeWarning: invalid value encountered in true_divide\n",
      "  predictions[k].sum(axis=1)[:, np.newaxis])\n"
     ]
    },
    {
     "name": "stdout",
     "output_type": "stream",
     "text": [
      "Running:  [20, 'gini', 16, 17]\n"
     ]
    },
    {
     "name": "stderr",
     "output_type": "stream",
     "text": [
      "c:\\users\\sharm\\appdata\\local\\programs\\python\\python36\\lib\\site-packages\\sklearn\\ensemble\\forest.py:451: UserWarning: Some inputs do not have OOB scores. This probably means too few trees were used to compute any reliable oob estimates.\n",
      "  warn(\"Some inputs do not have OOB scores. \"\n",
      "c:\\users\\sharm\\appdata\\local\\programs\\python\\python36\\lib\\site-packages\\sklearn\\ensemble\\forest.py:456: RuntimeWarning: invalid value encountered in true_divide\n",
      "  predictions[k].sum(axis=1)[:, np.newaxis])\n"
     ]
    },
    {
     "name": "stdout",
     "output_type": "stream",
     "text": [
      "Running:  [20, 'gini', 16, 19]\n"
     ]
    },
    {
     "name": "stderr",
     "output_type": "stream",
     "text": [
      "c:\\users\\sharm\\appdata\\local\\programs\\python\\python36\\lib\\site-packages\\sklearn\\ensemble\\forest.py:451: UserWarning: Some inputs do not have OOB scores. This probably means too few trees were used to compute any reliable oob estimates.\n",
      "  warn(\"Some inputs do not have OOB scores. \"\n",
      "c:\\users\\sharm\\appdata\\local\\programs\\python\\python36\\lib\\site-packages\\sklearn\\ensemble\\forest.py:456: RuntimeWarning: invalid value encountered in true_divide\n",
      "  predictions[k].sum(axis=1)[:, np.newaxis])\n"
     ]
    },
    {
     "name": "stdout",
     "output_type": "stream",
     "text": [
      "Running:  [20, 'gini', 16, 21]\n"
     ]
    },
    {
     "name": "stderr",
     "output_type": "stream",
     "text": [
      "c:\\users\\sharm\\appdata\\local\\programs\\python\\python36\\lib\\site-packages\\sklearn\\ensemble\\forest.py:451: UserWarning: Some inputs do not have OOB scores. This probably means too few trees were used to compute any reliable oob estimates.\n",
      "  warn(\"Some inputs do not have OOB scores. \"\n",
      "c:\\users\\sharm\\appdata\\local\\programs\\python\\python36\\lib\\site-packages\\sklearn\\ensemble\\forest.py:456: RuntimeWarning: invalid value encountered in true_divide\n",
      "  predictions[k].sum(axis=1)[:, np.newaxis])\n"
     ]
    },
    {
     "name": "stdout",
     "output_type": "stream",
     "text": [
      "Running:  [20, 'gini', 16, 23]\n"
     ]
    },
    {
     "name": "stderr",
     "output_type": "stream",
     "text": [
      "c:\\users\\sharm\\appdata\\local\\programs\\python\\python36\\lib\\site-packages\\sklearn\\ensemble\\forest.py:451: UserWarning: Some inputs do not have OOB scores. This probably means too few trees were used to compute any reliable oob estimates.\n",
      "  warn(\"Some inputs do not have OOB scores. \"\n",
      "c:\\users\\sharm\\appdata\\local\\programs\\python\\python36\\lib\\site-packages\\sklearn\\ensemble\\forest.py:456: RuntimeWarning: invalid value encountered in true_divide\n",
      "  predictions[k].sum(axis=1)[:, np.newaxis])\n"
     ]
    },
    {
     "name": "stdout",
     "output_type": "stream",
     "text": [
      "Running:  [20, 'gini', 16, 25]\n"
     ]
    },
    {
     "name": "stderr",
     "output_type": "stream",
     "text": [
      "c:\\users\\sharm\\appdata\\local\\programs\\python\\python36\\lib\\site-packages\\sklearn\\ensemble\\forest.py:451: UserWarning: Some inputs do not have OOB scores. This probably means too few trees were used to compute any reliable oob estimates.\n",
      "  warn(\"Some inputs do not have OOB scores. \"\n",
      "c:\\users\\sharm\\appdata\\local\\programs\\python\\python36\\lib\\site-packages\\sklearn\\ensemble\\forest.py:456: RuntimeWarning: invalid value encountered in true_divide\n",
      "  predictions[k].sum(axis=1)[:, np.newaxis])\n"
     ]
    },
    {
     "name": "stdout",
     "output_type": "stream",
     "text": [
      "Running:  [20, 'gini', 16, 27]\n"
     ]
    },
    {
     "name": "stderr",
     "output_type": "stream",
     "text": [
      "c:\\users\\sharm\\appdata\\local\\programs\\python\\python36\\lib\\site-packages\\sklearn\\ensemble\\forest.py:451: UserWarning: Some inputs do not have OOB scores. This probably means too few trees were used to compute any reliable oob estimates.\n",
      "  warn(\"Some inputs do not have OOB scores. \"\n",
      "c:\\users\\sharm\\appdata\\local\\programs\\python\\python36\\lib\\site-packages\\sklearn\\ensemble\\forest.py:456: RuntimeWarning: invalid value encountered in true_divide\n",
      "  predictions[k].sum(axis=1)[:, np.newaxis])\n"
     ]
    },
    {
     "name": "stdout",
     "output_type": "stream",
     "text": [
      "Running:  [20, 'gini', 16, 29]\n"
     ]
    },
    {
     "name": "stderr",
     "output_type": "stream",
     "text": [
      "c:\\users\\sharm\\appdata\\local\\programs\\python\\python36\\lib\\site-packages\\sklearn\\ensemble\\forest.py:451: UserWarning: Some inputs do not have OOB scores. This probably means too few trees were used to compute any reliable oob estimates.\n",
      "  warn(\"Some inputs do not have OOB scores. \"\n",
      "c:\\users\\sharm\\appdata\\local\\programs\\python\\python36\\lib\\site-packages\\sklearn\\ensemble\\forest.py:456: RuntimeWarning: invalid value encountered in true_divide\n",
      "  predictions[k].sum(axis=1)[:, np.newaxis])\n"
     ]
    },
    {
     "name": "stdout",
     "output_type": "stream",
     "text": [
      "Running:  [20, 'gini', 18, 5]\n"
     ]
    },
    {
     "name": "stderr",
     "output_type": "stream",
     "text": [
      "c:\\users\\sharm\\appdata\\local\\programs\\python\\python36\\lib\\site-packages\\sklearn\\ensemble\\forest.py:451: UserWarning: Some inputs do not have OOB scores. This probably means too few trees were used to compute any reliable oob estimates.\n",
      "  warn(\"Some inputs do not have OOB scores. \"\n",
      "c:\\users\\sharm\\appdata\\local\\programs\\python\\python36\\lib\\site-packages\\sklearn\\ensemble\\forest.py:456: RuntimeWarning: invalid value encountered in true_divide\n",
      "  predictions[k].sum(axis=1)[:, np.newaxis])\n"
     ]
    },
    {
     "name": "stdout",
     "output_type": "stream",
     "text": [
      "Running:  [20, 'gini', 18, 7]\n"
     ]
    },
    {
     "name": "stderr",
     "output_type": "stream",
     "text": [
      "c:\\users\\sharm\\appdata\\local\\programs\\python\\python36\\lib\\site-packages\\sklearn\\ensemble\\forest.py:451: UserWarning: Some inputs do not have OOB scores. This probably means too few trees were used to compute any reliable oob estimates.\n",
      "  warn(\"Some inputs do not have OOB scores. \"\n",
      "c:\\users\\sharm\\appdata\\local\\programs\\python\\python36\\lib\\site-packages\\sklearn\\ensemble\\forest.py:456: RuntimeWarning: invalid value encountered in true_divide\n",
      "  predictions[k].sum(axis=1)[:, np.newaxis])\n"
     ]
    },
    {
     "name": "stdout",
     "output_type": "stream",
     "text": [
      "Running:  [20, 'gini', 18, 9]\n"
     ]
    },
    {
     "name": "stderr",
     "output_type": "stream",
     "text": [
      "c:\\users\\sharm\\appdata\\local\\programs\\python\\python36\\lib\\site-packages\\sklearn\\ensemble\\forest.py:451: UserWarning: Some inputs do not have OOB scores. This probably means too few trees were used to compute any reliable oob estimates.\n",
      "  warn(\"Some inputs do not have OOB scores. \"\n",
      "c:\\users\\sharm\\appdata\\local\\programs\\python\\python36\\lib\\site-packages\\sklearn\\ensemble\\forest.py:456: RuntimeWarning: invalid value encountered in true_divide\n",
      "  predictions[k].sum(axis=1)[:, np.newaxis])\n"
     ]
    },
    {
     "name": "stdout",
     "output_type": "stream",
     "text": [
      "Running:  [20, 'gini', 18, 11]\n"
     ]
    },
    {
     "name": "stderr",
     "output_type": "stream",
     "text": [
      "c:\\users\\sharm\\appdata\\local\\programs\\python\\python36\\lib\\site-packages\\sklearn\\ensemble\\forest.py:451: UserWarning: Some inputs do not have OOB scores. This probably means too few trees were used to compute any reliable oob estimates.\n",
      "  warn(\"Some inputs do not have OOB scores. \"\n",
      "c:\\users\\sharm\\appdata\\local\\programs\\python\\python36\\lib\\site-packages\\sklearn\\ensemble\\forest.py:456: RuntimeWarning: invalid value encountered in true_divide\n",
      "  predictions[k].sum(axis=1)[:, np.newaxis])\n"
     ]
    },
    {
     "name": "stdout",
     "output_type": "stream",
     "text": [
      "Running:  [20, 'gini', 18, 13]\n"
     ]
    },
    {
     "name": "stderr",
     "output_type": "stream",
     "text": [
      "c:\\users\\sharm\\appdata\\local\\programs\\python\\python36\\lib\\site-packages\\sklearn\\ensemble\\forest.py:451: UserWarning: Some inputs do not have OOB scores. This probably means too few trees were used to compute any reliable oob estimates.\n",
      "  warn(\"Some inputs do not have OOB scores. \"\n",
      "c:\\users\\sharm\\appdata\\local\\programs\\python\\python36\\lib\\site-packages\\sklearn\\ensemble\\forest.py:456: RuntimeWarning: invalid value encountered in true_divide\n",
      "  predictions[k].sum(axis=1)[:, np.newaxis])\n"
     ]
    },
    {
     "name": "stdout",
     "output_type": "stream",
     "text": [
      "Running:  [20, 'gini', 18, 15]\n"
     ]
    },
    {
     "name": "stderr",
     "output_type": "stream",
     "text": [
      "c:\\users\\sharm\\appdata\\local\\programs\\python\\python36\\lib\\site-packages\\sklearn\\ensemble\\forest.py:451: UserWarning: Some inputs do not have OOB scores. This probably means too few trees were used to compute any reliable oob estimates.\n",
      "  warn(\"Some inputs do not have OOB scores. \"\n",
      "c:\\users\\sharm\\appdata\\local\\programs\\python\\python36\\lib\\site-packages\\sklearn\\ensemble\\forest.py:456: RuntimeWarning: invalid value encountered in true_divide\n",
      "  predictions[k].sum(axis=1)[:, np.newaxis])\n"
     ]
    },
    {
     "name": "stdout",
     "output_type": "stream",
     "text": [
      "Running:  [20, 'gini', 18, 17]\n"
     ]
    },
    {
     "name": "stderr",
     "output_type": "stream",
     "text": [
      "c:\\users\\sharm\\appdata\\local\\programs\\python\\python36\\lib\\site-packages\\sklearn\\ensemble\\forest.py:451: UserWarning: Some inputs do not have OOB scores. This probably means too few trees were used to compute any reliable oob estimates.\n",
      "  warn(\"Some inputs do not have OOB scores. \"\n",
      "c:\\users\\sharm\\appdata\\local\\programs\\python\\python36\\lib\\site-packages\\sklearn\\ensemble\\forest.py:456: RuntimeWarning: invalid value encountered in true_divide\n",
      "  predictions[k].sum(axis=1)[:, np.newaxis])\n"
     ]
    },
    {
     "name": "stdout",
     "output_type": "stream",
     "text": [
      "Running:  [20, 'gini', 18, 19]\n"
     ]
    },
    {
     "name": "stderr",
     "output_type": "stream",
     "text": [
      "c:\\users\\sharm\\appdata\\local\\programs\\python\\python36\\lib\\site-packages\\sklearn\\ensemble\\forest.py:451: UserWarning: Some inputs do not have OOB scores. This probably means too few trees were used to compute any reliable oob estimates.\n",
      "  warn(\"Some inputs do not have OOB scores. \"\n",
      "c:\\users\\sharm\\appdata\\local\\programs\\python\\python36\\lib\\site-packages\\sklearn\\ensemble\\forest.py:456: RuntimeWarning: invalid value encountered in true_divide\n",
      "  predictions[k].sum(axis=1)[:, np.newaxis])\n"
     ]
    },
    {
     "name": "stdout",
     "output_type": "stream",
     "text": [
      "Running:  [20, 'gini', 18, 21]\n"
     ]
    },
    {
     "name": "stderr",
     "output_type": "stream",
     "text": [
      "c:\\users\\sharm\\appdata\\local\\programs\\python\\python36\\lib\\site-packages\\sklearn\\ensemble\\forest.py:451: UserWarning: Some inputs do not have OOB scores. This probably means too few trees were used to compute any reliable oob estimates.\n",
      "  warn(\"Some inputs do not have OOB scores. \"\n",
      "c:\\users\\sharm\\appdata\\local\\programs\\python\\python36\\lib\\site-packages\\sklearn\\ensemble\\forest.py:456: RuntimeWarning: invalid value encountered in true_divide\n",
      "  predictions[k].sum(axis=1)[:, np.newaxis])\n"
     ]
    },
    {
     "name": "stdout",
     "output_type": "stream",
     "text": [
      "Running:  [20, 'gini', 18, 23]\n"
     ]
    },
    {
     "name": "stderr",
     "output_type": "stream",
     "text": [
      "c:\\users\\sharm\\appdata\\local\\programs\\python\\python36\\lib\\site-packages\\sklearn\\ensemble\\forest.py:451: UserWarning: Some inputs do not have OOB scores. This probably means too few trees were used to compute any reliable oob estimates.\n",
      "  warn(\"Some inputs do not have OOB scores. \"\n",
      "c:\\users\\sharm\\appdata\\local\\programs\\python\\python36\\lib\\site-packages\\sklearn\\ensemble\\forest.py:456: RuntimeWarning: invalid value encountered in true_divide\n",
      "  predictions[k].sum(axis=1)[:, np.newaxis])\n"
     ]
    },
    {
     "name": "stdout",
     "output_type": "stream",
     "text": [
      "Running:  [20, 'gini', 18, 25]\n"
     ]
    },
    {
     "name": "stderr",
     "output_type": "stream",
     "text": [
      "c:\\users\\sharm\\appdata\\local\\programs\\python\\python36\\lib\\site-packages\\sklearn\\ensemble\\forest.py:451: UserWarning: Some inputs do not have OOB scores. This probably means too few trees were used to compute any reliable oob estimates.\n",
      "  warn(\"Some inputs do not have OOB scores. \"\n",
      "c:\\users\\sharm\\appdata\\local\\programs\\python\\python36\\lib\\site-packages\\sklearn\\ensemble\\forest.py:456: RuntimeWarning: invalid value encountered in true_divide\n",
      "  predictions[k].sum(axis=1)[:, np.newaxis])\n"
     ]
    },
    {
     "name": "stdout",
     "output_type": "stream",
     "text": [
      "Running:  [20, 'gini', 18, 27]\n"
     ]
    },
    {
     "name": "stderr",
     "output_type": "stream",
     "text": [
      "c:\\users\\sharm\\appdata\\local\\programs\\python\\python36\\lib\\site-packages\\sklearn\\ensemble\\forest.py:451: UserWarning: Some inputs do not have OOB scores. This probably means too few trees were used to compute any reliable oob estimates.\n",
      "  warn(\"Some inputs do not have OOB scores. \"\n",
      "c:\\users\\sharm\\appdata\\local\\programs\\python\\python36\\lib\\site-packages\\sklearn\\ensemble\\forest.py:456: RuntimeWarning: invalid value encountered in true_divide\n",
      "  predictions[k].sum(axis=1)[:, np.newaxis])\n"
     ]
    },
    {
     "name": "stdout",
     "output_type": "stream",
     "text": [
      "Running:  [20, 'gini', 18, 29]\n"
     ]
    },
    {
     "name": "stderr",
     "output_type": "stream",
     "text": [
      "c:\\users\\sharm\\appdata\\local\\programs\\python\\python36\\lib\\site-packages\\sklearn\\ensemble\\forest.py:451: UserWarning: Some inputs do not have OOB scores. This probably means too few trees were used to compute any reliable oob estimates.\n",
      "  warn(\"Some inputs do not have OOB scores. \"\n",
      "c:\\users\\sharm\\appdata\\local\\programs\\python\\python36\\lib\\site-packages\\sklearn\\ensemble\\forest.py:456: RuntimeWarning: invalid value encountered in true_divide\n",
      "  predictions[k].sum(axis=1)[:, np.newaxis])\n"
     ]
    },
    {
     "name": "stdout",
     "output_type": "stream",
     "text": [
      "Running:  [20, 'gini', 20, 5]\n"
     ]
    },
    {
     "name": "stderr",
     "output_type": "stream",
     "text": [
      "c:\\users\\sharm\\appdata\\local\\programs\\python\\python36\\lib\\site-packages\\sklearn\\ensemble\\forest.py:451: UserWarning: Some inputs do not have OOB scores. This probably means too few trees were used to compute any reliable oob estimates.\n",
      "  warn(\"Some inputs do not have OOB scores. \"\n",
      "c:\\users\\sharm\\appdata\\local\\programs\\python\\python36\\lib\\site-packages\\sklearn\\ensemble\\forest.py:456: RuntimeWarning: invalid value encountered in true_divide\n",
      "  predictions[k].sum(axis=1)[:, np.newaxis])\n"
     ]
    },
    {
     "name": "stdout",
     "output_type": "stream",
     "text": [
      "Running:  [20, 'gini', 20, 7]\n"
     ]
    },
    {
     "name": "stderr",
     "output_type": "stream",
     "text": [
      "c:\\users\\sharm\\appdata\\local\\programs\\python\\python36\\lib\\site-packages\\sklearn\\ensemble\\forest.py:451: UserWarning: Some inputs do not have OOB scores. This probably means too few trees were used to compute any reliable oob estimates.\n",
      "  warn(\"Some inputs do not have OOB scores. \"\n",
      "c:\\users\\sharm\\appdata\\local\\programs\\python\\python36\\lib\\site-packages\\sklearn\\ensemble\\forest.py:456: RuntimeWarning: invalid value encountered in true_divide\n",
      "  predictions[k].sum(axis=1)[:, np.newaxis])\n"
     ]
    },
    {
     "name": "stdout",
     "output_type": "stream",
     "text": [
      "Running:  [20, 'gini', 20, 9]\n"
     ]
    },
    {
     "name": "stderr",
     "output_type": "stream",
     "text": [
      "c:\\users\\sharm\\appdata\\local\\programs\\python\\python36\\lib\\site-packages\\sklearn\\ensemble\\forest.py:451: UserWarning: Some inputs do not have OOB scores. This probably means too few trees were used to compute any reliable oob estimates.\n",
      "  warn(\"Some inputs do not have OOB scores. \"\n",
      "c:\\users\\sharm\\appdata\\local\\programs\\python\\python36\\lib\\site-packages\\sklearn\\ensemble\\forest.py:456: RuntimeWarning: invalid value encountered in true_divide\n",
      "  predictions[k].sum(axis=1)[:, np.newaxis])\n"
     ]
    },
    {
     "name": "stdout",
     "output_type": "stream",
     "text": [
      "Running:  [20, 'gini', 20, 11]\n"
     ]
    },
    {
     "name": "stderr",
     "output_type": "stream",
     "text": [
      "c:\\users\\sharm\\appdata\\local\\programs\\python\\python36\\lib\\site-packages\\sklearn\\ensemble\\forest.py:451: UserWarning: Some inputs do not have OOB scores. This probably means too few trees were used to compute any reliable oob estimates.\n",
      "  warn(\"Some inputs do not have OOB scores. \"\n",
      "c:\\users\\sharm\\appdata\\local\\programs\\python\\python36\\lib\\site-packages\\sklearn\\ensemble\\forest.py:456: RuntimeWarning: invalid value encountered in true_divide\n",
      "  predictions[k].sum(axis=1)[:, np.newaxis])\n"
     ]
    },
    {
     "name": "stdout",
     "output_type": "stream",
     "text": [
      "Running:  [20, 'gini', 20, 13]\n"
     ]
    },
    {
     "name": "stderr",
     "output_type": "stream",
     "text": [
      "c:\\users\\sharm\\appdata\\local\\programs\\python\\python36\\lib\\site-packages\\sklearn\\ensemble\\forest.py:451: UserWarning: Some inputs do not have OOB scores. This probably means too few trees were used to compute any reliable oob estimates.\n",
      "  warn(\"Some inputs do not have OOB scores. \"\n",
      "c:\\users\\sharm\\appdata\\local\\programs\\python\\python36\\lib\\site-packages\\sklearn\\ensemble\\forest.py:456: RuntimeWarning: invalid value encountered in true_divide\n",
      "  predictions[k].sum(axis=1)[:, np.newaxis])\n"
     ]
    },
    {
     "name": "stdout",
     "output_type": "stream",
     "text": [
      "Running:  [20, 'gini', 20, 15]\n"
     ]
    },
    {
     "name": "stderr",
     "output_type": "stream",
     "text": [
      "c:\\users\\sharm\\appdata\\local\\programs\\python\\python36\\lib\\site-packages\\sklearn\\ensemble\\forest.py:451: UserWarning: Some inputs do not have OOB scores. This probably means too few trees were used to compute any reliable oob estimates.\n",
      "  warn(\"Some inputs do not have OOB scores. \"\n",
      "c:\\users\\sharm\\appdata\\local\\programs\\python\\python36\\lib\\site-packages\\sklearn\\ensemble\\forest.py:456: RuntimeWarning: invalid value encountered in true_divide\n",
      "  predictions[k].sum(axis=1)[:, np.newaxis])\n"
     ]
    },
    {
     "name": "stdout",
     "output_type": "stream",
     "text": [
      "Running:  [20, 'gini', 20, 17]\n"
     ]
    },
    {
     "name": "stderr",
     "output_type": "stream",
     "text": [
      "c:\\users\\sharm\\appdata\\local\\programs\\python\\python36\\lib\\site-packages\\sklearn\\ensemble\\forest.py:451: UserWarning: Some inputs do not have OOB scores. This probably means too few trees were used to compute any reliable oob estimates.\n",
      "  warn(\"Some inputs do not have OOB scores. \"\n",
      "c:\\users\\sharm\\appdata\\local\\programs\\python\\python36\\lib\\site-packages\\sklearn\\ensemble\\forest.py:456: RuntimeWarning: invalid value encountered in true_divide\n",
      "  predictions[k].sum(axis=1)[:, np.newaxis])\n"
     ]
    },
    {
     "name": "stdout",
     "output_type": "stream",
     "text": [
      "Running:  [20, 'gini', 20, 19]\n"
     ]
    },
    {
     "name": "stderr",
     "output_type": "stream",
     "text": [
      "c:\\users\\sharm\\appdata\\local\\programs\\python\\python36\\lib\\site-packages\\sklearn\\ensemble\\forest.py:451: UserWarning: Some inputs do not have OOB scores. This probably means too few trees were used to compute any reliable oob estimates.\n",
      "  warn(\"Some inputs do not have OOB scores. \"\n",
      "c:\\users\\sharm\\appdata\\local\\programs\\python\\python36\\lib\\site-packages\\sklearn\\ensemble\\forest.py:456: RuntimeWarning: invalid value encountered in true_divide\n",
      "  predictions[k].sum(axis=1)[:, np.newaxis])\n"
     ]
    },
    {
     "name": "stdout",
     "output_type": "stream",
     "text": [
      "Running:  [20, 'gini', 20, 21]\n"
     ]
    },
    {
     "name": "stderr",
     "output_type": "stream",
     "text": [
      "c:\\users\\sharm\\appdata\\local\\programs\\python\\python36\\lib\\site-packages\\sklearn\\ensemble\\forest.py:451: UserWarning: Some inputs do not have OOB scores. This probably means too few trees were used to compute any reliable oob estimates.\n",
      "  warn(\"Some inputs do not have OOB scores. \"\n",
      "c:\\users\\sharm\\appdata\\local\\programs\\python\\python36\\lib\\site-packages\\sklearn\\ensemble\\forest.py:456: RuntimeWarning: invalid value encountered in true_divide\n",
      "  predictions[k].sum(axis=1)[:, np.newaxis])\n"
     ]
    },
    {
     "name": "stdout",
     "output_type": "stream",
     "text": [
      "Running:  [20, 'gini', 20, 23]\n"
     ]
    },
    {
     "name": "stderr",
     "output_type": "stream",
     "text": [
      "c:\\users\\sharm\\appdata\\local\\programs\\python\\python36\\lib\\site-packages\\sklearn\\ensemble\\forest.py:451: UserWarning: Some inputs do not have OOB scores. This probably means too few trees were used to compute any reliable oob estimates.\n",
      "  warn(\"Some inputs do not have OOB scores. \"\n",
      "c:\\users\\sharm\\appdata\\local\\programs\\python\\python36\\lib\\site-packages\\sklearn\\ensemble\\forest.py:456: RuntimeWarning: invalid value encountered in true_divide\n",
      "  predictions[k].sum(axis=1)[:, np.newaxis])\n"
     ]
    },
    {
     "name": "stdout",
     "output_type": "stream",
     "text": [
      "Running:  [20, 'gini', 20, 25]\n"
     ]
    },
    {
     "name": "stderr",
     "output_type": "stream",
     "text": [
      "c:\\users\\sharm\\appdata\\local\\programs\\python\\python36\\lib\\site-packages\\sklearn\\ensemble\\forest.py:451: UserWarning: Some inputs do not have OOB scores. This probably means too few trees were used to compute any reliable oob estimates.\n",
      "  warn(\"Some inputs do not have OOB scores. \"\n",
      "c:\\users\\sharm\\appdata\\local\\programs\\python\\python36\\lib\\site-packages\\sklearn\\ensemble\\forest.py:456: RuntimeWarning: invalid value encountered in true_divide\n",
      "  predictions[k].sum(axis=1)[:, np.newaxis])\n"
     ]
    },
    {
     "name": "stdout",
     "output_type": "stream",
     "text": [
      "Running:  [20, 'gini', 20, 27]\n"
     ]
    },
    {
     "name": "stderr",
     "output_type": "stream",
     "text": [
      "c:\\users\\sharm\\appdata\\local\\programs\\python\\python36\\lib\\site-packages\\sklearn\\ensemble\\forest.py:451: UserWarning: Some inputs do not have OOB scores. This probably means too few trees were used to compute any reliable oob estimates.\n",
      "  warn(\"Some inputs do not have OOB scores. \"\n",
      "c:\\users\\sharm\\appdata\\local\\programs\\python\\python36\\lib\\site-packages\\sklearn\\ensemble\\forest.py:456: RuntimeWarning: invalid value encountered in true_divide\n",
      "  predictions[k].sum(axis=1)[:, np.newaxis])\n"
     ]
    },
    {
     "name": "stdout",
     "output_type": "stream",
     "text": [
      "Running:  [20, 'gini', 20, 29]\n"
     ]
    },
    {
     "name": "stderr",
     "output_type": "stream",
     "text": [
      "c:\\users\\sharm\\appdata\\local\\programs\\python\\python36\\lib\\site-packages\\sklearn\\ensemble\\forest.py:451: UserWarning: Some inputs do not have OOB scores. This probably means too few trees were used to compute any reliable oob estimates.\n",
      "  warn(\"Some inputs do not have OOB scores. \"\n",
      "c:\\users\\sharm\\appdata\\local\\programs\\python\\python36\\lib\\site-packages\\sklearn\\ensemble\\forest.py:456: RuntimeWarning: invalid value encountered in true_divide\n",
      "  predictions[k].sum(axis=1)[:, np.newaxis])\n"
     ]
    },
    {
     "name": "stdout",
     "output_type": "stream",
     "text": [
      "Running:  [20, 'gini', 22, 5]\n"
     ]
    },
    {
     "name": "stderr",
     "output_type": "stream",
     "text": [
      "c:\\users\\sharm\\appdata\\local\\programs\\python\\python36\\lib\\site-packages\\sklearn\\ensemble\\forest.py:451: UserWarning: Some inputs do not have OOB scores. This probably means too few trees were used to compute any reliable oob estimates.\n",
      "  warn(\"Some inputs do not have OOB scores. \"\n",
      "c:\\users\\sharm\\appdata\\local\\programs\\python\\python36\\lib\\site-packages\\sklearn\\ensemble\\forest.py:456: RuntimeWarning: invalid value encountered in true_divide\n",
      "  predictions[k].sum(axis=1)[:, np.newaxis])\n"
     ]
    },
    {
     "name": "stdout",
     "output_type": "stream",
     "text": [
      "Running:  [20, 'gini', 22, 7]\n"
     ]
    },
    {
     "name": "stderr",
     "output_type": "stream",
     "text": [
      "c:\\users\\sharm\\appdata\\local\\programs\\python\\python36\\lib\\site-packages\\sklearn\\ensemble\\forest.py:451: UserWarning: Some inputs do not have OOB scores. This probably means too few trees were used to compute any reliable oob estimates.\n",
      "  warn(\"Some inputs do not have OOB scores. \"\n",
      "c:\\users\\sharm\\appdata\\local\\programs\\python\\python36\\lib\\site-packages\\sklearn\\ensemble\\forest.py:456: RuntimeWarning: invalid value encountered in true_divide\n",
      "  predictions[k].sum(axis=1)[:, np.newaxis])\n"
     ]
    },
    {
     "name": "stdout",
     "output_type": "stream",
     "text": [
      "Running:  [20, 'gini', 22, 9]\n"
     ]
    },
    {
     "name": "stderr",
     "output_type": "stream",
     "text": [
      "c:\\users\\sharm\\appdata\\local\\programs\\python\\python36\\lib\\site-packages\\sklearn\\ensemble\\forest.py:451: UserWarning: Some inputs do not have OOB scores. This probably means too few trees were used to compute any reliable oob estimates.\n",
      "  warn(\"Some inputs do not have OOB scores. \"\n",
      "c:\\users\\sharm\\appdata\\local\\programs\\python\\python36\\lib\\site-packages\\sklearn\\ensemble\\forest.py:456: RuntimeWarning: invalid value encountered in true_divide\n",
      "  predictions[k].sum(axis=1)[:, np.newaxis])\n"
     ]
    },
    {
     "name": "stdout",
     "output_type": "stream",
     "text": [
      "Running:  [20, 'gini', 22, 11]\n"
     ]
    },
    {
     "name": "stderr",
     "output_type": "stream",
     "text": [
      "c:\\users\\sharm\\appdata\\local\\programs\\python\\python36\\lib\\site-packages\\sklearn\\ensemble\\forest.py:451: UserWarning: Some inputs do not have OOB scores. This probably means too few trees were used to compute any reliable oob estimates.\n",
      "  warn(\"Some inputs do not have OOB scores. \"\n",
      "c:\\users\\sharm\\appdata\\local\\programs\\python\\python36\\lib\\site-packages\\sklearn\\ensemble\\forest.py:456: RuntimeWarning: invalid value encountered in true_divide\n",
      "  predictions[k].sum(axis=1)[:, np.newaxis])\n"
     ]
    },
    {
     "name": "stdout",
     "output_type": "stream",
     "text": [
      "Running:  [20, 'gini', 22, 13]\n"
     ]
    },
    {
     "name": "stderr",
     "output_type": "stream",
     "text": [
      "c:\\users\\sharm\\appdata\\local\\programs\\python\\python36\\lib\\site-packages\\sklearn\\ensemble\\forest.py:451: UserWarning: Some inputs do not have OOB scores. This probably means too few trees were used to compute any reliable oob estimates.\n",
      "  warn(\"Some inputs do not have OOB scores. \"\n",
      "c:\\users\\sharm\\appdata\\local\\programs\\python\\python36\\lib\\site-packages\\sklearn\\ensemble\\forest.py:456: RuntimeWarning: invalid value encountered in true_divide\n",
      "  predictions[k].sum(axis=1)[:, np.newaxis])\n"
     ]
    },
    {
     "name": "stdout",
     "output_type": "stream",
     "text": [
      "Running:  [20, 'gini', 22, 15]\n"
     ]
    },
    {
     "name": "stderr",
     "output_type": "stream",
     "text": [
      "c:\\users\\sharm\\appdata\\local\\programs\\python\\python36\\lib\\site-packages\\sklearn\\ensemble\\forest.py:451: UserWarning: Some inputs do not have OOB scores. This probably means too few trees were used to compute any reliable oob estimates.\n",
      "  warn(\"Some inputs do not have OOB scores. \"\n",
      "c:\\users\\sharm\\appdata\\local\\programs\\python\\python36\\lib\\site-packages\\sklearn\\ensemble\\forest.py:456: RuntimeWarning: invalid value encountered in true_divide\n",
      "  predictions[k].sum(axis=1)[:, np.newaxis])\n"
     ]
    },
    {
     "name": "stdout",
     "output_type": "stream",
     "text": [
      "Running:  [20, 'gini', 22, 17]\n"
     ]
    },
    {
     "name": "stderr",
     "output_type": "stream",
     "text": [
      "c:\\users\\sharm\\appdata\\local\\programs\\python\\python36\\lib\\site-packages\\sklearn\\ensemble\\forest.py:451: UserWarning: Some inputs do not have OOB scores. This probably means too few trees were used to compute any reliable oob estimates.\n",
      "  warn(\"Some inputs do not have OOB scores. \"\n",
      "c:\\users\\sharm\\appdata\\local\\programs\\python\\python36\\lib\\site-packages\\sklearn\\ensemble\\forest.py:456: RuntimeWarning: invalid value encountered in true_divide\n",
      "  predictions[k].sum(axis=1)[:, np.newaxis])\n"
     ]
    },
    {
     "name": "stdout",
     "output_type": "stream",
     "text": [
      "Running:  [20, 'gini', 22, 19]\n"
     ]
    },
    {
     "name": "stderr",
     "output_type": "stream",
     "text": [
      "c:\\users\\sharm\\appdata\\local\\programs\\python\\python36\\lib\\site-packages\\sklearn\\ensemble\\forest.py:451: UserWarning: Some inputs do not have OOB scores. This probably means too few trees were used to compute any reliable oob estimates.\n",
      "  warn(\"Some inputs do not have OOB scores. \"\n",
      "c:\\users\\sharm\\appdata\\local\\programs\\python\\python36\\lib\\site-packages\\sklearn\\ensemble\\forest.py:456: RuntimeWarning: invalid value encountered in true_divide\n",
      "  predictions[k].sum(axis=1)[:, np.newaxis])\n"
     ]
    },
    {
     "name": "stdout",
     "output_type": "stream",
     "text": [
      "Running:  [20, 'gini', 22, 21]\n"
     ]
    },
    {
     "name": "stderr",
     "output_type": "stream",
     "text": [
      "c:\\users\\sharm\\appdata\\local\\programs\\python\\python36\\lib\\site-packages\\sklearn\\ensemble\\forest.py:451: UserWarning: Some inputs do not have OOB scores. This probably means too few trees were used to compute any reliable oob estimates.\n",
      "  warn(\"Some inputs do not have OOB scores. \"\n",
      "c:\\users\\sharm\\appdata\\local\\programs\\python\\python36\\lib\\site-packages\\sklearn\\ensemble\\forest.py:456: RuntimeWarning: invalid value encountered in true_divide\n",
      "  predictions[k].sum(axis=1)[:, np.newaxis])\n"
     ]
    },
    {
     "name": "stdout",
     "output_type": "stream",
     "text": [
      "Running:  [20, 'gini', 22, 23]\n"
     ]
    },
    {
     "name": "stderr",
     "output_type": "stream",
     "text": [
      "c:\\users\\sharm\\appdata\\local\\programs\\python\\python36\\lib\\site-packages\\sklearn\\ensemble\\forest.py:451: UserWarning: Some inputs do not have OOB scores. This probably means too few trees were used to compute any reliable oob estimates.\n",
      "  warn(\"Some inputs do not have OOB scores. \"\n",
      "c:\\users\\sharm\\appdata\\local\\programs\\python\\python36\\lib\\site-packages\\sklearn\\ensemble\\forest.py:456: RuntimeWarning: invalid value encountered in true_divide\n",
      "  predictions[k].sum(axis=1)[:, np.newaxis])\n"
     ]
    },
    {
     "name": "stdout",
     "output_type": "stream",
     "text": [
      "Running:  [20, 'gini', 22, 25]\n"
     ]
    },
    {
     "name": "stderr",
     "output_type": "stream",
     "text": [
      "c:\\users\\sharm\\appdata\\local\\programs\\python\\python36\\lib\\site-packages\\sklearn\\ensemble\\forest.py:451: UserWarning: Some inputs do not have OOB scores. This probably means too few trees were used to compute any reliable oob estimates.\n",
      "  warn(\"Some inputs do not have OOB scores. \"\n",
      "c:\\users\\sharm\\appdata\\local\\programs\\python\\python36\\lib\\site-packages\\sklearn\\ensemble\\forest.py:456: RuntimeWarning: invalid value encountered in true_divide\n",
      "  predictions[k].sum(axis=1)[:, np.newaxis])\n"
     ]
    },
    {
     "name": "stdout",
     "output_type": "stream",
     "text": [
      "Running:  [20, 'gini', 22, 27]\n"
     ]
    },
    {
     "name": "stderr",
     "output_type": "stream",
     "text": [
      "c:\\users\\sharm\\appdata\\local\\programs\\python\\python36\\lib\\site-packages\\sklearn\\ensemble\\forest.py:451: UserWarning: Some inputs do not have OOB scores. This probably means too few trees were used to compute any reliable oob estimates.\n",
      "  warn(\"Some inputs do not have OOB scores. \"\n",
      "c:\\users\\sharm\\appdata\\local\\programs\\python\\python36\\lib\\site-packages\\sklearn\\ensemble\\forest.py:456: RuntimeWarning: invalid value encountered in true_divide\n",
      "  predictions[k].sum(axis=1)[:, np.newaxis])\n"
     ]
    },
    {
     "name": "stdout",
     "output_type": "stream",
     "text": [
      "Running:  [20, 'gini', 22, 29]\n"
     ]
    },
    {
     "name": "stderr",
     "output_type": "stream",
     "text": [
      "c:\\users\\sharm\\appdata\\local\\programs\\python\\python36\\lib\\site-packages\\sklearn\\ensemble\\forest.py:451: UserWarning: Some inputs do not have OOB scores. This probably means too few trees were used to compute any reliable oob estimates.\n",
      "  warn(\"Some inputs do not have OOB scores. \"\n",
      "c:\\users\\sharm\\appdata\\local\\programs\\python\\python36\\lib\\site-packages\\sklearn\\ensemble\\forest.py:456: RuntimeWarning: invalid value encountered in true_divide\n",
      "  predictions[k].sum(axis=1)[:, np.newaxis])\n"
     ]
    },
    {
     "name": "stdout",
     "output_type": "stream",
     "text": [
      "Running:  [20, 'gini', 24, 5]\n"
     ]
    },
    {
     "name": "stderr",
     "output_type": "stream",
     "text": [
      "c:\\users\\sharm\\appdata\\local\\programs\\python\\python36\\lib\\site-packages\\sklearn\\ensemble\\forest.py:451: UserWarning: Some inputs do not have OOB scores. This probably means too few trees were used to compute any reliable oob estimates.\n",
      "  warn(\"Some inputs do not have OOB scores. \"\n",
      "c:\\users\\sharm\\appdata\\local\\programs\\python\\python36\\lib\\site-packages\\sklearn\\ensemble\\forest.py:456: RuntimeWarning: invalid value encountered in true_divide\n",
      "  predictions[k].sum(axis=1)[:, np.newaxis])\n"
     ]
    },
    {
     "name": "stdout",
     "output_type": "stream",
     "text": [
      "Running:  [20, 'gini', 24, 7]\n"
     ]
    },
    {
     "name": "stderr",
     "output_type": "stream",
     "text": [
      "c:\\users\\sharm\\appdata\\local\\programs\\python\\python36\\lib\\site-packages\\sklearn\\ensemble\\forest.py:451: UserWarning: Some inputs do not have OOB scores. This probably means too few trees were used to compute any reliable oob estimates.\n",
      "  warn(\"Some inputs do not have OOB scores. \"\n",
      "c:\\users\\sharm\\appdata\\local\\programs\\python\\python36\\lib\\site-packages\\sklearn\\ensemble\\forest.py:456: RuntimeWarning: invalid value encountered in true_divide\n",
      "  predictions[k].sum(axis=1)[:, np.newaxis])\n"
     ]
    },
    {
     "name": "stdout",
     "output_type": "stream",
     "text": [
      "Running:  [20, 'gini', 24, 9]\n"
     ]
    },
    {
     "name": "stderr",
     "output_type": "stream",
     "text": [
      "c:\\users\\sharm\\appdata\\local\\programs\\python\\python36\\lib\\site-packages\\sklearn\\ensemble\\forest.py:451: UserWarning: Some inputs do not have OOB scores. This probably means too few trees were used to compute any reliable oob estimates.\n",
      "  warn(\"Some inputs do not have OOB scores. \"\n",
      "c:\\users\\sharm\\appdata\\local\\programs\\python\\python36\\lib\\site-packages\\sklearn\\ensemble\\forest.py:456: RuntimeWarning: invalid value encountered in true_divide\n",
      "  predictions[k].sum(axis=1)[:, np.newaxis])\n"
     ]
    },
    {
     "name": "stdout",
     "output_type": "stream",
     "text": [
      "Running:  [20, 'gini', 24, 11]\n"
     ]
    },
    {
     "name": "stderr",
     "output_type": "stream",
     "text": [
      "c:\\users\\sharm\\appdata\\local\\programs\\python\\python36\\lib\\site-packages\\sklearn\\ensemble\\forest.py:451: UserWarning: Some inputs do not have OOB scores. This probably means too few trees were used to compute any reliable oob estimates.\n",
      "  warn(\"Some inputs do not have OOB scores. \"\n",
      "c:\\users\\sharm\\appdata\\local\\programs\\python\\python36\\lib\\site-packages\\sklearn\\ensemble\\forest.py:456: RuntimeWarning: invalid value encountered in true_divide\n",
      "  predictions[k].sum(axis=1)[:, np.newaxis])\n"
     ]
    },
    {
     "name": "stdout",
     "output_type": "stream",
     "text": [
      "Running:  [20, 'gini', 24, 13]\n"
     ]
    },
    {
     "name": "stderr",
     "output_type": "stream",
     "text": [
      "c:\\users\\sharm\\appdata\\local\\programs\\python\\python36\\lib\\site-packages\\sklearn\\ensemble\\forest.py:451: UserWarning: Some inputs do not have OOB scores. This probably means too few trees were used to compute any reliable oob estimates.\n",
      "  warn(\"Some inputs do not have OOB scores. \"\n",
      "c:\\users\\sharm\\appdata\\local\\programs\\python\\python36\\lib\\site-packages\\sklearn\\ensemble\\forest.py:456: RuntimeWarning: invalid value encountered in true_divide\n",
      "  predictions[k].sum(axis=1)[:, np.newaxis])\n"
     ]
    },
    {
     "name": "stdout",
     "output_type": "stream",
     "text": [
      "Running:  [20, 'gini', 24, 15]\n"
     ]
    },
    {
     "name": "stderr",
     "output_type": "stream",
     "text": [
      "c:\\users\\sharm\\appdata\\local\\programs\\python\\python36\\lib\\site-packages\\sklearn\\ensemble\\forest.py:451: UserWarning: Some inputs do not have OOB scores. This probably means too few trees were used to compute any reliable oob estimates.\n",
      "  warn(\"Some inputs do not have OOB scores. \"\n",
      "c:\\users\\sharm\\appdata\\local\\programs\\python\\python36\\lib\\site-packages\\sklearn\\ensemble\\forest.py:456: RuntimeWarning: invalid value encountered in true_divide\n",
      "  predictions[k].sum(axis=1)[:, np.newaxis])\n"
     ]
    },
    {
     "name": "stdout",
     "output_type": "stream",
     "text": [
      "Running:  [20, 'gini', 24, 17]\n"
     ]
    },
    {
     "name": "stderr",
     "output_type": "stream",
     "text": [
      "c:\\users\\sharm\\appdata\\local\\programs\\python\\python36\\lib\\site-packages\\sklearn\\ensemble\\forest.py:451: UserWarning: Some inputs do not have OOB scores. This probably means too few trees were used to compute any reliable oob estimates.\n",
      "  warn(\"Some inputs do not have OOB scores. \"\n",
      "c:\\users\\sharm\\appdata\\local\\programs\\python\\python36\\lib\\site-packages\\sklearn\\ensemble\\forest.py:456: RuntimeWarning: invalid value encountered in true_divide\n",
      "  predictions[k].sum(axis=1)[:, np.newaxis])\n"
     ]
    },
    {
     "name": "stdout",
     "output_type": "stream",
     "text": [
      "Running:  [20, 'gini', 24, 19]\n"
     ]
    },
    {
     "name": "stderr",
     "output_type": "stream",
     "text": [
      "c:\\users\\sharm\\appdata\\local\\programs\\python\\python36\\lib\\site-packages\\sklearn\\ensemble\\forest.py:451: UserWarning: Some inputs do not have OOB scores. This probably means too few trees were used to compute any reliable oob estimates.\n",
      "  warn(\"Some inputs do not have OOB scores. \"\n",
      "c:\\users\\sharm\\appdata\\local\\programs\\python\\python36\\lib\\site-packages\\sklearn\\ensemble\\forest.py:456: RuntimeWarning: invalid value encountered in true_divide\n",
      "  predictions[k].sum(axis=1)[:, np.newaxis])\n"
     ]
    },
    {
     "name": "stdout",
     "output_type": "stream",
     "text": [
      "Running:  [20, 'gini', 24, 21]\n"
     ]
    },
    {
     "name": "stderr",
     "output_type": "stream",
     "text": [
      "c:\\users\\sharm\\appdata\\local\\programs\\python\\python36\\lib\\site-packages\\sklearn\\ensemble\\forest.py:451: UserWarning: Some inputs do not have OOB scores. This probably means too few trees were used to compute any reliable oob estimates.\n",
      "  warn(\"Some inputs do not have OOB scores. \"\n",
      "c:\\users\\sharm\\appdata\\local\\programs\\python\\python36\\lib\\site-packages\\sklearn\\ensemble\\forest.py:456: RuntimeWarning: invalid value encountered in true_divide\n",
      "  predictions[k].sum(axis=1)[:, np.newaxis])\n"
     ]
    },
    {
     "name": "stdout",
     "output_type": "stream",
     "text": [
      "Running:  [20, 'gini', 24, 23]\n"
     ]
    },
    {
     "name": "stderr",
     "output_type": "stream",
     "text": [
      "c:\\users\\sharm\\appdata\\local\\programs\\python\\python36\\lib\\site-packages\\sklearn\\ensemble\\forest.py:451: UserWarning: Some inputs do not have OOB scores. This probably means too few trees were used to compute any reliable oob estimates.\n",
      "  warn(\"Some inputs do not have OOB scores. \"\n",
      "c:\\users\\sharm\\appdata\\local\\programs\\python\\python36\\lib\\site-packages\\sklearn\\ensemble\\forest.py:456: RuntimeWarning: invalid value encountered in true_divide\n",
      "  predictions[k].sum(axis=1)[:, np.newaxis])\n"
     ]
    },
    {
     "name": "stdout",
     "output_type": "stream",
     "text": [
      "Running:  [20, 'gini', 24, 25]\n"
     ]
    },
    {
     "name": "stderr",
     "output_type": "stream",
     "text": [
      "c:\\users\\sharm\\appdata\\local\\programs\\python\\python36\\lib\\site-packages\\sklearn\\ensemble\\forest.py:451: UserWarning: Some inputs do not have OOB scores. This probably means too few trees were used to compute any reliable oob estimates.\n",
      "  warn(\"Some inputs do not have OOB scores. \"\n",
      "c:\\users\\sharm\\appdata\\local\\programs\\python\\python36\\lib\\site-packages\\sklearn\\ensemble\\forest.py:456: RuntimeWarning: invalid value encountered in true_divide\n",
      "  predictions[k].sum(axis=1)[:, np.newaxis])\n"
     ]
    },
    {
     "name": "stdout",
     "output_type": "stream",
     "text": [
      "Running:  [20, 'gini', 24, 27]\n"
     ]
    },
    {
     "name": "stderr",
     "output_type": "stream",
     "text": [
      "c:\\users\\sharm\\appdata\\local\\programs\\python\\python36\\lib\\site-packages\\sklearn\\ensemble\\forest.py:451: UserWarning: Some inputs do not have OOB scores. This probably means too few trees were used to compute any reliable oob estimates.\n",
      "  warn(\"Some inputs do not have OOB scores. \"\n",
      "c:\\users\\sharm\\appdata\\local\\programs\\python\\python36\\lib\\site-packages\\sklearn\\ensemble\\forest.py:456: RuntimeWarning: invalid value encountered in true_divide\n",
      "  predictions[k].sum(axis=1)[:, np.newaxis])\n"
     ]
    },
    {
     "name": "stdout",
     "output_type": "stream",
     "text": [
      "Running:  [20, 'gini', 24, 29]\n"
     ]
    },
    {
     "name": "stderr",
     "output_type": "stream",
     "text": [
      "c:\\users\\sharm\\appdata\\local\\programs\\python\\python36\\lib\\site-packages\\sklearn\\ensemble\\forest.py:451: UserWarning: Some inputs do not have OOB scores. This probably means too few trees were used to compute any reliable oob estimates.\n",
      "  warn(\"Some inputs do not have OOB scores. \"\n",
      "c:\\users\\sharm\\appdata\\local\\programs\\python\\python36\\lib\\site-packages\\sklearn\\ensemble\\forest.py:456: RuntimeWarning: invalid value encountered in true_divide\n",
      "  predictions[k].sum(axis=1)[:, np.newaxis])\n"
     ]
    },
    {
     "name": "stdout",
     "output_type": "stream",
     "text": [
      "Running:  [20, 'gini', 26, 5]\n"
     ]
    },
    {
     "name": "stderr",
     "output_type": "stream",
     "text": [
      "c:\\users\\sharm\\appdata\\local\\programs\\python\\python36\\lib\\site-packages\\sklearn\\ensemble\\forest.py:451: UserWarning: Some inputs do not have OOB scores. This probably means too few trees were used to compute any reliable oob estimates.\n",
      "  warn(\"Some inputs do not have OOB scores. \"\n",
      "c:\\users\\sharm\\appdata\\local\\programs\\python\\python36\\lib\\site-packages\\sklearn\\ensemble\\forest.py:456: RuntimeWarning: invalid value encountered in true_divide\n",
      "  predictions[k].sum(axis=1)[:, np.newaxis])\n"
     ]
    },
    {
     "name": "stdout",
     "output_type": "stream",
     "text": [
      "Running:  [20, 'gini', 26, 7]\n"
     ]
    },
    {
     "name": "stderr",
     "output_type": "stream",
     "text": [
      "c:\\users\\sharm\\appdata\\local\\programs\\python\\python36\\lib\\site-packages\\sklearn\\ensemble\\forest.py:451: UserWarning: Some inputs do not have OOB scores. This probably means too few trees were used to compute any reliable oob estimates.\n",
      "  warn(\"Some inputs do not have OOB scores. \"\n",
      "c:\\users\\sharm\\appdata\\local\\programs\\python\\python36\\lib\\site-packages\\sklearn\\ensemble\\forest.py:456: RuntimeWarning: invalid value encountered in true_divide\n",
      "  predictions[k].sum(axis=1)[:, np.newaxis])\n"
     ]
    },
    {
     "name": "stdout",
     "output_type": "stream",
     "text": [
      "Running:  [20, 'gini', 26, 9]\n"
     ]
    },
    {
     "name": "stderr",
     "output_type": "stream",
     "text": [
      "c:\\users\\sharm\\appdata\\local\\programs\\python\\python36\\lib\\site-packages\\sklearn\\ensemble\\forest.py:451: UserWarning: Some inputs do not have OOB scores. This probably means too few trees were used to compute any reliable oob estimates.\n",
      "  warn(\"Some inputs do not have OOB scores. \"\n",
      "c:\\users\\sharm\\appdata\\local\\programs\\python\\python36\\lib\\site-packages\\sklearn\\ensemble\\forest.py:456: RuntimeWarning: invalid value encountered in true_divide\n",
      "  predictions[k].sum(axis=1)[:, np.newaxis])\n"
     ]
    },
    {
     "name": "stdout",
     "output_type": "stream",
     "text": [
      "Running:  [20, 'gini', 26, 11]\n"
     ]
    },
    {
     "name": "stderr",
     "output_type": "stream",
     "text": [
      "c:\\users\\sharm\\appdata\\local\\programs\\python\\python36\\lib\\site-packages\\sklearn\\ensemble\\forest.py:451: UserWarning: Some inputs do not have OOB scores. This probably means too few trees were used to compute any reliable oob estimates.\n",
      "  warn(\"Some inputs do not have OOB scores. \"\n",
      "c:\\users\\sharm\\appdata\\local\\programs\\python\\python36\\lib\\site-packages\\sklearn\\ensemble\\forest.py:456: RuntimeWarning: invalid value encountered in true_divide\n",
      "  predictions[k].sum(axis=1)[:, np.newaxis])\n"
     ]
    },
    {
     "name": "stdout",
     "output_type": "stream",
     "text": [
      "Running:  [20, 'gini', 26, 13]\n"
     ]
    },
    {
     "name": "stderr",
     "output_type": "stream",
     "text": [
      "c:\\users\\sharm\\appdata\\local\\programs\\python\\python36\\lib\\site-packages\\sklearn\\ensemble\\forest.py:451: UserWarning: Some inputs do not have OOB scores. This probably means too few trees were used to compute any reliable oob estimates.\n",
      "  warn(\"Some inputs do not have OOB scores. \"\n",
      "c:\\users\\sharm\\appdata\\local\\programs\\python\\python36\\lib\\site-packages\\sklearn\\ensemble\\forest.py:456: RuntimeWarning: invalid value encountered in true_divide\n",
      "  predictions[k].sum(axis=1)[:, np.newaxis])\n"
     ]
    },
    {
     "name": "stdout",
     "output_type": "stream",
     "text": [
      "Running:  [20, 'gini', 26, 15]\n"
     ]
    },
    {
     "name": "stderr",
     "output_type": "stream",
     "text": [
      "c:\\users\\sharm\\appdata\\local\\programs\\python\\python36\\lib\\site-packages\\sklearn\\ensemble\\forest.py:451: UserWarning: Some inputs do not have OOB scores. This probably means too few trees were used to compute any reliable oob estimates.\n",
      "  warn(\"Some inputs do not have OOB scores. \"\n",
      "c:\\users\\sharm\\appdata\\local\\programs\\python\\python36\\lib\\site-packages\\sklearn\\ensemble\\forest.py:456: RuntimeWarning: invalid value encountered in true_divide\n",
      "  predictions[k].sum(axis=1)[:, np.newaxis])\n"
     ]
    },
    {
     "name": "stdout",
     "output_type": "stream",
     "text": [
      "Running:  [20, 'gini', 26, 17]\n"
     ]
    },
    {
     "name": "stderr",
     "output_type": "stream",
     "text": [
      "c:\\users\\sharm\\appdata\\local\\programs\\python\\python36\\lib\\site-packages\\sklearn\\ensemble\\forest.py:451: UserWarning: Some inputs do not have OOB scores. This probably means too few trees were used to compute any reliable oob estimates.\n",
      "  warn(\"Some inputs do not have OOB scores. \"\n",
      "c:\\users\\sharm\\appdata\\local\\programs\\python\\python36\\lib\\site-packages\\sklearn\\ensemble\\forest.py:456: RuntimeWarning: invalid value encountered in true_divide\n",
      "  predictions[k].sum(axis=1)[:, np.newaxis])\n"
     ]
    },
    {
     "name": "stdout",
     "output_type": "stream",
     "text": [
      "Running:  [20, 'gini', 26, 19]\n"
     ]
    },
    {
     "name": "stderr",
     "output_type": "stream",
     "text": [
      "c:\\users\\sharm\\appdata\\local\\programs\\python\\python36\\lib\\site-packages\\sklearn\\ensemble\\forest.py:451: UserWarning: Some inputs do not have OOB scores. This probably means too few trees were used to compute any reliable oob estimates.\n",
      "  warn(\"Some inputs do not have OOB scores. \"\n",
      "c:\\users\\sharm\\appdata\\local\\programs\\python\\python36\\lib\\site-packages\\sklearn\\ensemble\\forest.py:456: RuntimeWarning: invalid value encountered in true_divide\n",
      "  predictions[k].sum(axis=1)[:, np.newaxis])\n"
     ]
    },
    {
     "name": "stdout",
     "output_type": "stream",
     "text": [
      "Running:  [20, 'gini', 26, 21]\n"
     ]
    },
    {
     "name": "stderr",
     "output_type": "stream",
     "text": [
      "c:\\users\\sharm\\appdata\\local\\programs\\python\\python36\\lib\\site-packages\\sklearn\\ensemble\\forest.py:451: UserWarning: Some inputs do not have OOB scores. This probably means too few trees were used to compute any reliable oob estimates.\n",
      "  warn(\"Some inputs do not have OOB scores. \"\n",
      "c:\\users\\sharm\\appdata\\local\\programs\\python\\python36\\lib\\site-packages\\sklearn\\ensemble\\forest.py:456: RuntimeWarning: invalid value encountered in true_divide\n",
      "  predictions[k].sum(axis=1)[:, np.newaxis])\n"
     ]
    },
    {
     "name": "stdout",
     "output_type": "stream",
     "text": [
      "Running:  [20, 'gini', 26, 23]\n"
     ]
    },
    {
     "name": "stderr",
     "output_type": "stream",
     "text": [
      "c:\\users\\sharm\\appdata\\local\\programs\\python\\python36\\lib\\site-packages\\sklearn\\ensemble\\forest.py:451: UserWarning: Some inputs do not have OOB scores. This probably means too few trees were used to compute any reliable oob estimates.\n",
      "  warn(\"Some inputs do not have OOB scores. \"\n",
      "c:\\users\\sharm\\appdata\\local\\programs\\python\\python36\\lib\\site-packages\\sklearn\\ensemble\\forest.py:456: RuntimeWarning: invalid value encountered in true_divide\n",
      "  predictions[k].sum(axis=1)[:, np.newaxis])\n"
     ]
    },
    {
     "name": "stdout",
     "output_type": "stream",
     "text": [
      "Running:  [20, 'gini', 26, 25]\n"
     ]
    },
    {
     "name": "stderr",
     "output_type": "stream",
     "text": [
      "c:\\users\\sharm\\appdata\\local\\programs\\python\\python36\\lib\\site-packages\\sklearn\\ensemble\\forest.py:451: UserWarning: Some inputs do not have OOB scores. This probably means too few trees were used to compute any reliable oob estimates.\n",
      "  warn(\"Some inputs do not have OOB scores. \"\n",
      "c:\\users\\sharm\\appdata\\local\\programs\\python\\python36\\lib\\site-packages\\sklearn\\ensemble\\forest.py:456: RuntimeWarning: invalid value encountered in true_divide\n",
      "  predictions[k].sum(axis=1)[:, np.newaxis])\n"
     ]
    },
    {
     "name": "stdout",
     "output_type": "stream",
     "text": [
      "Running:  [20, 'gini', 26, 27]\n"
     ]
    },
    {
     "name": "stderr",
     "output_type": "stream",
     "text": [
      "c:\\users\\sharm\\appdata\\local\\programs\\python\\python36\\lib\\site-packages\\sklearn\\ensemble\\forest.py:451: UserWarning: Some inputs do not have OOB scores. This probably means too few trees were used to compute any reliable oob estimates.\n",
      "  warn(\"Some inputs do not have OOB scores. \"\n",
      "c:\\users\\sharm\\appdata\\local\\programs\\python\\python36\\lib\\site-packages\\sklearn\\ensemble\\forest.py:456: RuntimeWarning: invalid value encountered in true_divide\n",
      "  predictions[k].sum(axis=1)[:, np.newaxis])\n"
     ]
    },
    {
     "name": "stdout",
     "output_type": "stream",
     "text": [
      "Running:  [20, 'gini', 26, 29]\n"
     ]
    },
    {
     "name": "stderr",
     "output_type": "stream",
     "text": [
      "c:\\users\\sharm\\appdata\\local\\programs\\python\\python36\\lib\\site-packages\\sklearn\\ensemble\\forest.py:451: UserWarning: Some inputs do not have OOB scores. This probably means too few trees were used to compute any reliable oob estimates.\n",
      "  warn(\"Some inputs do not have OOB scores. \"\n",
      "c:\\users\\sharm\\appdata\\local\\programs\\python\\python36\\lib\\site-packages\\sklearn\\ensemble\\forest.py:456: RuntimeWarning: invalid value encountered in true_divide\n",
      "  predictions[k].sum(axis=1)[:, np.newaxis])\n"
     ]
    },
    {
     "name": "stdout",
     "output_type": "stream",
     "text": [
      "Running:  [20, 'gini', 28, 5]\n"
     ]
    },
    {
     "name": "stderr",
     "output_type": "stream",
     "text": [
      "c:\\users\\sharm\\appdata\\local\\programs\\python\\python36\\lib\\site-packages\\sklearn\\ensemble\\forest.py:451: UserWarning: Some inputs do not have OOB scores. This probably means too few trees were used to compute any reliable oob estimates.\n",
      "  warn(\"Some inputs do not have OOB scores. \"\n",
      "c:\\users\\sharm\\appdata\\local\\programs\\python\\python36\\lib\\site-packages\\sklearn\\ensemble\\forest.py:456: RuntimeWarning: invalid value encountered in true_divide\n",
      "  predictions[k].sum(axis=1)[:, np.newaxis])\n"
     ]
    },
    {
     "name": "stdout",
     "output_type": "stream",
     "text": [
      "Running:  [20, 'gini', 28, 7]\n"
     ]
    },
    {
     "name": "stderr",
     "output_type": "stream",
     "text": [
      "c:\\users\\sharm\\appdata\\local\\programs\\python\\python36\\lib\\site-packages\\sklearn\\ensemble\\forest.py:451: UserWarning: Some inputs do not have OOB scores. This probably means too few trees were used to compute any reliable oob estimates.\n",
      "  warn(\"Some inputs do not have OOB scores. \"\n",
      "c:\\users\\sharm\\appdata\\local\\programs\\python\\python36\\lib\\site-packages\\sklearn\\ensemble\\forest.py:456: RuntimeWarning: invalid value encountered in true_divide\n",
      "  predictions[k].sum(axis=1)[:, np.newaxis])\n"
     ]
    },
    {
     "name": "stdout",
     "output_type": "stream",
     "text": [
      "Running:  [20, 'gini', 28, 9]\n"
     ]
    },
    {
     "name": "stderr",
     "output_type": "stream",
     "text": [
      "c:\\users\\sharm\\appdata\\local\\programs\\python\\python36\\lib\\site-packages\\sklearn\\ensemble\\forest.py:451: UserWarning: Some inputs do not have OOB scores. This probably means too few trees were used to compute any reliable oob estimates.\n",
      "  warn(\"Some inputs do not have OOB scores. \"\n",
      "c:\\users\\sharm\\appdata\\local\\programs\\python\\python36\\lib\\site-packages\\sklearn\\ensemble\\forest.py:456: RuntimeWarning: invalid value encountered in true_divide\n",
      "  predictions[k].sum(axis=1)[:, np.newaxis])\n"
     ]
    },
    {
     "name": "stdout",
     "output_type": "stream",
     "text": [
      "Running:  [20, 'gini', 28, 11]\n"
     ]
    },
    {
     "name": "stderr",
     "output_type": "stream",
     "text": [
      "c:\\users\\sharm\\appdata\\local\\programs\\python\\python36\\lib\\site-packages\\sklearn\\ensemble\\forest.py:451: UserWarning: Some inputs do not have OOB scores. This probably means too few trees were used to compute any reliable oob estimates.\n",
      "  warn(\"Some inputs do not have OOB scores. \"\n",
      "c:\\users\\sharm\\appdata\\local\\programs\\python\\python36\\lib\\site-packages\\sklearn\\ensemble\\forest.py:456: RuntimeWarning: invalid value encountered in true_divide\n",
      "  predictions[k].sum(axis=1)[:, np.newaxis])\n"
     ]
    },
    {
     "name": "stdout",
     "output_type": "stream",
     "text": [
      "Running:  [20, 'gini', 28, 13]\n"
     ]
    },
    {
     "name": "stderr",
     "output_type": "stream",
     "text": [
      "c:\\users\\sharm\\appdata\\local\\programs\\python\\python36\\lib\\site-packages\\sklearn\\ensemble\\forest.py:451: UserWarning: Some inputs do not have OOB scores. This probably means too few trees were used to compute any reliable oob estimates.\n",
      "  warn(\"Some inputs do not have OOB scores. \"\n",
      "c:\\users\\sharm\\appdata\\local\\programs\\python\\python36\\lib\\site-packages\\sklearn\\ensemble\\forest.py:456: RuntimeWarning: invalid value encountered in true_divide\n",
      "  predictions[k].sum(axis=1)[:, np.newaxis])\n"
     ]
    },
    {
     "name": "stdout",
     "output_type": "stream",
     "text": [
      "Running:  [20, 'gini', 28, 15]\n"
     ]
    },
    {
     "name": "stderr",
     "output_type": "stream",
     "text": [
      "c:\\users\\sharm\\appdata\\local\\programs\\python\\python36\\lib\\site-packages\\sklearn\\ensemble\\forest.py:451: UserWarning: Some inputs do not have OOB scores. This probably means too few trees were used to compute any reliable oob estimates.\n",
      "  warn(\"Some inputs do not have OOB scores. \"\n",
      "c:\\users\\sharm\\appdata\\local\\programs\\python\\python36\\lib\\site-packages\\sklearn\\ensemble\\forest.py:456: RuntimeWarning: invalid value encountered in true_divide\n",
      "  predictions[k].sum(axis=1)[:, np.newaxis])\n"
     ]
    },
    {
     "name": "stdout",
     "output_type": "stream",
     "text": [
      "Running:  [20, 'gini', 28, 17]\n"
     ]
    },
    {
     "name": "stderr",
     "output_type": "stream",
     "text": [
      "c:\\users\\sharm\\appdata\\local\\programs\\python\\python36\\lib\\site-packages\\sklearn\\ensemble\\forest.py:451: UserWarning: Some inputs do not have OOB scores. This probably means too few trees were used to compute any reliable oob estimates.\n",
      "  warn(\"Some inputs do not have OOB scores. \"\n",
      "c:\\users\\sharm\\appdata\\local\\programs\\python\\python36\\lib\\site-packages\\sklearn\\ensemble\\forest.py:456: RuntimeWarning: invalid value encountered in true_divide\n",
      "  predictions[k].sum(axis=1)[:, np.newaxis])\n"
     ]
    },
    {
     "name": "stdout",
     "output_type": "stream",
     "text": [
      "Running:  [20, 'gini', 28, 19]\n"
     ]
    },
    {
     "name": "stderr",
     "output_type": "stream",
     "text": [
      "c:\\users\\sharm\\appdata\\local\\programs\\python\\python36\\lib\\site-packages\\sklearn\\ensemble\\forest.py:451: UserWarning: Some inputs do not have OOB scores. This probably means too few trees were used to compute any reliable oob estimates.\n",
      "  warn(\"Some inputs do not have OOB scores. \"\n",
      "c:\\users\\sharm\\appdata\\local\\programs\\python\\python36\\lib\\site-packages\\sklearn\\ensemble\\forest.py:456: RuntimeWarning: invalid value encountered in true_divide\n",
      "  predictions[k].sum(axis=1)[:, np.newaxis])\n"
     ]
    },
    {
     "name": "stdout",
     "output_type": "stream",
     "text": [
      "Running:  [20, 'gini', 28, 21]\n"
     ]
    },
    {
     "name": "stderr",
     "output_type": "stream",
     "text": [
      "c:\\users\\sharm\\appdata\\local\\programs\\python\\python36\\lib\\site-packages\\sklearn\\ensemble\\forest.py:451: UserWarning: Some inputs do not have OOB scores. This probably means too few trees were used to compute any reliable oob estimates.\n",
      "  warn(\"Some inputs do not have OOB scores. \"\n",
      "c:\\users\\sharm\\appdata\\local\\programs\\python\\python36\\lib\\site-packages\\sklearn\\ensemble\\forest.py:456: RuntimeWarning: invalid value encountered in true_divide\n",
      "  predictions[k].sum(axis=1)[:, np.newaxis])\n"
     ]
    },
    {
     "name": "stdout",
     "output_type": "stream",
     "text": [
      "Running:  [20, 'gini', 28, 23]\n"
     ]
    },
    {
     "name": "stderr",
     "output_type": "stream",
     "text": [
      "c:\\users\\sharm\\appdata\\local\\programs\\python\\python36\\lib\\site-packages\\sklearn\\ensemble\\forest.py:451: UserWarning: Some inputs do not have OOB scores. This probably means too few trees were used to compute any reliable oob estimates.\n",
      "  warn(\"Some inputs do not have OOB scores. \"\n",
      "c:\\users\\sharm\\appdata\\local\\programs\\python\\python36\\lib\\site-packages\\sklearn\\ensemble\\forest.py:456: RuntimeWarning: invalid value encountered in true_divide\n",
      "  predictions[k].sum(axis=1)[:, np.newaxis])\n"
     ]
    },
    {
     "name": "stdout",
     "output_type": "stream",
     "text": [
      "Running:  [20, 'gini', 28, 25]\n"
     ]
    },
    {
     "name": "stderr",
     "output_type": "stream",
     "text": [
      "c:\\users\\sharm\\appdata\\local\\programs\\python\\python36\\lib\\site-packages\\sklearn\\ensemble\\forest.py:451: UserWarning: Some inputs do not have OOB scores. This probably means too few trees were used to compute any reliable oob estimates.\n",
      "  warn(\"Some inputs do not have OOB scores. \"\n",
      "c:\\users\\sharm\\appdata\\local\\programs\\python\\python36\\lib\\site-packages\\sklearn\\ensemble\\forest.py:456: RuntimeWarning: invalid value encountered in true_divide\n",
      "  predictions[k].sum(axis=1)[:, np.newaxis])\n"
     ]
    },
    {
     "name": "stdout",
     "output_type": "stream",
     "text": [
      "Running:  [20, 'gini', 28, 27]\n"
     ]
    },
    {
     "name": "stderr",
     "output_type": "stream",
     "text": [
      "c:\\users\\sharm\\appdata\\local\\programs\\python\\python36\\lib\\site-packages\\sklearn\\ensemble\\forest.py:451: UserWarning: Some inputs do not have OOB scores. This probably means too few trees were used to compute any reliable oob estimates.\n",
      "  warn(\"Some inputs do not have OOB scores. \"\n",
      "c:\\users\\sharm\\appdata\\local\\programs\\python\\python36\\lib\\site-packages\\sklearn\\ensemble\\forest.py:456: RuntimeWarning: invalid value encountered in true_divide\n",
      "  predictions[k].sum(axis=1)[:, np.newaxis])\n"
     ]
    },
    {
     "name": "stdout",
     "output_type": "stream",
     "text": [
      "Running:  [20, 'gini', 28, 29]\n"
     ]
    },
    {
     "name": "stderr",
     "output_type": "stream",
     "text": [
      "c:\\users\\sharm\\appdata\\local\\programs\\python\\python36\\lib\\site-packages\\sklearn\\ensemble\\forest.py:451: UserWarning: Some inputs do not have OOB scores. This probably means too few trees were used to compute any reliable oob estimates.\n",
      "  warn(\"Some inputs do not have OOB scores. \"\n",
      "c:\\users\\sharm\\appdata\\local\\programs\\python\\python36\\lib\\site-packages\\sklearn\\ensemble\\forest.py:456: RuntimeWarning: invalid value encountered in true_divide\n",
      "  predictions[k].sum(axis=1)[:, np.newaxis])\n"
     ]
    },
    {
     "name": "stdout",
     "output_type": "stream",
     "text": [
      "Running:  [20, 'gini', 30, 5]\n"
     ]
    },
    {
     "name": "stderr",
     "output_type": "stream",
     "text": [
      "c:\\users\\sharm\\appdata\\local\\programs\\python\\python36\\lib\\site-packages\\sklearn\\ensemble\\forest.py:451: UserWarning: Some inputs do not have OOB scores. This probably means too few trees were used to compute any reliable oob estimates.\n",
      "  warn(\"Some inputs do not have OOB scores. \"\n",
      "c:\\users\\sharm\\appdata\\local\\programs\\python\\python36\\lib\\site-packages\\sklearn\\ensemble\\forest.py:456: RuntimeWarning: invalid value encountered in true_divide\n",
      "  predictions[k].sum(axis=1)[:, np.newaxis])\n"
     ]
    },
    {
     "name": "stdout",
     "output_type": "stream",
     "text": [
      "Running:  [20, 'gini', 30, 7]\n"
     ]
    },
    {
     "name": "stderr",
     "output_type": "stream",
     "text": [
      "c:\\users\\sharm\\appdata\\local\\programs\\python\\python36\\lib\\site-packages\\sklearn\\ensemble\\forest.py:451: UserWarning: Some inputs do not have OOB scores. This probably means too few trees were used to compute any reliable oob estimates.\n",
      "  warn(\"Some inputs do not have OOB scores. \"\n",
      "c:\\users\\sharm\\appdata\\local\\programs\\python\\python36\\lib\\site-packages\\sklearn\\ensemble\\forest.py:456: RuntimeWarning: invalid value encountered in true_divide\n",
      "  predictions[k].sum(axis=1)[:, np.newaxis])\n"
     ]
    },
    {
     "name": "stdout",
     "output_type": "stream",
     "text": [
      "Running:  [20, 'gini', 30, 9]\n"
     ]
    },
    {
     "name": "stderr",
     "output_type": "stream",
     "text": [
      "c:\\users\\sharm\\appdata\\local\\programs\\python\\python36\\lib\\site-packages\\sklearn\\ensemble\\forest.py:451: UserWarning: Some inputs do not have OOB scores. This probably means too few trees were used to compute any reliable oob estimates.\n",
      "  warn(\"Some inputs do not have OOB scores. \"\n",
      "c:\\users\\sharm\\appdata\\local\\programs\\python\\python36\\lib\\site-packages\\sklearn\\ensemble\\forest.py:456: RuntimeWarning: invalid value encountered in true_divide\n",
      "  predictions[k].sum(axis=1)[:, np.newaxis])\n"
     ]
    },
    {
     "name": "stdout",
     "output_type": "stream",
     "text": [
      "Running:  [20, 'gini', 30, 11]\n"
     ]
    },
    {
     "name": "stderr",
     "output_type": "stream",
     "text": [
      "c:\\users\\sharm\\appdata\\local\\programs\\python\\python36\\lib\\site-packages\\sklearn\\ensemble\\forest.py:451: UserWarning: Some inputs do not have OOB scores. This probably means too few trees were used to compute any reliable oob estimates.\n",
      "  warn(\"Some inputs do not have OOB scores. \"\n",
      "c:\\users\\sharm\\appdata\\local\\programs\\python\\python36\\lib\\site-packages\\sklearn\\ensemble\\forest.py:456: RuntimeWarning: invalid value encountered in true_divide\n",
      "  predictions[k].sum(axis=1)[:, np.newaxis])\n"
     ]
    },
    {
     "name": "stdout",
     "output_type": "stream",
     "text": [
      "Running:  [20, 'gini', 30, 13]\n"
     ]
    },
    {
     "name": "stderr",
     "output_type": "stream",
     "text": [
      "c:\\users\\sharm\\appdata\\local\\programs\\python\\python36\\lib\\site-packages\\sklearn\\ensemble\\forest.py:451: UserWarning: Some inputs do not have OOB scores. This probably means too few trees were used to compute any reliable oob estimates.\n",
      "  warn(\"Some inputs do not have OOB scores. \"\n",
      "c:\\users\\sharm\\appdata\\local\\programs\\python\\python36\\lib\\site-packages\\sklearn\\ensemble\\forest.py:456: RuntimeWarning: invalid value encountered in true_divide\n",
      "  predictions[k].sum(axis=1)[:, np.newaxis])\n"
     ]
    },
    {
     "name": "stdout",
     "output_type": "stream",
     "text": [
      "Running:  [20, 'gini', 30, 15]\n"
     ]
    },
    {
     "name": "stderr",
     "output_type": "stream",
     "text": [
      "c:\\users\\sharm\\appdata\\local\\programs\\python\\python36\\lib\\site-packages\\sklearn\\ensemble\\forest.py:451: UserWarning: Some inputs do not have OOB scores. This probably means too few trees were used to compute any reliable oob estimates.\n",
      "  warn(\"Some inputs do not have OOB scores. \"\n",
      "c:\\users\\sharm\\appdata\\local\\programs\\python\\python36\\lib\\site-packages\\sklearn\\ensemble\\forest.py:456: RuntimeWarning: invalid value encountered in true_divide\n",
      "  predictions[k].sum(axis=1)[:, np.newaxis])\n"
     ]
    },
    {
     "name": "stdout",
     "output_type": "stream",
     "text": [
      "Running:  [20, 'gini', 30, 17]\n"
     ]
    },
    {
     "name": "stderr",
     "output_type": "stream",
     "text": [
      "c:\\users\\sharm\\appdata\\local\\programs\\python\\python36\\lib\\site-packages\\sklearn\\ensemble\\forest.py:451: UserWarning: Some inputs do not have OOB scores. This probably means too few trees were used to compute any reliable oob estimates.\n",
      "  warn(\"Some inputs do not have OOB scores. \"\n",
      "c:\\users\\sharm\\appdata\\local\\programs\\python\\python36\\lib\\site-packages\\sklearn\\ensemble\\forest.py:456: RuntimeWarning: invalid value encountered in true_divide\n",
      "  predictions[k].sum(axis=1)[:, np.newaxis])\n"
     ]
    },
    {
     "name": "stdout",
     "output_type": "stream",
     "text": [
      "Running:  [20, 'gini', 30, 19]\n"
     ]
    },
    {
     "name": "stderr",
     "output_type": "stream",
     "text": [
      "c:\\users\\sharm\\appdata\\local\\programs\\python\\python36\\lib\\site-packages\\sklearn\\ensemble\\forest.py:451: UserWarning: Some inputs do not have OOB scores. This probably means too few trees were used to compute any reliable oob estimates.\n",
      "  warn(\"Some inputs do not have OOB scores. \"\n",
      "c:\\users\\sharm\\appdata\\local\\programs\\python\\python36\\lib\\site-packages\\sklearn\\ensemble\\forest.py:456: RuntimeWarning: invalid value encountered in true_divide\n",
      "  predictions[k].sum(axis=1)[:, np.newaxis])\n"
     ]
    },
    {
     "name": "stdout",
     "output_type": "stream",
     "text": [
      "Running:  [20, 'gini', 30, 21]\n"
     ]
    },
    {
     "name": "stderr",
     "output_type": "stream",
     "text": [
      "c:\\users\\sharm\\appdata\\local\\programs\\python\\python36\\lib\\site-packages\\sklearn\\ensemble\\forest.py:451: UserWarning: Some inputs do not have OOB scores. This probably means too few trees were used to compute any reliable oob estimates.\n",
      "  warn(\"Some inputs do not have OOB scores. \"\n",
      "c:\\users\\sharm\\appdata\\local\\programs\\python\\python36\\lib\\site-packages\\sklearn\\ensemble\\forest.py:456: RuntimeWarning: invalid value encountered in true_divide\n",
      "  predictions[k].sum(axis=1)[:, np.newaxis])\n"
     ]
    },
    {
     "name": "stdout",
     "output_type": "stream",
     "text": [
      "Running:  [20, 'gini', 30, 23]\n"
     ]
    },
    {
     "name": "stderr",
     "output_type": "stream",
     "text": [
      "c:\\users\\sharm\\appdata\\local\\programs\\python\\python36\\lib\\site-packages\\sklearn\\ensemble\\forest.py:451: UserWarning: Some inputs do not have OOB scores. This probably means too few trees were used to compute any reliable oob estimates.\n",
      "  warn(\"Some inputs do not have OOB scores. \"\n",
      "c:\\users\\sharm\\appdata\\local\\programs\\python\\python36\\lib\\site-packages\\sklearn\\ensemble\\forest.py:456: RuntimeWarning: invalid value encountered in true_divide\n",
      "  predictions[k].sum(axis=1)[:, np.newaxis])\n"
     ]
    },
    {
     "name": "stdout",
     "output_type": "stream",
     "text": [
      "Running:  [20, 'gini', 30, 25]\n"
     ]
    },
    {
     "name": "stderr",
     "output_type": "stream",
     "text": [
      "c:\\users\\sharm\\appdata\\local\\programs\\python\\python36\\lib\\site-packages\\sklearn\\ensemble\\forest.py:451: UserWarning: Some inputs do not have OOB scores. This probably means too few trees were used to compute any reliable oob estimates.\n",
      "  warn(\"Some inputs do not have OOB scores. \"\n",
      "c:\\users\\sharm\\appdata\\local\\programs\\python\\python36\\lib\\site-packages\\sklearn\\ensemble\\forest.py:456: RuntimeWarning: invalid value encountered in true_divide\n",
      "  predictions[k].sum(axis=1)[:, np.newaxis])\n"
     ]
    },
    {
     "name": "stdout",
     "output_type": "stream",
     "text": [
      "Running:  [20, 'gini', 30, 27]\n"
     ]
    },
    {
     "name": "stderr",
     "output_type": "stream",
     "text": [
      "c:\\users\\sharm\\appdata\\local\\programs\\python\\python36\\lib\\site-packages\\sklearn\\ensemble\\forest.py:451: UserWarning: Some inputs do not have OOB scores. This probably means too few trees were used to compute any reliable oob estimates.\n",
      "  warn(\"Some inputs do not have OOB scores. \"\n",
      "c:\\users\\sharm\\appdata\\local\\programs\\python\\python36\\lib\\site-packages\\sklearn\\ensemble\\forest.py:456: RuntimeWarning: invalid value encountered in true_divide\n",
      "  predictions[k].sum(axis=1)[:, np.newaxis])\n"
     ]
    },
    {
     "name": "stdout",
     "output_type": "stream",
     "text": [
      "Running:  [20, 'gini', 30, 29]\n"
     ]
    },
    {
     "name": "stderr",
     "output_type": "stream",
     "text": [
      "c:\\users\\sharm\\appdata\\local\\programs\\python\\python36\\lib\\site-packages\\sklearn\\ensemble\\forest.py:451: UserWarning: Some inputs do not have OOB scores. This probably means too few trees were used to compute any reliable oob estimates.\n",
      "  warn(\"Some inputs do not have OOB scores. \"\n",
      "c:\\users\\sharm\\appdata\\local\\programs\\python\\python36\\lib\\site-packages\\sklearn\\ensemble\\forest.py:456: RuntimeWarning: invalid value encountered in true_divide\n",
      "  predictions[k].sum(axis=1)[:, np.newaxis])\n"
     ]
    },
    {
     "name": "stdout",
     "output_type": "stream",
     "text": [
      "Running:  [20, 'gini', 32, 5]\n"
     ]
    },
    {
     "name": "stderr",
     "output_type": "stream",
     "text": [
      "c:\\users\\sharm\\appdata\\local\\programs\\python\\python36\\lib\\site-packages\\sklearn\\ensemble\\forest.py:451: UserWarning: Some inputs do not have OOB scores. This probably means too few trees were used to compute any reliable oob estimates.\n",
      "  warn(\"Some inputs do not have OOB scores. \"\n",
      "c:\\users\\sharm\\appdata\\local\\programs\\python\\python36\\lib\\site-packages\\sklearn\\ensemble\\forest.py:456: RuntimeWarning: invalid value encountered in true_divide\n",
      "  predictions[k].sum(axis=1)[:, np.newaxis])\n"
     ]
    },
    {
     "name": "stdout",
     "output_type": "stream",
     "text": [
      "Running:  [20, 'gini', 32, 7]\n"
     ]
    },
    {
     "name": "stderr",
     "output_type": "stream",
     "text": [
      "c:\\users\\sharm\\appdata\\local\\programs\\python\\python36\\lib\\site-packages\\sklearn\\ensemble\\forest.py:451: UserWarning: Some inputs do not have OOB scores. This probably means too few trees were used to compute any reliable oob estimates.\n",
      "  warn(\"Some inputs do not have OOB scores. \"\n",
      "c:\\users\\sharm\\appdata\\local\\programs\\python\\python36\\lib\\site-packages\\sklearn\\ensemble\\forest.py:456: RuntimeWarning: invalid value encountered in true_divide\n",
      "  predictions[k].sum(axis=1)[:, np.newaxis])\n"
     ]
    },
    {
     "name": "stdout",
     "output_type": "stream",
     "text": [
      "Running:  [20, 'gini', 32, 9]\n"
     ]
    },
    {
     "name": "stderr",
     "output_type": "stream",
     "text": [
      "c:\\users\\sharm\\appdata\\local\\programs\\python\\python36\\lib\\site-packages\\sklearn\\ensemble\\forest.py:451: UserWarning: Some inputs do not have OOB scores. This probably means too few trees were used to compute any reliable oob estimates.\n",
      "  warn(\"Some inputs do not have OOB scores. \"\n",
      "c:\\users\\sharm\\appdata\\local\\programs\\python\\python36\\lib\\site-packages\\sklearn\\ensemble\\forest.py:456: RuntimeWarning: invalid value encountered in true_divide\n",
      "  predictions[k].sum(axis=1)[:, np.newaxis])\n"
     ]
    },
    {
     "name": "stdout",
     "output_type": "stream",
     "text": [
      "Running:  [20, 'gini', 32, 11]\n"
     ]
    },
    {
     "name": "stderr",
     "output_type": "stream",
     "text": [
      "c:\\users\\sharm\\appdata\\local\\programs\\python\\python36\\lib\\site-packages\\sklearn\\ensemble\\forest.py:451: UserWarning: Some inputs do not have OOB scores. This probably means too few trees were used to compute any reliable oob estimates.\n",
      "  warn(\"Some inputs do not have OOB scores. \"\n",
      "c:\\users\\sharm\\appdata\\local\\programs\\python\\python36\\lib\\site-packages\\sklearn\\ensemble\\forest.py:456: RuntimeWarning: invalid value encountered in true_divide\n",
      "  predictions[k].sum(axis=1)[:, np.newaxis])\n"
     ]
    },
    {
     "name": "stdout",
     "output_type": "stream",
     "text": [
      "Running:  [20, 'gini', 32, 13]\n"
     ]
    },
    {
     "name": "stderr",
     "output_type": "stream",
     "text": [
      "c:\\users\\sharm\\appdata\\local\\programs\\python\\python36\\lib\\site-packages\\sklearn\\ensemble\\forest.py:451: UserWarning: Some inputs do not have OOB scores. This probably means too few trees were used to compute any reliable oob estimates.\n",
      "  warn(\"Some inputs do not have OOB scores. \"\n",
      "c:\\users\\sharm\\appdata\\local\\programs\\python\\python36\\lib\\site-packages\\sklearn\\ensemble\\forest.py:456: RuntimeWarning: invalid value encountered in true_divide\n",
      "  predictions[k].sum(axis=1)[:, np.newaxis])\n"
     ]
    },
    {
     "name": "stdout",
     "output_type": "stream",
     "text": [
      "Running:  [20, 'gini', 32, 15]\n"
     ]
    },
    {
     "name": "stderr",
     "output_type": "stream",
     "text": [
      "c:\\users\\sharm\\appdata\\local\\programs\\python\\python36\\lib\\site-packages\\sklearn\\ensemble\\forest.py:451: UserWarning: Some inputs do not have OOB scores. This probably means too few trees were used to compute any reliable oob estimates.\n",
      "  warn(\"Some inputs do not have OOB scores. \"\n",
      "c:\\users\\sharm\\appdata\\local\\programs\\python\\python36\\lib\\site-packages\\sklearn\\ensemble\\forest.py:456: RuntimeWarning: invalid value encountered in true_divide\n",
      "  predictions[k].sum(axis=1)[:, np.newaxis])\n"
     ]
    },
    {
     "name": "stdout",
     "output_type": "stream",
     "text": [
      "Running:  [20, 'gini', 32, 17]\n"
     ]
    },
    {
     "name": "stderr",
     "output_type": "stream",
     "text": [
      "c:\\users\\sharm\\appdata\\local\\programs\\python\\python36\\lib\\site-packages\\sklearn\\ensemble\\forest.py:451: UserWarning: Some inputs do not have OOB scores. This probably means too few trees were used to compute any reliable oob estimates.\n",
      "  warn(\"Some inputs do not have OOB scores. \"\n",
      "c:\\users\\sharm\\appdata\\local\\programs\\python\\python36\\lib\\site-packages\\sklearn\\ensemble\\forest.py:456: RuntimeWarning: invalid value encountered in true_divide\n",
      "  predictions[k].sum(axis=1)[:, np.newaxis])\n"
     ]
    },
    {
     "name": "stdout",
     "output_type": "stream",
     "text": [
      "Running:  [20, 'gini', 32, 19]\n"
     ]
    },
    {
     "name": "stderr",
     "output_type": "stream",
     "text": [
      "c:\\users\\sharm\\appdata\\local\\programs\\python\\python36\\lib\\site-packages\\sklearn\\ensemble\\forest.py:451: UserWarning: Some inputs do not have OOB scores. This probably means too few trees were used to compute any reliable oob estimates.\n",
      "  warn(\"Some inputs do not have OOB scores. \"\n",
      "c:\\users\\sharm\\appdata\\local\\programs\\python\\python36\\lib\\site-packages\\sklearn\\ensemble\\forest.py:456: RuntimeWarning: invalid value encountered in true_divide\n",
      "  predictions[k].sum(axis=1)[:, np.newaxis])\n"
     ]
    },
    {
     "name": "stdout",
     "output_type": "stream",
     "text": [
      "Running:  [20, 'gini', 32, 21]\n"
     ]
    },
    {
     "name": "stderr",
     "output_type": "stream",
     "text": [
      "c:\\users\\sharm\\appdata\\local\\programs\\python\\python36\\lib\\site-packages\\sklearn\\ensemble\\forest.py:451: UserWarning: Some inputs do not have OOB scores. This probably means too few trees were used to compute any reliable oob estimates.\n",
      "  warn(\"Some inputs do not have OOB scores. \"\n",
      "c:\\users\\sharm\\appdata\\local\\programs\\python\\python36\\lib\\site-packages\\sklearn\\ensemble\\forest.py:456: RuntimeWarning: invalid value encountered in true_divide\n",
      "  predictions[k].sum(axis=1)[:, np.newaxis])\n"
     ]
    },
    {
     "name": "stdout",
     "output_type": "stream",
     "text": [
      "Running:  [20, 'gini', 32, 23]\n"
     ]
    },
    {
     "name": "stderr",
     "output_type": "stream",
     "text": [
      "c:\\users\\sharm\\appdata\\local\\programs\\python\\python36\\lib\\site-packages\\sklearn\\ensemble\\forest.py:451: UserWarning: Some inputs do not have OOB scores. This probably means too few trees were used to compute any reliable oob estimates.\n",
      "  warn(\"Some inputs do not have OOB scores. \"\n",
      "c:\\users\\sharm\\appdata\\local\\programs\\python\\python36\\lib\\site-packages\\sklearn\\ensemble\\forest.py:456: RuntimeWarning: invalid value encountered in true_divide\n",
      "  predictions[k].sum(axis=1)[:, np.newaxis])\n"
     ]
    },
    {
     "name": "stdout",
     "output_type": "stream",
     "text": [
      "Running:  [20, 'gini', 32, 25]\n"
     ]
    },
    {
     "name": "stderr",
     "output_type": "stream",
     "text": [
      "c:\\users\\sharm\\appdata\\local\\programs\\python\\python36\\lib\\site-packages\\sklearn\\ensemble\\forest.py:451: UserWarning: Some inputs do not have OOB scores. This probably means too few trees were used to compute any reliable oob estimates.\n",
      "  warn(\"Some inputs do not have OOB scores. \"\n",
      "c:\\users\\sharm\\appdata\\local\\programs\\python\\python36\\lib\\site-packages\\sklearn\\ensemble\\forest.py:456: RuntimeWarning: invalid value encountered in true_divide\n",
      "  predictions[k].sum(axis=1)[:, np.newaxis])\n"
     ]
    },
    {
     "name": "stdout",
     "output_type": "stream",
     "text": [
      "Running:  [20, 'gini', 32, 27]\n"
     ]
    },
    {
     "name": "stderr",
     "output_type": "stream",
     "text": [
      "c:\\users\\sharm\\appdata\\local\\programs\\python\\python36\\lib\\site-packages\\sklearn\\ensemble\\forest.py:451: UserWarning: Some inputs do not have OOB scores. This probably means too few trees were used to compute any reliable oob estimates.\n",
      "  warn(\"Some inputs do not have OOB scores. \"\n",
      "c:\\users\\sharm\\appdata\\local\\programs\\python\\python36\\lib\\site-packages\\sklearn\\ensemble\\forest.py:456: RuntimeWarning: invalid value encountered in true_divide\n",
      "  predictions[k].sum(axis=1)[:, np.newaxis])\n"
     ]
    },
    {
     "name": "stdout",
     "output_type": "stream",
     "text": [
      "Running:  [20, 'gini', 32, 29]\n"
     ]
    },
    {
     "name": "stderr",
     "output_type": "stream",
     "text": [
      "c:\\users\\sharm\\appdata\\local\\programs\\python\\python36\\lib\\site-packages\\sklearn\\ensemble\\forest.py:451: UserWarning: Some inputs do not have OOB scores. This probably means too few trees were used to compute any reliable oob estimates.\n",
      "  warn(\"Some inputs do not have OOB scores. \"\n",
      "c:\\users\\sharm\\appdata\\local\\programs\\python\\python36\\lib\\site-packages\\sklearn\\ensemble\\forest.py:456: RuntimeWarning: invalid value encountered in true_divide\n",
      "  predictions[k].sum(axis=1)[:, np.newaxis])\n"
     ]
    },
    {
     "name": "stdout",
     "output_type": "stream",
     "text": [
      "Running:  [20, 'gini', 34, 5]\n"
     ]
    },
    {
     "name": "stderr",
     "output_type": "stream",
     "text": [
      "c:\\users\\sharm\\appdata\\local\\programs\\python\\python36\\lib\\site-packages\\sklearn\\ensemble\\forest.py:451: UserWarning: Some inputs do not have OOB scores. This probably means too few trees were used to compute any reliable oob estimates.\n",
      "  warn(\"Some inputs do not have OOB scores. \"\n",
      "c:\\users\\sharm\\appdata\\local\\programs\\python\\python36\\lib\\site-packages\\sklearn\\ensemble\\forest.py:456: RuntimeWarning: invalid value encountered in true_divide\n",
      "  predictions[k].sum(axis=1)[:, np.newaxis])\n"
     ]
    },
    {
     "name": "stdout",
     "output_type": "stream",
     "text": [
      "Running:  [20, 'gini', 34, 7]\n"
     ]
    },
    {
     "name": "stderr",
     "output_type": "stream",
     "text": [
      "c:\\users\\sharm\\appdata\\local\\programs\\python\\python36\\lib\\site-packages\\sklearn\\ensemble\\forest.py:451: UserWarning: Some inputs do not have OOB scores. This probably means too few trees were used to compute any reliable oob estimates.\n",
      "  warn(\"Some inputs do not have OOB scores. \"\n",
      "c:\\users\\sharm\\appdata\\local\\programs\\python\\python36\\lib\\site-packages\\sklearn\\ensemble\\forest.py:456: RuntimeWarning: invalid value encountered in true_divide\n",
      "  predictions[k].sum(axis=1)[:, np.newaxis])\n"
     ]
    },
    {
     "name": "stdout",
     "output_type": "stream",
     "text": [
      "Running:  [20, 'gini', 34, 9]\n"
     ]
    },
    {
     "name": "stderr",
     "output_type": "stream",
     "text": [
      "c:\\users\\sharm\\appdata\\local\\programs\\python\\python36\\lib\\site-packages\\sklearn\\ensemble\\forest.py:451: UserWarning: Some inputs do not have OOB scores. This probably means too few trees were used to compute any reliable oob estimates.\n",
      "  warn(\"Some inputs do not have OOB scores. \"\n",
      "c:\\users\\sharm\\appdata\\local\\programs\\python\\python36\\lib\\site-packages\\sklearn\\ensemble\\forest.py:456: RuntimeWarning: invalid value encountered in true_divide\n",
      "  predictions[k].sum(axis=1)[:, np.newaxis])\n"
     ]
    },
    {
     "name": "stdout",
     "output_type": "stream",
     "text": [
      "Running:  [20, 'gini', 34, 11]\n"
     ]
    },
    {
     "name": "stderr",
     "output_type": "stream",
     "text": [
      "c:\\users\\sharm\\appdata\\local\\programs\\python\\python36\\lib\\site-packages\\sklearn\\ensemble\\forest.py:451: UserWarning: Some inputs do not have OOB scores. This probably means too few trees were used to compute any reliable oob estimates.\n",
      "  warn(\"Some inputs do not have OOB scores. \"\n",
      "c:\\users\\sharm\\appdata\\local\\programs\\python\\python36\\lib\\site-packages\\sklearn\\ensemble\\forest.py:456: RuntimeWarning: invalid value encountered in true_divide\n",
      "  predictions[k].sum(axis=1)[:, np.newaxis])\n"
     ]
    },
    {
     "name": "stdout",
     "output_type": "stream",
     "text": [
      "Running:  [20, 'gini', 34, 13]\n"
     ]
    },
    {
     "name": "stderr",
     "output_type": "stream",
     "text": [
      "c:\\users\\sharm\\appdata\\local\\programs\\python\\python36\\lib\\site-packages\\sklearn\\ensemble\\forest.py:451: UserWarning: Some inputs do not have OOB scores. This probably means too few trees were used to compute any reliable oob estimates.\n",
      "  warn(\"Some inputs do not have OOB scores. \"\n",
      "c:\\users\\sharm\\appdata\\local\\programs\\python\\python36\\lib\\site-packages\\sklearn\\ensemble\\forest.py:456: RuntimeWarning: invalid value encountered in true_divide\n",
      "  predictions[k].sum(axis=1)[:, np.newaxis])\n"
     ]
    },
    {
     "name": "stdout",
     "output_type": "stream",
     "text": [
      "Running:  [20, 'gini', 34, 15]\n"
     ]
    },
    {
     "name": "stderr",
     "output_type": "stream",
     "text": [
      "c:\\users\\sharm\\appdata\\local\\programs\\python\\python36\\lib\\site-packages\\sklearn\\ensemble\\forest.py:451: UserWarning: Some inputs do not have OOB scores. This probably means too few trees were used to compute any reliable oob estimates.\n",
      "  warn(\"Some inputs do not have OOB scores. \"\n",
      "c:\\users\\sharm\\appdata\\local\\programs\\python\\python36\\lib\\site-packages\\sklearn\\ensemble\\forest.py:456: RuntimeWarning: invalid value encountered in true_divide\n",
      "  predictions[k].sum(axis=1)[:, np.newaxis])\n"
     ]
    },
    {
     "name": "stdout",
     "output_type": "stream",
     "text": [
      "Running:  [20, 'gini', 34, 17]\n"
     ]
    },
    {
     "name": "stderr",
     "output_type": "stream",
     "text": [
      "c:\\users\\sharm\\appdata\\local\\programs\\python\\python36\\lib\\site-packages\\sklearn\\ensemble\\forest.py:451: UserWarning: Some inputs do not have OOB scores. This probably means too few trees were used to compute any reliable oob estimates.\n",
      "  warn(\"Some inputs do not have OOB scores. \"\n",
      "c:\\users\\sharm\\appdata\\local\\programs\\python\\python36\\lib\\site-packages\\sklearn\\ensemble\\forest.py:456: RuntimeWarning: invalid value encountered in true_divide\n",
      "  predictions[k].sum(axis=1)[:, np.newaxis])\n"
     ]
    },
    {
     "name": "stdout",
     "output_type": "stream",
     "text": [
      "Running:  [20, 'gini', 34, 19]\n"
     ]
    },
    {
     "name": "stderr",
     "output_type": "stream",
     "text": [
      "c:\\users\\sharm\\appdata\\local\\programs\\python\\python36\\lib\\site-packages\\sklearn\\ensemble\\forest.py:451: UserWarning: Some inputs do not have OOB scores. This probably means too few trees were used to compute any reliable oob estimates.\n",
      "  warn(\"Some inputs do not have OOB scores. \"\n",
      "c:\\users\\sharm\\appdata\\local\\programs\\python\\python36\\lib\\site-packages\\sklearn\\ensemble\\forest.py:456: RuntimeWarning: invalid value encountered in true_divide\n",
      "  predictions[k].sum(axis=1)[:, np.newaxis])\n"
     ]
    },
    {
     "name": "stdout",
     "output_type": "stream",
     "text": [
      "Running:  [20, 'gini', 34, 21]\n"
     ]
    },
    {
     "name": "stderr",
     "output_type": "stream",
     "text": [
      "c:\\users\\sharm\\appdata\\local\\programs\\python\\python36\\lib\\site-packages\\sklearn\\ensemble\\forest.py:451: UserWarning: Some inputs do not have OOB scores. This probably means too few trees were used to compute any reliable oob estimates.\n",
      "  warn(\"Some inputs do not have OOB scores. \"\n",
      "c:\\users\\sharm\\appdata\\local\\programs\\python\\python36\\lib\\site-packages\\sklearn\\ensemble\\forest.py:456: RuntimeWarning: invalid value encountered in true_divide\n",
      "  predictions[k].sum(axis=1)[:, np.newaxis])\n"
     ]
    },
    {
     "name": "stdout",
     "output_type": "stream",
     "text": [
      "Running:  [20, 'gini', 34, 23]\n"
     ]
    },
    {
     "name": "stderr",
     "output_type": "stream",
     "text": [
      "c:\\users\\sharm\\appdata\\local\\programs\\python\\python36\\lib\\site-packages\\sklearn\\ensemble\\forest.py:451: UserWarning: Some inputs do not have OOB scores. This probably means too few trees were used to compute any reliable oob estimates.\n",
      "  warn(\"Some inputs do not have OOB scores. \"\n",
      "c:\\users\\sharm\\appdata\\local\\programs\\python\\python36\\lib\\site-packages\\sklearn\\ensemble\\forest.py:456: RuntimeWarning: invalid value encountered in true_divide\n",
      "  predictions[k].sum(axis=1)[:, np.newaxis])\n"
     ]
    },
    {
     "name": "stdout",
     "output_type": "stream",
     "text": [
      "Running:  [20, 'gini', 34, 25]\n"
     ]
    },
    {
     "name": "stderr",
     "output_type": "stream",
     "text": [
      "c:\\users\\sharm\\appdata\\local\\programs\\python\\python36\\lib\\site-packages\\sklearn\\ensemble\\forest.py:451: UserWarning: Some inputs do not have OOB scores. This probably means too few trees were used to compute any reliable oob estimates.\n",
      "  warn(\"Some inputs do not have OOB scores. \"\n",
      "c:\\users\\sharm\\appdata\\local\\programs\\python\\python36\\lib\\site-packages\\sklearn\\ensemble\\forest.py:456: RuntimeWarning: invalid value encountered in true_divide\n",
      "  predictions[k].sum(axis=1)[:, np.newaxis])\n"
     ]
    },
    {
     "name": "stdout",
     "output_type": "stream",
     "text": [
      "Running:  [20, 'gini', 34, 27]\n"
     ]
    },
    {
     "name": "stderr",
     "output_type": "stream",
     "text": [
      "c:\\users\\sharm\\appdata\\local\\programs\\python\\python36\\lib\\site-packages\\sklearn\\ensemble\\forest.py:451: UserWarning: Some inputs do not have OOB scores. This probably means too few trees were used to compute any reliable oob estimates.\n",
      "  warn(\"Some inputs do not have OOB scores. \"\n",
      "c:\\users\\sharm\\appdata\\local\\programs\\python\\python36\\lib\\site-packages\\sklearn\\ensemble\\forest.py:456: RuntimeWarning: invalid value encountered in true_divide\n",
      "  predictions[k].sum(axis=1)[:, np.newaxis])\n"
     ]
    },
    {
     "name": "stdout",
     "output_type": "stream",
     "text": [
      "Running:  [20, 'gini', 34, 29]\n"
     ]
    },
    {
     "name": "stderr",
     "output_type": "stream",
     "text": [
      "c:\\users\\sharm\\appdata\\local\\programs\\python\\python36\\lib\\site-packages\\sklearn\\ensemble\\forest.py:451: UserWarning: Some inputs do not have OOB scores. This probably means too few trees were used to compute any reliable oob estimates.\n",
      "  warn(\"Some inputs do not have OOB scores. \"\n",
      "c:\\users\\sharm\\appdata\\local\\programs\\python\\python36\\lib\\site-packages\\sklearn\\ensemble\\forest.py:456: RuntimeWarning: invalid value encountered in true_divide\n",
      "  predictions[k].sum(axis=1)[:, np.newaxis])\n"
     ]
    },
    {
     "name": "stdout",
     "output_type": "stream",
     "text": [
      "Running:  [20, 'gini', 36, 5]\n"
     ]
    },
    {
     "name": "stderr",
     "output_type": "stream",
     "text": [
      "c:\\users\\sharm\\appdata\\local\\programs\\python\\python36\\lib\\site-packages\\sklearn\\ensemble\\forest.py:451: UserWarning: Some inputs do not have OOB scores. This probably means too few trees were used to compute any reliable oob estimates.\n",
      "  warn(\"Some inputs do not have OOB scores. \"\n",
      "c:\\users\\sharm\\appdata\\local\\programs\\python\\python36\\lib\\site-packages\\sklearn\\ensemble\\forest.py:456: RuntimeWarning: invalid value encountered in true_divide\n",
      "  predictions[k].sum(axis=1)[:, np.newaxis])\n"
     ]
    },
    {
     "name": "stdout",
     "output_type": "stream",
     "text": [
      "Running:  [20, 'gini', 36, 7]\n"
     ]
    },
    {
     "name": "stderr",
     "output_type": "stream",
     "text": [
      "c:\\users\\sharm\\appdata\\local\\programs\\python\\python36\\lib\\site-packages\\sklearn\\ensemble\\forest.py:451: UserWarning: Some inputs do not have OOB scores. This probably means too few trees were used to compute any reliable oob estimates.\n",
      "  warn(\"Some inputs do not have OOB scores. \"\n",
      "c:\\users\\sharm\\appdata\\local\\programs\\python\\python36\\lib\\site-packages\\sklearn\\ensemble\\forest.py:456: RuntimeWarning: invalid value encountered in true_divide\n",
      "  predictions[k].sum(axis=1)[:, np.newaxis])\n"
     ]
    },
    {
     "name": "stdout",
     "output_type": "stream",
     "text": [
      "Running:  [20, 'gini', 36, 9]\n"
     ]
    },
    {
     "name": "stderr",
     "output_type": "stream",
     "text": [
      "c:\\users\\sharm\\appdata\\local\\programs\\python\\python36\\lib\\site-packages\\sklearn\\ensemble\\forest.py:451: UserWarning: Some inputs do not have OOB scores. This probably means too few trees were used to compute any reliable oob estimates.\n",
      "  warn(\"Some inputs do not have OOB scores. \"\n",
      "c:\\users\\sharm\\appdata\\local\\programs\\python\\python36\\lib\\site-packages\\sklearn\\ensemble\\forest.py:456: RuntimeWarning: invalid value encountered in true_divide\n",
      "  predictions[k].sum(axis=1)[:, np.newaxis])\n"
     ]
    },
    {
     "name": "stdout",
     "output_type": "stream",
     "text": [
      "Running:  [20, 'gini', 36, 11]\n"
     ]
    },
    {
     "name": "stderr",
     "output_type": "stream",
     "text": [
      "c:\\users\\sharm\\appdata\\local\\programs\\python\\python36\\lib\\site-packages\\sklearn\\ensemble\\forest.py:451: UserWarning: Some inputs do not have OOB scores. This probably means too few trees were used to compute any reliable oob estimates.\n",
      "  warn(\"Some inputs do not have OOB scores. \"\n",
      "c:\\users\\sharm\\appdata\\local\\programs\\python\\python36\\lib\\site-packages\\sklearn\\ensemble\\forest.py:456: RuntimeWarning: invalid value encountered in true_divide\n",
      "  predictions[k].sum(axis=1)[:, np.newaxis])\n"
     ]
    },
    {
     "name": "stdout",
     "output_type": "stream",
     "text": [
      "Running:  [20, 'gini', 36, 13]\n"
     ]
    },
    {
     "name": "stderr",
     "output_type": "stream",
     "text": [
      "c:\\users\\sharm\\appdata\\local\\programs\\python\\python36\\lib\\site-packages\\sklearn\\ensemble\\forest.py:451: UserWarning: Some inputs do not have OOB scores. This probably means too few trees were used to compute any reliable oob estimates.\n",
      "  warn(\"Some inputs do not have OOB scores. \"\n",
      "c:\\users\\sharm\\appdata\\local\\programs\\python\\python36\\lib\\site-packages\\sklearn\\ensemble\\forest.py:456: RuntimeWarning: invalid value encountered in true_divide\n",
      "  predictions[k].sum(axis=1)[:, np.newaxis])\n"
     ]
    },
    {
     "name": "stdout",
     "output_type": "stream",
     "text": [
      "Running:  [20, 'gini', 36, 15]\n"
     ]
    },
    {
     "name": "stderr",
     "output_type": "stream",
     "text": [
      "c:\\users\\sharm\\appdata\\local\\programs\\python\\python36\\lib\\site-packages\\sklearn\\ensemble\\forest.py:451: UserWarning: Some inputs do not have OOB scores. This probably means too few trees were used to compute any reliable oob estimates.\n",
      "  warn(\"Some inputs do not have OOB scores. \"\n",
      "c:\\users\\sharm\\appdata\\local\\programs\\python\\python36\\lib\\site-packages\\sklearn\\ensemble\\forest.py:456: RuntimeWarning: invalid value encountered in true_divide\n",
      "  predictions[k].sum(axis=1)[:, np.newaxis])\n"
     ]
    },
    {
     "name": "stdout",
     "output_type": "stream",
     "text": [
      "Running:  [20, 'gini', 36, 17]\n"
     ]
    },
    {
     "name": "stderr",
     "output_type": "stream",
     "text": [
      "c:\\users\\sharm\\appdata\\local\\programs\\python\\python36\\lib\\site-packages\\sklearn\\ensemble\\forest.py:451: UserWarning: Some inputs do not have OOB scores. This probably means too few trees were used to compute any reliable oob estimates.\n",
      "  warn(\"Some inputs do not have OOB scores. \"\n",
      "c:\\users\\sharm\\appdata\\local\\programs\\python\\python36\\lib\\site-packages\\sklearn\\ensemble\\forest.py:456: RuntimeWarning: invalid value encountered in true_divide\n",
      "  predictions[k].sum(axis=1)[:, np.newaxis])\n"
     ]
    },
    {
     "name": "stdout",
     "output_type": "stream",
     "text": [
      "Running:  [20, 'gini', 36, 19]\n"
     ]
    },
    {
     "name": "stderr",
     "output_type": "stream",
     "text": [
      "c:\\users\\sharm\\appdata\\local\\programs\\python\\python36\\lib\\site-packages\\sklearn\\ensemble\\forest.py:451: UserWarning: Some inputs do not have OOB scores. This probably means too few trees were used to compute any reliable oob estimates.\n",
      "  warn(\"Some inputs do not have OOB scores. \"\n",
      "c:\\users\\sharm\\appdata\\local\\programs\\python\\python36\\lib\\site-packages\\sklearn\\ensemble\\forest.py:456: RuntimeWarning: invalid value encountered in true_divide\n",
      "  predictions[k].sum(axis=1)[:, np.newaxis])\n"
     ]
    },
    {
     "name": "stdout",
     "output_type": "stream",
     "text": [
      "Running:  [20, 'gini', 36, 21]\n"
     ]
    },
    {
     "name": "stderr",
     "output_type": "stream",
     "text": [
      "c:\\users\\sharm\\appdata\\local\\programs\\python\\python36\\lib\\site-packages\\sklearn\\ensemble\\forest.py:451: UserWarning: Some inputs do not have OOB scores. This probably means too few trees were used to compute any reliable oob estimates.\n",
      "  warn(\"Some inputs do not have OOB scores. \"\n",
      "c:\\users\\sharm\\appdata\\local\\programs\\python\\python36\\lib\\site-packages\\sklearn\\ensemble\\forest.py:456: RuntimeWarning: invalid value encountered in true_divide\n",
      "  predictions[k].sum(axis=1)[:, np.newaxis])\n"
     ]
    },
    {
     "name": "stdout",
     "output_type": "stream",
     "text": [
      "Running:  [20, 'gini', 36, 23]\n"
     ]
    },
    {
     "name": "stderr",
     "output_type": "stream",
     "text": [
      "c:\\users\\sharm\\appdata\\local\\programs\\python\\python36\\lib\\site-packages\\sklearn\\ensemble\\forest.py:451: UserWarning: Some inputs do not have OOB scores. This probably means too few trees were used to compute any reliable oob estimates.\n",
      "  warn(\"Some inputs do not have OOB scores. \"\n",
      "c:\\users\\sharm\\appdata\\local\\programs\\python\\python36\\lib\\site-packages\\sklearn\\ensemble\\forest.py:456: RuntimeWarning: invalid value encountered in true_divide\n",
      "  predictions[k].sum(axis=1)[:, np.newaxis])\n"
     ]
    },
    {
     "name": "stdout",
     "output_type": "stream",
     "text": [
      "Running:  [20, 'gini', 36, 25]\n"
     ]
    },
    {
     "name": "stderr",
     "output_type": "stream",
     "text": [
      "c:\\users\\sharm\\appdata\\local\\programs\\python\\python36\\lib\\site-packages\\sklearn\\ensemble\\forest.py:451: UserWarning: Some inputs do not have OOB scores. This probably means too few trees were used to compute any reliable oob estimates.\n",
      "  warn(\"Some inputs do not have OOB scores. \"\n",
      "c:\\users\\sharm\\appdata\\local\\programs\\python\\python36\\lib\\site-packages\\sklearn\\ensemble\\forest.py:456: RuntimeWarning: invalid value encountered in true_divide\n",
      "  predictions[k].sum(axis=1)[:, np.newaxis])\n"
     ]
    },
    {
     "name": "stdout",
     "output_type": "stream",
     "text": [
      "Running:  [20, 'gini', 36, 27]\n"
     ]
    },
    {
     "name": "stderr",
     "output_type": "stream",
     "text": [
      "c:\\users\\sharm\\appdata\\local\\programs\\python\\python36\\lib\\site-packages\\sklearn\\ensemble\\forest.py:451: UserWarning: Some inputs do not have OOB scores. This probably means too few trees were used to compute any reliable oob estimates.\n",
      "  warn(\"Some inputs do not have OOB scores. \"\n",
      "c:\\users\\sharm\\appdata\\local\\programs\\python\\python36\\lib\\site-packages\\sklearn\\ensemble\\forest.py:456: RuntimeWarning: invalid value encountered in true_divide\n",
      "  predictions[k].sum(axis=1)[:, np.newaxis])\n"
     ]
    },
    {
     "name": "stdout",
     "output_type": "stream",
     "text": [
      "Running:  [20, 'gini', 36, 29]\n"
     ]
    },
    {
     "name": "stderr",
     "output_type": "stream",
     "text": [
      "c:\\users\\sharm\\appdata\\local\\programs\\python\\python36\\lib\\site-packages\\sklearn\\ensemble\\forest.py:451: UserWarning: Some inputs do not have OOB scores. This probably means too few trees were used to compute any reliable oob estimates.\n",
      "  warn(\"Some inputs do not have OOB scores. \"\n",
      "c:\\users\\sharm\\appdata\\local\\programs\\python\\python36\\lib\\site-packages\\sklearn\\ensemble\\forest.py:456: RuntimeWarning: invalid value encountered in true_divide\n",
      "  predictions[k].sum(axis=1)[:, np.newaxis])\n"
     ]
    },
    {
     "name": "stdout",
     "output_type": "stream",
     "text": [
      "Running:  [20, 'gini', 38, 5]\n"
     ]
    },
    {
     "name": "stderr",
     "output_type": "stream",
     "text": [
      "c:\\users\\sharm\\appdata\\local\\programs\\python\\python36\\lib\\site-packages\\sklearn\\ensemble\\forest.py:451: UserWarning: Some inputs do not have OOB scores. This probably means too few trees were used to compute any reliable oob estimates.\n",
      "  warn(\"Some inputs do not have OOB scores. \"\n",
      "c:\\users\\sharm\\appdata\\local\\programs\\python\\python36\\lib\\site-packages\\sklearn\\ensemble\\forest.py:456: RuntimeWarning: invalid value encountered in true_divide\n",
      "  predictions[k].sum(axis=1)[:, np.newaxis])\n"
     ]
    },
    {
     "name": "stdout",
     "output_type": "stream",
     "text": [
      "Running:  [20, 'gini', 38, 7]\n"
     ]
    },
    {
     "name": "stderr",
     "output_type": "stream",
     "text": [
      "c:\\users\\sharm\\appdata\\local\\programs\\python\\python36\\lib\\site-packages\\sklearn\\ensemble\\forest.py:451: UserWarning: Some inputs do not have OOB scores. This probably means too few trees were used to compute any reliable oob estimates.\n",
      "  warn(\"Some inputs do not have OOB scores. \"\n",
      "c:\\users\\sharm\\appdata\\local\\programs\\python\\python36\\lib\\site-packages\\sklearn\\ensemble\\forest.py:456: RuntimeWarning: invalid value encountered in true_divide\n",
      "  predictions[k].sum(axis=1)[:, np.newaxis])\n"
     ]
    },
    {
     "name": "stdout",
     "output_type": "stream",
     "text": [
      "Running:  [20, 'gini', 38, 9]\n"
     ]
    },
    {
     "name": "stderr",
     "output_type": "stream",
     "text": [
      "c:\\users\\sharm\\appdata\\local\\programs\\python\\python36\\lib\\site-packages\\sklearn\\ensemble\\forest.py:451: UserWarning: Some inputs do not have OOB scores. This probably means too few trees were used to compute any reliable oob estimates.\n",
      "  warn(\"Some inputs do not have OOB scores. \"\n",
      "c:\\users\\sharm\\appdata\\local\\programs\\python\\python36\\lib\\site-packages\\sklearn\\ensemble\\forest.py:456: RuntimeWarning: invalid value encountered in true_divide\n",
      "  predictions[k].sum(axis=1)[:, np.newaxis])\n"
     ]
    },
    {
     "name": "stdout",
     "output_type": "stream",
     "text": [
      "Running:  [20, 'gini', 38, 11]\n"
     ]
    },
    {
     "name": "stderr",
     "output_type": "stream",
     "text": [
      "c:\\users\\sharm\\appdata\\local\\programs\\python\\python36\\lib\\site-packages\\sklearn\\ensemble\\forest.py:451: UserWarning: Some inputs do not have OOB scores. This probably means too few trees were used to compute any reliable oob estimates.\n",
      "  warn(\"Some inputs do not have OOB scores. \"\n",
      "c:\\users\\sharm\\appdata\\local\\programs\\python\\python36\\lib\\site-packages\\sklearn\\ensemble\\forest.py:456: RuntimeWarning: invalid value encountered in true_divide\n",
      "  predictions[k].sum(axis=1)[:, np.newaxis])\n"
     ]
    },
    {
     "name": "stdout",
     "output_type": "stream",
     "text": [
      "Running:  [20, 'gini', 38, 13]\n"
     ]
    },
    {
     "name": "stderr",
     "output_type": "stream",
     "text": [
      "c:\\users\\sharm\\appdata\\local\\programs\\python\\python36\\lib\\site-packages\\sklearn\\ensemble\\forest.py:451: UserWarning: Some inputs do not have OOB scores. This probably means too few trees were used to compute any reliable oob estimates.\n",
      "  warn(\"Some inputs do not have OOB scores. \"\n",
      "c:\\users\\sharm\\appdata\\local\\programs\\python\\python36\\lib\\site-packages\\sklearn\\ensemble\\forest.py:456: RuntimeWarning: invalid value encountered in true_divide\n",
      "  predictions[k].sum(axis=1)[:, np.newaxis])\n"
     ]
    },
    {
     "name": "stdout",
     "output_type": "stream",
     "text": [
      "Running:  [20, 'gini', 38, 15]\n"
     ]
    },
    {
     "name": "stderr",
     "output_type": "stream",
     "text": [
      "c:\\users\\sharm\\appdata\\local\\programs\\python\\python36\\lib\\site-packages\\sklearn\\ensemble\\forest.py:451: UserWarning: Some inputs do not have OOB scores. This probably means too few trees were used to compute any reliable oob estimates.\n",
      "  warn(\"Some inputs do not have OOB scores. \"\n",
      "c:\\users\\sharm\\appdata\\local\\programs\\python\\python36\\lib\\site-packages\\sklearn\\ensemble\\forest.py:456: RuntimeWarning: invalid value encountered in true_divide\n",
      "  predictions[k].sum(axis=1)[:, np.newaxis])\n"
     ]
    },
    {
     "name": "stdout",
     "output_type": "stream",
     "text": [
      "Running:  [20, 'gini', 38, 17]\n"
     ]
    },
    {
     "name": "stderr",
     "output_type": "stream",
     "text": [
      "c:\\users\\sharm\\appdata\\local\\programs\\python\\python36\\lib\\site-packages\\sklearn\\ensemble\\forest.py:451: UserWarning: Some inputs do not have OOB scores. This probably means too few trees were used to compute any reliable oob estimates.\n",
      "  warn(\"Some inputs do not have OOB scores. \"\n",
      "c:\\users\\sharm\\appdata\\local\\programs\\python\\python36\\lib\\site-packages\\sklearn\\ensemble\\forest.py:456: RuntimeWarning: invalid value encountered in true_divide\n",
      "  predictions[k].sum(axis=1)[:, np.newaxis])\n"
     ]
    },
    {
     "name": "stdout",
     "output_type": "stream",
     "text": [
      "Running:  [20, 'gini', 38, 19]\n"
     ]
    },
    {
     "name": "stderr",
     "output_type": "stream",
     "text": [
      "c:\\users\\sharm\\appdata\\local\\programs\\python\\python36\\lib\\site-packages\\sklearn\\ensemble\\forest.py:451: UserWarning: Some inputs do not have OOB scores. This probably means too few trees were used to compute any reliable oob estimates.\n",
      "  warn(\"Some inputs do not have OOB scores. \"\n",
      "c:\\users\\sharm\\appdata\\local\\programs\\python\\python36\\lib\\site-packages\\sklearn\\ensemble\\forest.py:456: RuntimeWarning: invalid value encountered in true_divide\n",
      "  predictions[k].sum(axis=1)[:, np.newaxis])\n"
     ]
    },
    {
     "name": "stdout",
     "output_type": "stream",
     "text": [
      "Running:  [20, 'gini', 38, 21]\n"
     ]
    },
    {
     "name": "stderr",
     "output_type": "stream",
     "text": [
      "c:\\users\\sharm\\appdata\\local\\programs\\python\\python36\\lib\\site-packages\\sklearn\\ensemble\\forest.py:451: UserWarning: Some inputs do not have OOB scores. This probably means too few trees were used to compute any reliable oob estimates.\n",
      "  warn(\"Some inputs do not have OOB scores. \"\n",
      "c:\\users\\sharm\\appdata\\local\\programs\\python\\python36\\lib\\site-packages\\sklearn\\ensemble\\forest.py:456: RuntimeWarning: invalid value encountered in true_divide\n",
      "  predictions[k].sum(axis=1)[:, np.newaxis])\n"
     ]
    },
    {
     "name": "stdout",
     "output_type": "stream",
     "text": [
      "Running:  [20, 'gini', 38, 23]\n"
     ]
    },
    {
     "name": "stderr",
     "output_type": "stream",
     "text": [
      "c:\\users\\sharm\\appdata\\local\\programs\\python\\python36\\lib\\site-packages\\sklearn\\ensemble\\forest.py:451: UserWarning: Some inputs do not have OOB scores. This probably means too few trees were used to compute any reliable oob estimates.\n",
      "  warn(\"Some inputs do not have OOB scores. \"\n",
      "c:\\users\\sharm\\appdata\\local\\programs\\python\\python36\\lib\\site-packages\\sklearn\\ensemble\\forest.py:456: RuntimeWarning: invalid value encountered in true_divide\n",
      "  predictions[k].sum(axis=1)[:, np.newaxis])\n"
     ]
    },
    {
     "name": "stdout",
     "output_type": "stream",
     "text": [
      "Running:  [20, 'gini', 38, 25]\n"
     ]
    },
    {
     "name": "stderr",
     "output_type": "stream",
     "text": [
      "c:\\users\\sharm\\appdata\\local\\programs\\python\\python36\\lib\\site-packages\\sklearn\\ensemble\\forest.py:451: UserWarning: Some inputs do not have OOB scores. This probably means too few trees were used to compute any reliable oob estimates.\n",
      "  warn(\"Some inputs do not have OOB scores. \"\n",
      "c:\\users\\sharm\\appdata\\local\\programs\\python\\python36\\lib\\site-packages\\sklearn\\ensemble\\forest.py:456: RuntimeWarning: invalid value encountered in true_divide\n",
      "  predictions[k].sum(axis=1)[:, np.newaxis])\n"
     ]
    },
    {
     "name": "stdout",
     "output_type": "stream",
     "text": [
      "Running:  [20, 'gini', 38, 27]\n"
     ]
    },
    {
     "name": "stderr",
     "output_type": "stream",
     "text": [
      "c:\\users\\sharm\\appdata\\local\\programs\\python\\python36\\lib\\site-packages\\sklearn\\ensemble\\forest.py:451: UserWarning: Some inputs do not have OOB scores. This probably means too few trees were used to compute any reliable oob estimates.\n",
      "  warn(\"Some inputs do not have OOB scores. \"\n",
      "c:\\users\\sharm\\appdata\\local\\programs\\python\\python36\\lib\\site-packages\\sklearn\\ensemble\\forest.py:456: RuntimeWarning: invalid value encountered in true_divide\n",
      "  predictions[k].sum(axis=1)[:, np.newaxis])\n"
     ]
    },
    {
     "name": "stdout",
     "output_type": "stream",
     "text": [
      "Running:  [20, 'gini', 38, 29]\n"
     ]
    },
    {
     "name": "stderr",
     "output_type": "stream",
     "text": [
      "c:\\users\\sharm\\appdata\\local\\programs\\python\\python36\\lib\\site-packages\\sklearn\\ensemble\\forest.py:451: UserWarning: Some inputs do not have OOB scores. This probably means too few trees were used to compute any reliable oob estimates.\n",
      "  warn(\"Some inputs do not have OOB scores. \"\n",
      "c:\\users\\sharm\\appdata\\local\\programs\\python\\python36\\lib\\site-packages\\sklearn\\ensemble\\forest.py:456: RuntimeWarning: invalid value encountered in true_divide\n",
      "  predictions[k].sum(axis=1)[:, np.newaxis])\n"
     ]
    },
    {
     "name": "stdout",
     "output_type": "stream",
     "text": [
      "Running:  [20, 'gini', 40, 5]\n"
     ]
    },
    {
     "name": "stderr",
     "output_type": "stream",
     "text": [
      "c:\\users\\sharm\\appdata\\local\\programs\\python\\python36\\lib\\site-packages\\sklearn\\ensemble\\forest.py:451: UserWarning: Some inputs do not have OOB scores. This probably means too few trees were used to compute any reliable oob estimates.\n",
      "  warn(\"Some inputs do not have OOB scores. \"\n",
      "c:\\users\\sharm\\appdata\\local\\programs\\python\\python36\\lib\\site-packages\\sklearn\\ensemble\\forest.py:456: RuntimeWarning: invalid value encountered in true_divide\n",
      "  predictions[k].sum(axis=1)[:, np.newaxis])\n"
     ]
    },
    {
     "name": "stdout",
     "output_type": "stream",
     "text": [
      "Running:  [20, 'gini', 40, 7]\n"
     ]
    },
    {
     "name": "stderr",
     "output_type": "stream",
     "text": [
      "c:\\users\\sharm\\appdata\\local\\programs\\python\\python36\\lib\\site-packages\\sklearn\\ensemble\\forest.py:451: UserWarning: Some inputs do not have OOB scores. This probably means too few trees were used to compute any reliable oob estimates.\n",
      "  warn(\"Some inputs do not have OOB scores. \"\n",
      "c:\\users\\sharm\\appdata\\local\\programs\\python\\python36\\lib\\site-packages\\sklearn\\ensemble\\forest.py:456: RuntimeWarning: invalid value encountered in true_divide\n",
      "  predictions[k].sum(axis=1)[:, np.newaxis])\n"
     ]
    },
    {
     "name": "stdout",
     "output_type": "stream",
     "text": [
      "Running:  [20, 'gini', 40, 9]\n"
     ]
    },
    {
     "name": "stderr",
     "output_type": "stream",
     "text": [
      "c:\\users\\sharm\\appdata\\local\\programs\\python\\python36\\lib\\site-packages\\sklearn\\ensemble\\forest.py:451: UserWarning: Some inputs do not have OOB scores. This probably means too few trees were used to compute any reliable oob estimates.\n",
      "  warn(\"Some inputs do not have OOB scores. \"\n",
      "c:\\users\\sharm\\appdata\\local\\programs\\python\\python36\\lib\\site-packages\\sklearn\\ensemble\\forest.py:456: RuntimeWarning: invalid value encountered in true_divide\n",
      "  predictions[k].sum(axis=1)[:, np.newaxis])\n"
     ]
    },
    {
     "name": "stdout",
     "output_type": "stream",
     "text": [
      "Running:  [20, 'gini', 40, 11]\n"
     ]
    },
    {
     "name": "stderr",
     "output_type": "stream",
     "text": [
      "c:\\users\\sharm\\appdata\\local\\programs\\python\\python36\\lib\\site-packages\\sklearn\\ensemble\\forest.py:451: UserWarning: Some inputs do not have OOB scores. This probably means too few trees were used to compute any reliable oob estimates.\n",
      "  warn(\"Some inputs do not have OOB scores. \"\n",
      "c:\\users\\sharm\\appdata\\local\\programs\\python\\python36\\lib\\site-packages\\sklearn\\ensemble\\forest.py:456: RuntimeWarning: invalid value encountered in true_divide\n",
      "  predictions[k].sum(axis=1)[:, np.newaxis])\n"
     ]
    },
    {
     "name": "stdout",
     "output_type": "stream",
     "text": [
      "Running:  [20, 'gini', 40, 13]\n"
     ]
    },
    {
     "name": "stderr",
     "output_type": "stream",
     "text": [
      "c:\\users\\sharm\\appdata\\local\\programs\\python\\python36\\lib\\site-packages\\sklearn\\ensemble\\forest.py:451: UserWarning: Some inputs do not have OOB scores. This probably means too few trees were used to compute any reliable oob estimates.\n",
      "  warn(\"Some inputs do not have OOB scores. \"\n",
      "c:\\users\\sharm\\appdata\\local\\programs\\python\\python36\\lib\\site-packages\\sklearn\\ensemble\\forest.py:456: RuntimeWarning: invalid value encountered in true_divide\n",
      "  predictions[k].sum(axis=1)[:, np.newaxis])\n"
     ]
    },
    {
     "name": "stdout",
     "output_type": "stream",
     "text": [
      "Running:  [20, 'gini', 40, 15]\n"
     ]
    },
    {
     "name": "stderr",
     "output_type": "stream",
     "text": [
      "c:\\users\\sharm\\appdata\\local\\programs\\python\\python36\\lib\\site-packages\\sklearn\\ensemble\\forest.py:451: UserWarning: Some inputs do not have OOB scores. This probably means too few trees were used to compute any reliable oob estimates.\n",
      "  warn(\"Some inputs do not have OOB scores. \"\n",
      "c:\\users\\sharm\\appdata\\local\\programs\\python\\python36\\lib\\site-packages\\sklearn\\ensemble\\forest.py:456: RuntimeWarning: invalid value encountered in true_divide\n",
      "  predictions[k].sum(axis=1)[:, np.newaxis])\n"
     ]
    },
    {
     "name": "stdout",
     "output_type": "stream",
     "text": [
      "Running:  [20, 'gini', 40, 17]\n"
     ]
    },
    {
     "name": "stderr",
     "output_type": "stream",
     "text": [
      "c:\\users\\sharm\\appdata\\local\\programs\\python\\python36\\lib\\site-packages\\sklearn\\ensemble\\forest.py:451: UserWarning: Some inputs do not have OOB scores. This probably means too few trees were used to compute any reliable oob estimates.\n",
      "  warn(\"Some inputs do not have OOB scores. \"\n",
      "c:\\users\\sharm\\appdata\\local\\programs\\python\\python36\\lib\\site-packages\\sklearn\\ensemble\\forest.py:456: RuntimeWarning: invalid value encountered in true_divide\n",
      "  predictions[k].sum(axis=1)[:, np.newaxis])\n"
     ]
    },
    {
     "name": "stdout",
     "output_type": "stream",
     "text": [
      "Running:  [20, 'gini', 40, 19]\n"
     ]
    },
    {
     "name": "stderr",
     "output_type": "stream",
     "text": [
      "c:\\users\\sharm\\appdata\\local\\programs\\python\\python36\\lib\\site-packages\\sklearn\\ensemble\\forest.py:451: UserWarning: Some inputs do not have OOB scores. This probably means too few trees were used to compute any reliable oob estimates.\n",
      "  warn(\"Some inputs do not have OOB scores. \"\n",
      "c:\\users\\sharm\\appdata\\local\\programs\\python\\python36\\lib\\site-packages\\sklearn\\ensemble\\forest.py:456: RuntimeWarning: invalid value encountered in true_divide\n",
      "  predictions[k].sum(axis=1)[:, np.newaxis])\n"
     ]
    },
    {
     "name": "stdout",
     "output_type": "stream",
     "text": [
      "Running:  [20, 'gini', 40, 21]\n"
     ]
    },
    {
     "name": "stderr",
     "output_type": "stream",
     "text": [
      "c:\\users\\sharm\\appdata\\local\\programs\\python\\python36\\lib\\site-packages\\sklearn\\ensemble\\forest.py:451: UserWarning: Some inputs do not have OOB scores. This probably means too few trees were used to compute any reliable oob estimates.\n",
      "  warn(\"Some inputs do not have OOB scores. \"\n",
      "c:\\users\\sharm\\appdata\\local\\programs\\python\\python36\\lib\\site-packages\\sklearn\\ensemble\\forest.py:456: RuntimeWarning: invalid value encountered in true_divide\n",
      "  predictions[k].sum(axis=1)[:, np.newaxis])\n"
     ]
    },
    {
     "name": "stdout",
     "output_type": "stream",
     "text": [
      "Running:  [20, 'gini', 40, 23]\n"
     ]
    },
    {
     "name": "stderr",
     "output_type": "stream",
     "text": [
      "c:\\users\\sharm\\appdata\\local\\programs\\python\\python36\\lib\\site-packages\\sklearn\\ensemble\\forest.py:451: UserWarning: Some inputs do not have OOB scores. This probably means too few trees were used to compute any reliable oob estimates.\n",
      "  warn(\"Some inputs do not have OOB scores. \"\n",
      "c:\\users\\sharm\\appdata\\local\\programs\\python\\python36\\lib\\site-packages\\sklearn\\ensemble\\forest.py:456: RuntimeWarning: invalid value encountered in true_divide\n",
      "  predictions[k].sum(axis=1)[:, np.newaxis])\n"
     ]
    },
    {
     "name": "stdout",
     "output_type": "stream",
     "text": [
      "Running:  [20, 'gini', 40, 25]\n"
     ]
    },
    {
     "name": "stderr",
     "output_type": "stream",
     "text": [
      "c:\\users\\sharm\\appdata\\local\\programs\\python\\python36\\lib\\site-packages\\sklearn\\ensemble\\forest.py:451: UserWarning: Some inputs do not have OOB scores. This probably means too few trees were used to compute any reliable oob estimates.\n",
      "  warn(\"Some inputs do not have OOB scores. \"\n",
      "c:\\users\\sharm\\appdata\\local\\programs\\python\\python36\\lib\\site-packages\\sklearn\\ensemble\\forest.py:456: RuntimeWarning: invalid value encountered in true_divide\n",
      "  predictions[k].sum(axis=1)[:, np.newaxis])\n"
     ]
    },
    {
     "name": "stdout",
     "output_type": "stream",
     "text": [
      "Running:  [20, 'gini', 40, 27]\n"
     ]
    },
    {
     "name": "stderr",
     "output_type": "stream",
     "text": [
      "c:\\users\\sharm\\appdata\\local\\programs\\python\\python36\\lib\\site-packages\\sklearn\\ensemble\\forest.py:451: UserWarning: Some inputs do not have OOB scores. This probably means too few trees were used to compute any reliable oob estimates.\n",
      "  warn(\"Some inputs do not have OOB scores. \"\n",
      "c:\\users\\sharm\\appdata\\local\\programs\\python\\python36\\lib\\site-packages\\sklearn\\ensemble\\forest.py:456: RuntimeWarning: invalid value encountered in true_divide\n",
      "  predictions[k].sum(axis=1)[:, np.newaxis])\n"
     ]
    },
    {
     "name": "stdout",
     "output_type": "stream",
     "text": [
      "Running:  [20, 'gini', 40, 29]\n"
     ]
    },
    {
     "name": "stderr",
     "output_type": "stream",
     "text": [
      "c:\\users\\sharm\\appdata\\local\\programs\\python\\python36\\lib\\site-packages\\sklearn\\ensemble\\forest.py:451: UserWarning: Some inputs do not have OOB scores. This probably means too few trees were used to compute any reliable oob estimates.\n",
      "  warn(\"Some inputs do not have OOB scores. \"\n",
      "c:\\users\\sharm\\appdata\\local\\programs\\python\\python36\\lib\\site-packages\\sklearn\\ensemble\\forest.py:456: RuntimeWarning: invalid value encountered in true_divide\n",
      "  predictions[k].sum(axis=1)[:, np.newaxis])\n"
     ]
    },
    {
     "name": "stdout",
     "output_type": "stream",
     "text": [
      "Running:  [20, 'gini', 42, 5]\n"
     ]
    },
    {
     "name": "stderr",
     "output_type": "stream",
     "text": [
      "c:\\users\\sharm\\appdata\\local\\programs\\python\\python36\\lib\\site-packages\\sklearn\\ensemble\\forest.py:451: UserWarning: Some inputs do not have OOB scores. This probably means too few trees were used to compute any reliable oob estimates.\n",
      "  warn(\"Some inputs do not have OOB scores. \"\n",
      "c:\\users\\sharm\\appdata\\local\\programs\\python\\python36\\lib\\site-packages\\sklearn\\ensemble\\forest.py:456: RuntimeWarning: invalid value encountered in true_divide\n",
      "  predictions[k].sum(axis=1)[:, np.newaxis])\n"
     ]
    },
    {
     "name": "stdout",
     "output_type": "stream",
     "text": [
      "Running:  [20, 'gini', 42, 7]\n"
     ]
    },
    {
     "name": "stderr",
     "output_type": "stream",
     "text": [
      "c:\\users\\sharm\\appdata\\local\\programs\\python\\python36\\lib\\site-packages\\sklearn\\ensemble\\forest.py:451: UserWarning: Some inputs do not have OOB scores. This probably means too few trees were used to compute any reliable oob estimates.\n",
      "  warn(\"Some inputs do not have OOB scores. \"\n",
      "c:\\users\\sharm\\appdata\\local\\programs\\python\\python36\\lib\\site-packages\\sklearn\\ensemble\\forest.py:456: RuntimeWarning: invalid value encountered in true_divide\n",
      "  predictions[k].sum(axis=1)[:, np.newaxis])\n"
     ]
    },
    {
     "name": "stdout",
     "output_type": "stream",
     "text": [
      "Running:  [20, 'gini', 42, 9]\n"
     ]
    },
    {
     "name": "stderr",
     "output_type": "stream",
     "text": [
      "c:\\users\\sharm\\appdata\\local\\programs\\python\\python36\\lib\\site-packages\\sklearn\\ensemble\\forest.py:451: UserWarning: Some inputs do not have OOB scores. This probably means too few trees were used to compute any reliable oob estimates.\n",
      "  warn(\"Some inputs do not have OOB scores. \"\n",
      "c:\\users\\sharm\\appdata\\local\\programs\\python\\python36\\lib\\site-packages\\sklearn\\ensemble\\forest.py:456: RuntimeWarning: invalid value encountered in true_divide\n",
      "  predictions[k].sum(axis=1)[:, np.newaxis])\n"
     ]
    },
    {
     "name": "stdout",
     "output_type": "stream",
     "text": [
      "Running:  [20, 'gini', 42, 11]\n"
     ]
    },
    {
     "name": "stderr",
     "output_type": "stream",
     "text": [
      "c:\\users\\sharm\\appdata\\local\\programs\\python\\python36\\lib\\site-packages\\sklearn\\ensemble\\forest.py:451: UserWarning: Some inputs do not have OOB scores. This probably means too few trees were used to compute any reliable oob estimates.\n",
      "  warn(\"Some inputs do not have OOB scores. \"\n",
      "c:\\users\\sharm\\appdata\\local\\programs\\python\\python36\\lib\\site-packages\\sklearn\\ensemble\\forest.py:456: RuntimeWarning: invalid value encountered in true_divide\n",
      "  predictions[k].sum(axis=1)[:, np.newaxis])\n"
     ]
    },
    {
     "name": "stdout",
     "output_type": "stream",
     "text": [
      "Running:  [20, 'gini', 42, 13]\n"
     ]
    },
    {
     "name": "stderr",
     "output_type": "stream",
     "text": [
      "c:\\users\\sharm\\appdata\\local\\programs\\python\\python36\\lib\\site-packages\\sklearn\\ensemble\\forest.py:451: UserWarning: Some inputs do not have OOB scores. This probably means too few trees were used to compute any reliable oob estimates.\n",
      "  warn(\"Some inputs do not have OOB scores. \"\n",
      "c:\\users\\sharm\\appdata\\local\\programs\\python\\python36\\lib\\site-packages\\sklearn\\ensemble\\forest.py:456: RuntimeWarning: invalid value encountered in true_divide\n",
      "  predictions[k].sum(axis=1)[:, np.newaxis])\n"
     ]
    },
    {
     "name": "stdout",
     "output_type": "stream",
     "text": [
      "Running:  [20, 'gini', 42, 15]\n"
     ]
    },
    {
     "name": "stderr",
     "output_type": "stream",
     "text": [
      "c:\\users\\sharm\\appdata\\local\\programs\\python\\python36\\lib\\site-packages\\sklearn\\ensemble\\forest.py:451: UserWarning: Some inputs do not have OOB scores. This probably means too few trees were used to compute any reliable oob estimates.\n",
      "  warn(\"Some inputs do not have OOB scores. \"\n",
      "c:\\users\\sharm\\appdata\\local\\programs\\python\\python36\\lib\\site-packages\\sklearn\\ensemble\\forest.py:456: RuntimeWarning: invalid value encountered in true_divide\n",
      "  predictions[k].sum(axis=1)[:, np.newaxis])\n"
     ]
    },
    {
     "name": "stdout",
     "output_type": "stream",
     "text": [
      "Running:  [20, 'gini', 42, 17]\n"
     ]
    },
    {
     "name": "stderr",
     "output_type": "stream",
     "text": [
      "c:\\users\\sharm\\appdata\\local\\programs\\python\\python36\\lib\\site-packages\\sklearn\\ensemble\\forest.py:451: UserWarning: Some inputs do not have OOB scores. This probably means too few trees were used to compute any reliable oob estimates.\n",
      "  warn(\"Some inputs do not have OOB scores. \"\n",
      "c:\\users\\sharm\\appdata\\local\\programs\\python\\python36\\lib\\site-packages\\sklearn\\ensemble\\forest.py:456: RuntimeWarning: invalid value encountered in true_divide\n",
      "  predictions[k].sum(axis=1)[:, np.newaxis])\n"
     ]
    },
    {
     "name": "stdout",
     "output_type": "stream",
     "text": [
      "Running:  [20, 'gini', 42, 19]\n"
     ]
    },
    {
     "name": "stderr",
     "output_type": "stream",
     "text": [
      "c:\\users\\sharm\\appdata\\local\\programs\\python\\python36\\lib\\site-packages\\sklearn\\ensemble\\forest.py:451: UserWarning: Some inputs do not have OOB scores. This probably means too few trees were used to compute any reliable oob estimates.\n",
      "  warn(\"Some inputs do not have OOB scores. \"\n",
      "c:\\users\\sharm\\appdata\\local\\programs\\python\\python36\\lib\\site-packages\\sklearn\\ensemble\\forest.py:456: RuntimeWarning: invalid value encountered in true_divide\n",
      "  predictions[k].sum(axis=1)[:, np.newaxis])\n"
     ]
    },
    {
     "name": "stdout",
     "output_type": "stream",
     "text": [
      "Running:  [20, 'gini', 42, 21]\n"
     ]
    },
    {
     "name": "stderr",
     "output_type": "stream",
     "text": [
      "c:\\users\\sharm\\appdata\\local\\programs\\python\\python36\\lib\\site-packages\\sklearn\\ensemble\\forest.py:451: UserWarning: Some inputs do not have OOB scores. This probably means too few trees were used to compute any reliable oob estimates.\n",
      "  warn(\"Some inputs do not have OOB scores. \"\n",
      "c:\\users\\sharm\\appdata\\local\\programs\\python\\python36\\lib\\site-packages\\sklearn\\ensemble\\forest.py:456: RuntimeWarning: invalid value encountered in true_divide\n",
      "  predictions[k].sum(axis=1)[:, np.newaxis])\n"
     ]
    },
    {
     "name": "stdout",
     "output_type": "stream",
     "text": [
      "Running:  [20, 'gini', 42, 23]\n"
     ]
    },
    {
     "name": "stderr",
     "output_type": "stream",
     "text": [
      "c:\\users\\sharm\\appdata\\local\\programs\\python\\python36\\lib\\site-packages\\sklearn\\ensemble\\forest.py:451: UserWarning: Some inputs do not have OOB scores. This probably means too few trees were used to compute any reliable oob estimates.\n",
      "  warn(\"Some inputs do not have OOB scores. \"\n",
      "c:\\users\\sharm\\appdata\\local\\programs\\python\\python36\\lib\\site-packages\\sklearn\\ensemble\\forest.py:456: RuntimeWarning: invalid value encountered in true_divide\n",
      "  predictions[k].sum(axis=1)[:, np.newaxis])\n"
     ]
    },
    {
     "name": "stdout",
     "output_type": "stream",
     "text": [
      "Running:  [20, 'gini', 42, 25]\n"
     ]
    },
    {
     "name": "stderr",
     "output_type": "stream",
     "text": [
      "c:\\users\\sharm\\appdata\\local\\programs\\python\\python36\\lib\\site-packages\\sklearn\\ensemble\\forest.py:451: UserWarning: Some inputs do not have OOB scores. This probably means too few trees were used to compute any reliable oob estimates.\n",
      "  warn(\"Some inputs do not have OOB scores. \"\n",
      "c:\\users\\sharm\\appdata\\local\\programs\\python\\python36\\lib\\site-packages\\sklearn\\ensemble\\forest.py:456: RuntimeWarning: invalid value encountered in true_divide\n",
      "  predictions[k].sum(axis=1)[:, np.newaxis])\n"
     ]
    },
    {
     "name": "stdout",
     "output_type": "stream",
     "text": [
      "Running:  [20, 'gini', 42, 27]\n"
     ]
    },
    {
     "name": "stderr",
     "output_type": "stream",
     "text": [
      "c:\\users\\sharm\\appdata\\local\\programs\\python\\python36\\lib\\site-packages\\sklearn\\ensemble\\forest.py:451: UserWarning: Some inputs do not have OOB scores. This probably means too few trees were used to compute any reliable oob estimates.\n",
      "  warn(\"Some inputs do not have OOB scores. \"\n",
      "c:\\users\\sharm\\appdata\\local\\programs\\python\\python36\\lib\\site-packages\\sklearn\\ensemble\\forest.py:456: RuntimeWarning: invalid value encountered in true_divide\n",
      "  predictions[k].sum(axis=1)[:, np.newaxis])\n"
     ]
    },
    {
     "name": "stdout",
     "output_type": "stream",
     "text": [
      "Running:  [20, 'gini', 42, 29]\n"
     ]
    },
    {
     "name": "stderr",
     "output_type": "stream",
     "text": [
      "c:\\users\\sharm\\appdata\\local\\programs\\python\\python36\\lib\\site-packages\\sklearn\\ensemble\\forest.py:451: UserWarning: Some inputs do not have OOB scores. This probably means too few trees were used to compute any reliable oob estimates.\n",
      "  warn(\"Some inputs do not have OOB scores. \"\n",
      "c:\\users\\sharm\\appdata\\local\\programs\\python\\python36\\lib\\site-packages\\sklearn\\ensemble\\forest.py:456: RuntimeWarning: invalid value encountered in true_divide\n",
      "  predictions[k].sum(axis=1)[:, np.newaxis])\n"
     ]
    },
    {
     "name": "stdout",
     "output_type": "stream",
     "text": [
      "Running:  [20, 'gini', 44, 5]\n"
     ]
    },
    {
     "name": "stderr",
     "output_type": "stream",
     "text": [
      "c:\\users\\sharm\\appdata\\local\\programs\\python\\python36\\lib\\site-packages\\sklearn\\ensemble\\forest.py:451: UserWarning: Some inputs do not have OOB scores. This probably means too few trees were used to compute any reliable oob estimates.\n",
      "  warn(\"Some inputs do not have OOB scores. \"\n",
      "c:\\users\\sharm\\appdata\\local\\programs\\python\\python36\\lib\\site-packages\\sklearn\\ensemble\\forest.py:456: RuntimeWarning: invalid value encountered in true_divide\n",
      "  predictions[k].sum(axis=1)[:, np.newaxis])\n"
     ]
    },
    {
     "name": "stdout",
     "output_type": "stream",
     "text": [
      "Running:  [20, 'gini', 44, 7]\n"
     ]
    },
    {
     "name": "stderr",
     "output_type": "stream",
     "text": [
      "c:\\users\\sharm\\appdata\\local\\programs\\python\\python36\\lib\\site-packages\\sklearn\\ensemble\\forest.py:451: UserWarning: Some inputs do not have OOB scores. This probably means too few trees were used to compute any reliable oob estimates.\n",
      "  warn(\"Some inputs do not have OOB scores. \"\n",
      "c:\\users\\sharm\\appdata\\local\\programs\\python\\python36\\lib\\site-packages\\sklearn\\ensemble\\forest.py:456: RuntimeWarning: invalid value encountered in true_divide\n",
      "  predictions[k].sum(axis=1)[:, np.newaxis])\n"
     ]
    },
    {
     "name": "stdout",
     "output_type": "stream",
     "text": [
      "Running:  [20, 'gini', 44, 9]\n"
     ]
    },
    {
     "name": "stderr",
     "output_type": "stream",
     "text": [
      "c:\\users\\sharm\\appdata\\local\\programs\\python\\python36\\lib\\site-packages\\sklearn\\ensemble\\forest.py:451: UserWarning: Some inputs do not have OOB scores. This probably means too few trees were used to compute any reliable oob estimates.\n",
      "  warn(\"Some inputs do not have OOB scores. \"\n",
      "c:\\users\\sharm\\appdata\\local\\programs\\python\\python36\\lib\\site-packages\\sklearn\\ensemble\\forest.py:456: RuntimeWarning: invalid value encountered in true_divide\n",
      "  predictions[k].sum(axis=1)[:, np.newaxis])\n"
     ]
    },
    {
     "name": "stdout",
     "output_type": "stream",
     "text": [
      "Running:  [20, 'gini', 44, 11]\n"
     ]
    },
    {
     "name": "stderr",
     "output_type": "stream",
     "text": [
      "c:\\users\\sharm\\appdata\\local\\programs\\python\\python36\\lib\\site-packages\\sklearn\\ensemble\\forest.py:451: UserWarning: Some inputs do not have OOB scores. This probably means too few trees were used to compute any reliable oob estimates.\n",
      "  warn(\"Some inputs do not have OOB scores. \"\n",
      "c:\\users\\sharm\\appdata\\local\\programs\\python\\python36\\lib\\site-packages\\sklearn\\ensemble\\forest.py:456: RuntimeWarning: invalid value encountered in true_divide\n",
      "  predictions[k].sum(axis=1)[:, np.newaxis])\n"
     ]
    },
    {
     "name": "stdout",
     "output_type": "stream",
     "text": [
      "Running:  [20, 'gini', 44, 13]\n"
     ]
    },
    {
     "name": "stderr",
     "output_type": "stream",
     "text": [
      "c:\\users\\sharm\\appdata\\local\\programs\\python\\python36\\lib\\site-packages\\sklearn\\ensemble\\forest.py:451: UserWarning: Some inputs do not have OOB scores. This probably means too few trees were used to compute any reliable oob estimates.\n",
      "  warn(\"Some inputs do not have OOB scores. \"\n",
      "c:\\users\\sharm\\appdata\\local\\programs\\python\\python36\\lib\\site-packages\\sklearn\\ensemble\\forest.py:456: RuntimeWarning: invalid value encountered in true_divide\n",
      "  predictions[k].sum(axis=1)[:, np.newaxis])\n"
     ]
    },
    {
     "name": "stdout",
     "output_type": "stream",
     "text": [
      "Running:  [20, 'gini', 44, 15]\n"
     ]
    },
    {
     "name": "stderr",
     "output_type": "stream",
     "text": [
      "c:\\users\\sharm\\appdata\\local\\programs\\python\\python36\\lib\\site-packages\\sklearn\\ensemble\\forest.py:451: UserWarning: Some inputs do not have OOB scores. This probably means too few trees were used to compute any reliable oob estimates.\n",
      "  warn(\"Some inputs do not have OOB scores. \"\n",
      "c:\\users\\sharm\\appdata\\local\\programs\\python\\python36\\lib\\site-packages\\sklearn\\ensemble\\forest.py:456: RuntimeWarning: invalid value encountered in true_divide\n",
      "  predictions[k].sum(axis=1)[:, np.newaxis])\n"
     ]
    },
    {
     "name": "stdout",
     "output_type": "stream",
     "text": [
      "Running:  [20, 'gini', 44, 17]\n"
     ]
    },
    {
     "name": "stderr",
     "output_type": "stream",
     "text": [
      "c:\\users\\sharm\\appdata\\local\\programs\\python\\python36\\lib\\site-packages\\sklearn\\ensemble\\forest.py:451: UserWarning: Some inputs do not have OOB scores. This probably means too few trees were used to compute any reliable oob estimates.\n",
      "  warn(\"Some inputs do not have OOB scores. \"\n",
      "c:\\users\\sharm\\appdata\\local\\programs\\python\\python36\\lib\\site-packages\\sklearn\\ensemble\\forest.py:456: RuntimeWarning: invalid value encountered in true_divide\n",
      "  predictions[k].sum(axis=1)[:, np.newaxis])\n"
     ]
    },
    {
     "name": "stdout",
     "output_type": "stream",
     "text": [
      "Running:  [20, 'gini', 44, 19]\n"
     ]
    },
    {
     "name": "stderr",
     "output_type": "stream",
     "text": [
      "c:\\users\\sharm\\appdata\\local\\programs\\python\\python36\\lib\\site-packages\\sklearn\\ensemble\\forest.py:451: UserWarning: Some inputs do not have OOB scores. This probably means too few trees were used to compute any reliable oob estimates.\n",
      "  warn(\"Some inputs do not have OOB scores. \"\n",
      "c:\\users\\sharm\\appdata\\local\\programs\\python\\python36\\lib\\site-packages\\sklearn\\ensemble\\forest.py:456: RuntimeWarning: invalid value encountered in true_divide\n",
      "  predictions[k].sum(axis=1)[:, np.newaxis])\n"
     ]
    },
    {
     "name": "stdout",
     "output_type": "stream",
     "text": [
      "Running:  [20, 'gini', 44, 21]\n"
     ]
    },
    {
     "name": "stderr",
     "output_type": "stream",
     "text": [
      "c:\\users\\sharm\\appdata\\local\\programs\\python\\python36\\lib\\site-packages\\sklearn\\ensemble\\forest.py:451: UserWarning: Some inputs do not have OOB scores. This probably means too few trees were used to compute any reliable oob estimates.\n",
      "  warn(\"Some inputs do not have OOB scores. \"\n",
      "c:\\users\\sharm\\appdata\\local\\programs\\python\\python36\\lib\\site-packages\\sklearn\\ensemble\\forest.py:456: RuntimeWarning: invalid value encountered in true_divide\n",
      "  predictions[k].sum(axis=1)[:, np.newaxis])\n"
     ]
    },
    {
     "name": "stdout",
     "output_type": "stream",
     "text": [
      "Running:  [20, 'gini', 44, 23]\n"
     ]
    },
    {
     "name": "stderr",
     "output_type": "stream",
     "text": [
      "c:\\users\\sharm\\appdata\\local\\programs\\python\\python36\\lib\\site-packages\\sklearn\\ensemble\\forest.py:451: UserWarning: Some inputs do not have OOB scores. This probably means too few trees were used to compute any reliable oob estimates.\n",
      "  warn(\"Some inputs do not have OOB scores. \"\n",
      "c:\\users\\sharm\\appdata\\local\\programs\\python\\python36\\lib\\site-packages\\sklearn\\ensemble\\forest.py:456: RuntimeWarning: invalid value encountered in true_divide\n",
      "  predictions[k].sum(axis=1)[:, np.newaxis])\n"
     ]
    },
    {
     "name": "stdout",
     "output_type": "stream",
     "text": [
      "Running:  [20, 'gini', 44, 25]\n"
     ]
    },
    {
     "name": "stderr",
     "output_type": "stream",
     "text": [
      "c:\\users\\sharm\\appdata\\local\\programs\\python\\python36\\lib\\site-packages\\sklearn\\ensemble\\forest.py:451: UserWarning: Some inputs do not have OOB scores. This probably means too few trees were used to compute any reliable oob estimates.\n",
      "  warn(\"Some inputs do not have OOB scores. \"\n",
      "c:\\users\\sharm\\appdata\\local\\programs\\python\\python36\\lib\\site-packages\\sklearn\\ensemble\\forest.py:456: RuntimeWarning: invalid value encountered in true_divide\n",
      "  predictions[k].sum(axis=1)[:, np.newaxis])\n"
     ]
    },
    {
     "name": "stdout",
     "output_type": "stream",
     "text": [
      "Running:  [20, 'gini', 44, 27]\n"
     ]
    },
    {
     "name": "stderr",
     "output_type": "stream",
     "text": [
      "c:\\users\\sharm\\appdata\\local\\programs\\python\\python36\\lib\\site-packages\\sklearn\\ensemble\\forest.py:451: UserWarning: Some inputs do not have OOB scores. This probably means too few trees were used to compute any reliable oob estimates.\n",
      "  warn(\"Some inputs do not have OOB scores. \"\n",
      "c:\\users\\sharm\\appdata\\local\\programs\\python\\python36\\lib\\site-packages\\sklearn\\ensemble\\forest.py:456: RuntimeWarning: invalid value encountered in true_divide\n",
      "  predictions[k].sum(axis=1)[:, np.newaxis])\n"
     ]
    },
    {
     "name": "stdout",
     "output_type": "stream",
     "text": [
      "Running:  [20, 'gini', 44, 29]\n"
     ]
    },
    {
     "name": "stderr",
     "output_type": "stream",
     "text": [
      "c:\\users\\sharm\\appdata\\local\\programs\\python\\python36\\lib\\site-packages\\sklearn\\ensemble\\forest.py:451: UserWarning: Some inputs do not have OOB scores. This probably means too few trees were used to compute any reliable oob estimates.\n",
      "  warn(\"Some inputs do not have OOB scores. \"\n",
      "c:\\users\\sharm\\appdata\\local\\programs\\python\\python36\\lib\\site-packages\\sklearn\\ensemble\\forest.py:456: RuntimeWarning: invalid value encountered in true_divide\n",
      "  predictions[k].sum(axis=1)[:, np.newaxis])\n"
     ]
    },
    {
     "name": "stdout",
     "output_type": "stream",
     "text": [
      "Running:  [20, 'gini', 46, 5]\n"
     ]
    },
    {
     "name": "stderr",
     "output_type": "stream",
     "text": [
      "c:\\users\\sharm\\appdata\\local\\programs\\python\\python36\\lib\\site-packages\\sklearn\\ensemble\\forest.py:451: UserWarning: Some inputs do not have OOB scores. This probably means too few trees were used to compute any reliable oob estimates.\n",
      "  warn(\"Some inputs do not have OOB scores. \"\n",
      "c:\\users\\sharm\\appdata\\local\\programs\\python\\python36\\lib\\site-packages\\sklearn\\ensemble\\forest.py:456: RuntimeWarning: invalid value encountered in true_divide\n",
      "  predictions[k].sum(axis=1)[:, np.newaxis])\n"
     ]
    },
    {
     "name": "stdout",
     "output_type": "stream",
     "text": [
      "Running:  [20, 'gini', 46, 7]\n"
     ]
    },
    {
     "name": "stderr",
     "output_type": "stream",
     "text": [
      "c:\\users\\sharm\\appdata\\local\\programs\\python\\python36\\lib\\site-packages\\sklearn\\ensemble\\forest.py:451: UserWarning: Some inputs do not have OOB scores. This probably means too few trees were used to compute any reliable oob estimates.\n",
      "  warn(\"Some inputs do not have OOB scores. \"\n",
      "c:\\users\\sharm\\appdata\\local\\programs\\python\\python36\\lib\\site-packages\\sklearn\\ensemble\\forest.py:456: RuntimeWarning: invalid value encountered in true_divide\n",
      "  predictions[k].sum(axis=1)[:, np.newaxis])\n"
     ]
    },
    {
     "name": "stdout",
     "output_type": "stream",
     "text": [
      "Running:  [20, 'gini', 46, 9]\n"
     ]
    },
    {
     "name": "stderr",
     "output_type": "stream",
     "text": [
      "c:\\users\\sharm\\appdata\\local\\programs\\python\\python36\\lib\\site-packages\\sklearn\\ensemble\\forest.py:451: UserWarning: Some inputs do not have OOB scores. This probably means too few trees were used to compute any reliable oob estimates.\n",
      "  warn(\"Some inputs do not have OOB scores. \"\n",
      "c:\\users\\sharm\\appdata\\local\\programs\\python\\python36\\lib\\site-packages\\sklearn\\ensemble\\forest.py:456: RuntimeWarning: invalid value encountered in true_divide\n",
      "  predictions[k].sum(axis=1)[:, np.newaxis])\n"
     ]
    },
    {
     "name": "stdout",
     "output_type": "stream",
     "text": [
      "Running:  [20, 'gini', 46, 11]\n"
     ]
    },
    {
     "name": "stderr",
     "output_type": "stream",
     "text": [
      "c:\\users\\sharm\\appdata\\local\\programs\\python\\python36\\lib\\site-packages\\sklearn\\ensemble\\forest.py:451: UserWarning: Some inputs do not have OOB scores. This probably means too few trees were used to compute any reliable oob estimates.\n",
      "  warn(\"Some inputs do not have OOB scores. \"\n",
      "c:\\users\\sharm\\appdata\\local\\programs\\python\\python36\\lib\\site-packages\\sklearn\\ensemble\\forest.py:456: RuntimeWarning: invalid value encountered in true_divide\n",
      "  predictions[k].sum(axis=1)[:, np.newaxis])\n"
     ]
    },
    {
     "name": "stdout",
     "output_type": "stream",
     "text": [
      "Running:  [20, 'gini', 46, 13]\n"
     ]
    },
    {
     "name": "stderr",
     "output_type": "stream",
     "text": [
      "c:\\users\\sharm\\appdata\\local\\programs\\python\\python36\\lib\\site-packages\\sklearn\\ensemble\\forest.py:451: UserWarning: Some inputs do not have OOB scores. This probably means too few trees were used to compute any reliable oob estimates.\n",
      "  warn(\"Some inputs do not have OOB scores. \"\n",
      "c:\\users\\sharm\\appdata\\local\\programs\\python\\python36\\lib\\site-packages\\sklearn\\ensemble\\forest.py:456: RuntimeWarning: invalid value encountered in true_divide\n",
      "  predictions[k].sum(axis=1)[:, np.newaxis])\n"
     ]
    },
    {
     "name": "stdout",
     "output_type": "stream",
     "text": [
      "Running:  [20, 'gini', 46, 15]\n"
     ]
    },
    {
     "name": "stderr",
     "output_type": "stream",
     "text": [
      "c:\\users\\sharm\\appdata\\local\\programs\\python\\python36\\lib\\site-packages\\sklearn\\ensemble\\forest.py:451: UserWarning: Some inputs do not have OOB scores. This probably means too few trees were used to compute any reliable oob estimates.\n",
      "  warn(\"Some inputs do not have OOB scores. \"\n",
      "c:\\users\\sharm\\appdata\\local\\programs\\python\\python36\\lib\\site-packages\\sklearn\\ensemble\\forest.py:456: RuntimeWarning: invalid value encountered in true_divide\n",
      "  predictions[k].sum(axis=1)[:, np.newaxis])\n"
     ]
    },
    {
     "name": "stdout",
     "output_type": "stream",
     "text": [
      "Running:  [20, 'gini', 46, 17]\n"
     ]
    },
    {
     "name": "stderr",
     "output_type": "stream",
     "text": [
      "c:\\users\\sharm\\appdata\\local\\programs\\python\\python36\\lib\\site-packages\\sklearn\\ensemble\\forest.py:451: UserWarning: Some inputs do not have OOB scores. This probably means too few trees were used to compute any reliable oob estimates.\n",
      "  warn(\"Some inputs do not have OOB scores. \"\n",
      "c:\\users\\sharm\\appdata\\local\\programs\\python\\python36\\lib\\site-packages\\sklearn\\ensemble\\forest.py:456: RuntimeWarning: invalid value encountered in true_divide\n",
      "  predictions[k].sum(axis=1)[:, np.newaxis])\n"
     ]
    },
    {
     "name": "stdout",
     "output_type": "stream",
     "text": [
      "Running:  [20, 'gini', 46, 19]\n"
     ]
    },
    {
     "name": "stderr",
     "output_type": "stream",
     "text": [
      "c:\\users\\sharm\\appdata\\local\\programs\\python\\python36\\lib\\site-packages\\sklearn\\ensemble\\forest.py:451: UserWarning: Some inputs do not have OOB scores. This probably means too few trees were used to compute any reliable oob estimates.\n",
      "  warn(\"Some inputs do not have OOB scores. \"\n",
      "c:\\users\\sharm\\appdata\\local\\programs\\python\\python36\\lib\\site-packages\\sklearn\\ensemble\\forest.py:456: RuntimeWarning: invalid value encountered in true_divide\n",
      "  predictions[k].sum(axis=1)[:, np.newaxis])\n"
     ]
    },
    {
     "name": "stdout",
     "output_type": "stream",
     "text": [
      "Running:  [20, 'gini', 46, 21]\n"
     ]
    },
    {
     "name": "stderr",
     "output_type": "stream",
     "text": [
      "c:\\users\\sharm\\appdata\\local\\programs\\python\\python36\\lib\\site-packages\\sklearn\\ensemble\\forest.py:451: UserWarning: Some inputs do not have OOB scores. This probably means too few trees were used to compute any reliable oob estimates.\n",
      "  warn(\"Some inputs do not have OOB scores. \"\n",
      "c:\\users\\sharm\\appdata\\local\\programs\\python\\python36\\lib\\site-packages\\sklearn\\ensemble\\forest.py:456: RuntimeWarning: invalid value encountered in true_divide\n",
      "  predictions[k].sum(axis=1)[:, np.newaxis])\n"
     ]
    },
    {
     "name": "stdout",
     "output_type": "stream",
     "text": [
      "Running:  [20, 'gini', 46, 23]\n"
     ]
    },
    {
     "name": "stderr",
     "output_type": "stream",
     "text": [
      "c:\\users\\sharm\\appdata\\local\\programs\\python\\python36\\lib\\site-packages\\sklearn\\ensemble\\forest.py:451: UserWarning: Some inputs do not have OOB scores. This probably means too few trees were used to compute any reliable oob estimates.\n",
      "  warn(\"Some inputs do not have OOB scores. \"\n",
      "c:\\users\\sharm\\appdata\\local\\programs\\python\\python36\\lib\\site-packages\\sklearn\\ensemble\\forest.py:456: RuntimeWarning: invalid value encountered in true_divide\n",
      "  predictions[k].sum(axis=1)[:, np.newaxis])\n"
     ]
    },
    {
     "name": "stdout",
     "output_type": "stream",
     "text": [
      "Running:  [20, 'gini', 46, 25]\n"
     ]
    },
    {
     "name": "stderr",
     "output_type": "stream",
     "text": [
      "c:\\users\\sharm\\appdata\\local\\programs\\python\\python36\\lib\\site-packages\\sklearn\\ensemble\\forest.py:451: UserWarning: Some inputs do not have OOB scores. This probably means too few trees were used to compute any reliable oob estimates.\n",
      "  warn(\"Some inputs do not have OOB scores. \"\n",
      "c:\\users\\sharm\\appdata\\local\\programs\\python\\python36\\lib\\site-packages\\sklearn\\ensemble\\forest.py:456: RuntimeWarning: invalid value encountered in true_divide\n",
      "  predictions[k].sum(axis=1)[:, np.newaxis])\n"
     ]
    },
    {
     "name": "stdout",
     "output_type": "stream",
     "text": [
      "Running:  [20, 'gini', 46, 27]\n"
     ]
    },
    {
     "name": "stderr",
     "output_type": "stream",
     "text": [
      "c:\\users\\sharm\\appdata\\local\\programs\\python\\python36\\lib\\site-packages\\sklearn\\ensemble\\forest.py:451: UserWarning: Some inputs do not have OOB scores. This probably means too few trees were used to compute any reliable oob estimates.\n",
      "  warn(\"Some inputs do not have OOB scores. \"\n",
      "c:\\users\\sharm\\appdata\\local\\programs\\python\\python36\\lib\\site-packages\\sklearn\\ensemble\\forest.py:456: RuntimeWarning: invalid value encountered in true_divide\n",
      "  predictions[k].sum(axis=1)[:, np.newaxis])\n"
     ]
    },
    {
     "name": "stdout",
     "output_type": "stream",
     "text": [
      "Running:  [20, 'gini', 46, 29]\n"
     ]
    },
    {
     "name": "stderr",
     "output_type": "stream",
     "text": [
      "c:\\users\\sharm\\appdata\\local\\programs\\python\\python36\\lib\\site-packages\\sklearn\\ensemble\\forest.py:451: UserWarning: Some inputs do not have OOB scores. This probably means too few trees were used to compute any reliable oob estimates.\n",
      "  warn(\"Some inputs do not have OOB scores. \"\n",
      "c:\\users\\sharm\\appdata\\local\\programs\\python\\python36\\lib\\site-packages\\sklearn\\ensemble\\forest.py:456: RuntimeWarning: invalid value encountered in true_divide\n",
      "  predictions[k].sum(axis=1)[:, np.newaxis])\n"
     ]
    },
    {
     "name": "stdout",
     "output_type": "stream",
     "text": [
      "Running:  [20, 'gini', 48, 5]\n"
     ]
    },
    {
     "name": "stderr",
     "output_type": "stream",
     "text": [
      "c:\\users\\sharm\\appdata\\local\\programs\\python\\python36\\lib\\site-packages\\sklearn\\ensemble\\forest.py:451: UserWarning: Some inputs do not have OOB scores. This probably means too few trees were used to compute any reliable oob estimates.\n",
      "  warn(\"Some inputs do not have OOB scores. \"\n",
      "c:\\users\\sharm\\appdata\\local\\programs\\python\\python36\\lib\\site-packages\\sklearn\\ensemble\\forest.py:456: RuntimeWarning: invalid value encountered in true_divide\n",
      "  predictions[k].sum(axis=1)[:, np.newaxis])\n"
     ]
    },
    {
     "name": "stdout",
     "output_type": "stream",
     "text": [
      "Running:  [20, 'gini', 48, 7]\n"
     ]
    },
    {
     "name": "stderr",
     "output_type": "stream",
     "text": [
      "c:\\users\\sharm\\appdata\\local\\programs\\python\\python36\\lib\\site-packages\\sklearn\\ensemble\\forest.py:451: UserWarning: Some inputs do not have OOB scores. This probably means too few trees were used to compute any reliable oob estimates.\n",
      "  warn(\"Some inputs do not have OOB scores. \"\n",
      "c:\\users\\sharm\\appdata\\local\\programs\\python\\python36\\lib\\site-packages\\sklearn\\ensemble\\forest.py:456: RuntimeWarning: invalid value encountered in true_divide\n",
      "  predictions[k].sum(axis=1)[:, np.newaxis])\n"
     ]
    },
    {
     "name": "stdout",
     "output_type": "stream",
     "text": [
      "Running:  [20, 'gini', 48, 9]\n"
     ]
    },
    {
     "name": "stderr",
     "output_type": "stream",
     "text": [
      "c:\\users\\sharm\\appdata\\local\\programs\\python\\python36\\lib\\site-packages\\sklearn\\ensemble\\forest.py:451: UserWarning: Some inputs do not have OOB scores. This probably means too few trees were used to compute any reliable oob estimates.\n",
      "  warn(\"Some inputs do not have OOB scores. \"\n",
      "c:\\users\\sharm\\appdata\\local\\programs\\python\\python36\\lib\\site-packages\\sklearn\\ensemble\\forest.py:456: RuntimeWarning: invalid value encountered in true_divide\n",
      "  predictions[k].sum(axis=1)[:, np.newaxis])\n"
     ]
    },
    {
     "name": "stdout",
     "output_type": "stream",
     "text": [
      "Running:  [20, 'gini', 48, 11]\n"
     ]
    },
    {
     "name": "stderr",
     "output_type": "stream",
     "text": [
      "c:\\users\\sharm\\appdata\\local\\programs\\python\\python36\\lib\\site-packages\\sklearn\\ensemble\\forest.py:451: UserWarning: Some inputs do not have OOB scores. This probably means too few trees were used to compute any reliable oob estimates.\n",
      "  warn(\"Some inputs do not have OOB scores. \"\n",
      "c:\\users\\sharm\\appdata\\local\\programs\\python\\python36\\lib\\site-packages\\sklearn\\ensemble\\forest.py:456: RuntimeWarning: invalid value encountered in true_divide\n",
      "  predictions[k].sum(axis=1)[:, np.newaxis])\n"
     ]
    },
    {
     "name": "stdout",
     "output_type": "stream",
     "text": [
      "Running:  [20, 'gini', 48, 13]\n"
     ]
    },
    {
     "name": "stderr",
     "output_type": "stream",
     "text": [
      "c:\\users\\sharm\\appdata\\local\\programs\\python\\python36\\lib\\site-packages\\sklearn\\ensemble\\forest.py:451: UserWarning: Some inputs do not have OOB scores. This probably means too few trees were used to compute any reliable oob estimates.\n",
      "  warn(\"Some inputs do not have OOB scores. \"\n",
      "c:\\users\\sharm\\appdata\\local\\programs\\python\\python36\\lib\\site-packages\\sklearn\\ensemble\\forest.py:456: RuntimeWarning: invalid value encountered in true_divide\n",
      "  predictions[k].sum(axis=1)[:, np.newaxis])\n"
     ]
    },
    {
     "name": "stdout",
     "output_type": "stream",
     "text": [
      "Running:  [20, 'gini', 48, 15]\n"
     ]
    },
    {
     "name": "stderr",
     "output_type": "stream",
     "text": [
      "c:\\users\\sharm\\appdata\\local\\programs\\python\\python36\\lib\\site-packages\\sklearn\\ensemble\\forest.py:451: UserWarning: Some inputs do not have OOB scores. This probably means too few trees were used to compute any reliable oob estimates.\n",
      "  warn(\"Some inputs do not have OOB scores. \"\n",
      "c:\\users\\sharm\\appdata\\local\\programs\\python\\python36\\lib\\site-packages\\sklearn\\ensemble\\forest.py:456: RuntimeWarning: invalid value encountered in true_divide\n",
      "  predictions[k].sum(axis=1)[:, np.newaxis])\n"
     ]
    },
    {
     "name": "stdout",
     "output_type": "stream",
     "text": [
      "Running:  [20, 'gini', 48, 17]\n"
     ]
    },
    {
     "name": "stderr",
     "output_type": "stream",
     "text": [
      "c:\\users\\sharm\\appdata\\local\\programs\\python\\python36\\lib\\site-packages\\sklearn\\ensemble\\forest.py:451: UserWarning: Some inputs do not have OOB scores. This probably means too few trees were used to compute any reliable oob estimates.\n",
      "  warn(\"Some inputs do not have OOB scores. \"\n",
      "c:\\users\\sharm\\appdata\\local\\programs\\python\\python36\\lib\\site-packages\\sklearn\\ensemble\\forest.py:456: RuntimeWarning: invalid value encountered in true_divide\n",
      "  predictions[k].sum(axis=1)[:, np.newaxis])\n"
     ]
    },
    {
     "name": "stdout",
     "output_type": "stream",
     "text": [
      "Running:  [20, 'gini', 48, 19]\n"
     ]
    },
    {
     "name": "stderr",
     "output_type": "stream",
     "text": [
      "c:\\users\\sharm\\appdata\\local\\programs\\python\\python36\\lib\\site-packages\\sklearn\\ensemble\\forest.py:451: UserWarning: Some inputs do not have OOB scores. This probably means too few trees were used to compute any reliable oob estimates.\n",
      "  warn(\"Some inputs do not have OOB scores. \"\n",
      "c:\\users\\sharm\\appdata\\local\\programs\\python\\python36\\lib\\site-packages\\sklearn\\ensemble\\forest.py:456: RuntimeWarning: invalid value encountered in true_divide\n",
      "  predictions[k].sum(axis=1)[:, np.newaxis])\n"
     ]
    },
    {
     "name": "stdout",
     "output_type": "stream",
     "text": [
      "Running:  [20, 'gini', 48, 21]\n"
     ]
    },
    {
     "name": "stderr",
     "output_type": "stream",
     "text": [
      "c:\\users\\sharm\\appdata\\local\\programs\\python\\python36\\lib\\site-packages\\sklearn\\ensemble\\forest.py:451: UserWarning: Some inputs do not have OOB scores. This probably means too few trees were used to compute any reliable oob estimates.\n",
      "  warn(\"Some inputs do not have OOB scores. \"\n",
      "c:\\users\\sharm\\appdata\\local\\programs\\python\\python36\\lib\\site-packages\\sklearn\\ensemble\\forest.py:456: RuntimeWarning: invalid value encountered in true_divide\n",
      "  predictions[k].sum(axis=1)[:, np.newaxis])\n"
     ]
    },
    {
     "name": "stdout",
     "output_type": "stream",
     "text": [
      "Running:  [20, 'gini', 48, 23]\n"
     ]
    },
    {
     "name": "stderr",
     "output_type": "stream",
     "text": [
      "c:\\users\\sharm\\appdata\\local\\programs\\python\\python36\\lib\\site-packages\\sklearn\\ensemble\\forest.py:451: UserWarning: Some inputs do not have OOB scores. This probably means too few trees were used to compute any reliable oob estimates.\n",
      "  warn(\"Some inputs do not have OOB scores. \"\n",
      "c:\\users\\sharm\\appdata\\local\\programs\\python\\python36\\lib\\site-packages\\sklearn\\ensemble\\forest.py:456: RuntimeWarning: invalid value encountered in true_divide\n",
      "  predictions[k].sum(axis=1)[:, np.newaxis])\n"
     ]
    },
    {
     "name": "stdout",
     "output_type": "stream",
     "text": [
      "Running:  [20, 'gini', 48, 25]\n"
     ]
    },
    {
     "name": "stderr",
     "output_type": "stream",
     "text": [
      "c:\\users\\sharm\\appdata\\local\\programs\\python\\python36\\lib\\site-packages\\sklearn\\ensemble\\forest.py:451: UserWarning: Some inputs do not have OOB scores. This probably means too few trees were used to compute any reliable oob estimates.\n",
      "  warn(\"Some inputs do not have OOB scores. \"\n",
      "c:\\users\\sharm\\appdata\\local\\programs\\python\\python36\\lib\\site-packages\\sklearn\\ensemble\\forest.py:456: RuntimeWarning: invalid value encountered in true_divide\n",
      "  predictions[k].sum(axis=1)[:, np.newaxis])\n"
     ]
    },
    {
     "name": "stdout",
     "output_type": "stream",
     "text": [
      "Running:  [20, 'gini', 48, 27]\n"
     ]
    },
    {
     "name": "stderr",
     "output_type": "stream",
     "text": [
      "c:\\users\\sharm\\appdata\\local\\programs\\python\\python36\\lib\\site-packages\\sklearn\\ensemble\\forest.py:451: UserWarning: Some inputs do not have OOB scores. This probably means too few trees were used to compute any reliable oob estimates.\n",
      "  warn(\"Some inputs do not have OOB scores. \"\n",
      "c:\\users\\sharm\\appdata\\local\\programs\\python\\python36\\lib\\site-packages\\sklearn\\ensemble\\forest.py:456: RuntimeWarning: invalid value encountered in true_divide\n",
      "  predictions[k].sum(axis=1)[:, np.newaxis])\n"
     ]
    },
    {
     "name": "stdout",
     "output_type": "stream",
     "text": [
      "Running:  [20, 'gini', 48, 29]\n"
     ]
    },
    {
     "name": "stderr",
     "output_type": "stream",
     "text": [
      "c:\\users\\sharm\\appdata\\local\\programs\\python\\python36\\lib\\site-packages\\sklearn\\ensemble\\forest.py:451: UserWarning: Some inputs do not have OOB scores. This probably means too few trees were used to compute any reliable oob estimates.\n",
      "  warn(\"Some inputs do not have OOB scores. \"\n",
      "c:\\users\\sharm\\appdata\\local\\programs\\python\\python36\\lib\\site-packages\\sklearn\\ensemble\\forest.py:456: RuntimeWarning: invalid value encountered in true_divide\n",
      "  predictions[k].sum(axis=1)[:, np.newaxis])\n"
     ]
    },
    {
     "name": "stdout",
     "output_type": "stream",
     "text": [
      "Running:  [25, 'gini', 12, 5]\n",
      "Running:  [25, 'gini', 12, 7]\n",
      "Running:  [25, 'gini', 12, 9]\n",
      "Running:  [25, 'gini', 12, 11]\n",
      "Running:  [25, 'gini', 12, 13]\n",
      "Running:  [25, 'gini', 12, 15]\n",
      "Running:  [25, 'gini', 12, 17]\n",
      "Running:  [25, 'gini', 12, 19]\n",
      "Running:  [25, 'gini', 12, 21]\n",
      "Running:  [25, 'gini', 12, 23]\n",
      "Running:  [25, 'gini', 12, 25]\n",
      "Running:  [25, 'gini', 12, 27]\n",
      "Running:  [25, 'gini', 12, 29]\n",
      "Running:  [25, 'gini', 14, 5]\n",
      "Running:  [25, 'gini', 14, 7]\n",
      "Running:  [25, 'gini', 14, 9]\n",
      "Running:  [25, 'gini', 14, 11]\n",
      "Running:  [25, 'gini', 14, 13]\n",
      "Running:  [25, 'gini', 14, 15]\n",
      "Running:  [25, 'gini', 14, 17]\n",
      "Running:  [25, 'gini', 14, 19]\n",
      "Running:  [25, 'gini', 14, 21]\n",
      "Running:  [25, 'gini', 14, 23]\n",
      "Running:  [25, 'gini', 14, 25]\n",
      "Running:  [25, 'gini', 14, 27]\n",
      "Running:  [25, 'gini', 14, 29]\n",
      "Running:  [25, 'gini', 16, 5]\n",
      "Running:  [25, 'gini', 16, 7]\n",
      "Running:  [25, 'gini', 16, 9]\n",
      "Running:  [25, 'gini', 16, 11]\n",
      "Running:  [25, 'gini', 16, 13]\n",
      "Running:  [25, 'gini', 16, 15]\n",
      "Running:  [25, 'gini', 16, 17]\n",
      "Running:  [25, 'gini', 16, 19]\n",
      "Running:  [25, 'gini', 16, 21]\n",
      "Running:  [25, 'gini', 16, 23]\n",
      "Running:  [25, 'gini', 16, 25]\n",
      "Running:  [25, 'gini', 16, 27]\n",
      "Running:  [25, 'gini', 16, 29]\n",
      "Running:  [25, 'gini', 18, 5]\n",
      "Running:  [25, 'gini', 18, 7]\n",
      "Running:  [25, 'gini', 18, 9]\n",
      "Running:  [25, 'gini', 18, 11]\n",
      "Running:  [25, 'gini', 18, 13]\n",
      "Running:  [25, 'gini', 18, 15]\n",
      "Running:  [25, 'gini', 18, 17]\n",
      "Running:  [25, 'gini', 18, 19]\n",
      "Running:  [25, 'gini', 18, 21]\n",
      "Running:  [25, 'gini', 18, 23]\n",
      "Running:  [25, 'gini', 18, 25]\n",
      "Running:  [25, 'gini', 18, 27]\n",
      "Running:  [25, 'gini', 18, 29]\n",
      "Running:  [25, 'gini', 20, 5]\n",
      "Running:  [25, 'gini', 20, 7]\n",
      "Running:  [25, 'gini', 20, 9]\n",
      "Running:  [25, 'gini', 20, 11]\n",
      "Running:  [25, 'gini', 20, 13]\n",
      "Running:  [25, 'gini', 20, 15]\n",
      "Running:  [25, 'gini', 20, 17]\n",
      "Running:  [25, 'gini', 20, 19]\n",
      "Running:  [25, 'gini', 20, 21]\n",
      "Running:  [25, 'gini', 20, 23]\n",
      "Running:  [25, 'gini', 20, 25]\n",
      "Running:  [25, 'gini', 20, 27]\n",
      "Running:  [25, 'gini', 20, 29]\n",
      "Running:  [25, 'gini', 22, 5]\n",
      "Running:  [25, 'gini', 22, 7]\n",
      "Running:  [25, 'gini', 22, 9]\n",
      "Running:  [25, 'gini', 22, 11]\n",
      "Running:  [25, 'gini', 22, 13]\n",
      "Running:  [25, 'gini', 22, 15]\n",
      "Running:  [25, 'gini', 22, 17]\n",
      "Running:  [25, 'gini', 22, 19]\n",
      "Running:  [25, 'gini', 22, 21]\n",
      "Running:  [25, 'gini', 22, 23]\n",
      "Running:  [25, 'gini', 22, 25]\n",
      "Running:  [25, 'gini', 22, 27]\n",
      "Running:  [25, 'gini', 22, 29]\n",
      "Running:  [25, 'gini', 24, 5]\n",
      "Running:  [25, 'gini', 24, 7]\n",
      "Running:  [25, 'gini', 24, 9]\n",
      "Running:  [25, 'gini', 24, 11]\n",
      "Running:  [25, 'gini', 24, 13]\n",
      "Running:  [25, 'gini', 24, 15]\n",
      "Running:  [25, 'gini', 24, 17]\n",
      "Running:  [25, 'gini', 24, 19]\n",
      "Running:  [25, 'gini', 24, 21]\n",
      "Running:  [25, 'gini', 24, 23]\n",
      "Running:  [25, 'gini', 24, 25]\n",
      "Running:  [25, 'gini', 24, 27]\n",
      "Running:  [25, 'gini', 24, 29]\n",
      "Running:  [25, 'gini', 26, 5]\n",
      "Running:  [25, 'gini', 26, 7]\n",
      "Running:  [25, 'gini', 26, 9]\n",
      "Running:  [25, 'gini', 26, 11]\n",
      "Running:  [25, 'gini', 26, 13]\n",
      "Running:  [25, 'gini', 26, 15]\n",
      "Running:  [25, 'gini', 26, 17]\n",
      "Running:  [25, 'gini', 26, 19]\n",
      "Running:  [25, 'gini', 26, 21]\n",
      "Running:  [25, 'gini', 26, 23]\n",
      "Running:  [25, 'gini', 26, 25]\n",
      "Running:  [25, 'gini', 26, 27]\n",
      "Running:  [25, 'gini', 26, 29]\n",
      "Running:  [25, 'gini', 28, 5]\n",
      "Running:  [25, 'gini', 28, 7]\n",
      "Running:  [25, 'gini', 28, 9]\n",
      "Running:  [25, 'gini', 28, 11]\n",
      "Running:  [25, 'gini', 28, 13]\n",
      "Running:  [25, 'gini', 28, 15]\n",
      "Running:  [25, 'gini', 28, 17]\n",
      "Running:  [25, 'gini', 28, 19]\n",
      "Running:  [25, 'gini', 28, 21]\n",
      "Running:  [25, 'gini', 28, 23]\n",
      "Running:  [25, 'gini', 28, 25]\n",
      "Running:  [25, 'gini', 28, 27]\n",
      "Running:  [25, 'gini', 28, 29]\n",
      "Running:  [25, 'gini', 30, 5]\n",
      "Running:  [25, 'gini', 30, 7]\n",
      "Running:  [25, 'gini', 30, 9]\n",
      "Running:  [25, 'gini', 30, 11]\n",
      "Running:  [25, 'gini', 30, 13]\n",
      "Running:  [25, 'gini', 30, 15]\n",
      "Running:  [25, 'gini', 30, 17]\n",
      "Running:  [25, 'gini', 30, 19]\n",
      "Running:  [25, 'gini', 30, 21]\n",
      "Running:  [25, 'gini', 30, 23]\n",
      "Running:  [25, 'gini', 30, 25]\n",
      "Running:  [25, 'gini', 30, 27]\n",
      "Running:  [25, 'gini', 30, 29]\n",
      "Running:  [25, 'gini', 32, 5]\n",
      "Running:  [25, 'gini', 32, 7]\n",
      "Running:  [25, 'gini', 32, 9]\n",
      "Running:  [25, 'gini', 32, 11]\n",
      "Running:  [25, 'gini', 32, 13]\n",
      "Running:  [25, 'gini', 32, 15]\n",
      "Running:  [25, 'gini', 32, 17]\n",
      "Running:  [25, 'gini', 32, 19]\n",
      "Running:  [25, 'gini', 32, 21]\n",
      "Running:  [25, 'gini', 32, 23]\n",
      "Running:  [25, 'gini', 32, 25]\n",
      "Running:  [25, 'gini', 32, 27]\n",
      "Running:  [25, 'gini', 32, 29]\n",
      "Running:  [25, 'gini', 34, 5]\n",
      "Running:  [25, 'gini', 34, 7]\n",
      "Running:  [25, 'gini', 34, 9]\n",
      "Running:  [25, 'gini', 34, 11]\n",
      "Running:  [25, 'gini', 34, 13]\n",
      "Running:  [25, 'gini', 34, 15]\n",
      "Running:  [25, 'gini', 34, 17]\n",
      "Running:  [25, 'gini', 34, 19]\n",
      "Running:  [25, 'gini', 34, 21]\n",
      "Running:  [25, 'gini', 34, 23]\n",
      "Running:  [25, 'gini', 34, 25]\n",
      "Running:  [25, 'gini', 34, 27]\n",
      "Running:  [25, 'gini', 34, 29]\n",
      "Running:  [25, 'gini', 36, 5]\n",
      "Running:  [25, 'gini', 36, 7]\n",
      "Running:  [25, 'gini', 36, 9]\n",
      "Running:  [25, 'gini', 36, 11]\n",
      "Running:  [25, 'gini', 36, 13]\n",
      "Running:  [25, 'gini', 36, 15]\n",
      "Running:  [25, 'gini', 36, 17]\n",
      "Running:  [25, 'gini', 36, 19]\n",
      "Running:  [25, 'gini', 36, 21]\n",
      "Running:  [25, 'gini', 36, 23]\n",
      "Running:  [25, 'gini', 36, 25]\n",
      "Running:  [25, 'gini', 36, 27]\n",
      "Running:  [25, 'gini', 36, 29]\n",
      "Running:  [25, 'gini', 38, 5]\n",
      "Running:  [25, 'gini', 38, 7]\n",
      "Running:  [25, 'gini', 38, 9]\n",
      "Running:  [25, 'gini', 38, 11]\n",
      "Running:  [25, 'gini', 38, 13]\n",
      "Running:  [25, 'gini', 38, 15]\n",
      "Running:  [25, 'gini', 38, 17]\n",
      "Running:  [25, 'gini', 38, 19]\n",
      "Running:  [25, 'gini', 38, 21]\n",
      "Running:  [25, 'gini', 38, 23]\n",
      "Running:  [25, 'gini', 38, 25]\n",
      "Running:  [25, 'gini', 38, 27]\n",
      "Running:  [25, 'gini', 38, 29]\n",
      "Running:  [25, 'gini', 40, 5]\n",
      "Running:  [25, 'gini', 40, 7]\n",
      "Running:  [25, 'gini', 40, 9]\n",
      "Running:  [25, 'gini', 40, 11]\n",
      "Running:  [25, 'gini', 40, 13]\n",
      "Running:  [25, 'gini', 40, 15]\n",
      "Running:  [25, 'gini', 40, 17]\n",
      "Running:  [25, 'gini', 40, 19]\n",
      "Running:  [25, 'gini', 40, 21]\n",
      "Running:  [25, 'gini', 40, 23]\n",
      "Running:  [25, 'gini', 40, 25]\n",
      "Running:  [25, 'gini', 40, 27]\n",
      "Running:  [25, 'gini', 40, 29]\n",
      "Running:  [25, 'gini', 42, 5]\n",
      "Running:  [25, 'gini', 42, 7]\n",
      "Running:  [25, 'gini', 42, 9]\n",
      "Running:  [25, 'gini', 42, 11]\n",
      "Running:  [25, 'gini', 42, 13]\n",
      "Running:  [25, 'gini', 42, 15]\n",
      "Running:  [25, 'gini', 42, 17]\n",
      "Running:  [25, 'gini', 42, 19]\n",
      "Running:  [25, 'gini', 42, 21]\n",
      "Running:  [25, 'gini', 42, 23]\n",
      "Running:  [25, 'gini', 42, 25]\n",
      "Running:  [25, 'gini', 42, 27]\n",
      "Running:  [25, 'gini', 42, 29]\n",
      "Running:  [25, 'gini', 44, 5]\n",
      "Running:  [25, 'gini', 44, 7]\n",
      "Running:  [25, 'gini', 44, 9]\n",
      "Running:  [25, 'gini', 44, 11]\n",
      "Running:  [25, 'gini', 44, 13]\n",
      "Running:  [25, 'gini', 44, 15]\n",
      "Running:  [25, 'gini', 44, 17]\n",
      "Running:  [25, 'gini', 44, 19]\n",
      "Running:  [25, 'gini', 44, 21]\n",
      "Running:  [25, 'gini', 44, 23]\n",
      "Running:  [25, 'gini', 44, 25]\n",
      "Running:  [25, 'gini', 44, 27]\n",
      "Running:  [25, 'gini', 44, 29]\n",
      "Running:  [25, 'gini', 46, 5]\n",
      "Running:  [25, 'gini', 46, 7]\n",
      "Running:  [25, 'gini', 46, 9]\n",
      "Running:  [25, 'gini', 46, 11]\n",
      "Running:  [25, 'gini', 46, 13]\n",
      "Running:  [25, 'gini', 46, 15]\n",
      "Running:  [25, 'gini', 46, 17]\n",
      "Running:  [25, 'gini', 46, 19]\n",
      "Running:  [25, 'gini', 46, 21]\n",
      "Running:  [25, 'gini', 46, 23]\n",
      "Running:  [25, 'gini', 46, 25]\n",
      "Running:  [25, 'gini', 46, 27]\n",
      "Running:  [25, 'gini', 46, 29]\n",
      "Running:  [25, 'gini', 48, 5]\n",
      "Running:  [25, 'gini', 48, 7]\n",
      "Running:  [25, 'gini', 48, 9]\n",
      "Running:  [25, 'gini', 48, 11]\n",
      "Running:  [25, 'gini', 48, 13]\n",
      "Running:  [25, 'gini', 48, 15]\n",
      "Running:  [25, 'gini', 48, 17]\n",
      "Running:  [25, 'gini', 48, 19]\n",
      "Running:  [25, 'gini', 48, 21]\n",
      "Running:  [25, 'gini', 48, 23]\n",
      "Running:  [25, 'gini', 48, 25]\n",
      "Running:  [25, 'gini', 48, 27]\n",
      "Running:  [25, 'gini', 48, 29]\n",
      "Running:  [30, 'gini', 12, 5]\n",
      "Running:  [30, 'gini', 12, 7]\n",
      "Running:  [30, 'gini', 12, 9]\n",
      "Running:  [30, 'gini', 12, 11]\n",
      "Running:  [30, 'gini', 12, 13]\n",
      "Running:  [30, 'gini', 12, 15]\n",
      "Running:  [30, 'gini', 12, 17]\n",
      "Running:  [30, 'gini', 12, 19]\n",
      "Running:  [30, 'gini', 12, 21]\n",
      "Running:  [30, 'gini', 12, 23]\n",
      "Running:  [30, 'gini', 12, 25]\n",
      "Running:  [30, 'gini', 12, 27]\n",
      "Running:  [30, 'gini', 12, 29]\n",
      "Running:  [30, 'gini', 14, 5]\n",
      "Running:  [30, 'gini', 14, 7]\n",
      "Running:  [30, 'gini', 14, 9]\n",
      "Running:  [30, 'gini', 14, 11]\n",
      "Running:  [30, 'gini', 14, 13]\n",
      "Running:  [30, 'gini', 14, 15]\n",
      "Running:  [30, 'gini', 14, 17]\n"
     ]
    },
    {
     "name": "stdout",
     "output_type": "stream",
     "text": [
      "Running:  [30, 'gini', 14, 19]\n",
      "Running:  [30, 'gini', 14, 21]\n",
      "Running:  [30, 'gini', 14, 23]\n",
      "Running:  [30, 'gini', 14, 25]\n",
      "Running:  [30, 'gini', 14, 27]\n",
      "Running:  [30, 'gini', 14, 29]\n",
      "Running:  [30, 'gini', 16, 5]\n",
      "Running:  [30, 'gini', 16, 7]\n",
      "Running:  [30, 'gini', 16, 9]\n",
      "Running:  [30, 'gini', 16, 11]\n",
      "Running:  [30, 'gini', 16, 13]\n",
      "Running:  [30, 'gini', 16, 15]\n",
      "Running:  [30, 'gini', 16, 17]\n",
      "Running:  [30, 'gini', 16, 19]\n",
      "Running:  [30, 'gini', 16, 21]\n",
      "Running:  [30, 'gini', 16, 23]\n",
      "Running:  [30, 'gini', 16, 25]\n",
      "Running:  [30, 'gini', 16, 27]\n",
      "Running:  [30, 'gini', 16, 29]\n",
      "Running:  [30, 'gini', 18, 5]\n",
      "Running:  [30, 'gini', 18, 7]\n",
      "Running:  [30, 'gini', 18, 9]\n",
      "Running:  [30, 'gini', 18, 11]\n",
      "Running:  [30, 'gini', 18, 13]\n",
      "Running:  [30, 'gini', 18, 15]\n",
      "Running:  [30, 'gini', 18, 17]\n",
      "Running:  [30, 'gini', 18, 19]\n",
      "Running:  [30, 'gini', 18, 21]\n",
      "Running:  [30, 'gini', 18, 23]\n",
      "Running:  [30, 'gini', 18, 25]\n",
      "Running:  [30, 'gini', 18, 27]\n",
      "Running:  [30, 'gini', 18, 29]\n",
      "Running:  [30, 'gini', 20, 5]\n",
      "Running:  [30, 'gini', 20, 7]\n",
      "Running:  [30, 'gini', 20, 9]\n",
      "Running:  [30, 'gini', 20, 11]\n",
      "Running:  [30, 'gini', 20, 13]\n",
      "Running:  [30, 'gini', 20, 15]\n",
      "Running:  [30, 'gini', 20, 17]\n",
      "Running:  [30, 'gini', 20, 19]\n",
      "Running:  [30, 'gini', 20, 21]\n",
      "Running:  [30, 'gini', 20, 23]\n",
      "Running:  [30, 'gini', 20, 25]\n",
      "Running:  [30, 'gini', 20, 27]\n",
      "Running:  [30, 'gini', 20, 29]\n",
      "Running:  [30, 'gini', 22, 5]\n",
      "Running:  [30, 'gini', 22, 7]\n",
      "Running:  [30, 'gini', 22, 9]\n",
      "Running:  [30, 'gini', 22, 11]\n",
      "Running:  [30, 'gini', 22, 13]\n",
      "Running:  [30, 'gini', 22, 15]\n",
      "Running:  [30, 'gini', 22, 17]\n",
      "Running:  [30, 'gini', 22, 19]\n",
      "Running:  [30, 'gini', 22, 21]\n",
      "Running:  [30, 'gini', 22, 23]\n",
      "Running:  [30, 'gini', 22, 25]\n",
      "Running:  [30, 'gini', 22, 27]\n",
      "Running:  [30, 'gini', 22, 29]\n",
      "Running:  [30, 'gini', 24, 5]\n",
      "Running:  [30, 'gini', 24, 7]\n",
      "Running:  [30, 'gini', 24, 9]\n",
      "Running:  [30, 'gini', 24, 11]\n",
      "Running:  [30, 'gini', 24, 13]\n",
      "Running:  [30, 'gini', 24, 15]\n",
      "Running:  [30, 'gini', 24, 17]\n",
      "Running:  [30, 'gini', 24, 19]\n",
      "Running:  [30, 'gini', 24, 21]\n",
      "Running:  [30, 'gini', 24, 23]\n",
      "Running:  [30, 'gini', 24, 25]\n",
      "Running:  [30, 'gini', 24, 27]\n",
      "Running:  [30, 'gini', 24, 29]\n",
      "Running:  [30, 'gini', 26, 5]\n",
      "Running:  [30, 'gini', 26, 7]\n",
      "Running:  [30, 'gini', 26, 9]\n",
      "Running:  [30, 'gini', 26, 11]\n",
      "Running:  [30, 'gini', 26, 13]\n",
      "Running:  [30, 'gini', 26, 15]\n",
      "Running:  [30, 'gini', 26, 17]\n",
      "Running:  [30, 'gini', 26, 19]\n",
      "Running:  [30, 'gini', 26, 21]\n",
      "Running:  [30, 'gini', 26, 23]\n",
      "Running:  [30, 'gini', 26, 25]\n",
      "Running:  [30, 'gini', 26, 27]\n",
      "Running:  [30, 'gini', 26, 29]\n",
      "Running:  [30, 'gini', 28, 5]\n",
      "Running:  [30, 'gini', 28, 7]\n",
      "Running:  [30, 'gini', 28, 9]\n",
      "Running:  [30, 'gini', 28, 11]\n",
      "Running:  [30, 'gini', 28, 13]\n",
      "Running:  [30, 'gini', 28, 15]\n",
      "Running:  [30, 'gini', 28, 17]\n",
      "Running:  [30, 'gini', 28, 19]\n",
      "Running:  [30, 'gini', 28, 21]\n",
      "Running:  [30, 'gini', 28, 23]\n",
      "Running:  [30, 'gini', 28, 25]\n",
      "Running:  [30, 'gini', 28, 27]\n",
      "Running:  [30, 'gini', 28, 29]\n",
      "Running:  [30, 'gini', 30, 5]\n",
      "Running:  [30, 'gini', 30, 7]\n",
      "Running:  [30, 'gini', 30, 9]\n",
      "Running:  [30, 'gini', 30, 11]\n",
      "Running:  [30, 'gini', 30, 13]\n",
      "Running:  [30, 'gini', 30, 15]\n",
      "Running:  [30, 'gini', 30, 17]\n",
      "Running:  [30, 'gini', 30, 19]\n",
      "Running:  [30, 'gini', 30, 21]\n",
      "Running:  [30, 'gini', 30, 23]\n",
      "Running:  [30, 'gini', 30, 25]\n",
      "Running:  [30, 'gini', 30, 27]\n",
      "Running:  [30, 'gini', 30, 29]\n",
      "Running:  [30, 'gini', 32, 5]\n",
      "Running:  [30, 'gini', 32, 7]\n",
      "Running:  [30, 'gini', 32, 9]\n",
      "Running:  [30, 'gini', 32, 11]\n",
      "Running:  [30, 'gini', 32, 13]\n",
      "Running:  [30, 'gini', 32, 15]\n",
      "Running:  [30, 'gini', 32, 17]\n",
      "Running:  [30, 'gini', 32, 19]\n",
      "Running:  [30, 'gini', 32, 21]\n",
      "Running:  [30, 'gini', 32, 23]\n",
      "Running:  [30, 'gini', 32, 25]\n",
      "Running:  [30, 'gini', 32, 27]\n",
      "Running:  [30, 'gini', 32, 29]\n",
      "Running:  [30, 'gini', 34, 5]\n",
      "Running:  [30, 'gini', 34, 7]\n",
      "Running:  [30, 'gini', 34, 9]\n",
      "Running:  [30, 'gini', 34, 11]\n",
      "Running:  [30, 'gini', 34, 13]\n",
      "Running:  [30, 'gini', 34, 15]\n",
      "Running:  [30, 'gini', 34, 17]\n",
      "Running:  [30, 'gini', 34, 19]\n",
      "Running:  [30, 'gini', 34, 21]\n",
      "Running:  [30, 'gini', 34, 23]\n",
      "Running:  [30, 'gini', 34, 25]\n",
      "Running:  [30, 'gini', 34, 27]\n",
      "Running:  [30, 'gini', 34, 29]\n",
      "Running:  [30, 'gini', 36, 5]\n",
      "Running:  [30, 'gini', 36, 7]\n",
      "Running:  [30, 'gini', 36, 9]\n",
      "Running:  [30, 'gini', 36, 11]\n",
      "Running:  [30, 'gini', 36, 13]\n",
      "Running:  [30, 'gini', 36, 15]\n",
      "Running:  [30, 'gini', 36, 17]\n",
      "Running:  [30, 'gini', 36, 19]\n",
      "Running:  [30, 'gini', 36, 21]\n",
      "Running:  [30, 'gini', 36, 23]\n",
      "Running:  [30, 'gini', 36, 25]\n",
      "Running:  [30, 'gini', 36, 27]\n",
      "Running:  [30, 'gini', 36, 29]\n",
      "Running:  [30, 'gini', 38, 5]\n",
      "Running:  [30, 'gini', 38, 7]\n",
      "Running:  [30, 'gini', 38, 9]\n",
      "Running:  [30, 'gini', 38, 11]\n",
      "Running:  [30, 'gini', 38, 13]\n",
      "Running:  [30, 'gini', 38, 15]\n",
      "Running:  [30, 'gini', 38, 17]\n",
      "Running:  [30, 'gini', 38, 19]\n",
      "Running:  [30, 'gini', 38, 21]\n",
      "Running:  [30, 'gini', 38, 23]\n",
      "Running:  [30, 'gini', 38, 25]\n",
      "Running:  [30, 'gini', 38, 27]\n",
      "Running:  [30, 'gini', 38, 29]\n",
      "Running:  [30, 'gini', 40, 5]\n",
      "Running:  [30, 'gini', 40, 7]\n",
      "Running:  [30, 'gini', 40, 9]\n",
      "Running:  [30, 'gini', 40, 11]\n",
      "Running:  [30, 'gini', 40, 13]\n",
      "Running:  [30, 'gini', 40, 15]\n",
      "Running:  [30, 'gini', 40, 17]\n",
      "Running:  [30, 'gini', 40, 19]\n",
      "Running:  [30, 'gini', 40, 21]\n",
      "Running:  [30, 'gini', 40, 23]\n",
      "Running:  [30, 'gini', 40, 25]\n",
      "Running:  [30, 'gini', 40, 27]\n",
      "Running:  [30, 'gini', 40, 29]\n",
      "Running:  [30, 'gini', 42, 5]\n",
      "Running:  [30, 'gini', 42, 7]\n",
      "Running:  [30, 'gini', 42, 9]\n",
      "Running:  [30, 'gini', 42, 11]\n",
      "Running:  [30, 'gini', 42, 13]\n",
      "Running:  [30, 'gini', 42, 15]\n",
      "Running:  [30, 'gini', 42, 17]\n",
      "Running:  [30, 'gini', 42, 19]\n",
      "Running:  [30, 'gini', 42, 21]\n",
      "Running:  [30, 'gini', 42, 23]\n",
      "Running:  [30, 'gini', 42, 25]\n",
      "Running:  [30, 'gini', 42, 27]\n",
      "Running:  [30, 'gini', 42, 29]\n",
      "Running:  [30, 'gini', 44, 5]\n",
      "Running:  [30, 'gini', 44, 7]\n",
      "Running:  [30, 'gini', 44, 9]\n",
      "Running:  [30, 'gini', 44, 11]\n",
      "Running:  [30, 'gini', 44, 13]\n",
      "Running:  [30, 'gini', 44, 15]\n",
      "Running:  [30, 'gini', 44, 17]\n",
      "Running:  [30, 'gini', 44, 19]\n",
      "Running:  [30, 'gini', 44, 21]\n",
      "Running:  [30, 'gini', 44, 23]\n",
      "Running:  [30, 'gini', 44, 25]\n",
      "Running:  [30, 'gini', 44, 27]\n",
      "Running:  [30, 'gini', 44, 29]\n",
      "Running:  [30, 'gini', 46, 5]\n",
      "Running:  [30, 'gini', 46, 7]\n",
      "Running:  [30, 'gini', 46, 9]\n",
      "Running:  [30, 'gini', 46, 11]\n",
      "Running:  [30, 'gini', 46, 13]\n",
      "Running:  [30, 'gini', 46, 15]\n",
      "Running:  [30, 'gini', 46, 17]\n",
      "Running:  [30, 'gini', 46, 19]\n",
      "Running:  [30, 'gini', 46, 21]\n",
      "Running:  [30, 'gini', 46, 23]\n",
      "Running:  [30, 'gini', 46, 25]\n",
      "Running:  [30, 'gini', 46, 27]\n",
      "Running:  [30, 'gini', 46, 29]\n",
      "Running:  [30, 'gini', 48, 5]\n",
      "Running:  [30, 'gini', 48, 7]\n",
      "Running:  [30, 'gini', 48, 9]\n",
      "Running:  [30, 'gini', 48, 11]\n",
      "Running:  [30, 'gini', 48, 13]\n",
      "Running:  [30, 'gini', 48, 15]\n",
      "Running:  [30, 'gini', 48, 17]\n",
      "Running:  [30, 'gini', 48, 19]\n",
      "Running:  [30, 'gini', 48, 21]\n",
      "Running:  [30, 'gini', 48, 23]\n",
      "Running:  [30, 'gini', 48, 25]\n",
      "Running:  [30, 'gini', 48, 27]\n",
      "Running:  [30, 'gini', 48, 29]\n",
      "Running:  [35, 'gini', 12, 5]\n",
      "Running:  [35, 'gini', 12, 7]\n",
      "Running:  [35, 'gini', 12, 9]\n",
      "Running:  [35, 'gini', 12, 11]\n",
      "Running:  [35, 'gini', 12, 13]\n",
      "Running:  [35, 'gini', 12, 15]\n",
      "Running:  [35, 'gini', 12, 17]\n",
      "Running:  [35, 'gini', 12, 19]\n",
      "Running:  [35, 'gini', 12, 21]\n",
      "Running:  [35, 'gini', 12, 23]\n",
      "Running:  [35, 'gini', 12, 25]\n",
      "Running:  [35, 'gini', 12, 27]\n",
      "Running:  [35, 'gini', 12, 29]\n",
      "Running:  [35, 'gini', 14, 5]\n",
      "Running:  [35, 'gini', 14, 7]\n",
      "Running:  [35, 'gini', 14, 9]\n",
      "Running:  [35, 'gini', 14, 11]\n",
      "Running:  [35, 'gini', 14, 13]\n",
      "Running:  [35, 'gini', 14, 15]\n",
      "Running:  [35, 'gini', 14, 17]\n",
      "Running:  [35, 'gini', 14, 19]\n",
      "Running:  [35, 'gini', 14, 21]\n",
      "Running:  [35, 'gini', 14, 23]\n",
      "Running:  [35, 'gini', 14, 25]\n",
      "Running:  [35, 'gini', 14, 27]\n",
      "Running:  [35, 'gini', 14, 29]\n",
      "Running:  [35, 'gini', 16, 5]\n",
      "Running:  [35, 'gini', 16, 7]\n",
      "Running:  [35, 'gini', 16, 9]\n",
      "Running:  [35, 'gini', 16, 11]\n",
      "Running:  [35, 'gini', 16, 13]\n",
      "Running:  [35, 'gini', 16, 15]\n",
      "Running:  [35, 'gini', 16, 17]\n",
      "Running:  [35, 'gini', 16, 19]\n",
      "Running:  [35, 'gini', 16, 21]\n",
      "Running:  [35, 'gini', 16, 23]\n",
      "Running:  [35, 'gini', 16, 25]\n",
      "Running:  [35, 'gini', 16, 27]\n",
      "Running:  [35, 'gini', 16, 29]\n",
      "Running:  [35, 'gini', 18, 5]\n"
     ]
    },
    {
     "name": "stdout",
     "output_type": "stream",
     "text": [
      "Running:  [35, 'gini', 18, 7]\n",
      "Running:  [35, 'gini', 18, 9]\n",
      "Running:  [35, 'gini', 18, 11]\n",
      "Running:  [35, 'gini', 18, 13]\n",
      "Running:  [35, 'gini', 18, 15]\n",
      "Running:  [35, 'gini', 18, 17]\n",
      "Running:  [35, 'gini', 18, 19]\n",
      "Running:  [35, 'gini', 18, 21]\n",
      "Running:  [35, 'gini', 18, 23]\n",
      "Running:  [35, 'gini', 18, 25]\n",
      "Running:  [35, 'gini', 18, 27]\n",
      "Running:  [35, 'gini', 18, 29]\n",
      "Running:  [35, 'gini', 20, 5]\n",
      "Running:  [35, 'gini', 20, 7]\n",
      "Running:  [35, 'gini', 20, 9]\n",
      "Running:  [35, 'gini', 20, 11]\n",
      "Running:  [35, 'gini', 20, 13]\n",
      "Running:  [35, 'gini', 20, 15]\n",
      "Running:  [35, 'gini', 20, 17]\n",
      "Running:  [35, 'gini', 20, 19]\n",
      "Running:  [35, 'gini', 20, 21]\n",
      "Running:  [35, 'gini', 20, 23]\n",
      "Running:  [35, 'gini', 20, 25]\n",
      "Running:  [35, 'gini', 20, 27]\n",
      "Running:  [35, 'gini', 20, 29]\n",
      "Running:  [35, 'gini', 22, 5]\n",
      "Running:  [35, 'gini', 22, 7]\n",
      "Running:  [35, 'gini', 22, 9]\n",
      "Running:  [35, 'gini', 22, 11]\n",
      "Running:  [35, 'gini', 22, 13]\n",
      "Running:  [35, 'gini', 22, 15]\n",
      "Running:  [35, 'gini', 22, 17]\n",
      "Running:  [35, 'gini', 22, 19]\n",
      "Running:  [35, 'gini', 22, 21]\n",
      "Running:  [35, 'gini', 22, 23]\n",
      "Running:  [35, 'gini', 22, 25]\n",
      "Running:  [35, 'gini', 22, 27]\n",
      "Running:  [35, 'gini', 22, 29]\n",
      "Running:  [35, 'gini', 24, 5]\n",
      "Running:  [35, 'gini', 24, 7]\n",
      "Running:  [35, 'gini', 24, 9]\n",
      "Running:  [35, 'gini', 24, 11]\n",
      "Running:  [35, 'gini', 24, 13]\n",
      "Running:  [35, 'gini', 24, 15]\n",
      "Running:  [35, 'gini', 24, 17]\n",
      "Running:  [35, 'gini', 24, 19]\n",
      "Running:  [35, 'gini', 24, 21]\n",
      "Running:  [35, 'gini', 24, 23]\n",
      "Running:  [35, 'gini', 24, 25]\n",
      "Running:  [35, 'gini', 24, 27]\n",
      "Running:  [35, 'gini', 24, 29]\n",
      "Running:  [35, 'gini', 26, 5]\n",
      "Running:  [35, 'gini', 26, 7]\n",
      "Running:  [35, 'gini', 26, 9]\n",
      "Running:  [35, 'gini', 26, 11]\n",
      "Running:  [35, 'gini', 26, 13]\n",
      "Running:  [35, 'gini', 26, 15]\n",
      "Running:  [35, 'gini', 26, 17]\n",
      "Running:  [35, 'gini', 26, 19]\n",
      "Running:  [35, 'gini', 26, 21]\n",
      "Running:  [35, 'gini', 26, 23]\n",
      "Running:  [35, 'gini', 26, 25]\n",
      "Running:  [35, 'gini', 26, 27]\n",
      "Running:  [35, 'gini', 26, 29]\n",
      "Running:  [35, 'gini', 28, 5]\n",
      "Running:  [35, 'gini', 28, 7]\n",
      "Running:  [35, 'gini', 28, 9]\n",
      "Running:  [35, 'gini', 28, 11]\n",
      "Running:  [35, 'gini', 28, 13]\n",
      "Running:  [35, 'gini', 28, 15]\n",
      "Running:  [35, 'gini', 28, 17]\n",
      "Running:  [35, 'gini', 28, 19]\n",
      "Running:  [35, 'gini', 28, 21]\n",
      "Running:  [35, 'gini', 28, 23]\n",
      "Running:  [35, 'gini', 28, 25]\n",
      "Running:  [35, 'gini', 28, 27]\n",
      "Running:  [35, 'gini', 28, 29]\n",
      "Running:  [35, 'gini', 30, 5]\n",
      "Running:  [35, 'gini', 30, 7]\n",
      "Running:  [35, 'gini', 30, 9]\n",
      "Running:  [35, 'gini', 30, 11]\n",
      "Running:  [35, 'gini', 30, 13]\n",
      "Running:  [35, 'gini', 30, 15]\n",
      "Running:  [35, 'gini', 30, 17]\n",
      "Running:  [35, 'gini', 30, 19]\n",
      "Running:  [35, 'gini', 30, 21]\n",
      "Running:  [35, 'gini', 30, 23]\n",
      "Running:  [35, 'gini', 30, 25]\n",
      "Running:  [35, 'gini', 30, 27]\n",
      "Running:  [35, 'gini', 30, 29]\n",
      "Running:  [35, 'gini', 32, 5]\n",
      "Running:  [35, 'gini', 32, 7]\n",
      "Running:  [35, 'gini', 32, 9]\n",
      "Running:  [35, 'gini', 32, 11]\n",
      "Running:  [35, 'gini', 32, 13]\n",
      "Running:  [35, 'gini', 32, 15]\n",
      "Running:  [35, 'gini', 32, 17]\n",
      "Running:  [35, 'gini', 32, 19]\n",
      "Running:  [35, 'gini', 32, 21]\n",
      "Running:  [35, 'gini', 32, 23]\n",
      "Running:  [35, 'gini', 32, 25]\n",
      "Running:  [35, 'gini', 32, 27]\n",
      "Running:  [35, 'gini', 32, 29]\n",
      "Running:  [35, 'gini', 34, 5]\n",
      "Running:  [35, 'gini', 34, 7]\n",
      "Running:  [35, 'gini', 34, 9]\n",
      "Running:  [35, 'gini', 34, 11]\n",
      "Running:  [35, 'gini', 34, 13]\n",
      "Running:  [35, 'gini', 34, 15]\n",
      "Running:  [35, 'gini', 34, 17]\n",
      "Running:  [35, 'gini', 34, 19]\n",
      "Running:  [35, 'gini', 34, 21]\n",
      "Running:  [35, 'gini', 34, 23]\n",
      "Running:  [35, 'gini', 34, 25]\n",
      "Running:  [35, 'gini', 34, 27]\n",
      "Running:  [35, 'gini', 34, 29]\n",
      "Running:  [35, 'gini', 36, 5]\n",
      "Running:  [35, 'gini', 36, 7]\n",
      "Running:  [35, 'gini', 36, 9]\n",
      "Running:  [35, 'gini', 36, 11]\n",
      "Running:  [35, 'gini', 36, 13]\n",
      "Running:  [35, 'gini', 36, 15]\n",
      "Running:  [35, 'gini', 36, 17]\n",
      "Running:  [35, 'gini', 36, 19]\n",
      "Running:  [35, 'gini', 36, 21]\n",
      "Running:  [35, 'gini', 36, 23]\n",
      "Running:  [35, 'gini', 36, 25]\n",
      "Running:  [35, 'gini', 36, 27]\n",
      "Running:  [35, 'gini', 36, 29]\n",
      "Running:  [35, 'gini', 38, 5]\n",
      "Running:  [35, 'gini', 38, 7]\n",
      "Running:  [35, 'gini', 38, 9]\n",
      "Running:  [35, 'gini', 38, 11]\n",
      "Running:  [35, 'gini', 38, 13]\n",
      "Running:  [35, 'gini', 38, 15]\n",
      "Running:  [35, 'gini', 38, 17]\n",
      "Running:  [35, 'gini', 38, 19]\n",
      "Running:  [35, 'gini', 38, 21]\n",
      "Running:  [35, 'gini', 38, 23]\n",
      "Running:  [35, 'gini', 38, 25]\n",
      "Running:  [35, 'gini', 38, 27]\n",
      "Running:  [35, 'gini', 38, 29]\n",
      "Running:  [35, 'gini', 40, 5]\n",
      "Running:  [35, 'gini', 40, 7]\n",
      "Running:  [35, 'gini', 40, 9]\n",
      "Running:  [35, 'gini', 40, 11]\n",
      "Running:  [35, 'gini', 40, 13]\n",
      "Running:  [35, 'gini', 40, 15]\n",
      "Running:  [35, 'gini', 40, 17]\n",
      "Running:  [35, 'gini', 40, 19]\n",
      "Running:  [35, 'gini', 40, 21]\n",
      "Running:  [35, 'gini', 40, 23]\n",
      "Running:  [35, 'gini', 40, 25]\n",
      "Running:  [35, 'gini', 40, 27]\n",
      "Running:  [35, 'gini', 40, 29]\n",
      "Running:  [35, 'gini', 42, 5]\n",
      "Running:  [35, 'gini', 42, 7]\n",
      "Running:  [35, 'gini', 42, 9]\n",
      "Running:  [35, 'gini', 42, 11]\n",
      "Running:  [35, 'gini', 42, 13]\n",
      "Running:  [35, 'gini', 42, 15]\n",
      "Running:  [35, 'gini', 42, 17]\n",
      "Running:  [35, 'gini', 42, 19]\n",
      "Running:  [35, 'gini', 42, 21]\n",
      "Running:  [35, 'gini', 42, 23]\n",
      "Running:  [35, 'gini', 42, 25]\n",
      "Running:  [35, 'gini', 42, 27]\n",
      "Running:  [35, 'gini', 42, 29]\n",
      "Running:  [35, 'gini', 44, 5]\n",
      "Running:  [35, 'gini', 44, 7]\n",
      "Running:  [35, 'gini', 44, 9]\n",
      "Running:  [35, 'gini', 44, 11]\n",
      "Running:  [35, 'gini', 44, 13]\n",
      "Running:  [35, 'gini', 44, 15]\n",
      "Running:  [35, 'gini', 44, 17]\n",
      "Running:  [35, 'gini', 44, 19]\n",
      "Running:  [35, 'gini', 44, 21]\n",
      "Running:  [35, 'gini', 44, 23]\n",
      "Running:  [35, 'gini', 44, 25]\n",
      "Running:  [35, 'gini', 44, 27]\n",
      "Running:  [35, 'gini', 44, 29]\n",
      "Running:  [35, 'gini', 46, 5]\n",
      "Running:  [35, 'gini', 46, 7]\n",
      "Running:  [35, 'gini', 46, 9]\n",
      "Running:  [35, 'gini', 46, 11]\n",
      "Running:  [35, 'gini', 46, 13]\n",
      "Running:  [35, 'gini', 46, 15]\n",
      "Running:  [35, 'gini', 46, 17]\n",
      "Running:  [35, 'gini', 46, 19]\n",
      "Running:  [35, 'gini', 46, 21]\n",
      "Running:  [35, 'gini', 46, 23]\n",
      "Running:  [35, 'gini', 46, 25]\n",
      "Running:  [35, 'gini', 46, 27]\n",
      "Running:  [35, 'gini', 46, 29]\n",
      "Running:  [35, 'gini', 48, 5]\n",
      "Running:  [35, 'gini', 48, 7]\n",
      "Running:  [35, 'gini', 48, 9]\n",
      "Running:  [35, 'gini', 48, 11]\n",
      "Running:  [35, 'gini', 48, 13]\n",
      "Running:  [35, 'gini', 48, 15]\n",
      "Running:  [35, 'gini', 48, 17]\n",
      "Running:  [35, 'gini', 48, 19]\n",
      "Running:  [35, 'gini', 48, 21]\n",
      "Running:  [35, 'gini', 48, 23]\n",
      "Running:  [35, 'gini', 48, 25]\n",
      "Running:  [35, 'gini', 48, 27]\n",
      "Running:  [35, 'gini', 48, 29]\n",
      "Running:  [40, 'gini', 12, 5]\n",
      "Running:  [40, 'gini', 12, 7]\n",
      "Running:  [40, 'gini', 12, 9]\n",
      "Running:  [40, 'gini', 12, 11]\n",
      "Running:  [40, 'gini', 12, 13]\n",
      "Running:  [40, 'gini', 12, 15]\n",
      "Running:  [40, 'gini', 12, 17]\n",
      "Running:  [40, 'gini', 12, 19]\n",
      "Running:  [40, 'gini', 12, 21]\n",
      "Running:  [40, 'gini', 12, 23]\n",
      "Running:  [40, 'gini', 12, 25]\n",
      "Running:  [40, 'gini', 12, 27]\n",
      "Running:  [40, 'gini', 12, 29]\n",
      "Running:  [40, 'gini', 14, 5]\n",
      "Running:  [40, 'gini', 14, 7]\n",
      "Running:  [40, 'gini', 14, 9]\n",
      "Running:  [40, 'gini', 14, 11]\n",
      "Running:  [40, 'gini', 14, 13]\n",
      "Running:  [40, 'gini', 14, 15]\n",
      "Running:  [40, 'gini', 14, 17]\n",
      "Running:  [40, 'gini', 14, 19]\n",
      "Running:  [40, 'gini', 14, 21]\n",
      "Running:  [40, 'gini', 14, 23]\n",
      "Running:  [40, 'gini', 14, 25]\n",
      "Running:  [40, 'gini', 14, 27]\n",
      "Running:  [40, 'gini', 14, 29]\n",
      "Running:  [40, 'gini', 16, 5]\n",
      "Running:  [40, 'gini', 16, 7]\n",
      "Running:  [40, 'gini', 16, 9]\n",
      "Running:  [40, 'gini', 16, 11]\n",
      "Running:  [40, 'gini', 16, 13]\n",
      "Running:  [40, 'gini', 16, 15]\n",
      "Running:  [40, 'gini', 16, 17]\n",
      "Running:  [40, 'gini', 16, 19]\n",
      "Running:  [40, 'gini', 16, 21]\n",
      "Running:  [40, 'gini', 16, 23]\n",
      "Running:  [40, 'gini', 16, 25]\n",
      "Running:  [40, 'gini', 16, 27]\n",
      "Running:  [40, 'gini', 16, 29]\n",
      "Running:  [40, 'gini', 18, 5]\n",
      "Running:  [40, 'gini', 18, 7]\n",
      "Running:  [40, 'gini', 18, 9]\n",
      "Running:  [40, 'gini', 18, 11]\n",
      "Running:  [40, 'gini', 18, 13]\n",
      "Running:  [40, 'gini', 18, 15]\n",
      "Running:  [40, 'gini', 18, 17]\n",
      "Running:  [40, 'gini', 18, 19]\n",
      "Running:  [40, 'gini', 18, 21]\n",
      "Running:  [40, 'gini', 18, 23]\n",
      "Running:  [40, 'gini', 18, 25]\n",
      "Running:  [40, 'gini', 18, 27]\n",
      "Running:  [40, 'gini', 18, 29]\n",
      "Running:  [40, 'gini', 20, 5]\n",
      "Running:  [40, 'gini', 20, 7]\n",
      "Running:  [40, 'gini', 20, 9]\n",
      "Running:  [40, 'gini', 20, 11]\n",
      "Running:  [40, 'gini', 20, 13]\n",
      "Running:  [40, 'gini', 20, 15]\n",
      "Running:  [40, 'gini', 20, 17]\n",
      "Running:  [40, 'gini', 20, 19]\n"
     ]
    },
    {
     "name": "stdout",
     "output_type": "stream",
     "text": [
      "Running:  [40, 'gini', 20, 21]\n",
      "Running:  [40, 'gini', 20, 23]\n",
      "Running:  [40, 'gini', 20, 25]\n",
      "Running:  [40, 'gini', 20, 27]\n",
      "Running:  [40, 'gini', 20, 29]\n",
      "Running:  [40, 'gini', 22, 5]\n",
      "Running:  [40, 'gini', 22, 7]\n",
      "Running:  [40, 'gini', 22, 9]\n",
      "Running:  [40, 'gini', 22, 11]\n",
      "Running:  [40, 'gini', 22, 13]\n",
      "Running:  [40, 'gini', 22, 15]\n",
      "Running:  [40, 'gini', 22, 17]\n",
      "Running:  [40, 'gini', 22, 19]\n",
      "Running:  [40, 'gini', 22, 21]\n",
      "Running:  [40, 'gini', 22, 23]\n",
      "Running:  [40, 'gini', 22, 25]\n",
      "Running:  [40, 'gini', 22, 27]\n",
      "Running:  [40, 'gini', 22, 29]\n",
      "Running:  [40, 'gini', 24, 5]\n",
      "Running:  [40, 'gini', 24, 7]\n",
      "Running:  [40, 'gini', 24, 9]\n",
      "Running:  [40, 'gini', 24, 11]\n",
      "Running:  [40, 'gini', 24, 13]\n",
      "Running:  [40, 'gini', 24, 15]\n",
      "Running:  [40, 'gini', 24, 17]\n",
      "Running:  [40, 'gini', 24, 19]\n",
      "Running:  [40, 'gini', 24, 21]\n",
      "Running:  [40, 'gini', 24, 23]\n",
      "Running:  [40, 'gini', 24, 25]\n",
      "Running:  [40, 'gini', 24, 27]\n",
      "Running:  [40, 'gini', 24, 29]\n",
      "Running:  [40, 'gini', 26, 5]\n",
      "Running:  [40, 'gini', 26, 7]\n",
      "Running:  [40, 'gini', 26, 9]\n",
      "Running:  [40, 'gini', 26, 11]\n",
      "Running:  [40, 'gini', 26, 13]\n",
      "Running:  [40, 'gini', 26, 15]\n",
      "Running:  [40, 'gini', 26, 17]\n",
      "Running:  [40, 'gini', 26, 19]\n",
      "Running:  [40, 'gini', 26, 21]\n",
      "Running:  [40, 'gini', 26, 23]\n",
      "Running:  [40, 'gini', 26, 25]\n",
      "Running:  [40, 'gini', 26, 27]\n",
      "Running:  [40, 'gini', 26, 29]\n",
      "Running:  [40, 'gini', 28, 5]\n",
      "Running:  [40, 'gini', 28, 7]\n",
      "Running:  [40, 'gini', 28, 9]\n",
      "Running:  [40, 'gini', 28, 11]\n",
      "Best Accuracy till now:  0.6783052177324441\n",
      "Best Args till now:  [40, 'gini', 28, 11]\n",
      "Running:  [40, 'gini', 28, 13]\n",
      "Running:  [40, 'gini', 28, 15]\n",
      "Running:  [40, 'gini', 28, 17]\n",
      "Running:  [40, 'gini', 28, 19]\n",
      "Running:  [40, 'gini', 28, 21]\n",
      "Running:  [40, 'gini', 28, 23]\n",
      "Running:  [40, 'gini', 28, 25]\n",
      "Running:  [40, 'gini', 28, 27]\n",
      "Running:  [40, 'gini', 28, 29]\n",
      "Running:  [40, 'gini', 30, 5]\n",
      "Running:  [40, 'gini', 30, 7]\n",
      "Running:  [40, 'gini', 30, 9]\n",
      "Running:  [40, 'gini', 30, 11]\n",
      "Running:  [40, 'gini', 30, 13]\n",
      "Running:  [40, 'gini', 30, 15]\n",
      "Running:  [40, 'gini', 30, 17]\n",
      "Running:  [40, 'gini', 30, 19]\n",
      "Running:  [40, 'gini', 30, 21]\n",
      "Running:  [40, 'gini', 30, 23]\n",
      "Running:  [40, 'gini', 30, 25]\n",
      "Running:  [40, 'gini', 30, 27]\n",
      "Running:  [40, 'gini', 30, 29]\n",
      "Running:  [40, 'gini', 32, 5]\n",
      "Running:  [40, 'gini', 32, 7]\n",
      "Running:  [40, 'gini', 32, 9]\n",
      "Running:  [40, 'gini', 32, 11]\n",
      "Running:  [40, 'gini', 32, 13]\n",
      "Running:  [40, 'gini', 32, 15]\n",
      "Running:  [40, 'gini', 32, 17]\n",
      "Running:  [40, 'gini', 32, 19]\n",
      "Running:  [40, 'gini', 32, 21]\n",
      "Running:  [40, 'gini', 32, 23]\n",
      "Running:  [40, 'gini', 32, 25]\n",
      "Running:  [40, 'gini', 32, 27]\n",
      "Running:  [40, 'gini', 32, 29]\n",
      "Running:  [40, 'gini', 34, 5]\n",
      "Running:  [40, 'gini', 34, 7]\n",
      "Running:  [40, 'gini', 34, 9]\n",
      "Running:  [40, 'gini', 34, 11]\n",
      "Running:  [40, 'gini', 34, 13]\n",
      "Running:  [40, 'gini', 34, 15]\n",
      "Running:  [40, 'gini', 34, 17]\n",
      "Running:  [40, 'gini', 34, 19]\n",
      "Running:  [40, 'gini', 34, 21]\n",
      "Running:  [40, 'gini', 34, 23]\n",
      "Running:  [40, 'gini', 34, 25]\n",
      "Running:  [40, 'gini', 34, 27]\n",
      "Running:  [40, 'gini', 34, 29]\n",
      "Running:  [40, 'gini', 36, 5]\n",
      "Running:  [40, 'gini', 36, 7]\n",
      "Running:  [40, 'gini', 36, 9]\n",
      "Running:  [40, 'gini', 36, 11]\n",
      "Running:  [40, 'gini', 36, 13]\n",
      "Running:  [40, 'gini', 36, 15]\n",
      "Running:  [40, 'gini', 36, 17]\n",
      "Running:  [40, 'gini', 36, 19]\n",
      "Running:  [40, 'gini', 36, 21]\n",
      "Running:  [40, 'gini', 36, 23]\n",
      "Running:  [40, 'gini', 36, 25]\n",
      "Running:  [40, 'gini', 36, 27]\n",
      "Running:  [40, 'gini', 36, 29]\n",
      "Running:  [40, 'gini', 38, 5]\n",
      "Running:  [40, 'gini', 38, 7]\n",
      "Running:  [40, 'gini', 38, 9]\n",
      "Running:  [40, 'gini', 38, 11]\n",
      "Running:  [40, 'gini', 38, 13]\n",
      "Running:  [40, 'gini', 38, 15]\n",
      "Running:  [40, 'gini', 38, 17]\n",
      "Running:  [40, 'gini', 38, 19]\n",
      "Running:  [40, 'gini', 38, 21]\n",
      "Running:  [40, 'gini', 38, 23]\n",
      "Running:  [40, 'gini', 38, 25]\n",
      "Running:  [40, 'gini', 38, 27]\n",
      "Running:  [40, 'gini', 38, 29]\n",
      "Running:  [40, 'gini', 40, 5]\n",
      "Running:  [40, 'gini', 40, 7]\n",
      "Running:  [40, 'gini', 40, 9]\n",
      "Running:  [40, 'gini', 40, 11]\n",
      "Running:  [40, 'gini', 40, 13]\n",
      "Running:  [40, 'gini', 40, 15]\n",
      "Running:  [40, 'gini', 40, 17]\n",
      "Running:  [40, 'gini', 40, 19]\n",
      "Running:  [40, 'gini', 40, 21]\n",
      "Running:  [40, 'gini', 40, 23]\n",
      "Running:  [40, 'gini', 40, 25]\n",
      "Running:  [40, 'gini', 40, 27]\n",
      "Running:  [40, 'gini', 40, 29]\n",
      "Running:  [40, 'gini', 42, 5]\n",
      "Running:  [40, 'gini', 42, 7]\n",
      "Running:  [40, 'gini', 42, 9]\n",
      "Running:  [40, 'gini', 42, 11]\n",
      "Running:  [40, 'gini', 42, 13]\n",
      "Running:  [40, 'gini', 42, 15]\n",
      "Running:  [40, 'gini', 42, 17]\n",
      "Running:  [40, 'gini', 42, 19]\n",
      "Running:  [40, 'gini', 42, 21]\n",
      "Running:  [40, 'gini', 42, 23]\n",
      "Running:  [40, 'gini', 42, 25]\n",
      "Running:  [40, 'gini', 42, 27]\n",
      "Running:  [40, 'gini', 42, 29]\n",
      "Running:  [40, 'gini', 44, 5]\n",
      "Running:  [40, 'gini', 44, 7]\n",
      "Running:  [40, 'gini', 44, 9]\n",
      "Running:  [40, 'gini', 44, 11]\n",
      "Running:  [40, 'gini', 44, 13]\n",
      "Running:  [40, 'gini', 44, 15]\n",
      "Running:  [40, 'gini', 44, 17]\n",
      "Running:  [40, 'gini', 44, 19]\n",
      "Running:  [40, 'gini', 44, 21]\n",
      "Running:  [40, 'gini', 44, 23]\n",
      "Running:  [40, 'gini', 44, 25]\n",
      "Running:  [40, 'gini', 44, 27]\n",
      "Running:  [40, 'gini', 44, 29]\n",
      "Running:  [40, 'gini', 46, 5]\n",
      "Running:  [40, 'gini', 46, 7]\n",
      "Running:  [40, 'gini', 46, 9]\n",
      "Running:  [40, 'gini', 46, 11]\n",
      "Running:  [40, 'gini', 46, 13]\n",
      "Running:  [40, 'gini', 46, 15]\n",
      "Running:  [40, 'gini', 46, 17]\n",
      "Running:  [40, 'gini', 46, 19]\n",
      "Running:  [40, 'gini', 46, 21]\n",
      "Running:  [40, 'gini', 46, 23]\n",
      "Running:  [40, 'gini', 46, 25]\n",
      "Running:  [40, 'gini', 46, 27]\n",
      "Running:  [40, 'gini', 46, 29]\n",
      "Running:  [40, 'gini', 48, 5]\n",
      "Running:  [40, 'gini', 48, 7]\n",
      "Running:  [40, 'gini', 48, 9]\n",
      "Running:  [40, 'gini', 48, 11]\n",
      "Running:  [40, 'gini', 48, 13]\n",
      "Running:  [40, 'gini', 48, 15]\n",
      "Running:  [40, 'gini', 48, 17]\n",
      "Running:  [40, 'gini', 48, 19]\n",
      "Running:  [40, 'gini', 48, 21]\n",
      "Running:  [40, 'gini', 48, 23]\n",
      "Running:  [40, 'gini', 48, 25]\n",
      "Running:  [40, 'gini', 48, 27]\n",
      "Running:  [40, 'gini', 48, 29]\n",
      "Running:  [45, 'gini', 12, 5]\n",
      "Running:  [45, 'gini', 12, 7]\n",
      "Running:  [45, 'gini', 12, 9]\n",
      "Running:  [45, 'gini', 12, 11]\n",
      "Running:  [45, 'gini', 12, 13]\n",
      "Running:  [45, 'gini', 12, 15]\n",
      "Running:  [45, 'gini', 12, 17]\n",
      "Running:  [45, 'gini', 12, 19]\n",
      "Running:  [45, 'gini', 12, 21]\n",
      "Running:  [45, 'gini', 12, 23]\n",
      "Running:  [45, 'gini', 12, 25]\n",
      "Running:  [45, 'gini', 12, 27]\n",
      "Running:  [45, 'gini', 12, 29]\n",
      "Running:  [45, 'gini', 14, 5]\n",
      "Running:  [45, 'gini', 14, 7]\n",
      "Running:  [45, 'gini', 14, 9]\n",
      "Running:  [45, 'gini', 14, 11]\n",
      "Running:  [45, 'gini', 14, 13]\n",
      "Running:  [45, 'gini', 14, 15]\n",
      "Running:  [45, 'gini', 14, 17]\n",
      "Running:  [45, 'gini', 14, 19]\n",
      "Running:  [45, 'gini', 14, 21]\n",
      "Running:  [45, 'gini', 14, 23]\n",
      "Running:  [45, 'gini', 14, 25]\n",
      "Running:  [45, 'gini', 14, 27]\n",
      "Running:  [45, 'gini', 14, 29]\n",
      "Running:  [45, 'gini', 16, 5]\n",
      "Running:  [45, 'gini', 16, 7]\n",
      "Running:  [45, 'gini', 16, 9]\n",
      "Running:  [45, 'gini', 16, 11]\n",
      "Running:  [45, 'gini', 16, 13]\n",
      "Running:  [45, 'gini', 16, 15]\n",
      "Running:  [45, 'gini', 16, 17]\n",
      "Running:  [45, 'gini', 16, 19]\n",
      "Running:  [45, 'gini', 16, 21]\n",
      "Running:  [45, 'gini', 16, 23]\n",
      "Running:  [45, 'gini', 16, 25]\n",
      "Running:  [45, 'gini', 16, 27]\n",
      "Running:  [45, 'gini', 16, 29]\n",
      "Running:  [45, 'gini', 18, 5]\n",
      "Running:  [45, 'gini', 18, 7]\n",
      "Running:  [45, 'gini', 18, 9]\n",
      "Running:  [45, 'gini', 18, 11]\n",
      "Running:  [45, 'gini', 18, 13]\n",
      "Running:  [45, 'gini', 18, 15]\n",
      "Running:  [45, 'gini', 18, 17]\n",
      "Running:  [45, 'gini', 18, 19]\n",
      "Running:  [45, 'gini', 18, 21]\n",
      "Running:  [45, 'gini', 18, 23]\n",
      "Running:  [45, 'gini', 18, 25]\n",
      "Running:  [45, 'gini', 18, 27]\n",
      "Running:  [45, 'gini', 18, 29]\n",
      "Running:  [45, 'gini', 20, 5]\n",
      "Running:  [45, 'gini', 20, 7]\n",
      "Running:  [45, 'gini', 20, 9]\n",
      "Running:  [45, 'gini', 20, 11]\n",
      "Running:  [45, 'gini', 20, 13]\n",
      "Running:  [45, 'gini', 20, 15]\n",
      "Running:  [45, 'gini', 20, 17]\n",
      "Running:  [45, 'gini', 20, 19]\n",
      "Running:  [45, 'gini', 20, 21]\n",
      "Running:  [45, 'gini', 20, 23]\n",
      "Running:  [45, 'gini', 20, 25]\n",
      "Running:  [45, 'gini', 20, 27]\n",
      "Running:  [45, 'gini', 20, 29]\n",
      "Running:  [45, 'gini', 22, 5]\n",
      "Running:  [45, 'gini', 22, 7]\n",
      "Running:  [45, 'gini', 22, 9]\n",
      "Running:  [45, 'gini', 22, 11]\n",
      "Running:  [45, 'gini', 22, 13]\n",
      "Running:  [45, 'gini', 22, 15]\n",
      "Running:  [45, 'gini', 22, 17]\n",
      "Running:  [45, 'gini', 22, 19]\n",
      "Running:  [45, 'gini', 22, 21]\n",
      "Running:  [45, 'gini', 22, 23]\n",
      "Running:  [45, 'gini', 22, 25]\n",
      "Running:  [45, 'gini', 22, 27]\n"
     ]
    },
    {
     "name": "stdout",
     "output_type": "stream",
     "text": [
      "Running:  [45, 'gini', 22, 29]\n",
      "Running:  [45, 'gini', 24, 5]\n",
      "Running:  [45, 'gini', 24, 7]\n",
      "Running:  [45, 'gini', 24, 9]\n",
      "Running:  [45, 'gini', 24, 11]\n",
      "Running:  [45, 'gini', 24, 13]\n",
      "Running:  [45, 'gini', 24, 15]\n",
      "Running:  [45, 'gini', 24, 17]\n",
      "Running:  [45, 'gini', 24, 19]\n",
      "Running:  [45, 'gini', 24, 21]\n",
      "Running:  [45, 'gini', 24, 23]\n",
      "Running:  [45, 'gini', 24, 25]\n",
      "Running:  [45, 'gini', 24, 27]\n",
      "Running:  [45, 'gini', 24, 29]\n",
      "Running:  [45, 'gini', 26, 5]\n",
      "Running:  [45, 'gini', 26, 7]\n",
      "Running:  [45, 'gini', 26, 9]\n",
      "Running:  [45, 'gini', 26, 11]\n",
      "Running:  [45, 'gini', 26, 13]\n",
      "Running:  [45, 'gini', 26, 15]\n",
      "Running:  [45, 'gini', 26, 17]\n",
      "Running:  [45, 'gini', 26, 19]\n",
      "Running:  [45, 'gini', 26, 21]\n",
      "Running:  [45, 'gini', 26, 23]\n",
      "Running:  [45, 'gini', 26, 25]\n",
      "Running:  [45, 'gini', 26, 27]\n",
      "Running:  [45, 'gini', 26, 29]\n",
      "Running:  [45, 'gini', 28, 5]\n",
      "Running:  [45, 'gini', 28, 7]\n",
      "Running:  [45, 'gini', 28, 9]\n",
      "Running:  [45, 'gini', 28, 11]\n",
      "Running:  [45, 'gini', 28, 13]\n",
      "Running:  [45, 'gini', 28, 15]\n",
      "Running:  [45, 'gini', 28, 17]\n",
      "Running:  [45, 'gini', 28, 19]\n",
      "Running:  [45, 'gini', 28, 21]\n",
      "Running:  [45, 'gini', 28, 23]\n",
      "Running:  [45, 'gini', 28, 25]\n",
      "Running:  [45, 'gini', 28, 27]\n",
      "Running:  [45, 'gini', 28, 29]\n",
      "Running:  [45, 'gini', 30, 5]\n",
      "Running:  [45, 'gini', 30, 7]\n",
      "Running:  [45, 'gini', 30, 9]\n",
      "Running:  [45, 'gini', 30, 11]\n",
      "Running:  [45, 'gini', 30, 13]\n",
      "Running:  [45, 'gini', 30, 15]\n",
      "Running:  [45, 'gini', 30, 17]\n",
      "Running:  [45, 'gini', 30, 19]\n",
      "Running:  [45, 'gini', 30, 21]\n",
      "Running:  [45, 'gini', 30, 23]\n",
      "Running:  [45, 'gini', 30, 25]\n",
      "Running:  [45, 'gini', 30, 27]\n",
      "Running:  [45, 'gini', 30, 29]\n",
      "Running:  [45, 'gini', 32, 5]\n",
      "Running:  [45, 'gini', 32, 7]\n",
      "Running:  [45, 'gini', 32, 9]\n",
      "Running:  [45, 'gini', 32, 11]\n",
      "Running:  [45, 'gini', 32, 13]\n",
      "Running:  [45, 'gini', 32, 15]\n",
      "Running:  [45, 'gini', 32, 17]\n",
      "Running:  [45, 'gini', 32, 19]\n",
      "Running:  [45, 'gini', 32, 21]\n",
      "Running:  [45, 'gini', 32, 23]\n",
      "Running:  [45, 'gini', 32, 25]\n",
      "Running:  [45, 'gini', 32, 27]\n",
      "Running:  [45, 'gini', 32, 29]\n",
      "Running:  [45, 'gini', 34, 5]\n",
      "Running:  [45, 'gini', 34, 7]\n",
      "Running:  [45, 'gini', 34, 9]\n",
      "Running:  [45, 'gini', 34, 11]\n",
      "Running:  [45, 'gini', 34, 13]\n",
      "Running:  [45, 'gini', 34, 15]\n",
      "Running:  [45, 'gini', 34, 17]\n",
      "Running:  [45, 'gini', 34, 19]\n",
      "Running:  [45, 'gini', 34, 21]\n",
      "Running:  [45, 'gini', 34, 23]\n",
      "Running:  [45, 'gini', 34, 25]\n",
      "Running:  [45, 'gini', 34, 27]\n",
      "Running:  [45, 'gini', 34, 29]\n",
      "Running:  [45, 'gini', 36, 5]\n",
      "Running:  [45, 'gini', 36, 7]\n",
      "Running:  [45, 'gini', 36, 9]\n",
      "Running:  [45, 'gini', 36, 11]\n",
      "Running:  [45, 'gini', 36, 13]\n",
      "Running:  [45, 'gini', 36, 15]\n",
      "Running:  [45, 'gini', 36, 17]\n",
      "Running:  [45, 'gini', 36, 19]\n",
      "Running:  [45, 'gini', 36, 21]\n",
      "Running:  [45, 'gini', 36, 23]\n",
      "Running:  [45, 'gini', 36, 25]\n",
      "Running:  [45, 'gini', 36, 27]\n",
      "Running:  [45, 'gini', 36, 29]\n",
      "Running:  [45, 'gini', 38, 5]\n",
      "Running:  [45, 'gini', 38, 7]\n",
      "Running:  [45, 'gini', 38, 9]\n",
      "Running:  [45, 'gini', 38, 11]\n",
      "Running:  [45, 'gini', 38, 13]\n",
      "Running:  [45, 'gini', 38, 15]\n",
      "Running:  [45, 'gini', 38, 17]\n",
      "Running:  [45, 'gini', 38, 19]\n",
      "Running:  [45, 'gini', 38, 21]\n",
      "Running:  [45, 'gini', 38, 23]\n",
      "Running:  [45, 'gini', 38, 25]\n",
      "Running:  [45, 'gini', 38, 27]\n",
      "Running:  [45, 'gini', 38, 29]\n",
      "Running:  [45, 'gini', 40, 5]\n",
      "Running:  [45, 'gini', 40, 7]\n",
      "Running:  [45, 'gini', 40, 9]\n",
      "Running:  [45, 'gini', 40, 11]\n",
      "Running:  [45, 'gini', 40, 13]\n",
      "Running:  [45, 'gini', 40, 15]\n",
      "Running:  [45, 'gini', 40, 17]\n",
      "Running:  [45, 'gini', 40, 19]\n",
      "Running:  [45, 'gini', 40, 21]\n",
      "Running:  [45, 'gini', 40, 23]\n",
      "Running:  [45, 'gini', 40, 25]\n",
      "Running:  [45, 'gini', 40, 27]\n",
      "Running:  [45, 'gini', 40, 29]\n",
      "Running:  [45, 'gini', 42, 5]\n",
      "Running:  [45, 'gini', 42, 7]\n",
      "Running:  [45, 'gini', 42, 9]\n",
      "Running:  [45, 'gini', 42, 11]\n",
      "Running:  [45, 'gini', 42, 13]\n",
      "Running:  [45, 'gini', 42, 15]\n",
      "Running:  [45, 'gini', 42, 17]\n",
      "Running:  [45, 'gini', 42, 19]\n",
      "Running:  [45, 'gini', 42, 21]\n",
      "Running:  [45, 'gini', 42, 23]\n",
      "Running:  [45, 'gini', 42, 25]\n",
      "Running:  [45, 'gini', 42, 27]\n",
      "Running:  [45, 'gini', 42, 29]\n",
      "Running:  [45, 'gini', 44, 5]\n",
      "Running:  [45, 'gini', 44, 7]\n",
      "Running:  [45, 'gini', 44, 9]\n",
      "Running:  [45, 'gini', 44, 11]\n",
      "Running:  [45, 'gini', 44, 13]\n",
      "Running:  [45, 'gini', 44, 15]\n",
      "Running:  [45, 'gini', 44, 17]\n",
      "Running:  [45, 'gini', 44, 19]\n",
      "Running:  [45, 'gini', 44, 21]\n",
      "Running:  [45, 'gini', 44, 23]\n",
      "Running:  [45, 'gini', 44, 25]\n",
      "Running:  [45, 'gini', 44, 27]\n",
      "Running:  [45, 'gini', 44, 29]\n",
      "Running:  [45, 'gini', 46, 5]\n",
      "Running:  [45, 'gini', 46, 7]\n",
      "Running:  [45, 'gini', 46, 9]\n",
      "Running:  [45, 'gini', 46, 11]\n",
      "Running:  [45, 'gini', 46, 13]\n",
      "Running:  [45, 'gini', 46, 15]\n",
      "Running:  [45, 'gini', 46, 17]\n",
      "Running:  [45, 'gini', 46, 19]\n",
      "Running:  [45, 'gini', 46, 21]\n",
      "Running:  [45, 'gini', 46, 23]\n",
      "Running:  [45, 'gini', 46, 25]\n",
      "Running:  [45, 'gini', 46, 27]\n",
      "Running:  [45, 'gini', 46, 29]\n",
      "Running:  [45, 'gini', 48, 5]\n",
      "Running:  [45, 'gini', 48, 7]\n",
      "Running:  [45, 'gini', 48, 9]\n",
      "Running:  [45, 'gini', 48, 11]\n",
      "Running:  [45, 'gini', 48, 13]\n",
      "Running:  [45, 'gini', 48, 15]\n",
      "Running:  [45, 'gini', 48, 17]\n",
      "Running:  [45, 'gini', 48, 19]\n",
      "Running:  [45, 'gini', 48, 21]\n",
      "Running:  [45, 'gini', 48, 23]\n",
      "Running:  [45, 'gini', 48, 25]\n",
      "Running:  [45, 'gini', 48, 27]\n",
      "Running:  [45, 'gini', 48, 29]\n",
      "Running:  [50, 'gini', 12, 5]\n",
      "Running:  [50, 'gini', 12, 7]\n",
      "Running:  [50, 'gini', 12, 9]\n",
      "Running:  [50, 'gini', 12, 11]\n",
      "Running:  [50, 'gini', 12, 13]\n",
      "Running:  [50, 'gini', 12, 15]\n",
      "Running:  [50, 'gini', 12, 17]\n",
      "Running:  [50, 'gini', 12, 19]\n",
      "Running:  [50, 'gini', 12, 21]\n",
      "Running:  [50, 'gini', 12, 23]\n",
      "Running:  [50, 'gini', 12, 25]\n",
      "Running:  [50, 'gini', 12, 27]\n",
      "Running:  [50, 'gini', 12, 29]\n",
      "Running:  [50, 'gini', 14, 5]\n",
      "Running:  [50, 'gini', 14, 7]\n",
      "Running:  [50, 'gini', 14, 9]\n",
      "Running:  [50, 'gini', 14, 11]\n",
      "Running:  [50, 'gini', 14, 13]\n",
      "Running:  [50, 'gini', 14, 15]\n",
      "Running:  [50, 'gini', 14, 17]\n",
      "Running:  [50, 'gini', 14, 19]\n",
      "Running:  [50, 'gini', 14, 21]\n",
      "Running:  [50, 'gini', 14, 23]\n",
      "Running:  [50, 'gini', 14, 25]\n",
      "Running:  [50, 'gini', 14, 27]\n",
      "Running:  [50, 'gini', 14, 29]\n",
      "Running:  [50, 'gini', 16, 5]\n",
      "Running:  [50, 'gini', 16, 7]\n",
      "Running:  [50, 'gini', 16, 9]\n",
      "Running:  [50, 'gini', 16, 11]\n",
      "Running:  [50, 'gini', 16, 13]\n",
      "Running:  [50, 'gini', 16, 15]\n",
      "Running:  [50, 'gini', 16, 17]\n",
      "Running:  [50, 'gini', 16, 19]\n",
      "Running:  [50, 'gini', 16, 21]\n",
      "Running:  [50, 'gini', 16, 23]\n",
      "Running:  [50, 'gini', 16, 25]\n",
      "Running:  [50, 'gini', 16, 27]\n",
      "Running:  [50, 'gini', 16, 29]\n",
      "Running:  [50, 'gini', 18, 5]\n",
      "Running:  [50, 'gini', 18, 7]\n",
      "Running:  [50, 'gini', 18, 9]\n",
      "Running:  [50, 'gini', 18, 11]\n",
      "Running:  [50, 'gini', 18, 13]\n",
      "Running:  [50, 'gini', 18, 15]\n",
      "Running:  [50, 'gini', 18, 17]\n",
      "Running:  [50, 'gini', 18, 19]\n",
      "Running:  [50, 'gini', 18, 21]\n",
      "Running:  [50, 'gini', 18, 23]\n",
      "Running:  [50, 'gini', 18, 25]\n",
      "Running:  [50, 'gini', 18, 27]\n",
      "Running:  [50, 'gini', 18, 29]\n",
      "Running:  [50, 'gini', 20, 5]\n",
      "Running:  [50, 'gini', 20, 7]\n",
      "Running:  [50, 'gini', 20, 9]\n",
      "Running:  [50, 'gini', 20, 11]\n",
      "Running:  [50, 'gini', 20, 13]\n",
      "Running:  [50, 'gini', 20, 15]\n",
      "Running:  [50, 'gini', 20, 17]\n",
      "Running:  [50, 'gini', 20, 19]\n",
      "Running:  [50, 'gini', 20, 21]\n",
      "Running:  [50, 'gini', 20, 23]\n",
      "Running:  [50, 'gini', 20, 25]\n",
      "Running:  [50, 'gini', 20, 27]\n",
      "Running:  [50, 'gini', 20, 29]\n",
      "Running:  [50, 'gini', 22, 5]\n",
      "Running:  [50, 'gini', 22, 7]\n",
      "Running:  [50, 'gini', 22, 9]\n",
      "Running:  [50, 'gini', 22, 11]\n",
      "Running:  [50, 'gini', 22, 13]\n",
      "Running:  [50, 'gini', 22, 15]\n",
      "Running:  [50, 'gini', 22, 17]\n",
      "Running:  [50, 'gini', 22, 19]\n",
      "Running:  [50, 'gini', 22, 21]\n",
      "Running:  [50, 'gini', 22, 23]\n",
      "Running:  [50, 'gini', 22, 25]\n",
      "Running:  [50, 'gini', 22, 27]\n",
      "Running:  [50, 'gini', 22, 29]\n",
      "Running:  [50, 'gini', 24, 5]\n",
      "Running:  [50, 'gini', 24, 7]\n",
      "Running:  [50, 'gini', 24, 9]\n",
      "Running:  [50, 'gini', 24, 11]\n",
      "Running:  [50, 'gini', 24, 13]\n",
      "Running:  [50, 'gini', 24, 15]\n",
      "Running:  [50, 'gini', 24, 17]\n",
      "Running:  [50, 'gini', 24, 19]\n",
      "Running:  [50, 'gini', 24, 21]\n",
      "Running:  [50, 'gini', 24, 23]\n",
      "Running:  [50, 'gini', 24, 25]\n",
      "Running:  [50, 'gini', 24, 27]\n",
      "Running:  [50, 'gini', 24, 29]\n",
      "Running:  [50, 'gini', 26, 5]\n",
      "Running:  [50, 'gini', 26, 7]\n",
      "Running:  [50, 'gini', 26, 9]\n",
      "Running:  [50, 'gini', 26, 11]\n",
      "Running:  [50, 'gini', 26, 13]\n",
      "Running:  [50, 'gini', 26, 15]\n"
     ]
    },
    {
     "name": "stdout",
     "output_type": "stream",
     "text": [
      "Running:  [50, 'gini', 26, 17]\n",
      "Running:  [50, 'gini', 26, 19]\n",
      "Running:  [50, 'gini', 26, 21]\n",
      "Running:  [50, 'gini', 26, 23]\n",
      "Running:  [50, 'gini', 26, 25]\n",
      "Running:  [50, 'gini', 26, 27]\n",
      "Running:  [50, 'gini', 26, 29]\n",
      "Running:  [50, 'gini', 28, 5]\n",
      "Running:  [50, 'gini', 28, 7]\n",
      "Running:  [50, 'gini', 28, 9]\n",
      "Running:  [50, 'gini', 28, 11]\n",
      "Running:  [50, 'gini', 28, 13]\n",
      "Running:  [50, 'gini', 28, 15]\n",
      "Running:  [50, 'gini', 28, 17]\n",
      "Running:  [50, 'gini', 28, 19]\n",
      "Running:  [50, 'gini', 28, 21]\n",
      "Running:  [50, 'gini', 28, 23]\n",
      "Running:  [50, 'gini', 28, 25]\n",
      "Running:  [50, 'gini', 28, 27]\n",
      "Running:  [50, 'gini', 28, 29]\n",
      "Running:  [50, 'gini', 30, 5]\n",
      "Running:  [50, 'gini', 30, 7]\n",
      "Running:  [50, 'gini', 30, 9]\n",
      "Running:  [50, 'gini', 30, 11]\n",
      "Running:  [50, 'gini', 30, 13]\n",
      "Running:  [50, 'gini', 30, 15]\n",
      "Running:  [50, 'gini', 30, 17]\n",
      "Running:  [50, 'gini', 30, 19]\n",
      "Running:  [50, 'gini', 30, 21]\n",
      "Running:  [50, 'gini', 30, 23]\n",
      "Running:  [50, 'gini', 30, 25]\n",
      "Running:  [50, 'gini', 30, 27]\n",
      "Running:  [50, 'gini', 30, 29]\n",
      "Running:  [50, 'gini', 32, 5]\n",
      "Running:  [50, 'gini', 32, 7]\n",
      "Running:  [50, 'gini', 32, 9]\n",
      "Running:  [50, 'gini', 32, 11]\n",
      "Running:  [50, 'gini', 32, 13]\n",
      "Running:  [50, 'gini', 32, 15]\n",
      "Running:  [50, 'gini', 32, 17]\n",
      "Running:  [50, 'gini', 32, 19]\n",
      "Running:  [50, 'gini', 32, 21]\n",
      "Running:  [50, 'gini', 32, 23]\n",
      "Running:  [50, 'gini', 32, 25]\n",
      "Running:  [50, 'gini', 32, 27]\n",
      "Running:  [50, 'gini', 32, 29]\n",
      "Running:  [50, 'gini', 34, 5]\n",
      "Running:  [50, 'gini', 34, 7]\n",
      "Running:  [50, 'gini', 34, 9]\n",
      "Running:  [50, 'gini', 34, 11]\n",
      "Running:  [50, 'gini', 34, 13]\n",
      "Running:  [50, 'gini', 34, 15]\n",
      "Running:  [50, 'gini', 34, 17]\n",
      "Running:  [50, 'gini', 34, 19]\n",
      "Running:  [50, 'gini', 34, 21]\n",
      "Running:  [50, 'gini', 34, 23]\n",
      "Running:  [50, 'gini', 34, 25]\n",
      "Running:  [50, 'gini', 34, 27]\n",
      "Running:  [50, 'gini', 34, 29]\n",
      "Running:  [50, 'gini', 36, 5]\n",
      "Running:  [50, 'gini', 36, 7]\n",
      "Running:  [50, 'gini', 36, 9]\n",
      "Running:  [50, 'gini', 36, 11]\n",
      "Running:  [50, 'gini', 36, 13]\n",
      "Running:  [50, 'gini', 36, 15]\n",
      "Running:  [50, 'gini', 36, 17]\n",
      "Running:  [50, 'gini', 36, 19]\n",
      "Running:  [50, 'gini', 36, 21]\n",
      "Running:  [50, 'gini', 36, 23]\n",
      "Running:  [50, 'gini', 36, 25]\n",
      "Running:  [50, 'gini', 36, 27]\n",
      "Running:  [50, 'gini', 36, 29]\n",
      "Running:  [50, 'gini', 38, 5]\n",
      "Running:  [50, 'gini', 38, 7]\n",
      "Running:  [50, 'gini', 38, 9]\n",
      "Running:  [50, 'gini', 38, 11]\n",
      "Running:  [50, 'gini', 38, 13]\n",
      "Running:  [50, 'gini', 38, 15]\n",
      "Running:  [50, 'gini', 38, 17]\n",
      "Running:  [50, 'gini', 38, 19]\n",
      "Running:  [50, 'gini', 38, 21]\n",
      "Running:  [50, 'gini', 38, 23]\n",
      "Running:  [50, 'gini', 38, 25]\n",
      "Running:  [50, 'gini', 38, 27]\n",
      "Running:  [50, 'gini', 38, 29]\n",
      "Running:  [50, 'gini', 40, 5]\n",
      "Running:  [50, 'gini', 40, 7]\n",
      "Running:  [50, 'gini', 40, 9]\n",
      "Running:  [50, 'gini', 40, 11]\n",
      "Running:  [50, 'gini', 40, 13]\n",
      "Running:  [50, 'gini', 40, 15]\n",
      "Running:  [50, 'gini', 40, 17]\n",
      "Running:  [50, 'gini', 40, 19]\n",
      "Running:  [50, 'gini', 40, 21]\n",
      "Running:  [50, 'gini', 40, 23]\n",
      "Running:  [50, 'gini', 40, 25]\n",
      "Running:  [50, 'gini', 40, 27]\n",
      "Running:  [50, 'gini', 40, 29]\n",
      "Running:  [50, 'gini', 42, 5]\n",
      "Running:  [50, 'gini', 42, 7]\n",
      "Running:  [50, 'gini', 42, 9]\n",
      "Running:  [50, 'gini', 42, 11]\n",
      "Running:  [50, 'gini', 42, 13]\n",
      "Running:  [50, 'gini', 42, 15]\n",
      "Running:  [50, 'gini', 42, 17]\n",
      "Running:  [50, 'gini', 42, 19]\n",
      "Running:  [50, 'gini', 42, 21]\n",
      "Running:  [50, 'gini', 42, 23]\n",
      "Running:  [50, 'gini', 42, 25]\n",
      "Running:  [50, 'gini', 42, 27]\n",
      "Running:  [50, 'gini', 42, 29]\n",
      "Running:  [50, 'gini', 44, 5]\n",
      "Running:  [50, 'gini', 44, 7]\n",
      "Running:  [50, 'gini', 44, 9]\n",
      "Running:  [50, 'gini', 44, 11]\n",
      "Running:  [50, 'gini', 44, 13]\n",
      "Running:  [50, 'gini', 44, 15]\n",
      "Running:  [50, 'gini', 44, 17]\n",
      "Running:  [50, 'gini', 44, 19]\n",
      "Running:  [50, 'gini', 44, 21]\n",
      "Running:  [50, 'gini', 44, 23]\n",
      "Running:  [50, 'gini', 44, 25]\n",
      "Running:  [50, 'gini', 44, 27]\n",
      "Running:  [50, 'gini', 44, 29]\n",
      "Running:  [50, 'gini', 46, 5]\n",
      "Running:  [50, 'gini', 46, 7]\n",
      "Running:  [50, 'gini', 46, 9]\n",
      "Running:  [50, 'gini', 46, 11]\n",
      "Running:  [50, 'gini', 46, 13]\n",
      "Running:  [50, 'gini', 46, 15]\n",
      "Running:  [50, 'gini', 46, 17]\n",
      "Running:  [50, 'gini', 46, 19]\n",
      "Running:  [50, 'gini', 46, 21]\n",
      "Running:  [50, 'gini', 46, 23]\n",
      "Running:  [50, 'gini', 46, 25]\n",
      "Running:  [50, 'gini', 46, 27]\n",
      "Running:  [50, 'gini', 46, 29]\n",
      "Running:  [50, 'gini', 48, 5]\n",
      "Running:  [50, 'gini', 48, 7]\n",
      "Running:  [50, 'gini', 48, 9]\n",
      "Running:  [50, 'gini', 48, 11]\n",
      "Running:  [50, 'gini', 48, 13]\n",
      "Running:  [50, 'gini', 48, 15]\n",
      "Running:  [50, 'gini', 48, 17]\n",
      "Running:  [50, 'gini', 48, 19]\n",
      "Running:  [50, 'gini', 48, 21]\n",
      "Running:  [50, 'gini', 48, 23]\n",
      "Running:  [50, 'gini', 48, 25]\n",
      "Running:  [50, 'gini', 48, 27]\n",
      "Running:  [50, 'gini', 48, 29]\n",
      "Best Accuracy:  0.6783052177324441\n",
      "Best Args:  [40, 'gini', 28, 11]\n"
     ]
    }
   ],
   "source": [
    "criterion = 'gini'\n",
    "n_estimators = list(range(10,55,5))\n",
    "max_features = list(range(12,50,2))\n",
    "max_depth = list(range(5,30,2 ))\n",
    "\n",
    "best_accuracy = 0\n",
    "best_args = []\n",
    "best_args.append(0)\n",
    "best_args.append(criterion)\n",
    "best_args.append(0)\n",
    "best_args.append(0)\n",
    "\n",
    "\n",
    "for ne in n_estimators:\n",
    "    for mf in max_features:\n",
    "        for md in max_depth:\n",
    "            args = [ne, criterion, mf, md]\n",
    "            print(\"Running: \", args)\n",
    "\n",
    "            current_accuracy = fit_model_and_run_test('RandomForestClassifier', args, features, labels, test_features, test_labels, verbose=False)\n",
    "            if current_accuracy > best_accuracy:\n",
    "                best_accuracy = current_accuracy\n",
    "                best_args[0] = ne\n",
    "                best_args[1] = criterion\n",
    "                best_args[2] = mf\n",
    "                best_args[3] = md\n",
    "                \n",
    "                print(\"Best Accuracy till now: \", best_accuracy)\n",
    "                print(\"Best Args till now: \", best_args)\n",
    "\n",
    "\n",
    "print(\"Best Accuracy: \", best_accuracy)\n",
    "print(\"Best Args: \", best_args)\n",
    "\n"
   ]
  },
  {
   "cell_type": "markdown",
   "metadata": {},
   "source": [
    "## Best Parameter models:"
   ]
  },
  {
   "cell_type": "markdown",
   "metadata": {},
   "source": [
    "## Logistic:"
   ]
  },
  {
   "cell_type": "code",
   "execution_count": 79,
   "metadata": {},
   "outputs": [
    {
     "name": "stdout",
     "output_type": "stream",
     "text": [
      "Overall accuracy:  0.6746575342465754\n",
      "Precision per class:  [0.8828125  0.26842105 0.83419689 0.94520548]\n",
      "\n",
      "\n",
      "\n",
      "Confusion matrix, without normalization\n",
      "[[113 102  15   2]\n",
      " [  8  51   2   0]\n",
      " [  4  34 161   2]\n",
      " [  3   3  15  69]]\n"
     ]
    },
    {
     "data": {
      "image/png": "[encoded data removed]",
      "text/plain": [
       "<matplotlib.figure.Figure at 0x19a010b8438>"
      ]
     },
     "metadata": {},
     "output_type": "display_data"
    },
    {
     "data": {
      "text/plain": [
       "0.6746575342465754"
      ]
     },
     "execution_count": 79,
     "metadata": {},
     "output_type": "execute_result"
    }
   ],
   "source": [
    "args = []\n",
    "\n",
    "fit_model_and_run_test('LogisticRegression', args, features, labels, test_features, test_labels)"
   ]
  },
  {
   "cell_type": "markdown",
   "metadata": {},
   "source": [
    "## MLP Classifier:"
   ]
  },
  {
   "cell_type": "code",
   "execution_count": 80,
   "metadata": {},
   "outputs": [
    {
     "name": "stdout",
     "output_type": "stream",
     "text": [
      "Overall accuracy:  0.6678082191780822\n",
      "Precision per class:  [0.82758621 0.24375    0.80693069 0.88311688]\n",
      "\n",
      "\n",
      "\n",
      "Confusion matrix, without normalization\n",
      "[[120  92  19   1]\n",
      " [ 20  39   2   0]\n",
      " [  3  27 163   8]\n",
      " [  2   2  18  68]]\n"
     ]
    },
    {
     "data": {
      "image/png": "[encoded data removed]",
      "text/plain": [
       "<matplotlib.figure.Figure at 0x19a0110eac8>"
      ]
     },
     "metadata": {},
     "output_type": "display_data"
    },
    {
     "data": {
      "text/plain": [
       "0.6678082191780822"
      ]
     },
     "execution_count": 80,
     "metadata": {},
     "output_type": "execute_result"
    }
   ],
   "source": [
    "args = [(60, 80), 'logistic', 'lbfgs']\n",
    "\n",
    "fit_model_and_run_test('MLPClassifier', args, features, labels, test_features, test_labels)"
   ]
  },
  {
   "cell_type": "markdown",
   "metadata": {},
   "source": [
    "## Random Forest:"
   ]
  },
  {
   "cell_type": "code",
   "execution_count": 81,
   "metadata": {},
   "outputs": [
    {
     "name": "stdout",
     "output_type": "stream",
     "text": [
      "Overall accuracy:  0.648972602739726\n",
      "Precision per class:  [0.859375   0.24590164 0.80203046 0.86842105]\n",
      "\n",
      "\n",
      "\n",
      "Confusion matrix, without normalization\n",
      "[[110 102  19   1]\n",
      " [ 15  45   1   0]\n",
      " [  2  32 158   9]\n",
      " [  1   4  19  66]]\n"
     ]
    },
    {
     "data": {
      "image/png": "[encoded data removed]",
      "text/plain": [
       "<matplotlib.figure.Figure at 0x19a0c319438>"
      ]
     },
     "metadata": {},
     "output_type": "display_data"
    },
    {
     "data": {
      "text/plain": [
       "0.648972602739726"
      ]
     },
     "execution_count": 81,
     "metadata": {},
     "output_type": "execute_result"
    }
   ],
   "source": [
    "args = [40, 'gini', 28, 11]\n",
    "\n",
    "fit_model_and_run_test('RandomForestClassifier', args, features, labels, test_features, test_labels)"
   ]
  },
  {
   "cell_type": "markdown",
   "metadata": {},
   "source": [
    "## KNeighbors Classifier:"
   ]
  },
  {
   "cell_type": "code",
   "execution_count": 82,
   "metadata": {},
   "outputs": [
    {
     "name": "stdout",
     "output_type": "stream",
     "text": [
      "Overall accuracy:  0.6832191780821918\n",
      "Precision per class:  [0.92028986 0.3        0.88622754 0.70707071]\n",
      "\n",
      "\n",
      "\n",
      "Confusion matrix, without normalization\n",
      "[[127  95   4   6]\n",
      " [  7  54   0   0]\n",
      " [  3  27 148  23]\n",
      " [  1   4  15  70]]\n"
     ]
    },
    {
     "data": {
      "image/png": "[encoded data removed]",
      "text/plain": [
       "<matplotlib.figure.Figure at 0x19a0406d5f8>"
      ]
     },
     "metadata": {},
     "output_type": "display_data"
    },
    {
     "data": {
      "text/plain": [
       "0.6832191780821918"
      ]
     },
     "execution_count": 82,
     "metadata": {},
     "output_type": "execute_result"
    }
   ],
   "source": [
    "args = [37]\n",
    "\n",
    "fit_model_and_run_test('KNeighborsClassifier', args, features, labels, test_features, test_labels)"
   ]
  },
  {
   "cell_type": "markdown",
   "metadata": {},
   "source": [
    "## SVM:"
   ]
  },
  {
   "cell_type": "code",
   "execution_count": 83,
   "metadata": {},
   "outputs": [
    {
     "name": "stdout",
     "output_type": "stream",
     "text": [
      "Overall accuracy:  0.6917808219178082\n",
      "Precision per class:  [0.944      0.30769231 0.85869565 0.85      ]\n",
      "\n",
      "\n",
      "\n",
      "Confusion matrix, without normalization\n",
      "[[118 104   9   1]\n",
      " [  1  60   0   0]\n",
      " [  3  29 158  11]\n",
      " [  3   2  17  68]]\n"
     ]
    },
    {
     "data": {
      "image/png": "[encoded data removed]",
      "text/plain": [
       "<matplotlib.figure.Figure at 0x19a011cf860>"
      ]
     },
     "metadata": {},
     "output_type": "display_data"
    },
    {
     "data": {
      "text/plain": [
       "0.6917808219178082"
      ]
     },
     "execution_count": 83,
     "metadata": {},
     "output_type": "execute_result"
    }
   ],
   "source": [
    "args = ['rbf', 1.0, 'ovr']\n",
    "\n",
    "fit_model_and_run_test('SVC', args, features, labels, test_features, test_labels)"
   ]
  },
  {
   "cell_type": "markdown",
   "metadata": {},
   "source": [
    "## Decision Tree:"
   ]
  },
  {
   "cell_type": "code",
   "execution_count": 88,
   "metadata": {},
   "outputs": [
    {
     "name": "stdout",
     "output_type": "stream",
     "text": [
      "Overall accuracy:  0.6746575342465754\n",
      "Precision per class:  [0.85443038 0.23809524 0.7761194  0.87179487]\n",
      "\n",
      "\n",
      "\n",
      "Confusion matrix, without normalization\n",
      "[[135  73  22   2]\n",
      " [ 19  35   6   1]\n",
      " [  2  36 156   7]\n",
      " [  2   3  17  68]]\n"
     ]
    },
    {
     "data": {
      "image/png": "[encoded data removed]",
      "text/plain": [
       "<matplotlib.figure.Figure at 0x19a03e211d0>"
      ]
     },
     "metadata": {},
     "output_type": "display_data"
    },
    {
     "data": {
      "text/plain": [
       "0.6746575342465754"
      ]
     },
     "execution_count": 88,
     "metadata": {},
     "output_type": "execute_result"
    }
   ],
   "source": [
    "args = [9, 'gini']\n",
    "\n",
    "fit_model_and_run_test('DecisionTreeClassifier', args, features, labels, test_features, test_labels) "
   ]
  }
 ],
 "metadata": {
  "kernelspec": {
   "display_name": "Python 3",
   "language": "python",
   "name": "python3"
  },
  "language_info": {
   "codemirror_mode": {
    "name": "ipython",
    "version": 3
   },
   "file_extension": ".py",
   "mimetype": "text/x-python",
   "name": "python",
   "nbconvert_exporter": "python",
   "pygments_lexer": "ipython3",
   "version": "3.6.2"
  }
 },
 "nbformat": 4,
 "nbformat_minor": 2
}

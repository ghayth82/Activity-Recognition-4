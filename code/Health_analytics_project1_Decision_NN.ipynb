{
 "cells": [
  {
   "cell_type": "code",
   "execution_count": 1,
   "metadata": {
    "collapsed": true
   },
   "outputs": [],
   "source": [
    "from numpy import linalg as LA\n",
    "import os\n",
    "import pandas as pd\n",
    "import numpy as np\n",
    "from scipy.signal import find_peaks_cwt\n",
    "import pickle\n",
    "from pathlib import Path\n",
    "from scipy.stats import kurtosis, skew\n",
    "from scipy.stats import iqr\n",
    "from pyentrp import entropy as ent\n",
    "from sklearn import preprocessing\n",
    "from sklearn.model_selection import train_test_split\n",
    "from sklearn.preprocessing import OneHotEncoder\n",
    "from sklearn.metrics import precision_score, recall_score, roc_auc_score\n",
    "from sklearn.linear_model import LogisticRegression\n",
    "from sklearn.metrics import accuracy_score\n",
    "from sklearn.model_selection import KFold\n",
    "from sklearn.preprocessing import normalize\n",
    "import sys\n",
    "from sklearn import metrics\n",
    "from sklearn.tree import DecisionTreeClassifier\n",
    "from sklearn.linear_model import LogisticRegression\n",
    "import matplotlib.pyplot as plt\n",
    "from sklearn.svm import SVC\n",
    "from sklearn.neural_network import MLPClassifier\n",
    "from sklearn.ensemble import RandomForestClassifier\n",
    "from sklearn import preprocessing\n",
    "import matplotlib.pyplot as plt\n",
    "import math\n",
    "#from tony_beltramelli_detect_peaks import detect_peaks\n",
    "\n",
    "%matplotlib inline"
   ]
  },
  {
   "cell_type": "code",
   "execution_count": 2,
   "metadata": {},
   "outputs": [
    {
     "name": "stdout",
     "output_type": "stream",
     "text": [
      "5.23964512157\n"
     ]
    }
   ],
   "source": [
    "roll = [0.12, 2.56, -5.67, 8.432]\n",
    "\n",
    "rms_roll = np.sqrt(np.mean([x**2 for x in roll]))\n",
    "\n",
    "print rms_roll"
   ]
  },
  {
   "cell_type": "markdown",
   "metadata": {},
   "source": [
    "## Compute features for accelerometer only"
   ]
  },
  {
   "cell_type": "code",
   "execution_count": 3,
   "metadata": {
    "collapsed": true
   },
   "outputs": [],
   "source": [
    "#Helper Functions\n",
    "\n",
    "def Signal_magnitude_area(x,y,z):\n",
    "\n",
    "        sum = 0    \n",
    "        for i in range(len(x)):\n",
    "            sum += (abs(x[i]) + abs(y[i]) + abs(z[i]))\n",
    "\n",
    "        return float(sum)/len(x)\n",
    "\n",
    "\n",
    "def Power(x):\n",
    "\n",
    "    power = (LA.norm(x)**2)/ len(x)\n",
    "    return power\n",
    "\n",
    "\n",
    "def number_of_peaks(window):\n",
    "    indexes = find_peaks_cwt(window, np.arange(1, len(window)))\n",
    "    return len(indexes)\n",
    "\n",
    "\n",
    "def number_of_peaks2(window):\n",
    "\n",
    "    print('Detect peaks with height threshold.')\n",
    "    indexes = detect_peaks(vector, 1.5)\n",
    "    return len(indexes)\n",
    "\n",
    "def trim_first_last_n_seconds(df, n, freq):\n",
    "    if df.shape[0] < 6001:\n",
    "        return None\n",
    "\n",
    "    remove_indexes = list(range(0, int(n*1000/freq)))\n",
    "    df = df.drop(remove_indexes)\n",
    "\n",
    "    remove_indexes = list(range(df.shape[0] - int(n*1000/freq), df.shape[0]-1))\n",
    "    df = df.drop(remove_indexes)\n",
    "\n",
    "    return df\n",
    "\n",
    "def compute_accelerometer(in_dir, ignore_pickle=False):\n",
    "    label_map = {}\n",
    "    label_map['walking']=0\n",
    "    label_map['laying_down']=1\n",
    "    label_map['sitting']=2\n",
    "    label_map['standing']=3\n",
    "    features = []\n",
    "    labels = []\n",
    "    trim_num_seconds = 10\n",
    "    acc_freq = 4\n",
    "    window_num_seconds = 4 #seconds\n",
    "    steps_per_sec = int(1000/acc_freq)\n",
    "    window_size = int(window_num_seconds*steps_per_sec)\n",
    "    window_step = 2 #seconds\n",
    "    window_jump_steps = int(window_step*steps_per_sec)\n",
    "\n",
    "    print(\"Window_size, Window_jump_steps: \", window_size, window_jump_steps)\n",
    "\n",
    "    #this function assumes that records are evenly spaced\n",
    "\n",
    "\n",
    "\n",
    "    dfs_list = []\n",
    "    #features = []\n",
    "    #labels = []\n",
    "\n",
    "    \n",
    "    pickle_file = Path(\"pickles_split/accelerometer_features.pickle\")\n",
    "\n",
    "    if pickle_file.exists() and not ignore_pickle:\n",
    "        print(\"Found pickle files for accelerometer\")\n",
    "        features = pickle.load(open(\"pickles_split/accelerometer_features.pickle\", \"rb\"))\n",
    "        labels = pickle.load(open(\"pickles_split/accelerometer_labels.pickle\", \"rb\"))\n",
    "        dfs_list = pickle.load(open(\"pickles_split/accelerometer_dfs_list.pickle\", \"rb\"))\n",
    "\n",
    "    else:\n",
    "\n",
    "        for root, dirs, files in os.walk(in_dir):\n",
    "            path = root.split(os.sep)\n",
    "\n",
    "            for f in files:\n",
    "                print(\"/\".join(path) + \"/\" + f)\n",
    "\n",
    "                full_path = \"/\".join(path) + \"/\" + f\n",
    "\n",
    "                if \"gyroscope\" in full_path:\n",
    "                    print(\"Skip \", full_path)\n",
    "                    continue\n",
    "\n",
    "                df = pd.read_csv(full_path, header=None)\n",
    "\n",
    "                print(\"Before trimming: \", df.shape)\n",
    "\n",
    "                df = trim_first_last_n_seconds(df, trim_num_seconds, acc_freq)\n",
    "                if df is None:\n",
    "                    print(\"Continuing\")\n",
    "                    continue\n",
    "\n",
    "                print(\"After trimming: \", df.shape)\n",
    "\n",
    "                #Sample the data according to the size of the window with 50% overlap\n",
    "                for index in range(0, df.shape[0]-window_size, window_jump_steps):\n",
    "                    indexes = list(range(index, index + int(window_size)))\n",
    "\n",
    "                    window = df.iloc[indexes,:]\n",
    "\n",
    "                    X_list = window[1].tolist()\n",
    "                    Y_list = window[2].tolist()\n",
    "                    Z_list = window[3].tolist()\n",
    "\n",
    "\n",
    "                    #Generate the features for this window\n",
    "\n",
    "\n",
    "           # ****************** Time-Domain Features ************************* #\n",
    "\n",
    "                    #Mean of the signals\n",
    "                    mean_x = np.mean(X_list)\n",
    "                    mean_y = np.mean(Y_list)\n",
    "                    mean_z = np.mean(Z_list)\n",
    "\n",
    "                    #Variance of the signals\n",
    "                    var_x = np.var(X_list)\n",
    "                    var_y = np.var(Y_list)\n",
    "                    var_z = np.var(Z_list)\n",
    "\n",
    "                    #Number of peaks in the signals\n",
    "                    #num_peaks_x = number_of_peaks(X_list)\n",
    "                    #num_peaks_y = number_of_peaks(Y_list)\n",
    "                    #num_peaks_z = number_of_peaks(Z_list)            \n",
    "\n",
    "                    #Median of the signals\n",
    "                    median_x = np.ma.median(X_list)\n",
    "                    median_y = np.ma.median(Y_list)\n",
    "                    median_z = np.ma.median(Z_list)\n",
    "\n",
    "                    #Standard Deviation of the signals\n",
    "                    std_x = np.std(X_list)\n",
    "                    std_y = np.std(Y_list)\n",
    "                    std_z = np.std(Z_list)\n",
    "\n",
    "                    #Compute Signal Magnitude Area\n",
    "                    signal_mag_area = Signal_magnitude_area(X_list, Y_list, Z_list)\n",
    "\n",
    "                    #Maximum and Minimum values and their indexes\n",
    "                    max_x = max(X_list)\n",
    "                    #max_index_x = X_list.index(max_x)               \n",
    "                    min_x = min(X_list)\n",
    "                    #min_index_x = X_list.index(min_x)\n",
    "\n",
    "                    max_y = max(Y_list)\n",
    "                   #max_index_y = Y_list.index(max_y)              \n",
    "                    min_y = min(Y_list)\n",
    "                    #min_index_y = Y_list.index(min_y)               \n",
    "\n",
    "                    max_z = max(Z_list)\n",
    "                    #max_index_z = Z_list.index(max_z)             \n",
    "                    min_z = min(Z_list)\n",
    "                    #min_index_z = Z_list.index(min_z)\n",
    "\n",
    "\n",
    "                    #Power of X,Y and Z signals             \n",
    "                    power_x = Power(X_list)\n",
    "                    power_y = Power(Y_list)\n",
    "                    power_z = Power(Z_list)\n",
    "\n",
    "\n",
    "                    #Skewness and Kurtosis\n",
    "                    skew_x = skew(X_list)\n",
    "                    skew_y = skew(Y_list)\n",
    "                    skew_z = skew(Z_list)\n",
    "\n",
    "                    kurtosis_x = kurtosis(X_list)                \n",
    "                    kurtosis_y = kurtosis(Y_list)\n",
    "                    kurtosis_z = kurtosis(Z_list)\n",
    "\n",
    "\n",
    "                    #Entropy of the signals (Can experiment with different types of Entropy)\n",
    "                    entropy_x = ent.shannon_entropy(X_list)\n",
    "                    entropy_y = ent.shannon_entropy(Y_list)\n",
    "                    entropy_z = ent.shannon_entropy(Z_list)\n",
    "\n",
    "\n",
    "                    #Interquartile range of the signals\n",
    "                    iqr_x = iqr(X_list)\n",
    "                    iqr_y = iqr(Y_list)\n",
    "                    iqr_z = iqr(Z_list)\n",
    "\n",
    "\n",
    "                    #Cross Correlation \n",
    "                    corr_x_y = np.correlate(X_list, Y_list)[0]\n",
    "                    corr_y_z = np.correlate(Y_list, Z_list)[0]\n",
    "                    corr_x_z = np.correlate(X_list, Z_list)[0]\n",
    "\n",
    "\n",
    "                    \n",
    "                    #Pitch and Roll Information (for rotation)\n",
    "                    roll = []\n",
    "                    pitch = []\n",
    "                    for index in range(0,len(X_list)):                       \n",
    "                        roll.append(math.atan2(Y_list[index]/9.81, Z_list[index]/9.81) * 57.3)\n",
    "                        pitch.append(math.atan2(X_list[index]/9.81, Z_list[index]/9.81) * 57.3)\n",
    "                    \n",
    "                    #Mean of the roll and pitch\n",
    "                    mean_roll = np.mean(roll)\n",
    "                    mean_pitch = np.mean(pitch)\n",
    "                    \n",
    "                    #RMS of roll and pitch\n",
    "                    #rms_roll = np.sqrt(np.mean(roll**2))\n",
    "                    rms_roll = np.sqrt(np.mean([x**2 for x in roll]))\n",
    "                    rms_pitch = np.sqrt(np.mean([x**2 for x in pitch]))            \n",
    "                    #rms_pitch = np.sqrt(np.mean(pitch**2))\n",
    "                                      \n",
    "                    #Zero Crossing Rate for roll and pitch\n",
    "                    frame = roll\n",
    "                    count = len(frame)\n",
    "                    countZ = np.sum(np.abs(np.diff(np.sign(frame)))) / 2\n",
    "                    zcr_roll = np.float64(countZ) / np.float64(count-1.0)\n",
    "                    \n",
    "                    frame = pitch\n",
    "                    count = len(frame)\n",
    "                    countZ = np.sum(np.abs(np.diff(np.sign(frame)))) / 2\n",
    "                    zcr_pitch = np.float64(countZ) / np.float64(count-1.0)\n",
    "                    \n",
    "\n",
    "        # ****************** Frequency-Domain Features ************************* #\n",
    "\n",
    "\n",
    "                    coeff_X = np.fft.fft(X_list)\n",
    "                    coeff_Y = np.fft.fft(Y_list)\n",
    "                    coeff_Z = np.fft.fft(Z_list)\n",
    "\n",
    "\n",
    "                    #Normalized FFT coefficients\n",
    "                    fft_x = LA.norm(coeff_X)              \n",
    "                    fft_y = LA.norm(coeff_Y)   \n",
    "                    fft_z = LA.norm(coeff_Z)  \n",
    "\n",
    "\n",
    "                    #Energy in the frequency Domain\n",
    "                    Energy_x = sum(abs(coeff_X**2))/len(X_list)\n",
    "                    #sum(abs(coeff_X)**2)/len(x1)\n",
    "                    Energy_y = sum(abs(coeff_Y**2))/len(Y_list)\n",
    "                    Energy_z = sum(abs(coeff_Z**2))/len(Z_list)\n",
    "\n",
    "\n",
    "                    #Store the features\n",
    "                    window_feature = []\n",
    "                    window_feature.append(mean_x)\n",
    "                    window_feature.append(mean_y)\n",
    "                    window_feature.append(mean_z)\n",
    "\n",
    "                    window_feature.append(var_x)\n",
    "                    window_feature.append(var_y)\n",
    "                    window_feature.append(var_z)\n",
    "\n",
    "                    window_feature.append(median_x)\n",
    "                    window_feature.append(median_y)\n",
    "                    window_feature.append(median_z)\n",
    "\n",
    "                    window_feature.append(std_x)\n",
    "                    window_feature.append(std_y)\n",
    "                    window_feature.append(std_z)\n",
    "\n",
    "\n",
    "                    window_feature.append(signal_mag_area)\n",
    "\n",
    "                    window_feature.append(max_x)\n",
    "                    #window_feature.append(max_index_x)\n",
    "                    window_feature.append(min_x)\n",
    "                    #window_feature.append(min_index_x)\n",
    "\n",
    "                    window_feature.append(max_y)\n",
    "                    #window_feature.append(max_index_y)\n",
    "                    window_feature.append(min_y)\n",
    "                    #window_feature.append(min_index_y)\n",
    "\n",
    "                    window_feature.append(max_z)\n",
    "                    #window_feature.append(max_index_z)\n",
    "                    window_feature.append(min_z)\n",
    "                    #window_feature.append(min_index_z)\n",
    "\n",
    "                    window_feature.append(power_x)\n",
    "                    window_feature.append(power_y)\n",
    "                    window_feature.append(power_z)\n",
    "\n",
    "                    window_feature.append(skew_x)\n",
    "                    window_feature.append(kurtosis_x) \n",
    "\n",
    "                    window_feature.append(skew_y)\n",
    "                    window_feature.append(kurtosis_y) \n",
    "\n",
    "                    window_feature.append(skew_z)\n",
    "                    window_feature.append(kurtosis_z) \n",
    "\n",
    "                    window_feature.append(entropy_x)\n",
    "                    window_feature.append(entropy_y)\n",
    "                    window_feature.append(entropy_z)\n",
    "\n",
    "                    window_feature.append(iqr_x)\n",
    "                    window_feature.append(iqr_y)\n",
    "                    window_feature.append(iqr_z)\n",
    "\n",
    "                    window_feature.append(corr_x_y)\n",
    "                    window_feature.append(corr_y_z)\n",
    "                    window_feature.append(corr_x_z)\n",
    "                    \n",
    "                    window_feature.append(mean_roll)\n",
    "                    window_feature.append(mean_pitch)\n",
    "                    window_feature.append(rms_roll)\n",
    "                    window_feature.append(rms_pitch)\n",
    "                    \n",
    "                    window_feature.append(zcr_roll)\n",
    "                    window_feature.append(zcr_pitch)\n",
    "\n",
    "                    window_feature.append(fft_x)\n",
    "                    window_feature.append(fft_y)\n",
    "                    window_feature.append(fft_z)\n",
    "\n",
    "                    window_feature.append(Energy_x)\n",
    "                    window_feature.append(Energy_y)\n",
    "                    window_feature.append(Energy_z)\n",
    "\n",
    "                    #window_feature.append(num_peaks_x)\n",
    "                    #window_feature.append(num_peaks_y)\n",
    "                    #window_feature.append(num_peaks_z)\n",
    "\n",
    "                    #scale = preprocessing.minmax_scale(data, feature_range=(-0.5, 0.5))\n",
    "\n",
    "                    features.append(window_feature)\n",
    "\n",
    "                    #Store the label\n",
    "                    labels.append(label_map[df[5].iloc[1]])\n",
    "\n",
    "                #dfs_list.append(df)\n",
    "\n",
    "        #dfs = pd.concat(dfs_list)\n",
    "\n",
    "        if not ignore_pickle:\n",
    "\n",
    "            pickle.dump(features, open(\"pickles_split/accelerometer_features.pickle\", \"wb\"), protocol=2)\n",
    "            pickle.dump(labels, open(\"pickles_split/accelerometer_labels.pickle\", \"wb\"), protocol=2)\n",
    "            pickle.dump(dfs_list, open(\"pickles_split/accelerometer_dfs_list.pickle\", \"wb\"), protocol=2)\n",
    "\n",
    "    features = np.asarray(features)\n",
    "    labels = np.asarray(labels)\n",
    "    \n",
    "    return features, labels"
   ]
  },
  {
   "cell_type": "code",
   "execution_count": 4,
   "metadata": {
    "collapsed": true
   },
   "outputs": [],
   "source": [
    "def getModel(modelName, args):\n",
    "    \n",
    "    if modelName == 'LogisticRegression':\n",
    "        model = LogisticRegression(random_state=42)\n",
    "        \n",
    "    if modelName == 'SVC':\n",
    "        model = SVC(random_state=42, kernel=args[0], C=args[1], decision_function_shape=args[2])\n",
    "        \n",
    "    if modelName == 'DecisionTreeClassifier':\n",
    "        model = DecisionTreeClassifier(random_state=42, max_features=args[0], criterion=args[1])\n",
    "        \n",
    "    if modelName == 'RandomForestClassifier':\n",
    "        model = RandomForestClassifier(n_estimators=args[0], criterion=args[1], max_features=args[2], max_depth=args[3], oob_score=True, random_state=42)\n",
    "        \n",
    "    if modelName == 'MLPClassifier':\n",
    "        model = MLPClassifier(hidden_layer_sizes=args[0], activation=args[1], solver=args[2], random_state=42, max_iter=500)\n",
    "        \n",
    "    return model"
   ]
  },
  {
   "cell_type": "code",
   "execution_count": 5,
   "metadata": {
    "collapsed": true
   },
   "outputs": [],
   "source": [
    "\n",
    "def run_kfold(features, labels, num_splits, modelName, args=None, verbose=False):\n",
    "    \n",
    "    X = np.array(normalize(features))\n",
    "    y = np.array(labels)\n",
    "\n",
    "    kf = KFold(n_splits=num_splits, random_state=None, shuffle=True)\n",
    "    kf.get_n_splits(X)\n",
    "\n",
    "    foldAccuracy = list()\n",
    "    foldPrecision = list()\n",
    "    foldRecall = list()\n",
    "    bestModel = None\n",
    "    bestAccuracy = float(sys.maxsize) * (-1)\n",
    "\n",
    "    for train_index, test_index in kf.split(X):\n",
    "        X_train, X_test = X[train_index], X[test_index]\n",
    "        y_train, y_test = y[train_index], y[test_index]\n",
    "\n",
    "        model = getModel(modelName, args)\n",
    "\n",
    "        model.fit(X_train, y_train)\n",
    "\n",
    "        prediction = model.predict(X_test)\n",
    "\n",
    "        if verbose:\n",
    "            print(\"\\nFold: \", fold)\n",
    "            print(\"Confusion Matrix:\")\n",
    "            cm = metrics.confusion_matrix(yTest, prediction)\n",
    "            print(cm)\n",
    "            plt.matshow(cm, cmap = plt.cm.Oranges)\n",
    "            plt.title('Confusion matrix')\n",
    "            plt.colorbar()\n",
    "            plt.ylabel('True label')\n",
    "            plt.xlabel('Predicted label')\n",
    "            plt.show()\n",
    "\n",
    "        accuracy = metrics.accuracy_score(y_test, prediction)\n",
    "        precision = metrics.precision_score(y_test, prediction, average = None)\n",
    "        recall = metrics.recall_score(y_test, prediction, average = None)\n",
    "\n",
    "        foldAccuracy.append(accuracy)\n",
    "        foldPrecision.append(precision)\n",
    "        foldRecall.append(recall)\n",
    "        \n",
    "        if accuracy > bestAccuracy:\n",
    "            bestAccuracy = accuracy\n",
    "            bestModel = model\n",
    "                \n",
    "    print(\"\\nBest Accuracy: \", bestAccuracy)\n",
    "    \n",
    "    return bestModel, foldAccuracy, foldPrecision, foldRecall        "
   ]
  },
  {
   "cell_type": "code",
   "execution_count": 6,
   "metadata": {
    "collapsed": true
   },
   "outputs": [],
   "source": [
    "def plot_confusion_matrix(cm, classes,\n",
    "                          normalize=False,\n",
    "                          title='Confusion matrix',\n",
    "                          cmap=plt.cm.Blues):\n",
    "    \"\"\"\n",
    "    This function prints and plots the confusion matrix.\n",
    "    Normalization can be applied by setting `normalize=True`.\n",
    "    \"\"\"\n",
    "    if normalize:\n",
    "        cm = cm.astype('float') / cm.sum(axis=1)[:, np.newaxis]\n",
    "        print(\"Normalized confusion matrix\")\n",
    "    else:\n",
    "        print('Confusion matrix, without normalization')\n",
    "\n",
    "    print(cm)\n",
    "\n",
    "    plt.imshow(cm, interpolation='nearest', cmap=cmap)\n",
    "    plt.title(title)\n",
    "    plt.colorbar()\n",
    "    tick_marks = np.arange(len(classes))\n",
    "    plt.xticks(tick_marks, classes, rotation=45)\n",
    "    plt.yticks(tick_marks, classes)\n",
    "\n",
    "    fmt = '.2f' if normalize else 'd'\n",
    "    thresh = cm.max() / 2.\n",
    "    for i, j in itertools.product(range(cm.shape[0]), range(cm.shape[1])):\n",
    "        plt.text(j, i, format(cm[i, j], fmt),\n",
    "                 horizontalalignment=\"center\",\n",
    "                 color=\"white\" if cm[i, j] > thresh else \"black\")\n",
    "\n",
    "    plt.tight_layout()\n",
    "    plt.ylabel('True label')\n",
    "    plt.xlabel('Predicted label')\n",
    "    \n",
    "    plt.show()"
   ]
  },
  {
   "cell_type": "code",
   "execution_count": 7,
   "metadata": {
    "collapsed": true
   },
   "outputs": [],
   "source": [
    "from sklearn.metrics import confusion_matrix\n",
    "import itertools\n",
    "#from xgboost import XGBClassifier\n",
    "from collections import Counter\n",
    "def module_1(features,labels, test_features,test_labels):\n",
    "    print(features.shape)\n",
    "    #print(labels.shape)\n",
    "\n",
    "    le = preprocessing.LabelEncoder()\n",
    "    scaler = preprocessing.StandardScaler()\n",
    "    #X = scaler.fit_transform(features)\n",
    "    X = features\n",
    "    #X = np.array(preprocessing.scale(features))\n",
    "    y = labels\n",
    "\n",
    "    X_train, X_test, y_train, y_test = train_test_split(X, y, test_size=0.1, random_state=42)\n",
    "\n",
    "    #model = LogisticRegression(penalty='l1')\n",
    "    #model = MLPClassifier(hidden_layer_sizes=(50,100), activation='tanh', solver='lbfgs', random_state=42, max_iter=500)\n",
    "    model = DecisionTreeClassifier(random_state=42, max_features=25, criterion='gini')\n",
    "    #model = XGBClassifier()\n",
    "    #model = RandomForestClassifier(n_estimators=40, criterion='gini', max_features=10, max_depth=15,random_state=42)\n",
    "    model.fit(X_train, y_train)\n",
    "\n",
    "\n",
    "    X = X_test\n",
    "    y = y_test\n",
    "    prediction = model.predict(X)\n",
    "    accuracy = metrics.accuracy_score(y, prediction)\n",
    "    precision = metrics.precision_score(y, prediction, average = None)\n",
    "    print(accuracy)\n",
    "    print(precision)\n",
    "    cnf_matrix = confusion_matrix(y,prediction)\n",
    "    plot_confusion_matrix(cnf_matrix, classes=np.unique(y),\n",
    "                          title='Confusion matrix, without normalization')\n",
    "\n",
    "    X = features\n",
    "    y = labels\n",
    "    model.fit(X, y)\n",
    "    \n",
    "    X = test_features\n",
    "    y = (test_labels)\n",
    "\n",
    "    #X = X_test\n",
    "    #y = y_test\n",
    "\n",
    "    #print(X.shape)\n",
    "    #print(y.shape)\n",
    "\n",
    "    prediction_test = model.predict(X)\n",
    "\n",
    "   # accuracy = metrics.accuracy_score(y, prediction_test)\n",
    "   # precision = metrics.precision_score(y, prediction_test, average = None)\n",
    "    # recall = metrics.recall_score(y_test, prediction, average = None)\n",
    "    print(accuracy)\n",
    "    print(precision)\n",
    "    print(Counter(prediction_test))\n",
    "    cnf_matrix = confusion_matrix(y,prediction_test)\n",
    "    plot_confusion_matrix(cnf_matrix, classes=np.unique(y),\n",
    "                           title='Confusion matrix, without normalization')\n",
    "    print(len(prediction),len(prediction_test))\n",
    "    return prediction_test\n",
    "    "
   ]
  },
  {
   "cell_type": "code",
   "execution_count": 8,
   "metadata": {},
   "outputs": [
    {
     "name": "stdout",
     "output_type": "stream",
     "text": [
      "('Window_size, Window_jump_steps: ', 1000, 500)\n",
      "Found pickle files for accelerometer\n",
      "('Window_size, Window_jump_steps: ', 1000, 500)\n",
      "test3/0_1_android.sensor.accelerometer.data.csv\n",
      "('Before trimming: ', (50530, 6))\n",
      "('After trimming: ', (45531, 6))\n",
      "test3/0_4_android.sensor.gyroscope.data.csv\n",
      "('Skip ', 'test3/0_4_android.sensor.gyroscope.data.csv')\n",
      "test3/10_1_android.sensor.accelerometer.data.csv\n",
      "('Before trimming: ', (60055, 6))\n",
      "('After trimming: ', (55056, 6))\n",
      "test3/10_4_android.sensor.gyroscope.data.csv\n",
      "('Skip ', 'test3/10_4_android.sensor.gyroscope.data.csv')\n",
      "test3/11_1_android.sensor.accelerometer.data.csv\n",
      "('Before trimming: ', (49816, 6))\n",
      "('After trimming: ', (44817, 6))\n",
      "test3/11_4_android.sensor.gyroscope.data.csv\n",
      "('Skip ', 'test3/11_4_android.sensor.gyroscope.data.csv')\n",
      "test3/12_1_android.sensor.accelerometer.data.csv\n",
      "('Before trimming: ', (60027, 6))\n",
      "('After trimming: ', (55028, 6))\n",
      "test3/12_4_android.sensor.gyroscope.data.csv\n",
      "('Skip ', 'test3/12_4_android.sensor.gyroscope.data.csv')\n",
      "test3/13_1_android.sensor.accelerometer.data.csv\n",
      "('Before trimming: ', (56395, 6))\n",
      "('After trimming: ', (51396, 6))\n",
      "test3/13_4_android.sensor.gyroscope.data.csv\n",
      "('Skip ', 'test3/13_4_android.sensor.gyroscope.data.csv')\n",
      "test3/14_1_android.sensor.accelerometer.data.csv\n",
      "('Before trimming: ', (60088, 6))\n",
      "('After trimming: ', (55089, 6))\n",
      "test3/14_4_android.sensor.gyroscope.data.csv\n",
      "('Skip ', 'test3/14_4_android.sensor.gyroscope.data.csv')\n",
      "test3/15_1_android.sensor.accelerometer.data.csv\n",
      "('Before trimming: ', (44307, 6))\n",
      "('After trimming: ', (39308, 6))\n",
      "test3/15_4_android.sensor.gyroscope.data.csv\n",
      "('Skip ', 'test3/15_4_android.sensor.gyroscope.data.csv')\n",
      "test3/16_1_android.sensor.accelerometer.data.csv\n",
      "('Before trimming: ', (59987, 6))\n",
      "('After trimming: ', (54988, 6))\n",
      "test3/16_4_android.sensor.gyroscope.data.csv\n",
      "('Skip ', 'test3/16_4_android.sensor.gyroscope.data.csv')\n",
      "test3/17_1_android.sensor.accelerometer.data.csv\n",
      "('Before trimming: ', (182419, 6))\n",
      "('After trimming: ', (177420, 6))\n",
      "test3/17_4_android.sensor.gyroscope.data.csv\n",
      "('Skip ', 'test3/17_4_android.sensor.gyroscope.data.csv')\n",
      "test3/18_1_android.sensor.accelerometer.data.csv\n",
      "('Before trimming: ', (84054, 6))\n",
      "('After trimming: ', (79055, 6))\n",
      "test3/18_4_android.sensor.gyroscope.data.csv\n",
      "('Skip ', 'test3/18_4_android.sensor.gyroscope.data.csv')\n",
      "test3/19_1_android.sensor.accelerometer.data.csv\n",
      "('Before trimming: ', (67482, 6))\n",
      "('After trimming: ', (62483, 6))\n",
      "test3/19_4_android.sensor.gyroscope.data.csv\n",
      "('Skip ', 'test3/19_4_android.sensor.gyroscope.data.csv')\n",
      "test3/1_1_android.sensor.accelerometer.data.csv\n",
      "('Before trimming: ', (73952, 6))\n",
      "('After trimming: ', (68953, 6))\n",
      "test3/1_4_android.sensor.gyroscope.data.csv\n",
      "('Skip ', 'test3/1_4_android.sensor.gyroscope.data.csv')\n",
      "test3/20_1_android.sensor.accelerometer.data.csv\n",
      "('Before trimming: ', (77573, 6))\n",
      "('After trimming: ', (72574, 6))\n",
      "test3/20_4_android.sensor.gyroscope.data.csv\n",
      "('Skip ', 'test3/20_4_android.sensor.gyroscope.data.csv')\n",
      "test3/21_1_android.sensor.accelerometer.data.csv\n",
      "('Before trimming: ', (72875, 6))\n",
      "('After trimming: ', (67876, 6))\n",
      "test3/21_4_android.sensor.gyroscope.data.csv\n",
      "('Skip ', 'test3/21_4_android.sensor.gyroscope.data.csv')\n",
      "test3/2_1_android.sensor.accelerometer.data.csv\n",
      "('Before trimming: ', (49689, 6))\n",
      "('After trimming: ', (44690, 6))\n",
      "test3/2_4_android.sensor.gyroscope.data.csv\n",
      "('Skip ', 'test3/2_4_android.sensor.gyroscope.data.csv')\n",
      "test3/3_1_android.sensor.accelerometer.data.csv\n",
      "('Before trimming: ', (46894, 6))\n",
      "('After trimming: ', (41895, 6))\n",
      "test3/3_4_android.sensor.gyroscope.data.csv\n",
      "('Skip ', 'test3/3_4_android.sensor.gyroscope.data.csv')\n",
      "test3/4_1_android.sensor.accelerometer.data.csv\n",
      "('Before trimming: ', (5861, 6))\n",
      "Continuing\n",
      "test3/4_4_android.sensor.gyroscope.data.csv\n",
      "('Skip ', 'test3/4_4_android.sensor.gyroscope.data.csv')\n",
      "test3/5_1_android.sensor.accelerometer.data.csv\n",
      "('Before trimming: ', (59648, 6))\n",
      "('After trimming: ', (54649, 6))\n",
      "test3/5_4_android.sensor.gyroscope.data.csv\n",
      "('Skip ', 'test3/5_4_android.sensor.gyroscope.data.csv')\n",
      "test3/6_1_android.sensor.accelerometer.data.csv\n",
      "('Before trimming: ', (59888, 6))\n",
      "('After trimming: ', (54889, 6))\n",
      "test3/6_4_android.sensor.gyroscope.data.csv\n",
      "('Skip ', 'test3/6_4_android.sensor.gyroscope.data.csv')\n",
      "test3/7_1_android.sensor.accelerometer.data.csv\n",
      "('Before trimming: ', (59688, 6))\n",
      "('After trimming: ', (54689, 6))\n",
      "test3/7_4_android.sensor.gyroscope.data.csv\n",
      "('Skip ', 'test3/7_4_android.sensor.gyroscope.data.csv')\n",
      "test3/8_1_android.sensor.accelerometer.data.csv\n",
      "('Before trimming: ', (60167, 6))\n",
      "('After trimming: ', (55168, 6))\n",
      "test3/8_4_android.sensor.gyroscope.data.csv\n",
      "('Skip ', 'test3/8_4_android.sensor.gyroscope.data.csv')\n",
      "test3/9_1_android.sensor.accelerometer.data.csv\n",
      "('Before trimming: ', (59888, 6))\n",
      "('After trimming: ', (54889, 6))\n",
      "test3/9_4_android.sensor.gyroscope.data.csv\n",
      "('Skip ', 'test3/9_4_android.sensor.gyroscope.data.csv')\n",
      "(11732, 49)\n",
      "(2549, 49)\n"
     ]
    }
   ],
   "source": [
    "train = True\n",
    "test = True\n",
    "\n",
    "test_dir = 'test3'\n",
    "train_dir = 'data_3_8_2018'\n",
    "\n",
    "if train:\n",
    "    features = []\n",
    "    labels = []\n",
    "    features, labels = compute_accelerometer(train_dir, ignore_pickle=False)\n",
    "    \n",
    "if test:\n",
    "    test_features = []\n",
    "    test_labels = [] \n",
    "    test_features, test_labels = compute_accelerometer(test_dir,  ignore_pickle=True)\n",
    "\n",
    "print features.shape\n",
    "print test_features.shape"
   ]
  },
  {
   "cell_type": "code",
   "execution_count": 9,
   "metadata": {
    "scrolled": true
   },
   "outputs": [
    {
     "name": "stdout",
     "output_type": "stream",
     "text": [
      "[0 1 2 3]\n",
      "[0 1 2 3]\n",
      "Counter({0: 3148, 1: 3004, 2: 2842, 3: 2738})\n",
      "Counter({2: 970, 1: 957, 0: 329, 3: 293})\n"
     ]
    }
   ],
   "source": [
    "print(np.unique(labels))\n",
    "print(np.unique(test_labels))\n",
    "print(Counter(labels))\n",
    "print(Counter(test_labels))"
   ]
  },
  {
   "cell_type": "code",
   "execution_count": 10,
   "metadata": {
    "collapsed": true
   },
   "outputs": [],
   "source": [
    "labels_mod1 = [4 if not x==0 else 0 for x in labels]\n",
    "test_labels_mod1 = [4 if not x==0 else 0 for x in test_labels]"
   ]
  },
  {
   "cell_type": "code",
   "execution_count": 11,
   "metadata": {},
   "outputs": [
    {
     "name": "stdout",
     "output_type": "stream",
     "text": [
      "[0 4]\n",
      "[0 4]\n"
     ]
    }
   ],
   "source": [
    "print(np.unique(labels_mod1))\n",
    "print(np.unique(test_labels_mod1))\n"
   ]
  },
  {
   "cell_type": "code",
   "execution_count": 12,
   "metadata": {},
   "outputs": [
    {
     "name": "stdout",
     "output_type": "stream",
     "text": [
      "(11732, 49)\n",
      "0.979557069847\n",
      "[ 0.96529968  0.98483081]\n",
      "Confusion matrix, without normalization\n",
      "[[306  13]\n",
      " [ 11 844]]\n"
     ]
    },
    {
     "data": {
      "image/png": "[encoded data removed]",
      "text/plain": [
       "<Figure size 432x288 with 2 Axes>"
      ]
     },
     "metadata": {},
     "output_type": "display_data"
    },
    {
     "name": "stdout",
     "output_type": "stream",
     "text": [
      "0.979557069847\n",
      "[ 0.96529968  0.98483081]\n",
      "Counter({4: 2165, 0: 384})\n",
      "Confusion matrix, without normalization\n",
      "[[ 291   38]\n",
      " [  93 2127]]\n"
     ]
    },
    {
     "data": {
      "image/png": "[encoded data removed]",
      "text/plain": [
       "<Figure size 432x288 with 2 Axes>"
      ]
     },
     "metadata": {},
     "output_type": "display_data"
    },
    {
     "name": "stdout",
     "output_type": "stream",
     "text": [
      "(1174, 2549)\n"
     ]
    }
   ],
   "source": [
    "prediction_test_mod1 = module_1(features,labels_mod1, test_features,test_labels_mod1)"
   ]
  },
  {
   "cell_type": "code",
   "execution_count": 14,
   "metadata": {},
   "outputs": [
    {
     "name": "stdout",
     "output_type": "stream",
     "text": [
      "Counter({4: 2165, 0: 384})\n"
     ]
    }
   ],
   "source": [
    "print(Counter(prediction_test_mod1))"
   ]
  },
  {
   "cell_type": "code",
   "execution_count": 15,
   "metadata": {
    "collapsed": true
   },
   "outputs": [],
   "source": [
    "def get_bool_filter(lst, bools):\n",
    "    nl = []\n",
    "    for i,j in zip(lst,bools):\n",
    "        if(j):\n",
    "            nl.append(i)\n",
    "    return nl"
   ]
  },
  {
   "cell_type": "code",
   "execution_count": 16,
   "metadata": {},
   "outputs": [
    {
     "name": "stdout",
     "output_type": "stream",
     "text": [
      "(Counter({True: 8584, False: 3148}), Counter({True: 2165, False: 384}))\n"
     ]
    }
   ],
   "source": [
    "bool_mod1 = [False if x==0 else True for x in labels]\n",
    "test_bool_mod1 = [False if x==0 else True for x in prediction_test_mod1]\n",
    "print(Counter(bool_mod1),Counter(test_bool_mod1))"
   ]
  },
  {
   "cell_type": "code",
   "execution_count": 17,
   "metadata": {
    "collapsed": true
   },
   "outputs": [],
   "source": [
    "labels_mod2 = get_bool_filter(labels, bool_mod1)\n",
    "test_labels_mod2 = get_bool_filter(test_labels, test_bool_mod1)"
   ]
  },
  {
   "cell_type": "code",
   "execution_count": 18,
   "metadata": {},
   "outputs": [
    {
     "name": "stdout",
     "output_type": "stream",
     "text": [
      "(Counter({1: 3004, 2: 2842, 3: 2738}), Counter({2: 940, 1: 922, 3: 265, 0: 38}))\n"
     ]
    }
   ],
   "source": [
    "print(Counter(labels_mod2),Counter(test_labels_mod2))"
   ]
  },
  {
   "cell_type": "code",
   "execution_count": 19,
   "metadata": {
    "collapsed": true
   },
   "outputs": [],
   "source": [
    "features_mod2 = np.asarray(get_bool_filter(features,bool_mod1))\n",
    "test_features_mod2 = np.asarray(get_bool_filter(test_features,test_bool_mod1))"
   ]
  },
  {
   "cell_type": "code",
   "execution_count": 20,
   "metadata": {},
   "outputs": [
    {
     "name": "stdout",
     "output_type": "stream",
     "text": [
      "(8584, 49)\n",
      "0.895227008149\n",
      "[ 0.93728223  0.85234899  0.89781022]\n",
      "Confusion matrix, without normalization\n",
      "[[269  13   4]\n",
      " [  9 254  24]\n",
      " [  9  31 246]]\n"
     ]
    },
    {
     "data": {
      "image/png": "[encoded data removed]",
      "text/plain": [
       "<Figure size 432x288 with 2 Axes>"
      ]
     },
     "metadata": {},
     "output_type": "display_data"
    },
    {
     "name": "stdout",
     "output_type": "stream",
     "text": [
      "0.895227008149\n",
      "[ 0.93728223  0.85234899  0.89781022]\n",
      "Counter({2: 959, 1: 687, 3: 519})\n",
      "Confusion matrix, without normalization\n",
      "[[  0   3  12  23]\n",
      " [  0 491 351  80]\n",
      " [  0 181 484 275]\n",
      " [  0  12 112 141]]\n"
     ]
    },
    {
     "data": {
      "image/png": "[encoded data removed]",
      "text/plain": [
       "<Figure size 432x288 with 2 Axes>"
      ]
     },
     "metadata": {},
     "output_type": "display_data"
    },
    {
     "name": "stdout",
     "output_type": "stream",
     "text": [
      "(859, 2165)\n"
     ]
    }
   ],
   "source": [
    "prediction_test_mod2 = module_1(features_mod2,labels_mod2, test_features_mod2,test_labels_mod2)"
   ]
  },
  {
   "cell_type": "code",
   "execution_count": 21,
   "metadata": {},
   "outputs": [
    {
     "name": "stdout",
     "output_type": "stream",
     "text": [
      "Counter({2: 959, 1: 687, 3: 519})\n"
     ]
    }
   ],
   "source": [
    "print(Counter(prediction_test_mod2))"
   ]
  },
  {
   "cell_type": "code",
   "execution_count": 22,
   "metadata": {},
   "outputs": [
    {
     "name": "stdout",
     "output_type": "stream",
     "text": [
      "2549\n",
      "2549\n"
     ]
    }
   ],
   "source": [
    "total_pred = []\n",
    "i = 0\n",
    "j=0\n",
    "for x in range(len(test_labels)):\n",
    "    if(prediction_test_mod1[x] == 0):\n",
    "        total_pred.append(0)\n",
    "    else:\n",
    "        total_pred.append(prediction_test_mod2[j])\n",
    "        j+=1\n",
    "print(len(test_labels))\n",
    "print(len(total_pred))"
   ]
  },
  {
   "cell_type": "code",
   "execution_count": 23,
   "metadata": {
    "collapsed": true
   },
   "outputs": [],
   "source": [
    "accuracy = metrics.accuracy_score(test_labels,total_pred)\n",
    "precision = metrics.precision_score(test_labels,total_pred, average = None)\n",
    "    "
   ]
  },
  {
   "cell_type": "code",
   "execution_count": 24,
   "metadata": {},
   "outputs": [
    {
     "name": "stdout",
     "output_type": "stream",
     "text": [
      "(0.55198116908591599, array([ 0.7578125 ,  0.7147016 ,  0.50469239,  0.2716763 ]))\n"
     ]
    }
   ],
   "source": [
    "print(accuracy,precision)"
   ]
  },
  {
   "cell_type": "code",
   "execution_count": 78,
   "metadata": {},
   "outputs": [
    {
     "name": "stdout",
     "output_type": "stream",
     "text": [
      "Confusion matrix, without normalization\n",
      "[[  0   0   0]\n",
      " [101 180  72]\n",
      " [  0   0   0]]\n"
     ]
    },
    {
     "data": {
      "image/png": "[encoded data removed]",
      "text/plain": [
       "<Figure size 432x288 with 2 Axes>"
      ]
     },
     "metadata": {},
     "output_type": "display_data"
    }
   ],
   "source": [
    "cnf_matrix = confusion_matrix(test_labels,total_pred)\n",
    "plot_confusion_matrix(cnf_matrix, classes=np.unique(test_labels),\n",
    "                           title='Confusion matrix, without normalization')"
   ]
  },
  {
   "cell_type": "code",
   "execution_count": 51,
   "metadata": {},
   "outputs": [
    {
     "name": "stdout",
     "output_type": "stream",
     "text": [
      "[0 1 2 3]\n"
     ]
    },
    {
     "data": {
      "text/plain": [
       "(array([ 3148.,     0.,     0.,  3004.,     0.,     0.,  2842.,     0.,\n",
       "            0.,  2738.]),\n",
       " array([ 0. ,  0.3,  0.6,  0.9,  1.2,  1.5,  1.8,  2.1,  2.4,  2.7,  3. ]),\n",
       " <a list of 10 Patch objects>)"
      ]
     },
     "execution_count": 51,
     "metadata": {},
     "output_type": "execute_result"
    },
    {
     "data": {
      "image/png": "[encoded data removed]",
      "text/plain": [
       "<Figure size 432x288 with 1 Axes>"
      ]
     },
     "metadata": {},
     "output_type": "display_data"
    }
   ],
   "source": [
    "le = preprocessing.LabelEncoder()\n",
    "y = le.fit_transform(labels)\n",
    "print(le.classes_)\n",
    "plt.hist(y)"
   ]
  },
  {
   "cell_type": "code",
   "execution_count": null,
   "metadata": {
    "collapsed": true
   },
   "outputs": [],
   "source": []
  },
  {
   "cell_type": "code",
   "execution_count": null,
   "metadata": {
    "collapsed": true
   },
   "outputs": [],
   "source": []
  },
  {
   "cell_type": "code",
   "execution_count": null,
   "metadata": {
    "collapsed": true
   },
   "outputs": [],
   "source": []
  },
  {
   "cell_type": "code",
   "execution_count": null,
   "metadata": {
    "collapsed": true
   },
   "outputs": [],
   "source": []
  }
 ],
 "metadata": {
  "kernelspec": {
   "display_name": "Python 2",
   "language": "python",
   "name": "python2"
  },
  "language_info": {
   "codemirror_mode": {
    "name": "ipython",
    "version": 2
   },
   "file_extension": ".py",
   "mimetype": "text/x-python",
   "name": "python",
   "nbconvert_exporter": "python",
   "pygments_lexer": "ipython2",
   "version": "2.7.14"
  }
 },
 "nbformat": 4,
 "nbformat_minor": 2
}
